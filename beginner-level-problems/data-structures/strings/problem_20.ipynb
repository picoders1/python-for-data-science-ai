{
 "cells": [
  {
   "cell_type": "markdown",
   "id": "8a36d3b1-1a8d-478e-8060-6477472e6bd4",
   "metadata": {},
   "source": [
    "# **Problem Statement**  \n",
    "## **20. Write a function to check if a string can be rearranged into a palindrome**"
   ]
  },
  {
   "cell_type": "markdown",
   "id": "12b96244-784f-44f1-b72a-e69e054e8b67",
   "metadata": {},
   "source": [
    "### Identify Constraints & Example Inputs/Outputs\n",
    "\n",
    "Constraints:\n",
    "\n",
    "- The input string can contain lowercase or uppercase characters.\n",
    "- Ignore spaces and special characters only if specified.\n",
    "- Case-sensitive unless told otherwise.\n",
    "\n",
    "---\n",
    "Example1: Input: \"civic\"  \n",
    "\n",
    "Output: True  # already a palindrome\n",
    "\n",
    "---\n",
    "Example2: Input: \"ivicc\"\n",
    "\n",
    "Output: True  # can be rearranged to \"civic\"\n",
    "\n",
    "---\n",
    "Example3: Input: \"hello\"\n",
    "\n",
    "Output: False\n",
    "\n",
    "---\n",
    "Example4: Input: \"aabbccdde\"\n",
    "\n",
    "Output: True  # can form \"abcdeedcba\"\n",
    "\n",
    "---"
   ]
  },
  {
   "cell_type": "markdown",
   "id": "b68e7cad-ea42-4bb3-a20e-a91cba6d7424",
   "metadata": {},
   "source": [
    "### Solution Approach"
   ]
  },
  {
   "cell_type": "markdown",
   "id": "144b599f-addb-4686-8425-1f6e6f862acd",
   "metadata": {},
   "source": [
    "Step1: A palindrome reads the same forward and backward.\n",
    "\n",
    "Step2: For a string to be rearranged into a palindrome:\n",
    "- All characters must occur even number of times except at most one.\n",
    "- That \"one\" can be placed in the middle (odd-length palindrome).\n",
    "\n",
    "Step3: So, we count character frequencies and check how many have odd occurrences.\n",
    "- If more than 1 → Not possible.\n",
    "- Otherwise → Possible.\n"
   ]
  },
  {
   "cell_type": "markdown",
   "id": "be931aed-e6ac-4398-a9cc-cd43c98ed91b",
   "metadata": {},
   "source": [
    "### Solution Code"
   ]
  },
  {
   "cell_type": "code",
   "execution_count": 1,
   "id": "57cab10a-c58c-459b-b504-16dc7ee1d0ac",
   "metadata": {},
   "outputs": [],
   "source": [
    "# Approach1: Brute Force Approach: Generate all permutations\n",
    "from itertools import permutations\n",
    "\n",
    "def can_form_palindrome_brute(s):\n",
    "    for perm in set(permutations(s)):\n",
    "        if perm == perm[::-1]:\n",
    "            return True\n",
    "    return False"
   ]
  },
  {
   "cell_type": "code",
   "execution_count": 2,
   "id": "c6b73b1c-518d-4265-925c-8c271c2045f7",
   "metadata": {},
   "outputs": [
    {
     "name": "stdout",
     "output_type": "stream",
     "text": [
      "True\n",
      "False\n"
     ]
    }
   ],
   "source": [
    "# Warning: Inefficient for long strings\n",
    "print(can_form_palindrome_brute(\"ivicc\"))  # True\n",
    "print(can_form_palindrome_brute(\"hello\"))  # False"
   ]
  },
  {
   "cell_type": "markdown",
   "id": "9febed86-bc77-49f3-aa50-7adfe033688a",
   "metadata": {},
   "source": [
    "### Alternative Solution1"
   ]
  },
  {
   "cell_type": "code",
   "execution_count": 3,
   "id": "0efc9774-33f6-41e2-8cd0-7cbeae985cfe",
   "metadata": {},
   "outputs": [],
   "source": [
    "# Approach2: Optimized Approach: Using frequency count\n",
    "from collections import Counter\n",
    "\n",
    "def can_form_palindrome_optimized(s):\n",
    "    freq = Counter(s)\n",
    "    odd_count = sum(1 for count in freq.values() if count % 2 != 0)\n",
    "    return odd_count <= 1"
   ]
  },
  {
   "cell_type": "code",
   "execution_count": 4,
   "id": "705534f5-d328-4908-a080-2c38b82af4f6",
   "metadata": {},
   "outputs": [
    {
     "name": "stdout",
     "output_type": "stream",
     "text": [
      "True\n",
      "False\n"
     ]
    }
   ],
   "source": [
    "# Test cases\n",
    "print(can_form_palindrome_optimized(\"ivicc\"))  # True\n",
    "print(can_form_palindrome_optimized(\"hello\"))  # False"
   ]
  },
  {
   "cell_type": "markdown",
   "id": "3a6b9635-e779-4015-8c0a-877462fe95b2",
   "metadata": {},
   "source": [
    "### Alternative Solution2"
   ]
  },
  {
   "cell_type": "code",
   "execution_count": 5,
   "id": "9066ebd5-2e37-48c3-93d8-89b43c1dfc83",
   "metadata": {},
   "outputs": [],
   "source": [
    "# Approach3: Using Set-based fast trick\n",
    "def can_form_palindrome_set_approach(s):\n",
    "    char_set = set()\n",
    "    for char in s:\n",
    "        if char in char_set:\n",
    "            char_set.remove(char)\n",
    "        else:\n",
    "            char_set.add(char)\n",
    "    return len(char_set) <= 1"
   ]
  },
  {
   "cell_type": "code",
   "execution_count": 6,
   "id": "f7f74eda-8f87-4d87-87d9-4a97bbf2a5eb",
   "metadata": {},
   "outputs": [
    {
     "name": "stdout",
     "output_type": "stream",
     "text": [
      "True\n"
     ]
    }
   ],
   "source": [
    "# Test cases\n",
    "print(can_form_palindrome_set_approach(\"carrace\"))  # True"
   ]
  },
  {
   "cell_type": "markdown",
   "id": "462318bf-672f-4468-9122-070cf70b5af5",
   "metadata": {},
   "source": [
    "## Complexity Analysis"
   ]
  },
  {
   "cell_type": "markdown",
   "id": "3ff61a2e-affa-44cc-b483-573f9dc9b166",
   "metadata": {},
   "source": [
    "Time Complexity:\n",
    "\n",
    "- Brute Force (Permutations): O(n!)\n",
    "- Optimized (Counter/Set): O(n)\n",
    " \n",
    "Space Complexity:\n",
    "\n",
    "- Brute Force (Permutations): O(n)\n",
    "- Optimized (Counter/Set): O(n)"
   ]
  },
  {
   "cell_type": "markdown",
   "id": "54ae9b22-a3fd-4d97-807c-9deb388d03b1",
   "metadata": {},
   "source": [
    "#### Thank You!!"
   ]
  }
 ],
 "metadata": {
  "kernelspec": {
   "display_name": "Python 3 (ipykernel)",
   "language": "python",
   "name": "python3"
  },
  "language_info": {
   "codemirror_mode": {
    "name": "ipython",
    "version": 3
   },
   "file_extension": ".py",
   "mimetype": "text/x-python",
   "name": "python",
   "nbconvert_exporter": "python",
   "pygments_lexer": "ipython3",
   "version": "3.8.10"
  }
 },
 "nbformat": 4,
 "nbformat_minor": 5
}
