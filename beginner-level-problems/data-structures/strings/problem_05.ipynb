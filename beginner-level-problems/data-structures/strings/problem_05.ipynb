{
 "cells": [
  {
   "cell_type": "markdown",
   "id": "8a36d3b1-1a8d-478e-8060-6477472e6bd4",
   "metadata": {},
   "source": [
    "# **Problem Statement**  \n",
    "## **5. Write a Python function to check if a string is a valid email address**"
   ]
  },
  {
   "cell_type": "markdown",
   "id": "12b96244-784f-44f1-b72a-e69e054e8b67",
   "metadata": {},
   "source": [
    "### Identify Constraints & Example Inputs/Outputs\n",
    "\n",
    "Constraints:\n",
    "\n",
    "- A valid email must have:\n",
    "    - A local part (username) before @\n",
    "    - An @ symbol\n",
    "    - A domain name and a valid domain extension (e.g., .com, .org)\n",
    "- Only ASCII characters are considered.\n",
    "\n",
    "\n",
    "---\n",
    "Example1: Input: \"john.doe@example.com\"  \n",
    "\n",
    "Output: True\n",
    "\n",
    "---\n",
    "Example2: Input: \"john.doe@com\"\n",
    "\n",
    "Output: False\n",
    "\n",
    "---"
   ]
  },
  {
   "cell_type": "markdown",
   "id": "b68e7cad-ea42-4bb3-a20e-a91cba6d7424",
   "metadata": {},
   "source": [
    "### Solution Approach"
   ]
  },
  {
   "cell_type": "markdown",
   "id": "144b599f-addb-4686-8425-1f6e6f862acd",
   "metadata": {},
   "source": [
    "Step1: A valid email follows the pattern: username@domain.extension.\n",
    "\n",
    "Step2: The username can have letters, digits, underscores, dots, and hyphens.\n",
    "\n",
    "Step3: The domain must be alphanumeric and may contain hyphens.\n",
    "\n",
    "Step4: The extension should be 2–6 alphabetic characters.\n",
    "\n",
    "Step5: To check this, we can:\n",
    "- Use regex for pattern matching (most reliable and readable)\n",
    "- Optionally use string methods (brute force)"
   ]
  },
  {
   "cell_type": "markdown",
   "id": "be931aed-e6ac-4398-a9cc-cd43c98ed91b",
   "metadata": {},
   "source": [
    "### Solution Code"
   ]
  },
  {
   "cell_type": "code",
   "execution_count": 1,
   "id": "57cab10a-c58c-459b-b504-16dc7ee1d0ac",
   "metadata": {},
   "outputs": [],
   "source": [
    "# Approach1: Brute Force Approach: Without Regex\n",
    "def is_valid_email_brute(email):\n",
    "    if \"@\" not in email or email.count(\"@\") != 1:\n",
    "        return False\n",
    "    local, domain = email.split(\"@\")\n",
    "    if \".\" not in domain:\n",
    "        return False\n",
    "    if not local or not domain:\n",
    "        return False\n",
    "    if not domain.split(\".\")[-1].isalpha():\n",
    "        return False\n",
    "    return True"
   ]
  },
  {
   "cell_type": "code",
   "execution_count": 2,
   "id": "c6b73b1c-518d-4265-925c-8c271c2045f7",
   "metadata": {},
   "outputs": [
    {
     "name": "stdout",
     "output_type": "stream",
     "text": [
      "True\n",
      "False\n"
     ]
    }
   ],
   "source": [
    "# Test cases\n",
    "print(is_valid_email_brute(\"john.doe@example.com\"))  # True\n",
    "print(is_valid_email_brute(\"john.doe@com\"))          # False"
   ]
  },
  {
   "cell_type": "markdown",
   "id": "9febed86-bc77-49f3-aa50-7adfe033688a",
   "metadata": {},
   "source": [
    "### Alternative Solution1"
   ]
  },
  {
   "cell_type": "code",
   "execution_count": 3,
   "id": "0efc9774-33f6-41e2-8cd0-7cbeae985cfe",
   "metadata": {},
   "outputs": [],
   "source": [
    "# Approach2: Optimized Approach: Using Regex\n",
    "import re\n",
    "\n",
    "def is_valid_email_regex(email):\n",
    "    pattern = r\"^[\\w\\.-]+@[\\w\\.-]+\\.[a-zA-Z]{2,6}$\"\n",
    "    return re.match(pattern, email) is not None"
   ]
  },
  {
   "cell_type": "code",
   "execution_count": 4,
   "id": "705534f5-d328-4908-a080-2c38b82af4f6",
   "metadata": {},
   "outputs": [
    {
     "name": "stdout",
     "output_type": "stream",
     "text": [
      "True\n",
      "False\n"
     ]
    }
   ],
   "source": [
    "# Test cases\n",
    "print(is_valid_email_regex(\"john.doe@example.com\"))  # True\n",
    "print(is_valid_email_regex(\"john@com\"))              # False"
   ]
  },
  {
   "cell_type": "markdown",
   "id": "3a6b9635-e779-4015-8c0a-877462fe95b2",
   "metadata": {},
   "source": [
    "### Alternative Solution2"
   ]
  },
  {
   "cell_type": "code",
   "execution_count": 6,
   "id": "ed53f10c-acba-4959-ad23-40fbab72eb57",
   "metadata": {},
   "outputs": [
    {
     "name": "stdout",
     "output_type": "stream",
     "text": [
      "Collecting validate_email\n",
      "  Downloading validate_email-1.3.tar.gz (4.7 kB)\n",
      "  Preparing metadata (setup.py): started\n",
      "  Preparing metadata (setup.py): finished with status 'done'\n",
      "Building wheels for collected packages: validate_email\n",
      "  Building wheel for validate_email (setup.py): started\n",
      "  Building wheel for validate_email (setup.py): finished with status 'done'\n",
      "  Created wheel for validate_email: filename=validate_email-1.3-py3-none-any.whl size=5480 sha256=062517fad411e129727408bd240a071b8c074edd91ba133bdbc8312f5049d63e\n",
      "  Stored in directory: c:\\users\\hp\\appdata\\local\\pip\\cache\\wheels\\35\\c1\\50\\f0208860f0a0b7b0c0a6ff7684c5fd2776b36fc10cbb5f728d\n",
      "Successfully built validate_email\n",
      "Installing collected packages: validate_email\n",
      "Successfully installed validate_email-1.3\n"
     ]
    }
   ],
   "source": [
    "!pip install validate_email"
   ]
  },
  {
   "cell_type": "code",
   "execution_count": 7,
   "id": "9066ebd5-2e37-48c3-93d8-89b43c1dfc83",
   "metadata": {},
   "outputs": [],
   "source": [
    "# Approach3: Using Python's built-in validate_email library\n",
    "from validate_email import validate_email\n",
    "\n",
    "def is_valid_email_library(email):\n",
    "    return validate_email(email)"
   ]
  },
  {
   "cell_type": "code",
   "execution_count": 10,
   "id": "f7f74eda-8f87-4d87-87d9-4a97bbf2a5eb",
   "metadata": {},
   "outputs": [
    {
     "name": "stdout",
     "output_type": "stream",
     "text": [
      "True\n"
     ]
    }
   ],
   "source": [
    "# Test cases\n",
    "print(is_valid_email_library(\"john.doe@example.com\"))"
   ]
  },
  {
   "cell_type": "markdown",
   "id": "462318bf-672f-4468-9122-070cf70b5af5",
   "metadata": {},
   "source": [
    "## Complexity Analysis"
   ]
  },
  {
   "cell_type": "markdown",
   "id": "3ff61a2e-affa-44cc-b483-573f9dc9b166",
   "metadata": {},
   "source": [
    "Time Complexity:\n",
    "\n",
    "- Brute Force: O(n)\n",
    "- Regex-Based): O(n)\n",
    "- Library-Based (Optional): O(1) (API call)\n",
    " \n",
    "Space Complexity:\n",
    "\n",
    "- Brute Force: O(1)\n",
    "- Regex-Based: O(1)\n",
    "- Library-Based (Optional): Depends "
   ]
  },
  {
   "cell_type": "markdown",
   "id": "54ae9b22-a3fd-4d97-807c-9deb388d03b1",
   "metadata": {},
   "source": [
    "#### Thank You!!"
   ]
  }
 ],
 "metadata": {
  "kernelspec": {
   "display_name": "Python 3 (ipykernel)",
   "language": "python",
   "name": "python3"
  },
  "language_info": {
   "codemirror_mode": {
    "name": "ipython",
    "version": 3
   },
   "file_extension": ".py",
   "mimetype": "text/x-python",
   "name": "python",
   "nbconvert_exporter": "python",
   "pygments_lexer": "ipython3",
   "version": "3.8.10"
  }
 },
 "nbformat": 4,
 "nbformat_minor": 5
}
