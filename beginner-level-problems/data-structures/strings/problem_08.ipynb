{
 "cells": [
  {
   "cell_type": "markdown",
   "id": "8a36d3b1-1a8d-478e-8060-6477472e6bd4",
   "metadata": {},
   "source": [
    "# **Problem Statement**  \n",
    "## **8. Write a function to check if a string contains only uppercase or lowercase letters**"
   ]
  },
  {
   "cell_type": "markdown",
   "id": "12b96244-784f-44f1-b72a-e69e054e8b67",
   "metadata": {},
   "source": [
    "### Identify Constraints & Example Inputs/Outputs\n",
    "\n",
    "Constraints:\n",
    "\n",
    "- Input will be a non-empty string.\n",
    "- Only alphabetic characters should be considered.\n",
    "- Return True if the string is entirely uppercase or entirely lowercase.\n",
    "- Ignore empty strings and non-alphabetic characters for this problem.\n",
    "\n",
    "---\n",
    "Example1: Input: \"HELLO\"  \n",
    "\n",
    "Output: True\n",
    "\n",
    "---\n",
    "Example2: Input: \"world\"  \n",
    "\n",
    "Output: True\n",
    "\n",
    "---\n",
    "Example3: Input: \"Hello\"\n",
    "\n",
    "Output: False\n",
    "\n",
    "---\n",
    "Example4: Input: \"hello123\"\n",
    "\n",
    "Output: False\n",
    "\n",
    "---"
   ]
  },
  {
   "cell_type": "markdown",
   "id": "b68e7cad-ea42-4bb3-a20e-a91cba6d7424",
   "metadata": {},
   "source": [
    "### Solution Approach"
   ]
  },
  {
   "cell_type": "markdown",
   "id": "144b599f-addb-4686-8425-1f6e6f862acd",
   "metadata": {},
   "source": [
    "Step1: First, check if the string has only alphabetic characters using .isalpha().\n",
    "\n",
    "Step2: Then check:\n",
    "- If str.isupper() is True → all characters are uppercase.\n",
    "- If str.islower() is True → all characters are lowercase.\n",
    "\n",
    "Step3: If either is True, return True. Otherwise, return False."
   ]
  },
  {
   "cell_type": "markdown",
   "id": "be931aed-e6ac-4398-a9cc-cd43c98ed91b",
   "metadata": {},
   "source": [
    "### Solution Code"
   ]
  },
  {
   "cell_type": "code",
   "execution_count": 1,
   "id": "57cab10a-c58c-459b-b504-16dc7ee1d0ac",
   "metadata": {},
   "outputs": [],
   "source": [
    "# Approach1: Brute Force Approach: Using a Loop\n",
    "def check_case_brute(s):\n",
    "    if not s.isalpha():\n",
    "        return False\n",
    "    \n",
    "    all_upper = True\n",
    "    all_lower = True\n",
    "\n",
    "    for char in s:\n",
    "        if not char.isupper():\n",
    "            all_upper = False\n",
    "        if not char.islower():\n",
    "            all_lower = False\n",
    "\n",
    "    return all_upper or all_lower"
   ]
  },
  {
   "cell_type": "code",
   "execution_count": 2,
   "id": "c6b73b1c-518d-4265-925c-8c271c2045f7",
   "metadata": {},
   "outputs": [
    {
     "name": "stdout",
     "output_type": "stream",
     "text": [
      "True\n",
      "True\n",
      "False\n",
      "False\n"
     ]
    }
   ],
   "source": [
    "# Test Cases\n",
    "print(check_case_brute(\"HELLO\"))     # True\n",
    "print(check_case_brute(\"hello\"))     # True\n",
    "print(check_case_brute(\"Hello\"))     # False\n",
    "print(check_case_brute(\"hello123\"))  # False"
   ]
  },
  {
   "cell_type": "markdown",
   "id": "9febed86-bc77-49f3-aa50-7adfe033688a",
   "metadata": {},
   "source": [
    "### Alternative Solution1"
   ]
  },
  {
   "cell_type": "code",
   "execution_count": 3,
   "id": "0efc9774-33f6-41e2-8cd0-7cbeae985cfe",
   "metadata": {},
   "outputs": [],
   "source": [
    "# Approach2: Optimized Approach\n",
    "def check_case_optimized(s):\n",
    "    return s.isalpha() and (s.isupper() or s.islower())"
   ]
  },
  {
   "cell_type": "code",
   "execution_count": 4,
   "id": "705534f5-d328-4908-a080-2c38b82af4f6",
   "metadata": {},
   "outputs": [
    {
     "name": "stdout",
     "output_type": "stream",
     "text": [
      "True\n",
      "True\n",
      "False\n",
      "False\n"
     ]
    }
   ],
   "source": [
    "# Test Cases\n",
    "print(check_case_optimized(\"HELLO\"))     # True\n",
    "print(check_case_optimized(\"hello\"))     # True\n",
    "print(check_case_optimized(\"Hello\"))     # False\n",
    "print(check_case_optimized(\"hello123\"))  # False"
   ]
  },
  {
   "cell_type": "markdown",
   "id": "3a6b9635-e779-4015-8c0a-877462fe95b2",
   "metadata": {},
   "source": [
    "### Alternative Solution2"
   ]
  },
  {
   "cell_type": "code",
   "execution_count": 5,
   "id": "9066ebd5-2e37-48c3-93d8-89b43c1dfc83",
   "metadata": {},
   "outputs": [],
   "source": [
    "# Approach 3: Using Regex\n",
    "import re\n",
    "\n",
    "def check_case_regex(s):\n",
    "    return bool(re.fullmatch(r'[A-Z]+|[a-z]+', s))"
   ]
  },
  {
   "cell_type": "code",
   "execution_count": 6,
   "id": "f7f74eda-8f87-4d87-87d9-4a97bbf2a5eb",
   "metadata": {},
   "outputs": [
    {
     "name": "stdout",
     "output_type": "stream",
     "text": [
      "True\n",
      "True\n",
      "False\n",
      "False\n"
     ]
    }
   ],
   "source": [
    "# Test Cases\n",
    "print(check_case_regex(\"HELLO\"))     # True\n",
    "print(check_case_regex(\"hello\"))     # True\n",
    "print(check_case_regex(\"Hello\"))     # False\n",
    "print(check_case_regex(\"hello123\"))  # False"
   ]
  },
  {
   "cell_type": "markdown",
   "id": "462318bf-672f-4468-9122-070cf70b5af5",
   "metadata": {},
   "source": [
    "## Complexity Analysis"
   ]
  },
  {
   "cell_type": "markdown",
   "id": "3ff61a2e-affa-44cc-b483-573f9dc9b166",
   "metadata": {},
   "source": [
    "Time Complexity:\n",
    "\n",
    "- Brute Force: O(n)\n",
    "- Optimized (built-in): O(n)\n",
    "- Regex Approach: O(n)\n",
    " \n",
    "Space Complexity:\n",
    "\n",
    "- Brute Force: O(1)\n",
    "- Optimized (built-in): O(1)\n",
    "- Regex Approach: O(1) "
   ]
  },
  {
   "cell_type": "markdown",
   "id": "54ae9b22-a3fd-4d97-807c-9deb388d03b1",
   "metadata": {},
   "source": [
    "#### Thank You!!"
   ]
  },
  {
   "cell_type": "code",
   "execution_count": null,
   "id": "b02a0544-bec5-4504-b263-7024ba5da41c",
   "metadata": {},
   "outputs": [],
   "source": []
  }
 ],
 "metadata": {
  "kernelspec": {
   "display_name": "Python 3 (ipykernel)",
   "language": "python",
   "name": "python3"
  },
  "language_info": {
   "codemirror_mode": {
    "name": "ipython",
    "version": 3
   },
   "file_extension": ".py",
   "mimetype": "text/x-python",
   "name": "python",
   "nbconvert_exporter": "python",
   "pygments_lexer": "ipython3",
   "version": "3.8.10"
  }
 },
 "nbformat": 4,
 "nbformat_minor": 5
}
