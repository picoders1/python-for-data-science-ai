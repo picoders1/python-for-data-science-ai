{
 "cells": [
  {
   "cell_type": "markdown",
   "id": "8a36d3b1-1a8d-478e-8060-6477472e6bd4",
   "metadata": {},
   "source": [
    "# **Problem Statement**  \n",
    "## **12. Write a program to reverse each word in a given string**"
   ]
  },
  {
   "cell_type": "markdown",
   "id": "12b96244-784f-44f1-b72a-e69e054e8b67",
   "metadata": {},
   "source": [
    "### Identify Constraints & Example Inputs/Outputs\n",
    "\n",
    "Constraints:\n",
    "\n",
    "- Input string may include letters, digits, or symbols.\n",
    "- Words are separated by spaces.\n",
    "- unctuation within words should be reversed as part of the word.\n",
    "- Empty strings should return an empty string.\n",
    "\n",
    "---\n",
    "Example1: Input: \"Hello World\"  \n",
    "\n",
    "Output: \"olleH dlroW\"\n",
    "\n",
    "---\n",
    "Example2: Input: \"Python is fun\"\n",
    "\n",
    "Output: \"nohtyP si nuf\"\n",
    "\n",
    "---\n",
    "Example3: Input: \"\"\n",
    "\n",
    "Output: \"\"\n",
    "\n",
    "---"
   ]
  },
  {
   "cell_type": "markdown",
   "id": "b68e7cad-ea42-4bb3-a20e-a91cba6d7424",
   "metadata": {},
   "source": [
    "### Solution Approach"
   ]
  },
  {
   "cell_type": "markdown",
   "id": "144b599f-addb-4686-8425-1f6e6f862acd",
   "metadata": {},
   "source": [
    "Step1: Split the input string into words using .split().\n",
    "\n",
    "Step2: Reverse each word using slicing ([::-1]) or a loop.\n",
    "\n",
    "Step3: Join the reversed words back with a space ' '.join().\n",
    "\n",
    "Step4: Return the final reversed-word string."
   ]
  },
  {
   "cell_type": "markdown",
   "id": "be931aed-e6ac-4398-a9cc-cd43c98ed91b",
   "metadata": {},
   "source": [
    "### Solution Code"
   ]
  },
  {
   "cell_type": "code",
   "execution_count": 1,
   "id": "57cab10a-c58c-459b-b504-16dc7ee1d0ac",
   "metadata": {},
   "outputs": [],
   "source": [
    "# Approach1: Brute Force Approach: Using a Loop\n",
    "def reverse_each_word_brute(s):\n",
    "    words = s.split()\n",
    "    reversed_words = []\n",
    "    for word in words:\n",
    "        reversed_words.append(word[::-1])\n",
    "    return ' '.join(reversed_words)"
   ]
  },
  {
   "cell_type": "code",
   "execution_count": 2,
   "id": "c6b73b1c-518d-4265-925c-8c271c2045f7",
   "metadata": {},
   "outputs": [
    {
     "name": "stdout",
     "output_type": "stream",
     "text": [
      "olleH dlroW\n",
      "nohtyP si nuf\n",
      "\n"
     ]
    }
   ],
   "source": [
    "# Test Cases\n",
    "print(reverse_each_word_brute(\"Hello World\"))  # olleH dlroW\n",
    "print(reverse_each_word_brute(\"Python is fun\"))  # nohtyP si nuf\n",
    "print(reverse_each_word_brute(\"\"))  # \"\""
   ]
  },
  {
   "cell_type": "markdown",
   "id": "9febed86-bc77-49f3-aa50-7adfe033688a",
   "metadata": {},
   "source": [
    "### Alternative Solution1"
   ]
  },
  {
   "cell_type": "code",
   "execution_count": 4,
   "id": "0efc9774-33f6-41e2-8cd0-7cbeae985cfe",
   "metadata": {},
   "outputs": [],
   "source": [
    "# Approach2: Optimized Approach\n",
    "def reverse_each_word_optimized(s):\n",
    "    return ' '.join(word[::-1] for word in s.split())"
   ]
  },
  {
   "cell_type": "code",
   "execution_count": 5,
   "id": "705534f5-d328-4908-a080-2c38b82af4f6",
   "metadata": {},
   "outputs": [
    {
     "name": "stdout",
     "output_type": "stream",
     "text": [
      "olleH dlroW\n",
      "nohtyP si nuf\n",
      "\n"
     ]
    }
   ],
   "source": [
    "# Test Cases\n",
    "print(reverse_each_word_optimized(\"Hello World\"))  # olleH dlroW\n",
    "print(reverse_each_word_optimized(\"Python is fun\"))  # nohtyP si nuf\n",
    "print(reverse_each_word_optimized(\"\"))  # \"\""
   ]
  },
  {
   "cell_type": "markdown",
   "id": "3a6b9635-e779-4015-8c0a-877462fe95b2",
   "metadata": {},
   "source": [
    "### Alternative Solution2"
   ]
  },
  {
   "cell_type": "code",
   "execution_count": 8,
   "id": "9066ebd5-2e37-48c3-93d8-89b43c1dfc83",
   "metadata": {},
   "outputs": [],
   "source": [
    "# Approach 3: Using map()\n",
    "def reverse_each_word_map(s):\n",
    "    return ' '.join(map(lambda x: x[::-1], s.split()))"
   ]
  },
  {
   "cell_type": "code",
   "execution_count": 9,
   "id": "f7f74eda-8f87-4d87-87d9-4a97bbf2a5eb",
   "metadata": {},
   "outputs": [
    {
     "name": "stdout",
     "output_type": "stream",
     "text": [
      "esreveR siht gnirts\n"
     ]
    }
   ],
   "source": [
    "# Test Cases\n",
    "print(reverse_each_word_map(\"Reverse this string\"))  # esreveR siht gnirts"
   ]
  },
  {
   "cell_type": "markdown",
   "id": "462318bf-672f-4468-9122-070cf70b5af5",
   "metadata": {},
   "source": [
    "## Complexity Analysis"
   ]
  },
  {
   "cell_type": "markdown",
   "id": "3ff61a2e-affa-44cc-b483-573f9dc9b166",
   "metadata": {},
   "source": [
    "Time Complexity:\n",
    "\n",
    "- Brute Force with loop: O(n)\n",
    "- Optimized with list comp: O(n)\n",
    "- Using map function: O(n)\n",
    " \n",
    "Space Complexity:\n",
    "\n",
    "- Brute Force with loop: O(n)\n",
    "- Optimized with list comp: O(n)\n",
    "- Using map function: O(n) "
   ]
  },
  {
   "cell_type": "markdown",
   "id": "54ae9b22-a3fd-4d97-807c-9deb388d03b1",
   "metadata": {},
   "source": [
    "#### Thank You!!"
   ]
  }
 ],
 "metadata": {
  "kernelspec": {
   "display_name": "Python 3 (ipykernel)",
   "language": "python",
   "name": "python3"
  },
  "language_info": {
   "codemirror_mode": {
    "name": "ipython",
    "version": 3
   },
   "file_extension": ".py",
   "mimetype": "text/x-python",
   "name": "python",
   "nbconvert_exporter": "python",
   "pygments_lexer": "ipython3",
   "version": "3.8.10"
  }
 },
 "nbformat": 4,
 "nbformat_minor": 5
}
