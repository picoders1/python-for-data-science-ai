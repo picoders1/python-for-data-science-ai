{
 "cells": [
  {
   "cell_type": "markdown",
   "id": "8a36d3b1-1a8d-478e-8060-6477472e6bd4",
   "metadata": {},
   "source": [
    "# **Problem Statement**  \n",
    "## **16. Write a Python function to find the first non-repeating character in a string**"
   ]
  },
  {
   "cell_type": "markdown",
   "id": "12b96244-784f-44f1-b72a-e69e054e8b67",
   "metadata": {},
   "source": [
    "### Identify Constraints & Example Inputs/Outputs\n",
    "\n",
    "Constraints:\n",
    "\n",
    "- The input string may contain only lowercase/uppercase alphabets.\n",
    "- If no non-repeating character is found, return None.\n",
    "\n",
    "---\n",
    "Example1: Input: \"leetcode\"  \n",
    "\n",
    "Output: \"l\"\n",
    "\n",
    "---\n",
    "Example2: Input: \"aabbcc\"  \n",
    "\n",
    "Output: None\n",
    "\n",
    "---\n",
    "Example3: Input: \"loveleetcode\"\n",
    "\n",
    "Output: \"v\"\n",
    "\n",
    "---"
   ]
  },
  {
   "cell_type": "markdown",
   "id": "b68e7cad-ea42-4bb3-a20e-a91cba6d7424",
   "metadata": {},
   "source": [
    "### Solution Approach"
   ]
  },
  {
   "cell_type": "markdown",
   "id": "144b599f-addb-4686-8425-1f6e6f862acd",
   "metadata": {},
   "source": [
    "Step1: Traverse the string and count the frequency of each character.\n",
    "\n",
    "Step2: Store the frequency in a dictionary or a collections.Counter.\n",
    "\n",
    "Step3: Traverse the string again, and for each character, check if its frequency is 1.\n",
    "\n",
    "Step4: Return the first such character.\n",
    "\n",
    "Step5: If no such character exists, return None."
   ]
  },
  {
   "cell_type": "markdown",
   "id": "be931aed-e6ac-4398-a9cc-cd43c98ed91b",
   "metadata": {},
   "source": [
    "### Solution Code"
   ]
  },
  {
   "cell_type": "code",
   "execution_count": 1,
   "id": "57cab10a-c58c-459b-b504-16dc7ee1d0ac",
   "metadata": {},
   "outputs": [],
   "source": [
    "# Approach1: Brute Force Approach: Using a Loop\n",
    "def first_non_repeating_brute(s):\n",
    "    for i in range(len(s)):\n",
    "        if s.count(s[i]) == 1:\n",
    "            return s[i]\n",
    "    return None"
   ]
  },
  {
   "cell_type": "code",
   "execution_count": 2,
   "id": "c6b73b1c-518d-4265-925c-8c271c2045f7",
   "metadata": {},
   "outputs": [
    {
     "name": "stdout",
     "output_type": "stream",
     "text": [
      "l\n",
      "None\n",
      "v\n"
     ]
    }
   ],
   "source": [
    "# Test cases\n",
    "print(first_non_repeating_brute(\"leetcode\"))        # l\n",
    "print(first_non_repeating_brute(\"aabbcc\"))          # None\n",
    "print(first_non_repeating_brute(\"loveleetcode\"))    # v"
   ]
  },
  {
   "cell_type": "markdown",
   "id": "9febed86-bc77-49f3-aa50-7adfe033688a",
   "metadata": {},
   "source": [
    "### Alternative Solution1"
   ]
  },
  {
   "cell_type": "code",
   "execution_count": 3,
   "id": "0efc9774-33f6-41e2-8cd0-7cbeae985cfe",
   "metadata": {},
   "outputs": [],
   "source": [
    "# Approach 2: Optimized Approach: Using Counter\n",
    "from collections import Counter\n",
    "\n",
    "def first_non_repeating(s):\n",
    "    freq = Counter(s)\n",
    "    for ch in s:\n",
    "        if freq[ch] == 1:\n",
    "            return ch\n",
    "    return None"
   ]
  },
  {
   "cell_type": "code",
   "execution_count": 4,
   "id": "705534f5-d328-4908-a080-2c38b82af4f6",
   "metadata": {},
   "outputs": [
    {
     "name": "stdout",
     "output_type": "stream",
     "text": [
      "l\n",
      "None\n",
      "v\n"
     ]
    }
   ],
   "source": [
    "# Test cases\n",
    "print(first_non_repeating(\"leetcode\"))        # l\n",
    "print(first_non_repeating(\"aabbcc\"))          # None\n",
    "print(first_non_repeating(\"loveleetcode\"))    # v"
   ]
  },
  {
   "cell_type": "markdown",
   "id": "3a6b9635-e779-4015-8c0a-877462fe95b2",
   "metadata": {},
   "source": [
    "### Alternative Solution2"
   ]
  },
  {
   "cell_type": "code",
   "execution_count": 5,
   "id": "9066ebd5-2e37-48c3-93d8-89b43c1dfc83",
   "metadata": {},
   "outputs": [],
   "source": [
    "# Approach 3: Using OrderedDict\n",
    "from collections import OrderedDict\n",
    "\n",
    "def first_non_repeating_alt(s):\n",
    "    freq = OrderedDict()\n",
    "    for ch in s:\n",
    "        freq[ch] = freq.get(ch, 0) + 1\n",
    "    for ch in freq:\n",
    "        if freq[ch] == 1:\n",
    "            return ch\n",
    "    return None"
   ]
  },
  {
   "cell_type": "code",
   "execution_count": 6,
   "id": "f7f74eda-8f87-4d87-87d9-4a97bbf2a5eb",
   "metadata": {},
   "outputs": [
    {
     "name": "stdout",
     "output_type": "stream",
     "text": [
      "l\n",
      "None\n",
      "v\n"
     ]
    }
   ],
   "source": [
    "# Test cases\n",
    "print(first_non_repeating_alt(\"leetcode\"))        # l\n",
    "print(first_non_repeating_alt(\"aabbcc\"))          # None\n",
    "print(first_non_repeating_alt(\"loveleetcode\"))    # v"
   ]
  },
  {
   "cell_type": "markdown",
   "id": "462318bf-672f-4468-9122-070cf70b5af5",
   "metadata": {},
   "source": [
    "## Complexity Analysis"
   ]
  },
  {
   "cell_type": "markdown",
   "id": "3ff61a2e-affa-44cc-b483-573f9dc9b166",
   "metadata": {},
   "source": [
    "Time Complexity:\n",
    "\n",
    "- Brute Force: O(n²)\n",
    "- Optimized (Counter): O(n)\n",
    "- OrderedDict: O(n)\n",
    " \n",
    "Space Complexity:\n",
    "\n",
    "- Brute Force: O(1)\n",
    "- Optimized (Counter): O(1) or O(k)\n",
    "- OrderedDict: O(1) or O(k)"
   ]
  },
  {
   "cell_type": "markdown",
   "id": "54ae9b22-a3fd-4d97-807c-9deb388d03b1",
   "metadata": {},
   "source": [
    "#### Thank You!!"
   ]
  }
 ],
 "metadata": {
  "kernelspec": {
   "display_name": "Python 3 (ipykernel)",
   "language": "python",
   "name": "python3"
  },
  "language_info": {
   "codemirror_mode": {
    "name": "ipython",
    "version": 3
   },
   "file_extension": ".py",
   "mimetype": "text/x-python",
   "name": "python",
   "nbconvert_exporter": "python",
   "pygments_lexer": "ipython3",
   "version": "3.8.10"
  }
 },
 "nbformat": 4,
 "nbformat_minor": 5
}
