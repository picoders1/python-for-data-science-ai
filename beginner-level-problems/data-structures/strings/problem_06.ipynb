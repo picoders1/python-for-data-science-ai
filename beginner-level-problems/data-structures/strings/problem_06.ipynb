{
 "cells": [
  {
   "cell_type": "markdown",
   "id": "8a36d3b1-1a8d-478e-8060-6477472e6bd4",
   "metadata": {},
   "source": [
    "# **Problem Statement**  \n",
    "## **6. Write a program to find the longest word in a string**"
   ]
  },
  {
   "cell_type": "markdown",
   "id": "12b96244-784f-44f1-b72a-e69e054e8b67",
   "metadata": {},
   "source": [
    "### Identify Constraints & Example Inputs/Outputs\n",
    "\n",
    "Constraints:\n",
    "\n",
    "- The input string will contain only alphabets and spaces.\n",
    "- Words are separated by one or more spaces.\n",
    "\n",
    "---\n",
    "Example1: Input: \"Python is an amazing programming language\"  \n",
    "\n",
    "Output: \"programming\"\n",
    "\n",
    "---\n",
    "Example2: Input: \"AI is fun\"\n",
    "\n",
    "Output: \"fun\"\n",
    "\n",
    "---"
   ]
  },
  {
   "cell_type": "markdown",
   "id": "b68e7cad-ea42-4bb3-a20e-a91cba6d7424",
   "metadata": {},
   "source": [
    "### Solution Approach"
   ]
  },
  {
   "cell_type": "markdown",
   "id": "144b599f-addb-4686-8425-1f6e6f862acd",
   "metadata": {},
   "source": [
    "Step1: Split the input string into words using the split() function.\n",
    "\n",
    "Step2: Iterate through the words and track the one with the maximum length.\n",
    "\n",
    "Step3: If multiple words are the same length, the first encountered word will be returned.\n",
    "\n",
    "Step4: Edge case: If the string is empty, return an empty string or a message."
   ]
  },
  {
   "cell_type": "markdown",
   "id": "be931aed-e6ac-4398-a9cc-cd43c98ed91b",
   "metadata": {},
   "source": [
    "### Solution Code"
   ]
  },
  {
   "cell_type": "code",
   "execution_count": 2,
   "id": "57cab10a-c58c-459b-b504-16dc7ee1d0ac",
   "metadata": {},
   "outputs": [],
   "source": [
    "# Approach1: Brute Force Approach: Using a Loop\n",
    "def find_longest_word_brute(s):\n",
    "    words = s.split()\n",
    "    max_length = 0\n",
    "    longest_word = \"\"\n",
    "    for word in words:\n",
    "        if len(word) > max_length:\n",
    "            max_length = len(word)\n",
    "            longest_word = word\n",
    "    return longest_word"
   ]
  },
  {
   "cell_type": "code",
   "execution_count": 3,
   "id": "c6b73b1c-518d-4265-925c-8c271c2045f7",
   "metadata": {},
   "outputs": [
    {
     "name": "stdout",
     "output_type": "stream",
     "text": [
      "programming\n",
      "\n"
     ]
    }
   ],
   "source": [
    "# Test cases\n",
    "print(find_longest_word_brute(\"Python is an amazing programming language\"))  # \"programming\"\n",
    "print(find_longest_word_brute(\"\"))  # \"\""
   ]
  },
  {
   "cell_type": "markdown",
   "id": "9febed86-bc77-49f3-aa50-7adfe033688a",
   "metadata": {},
   "source": [
    "### Alternative Solution1"
   ]
  },
  {
   "cell_type": "code",
   "execution_count": 4,
   "id": "0efc9774-33f6-41e2-8cd0-7cbeae985cfe",
   "metadata": {},
   "outputs": [],
   "source": [
    "# Approach2: Optimized Approach: Using max and key\n",
    "def find_longest_word_optimized(s):\n",
    "    words = s.split()\n",
    "    return max(words, key=len) if words else \"\""
   ]
  },
  {
   "cell_type": "code",
   "execution_count": 5,
   "id": "705534f5-d328-4908-a080-2c38b82af4f6",
   "metadata": {},
   "outputs": [
    {
     "name": "stdout",
     "output_type": "stream",
     "text": [
      "programming\n",
      "fun\n"
     ]
    }
   ],
   "source": [
    "# Test cases\n",
    "print(find_longest_word_optimized(\"Python is an amazing programming language\"))  # \"programming\"\n",
    "print(find_longest_word_optimized(\"AI is fun\"))  # \"fun\""
   ]
  },
  {
   "cell_type": "markdown",
   "id": "3a6b9635-e779-4015-8c0a-877462fe95b2",
   "metadata": {},
   "source": [
    "### Alternative Solution2"
   ]
  },
  {
   "cell_type": "code",
   "execution_count": 6,
   "id": "9066ebd5-2e37-48c3-93d8-89b43c1dfc83",
   "metadata": {},
   "outputs": [],
   "source": [
    "# Approach 3: Use sorted() and pick the first\n",
    "def find_longest_word_sorting(s):\n",
    "    words = s.split()\n",
    "    sorted_words = sorted(words, key=len, reverse=True)\n",
    "    return sorted_words[0] if sorted_words else \"\""
   ]
  },
  {
   "cell_type": "code",
   "execution_count": 7,
   "id": "f7f74eda-8f87-4d87-87d9-4a97bbf2a5eb",
   "metadata": {},
   "outputs": [
    {
     "name": "stdout",
     "output_type": "stream",
     "text": [
      "programming\n",
      "fun\n"
     ]
    }
   ],
   "source": [
    "# Test cases\n",
    "print(find_longest_word_sorting(\"Python is an amazing programming language\"))  # \"programming\"\n",
    "print(find_longest_word_sorting(\"AI is fun\"))  # \"fun\""
   ]
  },
  {
   "cell_type": "markdown",
   "id": "462318bf-672f-4468-9122-070cf70b5af5",
   "metadata": {},
   "source": [
    "## Complexity Analysis"
   ]
  },
  {
   "cell_type": "markdown",
   "id": "3ff61a2e-affa-44cc-b483-573f9dc9b166",
   "metadata": {},
   "source": [
    "Time Complexity:\n",
    "\n",
    "- Brute Force: O(n)\n",
    "- Optimized (max+key): O(n)\n",
    "- Sorted Approach: O(n log n)\n",
    " \n",
    "Space Complexity:\n",
    "\n",
    "- Brute Force: O(1)\n",
    "- Optimized (max+key): O(1)\n",
    "- Sorted Approach: O(n) "
   ]
  },
  {
   "cell_type": "markdown",
   "id": "54ae9b22-a3fd-4d97-807c-9deb388d03b1",
   "metadata": {},
   "source": [
    "#### Thank You!!"
   ]
  }
 ],
 "metadata": {
  "kernelspec": {
   "display_name": "Python 3 (ipykernel)",
   "language": "python",
   "name": "python3"
  },
  "language_info": {
   "codemirror_mode": {
    "name": "ipython",
    "version": 3
   },
   "file_extension": ".py",
   "mimetype": "text/x-python",
   "name": "python",
   "nbconvert_exporter": "python",
   "pygments_lexer": "ipython3",
   "version": "3.8.10"
  }
 },
 "nbformat": 4,
 "nbformat_minor": 5
}
