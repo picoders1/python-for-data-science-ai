{
 "cells": [
  {
   "cell_type": "markdown",
   "id": "8a36d3b1-1a8d-478e-8060-6477472e6bd4",
   "metadata": {},
   "source": [
    "# **Problem Statement**  \n",
    "## **15. Write a function to check if a string contains a valid date format**"
   ]
  },
  {
   "cell_type": "markdown",
   "id": "12b96244-784f-44f1-b72a-e69e054e8b67",
   "metadata": {},
   "source": [
    "### Identify Constraints & Example Inputs/Outputs\n",
    "\n",
    "Constraints:\n",
    "\n",
    "- The input string is non-empty.\n",
    "- The function should validate both format and logical correctness of the date (e.g., not accepting 2024-02-30).\n",
    "- You may restrict to standard formats like YYYY-MM-DD, DD/MM/YYYY, MM-DD-YYYY.\n",
    "\n",
    "---\n",
    "Example1: Input: \"Today is 2024-04-10\"  \n",
    "\n",
    "Output: True\n",
    "\n",
    "---\n",
    "Example2: Input: \"Meeting on 32/01/2024\"\n",
    "\n",
    "Output: False\n",
    "\n",
    "---\n",
    "Example3: Input: \"The date is 04-10-2024\"\n",
    "\n",
    "Output: True\n",
    "\n",
    "---"
   ]
  },
  {
   "cell_type": "markdown",
   "id": "b68e7cad-ea42-4bb3-a20e-a91cba6d7424",
   "metadata": {},
   "source": [
    "### Solution Approach"
   ]
  },
  {
   "cell_type": "markdown",
   "id": "144b599f-addb-4686-8425-1f6e6f862acd",
   "metadata": {},
   "source": [
    "Step1: Import re for regex and datetime to validate real date values.\n",
    "\n",
    "Step2: Define known date formats as regex patterns (e.g., \\d{4}-\\d{2}-\\d{2}).\n",
    "\n",
    "Step3: Use re.findall() or re.search() to extract matching date strings.\n",
    "\n",
    "Step4: For each match, try to parse it using datetime.strptime() to confirm it’s a valid date.\n",
    "\n",
    "Step5: Return True if any valid date is found, else False."
   ]
  },
  {
   "cell_type": "markdown",
   "id": "be931aed-e6ac-4398-a9cc-cd43c98ed91b",
   "metadata": {},
   "source": [
    "### Solution Code"
   ]
  },
  {
   "cell_type": "code",
   "execution_count": 1,
   "id": "57cab10a-c58c-459b-b504-16dc7ee1d0ac",
   "metadata": {},
   "outputs": [],
   "source": [
    "# Approach1: Brute Force Approach: Using a Loop\n",
    "from datetime import datetime\n",
    "\n",
    "def is_valid_date_brute(string):\n",
    "    parts = string.split()\n",
    "    for part in parts:\n",
    "        try:\n",
    "            datetime.strptime(part, \"%Y-%m-%d\")\n",
    "            return True\n",
    "        except:\n",
    "            continue\n",
    "    return False"
   ]
  },
  {
   "cell_type": "code",
   "execution_count": 2,
   "id": "c6b73b1c-518d-4265-925c-8c271c2045f7",
   "metadata": {},
   "outputs": [
    {
     "name": "stdout",
     "output_type": "stream",
     "text": [
      "True\n",
      "False\n"
     ]
    }
   ],
   "source": [
    "# Test cases\n",
    "print(is_valid_date_brute(\"Today is 2024-04-10\"))  # True\n",
    "print(is_valid_date_brute(\"Hello world\"))          # False"
   ]
  },
  {
   "cell_type": "markdown",
   "id": "9febed86-bc77-49f3-aa50-7adfe033688a",
   "metadata": {},
   "source": [
    "### Alternative Solution1"
   ]
  },
  {
   "cell_type": "code",
   "execution_count": 4,
   "id": "0efc9774-33f6-41e2-8cd0-7cbeae985cfe",
   "metadata": {},
   "outputs": [],
   "source": [
    "# Approach 2: Optimized Approach: Using (Regex + datetime)\n",
    "import re\n",
    "from datetime import datetime\n",
    "\n",
    "def is_valid_date(string):\n",
    "    patterns = [\n",
    "        (r'\\d{4}-\\d{2}-\\d{2}', \"%Y-%m-%d\"),\n",
    "        (r'\\d{2}/\\d{2}/\\d{4}', \"%d/%m/%Y\"),\n",
    "        (r'\\d{2}-\\d{2}-\\d{4}', \"%m-%d-%Y\"),\n",
    "    ]\n",
    "\n",
    "    for regex, fmt in patterns:\n",
    "        matches = re.findall(regex, string)\n",
    "        for match in matches:\n",
    "            try:\n",
    "                datetime.strptime(match, fmt)\n",
    "                return True\n",
    "            except ValueError:\n",
    "                continue\n",
    "    return False\n",
    "\n"
   ]
  },
  {
   "cell_type": "code",
   "execution_count": 5,
   "id": "705534f5-d328-4908-a080-2c38b82af4f6",
   "metadata": {},
   "outputs": [
    {
     "name": "stdout",
     "output_type": "stream",
     "text": [
      "True\n",
      "False\n",
      "True\n"
     ]
    }
   ],
   "source": [
    "# Test Cases\n",
    "print(is_valid_date(\"Today is 2024-04-10\"))       # True\n",
    "print(is_valid_date(\"Date: 32/01/2024\"))          # False\n",
    "print(is_valid_date(\"Birthday: 04-10-2024\"))      # True"
   ]
  },
  {
   "cell_type": "markdown",
   "id": "3a6b9635-e779-4015-8c0a-877462fe95b2",
   "metadata": {},
   "source": [
    "### Alternative Solution2"
   ]
  },
  {
   "cell_type": "code",
   "execution_count": 6,
   "id": "9066ebd5-2e37-48c3-93d8-89b43c1dfc83",
   "metadata": {},
   "outputs": [],
   "source": [
    "# Approach 3: Using dateutil.parser\n",
    "from dateutil.parser import parse\n",
    "\n",
    "def is_valid_date_alt(string):\n",
    "    try:\n",
    "        parse(string, fuzzy=True)\n",
    "        return True\n",
    "    except:\n",
    "        return False"
   ]
  },
  {
   "cell_type": "code",
   "execution_count": 7,
   "id": "f7f74eda-8f87-4d87-87d9-4a97bbf2a5eb",
   "metadata": {},
   "outputs": [
    {
     "name": "stdout",
     "output_type": "stream",
     "text": [
      "True\n",
      "False\n"
     ]
    }
   ],
   "source": [
    "# Test cases\n",
    "print(is_valid_date_alt(\"Meeting on 2024-04-10\"))  # True\n",
    "print(is_valid_date_alt(\"Invalid date here\"))      # False"
   ]
  },
  {
   "cell_type": "markdown",
   "id": "462318bf-672f-4468-9122-070cf70b5af5",
   "metadata": {},
   "source": [
    "## Complexity Analysis"
   ]
  },
  {
   "cell_type": "markdown",
   "id": "3ff61a2e-affa-44cc-b483-573f9dc9b166",
   "metadata": {},
   "source": [
    "Time Complexity:\n",
    "\n",
    "- Brute Force: O(n)\n",
    "- Regex + datetime (Best): O(n)\n",
    "- dateutil.parser (Alt): O(n)\n",
    " \n",
    "Space Complexity:\n",
    "\n",
    "- Brute Force: O(1)\n",
    "- Regex + datetime (Best): O(k)\n",
    "- dateutil.parser (Alt): O(1) "
   ]
  },
  {
   "cell_type": "markdown",
   "id": "54ae9b22-a3fd-4d97-807c-9deb388d03b1",
   "metadata": {},
   "source": [
    "#### Thank You!!"
   ]
  }
 ],
 "metadata": {
  "kernelspec": {
   "display_name": "Python 3 (ipykernel)",
   "language": "python",
   "name": "python3"
  },
  "language_info": {
   "codemirror_mode": {
    "name": "ipython",
    "version": 3
   },
   "file_extension": ".py",
   "mimetype": "text/x-python",
   "name": "python",
   "nbconvert_exporter": "python",
   "pygments_lexer": "ipython3",
   "version": "3.8.10"
  }
 },
 "nbformat": 4,
 "nbformat_minor": 5
}
