{
 "cells": [
  {
   "cell_type": "markdown",
   "id": "8a36d3b1-1a8d-478e-8060-6477472e6bd4",
   "metadata": {},
   "source": [
    "# **Problem Statement**  \n",
    "## **19. Write a Python program to check if two strings have the same character set**"
   ]
  },
  {
   "cell_type": "markdown",
   "id": "12b96244-784f-44f1-b72a-e69e054e8b67",
   "metadata": {},
   "source": [
    "### Identify Constraints & Example Inputs/Outputs\n",
    "\n",
    "Constraints:\n",
    "\n",
    "- Input strings can contain lowercase/uppercase letters, symbols, or digits.\n",
    "- Ignore character frequencies — only character presence matters.\n",
    "- Case-sensitive (unless specified).\n",
    "\n",
    "---\n",
    "Example1: Input: str1 = \"abc\", str2 = \"bca\"  \n",
    "\n",
    "Output: True\n",
    "\n",
    "---\n",
    "Example2: Input: str1 = \"aabc\", str2 = \"ab\"\n",
    "\n",
    "Output: True\n",
    "\n",
    "---\n",
    "Example3: Input: str1 = \"abc\", str2 = \"def\"\n",
    "\n",
    "Output: False\n",
    "\n",
    "---"
   ]
  },
  {
   "cell_type": "markdown",
   "id": "b68e7cad-ea42-4bb3-a20e-a91cba6d7424",
   "metadata": {},
   "source": [
    "### Solution Approach"
   ]
  },
  {
   "cell_type": "markdown",
   "id": "144b599f-addb-4686-8425-1f6e6f862acd",
   "metadata": {},
   "source": [
    "Step1: Convert both strings into sets of characters.\n",
    "\n",
    "Step2: Sets remove duplicates and allow easy comparison.\n",
    "\n",
    "Step3: If both sets are equal, return True, else return False.\n"
   ]
  },
  {
   "cell_type": "markdown",
   "id": "be931aed-e6ac-4398-a9cc-cd43c98ed91b",
   "metadata": {},
   "source": [
    "### Solution Code"
   ]
  },
  {
   "cell_type": "code",
   "execution_count": 2,
   "id": "57cab10a-c58c-459b-b504-16dc7ee1d0ac",
   "metadata": {},
   "outputs": [],
   "source": [
    "# Approach1: Brute Force Approach: Manual Check with Lists/Sets\n",
    "def have_same_characters_brute(str1, str2):\n",
    "    set1 = set(str1)\n",
    "    set2 = set(str2)\n",
    "    return set1 == set2"
   ]
  },
  {
   "cell_type": "code",
   "execution_count": 3,
   "id": "c6b73b1c-518d-4265-925c-8c271c2045f7",
   "metadata": {},
   "outputs": [
    {
     "name": "stdout",
     "output_type": "stream",
     "text": [
      "True\n",
      "False\n",
      "False\n"
     ]
    }
   ],
   "source": [
    "# Test cases\n",
    "print(have_same_characters_brute(\"abc\", \"bca\"))     # True\n",
    "print(have_same_characters_brute(\"aabc\", \"ab\"))     # True\n",
    "print(have_same_characters_brute(\"abc\", \"abcd\"))    # False"
   ]
  },
  {
   "cell_type": "markdown",
   "id": "9febed86-bc77-49f3-aa50-7adfe033688a",
   "metadata": {},
   "source": [
    "### Alternative Solution1"
   ]
  },
  {
   "cell_type": "code",
   "execution_count": 6,
   "id": "0efc9774-33f6-41e2-8cd0-7cbeae985cfe",
   "metadata": {},
   "outputs": [],
   "source": [
    "# Approach2: Optimized Approach: Using One-liner using Set Comparison\n",
    "def have_same_characters_optimized(str1, str2):\n",
    "    return set(str1) == set(str2)"
   ]
  },
  {
   "cell_type": "code",
   "execution_count": 7,
   "id": "705534f5-d328-4908-a080-2c38b82af4f6",
   "metadata": {},
   "outputs": [
    {
     "name": "stdout",
     "output_type": "stream",
     "text": [
      "True\n",
      "False\n"
     ]
    }
   ],
   "source": [
    "# Test cases\n",
    "print(have_same_characters_optimized(\"abc\", \"cab\"))     # True\n",
    "print(have_same_characters_optimized(\"abc\", \"def\"))     # False"
   ]
  },
  {
   "cell_type": "markdown",
   "id": "3a6b9635-e779-4015-8c0a-877462fe95b2",
   "metadata": {},
   "source": [
    "### Alternative Solution2"
   ]
  },
  {
   "cell_type": "code",
   "execution_count": 8,
   "id": "9066ebd5-2e37-48c3-93d8-89b43c1dfc83",
   "metadata": {},
   "outputs": [],
   "source": [
    "# Approach3: Using Case-Insensitive Version\n",
    "def have_same_characters_case_insensitive(str1, str2):\n",
    "    return set(str1.lower()) == set(str2.lower())"
   ]
  },
  {
   "cell_type": "code",
   "execution_count": 9,
   "id": "f7f74eda-8f87-4d87-87d9-4a97bbf2a5eb",
   "metadata": {},
   "outputs": [
    {
     "name": "stdout",
     "output_type": "stream",
     "text": [
      "True\n"
     ]
    }
   ],
   "source": [
    "# Test cases\n",
    "print(have_same_characters_case_insensitive(\"ABC\", \"cab\"))  # True"
   ]
  },
  {
   "cell_type": "markdown",
   "id": "462318bf-672f-4468-9122-070cf70b5af5",
   "metadata": {},
   "source": [
    "## Complexity Analysis"
   ]
  },
  {
   "cell_type": "markdown",
   "id": "3ff61a2e-affa-44cc-b483-573f9dc9b166",
   "metadata": {},
   "source": [
    "Time Complexity:\n",
    "\n",
    "- Set Comparison: O(n + m)\n",
    "- Case-Insensitive Version: O(n + m)\n",
    " \n",
    "Space Complexity:\n",
    "\n",
    "- Set Comparison: O(n + m)\n",
    "- Case-Insensitive Version: O(n + m)"
   ]
  },
  {
   "cell_type": "markdown",
   "id": "54ae9b22-a3fd-4d97-807c-9deb388d03b1",
   "metadata": {},
   "source": [
    "#### Thank You!!"
   ]
  }
 ],
 "metadata": {
  "kernelspec": {
   "display_name": "Python 3 (ipykernel)",
   "language": "python",
   "name": "python3"
  },
  "language_info": {
   "codemirror_mode": {
    "name": "ipython",
    "version": 3
   },
   "file_extension": ".py",
   "mimetype": "text/x-python",
   "name": "python",
   "nbconvert_exporter": "python",
   "pygments_lexer": "ipython3",
   "version": "3.8.10"
  }
 },
 "nbformat": 4,
 "nbformat_minor": 5
}
