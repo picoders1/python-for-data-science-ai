{
 "cells": [
  {
   "cell_type": "markdown",
   "id": "8a36d3b1-1a8d-478e-8060-6477472e6bd4",
   "metadata": {},
   "source": [
    "# **Problem Statement**  \n",
    "## **11. Write a Python function to encode a string using run-length encoding**"
   ]
  },
  {
   "cell_type": "markdown",
   "id": "12b96244-784f-44f1-b72a-e69e054e8b67",
   "metadata": {},
   "source": [
    "### Identify Constraints & Example Inputs/Outputs\n",
    "\n",
    "Constraints:\n",
    "\n",
    "- The input string contains only alphabets (both lowercase and uppercase).\n",
    "- The string can be empty.\n",
    "- Case-sensitive (i.e., \"A\" and \"a\" are different).\n",
    "\n",
    "---\n",
    "Example1: Input: \"aaabbc\"  \n",
    "\n",
    "Output: \"a3b2c1\"\n",
    "\n",
    "---\n",
    "Example2: Input: \"abcd\"\n",
    "\n",
    "Output: \"a1b1c1d1\"\n",
    "\n",
    "---\n",
    "Example3: Input: \"\"\n",
    "\n",
    "Output: \"\"\n",
    "\n",
    "---"
   ]
  },
  {
   "cell_type": "markdown",
   "id": "b68e7cad-ea42-4bb3-a20e-a91cba6d7424",
   "metadata": {},
   "source": [
    "### Solution Approach"
   ]
  },
  {
   "cell_type": "markdown",
   "id": "144b599f-addb-4686-8425-1f6e6f862acd",
   "metadata": {},
   "source": [
    "Step1: Initialize an empty result string and a counter.\n",
    "\n",
    "Step2: Traverse the string from start to end:\n",
    "- If the current character is the same as the previous one, increment the counter.\n",
    "- If it’s different:\n",
    "    - Append the previous character and count to the result.\n",
    "    - Reset the counter for the new character.\n",
    "\n",
    "Step3: After the loop ends, don’t forget to append the last character and count.\n",
    "\n",
    "Step4: Return the final result string."
   ]
  },
  {
   "cell_type": "markdown",
   "id": "be931aed-e6ac-4398-a9cc-cd43c98ed91b",
   "metadata": {},
   "source": [
    "### Solution Code"
   ]
  },
  {
   "cell_type": "code",
   "execution_count": 1,
   "id": "57cab10a-c58c-459b-b504-16dc7ee1d0ac",
   "metadata": {},
   "outputs": [],
   "source": [
    "# Approach 1: Brute Force Approach: Using a Loop\n",
    "def run_length_encoding_brute(s):\n",
    "    if not s:\n",
    "        return \"\"\n",
    "    \n",
    "    result = \"\"\n",
    "    count = 1\n",
    "    \n",
    "    for i in range(1, len(s)):\n",
    "        if s[i] == s[i - 1]:\n",
    "            count += 1\n",
    "        else:\n",
    "            result += s[i - 1] + str(count)\n",
    "            count = 1\n",
    "    result += s[-1] + str(count)\n",
    "    \n",
    "    return result"
   ]
  },
  {
   "cell_type": "code",
   "execution_count": 2,
   "id": "c6b73b1c-518d-4265-925c-8c271c2045f7",
   "metadata": {},
   "outputs": [
    {
     "name": "stdout",
     "output_type": "stream",
     "text": [
      "a3b2c1\n",
      "a1b1c1d1\n",
      "\n"
     ]
    }
   ],
   "source": [
    "# Test Cases\n",
    "print(run_length_encoding_brute(\"aaabbc\"))   # a3b2c1\n",
    "print(run_length_encoding_brute(\"abcd\"))     # a1b1c1d1\n",
    "print(run_length_encoding_brute(\"\"))         # \"\""
   ]
  },
  {
   "cell_type": "markdown",
   "id": "9febed86-bc77-49f3-aa50-7adfe033688a",
   "metadata": {},
   "source": [
    "### Alternative Solution1"
   ]
  },
  {
   "cell_type": "code",
   "execution_count": 3,
   "id": "0efc9774-33f6-41e2-8cd0-7cbeae985cfe",
   "metadata": {},
   "outputs": [],
   "source": [
    "# Approach 2: Optimized Approach\n",
    "def run_length_encoding_optimized(s):\n",
    "    from io import StringIO\n",
    "    \n",
    "    if not s:\n",
    "        return \"\"\n",
    "    \n",
    "    result = StringIO()\n",
    "    count = 1\n",
    "    \n",
    "    for i in range(1, len(s)):\n",
    "        if s[i] == s[i - 1]:\n",
    "            count += 1\n",
    "        else:\n",
    "            result.write(s[i - 1] + str(count))\n",
    "            count = 1\n",
    "    result.write(s[-1] + str(count))\n",
    "    \n",
    "    return result.getvalue()"
   ]
  },
  {
   "cell_type": "code",
   "execution_count": 4,
   "id": "705534f5-d328-4908-a080-2c38b82af4f6",
   "metadata": {},
   "outputs": [
    {
     "name": "stdout",
     "output_type": "stream",
     "text": [
      "a3b2c1\n",
      "a1b1c1d1\n",
      "\n"
     ]
    }
   ],
   "source": [
    "# Test Cases\n",
    "print(run_length_encoding_optimized(\"aaabbc\"))   # a3b2c1\n",
    "print(run_length_encoding_optimized(\"abcd\"))     # a1b1c1d1\n",
    "print(run_length_encoding_optimized(\"\"))         # \"\""
   ]
  },
  {
   "cell_type": "markdown",
   "id": "3a6b9635-e779-4015-8c0a-877462fe95b2",
   "metadata": {},
   "source": [
    "### Alternative Solution2"
   ]
  },
  {
   "cell_type": "code",
   "execution_count": 5,
   "id": "9066ebd5-2e37-48c3-93d8-89b43c1dfc83",
   "metadata": {},
   "outputs": [],
   "source": [
    "# Approach 3: Using List Join\n",
    "def run_length_encoding_list(s):\n",
    "    if not s:\n",
    "        return \"\"\n",
    "    \n",
    "    result = []\n",
    "    count = 1\n",
    "    \n",
    "    for i in range(1, len(s)):\n",
    "        if s[i] == s[i - 1]:\n",
    "            count += 1\n",
    "        else:\n",
    "            result.append(s[i - 1] + str(count))\n",
    "            count = 1\n",
    "    result.append(s[-1] + str(count))\n",
    "    \n",
    "    return ''.join(result)"
   ]
  },
  {
   "cell_type": "code",
   "execution_count": 6,
   "id": "f7f74eda-8f87-4d87-87d9-4a97bbf2a5eb",
   "metadata": {},
   "outputs": [
    {
     "name": "stdout",
     "output_type": "stream",
     "text": [
      "a3b2c1\n",
      "a1b1c1d1\n"
     ]
    }
   ],
   "source": [
    "# Test Cases\n",
    "print(run_length_encoding_list(\"aaabbc\"))   # a3b2c1\n",
    "print(run_length_encoding_list(\"abcd\"))     # a1b1c1d1"
   ]
  },
  {
   "cell_type": "markdown",
   "id": "462318bf-672f-4468-9122-070cf70b5af5",
   "metadata": {},
   "source": [
    "## Complexity Analysis"
   ]
  },
  {
   "cell_type": "markdown",
   "id": "3ff61a2e-affa-44cc-b483-573f9dc9b166",
   "metadata": {},
   "source": [
    "Time Complexity:\n",
    "\n",
    "- Brute Force: O(n)\n",
    "- Optimized with StringIO: O(n)\n",
    "- List + Join: O(n)\n",
    " \n",
    "Space Complexity:\n",
    "\n",
    "- Brute Force: O(n)\n",
    "- Optimized with StringIO: O(n)\n",
    "- List + Join: O(n) "
   ]
  },
  {
   "cell_type": "markdown",
   "id": "54ae9b22-a3fd-4d97-807c-9deb388d03b1",
   "metadata": {},
   "source": [
    "#### Thank You!!"
   ]
  }
 ],
 "metadata": {
  "kernelspec": {
   "display_name": "Python 3 (ipykernel)",
   "language": "python",
   "name": "python3"
  },
  "language_info": {
   "codemirror_mode": {
    "name": "ipython",
    "version": 3
   },
   "file_extension": ".py",
   "mimetype": "text/x-python",
   "name": "python",
   "nbconvert_exporter": "python",
   "pygments_lexer": "ipython3",
   "version": "3.8.10"
  }
 },
 "nbformat": 4,
 "nbformat_minor": 5
}
