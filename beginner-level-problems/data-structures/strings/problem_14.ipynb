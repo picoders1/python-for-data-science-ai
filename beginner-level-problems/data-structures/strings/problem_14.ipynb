{
 "cells": [
  {
   "cell_type": "markdown",
   "id": "8a36d3b1-1a8d-478e-8060-6477472e6bd4",
   "metadata": {},
   "source": [
    "# **Problem Statement**  \n",
    "## **14. Write a Python program to check if a string follows a given pattern (regex)**"
   ]
  },
  {
   "cell_type": "markdown",
   "id": "12b96244-784f-44f1-b72a-e69e054e8b67",
   "metadata": {},
   "source": [
    "### Identify Constraints & Example Inputs/Outputs\n",
    "\n",
    "Constraints:\n",
    "\n",
    "- The string and the regex pattern are both non-empty.\n",
    "- Matching should be based on the entire string (not partial).\n",
    "- Pattern should support common regex expressions.\n",
    "\n",
    "---\n",
    "Example1: Input: string = \"abc123\", pattern = \"^[a-z]+[0-9]+$\"  \n",
    "\n",
    "Output: True\n",
    "\n",
    "---\n",
    "Example2: Input: string = \"abc\", pattern = \"^[a-z]+[0-9]+$\"\n",
    "\n",
    "Output: False\n",
    "\n",
    "---\n",
    "Example3: Input: string = \"2024-04-10\", pattern = \"^\\d{4}-\\d{2}-\\d{2}$\"\n",
    "\n",
    "Output: True\n",
    "\n",
    "---"
   ]
  },
  {
   "cell_type": "markdown",
   "id": "b68e7cad-ea42-4bb3-a20e-a91cba6d7424",
   "metadata": {},
   "source": [
    "### Solution Approach"
   ]
  },
  {
   "cell_type": "markdown",
   "id": "144b599f-addb-4686-8425-1f6e6f862acd",
   "metadata": {},
   "source": [
    "Step1: Import the re module.\n",
    "\n",
    "Step2: Use re.fullmatch() for exact matches (not partial).\n",
    "\n",
    "Step3: If a match is found, return True; else, return False.\n",
    "\n",
    "Step4: For brute force (not using regex), manual string parsing is complex and pattern-dependent — often not practical."
   ]
  },
  {
   "cell_type": "markdown",
   "id": "be931aed-e6ac-4398-a9cc-cd43c98ed91b",
   "metadata": {},
   "source": [
    "### Solution Code"
   ]
  },
  {
   "cell_type": "code",
   "execution_count": 3,
   "id": "57cab10a-c58c-459b-b504-16dc7ee1d0ac",
   "metadata": {},
   "outputs": [],
   "source": [
    "# Approach 1: Brute Force Approach: Using a Loop\n",
    "def matches_pattern_brute(string, pattern):\n",
    "    # Brute force for a very specific case (e.g., letters followed by numbers)\n",
    "    if pattern == \"^[a-z]+[0-9]+$\":\n",
    "        i = 0\n",
    "        while i < len(string) and string[i].isalpha():\n",
    "            i += 1\n",
    "        while i < len(string) and string[i].isdigit():\n",
    "            i += 1\n",
    "        return i == len(string)\n",
    "    return \"Unsupported pattern in brute force\""
   ]
  },
  {
   "cell_type": "code",
   "execution_count": 4,
   "id": "c6b73b1c-518d-4265-925c-8c271c2045f7",
   "metadata": {},
   "outputs": [
    {
     "name": "stdout",
     "output_type": "stream",
     "text": [
      "True\n",
      "True\n"
     ]
    }
   ],
   "source": [
    "# Test cases\n",
    "print(matches_pattern_brute(\"abc123\", \"^[a-z]+[0-9]+$\"))  # True\n",
    "print(matches_pattern_brute(\"abc\", \"^[a-z]+[0-9]+$\"))     # False"
   ]
  },
  {
   "cell_type": "markdown",
   "id": "9febed86-bc77-49f3-aa50-7adfe033688a",
   "metadata": {},
   "source": [
    "### Alternative Solution1"
   ]
  },
  {
   "cell_type": "code",
   "execution_count": 5,
   "id": "0efc9774-33f6-41e2-8cd0-7cbeae985cfe",
   "metadata": {},
   "outputs": [],
   "source": [
    "# Approach 2: Optimized Approach: Using Regex\n",
    "import re\n",
    "\n",
    "def matches_pattern(string, pattern):\n",
    "    return re.fullmatch(pattern, string) is not None"
   ]
  },
  {
   "cell_type": "code",
   "execution_count": 6,
   "id": "705534f5-d328-4908-a080-2c38b82af4f6",
   "metadata": {},
   "outputs": [
    {
     "name": "stdout",
     "output_type": "stream",
     "text": [
      "True\n",
      "False\n",
      "True\n"
     ]
    }
   ],
   "source": [
    "# Test Cases\n",
    "print(matches_pattern(\"abc123\", \"^[a-z]+[0-9]+$\"))  # True\n",
    "print(matches_pattern(\"abc\", \"^[a-z]+[0-9]+$\"))     # False\n",
    "print(matches_pattern(\"2024-04-10\", \"^\\d{4}-\\d{2}-\\d{2}$\"))  # True"
   ]
  },
  {
   "cell_type": "markdown",
   "id": "3a6b9635-e779-4015-8c0a-877462fe95b2",
   "metadata": {},
   "source": [
    "### Alternative Solution2"
   ]
  },
  {
   "cell_type": "code",
   "execution_count": 7,
   "id": "9066ebd5-2e37-48c3-93d8-89b43c1dfc83",
   "metadata": {},
   "outputs": [],
   "source": [
    "# Approach 3: Using re.match()\n",
    "import re\n",
    "\n",
    "def match_partial(string, pattern):\n",
    "    # This only checks from the beginning, not full string\n",
    "    return bool(re.match(pattern, string))"
   ]
  },
  {
   "cell_type": "code",
   "execution_count": 8,
   "id": "f7f74eda-8f87-4d87-87d9-4a97bbf2a5eb",
   "metadata": {},
   "outputs": [
    {
     "name": "stdout",
     "output_type": "stream",
     "text": [
      "True\n"
     ]
    }
   ],
   "source": [
    "# Test cases\n",
    "print(match_partial(\"abc123x\", \"^[a-z]+[0-9]+\"))  # True (partial match)"
   ]
  },
  {
   "cell_type": "markdown",
   "id": "462318bf-672f-4468-9122-070cf70b5af5",
   "metadata": {},
   "source": [
    "## Complexity Analysis"
   ]
  },
  {
   "cell_type": "markdown",
   "id": "3ff61a2e-affa-44cc-b483-573f9dc9b166",
   "metadata": {},
   "source": [
    "Time Complexity:\n",
    "\n",
    "- Brute Force: O(n)\n",
    "- Regex (fullmatch): O(n)\n",
    "- Regex (match): O(n)\n",
    " \n",
    "Space Complexity:\n",
    "\n",
    "- Brute Force: O(1)\n",
    "- Regex (fullmatch): O(1)\n",
    "- Regex (match): O(1) "
   ]
  },
  {
   "cell_type": "markdown",
   "id": "54ae9b22-a3fd-4d97-807c-9deb388d03b1",
   "metadata": {},
   "source": [
    "#### Thank You!!"
   ]
  }
 ],
 "metadata": {
  "kernelspec": {
   "display_name": "Python 3 (ipykernel)",
   "language": "python",
   "name": "python3"
  },
  "language_info": {
   "codemirror_mode": {
    "name": "ipython",
    "version": 3
   },
   "file_extension": ".py",
   "mimetype": "text/x-python",
   "name": "python",
   "nbconvert_exporter": "python",
   "pygments_lexer": "ipython3",
   "version": "3.8.10"
  }
 },
 "nbformat": 4,
 "nbformat_minor": 5
}
