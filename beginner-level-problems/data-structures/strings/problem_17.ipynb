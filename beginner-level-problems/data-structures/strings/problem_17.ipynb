{
 "cells": [
  {
   "cell_type": "markdown",
   "id": "8a36d3b1-1a8d-478e-8060-6477472e6bd4",
   "metadata": {},
   "source": [
    "# **Problem Statement**  \n",
    "## **17. Write a program to sort a string alphabetically**"
   ]
  },
  {
   "cell_type": "markdown",
   "id": "12b96244-784f-44f1-b72a-e69e054e8b67",
   "metadata": {},
   "source": [
    "### Identify Constraints & Example Inputs/Outputs\n",
    "\n",
    "Constraints:\n",
    "\n",
    "- The string may contain lowercase and/or uppercase characters.\n",
    "- Spaces and special characters (if any) should also be considered during sorting.\n",
    "- Case-sensitive sort: 'A' < 'a'\n",
    "\n",
    "---\n",
    "Example1: Input: \"edcba\"  \n",
    "\n",
    "Output: \"abcde\"\n",
    "\n",
    "---\n",
    "Example2: Input: \"python\"\n",
    "\n",
    "Output: \"hnopty\"\n",
    "\n",
    "---\n",
    "Example3: Input: \"Sorting123\"\n",
    "\n",
    "Output: \"123Sginort\"\n",
    "\n",
    "---"
   ]
  },
  {
   "cell_type": "markdown",
   "id": "b68e7cad-ea42-4bb3-a20e-a91cba6d7424",
   "metadata": {},
   "source": [
    "### Solution Approach"
   ]
  },
  {
   "cell_type": "markdown",
   "id": "144b599f-addb-4686-8425-1f6e6f862acd",
   "metadata": {},
   "source": [
    "Step1: Take the input string.\n",
    "\n",
    "Step2: Convert it to a list of characters using list().\n",
    "\n",
    "Step3: Use Python’s built-in sorted() function to sort the characters.\n",
    "\n",
    "Step4: Join the sorted characters back into a single string using join().\n",
    "\n",
    "Step5: Return or print the result."
   ]
  },
  {
   "cell_type": "markdown",
   "id": "be931aed-e6ac-4398-a9cc-cd43c98ed91b",
   "metadata": {},
   "source": [
    "### Solution Code"
   ]
  },
  {
   "cell_type": "code",
   "execution_count": 1,
   "id": "57cab10a-c58c-459b-b504-16dc7ee1d0ac",
   "metadata": {},
   "outputs": [],
   "source": [
    "# Approach1: Brute Force Approach: Using a Loop\n",
    "def sort_string_brute(s):\n",
    "    chars = list(s)\n",
    "    for i in range(len(chars)):\n",
    "        for j in range(i + 1, len(chars)):\n",
    "            if chars[i] > chars[j]:\n",
    "                chars[i], chars[j] = chars[j], chars[i]\n",
    "    return ''.join(chars)"
   ]
  },
  {
   "cell_type": "code",
   "execution_count": 2,
   "id": "c6b73b1c-518d-4265-925c-8c271c2045f7",
   "metadata": {},
   "outputs": [
    {
     "name": "stdout",
     "output_type": "stream",
     "text": [
      "abcde\n",
      "hnopty\n",
      "123Sginort\n"
     ]
    }
   ],
   "source": [
    "# Test cases\n",
    "print(sort_string_brute(\"edcba\"))        # abcde\n",
    "print(sort_string_brute(\"python\"))       # hnopty\n",
    "print(sort_string_brute(\"Sorting123\"))   # 123Sginort"
   ]
  },
  {
   "cell_type": "markdown",
   "id": "9febed86-bc77-49f3-aa50-7adfe033688a",
   "metadata": {},
   "source": [
    "### Alternative Solution1"
   ]
  },
  {
   "cell_type": "code",
   "execution_count": 3,
   "id": "0efc9774-33f6-41e2-8cd0-7cbeae985cfe",
   "metadata": {},
   "outputs": [],
   "source": [
    "# Approach2: Optimized Approach: Using Built-in\n",
    "def sort_string_optimized(s):\n",
    "    return ''.join(sorted(s))"
   ]
  },
  {
   "cell_type": "code",
   "execution_count": 4,
   "id": "705534f5-d328-4908-a080-2c38b82af4f6",
   "metadata": {},
   "outputs": [
    {
     "name": "stdout",
     "output_type": "stream",
     "text": [
      "abcde\n",
      "hnopty\n",
      "123Sginort\n"
     ]
    }
   ],
   "source": [
    "# Test cases\n",
    "print(sort_string_optimized(\"edcba\"))        # abcde\n",
    "print(sort_string_optimized(\"python\"))       # hnopty\n",
    "print(sort_string_optimized(\"Sorting123\"))   # 123Sginort"
   ]
  },
  {
   "cell_type": "markdown",
   "id": "3a6b9635-e779-4015-8c0a-877462fe95b2",
   "metadata": {},
   "source": [
    "### Alternative Solution2"
   ]
  },
  {
   "cell_type": "code",
   "execution_count": 5,
   "id": "9066ebd5-2e37-48c3-93d8-89b43c1dfc83",
   "metadata": {},
   "outputs": [],
   "source": [
    "# Approach3: Using Case-insensitive sorting\n",
    "def sort_string_case_insensitive(s):\n",
    "    return ''.join(sorted(s, key=lambda x: x.lower()))"
   ]
  },
  {
   "cell_type": "code",
   "execution_count": 6,
   "id": "f7f74eda-8f87-4d87-87d9-4a97bbf2a5eb",
   "metadata": {},
   "outputs": [
    {
     "name": "stdout",
     "output_type": "stream",
     "text": [
      "123ginorSt\n"
     ]
    }
   ],
   "source": [
    "# Test cases\n",
    "print(sort_string_case_insensitive(\"Sorting123\"))   # 123ginortS"
   ]
  },
  {
   "cell_type": "markdown",
   "id": "462318bf-672f-4468-9122-070cf70b5af5",
   "metadata": {},
   "source": [
    "## Complexity Analysis"
   ]
  },
  {
   "cell_type": "markdown",
   "id": "3ff61a2e-affa-44cc-b483-573f9dc9b166",
   "metadata": {},
   "source": [
    "Time Complexity:\n",
    "\n",
    "- Brute Force (Nested Loops): O(n²)\n",
    "- Optimized (Built-in Sort): O(n log n)\n",
    "- Case-insensitive Sort: O(n log n)\n",
    " \n",
    "Space Complexity:\n",
    "\n",
    "- Brute Force (Nested Loops): O(n)\n",
    "- Optimized (Built-in Sort): O(n)\n",
    "- Case-insensitive Sort: O(n) "
   ]
  },
  {
   "cell_type": "markdown",
   "id": "54ae9b22-a3fd-4d97-807c-9deb388d03b1",
   "metadata": {},
   "source": [
    "#### Thank You!!"
   ]
  }
 ],
 "metadata": {
  "kernelspec": {
   "display_name": "Python 3 (ipykernel)",
   "language": "python",
   "name": "python3"
  },
  "language_info": {
   "codemirror_mode": {
    "name": "ipython",
    "version": 3
   },
   "file_extension": ".py",
   "mimetype": "text/x-python",
   "name": "python",
   "nbconvert_exporter": "python",
   "pygments_lexer": "ipython3",
   "version": "3.8.10"
  }
 },
 "nbformat": 4,
 "nbformat_minor": 5
}
