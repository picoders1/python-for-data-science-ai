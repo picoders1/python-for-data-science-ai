{
 "cells": [
  {
   "cell_type": "markdown",
   "id": "8a36d3b1-1a8d-478e-8060-6477472e6bd4",
   "metadata": {},
   "source": [
    "# **Problem Statement**  \n",
    "## **10. Write a function to find the longest common prefix of a list of strings**"
   ]
  },
  {
   "cell_type": "markdown",
   "id": "12b96244-784f-44f1-b72a-e69e054e8b67",
   "metadata": {},
   "source": [
    "### Identify Constraints & Example Inputs/Outputs\n",
    "\n",
    "Constraints:\n",
    "\n",
    "- Input is a list of strings.\n",
    "- All strings consist of lowercase letters only.\n",
    "- Input list can have 0 or more strings.\n",
    "\n",
    "---\n",
    "Example1: Input: [\"flower\", \"flow\", \"flight\"]  \n",
    "\n",
    "Output: \"fl\"\n",
    "\n",
    "---\n",
    "Example2: Input: [\"dog\", \"racecar\", \"car\"]\n",
    "\n",
    "Output: \"\"\n",
    "\n",
    "---\n",
    "Example3: Input: [\"interspecies\", \"interstellar\", \"interstate\"]\n",
    "\n",
    "Output: \"inters\"\n",
    "\n",
    "---"
   ]
  },
  {
   "cell_type": "markdown",
   "id": "b68e7cad-ea42-4bb3-a20e-a91cba6d7424",
   "metadata": {},
   "source": [
    "### Solution Approach"
   ]
  },
  {
   "cell_type": "markdown",
   "id": "144b599f-addb-4686-8425-1f6e6f862acd",
   "metadata": {},
   "source": [
    "Step1: Start with the first string in the list as a prefix.\n",
    "\n",
    "Step2: Compare this prefix with each string one by one:\n",
    "- While the current prefix is not a prefix of the string:\n",
    "    - Remove the last character from the prefix.\n",
    "    - If it becomes empty, return \"\".\n",
    "\n",
    "Step3: After checking all strings, the prefix will be the longest common prefix."
   ]
  },
  {
   "cell_type": "markdown",
   "id": "be931aed-e6ac-4398-a9cc-cd43c98ed91b",
   "metadata": {},
   "source": [
    "### Solution Code"
   ]
  },
  {
   "cell_type": "code",
   "execution_count": 1,
   "id": "57cab10a-c58c-459b-b504-16dc7ee1d0ac",
   "metadata": {},
   "outputs": [],
   "source": [
    "# Approach1: Brute Force Approach: Using a Loop\n",
    "def longest_common_prefix_brute(strs):\n",
    "    if not strs:\n",
    "        return \"\"\n",
    "\n",
    "    prefix = strs[0]\n",
    "    \n",
    "    for word in strs[1:]:\n",
    "        temp = \"\"\n",
    "        for i in range(min(len(prefix), len(word))):\n",
    "            if prefix[i] == word[i]:\n",
    "                temp += prefix[i]\n",
    "            else:\n",
    "                break\n",
    "        prefix = temp\n",
    "        if not prefix:\n",
    "            break\n",
    "            \n",
    "    return prefix"
   ]
  },
  {
   "cell_type": "code",
   "execution_count": 2,
   "id": "c6b73b1c-518d-4265-925c-8c271c2045f7",
   "metadata": {},
   "outputs": [
    {
     "name": "stdout",
     "output_type": "stream",
     "text": [
      "fl\n",
      "\n"
     ]
    }
   ],
   "source": [
    "# Test Cases\n",
    "print(longest_common_prefix_brute([\"flower\", \"flow\", \"flight\"]))  # fl\n",
    "print(longest_common_prefix_brute([\"dog\", \"racecar\", \"car\"]))     # \"\""
   ]
  },
  {
   "cell_type": "markdown",
   "id": "9febed86-bc77-49f3-aa50-7adfe033688a",
   "metadata": {},
   "source": [
    "### Alternative Solution1"
   ]
  },
  {
   "cell_type": "code",
   "execution_count": 3,
   "id": "0efc9774-33f6-41e2-8cd0-7cbeae985cfe",
   "metadata": {},
   "outputs": [],
   "source": [
    "# Approach2: Optimized Approach\n",
    "def longest_common_prefix_optimized(strs):\n",
    "    if not strs:\n",
    "        return \"\"\n",
    "\n",
    "    prefix = strs[0]\n",
    "\n",
    "    for word in strs[1:]:\n",
    "        while not word.startswith(prefix):\n",
    "            prefix = prefix[:-1]\n",
    "            if not prefix:\n",
    "                return \"\"\n",
    "    \n",
    "    return prefix"
   ]
  },
  {
   "cell_type": "code",
   "execution_count": 4,
   "id": "705534f5-d328-4908-a080-2c38b82af4f6",
   "metadata": {},
   "outputs": [
    {
     "name": "stdout",
     "output_type": "stream",
     "text": [
      "fl\n",
      "\n"
     ]
    }
   ],
   "source": [
    "# Test Cases\n",
    "print(longest_common_prefix_optimized([\"flower\", \"flow\", \"flight\"]))  # fl\n",
    "print(longest_common_prefix_optimized([\"dog\", \"racecar\", \"car\"]))     # \"\""
   ]
  },
  {
   "cell_type": "markdown",
   "id": "3a6b9635-e779-4015-8c0a-877462fe95b2",
   "metadata": {},
   "source": [
    "### Alternative Solution2"
   ]
  },
  {
   "cell_type": "code",
   "execution_count": 5,
   "id": "9066ebd5-2e37-48c3-93d8-89b43c1dfc83",
   "metadata": {},
   "outputs": [],
   "source": [
    "# Approach3: Using Vertical Scannin\n",
    "def longest_common_prefix_vertical(strs):\n",
    "    if not strs:\n",
    "        return \"\"\n",
    "\n",
    "    for i in range(len(strs[0])):\n",
    "        char = strs[0][i]\n",
    "        for word in strs[1:]:\n",
    "            if i == len(word) or word[i] != char:\n",
    "                return strs[0][:i]\n",
    "    \n",
    "    return strs[0]"
   ]
  },
  {
   "cell_type": "code",
   "execution_count": 6,
   "id": "f7f74eda-8f87-4d87-87d9-4a97bbf2a5eb",
   "metadata": {},
   "outputs": [
    {
     "name": "stdout",
     "output_type": "stream",
     "text": [
      "fl\n",
      "\n"
     ]
    }
   ],
   "source": [
    "# Test Cases\n",
    "print(longest_common_prefix_vertical([\"flower\", \"flow\", \"flight\"]))  # fl\n",
    "print(longest_common_prefix_vertical([\"dog\", \"racecar\", \"car\"]))     # \"\""
   ]
  },
  {
   "cell_type": "markdown",
   "id": "462318bf-672f-4468-9122-070cf70b5af5",
   "metadata": {},
   "source": [
    "## Complexity Analysis"
   ]
  },
  {
   "cell_type": "markdown",
   "id": "3ff61a2e-affa-44cc-b483-573f9dc9b166",
   "metadata": {},
   "source": [
    "Time Complexity:\n",
    "\n",
    "- Brute Force: O(N * M)\n",
    "- Optimized (prefix trim): O(N * M)\n",
    "- Vertical Scanning: O(N * M)\n",
    " \n",
    "Space Complexity:\n",
    "\n",
    "- Brute Force: O(M)\n",
    "- Optimized (prefix trim): O(1)\n",
    "- Vertical Scanning: O(n) "
   ]
  },
  {
   "cell_type": "markdown",
   "id": "54ae9b22-a3fd-4d97-807c-9deb388d03b1",
   "metadata": {},
   "source": [
    "#### Thank You!!"
   ]
  }
 ],
 "metadata": {
  "kernelspec": {
   "display_name": "Python 3 (ipykernel)",
   "language": "python",
   "name": "python3"
  },
  "language_info": {
   "codemirror_mode": {
    "name": "ipython",
    "version": 3
   },
   "file_extension": ".py",
   "mimetype": "text/x-python",
   "name": "python",
   "nbconvert_exporter": "python",
   "pygments_lexer": "ipython3",
   "version": "3.8.10"
  }
 },
 "nbformat": 4,
 "nbformat_minor": 5
}
