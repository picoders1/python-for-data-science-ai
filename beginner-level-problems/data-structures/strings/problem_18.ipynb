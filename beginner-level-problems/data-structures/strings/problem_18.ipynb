{
 "cells": [
  {
   "cell_type": "markdown",
   "id": "8a36d3b1-1a8d-478e-8060-6477472e6bd4",
   "metadata": {},
   "source": [
    "# **Problem Statement**  \n",
    "## **18. Write a function to find all anagrams of a given word in a list of words**"
   ]
  },
  {
   "cell_type": "markdown",
   "id": "12b96244-784f-44f1-b72a-e69e054e8b67",
   "metadata": {},
   "source": [
    "### Identify Constraints & Example Inputs/Outputs\n",
    "\n",
    "Constraints:\n",
    "\n",
    "- Input word is lowercase and alphabetic.\n",
    "- The list may contain duplicates or unrelated words.\n",
    "- Case-sensitive (optional based on requirements).\n",
    "\n",
    "---\n",
    "Example1: Input: word = \"listen\", word_list = [\"enlist\", \"google\", \"inlets\", \"banana\"]  \n",
    "\n",
    "Output: [\"enlist\", \"inlets\"]\n",
    "\n",
    "---\n",
    "Example2: Input: word = \"evil\", word_list = [\"vile\", \"veil\", \"live\", \"vill\"]\n",
    "\n",
    "Output: [\"vile\", \"veil\", \"live\"]\n",
    "\n",
    "---"
   ]
  },
  {
   "cell_type": "markdown",
   "id": "b68e7cad-ea42-4bb3-a20e-a91cba6d7424",
   "metadata": {},
   "source": [
    "### Solution Approach"
   ]
  },
  {
   "cell_type": "markdown",
   "id": "144b599f-addb-4686-8425-1f6e6f862acd",
   "metadata": {},
   "source": [
    "Step1: Take the input word and sort its characters.\n",
    "\n",
    "Step2: Iterate through each word in the list.\n",
    "\n",
    "Step3: For each word, check if its sorted characters match the sorted input word.\n",
    "\n",
    "Step4: If they match, it’s an anagram — add it to the result list.\n",
    "\n",
    "Step5: Return the final list of anagrams.\n"
   ]
  },
  {
   "cell_type": "markdown",
   "id": "be931aed-e6ac-4398-a9cc-cd43c98ed91b",
   "metadata": {},
   "source": [
    "### Solution Code"
   ]
  },
  {
   "cell_type": "code",
   "execution_count": 1,
   "id": "57cab10a-c58c-459b-b504-16dc7ee1d0ac",
   "metadata": {},
   "outputs": [],
   "source": [
    "# Approach1: Brute Force Approach: Using a Loop\n",
    "def find_anagrams_brute(word, word_list):\n",
    "    result = []\n",
    "    for w in word_list:\n",
    "        if sorted(w) == sorted(word):\n",
    "            result.append(w)\n",
    "    return result"
   ]
  },
  {
   "cell_type": "code",
   "execution_count": 2,
   "id": "c6b73b1c-518d-4265-925c-8c271c2045f7",
   "metadata": {},
   "outputs": [
    {
     "name": "stdout",
     "output_type": "stream",
     "text": [
      "['enlist', 'inlets']\n"
     ]
    }
   ],
   "source": [
    "# Test case\n",
    "print(find_anagrams_brute(\"listen\", [\"enlist\", \"google\", \"inlets\", \"banana\"]))  # ['enlist', 'inlets']"
   ]
  },
  {
   "cell_type": "markdown",
   "id": "9febed86-bc77-49f3-aa50-7adfe033688a",
   "metadata": {},
   "source": [
    "### Alternative Solution1"
   ]
  },
  {
   "cell_type": "code",
   "execution_count": 3,
   "id": "0efc9774-33f6-41e2-8cd0-7cbeae985cfe",
   "metadata": {},
   "outputs": [],
   "source": [
    "# Approach2: Optimized Approach: Using Frequency Counter\n",
    "from collections import Counter\n",
    "\n",
    "def find_anagrams_optimized(word, word_list):\n",
    "    word_counter = Counter(word)\n",
    "    return [w for w in word_list if Counter(w) == word_counter]"
   ]
  },
  {
   "cell_type": "code",
   "execution_count": 4,
   "id": "705534f5-d328-4908-a080-2c38b82af4f6",
   "metadata": {},
   "outputs": [
    {
     "name": "stdout",
     "output_type": "stream",
     "text": [
      "['vile', 'veil', 'live']\n"
     ]
    }
   ],
   "source": [
    "# Test case\n",
    "print(find_anagrams_optimized(\"evil\", [\"vile\", \"veil\", \"live\", \"vill\"]))  # ['vile', 'veil', 'live']"
   ]
  },
  {
   "cell_type": "markdown",
   "id": "3a6b9635-e779-4015-8c0a-877462fe95b2",
   "metadata": {},
   "source": [
    "### Alternative Solution2"
   ]
  },
  {
   "cell_type": "code",
   "execution_count": 5,
   "id": "9066ebd5-2e37-48c3-93d8-89b43c1dfc83",
   "metadata": {},
   "outputs": [],
   "source": [
    "# Approach3: Using Sorting & Tuple Dictionary for Grouping\n",
    "from collections import defaultdict\n",
    "\n",
    "def group_anagrams(word_list):\n",
    "    anagram_dict = defaultdict(list)\n",
    "    for word in word_list:\n",
    "        key = tuple(sorted(word))\n",
    "        anagram_dict[key].append(word)\n",
    "    return anagram_dict\n",
    "\n",
    "# Use grouped anagrams to find anagrams of a word\n",
    "def find_anagrams_from_group(word, word_list):\n",
    "    groups = group_anagrams(word_list)\n",
    "    return groups.get(tuple(sorted(word)), [])"
   ]
  },
  {
   "cell_type": "code",
   "execution_count": 7,
   "id": "f7f74eda-8f87-4d87-87d9-4a97bbf2a5eb",
   "metadata": {},
   "outputs": [
    {
     "name": "stdout",
     "output_type": "stream",
     "text": [
      "['vile', 'veil', 'live']\n"
     ]
    }
   ],
   "source": [
    "# Test case\n",
    "print(find_anagrams_from_group(\"evil\", [\"vile\", \"veil\", \"live\", \"vill\"]))  # ['vile', 'veil', 'live']"
   ]
  },
  {
   "cell_type": "markdown",
   "id": "462318bf-672f-4468-9122-070cf70b5af5",
   "metadata": {},
   "source": [
    "## Complexity Analysis"
   ]
  },
  {
   "cell_type": "markdown",
   "id": "3ff61a2e-affa-44cc-b483-573f9dc9b166",
   "metadata": {},
   "source": [
    "Time Complexity:\n",
    "\n",
    "- Brute Force (Sorting): O(n * m log m)\n",
    "- Optimized (Using Counter): O(n * m)\n",
    "- Grouping with Dictionary: O(n * m log m)\n",
    " \n",
    "Space Complexity:\n",
    "\n",
    "- Brute Force (Sorting): O(m)\n",
    "- Optimized (Using Counter): O(m)\n",
    "- Grouping with Dictionary: O(n) "
   ]
  },
  {
   "cell_type": "markdown",
   "id": "54ae9b22-a3fd-4d97-807c-9deb388d03b1",
   "metadata": {},
   "source": [
    "#### Thank You!!"
   ]
  }
 ],
 "metadata": {
  "kernelspec": {
   "display_name": "Python 3 (ipykernel)",
   "language": "python",
   "name": "python3"
  },
  "language_info": {
   "codemirror_mode": {
    "name": "ipython",
    "version": 3
   },
   "file_extension": ".py",
   "mimetype": "text/x-python",
   "name": "python",
   "nbconvert_exporter": "python",
   "pygments_lexer": "ipython3",
   "version": "3.8.10"
  }
 },
 "nbformat": 4,
 "nbformat_minor": 5
}
