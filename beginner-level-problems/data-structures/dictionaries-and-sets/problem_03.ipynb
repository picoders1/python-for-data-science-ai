{
 "cells": [
  {
   "cell_type": "markdown",
   "id": "8a36d3b1-1a8d-478e-8060-6477472e6bd4",
   "metadata": {},
   "source": [
    "# **Problem Statement**  \n",
    "## **3. Write a program to count the occurrences of each word in a text using a dictionary**"
   ]
  },
  {
   "cell_type": "markdown",
   "id": "12b96244-784f-44f1-b72a-e69e054e8b67",
   "metadata": {},
   "source": [
    "### Identify Constraints & Example Inputs/Outputs\n",
    "\n",
    "Constraints:\n",
    "\n",
    "- Ignore punctuation.\n",
    "- Words should be treated case-insensitively (e.g., \"The\" and \"the\" are the same).\n",
    "- Return a dictionary with words as keys and their counts as values.\n",
    "\n",
    "---\n",
    "Example1: Input: \"The cat and the hat\"  \n",
    "\n",
    "Output: {'the': 2, 'cat': 1, 'and': 1, 'hat': 1}\n",
    "\n",
    "---\n",
    "Example2: Input: \"Hello, hello! How are you?\" \n",
    "\n",
    "Output: {'hello': 2, 'how': 1, 'are': 1, 'you': 1}\n",
    "\n",
    "---"
   ]
  },
  {
   "cell_type": "markdown",
   "id": "b68e7cad-ea42-4bb3-a20e-a91cba6d7424",
   "metadata": {},
   "source": [
    "### Solution Approach"
   ]
  },
  {
   "cell_type": "markdown",
   "id": "144b599f-addb-4686-8425-1f6e6f862acd",
   "metadata": {},
   "source": [
    "Step1: Convert the text to lowercase to treat words case-insensitively.\n",
    "\n",
    "Step2: Remove punctuation using re or str.translate().\n",
    "\n",
    "Step3: Split the text into words.\n",
    "\n",
    "Step4: Create an empty dictionary.\n",
    "\n",
    "Step5: Loop through the words and update the dictionary:\n",
    "- If the word is new, set count to 1.\n",
    "- If it exists, increment the count.\n",
    "\n",
    "Step6: Return or print the final dictionary."
   ]
  },
  {
   "cell_type": "markdown",
   "id": "be931aed-e6ac-4398-a9cc-cd43c98ed91b",
   "metadata": {},
   "source": [
    "### Solution Code"
   ]
  },
  {
   "cell_type": "code",
   "execution_count": 1,
   "id": "57cab10a-c58c-459b-b504-16dc7ee1d0ac",
   "metadata": {},
   "outputs": [],
   "source": [
    "# Approach1: Brute Force Approach: Manual Dictionary Counting\n",
    "import string\n",
    "\n",
    "def word_count_brute(text):\n",
    "    text = text.lower()\n",
    "    text = text.translate(str.maketrans('', '', string.punctuation))\n",
    "    words = text.split()\n",
    "    word_dict = {}\n",
    "    \n",
    "    for word in words:\n",
    "        if word not in word_dict:\n",
    "            word_dict[word] = 1\n",
    "        else:\n",
    "            word_dict[word] += 1\n",
    "            \n",
    "    return word_dict"
   ]
  },
  {
   "cell_type": "code",
   "execution_count": 2,
   "id": "c6b73b1c-518d-4265-925c-8c271c2045f7",
   "metadata": {},
   "outputs": [
    {
     "name": "stdout",
     "output_type": "stream",
     "text": [
      "{'hello': 2, 'how': 1, 'are': 1, 'you': 1}\n"
     ]
    }
   ],
   "source": [
    "# Test cases\n",
    "print(word_count_brute(\"Hello, hello! How are you?\"))"
   ]
  },
  {
   "cell_type": "markdown",
   "id": "9febed86-bc77-49f3-aa50-7adfe033688a",
   "metadata": {},
   "source": [
    "### Alternative Solution1"
   ]
  },
  {
   "cell_type": "code",
   "execution_count": 3,
   "id": "0efc9774-33f6-41e2-8cd0-7cbeae985cfe",
   "metadata": {},
   "outputs": [],
   "source": [
    "# Approach2: Optimized Approach: Using collections.Counter\n",
    "from collections import Counter\n",
    "import string\n",
    "\n",
    "def word_count_optimized(text):\n",
    "    text = text.lower()\n",
    "    text = text.translate(str.maketrans('', '', string.punctuation))\n",
    "    words = text.split()\n",
    "    return dict(Counter(words))"
   ]
  },
  {
   "cell_type": "code",
   "execution_count": 4,
   "id": "705534f5-d328-4908-a080-2c38b82af4f6",
   "metadata": {},
   "outputs": [
    {
     "name": "stdout",
     "output_type": "stream",
     "text": [
      "{'the': 2, 'cat': 1, 'and': 1, 'hat': 1}\n"
     ]
    }
   ],
   "source": [
    "# Test cases\n",
    "print(word_count_optimized(\"The cat and the hat\"))"
   ]
  },
  {
   "cell_type": "markdown",
   "id": "3a6b9635-e779-4015-8c0a-877462fe95b2",
   "metadata": {},
   "source": [
    "### Alternative Solution2"
   ]
  },
  {
   "cell_type": "code",
   "execution_count": 5,
   "id": "9066ebd5-2e37-48c3-93d8-89b43c1dfc83",
   "metadata": {},
   "outputs": [],
   "source": [
    "# Approach 3: Using Regex for Better Cleaning\n",
    "import re\n",
    "from collections import defaultdict\n",
    "\n",
    "def word_count_regex(text):\n",
    "    words = re.findall(r'\\b\\w+\\b', text.lower())\n",
    "    count_dict = defaultdict(int)\n",
    "    for word in words:\n",
    "        count_dict[word] += 1\n",
    "    return dict(count_dict)"
   ]
  },
  {
   "cell_type": "code",
   "execution_count": 6,
   "id": "f7f74eda-8f87-4d87-87d9-4a97bbf2a5eb",
   "metadata": {},
   "outputs": [
    {
     "name": "stdout",
     "output_type": "stream",
     "text": [
      "{'hello': 2, 'how': 1, 'are': 1, 'you': 1}\n"
     ]
    }
   ],
   "source": [
    "# Test cases\n",
    "print(word_count_regex(\"Hello, hello! How are you?\"))"
   ]
  },
  {
   "cell_type": "markdown",
   "id": "462318bf-672f-4468-9122-070cf70b5af5",
   "metadata": {},
   "source": [
    "## Complexity Analysis"
   ]
  },
  {
   "cell_type": "markdown",
   "id": "3ff61a2e-affa-44cc-b483-573f9dc9b166",
   "metadata": {},
   "source": [
    "Time Complexity:\n",
    "\n",
    "- Brute Force (Manual Count): O(n)\n",
    "- Optimized (Counter): O(n)\n",
    "- Regex + defaultdict: O(n) \n",
    " \n",
    "Space Complexity:\n",
    "\n",
    "- Brute Force (Manual Count): O(k)\n",
    "- OOptimized (Counter): O(k)\n",
    "- Regex + defaultdict: O(k) "
   ]
  },
  {
   "cell_type": "markdown",
   "id": "54ae9b22-a3fd-4d97-807c-9deb388d03b1",
   "metadata": {},
   "source": [
    "#### Thank You!!"
   ]
  }
 ],
 "metadata": {
  "kernelspec": {
   "display_name": "Python 3 (ipykernel)",
   "language": "python",
   "name": "python3"
  },
  "language_info": {
   "codemirror_mode": {
    "name": "ipython",
    "version": 3
   },
   "file_extension": ".py",
   "mimetype": "text/x-python",
   "name": "python",
   "nbconvert_exporter": "python",
   "pygments_lexer": "ipython3",
   "version": "3.8.10"
  }
 },
 "nbformat": 4,
 "nbformat_minor": 5
}
