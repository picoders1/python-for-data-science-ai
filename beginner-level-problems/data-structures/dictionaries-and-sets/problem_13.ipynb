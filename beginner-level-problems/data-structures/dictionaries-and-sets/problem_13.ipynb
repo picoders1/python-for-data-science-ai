{
 "cells": [
  {
   "cell_type": "markdown",
   "id": "8a36d3b1-1a8d-478e-8060-6477472e6bd4",
   "metadata": {},
   "source": [
    "# **Problem Statement**  \n",
    "## **13. Write a Python program to find the intersection of two sets**"
   ]
  },
  {
   "cell_type": "markdown",
   "id": "12b96244-784f-44f1-b72a-e69e054e8b67",
   "metadata": {},
   "source": [
    "### Identify Constraints & Example Inputs/Outputs\n",
    "\n",
    "Constraints:\n",
    "\n",
    "- The inputs are Python sets.\n",
    "- Elements are hashable.\n",
    "- Sets can have any size.\n",
    "\n",
    "---\n",
    "Example1: Input: set1 = {1, 2, 3, 4}, set2 = {3, 4, 5, 6}  \n",
    "\n",
    "Output: {3, 4}\n",
    "\n",
    "---\n",
    "Example2: Input: set1 = {'a', 'b'}, set2 = {'c', 'd'} \n",
    "\n",
    "Output: set()\n",
    "\n",
    "---"
   ]
  },
  {
   "cell_type": "markdown",
   "id": "b68e7cad-ea42-4bb3-a20e-a91cba6d7424",
   "metadata": {},
   "source": [
    "### Solution Approach"
   ]
  },
  {
   "cell_type": "markdown",
   "id": "144b599f-addb-4686-8425-1f6e6f862acd",
   "metadata": {},
   "source": [
    "Step1: Sets in Python support intersection using the & operator or the .intersection() method.\n",
    "\n",
    "Step2: Brute-force way: loop through one set and check membership in the other.\n",
    "\n",
    "Step3: Optimized way: use built-in set operations for efficient intersection.\n",
    "\n",
    "Step4: The result will be a new set with only the common elements."
   ]
  },
  {
   "cell_type": "markdown",
   "id": "be931aed-e6ac-4398-a9cc-cd43c98ed91b",
   "metadata": {},
   "source": [
    "### Solution Code"
   ]
  },
  {
   "cell_type": "code",
   "execution_count": 1,
   "id": "57cab10a-c58c-459b-b504-16dc7ee1d0ac",
   "metadata": {},
   "outputs": [],
   "source": [
    "# Approach1: Brute Force Approach: Using a Loop\n",
    "def intersection_brute(set1, set2):\n",
    "    result = set()\n",
    "    for item in set1:\n",
    "        if item in set2:\n",
    "            result.add(item)\n",
    "    return result"
   ]
  },
  {
   "cell_type": "code",
   "execution_count": 2,
   "id": "c6b73b1c-518d-4265-925c-8c271c2045f7",
   "metadata": {},
   "outputs": [
    {
     "name": "stdout",
     "output_type": "stream",
     "text": [
      "{3, 4}\n"
     ]
    }
   ],
   "source": [
    "# Test cases\n",
    "print(intersection_brute({1, 2, 3, 4}, {3, 4, 5, 6}))  # Output: {3, 4}"
   ]
  },
  {
   "cell_type": "markdown",
   "id": "9febed86-bc77-49f3-aa50-7adfe033688a",
   "metadata": {},
   "source": [
    "### Alternative Solution1"
   ]
  },
  {
   "cell_type": "code",
   "execution_count": 5,
   "id": "0efc9774-33f6-41e2-8cd0-7cbeae985cfe",
   "metadata": {},
   "outputs": [],
   "source": [
    "# Approach 2: Optimized Approach: Using & Operator\n",
    "def intersection_optimized(set1, set2):\n",
    "    return set1 & set2  # or: set1.intersection(set2)"
   ]
  },
  {
   "cell_type": "code",
   "execution_count": 6,
   "id": "705534f5-d328-4908-a080-2c38b82af4f6",
   "metadata": {},
   "outputs": [
    {
     "name": "stdout",
     "output_type": "stream",
     "text": [
      "{3, 4}\n"
     ]
    }
   ],
   "source": [
    "# Test cases\n",
    "print(intersection_optimized({1, 2, 3, 4}, {3, 4, 5, 6}))  # Output: {3, 4}"
   ]
  },
  {
   "cell_type": "markdown",
   "id": "3a6b9635-e779-4015-8c0a-877462fe95b2",
   "metadata": {},
   "source": [
    "### Alternative Solution2"
   ]
  },
  {
   "cell_type": "code",
   "execution_count": 7,
   "id": "9066ebd5-2e37-48c3-93d8-89b43c1dfc83",
   "metadata": {},
   "outputs": [],
   "source": [
    "# Approach 3: Using list comprehension (less efficient for large sets)\n",
    "def intersection_alternative(set1, set2):\n",
    "    return set([x for x in set1 if x in set2])"
   ]
  },
  {
   "cell_type": "code",
   "execution_count": 8,
   "id": "f7f74eda-8f87-4d87-87d9-4a97bbf2a5eb",
   "metadata": {},
   "outputs": [
    {
     "name": "stdout",
     "output_type": "stream",
     "text": [
      "{2, 3}\n"
     ]
    }
   ],
   "source": [
    "# Test cases\n",
    "print(intersection_alternative({1, 2, 3}, {2, 3, 4}))  # Output: {2, 3}"
   ]
  },
  {
   "cell_type": "markdown",
   "id": "462318bf-672f-4468-9122-070cf70b5af5",
   "metadata": {},
   "source": [
    "## Complexity Analysis"
   ]
  },
  {
   "cell_type": "markdown",
   "id": "3ff61a2e-affa-44cc-b483-573f9dc9b166",
   "metadata": {},
   "source": [
    "Time Complexity:\n",
    "\n",
    "- Brute Force: O(n * m)\n",
    "- Built-in & or .intersection()s: O(min(n, m))\n",
    "- List Comprehension: O(n * m) \n",
    " \n",
    "Space Complexity:\n",
    "\n",
    "- Brute Force: O(min(n, m))\n",
    "- Optimized Pass: O(min(n, m))\n",
    "- Heap Approach: O(min(n, m))"
   ]
  },
  {
   "cell_type": "markdown",
   "id": "54ae9b22-a3fd-4d97-807c-9deb388d03b1",
   "metadata": {},
   "source": [
    "#### Thank You!!"
   ]
  }
 ],
 "metadata": {
  "kernelspec": {
   "display_name": "Python 3 (ipykernel)",
   "language": "python",
   "name": "python3"
  },
  "language_info": {
   "codemirror_mode": {
    "name": "ipython",
    "version": 3
   },
   "file_extension": ".py",
   "mimetype": "text/x-python",
   "name": "python",
   "nbconvert_exporter": "python",
   "pygments_lexer": "ipython3",
   "version": "3.8.10"
  }
 },
 "nbformat": 4,
 "nbformat_minor": 5
}
