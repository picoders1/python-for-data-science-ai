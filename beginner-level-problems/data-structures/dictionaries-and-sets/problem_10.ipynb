{
 "cells": [
  {
   "cell_type": "markdown",
   "id": "8a36d3b1-1a8d-478e-8060-6477472e6bd4",
   "metadata": {},
   "source": [
    "# **Problem Statement**  \n",
    "## **10. Write a Python function to filter dictionary keys based on a condition**"
   ]
  },
  {
   "cell_type": "markdown",
   "id": "12b96244-784f-44f1-b72a-e69e054e8b67",
   "metadata": {},
   "source": [
    "### Identify Constraints & Example Inputs/Outputs\n",
    "\n",
    "Constraints:\n",
    "\n",
    "- The input must be a valid dictionary.\n",
    "- The condition must be a callable function that takes a key and returns a boolean.\n",
    "- Do not modify the original dictionary.\n",
    "\n",
    "---\n",
    "Example1: Input: {'apple': 10, 'banana': 5, 'cherry': 7}, condition = lambda k: 'a' in k    \n",
    "\n",
    "Output: {'apple': 10, 'banana': 5}\n",
    "\n",
    "---\n",
    "Example2: Input: {1: 'a', 2: 'b', 3: 'c'}, condition = lambda k: k % 2 == 1  \n",
    "\n",
    "Output: {1: 'a', 3: 'c'}\n",
    "\n",
    "---"
   ]
  },
  {
   "cell_type": "markdown",
   "id": "b68e7cad-ea42-4bb3-a20e-a91cba6d7424",
   "metadata": {},
   "source": [
    "### Solution Approach"
   ]
  },
  {
   "cell_type": "markdown",
   "id": "144b599f-addb-4686-8425-1f6e6f862acd",
   "metadata": {},
   "source": [
    "Step1: Accept a dictionary and a condition function as input.\n",
    "\n",
    "Step2: Iterate through each key in the dictionary.\n",
    "\n",
    "Step3: Apply the condition function to the key.\n",
    "\n",
    "Step4: If the condition returns True, keep that key-value pair in the new dictionary.\n",
    "\n",
    "Step5: Return the new filtered dictionary."
   ]
  },
  {
   "cell_type": "markdown",
   "id": "be931aed-e6ac-4398-a9cc-cd43c98ed91b",
   "metadata": {},
   "source": [
    "### Solution Code"
   ]
  },
  {
   "cell_type": "code",
   "execution_count": 1,
   "id": "57cab10a-c58c-459b-b504-16dc7ee1d0ac",
   "metadata": {},
   "outputs": [],
   "source": [
    "# Approach1: Brute Force Approach: Using a loop with if\n",
    "def filter_keys_brute(d, condition):\n",
    "    result = {}\n",
    "    for k, v in d.items():\n",
    "        if condition(k):\n",
    "            result[k] = v\n",
    "    return result"
   ]
  },
  {
   "cell_type": "code",
   "execution_count": 2,
   "id": "c6b73b1c-518d-4265-925c-8c271c2045f7",
   "metadata": {},
   "outputs": [
    {
     "name": "stdout",
     "output_type": "stream",
     "text": [
      "{'apple': 10, 'banana': 5}\n"
     ]
    }
   ],
   "source": [
    "# Test cases\n",
    "print(filter_keys_brute({'apple': 10, 'banana': 5, 'cherry': 7}, lambda k: 'a' in k))  # {'apple': 10, 'banana': 5}"
   ]
  },
  {
   "cell_type": "markdown",
   "id": "9febed86-bc77-49f3-aa50-7adfe033688a",
   "metadata": {},
   "source": [
    "### Alternative Solution1"
   ]
  },
  {
   "cell_type": "code",
   "execution_count": 3,
   "id": "0efc9774-33f6-41e2-8cd0-7cbeae985cfe",
   "metadata": {},
   "outputs": [],
   "source": [
    "# Approach2: Optimized Approach: Using dictionary comprehension\n",
    "def filter_keys_optimized(d, condition):\n",
    "    return {k: v for k, v in d.items() if condition(k)}"
   ]
  },
  {
   "cell_type": "code",
   "execution_count": 4,
   "id": "705534f5-d328-4908-a080-2c38b82af4f6",
   "metadata": {},
   "outputs": [
    {
     "name": "stdout",
     "output_type": "stream",
     "text": [
      "{1: 'a', 3: 'c'}\n"
     ]
    }
   ],
   "source": [
    "# Test cases\n",
    "print(filter_keys_optimized({1: 'a', 2: 'b', 3: 'c'}, lambda k: k % 2 == 1))  # {1: 'a', 3: 'c'}"
   ]
  },
  {
   "cell_type": "markdown",
   "id": "3a6b9635-e779-4015-8c0a-877462fe95b2",
   "metadata": {},
   "source": [
    "### Alternative Solution2"
   ]
  },
  {
   "cell_type": "code",
   "execution_count": 6,
   "id": "9066ebd5-2e37-48c3-93d8-89b43c1dfc83",
   "metadata": {},
   "outputs": [],
   "source": [
    "# Approach3: Using filter() and dict() constructor\n",
    "def filter_keys_with_filter(d, condition):\n",
    "    return dict(filter(lambda item: condition(item[0]), d.items()))"
   ]
  },
  {
   "cell_type": "code",
   "execution_count": 7,
   "id": "f7f74eda-8f87-4d87-87d9-4a97bbf2a5eb",
   "metadata": {},
   "outputs": [
    {
     "name": "stdout",
     "output_type": "stream",
     "text": [
      "{'x1': 100, 'x2': 200}\n"
     ]
    }
   ],
   "source": [
    "# Test cases\n",
    "print(filter_keys_with_filter({'x1': 100, 'x2': 200, 'y1': 300}, lambda k: k.startswith('x')))  # {'x1': 100, 'x2': 200}"
   ]
  },
  {
   "cell_type": "markdown",
   "id": "462318bf-672f-4468-9122-070cf70b5af5",
   "metadata": {},
   "source": [
    "## Complexity Analysis"
   ]
  },
  {
   "cell_type": "markdown",
   "id": "3ff61a2e-affa-44cc-b483-573f9dc9b166",
   "metadata": {},
   "source": [
    "Time Complexity:\n",
    "\n",
    "- Using loop (if + dict): O(n)\n",
    "- Using dict comprehension: O(n)\n",
    "- Using filter() + dict(): O(n)\n",
    " \n",
    "Space Complexity:\n",
    "\n",
    "- Using loop (if + dict): O(n)\n",
    "- Using dict comprehension: O(n)\n",
    "- Using filter() + dict(): O(n)"
   ]
  },
  {
   "cell_type": "markdown",
   "id": "54ae9b22-a3fd-4d97-807c-9deb388d03b1",
   "metadata": {},
   "source": [
    "#### Thank You!!"
   ]
  }
 ],
 "metadata": {
  "kernelspec": {
   "display_name": "Python 3 (ipykernel)",
   "language": "python",
   "name": "python3"
  },
  "language_info": {
   "codemirror_mode": {
    "name": "ipython",
    "version": 3
   },
   "file_extension": ".py",
   "mimetype": "text/x-python",
   "name": "python",
   "nbconvert_exporter": "python",
   "pygments_lexer": "ipython3",
   "version": "3.8.10"
  }
 },
 "nbformat": 4,
 "nbformat_minor": 5
}
