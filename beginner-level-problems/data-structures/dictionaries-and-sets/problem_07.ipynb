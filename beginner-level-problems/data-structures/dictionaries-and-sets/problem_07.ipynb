{
 "cells": [
  {
   "cell_type": "markdown",
   "id": "8a36d3b1-1a8d-478e-8060-6477472e6bd4",
   "metadata": {},
   "source": [
    "# **Problem Statement**  \n",
    "## **7. Write a function to find the symmetric difference between two sets**"
   ]
  },
  {
   "cell_type": "markdown",
   "id": "12b96244-784f-44f1-b72a-e69e054e8b67",
   "metadata": {},
   "source": [
    "### Identify Constraints & Example Inputs/Outputs\n",
    "\n",
    "Constraints:\n",
    "\n",
    "- Inputs must be valid sets.\n",
    "- Sets can contain any hashable elements.\n",
    "- The output should be a new set.\n",
    "\n",
    "---\n",
    "Example1: Input: set1 = {1, 2, 3}, set2 = {3, 4, 5}  \n",
    "\n",
    "Output: {1, 2, 4, 5}\n",
    "\n",
    "---\n",
    "Example2: Input: set1 = {10, 20}, set2 = {10, 20}  \n",
    "\n",
    "Output: set()  # Empty set\n",
    "\n",
    "---"
   ]
  },
  {
   "cell_type": "markdown",
   "id": "b68e7cad-ea42-4bb3-a20e-a91cba6d7424",
   "metadata": {},
   "source": [
    "### Solution Approach"
   ]
  },
  {
   "cell_type": "markdown",
   "id": "144b599f-addb-4686-8425-1f6e6f862acd",
   "metadata": {},
   "source": [
    "Step1: Understand that the symmetric difference means elements in either of the sets but not in both.\n",
    "\n",
    "Step2: In Python, you can use:\n",
    "- The ^ operator: set1 ^ set2\n",
    "- Or the method: set1.symmetric_difference(set2)\n",
    "\n",
    "Step3: This operation is commutative and returns a new set.\n"
   ]
  },
  {
   "cell_type": "markdown",
   "id": "be931aed-e6ac-4398-a9cc-cd43c98ed91b",
   "metadata": {},
   "source": [
    "### Solution Code"
   ]
  },
  {
   "cell_type": "code",
   "execution_count": 1,
   "id": "57cab10a-c58c-459b-b504-16dc7ee1d0ac",
   "metadata": {},
   "outputs": [],
   "source": [
    "# Approach1: Brute Force Approach: Using loops and basic logic\n",
    "def symmetric_diff_brute(set1, set2):\n",
    "    result = set()\n",
    "    for item in set1:\n",
    "        if item not in set2:\n",
    "            result.add(item)\n",
    "    for item in set2:\n",
    "        if item not in set1:\n",
    "            result.add(item)\n",
    "    return result"
   ]
  },
  {
   "cell_type": "code",
   "execution_count": 2,
   "id": "c6b73b1c-518d-4265-925c-8c271c2045f7",
   "metadata": {},
   "outputs": [
    {
     "name": "stdout",
     "output_type": "stream",
     "text": [
      "{1, 2, 4, 5}\n"
     ]
    }
   ],
   "source": [
    "# Test cases\n",
    "print(symmetric_diff_brute({1, 2, 3}, {3, 4, 5}))  # Output: {1, 2, 4, 5}"
   ]
  },
  {
   "cell_type": "markdown",
   "id": "9febed86-bc77-49f3-aa50-7adfe033688a",
   "metadata": {},
   "source": [
    "### Alternative Solution1"
   ]
  },
  {
   "cell_type": "code",
   "execution_count": 3,
   "id": "0efc9774-33f6-41e2-8cd0-7cbeae985cfe",
   "metadata": {},
   "outputs": [],
   "source": [
    "# Approach 2: Optimized Approach: Using built-in ^ operator\n",
    "def symmetric_diff_optimized(set1, set2):\n",
    "    return set1 ^ set2"
   ]
  },
  {
   "cell_type": "code",
   "execution_count": 4,
   "id": "705534f5-d328-4908-a080-2c38b82af4f6",
   "metadata": {},
   "outputs": [
    {
     "name": "stdout",
     "output_type": "stream",
     "text": [
      "{1, 2, 4, 5}\n"
     ]
    }
   ],
   "source": [
    "# Test cases\n",
    "print(symmetric_diff_optimized({1, 2, 3}, {3, 4, 5}))  # Output: {1, 2, 4, 5}"
   ]
  },
  {
   "cell_type": "markdown",
   "id": "3a6b9635-e779-4015-8c0a-877462fe95b2",
   "metadata": {},
   "source": [
    "### Alternative Solution2"
   ]
  },
  {
   "cell_type": "code",
   "execution_count": 5,
   "id": "9066ebd5-2e37-48c3-93d8-89b43c1dfc83",
   "metadata": {},
   "outputs": [],
   "source": [
    "# Approach 3: Using symmetric_difference() method\n",
    "def symmetric_diff_alt(set1, set2):\n",
    "    return set1.symmetric_difference(set2)"
   ]
  },
  {
   "cell_type": "code",
   "execution_count": 6,
   "id": "f7f74eda-8f87-4d87-87d9-4a97bbf2a5eb",
   "metadata": {},
   "outputs": [
    {
     "name": "stdout",
     "output_type": "stream",
     "text": [
      "set()\n"
     ]
    }
   ],
   "source": [
    "# Test cases\n",
    "print(symmetric_diff_alt({10, 20}, {10, 20}))  # Output: set()"
   ]
  },
  {
   "cell_type": "markdown",
   "id": "462318bf-672f-4468-9122-070cf70b5af5",
   "metadata": {},
   "source": [
    "## Complexity Analysis"
   ]
  },
  {
   "cell_type": "markdown",
   "id": "3ff61a2e-affa-44cc-b483-573f9dc9b166",
   "metadata": {},
   "source": [
    "Time Complexity:\n",
    "\n",
    "- Brute Force (loop-based): O(n + m)\n",
    "- Built-in ^ operator: O(n + m)\n",
    "- symmetric_difference() method: O(n + m) \n",
    " \n",
    "Space Complexity:\n",
    "\n",
    "- Brute Force (loop-based): O(n + m)\n",
    "- Built-in ^ operator: O(n + m)\n",
    "- symmetric_difference() method: O(n + m) "
   ]
  },
  {
   "cell_type": "markdown",
   "id": "54ae9b22-a3fd-4d97-807c-9deb388d03b1",
   "metadata": {},
   "source": [
    "#### Thank You!!"
   ]
  }
 ],
 "metadata": {
  "kernelspec": {
   "display_name": "Python 3 (ipykernel)",
   "language": "python",
   "name": "python3"
  },
  "language_info": {
   "codemirror_mode": {
    "name": "ipython",
    "version": 3
   },
   "file_extension": ".py",
   "mimetype": "text/x-python",
   "name": "python",
   "nbconvert_exporter": "python",
   "pygments_lexer": "ipython3",
   "version": "3.8.10"
  }
 },
 "nbformat": 4,
 "nbformat_minor": 5
}
