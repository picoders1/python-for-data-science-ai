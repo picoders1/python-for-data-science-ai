{
 "cells": [
  {
   "cell_type": "markdown",
   "id": "8a36d3b1-1a8d-478e-8060-6477472e6bd4",
   "metadata": {},
   "source": [
    "# **Problem Statement**  \n",
    "## **2. Write a function to find the common keys in two dictionaries**"
   ]
  },
  {
   "cell_type": "markdown",
   "id": "12b96244-784f-44f1-b72a-e69e054e8b67",
   "metadata": {},
   "source": [
    "### Identify Constraints & Example Inputs/Outputs\n",
    "\n",
    "Constraints:\n",
    "\n",
    "- Both inputs are valid dictionaries.\n",
    "- Keys can be of any hashable type (string, number, tuple, etc.).\n",
    "- Values may differ; only keys need to match.\n",
    "\n",
    "---\n",
    "Example1: Input: dict1 = {'a': 1, 'b': 2, 'c': 3}, dict2 = {'b': 4, 'c': 5, 'd': 6}    \n",
    "\n",
    "Output: ['b', 'c'] or {'b', 'c'}\n",
    "\n",
    "---\n",
    "Example2: Input: dict1 = {}, dict2 = {'x': 10}  \n",
    "\n",
    "Output: []\n",
    "\n",
    "---\n",
    "Example3: Input: dict1 = {'x': 1, 'y': 2}, dict2 = {'z': 3, 'w': 4} \n",
    "\n",
    "Output: []\n",
    "\n",
    "---"
   ]
  },
  {
   "cell_type": "markdown",
   "id": "b68e7cad-ea42-4bb3-a20e-a91cba6d7424",
   "metadata": {},
   "source": [
    "### Solution Approach"
   ]
  },
  {
   "cell_type": "markdown",
   "id": "144b599f-addb-4686-8425-1f6e6f862acd",
   "metadata": {},
   "source": [
    "Step1: Extract the keys from both dictionaries using .keys() method.\n",
    "\n",
    "Step2: Convert the keys to sets so we can use set intersection.\n",
    "\n",
    "Step3: The common keys are the intersection of the two sets.\n",
    "\n",
    "Step4: Return the result as a list or set (as per requirement)."
   ]
  },
  {
   "cell_type": "markdown",
   "id": "be931aed-e6ac-4398-a9cc-cd43c98ed91b",
   "metadata": {},
   "source": [
    "### Solution Code"
   ]
  },
  {
   "cell_type": "code",
   "execution_count": 1,
   "id": "57cab10a-c58c-459b-b504-16dc7ee1d0ac",
   "metadata": {},
   "outputs": [],
   "source": [
    "# Approach1: Brute Force Approach: Using a Loop\n",
    "def find_common_keys_brute(dict1, dict2):\n",
    "    common_keys = []\n",
    "    for key in dict1:\n",
    "        if key in dict2:\n",
    "            common_keys.append(key)\n",
    "    return common_keys"
   ]
  },
  {
   "cell_type": "code",
   "execution_count": 2,
   "id": "c6b73b1c-518d-4265-925c-8c271c2045f7",
   "metadata": {},
   "outputs": [
    {
     "name": "stdout",
     "output_type": "stream",
     "text": [
      "['b']\n"
     ]
    }
   ],
   "source": [
    "# Test cases\n",
    "print(find_common_keys_brute({'a': 1, 'b': 2}, {'b': 3, 'c': 4}))  # ['b']"
   ]
  },
  {
   "cell_type": "markdown",
   "id": "9febed86-bc77-49f3-aa50-7adfe033688a",
   "metadata": {},
   "source": [
    "### Alternative Solution1"
   ]
  },
  {
   "cell_type": "code",
   "execution_count": 3,
   "id": "0efc9774-33f6-41e2-8cd0-7cbeae985cfe",
   "metadata": {},
   "outputs": [],
   "source": [
    "# Approach2: Optimized Approach: Using Set Intersection\n",
    "def find_common_keys_optimized(dict1, dict2):\n",
    "    return list(set(dict1.keys()) & set(dict2.keys()))"
   ]
  },
  {
   "cell_type": "code",
   "execution_count": 4,
   "id": "705534f5-d328-4908-a080-2c38b82af4f6",
   "metadata": {},
   "outputs": [
    {
     "name": "stdout",
     "output_type": "stream",
     "text": [
      "['b', 'c']\n"
     ]
    }
   ],
   "source": [
    "# Test cases\n",
    "print(find_common_keys_optimized({'a': 1, 'b': 2, 'c': 3}, {'b': 4, 'c': 5, 'd': 6}))  # ['b', 'c']"
   ]
  },
  {
   "cell_type": "markdown",
   "id": "3a6b9635-e779-4015-8c0a-877462fe95b2",
   "metadata": {},
   "source": [
    "### Alternative Solution2"
   ]
  },
  {
   "cell_type": "code",
   "execution_count": 5,
   "id": "9066ebd5-2e37-48c3-93d8-89b43c1dfc83",
   "metadata": {},
   "outputs": [],
   "source": [
    "# Approach 3: Return Set Directly\n",
    "def find_common_keys_set(dict1, dict2):\n",
    "    return set(dict1) & set(dict2)"
   ]
  },
  {
   "cell_type": "code",
   "execution_count": 6,
   "id": "f7f74eda-8f87-4d87-87d9-4a97bbf2a5eb",
   "metadata": {},
   "outputs": [
    {
     "name": "stdout",
     "output_type": "stream",
     "text": [
      "{'y'}\n"
     ]
    }
   ],
   "source": [
    "# Test cases\n",
    "print(find_common_keys_set({'x': 1, 'y': 2}, {'y': 3, 'z': 4}))  # {'y'}"
   ]
  },
  {
   "cell_type": "markdown",
   "id": "462318bf-672f-4468-9122-070cf70b5af5",
   "metadata": {},
   "source": [
    "## Complexity Analysis"
   ]
  },
  {
   "cell_type": "markdown",
   "id": "3ff61a2e-affa-44cc-b483-573f9dc9b166",
   "metadata": {},
   "source": [
    "Time Complexity:\n",
    "\n",
    "- Brute Force (Loop + Check): O(n)\n",
    "- Set Intersection (Optimized): O(n + m)\n",
    "- Return Set Directly: O(n + m) \n",
    " \n",
    "Space Complexity:\n",
    "\n",
    "- Brute Force (Loop + Check): O(k)\n",
    "- Set Intersection (Optimized): O(k)\n",
    "- Return Set Directly: O(k)"
   ]
  },
  {
   "cell_type": "markdown",
   "id": "54ae9b22-a3fd-4d97-807c-9deb388d03b1",
   "metadata": {},
   "source": [
    "#### Thank You!!"
   ]
  }
 ],
 "metadata": {
  "kernelspec": {
   "display_name": "Python 3 (ipykernel)",
   "language": "python",
   "name": "python3"
  },
  "language_info": {
   "codemirror_mode": {
    "name": "ipython",
    "version": 3
   },
   "file_extension": ".py",
   "mimetype": "text/x-python",
   "name": "python",
   "nbconvert_exporter": "python",
   "pygments_lexer": "ipython3",
   "version": "3.8.10"
  }
 },
 "nbformat": 4,
 "nbformat_minor": 5
}
