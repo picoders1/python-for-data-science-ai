{
 "cells": [
  {
   "cell_type": "markdown",
   "id": "8a36d3b1-1a8d-478e-8060-6477472e6bd4",
   "metadata": {},
   "source": [
    "# **Problem Statement**  \n",
    "## **6. Write a program to invert a dictionary (swap keys and values)**"
   ]
  },
  {
   "cell_type": "markdown",
   "id": "12b96244-784f-44f1-b72a-e69e054e8b67",
   "metadata": {},
   "source": [
    "### Identify Constraints & Example Inputs/Outputs\n",
    "\n",
    "Constraints:\n",
    "\n",
    "- The input is a valid dictionary with hashable keys and values.\n",
    "- Values must also be hashable, as they become keys in the inverted dictionary.\n",
    "- If multiple keys have the same value, the result should group them (e.g., as a list) or override, depending on the chosen approach.\n",
    "\n",
    "---\n",
    "Example1: Input: {'a': 1, 'b': 2, 'c': 1}  \n",
    "\n",
    "Output (grouped): {1: ['a', 'c'], 2: ['b']}\n",
    "\n",
    "---\n",
    "Example2: Input: {'x': 10, 'y': 20}\n",
    "\n",
    "Output: {10: 'x', 20: 'y'}\n",
    "\n",
    "---"
   ]
  },
  {
   "cell_type": "markdown",
   "id": "b68e7cad-ea42-4bb3-a20e-a91cba6d7424",
   "metadata": {},
   "source": [
    "### Solution Approach"
   ]
  },
  {
   "cell_type": "markdown",
   "id": "144b599f-addb-4686-8425-1f6e6f862acd",
   "metadata": {},
   "source": [
    "Step1: Loop through each key-value pair in the dictionary.\n",
    "\n",
    "Step2: Invert the key and value.\n",
    "\n",
    "Step3: If handling duplicates:\n",
    "- Use a defaultdict(list) to collect all keys for a common value.\n",
    "\n",
    "Step4: Otherwise, later keys with the same value will overwrite earlier ones.\n",
    "\n",
    "Step4: Return the inverted dictionary."
   ]
  },
  {
   "cell_type": "markdown",
   "id": "be931aed-e6ac-4398-a9cc-cd43c98ed91b",
   "metadata": {},
   "source": [
    "### Solution Code"
   ]
  },
  {
   "cell_type": "code",
   "execution_count": 1,
   "id": "57cab10a-c58c-459b-b504-16dc7ee1d0ac",
   "metadata": {},
   "outputs": [],
   "source": [
    "# Approach1: Brute Force Approach: Overwriting on duplicate values\n",
    "def invert_dict_brute(d):\n",
    "    return {v: k for k, v in d.items()}"
   ]
  },
  {
   "cell_type": "code",
   "execution_count": 2,
   "id": "c6b73b1c-518d-4265-925c-8c271c2045f7",
   "metadata": {},
   "outputs": [
    {
     "name": "stdout",
     "output_type": "stream",
     "text": [
      "{1: 'c', 2: 'b'}\n"
     ]
    }
   ],
   "source": [
    "# Test cases\n",
    "print(invert_dict_brute({'a': 1, 'b': 2, 'c': 1}))\n",
    "# Output: {1: 'c', 2: 'b'}  # 'a' is overwritten by 'c'"
   ]
  },
  {
   "cell_type": "markdown",
   "id": "9febed86-bc77-49f3-aa50-7adfe033688a",
   "metadata": {},
   "source": [
    "### Alternative Solution1"
   ]
  },
  {
   "cell_type": "code",
   "execution_count": 3,
   "id": "0efc9774-33f6-41e2-8cd0-7cbeae985cfe",
   "metadata": {},
   "outputs": [],
   "source": [
    "# Approach2: Optimized Approach: Grouping duplicates using defaultdict\n",
    "from collections import defaultdict\n",
    "\n",
    "def invert_dict_grouped(d):\n",
    "    inverted = defaultdict(list)\n",
    "    for k, v in d.items():\n",
    "        inverted[v].append(k)\n",
    "    return dict(inverted)"
   ]
  },
  {
   "cell_type": "code",
   "execution_count": 4,
   "id": "705534f5-d328-4908-a080-2c38b82af4f6",
   "metadata": {},
   "outputs": [
    {
     "name": "stdout",
     "output_type": "stream",
     "text": [
      "{1: ['a', 'c'], 2: ['b']}\n"
     ]
    }
   ],
   "source": [
    "# Test cases\n",
    "print(invert_dict_grouped({'a': 1, 'b': 2, 'c': 1}))\n",
    "# Output: {1: ['a', 'c'], 2: ['b']}"
   ]
  },
  {
   "cell_type": "markdown",
   "id": "3a6b9635-e779-4015-8c0a-877462fe95b2",
   "metadata": {},
   "source": [
    "### Alternative Solution2"
   ]
  },
  {
   "cell_type": "code",
   "execution_count": 5,
   "id": "9066ebd5-2e37-48c3-93d8-89b43c1dfc83",
   "metadata": {},
   "outputs": [],
   "source": [
    "# Approach3: Using setdefault() to group values manually\n",
    "def invert_dict_with_setdefault(d):\n",
    "    inverted = {}\n",
    "    for k, v in d.items():\n",
    "        inverted.setdefault(v, []).append(k)\n",
    "    return inverted"
   ]
  },
  {
   "cell_type": "code",
   "execution_count": 6,
   "id": "f7f74eda-8f87-4d87-87d9-4a97bbf2a5eb",
   "metadata": {},
   "outputs": [
    {
     "name": "stdout",
     "output_type": "stream",
     "text": [
      "{1: ['a', 'c'], 2: ['b']}\n"
     ]
    }
   ],
   "source": [
    "# Test cases\n",
    "print(invert_dict_with_setdefault({'a': 1, 'b': 2, 'c': 1}))\n",
    "# Output: {1: ['a', 'c'], 2: ['b']}"
   ]
  },
  {
   "cell_type": "markdown",
   "id": "462318bf-672f-4468-9122-070cf70b5af5",
   "metadata": {},
   "source": [
    "## Complexity Analysis"
   ]
  },
  {
   "cell_type": "markdown",
   "id": "3ff61a2e-affa-44cc-b483-573f9dc9b166",
   "metadata": {},
   "source": [
    "Time Complexity:\n",
    "\n",
    "- Overwrite method (Brute): O(n)\n",
    "- Grouped with defaultdict: O(n)\n",
    "- Using setdefault(): O(n) \n",
    " \n",
    "Space Complexity:\n",
    "\n",
    "- Overwrite method (Brute): O(n)\n",
    "- Grouped with defaultdict: O(n)\n",
    "- Using setdefault(): O(n) "
   ]
  },
  {
   "cell_type": "markdown",
   "id": "54ae9b22-a3fd-4d97-807c-9deb388d03b1",
   "metadata": {},
   "source": [
    "#### Thank You!!"
   ]
  }
 ],
 "metadata": {
  "kernelspec": {
   "display_name": "Python 3 (ipykernel)",
   "language": "python",
   "name": "python3"
  },
  "language_info": {
   "codemirror_mode": {
    "name": "ipython",
    "version": 3
   },
   "file_extension": ".py",
   "mimetype": "text/x-python",
   "name": "python",
   "nbconvert_exporter": "python",
   "pygments_lexer": "ipython3",
   "version": "3.8.10"
  }
 },
 "nbformat": 4,
 "nbformat_minor": 5
}
