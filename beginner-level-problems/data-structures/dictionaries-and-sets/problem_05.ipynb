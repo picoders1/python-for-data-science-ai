{
 "cells": [
  {
   "cell_type": "markdown",
   "id": "8a36d3b1-1a8d-478e-8060-6477472e6bd4",
   "metadata": {},
   "source": [
    "# **Problem Statement**  \n",
    "## **5. Write a Python function to sort a dictionary by values**"
   ]
  },
  {
   "cell_type": "markdown",
   "id": "12b96244-784f-44f1-b72a-e69e054e8b67",
   "metadata": {},
   "source": [
    "### Identify Constraints & Example Inputs/Outputs\n",
    "\n",
    "Constraints:\n",
    "\n",
    "- The dictionary will have hashable keys and comparable values.\n",
    "- Sorting must be based on the values, not the keys.\n",
    "- Do not mutate the original dictionary unless specified.\n",
    "\n",
    "---\n",
    "Example1: Input: {'apple': 3, 'banana': 1, 'cherry': 2}\n",
    "\n",
    "Output: {'banana': 1, 'cherry': 2, 'apple': 3}\n",
    "\n",
    "---\n",
    "Example2: Input: {'x': 100, 'y': 50, 'z': 75}\n",
    "\n",
    "Output: {'y': 50, 'z': 75, 'x': 100}\n",
    "\n",
    "---"
   ]
  },
  {
   "cell_type": "markdown",
   "id": "b68e7cad-ea42-4bb3-a20e-a91cba6d7424",
   "metadata": {},
   "source": [
    "### Solution Approach"
   ]
  },
  {
   "cell_type": "markdown",
   "id": "144b599f-addb-4686-8425-1f6e6f862acd",
   "metadata": {},
   "source": [
    "Step1: Access all key-value pairs in the dictionary using .items().\n",
    "\n",
    "Step2: Use Python’s built-in sorted() function to sort the items.\n",
    "\n",
    "Step3: Provide a custom key function (like lambda item: item[1]) to sort by values.\n",
    "\n",
    "Step4: Convert the sorted list of tuples back into a dictionary using dict().\n",
    "\n",
    "Step5: Ensure the original dictionary remains unchanged."
   ]
  },
  {
   "cell_type": "markdown",
   "id": "be931aed-e6ac-4398-a9cc-cd43c98ed91b",
   "metadata": {},
   "source": [
    "### Solution Code"
   ]
  },
  {
   "cell_type": "code",
   "execution_count": 1,
   "id": "57cab10a-c58c-459b-b504-16dc7ee1d0ac",
   "metadata": {},
   "outputs": [],
   "source": [
    "# Approach1: Brute Force Approach: Using lambda with sorted\n",
    "def sort_dict_by_values_brute(d):\n",
    "    return dict(sorted(d.items(), key=lambda item: item[1]))"
   ]
  },
  {
   "cell_type": "code",
   "execution_count": 2,
   "id": "c6b73b1c-518d-4265-925c-8c271c2045f7",
   "metadata": {},
   "outputs": [
    {
     "name": "stdout",
     "output_type": "stream",
     "text": [
      "{'banana': 1, 'cherry': 2, 'apple': 3}\n"
     ]
    }
   ],
   "source": [
    "# Test cases\n",
    "print(sort_dict_by_values_brute({'apple': 3, 'banana': 1, 'cherry': 2}))\n",
    "# Output: {'banana': 1, 'cherry': 2, 'apple': 3}"
   ]
  },
  {
   "cell_type": "markdown",
   "id": "9febed86-bc77-49f3-aa50-7adfe033688a",
   "metadata": {},
   "source": [
    "### Alternative Solution1"
   ]
  },
  {
   "cell_type": "code",
   "execution_count": 3,
   "id": "0efc9774-33f6-41e2-8cd0-7cbeae985cfe",
   "metadata": {},
   "outputs": [],
   "source": [
    "# Approach 2: Optimized Approach: Using itemgetter\n",
    "from operator import itemgetter\n",
    "\n",
    "def sort_dict_by_values_optimized(d):\n",
    "    return dict(sorted(d.items(), key=itemgetter(1)))"
   ]
  },
  {
   "cell_type": "code",
   "execution_count": 4,
   "id": "705534f5-d328-4908-a080-2c38b82af4f6",
   "metadata": {},
   "outputs": [
    {
     "name": "stdout",
     "output_type": "stream",
     "text": [
      "{'banana': 1, 'cherry': 2, 'apple': 3}\n"
     ]
    }
   ],
   "source": [
    "# Test cases\n",
    "print(sort_dict_by_values_optimized({'apple': 3, 'banana': 1, 'cherry': 2}))\n",
    "# Output: {'banana': 1, 'cherry': 2, 'apple': 3}"
   ]
  },
  {
   "cell_type": "markdown",
   "id": "3a6b9635-e779-4015-8c0a-877462fe95b2",
   "metadata": {},
   "source": [
    "### Alternative Solution2"
   ]
  },
  {
   "cell_type": "code",
   "execution_count": 5,
   "id": "9066ebd5-2e37-48c3-93d8-89b43c1dfc83",
   "metadata": {},
   "outputs": [],
   "source": [
    "# Approach 3: Sort in descending order (just reverse the order)\n",
    "def sort_dict_by_values_desc(d):\n",
    "    return dict(sorted(d.items(), key=lambda item: item[1], reverse=True))"
   ]
  },
  {
   "cell_type": "code",
   "execution_count": 6,
   "id": "f7f74eda-8f87-4d87-87d9-4a97bbf2a5eb",
   "metadata": {},
   "outputs": [
    {
     "name": "stdout",
     "output_type": "stream",
     "text": [
      "{'apple': 3, 'cherry': 2, 'banana': 1}\n"
     ]
    }
   ],
   "source": [
    "# Test cases\n",
    "print(sort_dict_by_values_desc({'apple': 3, 'banana': 1, 'cherry': 2}))\n",
    "# Output: {'apple': 3, 'cherry': 2, 'banana': 1}"
   ]
  },
  {
   "cell_type": "markdown",
   "id": "462318bf-672f-4468-9122-070cf70b5af5",
   "metadata": {},
   "source": [
    "## Complexity Analysis"
   ]
  },
  {
   "cell_type": "markdown",
   "id": "3ff61a2e-affa-44cc-b483-573f9dc9b166",
   "metadata": {},
   "source": [
    "Time Complexity:\n",
    "\n",
    "- Using lambda with sorted: O(n log n)\n",
    "- Using itemgetter: O(n log n)\n",
    "- Descending order variation: O(n log n)\n",
    " \n",
    "Space Complexity:\n",
    "\n",
    "- Using lambda with sorted: O(n)\n",
    "- Using itemgetter: O(n)\n",
    "- Descending order variation: O(n) "
   ]
  },
  {
   "cell_type": "markdown",
   "id": "54ae9b22-a3fd-4d97-807c-9deb388d03b1",
   "metadata": {},
   "source": [
    "#### Thank You!!"
   ]
  }
 ],
 "metadata": {
  "kernelspec": {
   "display_name": "Python 3 (ipykernel)",
   "language": "python",
   "name": "python3"
  },
  "language_info": {
   "codemirror_mode": {
    "name": "ipython",
    "version": 3
   },
   "file_extension": ".py",
   "mimetype": "text/x-python",
   "name": "python",
   "nbconvert_exporter": "python",
   "pygments_lexer": "ipython3",
   "version": "3.8.10"
  }
 },
 "nbformat": 4,
 "nbformat_minor": 5
}
