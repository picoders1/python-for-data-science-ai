{
 "cells": [
  {
   "cell_type": "markdown",
   "id": "8a36d3b1-1a8d-478e-8060-6477472e6bd4",
   "metadata": {},
   "source": [
    "# **Problem Statement**  \n",
    "## **8. Write a Python program to find the most frequently occurring value in a dictionary**"
   ]
  },
  {
   "cell_type": "markdown",
   "id": "12b96244-784f-44f1-b72a-e69e054e8b67",
   "metadata": {},
   "source": [
    "### Identify Constraints & Example Inputs/Outputs\n",
    "\n",
    "Constraints:\n",
    "\n",
    "- The dictionary contains hashable values.\n",
    "- If multiple values have the same highest frequency, return any one of them.\n",
    "- The input dictionary should not be empty.\n",
    "\n",
    "---\n",
    "Example1: Input: {'a': 1, 'b': 2, 'c': 1, 'd': 3}  \n",
    "\n",
    "Output: 1\n",
    "\n",
    "---\n",
    "Example2: Input: {'x': 7, 'y': 7, 'z': 8, 'w': 8} \n",
    "\n",
    "Output: 7 or 8 (either is acceptable)\n",
    "\n",
    "---"
   ]
  },
  {
   "cell_type": "markdown",
   "id": "b68e7cad-ea42-4bb3-a20e-a91cba6d7424",
   "metadata": {},
   "source": [
    "### Solution Approach"
   ]
  },
  {
   "cell_type": "markdown",
   "id": "144b599f-addb-4686-8425-1f6e6f862acd",
   "metadata": {},
   "source": [
    "Step1: Extract all values from the dictionary using dict.values().\n",
    "\n",
    "Step2: Count the frequency of each value using a dictionary or the collections.Counter class.\n",
    "\n",
    "Step3: Identify the value with the highest count.\n",
    "\n",
    "Step4: Return the value."
   ]
  },
  {
   "cell_type": "markdown",
   "id": "be931aed-e6ac-4398-a9cc-cd43c98ed91b",
   "metadata": {},
   "source": [
    "### Solution Code"
   ]
  },
  {
   "cell_type": "code",
   "execution_count": 1,
   "id": "57cab10a-c58c-459b-b504-16dc7ee1d0ac",
   "metadata": {},
   "outputs": [],
   "source": [
    "# Approach1: Brute Force Approach: Using dictionary to count manually\n",
    "def most_frequent_value_brute(d):\n",
    "    freq = {}\n",
    "    for value in d.values():\n",
    "        freq[value] = freq.get(value, 0) + 1\n",
    "    max_count = max(freq.values())\n",
    "    for k, v in freq.items():\n",
    "        if v == max_count:\n",
    "            return k"
   ]
  },
  {
   "cell_type": "code",
   "execution_count": 2,
   "id": "c6b73b1c-518d-4265-925c-8c271c2045f7",
   "metadata": {},
   "outputs": [
    {
     "name": "stdout",
     "output_type": "stream",
     "text": [
      "1\n"
     ]
    }
   ],
   "source": [
    "# Test cases\n",
    "print(most_frequent_value_brute({'a': 1, 'b': 2, 'c': 1, 'd': 3}))  # Output: 1"
   ]
  },
  {
   "cell_type": "markdown",
   "id": "9febed86-bc77-49f3-aa50-7adfe033688a",
   "metadata": {},
   "source": [
    "### Alternative Solution1"
   ]
  },
  {
   "cell_type": "code",
   "execution_count": 3,
   "id": "0efc9774-33f6-41e2-8cd0-7cbeae985cfe",
   "metadata": {},
   "outputs": [],
   "source": [
    "# Approach2: Optimized Approach: Using collections.Counter\n",
    "from collections import Counter\n",
    "\n",
    "def most_frequent_value_optimized(d):\n",
    "    counter = Counter(d.values())\n",
    "    return counter.most_common(1)[0][0]"
   ]
  },
  {
   "cell_type": "code",
   "execution_count": 4,
   "id": "705534f5-d328-4908-a080-2c38b82af4f6",
   "metadata": {},
   "outputs": [
    {
     "name": "stdout",
     "output_type": "stream",
     "text": [
      "7\n"
     ]
    }
   ],
   "source": [
    "# Test cases\n",
    "print(most_frequent_value_optimized({'x': 7, 'y': 7, 'z': 8, 'w': 8}))  # Output: 7 or 8"
   ]
  },
  {
   "cell_type": "markdown",
   "id": "3a6b9635-e779-4015-8c0a-877462fe95b2",
   "metadata": {},
   "source": [
    "### Alternative Solution2"
   ]
  },
  {
   "cell_type": "code",
   "execution_count": 5,
   "id": "9066ebd5-2e37-48c3-93d8-89b43c1dfc83",
   "metadata": {},
   "outputs": [],
   "source": [
    "# Approach 3: Using max() with key argument\n",
    "def most_frequent_value_alt(d):\n",
    "    values = list(d.values())\n",
    "    return max(set(values), key=values.count)"
   ]
  },
  {
   "cell_type": "code",
   "execution_count": 6,
   "id": "f7f74eda-8f87-4d87-87d9-4a97bbf2a5eb",
   "metadata": {},
   "outputs": [
    {
     "name": "stdout",
     "output_type": "stream",
     "text": [
      "5\n"
     ]
    }
   ],
   "source": [
    "# Test cases\n",
    "print(most_frequent_value_alt({'a': 5, 'b': 5, 'c': 6}))  # Output: 5"
   ]
  },
  {
   "cell_type": "markdown",
   "id": "462318bf-672f-4468-9122-070cf70b5af5",
   "metadata": {},
   "source": [
    "## Complexity Analysis"
   ]
  },
  {
   "cell_type": "markdown",
   "id": "3ff61a2e-affa-44cc-b483-573f9dc9b166",
   "metadata": {},
   "source": [
    "Time Complexity:\n",
    "\n",
    "- Manual counting (Brute Force): O(n)\n",
    "- collections.Counter (Optimized): O(n)\n",
    "- max(set(values), key=...): O(n²)\n",
    " \n",
    "Space Complexity:\n",
    "\n",
    "- Brute Force: O(n)\n",
    "- Optimized Pass: O(n)\n",
    "- Heap Approach: O(n) "
   ]
  },
  {
   "cell_type": "markdown",
   "id": "54ae9b22-a3fd-4d97-807c-9deb388d03b1",
   "metadata": {},
   "source": [
    "#### Thank You!!"
   ]
  }
 ],
 "metadata": {
  "kernelspec": {
   "display_name": "Python 3 (ipykernel)",
   "language": "python",
   "name": "python3"
  },
  "language_info": {
   "codemirror_mode": {
    "name": "ipython",
    "version": 3
   },
   "file_extension": ".py",
   "mimetype": "text/x-python",
   "name": "python",
   "nbconvert_exporter": "python",
   "pygments_lexer": "ipython3",
   "version": "3.8.10"
  }
 },
 "nbformat": 4,
 "nbformat_minor": 5
}
