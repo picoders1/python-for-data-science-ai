{
 "cells": [
  {
   "cell_type": "markdown",
   "id": "8a36d3b1-1a8d-478e-8060-6477472e6bd4",
   "metadata": {},
   "source": [
    "# **Problem Statement**  \n",
    "## **13. Write a function to split a list into evenly sized chunks**"
   ]
  },
  {
   "cell_type": "markdown",
   "id": "12b96244-784f-44f1-b72a-e69e054e8b67",
   "metadata": {},
   "source": [
    "### Identify Constraints & Example Inputs/Outputs\n",
    "\n",
    "Constraints:\n",
    "\n",
    "- Input: a list lst and integer n (n > 0)\n",
    "- n must be a positive integer\n",
    "- The list can contain any data type\n",
    "\n",
    "---\n",
    "Example1: Input: lst = [1, 2, 3, 4, 5, 6, 7], n = 3  \n",
    "\n",
    "Output: [[1, 2, 3], [4, 5, 6], [7]]\n",
    "\n",
    "---\n",
    "Example2: Input: lst = ['a', 'b', 'c', 'd'], n = 2 \n",
    "\n",
    "Output: [['a', 'b'], ['c', 'd']]\n",
    "\n",
    "---"
   ]
  },
  {
   "cell_type": "markdown",
   "id": "b68e7cad-ea42-4bb3-a20e-a91cba6d7424",
   "metadata": {},
   "source": [
    "### Solution Approach"
   ]
  },
  {
   "cell_type": "markdown",
   "id": "144b599f-addb-4686-8425-1f6e6f862acd",
   "metadata": {},
   "source": [
    "Step1: Loop through the list with a step size of n.\n",
    "\n",
    "Step2: Slice the list from the current index to index + n on each iteration.\n",
    "\n",
    "Step3: Append each slice to a result list\n",
    "\n",
    "Step4: Return the result list at the end."
   ]
  },
  {
   "cell_type": "markdown",
   "id": "be931aed-e6ac-4398-a9cc-cd43c98ed91b",
   "metadata": {},
   "source": [
    "### Solution Code"
   ]
  },
  {
   "cell_type": "code",
   "execution_count": 1,
   "id": "57cab10a-c58c-459b-b504-16dc7ee1d0ac",
   "metadata": {},
   "outputs": [],
   "source": [
    "# Approach1: Brute Force Approach: Using a Loop\n",
    "def split_into_chunks_brute(lst, n):\n",
    "    result = []\n",
    "    for i in range(0, len(lst), n):\n",
    "        chunk = []\n",
    "        for j in range(i, min(i+n, len(lst))):\n",
    "            chunk.append(lst[j])\n",
    "        result.append(chunk)\n",
    "    return result"
   ]
  },
  {
   "cell_type": "code",
   "execution_count": 2,
   "id": "c6b73b1c-518d-4265-925c-8c271c2045f7",
   "metadata": {},
   "outputs": [
    {
     "name": "stdout",
     "output_type": "stream",
     "text": [
      "[[1, 2, 3], [4, 5, 6], [7]]\n"
     ]
    }
   ],
   "source": [
    "# Test cases\n",
    "print(split_into_chunks_brute([1, 2, 3, 4, 5, 6, 7], 3))"
   ]
  },
  {
   "cell_type": "markdown",
   "id": "9febed86-bc77-49f3-aa50-7adfe033688a",
   "metadata": {},
   "source": [
    "### Alternative Solution1"
   ]
  },
  {
   "cell_type": "code",
   "execution_count": 7,
   "id": "0efc9774-33f6-41e2-8cd0-7cbeae985cfe",
   "metadata": {},
   "outputs": [],
   "source": [
    "# Approach2: Optimized Approach: Using List Slicing\n",
    "def split_into_chunks(lst, n):\n",
    "    return [lst[i:i+n] for i in range(0, len(lst), n)]"
   ]
  },
  {
   "cell_type": "code",
   "execution_count": 8,
   "id": "705534f5-d328-4908-a080-2c38b82af4f6",
   "metadata": {},
   "outputs": [
    {
     "name": "stdout",
     "output_type": "stream",
     "text": [
      "[[1, 2, 3], [4, 5, 6], [7]]\n"
     ]
    }
   ],
   "source": [
    "# Test cases\n",
    "print(split_into_chunks([1, 2, 3, 4, 5, 6, 7], 3))"
   ]
  },
  {
   "cell_type": "markdown",
   "id": "3a6b9635-e779-4015-8c0a-877462fe95b2",
   "metadata": {},
   "source": [
    "### Alternative Solution2"
   ]
  },
  {
   "cell_type": "code",
   "execution_count": 9,
   "id": "9066ebd5-2e37-48c3-93d8-89b43c1dfc83",
   "metadata": {},
   "outputs": [],
   "source": [
    "# Approach3: Using itertools\n",
    "from itertools import zip_longest\n",
    "\n",
    "def split_chunks_itertools(lst, n):\n",
    "    args = [iter(lst)] * n\n",
    "    return [list(filter(lambda x: x is not None, chunk)) for chunk in zip_longest(*args)]"
   ]
  },
  {
   "cell_type": "code",
   "execution_count": 10,
   "id": "f7f74eda-8f87-4d87-87d9-4a97bbf2a5eb",
   "metadata": {},
   "outputs": [
    {
     "name": "stdout",
     "output_type": "stream",
     "text": [
      "[[1, 2], [3, 4], [5, 6]]\n"
     ]
    }
   ],
   "source": [
    "# Test cases\n",
    "print(split_chunks_itertools([1, 2, 3, 4, 5, 6], 2))"
   ]
  },
  {
   "cell_type": "markdown",
   "id": "462318bf-672f-4468-9122-070cf70b5af5",
   "metadata": {},
   "source": [
    "## Complexity Analysis"
   ]
  },
  {
   "cell_type": "markdown",
   "id": "3ff61a2e-affa-44cc-b483-573f9dc9b166",
   "metadata": {},
   "source": [
    "Time Complexity:\n",
    "\n",
    "- Brute Force: O(n)\n",
    "- List Slicing(Optimal): O(n)\n",
    "- itertools Based: O(n) \n",
    " \n",
    "Space Complexity:\n",
    "\n",
    "- Brute Force: O(n)\n",
    "- List Slicing(Optimal): O(n)\n",
    "- itertools Based: O(n) "
   ]
  },
  {
   "cell_type": "markdown",
   "id": "54ae9b22-a3fd-4d97-807c-9deb388d03b1",
   "metadata": {},
   "source": [
    "#### Thank You!!"
   ]
  }
 ],
 "metadata": {
  "kernelspec": {
   "display_name": "Python 3 (ipykernel)",
   "language": "python",
   "name": "python3"
  },
  "language_info": {
   "codemirror_mode": {
    "name": "ipython",
    "version": 3
   },
   "file_extension": ".py",
   "mimetype": "text/x-python",
   "name": "python",
   "nbconvert_exporter": "python",
   "pygments_lexer": "ipython3",
   "version": "3.8.10"
  }
 },
 "nbformat": 4,
 "nbformat_minor": 5
}
