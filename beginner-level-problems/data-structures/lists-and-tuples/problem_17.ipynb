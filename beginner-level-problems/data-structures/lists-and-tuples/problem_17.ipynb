{
 "cells": [
  {
   "cell_type": "markdown",
   "id": "8a36d3b1-1a8d-478e-8060-6477472e6bd4",
   "metadata": {},
   "source": [
    "# **Problem Statement**  \n",
    "## **17. Write a function to sort a list of tuples by the second element**"
   ]
  },
  {
   "cell_type": "markdown",
   "id": "12b96244-784f-44f1-b72a-e69e054e8b67",
   "metadata": {},
   "source": [
    "### Identify Constraints & Example Inputs/Outputs\n",
    "\n",
    "Constraints:\n",
    "\n",
    "- Assume each tuple contains at least two elements.\n",
    "- The list can be empty or contain one tuple.\n",
    "- The second element is sortable (e.g., int, float, string)\n",
    "\n",
    "---\n",
    "Example1: Input: [(1, 3), (2, 1), (4, 2)]  \n",
    "\n",
    "Output: [(2, 1), (4, 2), (1, 3)]\n",
    "\n",
    "---\n",
    "Example2: Input: [(1, 10)] \n",
    "\n",
    "Output: [(1, 10)]\n",
    "\n",
    "---\n",
    "Example3: Input: []\n",
    "\n",
    "Output: []\n",
    "\n",
    "---"
   ]
  },
  {
   "cell_type": "markdown",
   "id": "b68e7cad-ea42-4bb3-a20e-a91cba6d7424",
   "metadata": {},
   "source": [
    "### Solution Approach"
   ]
  },
  {
   "cell_type": "markdown",
   "id": "144b599f-addb-4686-8425-1f6e6f862acd",
   "metadata": {},
   "source": [
    "Step1: Understand the list contains tuples.\n",
    "\n",
    "Step2: Sorting needs to be done based on the second item in each tuple.\n",
    "\n",
    "Step3: Python’s built-in sorted() function allows a custom key.\n",
    "\n",
    "Step4: Use key=lambda x: x[1] to sort by the second element."
   ]
  },
  {
   "cell_type": "markdown",
   "id": "be931aed-e6ac-4398-a9cc-cd43c98ed91b",
   "metadata": {},
   "source": [
    "### Solution Code"
   ]
  },
  {
   "cell_type": "code",
   "execution_count": 1,
   "id": "57cab10a-c58c-459b-b504-16dc7ee1d0ac",
   "metadata": {},
   "outputs": [],
   "source": [
    "# Approach1: Brute Force Approach: Using Manual Sorting\n",
    "def sort_by_second_brute(tuples_list):\n",
    "    # Bubble sort based on the second element\n",
    "    n = len(tuples_list)\n",
    "    for i in range(n):\n",
    "        for j in range(0, n-i-1):\n",
    "            if tuples_list[j][1] > tuples_list[j+1][1]:\n",
    "                tuples_list[j], tuples_list[j+1] = tuples_list[j+1], tuples_list[j]\n",
    "    return tuples_list"
   ]
  },
  {
   "cell_type": "code",
   "execution_count": 2,
   "id": "c6b73b1c-518d-4265-925c-8c271c2045f7",
   "metadata": {},
   "outputs": [
    {
     "name": "stdout",
     "output_type": "stream",
     "text": [
      "[(2, 1), (4, 2), (1, 3)]\n"
     ]
    }
   ],
   "source": [
    "# Test cases\n",
    "print(sort_by_second_brute([(1, 3), (2, 1), (4, 2)]))  # [(2, 1), (4, 2), (1, 3)]"
   ]
  },
  {
   "cell_type": "markdown",
   "id": "9febed86-bc77-49f3-aa50-7adfe033688a",
   "metadata": {},
   "source": [
    "### Alternative Solution1"
   ]
  },
  {
   "cell_type": "code",
   "execution_count": 3,
   "id": "0efc9774-33f6-41e2-8cd0-7cbeae985cfe",
   "metadata": {},
   "outputs": [],
   "source": [
    "# Approach2: Optimized Approach: Using sorted() with key\n",
    "def sort_by_second_optimized(tuples_list):\n",
    "    return sorted(tuples_list, key=lambda x: x[1])"
   ]
  },
  {
   "cell_type": "code",
   "execution_count": 4,
   "id": "705534f5-d328-4908-a080-2c38b82af4f6",
   "metadata": {},
   "outputs": [
    {
     "name": "stdout",
     "output_type": "stream",
     "text": [
      "[(2, 1), (4, 2), (1, 3)]\n"
     ]
    }
   ],
   "source": [
    "# Test cases\n",
    "print(sort_by_second_optimized([(1, 3), (2, 1), (4, 2)]))  # [(2, 1), (4, 2), (1, 3)]"
   ]
  },
  {
   "cell_type": "markdown",
   "id": "3a6b9635-e779-4015-8c0a-877462fe95b2",
   "metadata": {},
   "source": [
    "### Alternative Solution2"
   ]
  },
  {
   "cell_type": "code",
   "execution_count": 5,
   "id": "9066ebd5-2e37-48c3-93d8-89b43c1dfc83",
   "metadata": {},
   "outputs": [],
   "source": [
    "# Approach3: Using itemgetter from operator\n",
    "from operator import itemgetter\n",
    "\n",
    "def sort_by_second_itemgetter(tuples_list):\n",
    "    return sorted(tuples_list, key=itemgetter(1))"
   ]
  },
  {
   "cell_type": "code",
   "execution_count": 6,
   "id": "f7f74eda-8f87-4d87-87d9-4a97bbf2a5eb",
   "metadata": {},
   "outputs": [
    {
     "name": "stdout",
     "output_type": "stream",
     "text": [
      "[(2, 1), (4, 2), (1, 3)]\n"
     ]
    }
   ],
   "source": [
    "# Test cases\n",
    "print(sort_by_second_itemgetter([(1, 3), (2, 1), (4, 2)]))  # [(2, 1), (4, 2), (1, 3)]"
   ]
  },
  {
   "cell_type": "markdown",
   "id": "462318bf-672f-4468-9122-070cf70b5af5",
   "metadata": {},
   "source": [
    "## Complexity Analysis"
   ]
  },
  {
   "cell_type": "markdown",
   "id": "3ff61a2e-affa-44cc-b483-573f9dc9b166",
   "metadata": {},
   "source": [
    "Time Complexity:\n",
    "\n",
    "- Brute Force (Bubble Sort): O(n²)\n",
    "- sorted() with lambda: O(n log n)\n",
    "- itemgetter with sorted(): O(n log n) \n",
    " \n",
    "Space Complexity:\n",
    "\n",
    "- Brute Force (Bubble Sort): O(1)\n",
    "- sorted() with lambda: O(n)\n",
    "- itemgetter with sorted(): O(n) "
   ]
  },
  {
   "cell_type": "markdown",
   "id": "54ae9b22-a3fd-4d97-807c-9deb388d03b1",
   "metadata": {},
   "source": [
    "#### Thank You!!"
   ]
  }
 ],
 "metadata": {
  "kernelspec": {
   "display_name": "Python 3 (ipykernel)",
   "language": "python",
   "name": "python3"
  },
  "language_info": {
   "codemirror_mode": {
    "name": "ipython",
    "version": 3
   },
   "file_extension": ".py",
   "mimetype": "text/x-python",
   "name": "python",
   "nbconvert_exporter": "python",
   "pygments_lexer": "ipython3",
   "version": "3.8.10"
  }
 },
 "nbformat": 4,
 "nbformat_minor": 5
}
