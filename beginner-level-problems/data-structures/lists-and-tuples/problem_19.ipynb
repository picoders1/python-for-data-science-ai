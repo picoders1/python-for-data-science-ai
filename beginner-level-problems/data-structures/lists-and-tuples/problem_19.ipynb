{
 "cells": [
  {
   "cell_type": "markdown",
   "id": "8a36d3b1-1a8d-478e-8060-6477472e6bd4",
   "metadata": {},
   "source": [
    "# **Problem Statement**  \n",
    "## **19. Write a function to find the mode of a list of numbers**"
   ]
  },
  {
   "cell_type": "markdown",
   "id": "12b96244-784f-44f1-b72a-e69e054e8b67",
   "metadata": {},
   "source": [
    "### Identify Constraints & Example Inputs/Outputs\n",
    "\n",
    "Constraints:\n",
    "\n",
    "- The input list is non-empty.\n",
    "- The list contains only numbers (integers or floats).\n",
    "- If there are multiple modes, return all of them in a list.\n",
    "\n",
    "---\n",
    "Example1: Input: [1, 2, 2, 3, 3, 4]  \n",
    "\n",
    "Output: [2, 3]\n",
    "\n",
    "---\n",
    "Example2: Input: [5, 1, 5, 2, 5, 3] \n",
    "\n",
    "Output: [5]\n",
    "\n",
    "---\n",
    "Example3: Input: [1.1, 2.2, 1.1, 3.3, 2.2]\n",
    "\n",
    "Output: [1.1, 2.2]\n",
    "\n",
    "---"
   ]
  },
  {
   "cell_type": "markdown",
   "id": "b68e7cad-ea42-4bb3-a20e-a91cba6d7424",
   "metadata": {},
   "source": [
    "### Solution Approach"
   ]
  },
  {
   "cell_type": "markdown",
   "id": "144b599f-addb-4686-8425-1f6e6f862acd",
   "metadata": {},
   "source": [
    "Step1: Count the frequency of each element using a dictionary or collections.Counter\n",
    "\n",
    "Step2: Identify the highest frequency value.\n",
    "\n",
    "Step3: Extract all elements from the frequency map that have this highest frequency.\n",
    "\n",
    "Step4: Return the mode(s)."
   ]
  },
  {
   "cell_type": "markdown",
   "id": "be931aed-e6ac-4398-a9cc-cd43c98ed91b",
   "metadata": {},
   "source": [
    "### Solution Code"
   ]
  },
  {
   "cell_type": "code",
   "execution_count": 2,
   "id": "57cab10a-c58c-459b-b504-16dc7ee1d0ac",
   "metadata": {},
   "outputs": [],
   "source": [
    "# Approach1: Brute Force Approach: Using a Loop\n",
    "def find_mode_brute(lst):\n",
    "    freq = {}\n",
    "    for num in lst:\n",
    "        if num in freq:\n",
    "            freq[num] += 1\n",
    "        else:\n",
    "            freq[num] = 1\n",
    "\n",
    "    max_freq = max(freq.values())\n",
    "    return [k for k, v in freq.items() if v == max_freq]"
   ]
  },
  {
   "cell_type": "code",
   "execution_count": 3,
   "id": "c6b73b1c-518d-4265-925c-8c271c2045f7",
   "metadata": {},
   "outputs": [
    {
     "name": "stdout",
     "output_type": "stream",
     "text": [
      "[2, 3]\n"
     ]
    }
   ],
   "source": [
    "# Test cases\n",
    "print(find_mode_brute([1, 2, 2, 3, 3, 4]))"
   ]
  },
  {
   "cell_type": "markdown",
   "id": "9febed86-bc77-49f3-aa50-7adfe033688a",
   "metadata": {},
   "source": [
    "### Alternative Solution1"
   ]
  },
  {
   "cell_type": "code",
   "execution_count": 4,
   "id": "0efc9774-33f6-41e2-8cd0-7cbeae985cfe",
   "metadata": {},
   "outputs": [],
   "source": [
    "# Approach2: Optimized Approach: Using collections.Counter\n",
    "from collections import Counter\n",
    "\n",
    "def find_mode_optimized(lst):\n",
    "    counter = Counter(lst)\n",
    "    max_freq = max(counter.values())\n",
    "    return [num for num, freq in counter.items() if freq == max_freq]"
   ]
  },
  {
   "cell_type": "code",
   "execution_count": 5,
   "id": "705534f5-d328-4908-a080-2c38b82af4f6",
   "metadata": {},
   "outputs": [
    {
     "name": "stdout",
     "output_type": "stream",
     "text": [
      "[5]\n"
     ]
    }
   ],
   "source": [
    "# Test cases\n",
    "print(find_mode_optimized([5, 1, 5, 2, 5, 3]))"
   ]
  },
  {
   "cell_type": "markdown",
   "id": "3a6b9635-e779-4015-8c0a-877462fe95b2",
   "metadata": {},
   "source": [
    "### Alternative Solution2"
   ]
  },
  {
   "cell_type": "code",
   "execution_count": 6,
   "id": "9066ebd5-2e37-48c3-93d8-89b43c1dfc83",
   "metadata": {},
   "outputs": [],
   "source": [
    "# Approach3: Using statistics.multimode (Python 3.8+)\n",
    "import statistics\n",
    "\n",
    "def find_mode_statistics(lst):\n",
    "    return statistics.multimode(lst)"
   ]
  },
  {
   "cell_type": "code",
   "execution_count": 7,
   "id": "f7f74eda-8f87-4d87-87d9-4a97bbf2a5eb",
   "metadata": {},
   "outputs": [
    {
     "name": "stdout",
     "output_type": "stream",
     "text": [
      "[1.1, 2.2]\n"
     ]
    }
   ],
   "source": [
    "# Test cases\n",
    "print(find_mode_statistics([1.1, 2.2, 1.1, 3.3, 2.2]))"
   ]
  },
  {
   "cell_type": "markdown",
   "id": "462318bf-672f-4468-9122-070cf70b5af5",
   "metadata": {},
   "source": [
    "## Complexity Analysis"
   ]
  },
  {
   "cell_type": "markdown",
   "id": "3ff61a2e-affa-44cc-b483-573f9dc9b166",
   "metadata": {},
   "source": [
    "Time Complexity:\n",
    "\n",
    "- Manual Dictionary: O(n)\n",
    "- collections.Counter: O(n)\n",
    "- statistics.multimode: O(n)\n",
    " \n",
    "Space Complexity:\n",
    "\n",
    "- Manual Dictionary: O(n)\n",
    "- collections.Counter: O(n)\n",
    "- statistics.multimode: O(n)"
   ]
  },
  {
   "cell_type": "markdown",
   "id": "54ae9b22-a3fd-4d97-807c-9deb388d03b1",
   "metadata": {},
   "source": [
    "#### Thank You!!"
   ]
  }
 ],
 "metadata": {
  "kernelspec": {
   "display_name": "Python 3 (ipykernel)",
   "language": "python",
   "name": "python3"
  },
  "language_info": {
   "codemirror_mode": {
    "name": "ipython",
    "version": 3
   },
   "file_extension": ".py",
   "mimetype": "text/x-python",
   "name": "python",
   "nbconvert_exporter": "python",
   "pygments_lexer": "ipython3",
   "version": "3.8.10"
  }
 },
 "nbformat": 4,
 "nbformat_minor": 5
}
