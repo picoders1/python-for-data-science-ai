{
 "cells": [
  {
   "cell_type": "markdown",
   "id": "8a36d3b1-1a8d-478e-8060-6477472e6bd4",
   "metadata": {},
   "source": [
    "# **Problem Statement**  \n",
    "## **20. Write a Python function to find the kth smallest element in a list**"
   ]
  },
  {
   "cell_type": "markdown",
   "id": "12b96244-784f-44f1-b72a-e69e054e8b67",
   "metadata": {},
   "source": [
    "### Identify Constraints & Example Inputs/Outputs\n",
    "\n",
    "Constraints:\n",
    "\n",
    "- 1 <= k <= len(list)\n",
    "- The list may contain duplicates.\n",
    "- Elements can be integers or floats.\n",
    "\n",
    "---\n",
    "Example1: Input: [7, 10, 4, 3, 20, 15], k = 3  \n",
    "\n",
    "Output: 7\n",
    "\n",
    "---\n",
    "Example2: Input: [3, 2, 1, 5, 4], k = 2\n",
    "\n",
    "Output: 2\n",
    "\n",
    "---\n",
    "Example3: Input: [12.5, 7.2, 9.3, 4.1], k = 1\n",
    "\n",
    "Output: 4.1\n",
    "\n",
    "---"
   ]
  },
  {
   "cell_type": "markdown",
   "id": "b68e7cad-ea42-4bb3-a20e-a91cba6d7424",
   "metadata": {},
   "source": [
    "### Solution Approach"
   ]
  },
  {
   "cell_type": "markdown",
   "id": "144b599f-addb-4686-8425-1f6e6f862acd",
   "metadata": {},
   "source": [
    "#### 1. Sort-Based Approach (Brute Force):\n",
    "- Sort the entire list and return the element at index k-1.\n",
    "\n",
    "#### 2. Heap-Based Approach (Optimized):\n",
    "- Use a min-heap to extract the smallest element k times, or a max-heap of size k to maintain the smallest k elements efficiently.\n",
    "\n",
    "#### 3. Quickselect (Optimal for large data):\n",
    "- Use the Quickselect algorithm (similar to QuickSort) to find the kth smallest without sorting the entire list."
   ]
  },
  {
   "cell_type": "markdown",
   "id": "be931aed-e6ac-4398-a9cc-cd43c98ed91b",
   "metadata": {},
   "source": [
    "### Solution Code"
   ]
  },
  {
   "cell_type": "code",
   "execution_count": 1,
   "id": "57cab10a-c58c-459b-b504-16dc7ee1d0ac",
   "metadata": {},
   "outputs": [],
   "source": [
    "# Approach1: Brute Force Approach: Using a Loop\n",
    "def kth_smallest_brute(lst, k):\n",
    "    if k < 1 or k > len(lst):\n",
    "        return None\n",
    "    return sorted(lst)[k - 1]"
   ]
  },
  {
   "cell_type": "code",
   "execution_count": 2,
   "id": "c6b73b1c-518d-4265-925c-8c271c2045f7",
   "metadata": {},
   "outputs": [
    {
     "name": "stdout",
     "output_type": "stream",
     "text": [
      "7\n"
     ]
    }
   ],
   "source": [
    "# Test cases\n",
    "print(kth_smallest_brute([7, 10, 4, 3, 20, 15], 3))  # Output: 7"
   ]
  },
  {
   "cell_type": "markdown",
   "id": "9febed86-bc77-49f3-aa50-7adfe033688a",
   "metadata": {},
   "source": [
    "### Alternative Solution1"
   ]
  },
  {
   "cell_type": "code",
   "execution_count": 3,
   "id": "0efc9774-33f6-41e2-8cd0-7cbeae985cfe",
   "metadata": {},
   "outputs": [],
   "source": [
    "# Approach2: Optimized Approach: using Heap (min-heap)\n",
    "import heapq\n",
    "\n",
    "def kth_smallest_heap(lst, k):\n",
    "    if k < 1 or k > len(lst):\n",
    "        return None\n",
    "    return heapq.nsmallest(k, lst)[-1]"
   ]
  },
  {
   "cell_type": "code",
   "execution_count": 4,
   "id": "705534f5-d328-4908-a080-2c38b82af4f6",
   "metadata": {},
   "outputs": [
    {
     "name": "stdout",
     "output_type": "stream",
     "text": [
      "7\n"
     ]
    }
   ],
   "source": [
    "# Test cases\n",
    "print(kth_smallest_heap([7, 10, 4, 3, 20, 15], 3))  # Output: 7"
   ]
  },
  {
   "cell_type": "markdown",
   "id": "3a6b9635-e779-4015-8c0a-877462fe95b2",
   "metadata": {},
   "source": [
    "### Alternative Solution2"
   ]
  },
  {
   "cell_type": "code",
   "execution_count": 5,
   "id": "9066ebd5-2e37-48c3-93d8-89b43c1dfc83",
   "metadata": {},
   "outputs": [],
   "source": [
    "# Approach3: Quickselect Algorithm\n",
    "import random\n",
    "\n",
    "def quickselect(arr, k):\n",
    "    if len(arr) == 1:\n",
    "        return arr[0]\n",
    "\n",
    "    pivot = random.choice(arr)\n",
    "    lows = [el for el in arr if el < pivot]\n",
    "    highs = [el for el in arr if el > pivot]\n",
    "    pivots = [el for el in arr if el == pivot]\n",
    "\n",
    "    if k <= len(lows):\n",
    "        return quickselect(lows, k)\n",
    "    elif k <= len(lows) + len(pivots):\n",
    "        return pivot\n",
    "    else:\n",
    "        return quickselect(highs, k - len(lows) - len(pivots))"
   ]
  },
  {
   "cell_type": "code",
   "execution_count": 6,
   "id": "f7f74eda-8f87-4d87-87d9-4a97bbf2a5eb",
   "metadata": {},
   "outputs": [
    {
     "name": "stdout",
     "output_type": "stream",
     "text": [
      "7\n"
     ]
    }
   ],
   "source": [
    "# Test cases\n",
    "print(quickselect([7, 10, 4, 3, 20, 15], 3))  # Output: 7"
   ]
  },
  {
   "cell_type": "markdown",
   "id": "462318bf-672f-4468-9122-070cf70b5af5",
   "metadata": {},
   "source": [
    "## Complexity Analysis"
   ]
  },
  {
   "cell_type": "markdown",
   "id": "3ff61a2e-affa-44cc-b483-573f9dc9b166",
   "metadata": {},
   "source": [
    "Time Complexity:\n",
    "\n",
    "- Sort-Based: O(n log n)\n",
    "- Min-Heap: O(n log k)\n",
    "- Quickselect: Average: O(n) / Worst: O(n²) \n",
    " \n",
    "Space Complexity:\n",
    "\n",
    "- Brute Force: O(n)\n",
    "- Optimized Pass: O(k)\n",
    "- Heap Approach: O(1) "
   ]
  },
  {
   "cell_type": "markdown",
   "id": "54ae9b22-a3fd-4d97-807c-9deb388d03b1",
   "metadata": {},
   "source": [
    "#### Thank You!!"
   ]
  }
 ],
 "metadata": {
  "kernelspec": {
   "display_name": "Python 3 (ipykernel)",
   "language": "python",
   "name": "python3"
  },
  "language_info": {
   "codemirror_mode": {
    "name": "ipython",
    "version": 3
   },
   "file_extension": ".py",
   "mimetype": "text/x-python",
   "name": "python",
   "nbconvert_exporter": "python",
   "pygments_lexer": "ipython3",
   "version": "3.8.10"
  }
 },
 "nbformat": 4,
 "nbformat_minor": 5
}
