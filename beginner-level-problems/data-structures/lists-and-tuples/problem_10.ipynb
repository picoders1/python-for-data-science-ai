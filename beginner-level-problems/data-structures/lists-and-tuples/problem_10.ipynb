{
 "cells": [
  {
   "cell_type": "markdown",
   "id": "8a36d3b1-1a8d-478e-8060-6477472e6bd4",
   "metadata": {},
   "source": [
    "# **Problem Statement**  \n",
    "## **1. Write a function to find the cumulative sum of a list**"
   ]
  },
  {
   "cell_type": "markdown",
   "id": "12b96244-784f-44f1-b72a-e69e054e8b67",
   "metadata": {},
   "source": [
    "### Identify Constraints & Example Inputs/Outputs\n",
    "\n",
    "Constraints:\n",
    "\n",
    "- The input list will contain numeric values (integers or floats).\n",
    "- The input list can be empty.\n",
    "- he function should return a new list.\n",
    "\n",
    "---\n",
    "Example1: Input: [1, 2, 3, 4]   \n",
    "\n",
    "Output: [1, 3, 6, 10]\n",
    "\n",
    "---\n",
    "Example2: Input: [5, 0, -1, 2] \n",
    "\n",
    "Output: [5, 5, 4, 6]\n",
    "\n",
    "---\n",
    "Example3: Input: []\n",
    "\n",
    "Output: []\n",
    "\n",
    "---"
   ]
  },
  {
   "cell_type": "markdown",
   "id": "b68e7cad-ea42-4bb3-a20e-a91cba6d7424",
   "metadata": {},
   "source": [
    "### Solution Approach"
   ]
  },
  {
   "cell_type": "markdown",
   "id": "144b599f-addb-4686-8425-1f6e6f862acd",
   "metadata": {},
   "source": [
    "1. Brute Force Approach:\n",
    "- Use a loop and a nested loop to compute the sum from index 0 to i for each element.\n",
    "- Append the result to a new list.\n",
    "\n",
    "2. Optimized Recursive Approach:\n",
    "- Traverse the input list with a single loop.\n",
    "- Maintain a running total and update the result list.\n",
    "\n",
    "3. Alternative:\n",
    "- Use built-in libraries like itertools.accumulate."
   ]
  },
  {
   "cell_type": "markdown",
   "id": "be931aed-e6ac-4398-a9cc-cd43c98ed91b",
   "metadata": {},
   "source": [
    "### Solution Code"
   ]
  },
  {
   "cell_type": "code",
   "execution_count": 1,
   "id": "57cab10a-c58c-459b-b504-16dc7ee1d0ac",
   "metadata": {},
   "outputs": [],
   "source": [
    "# Approach 1: Brute Force Approach: Using a Loop\n",
    "def cumulative_sum_brute(lst):\n",
    "    result = []\n",
    "    for i in range(len(lst)):\n",
    "        total = 0\n",
    "        for j in range(i + 1):\n",
    "            total += lst[j]\n",
    "        result.append(total)\n",
    "    return result"
   ]
  },
  {
   "cell_type": "code",
   "execution_count": 2,
   "id": "c6b73b1c-518d-4265-925c-8c271c2045f7",
   "metadata": {},
   "outputs": [
    {
     "name": "stdout",
     "output_type": "stream",
     "text": [
      "[1, 3, 6, 10]\n"
     ]
    }
   ],
   "source": [
    "# Test cases\n",
    "print(cumulative_sum_brute([1, 2, 3, 4]))  # Output: [1, 3, 6, 10]"
   ]
  },
  {
   "cell_type": "markdown",
   "id": "9febed86-bc77-49f3-aa50-7adfe033688a",
   "metadata": {},
   "source": [
    "### Alternative Solution1"
   ]
  },
  {
   "cell_type": "code",
   "execution_count": 3,
   "id": "0efc9774-33f6-41e2-8cd0-7cbeae985cfe",
   "metadata": {},
   "outputs": [],
   "source": [
    "# Approach 2: Optimized Approach: Using Running Sum\n",
    "def cumulative_sum_optimized(lst):\n",
    "    result = []\n",
    "    running_sum = 0\n",
    "    for num in lst:\n",
    "        running_sum += num\n",
    "        result.append(running_sum)\n",
    "    return result"
   ]
  },
  {
   "cell_type": "code",
   "execution_count": 4,
   "id": "705534f5-d328-4908-a080-2c38b82af4f6",
   "metadata": {},
   "outputs": [
    {
     "name": "stdout",
     "output_type": "stream",
     "text": [
      "[1, 3, 6, 10]\n"
     ]
    }
   ],
   "source": [
    "# Test cases\n",
    "print(cumulative_sum_optimized([1, 2, 3, 4]))  # Output: [1, 3, 6, 10]"
   ]
  },
  {
   "cell_type": "markdown",
   "id": "3a6b9635-e779-4015-8c0a-877462fe95b2",
   "metadata": {},
   "source": [
    "### Alternative Solution2"
   ]
  },
  {
   "cell_type": "code",
   "execution_count": 5,
   "id": "9066ebd5-2e37-48c3-93d8-89b43c1dfc83",
   "metadata": {},
   "outputs": [],
   "source": [
    "# Approach 3: Using itertools.accumulate()\n",
    "from itertools import accumulate\n",
    "\n",
    "def cumulative_sum_itertools(lst):\n",
    "    return list(accumulate(lst))"
   ]
  },
  {
   "cell_type": "code",
   "execution_count": 6,
   "id": "f7f74eda-8f87-4d87-87d9-4a97bbf2a5eb",
   "metadata": {},
   "outputs": [
    {
     "name": "stdout",
     "output_type": "stream",
     "text": [
      "[1, 3, 6, 10]\n"
     ]
    }
   ],
   "source": [
    "# Test cases\n",
    "print(cumulative_sum_itertools([1, 2, 3, 4]))  # Output: [1, 3, 6, 10]"
   ]
  },
  {
   "cell_type": "markdown",
   "id": "462318bf-672f-4468-9122-070cf70b5af5",
   "metadata": {},
   "source": [
    "## Complexity Analysis"
   ]
  },
  {
   "cell_type": "markdown",
   "id": "3ff61a2e-affa-44cc-b483-573f9dc9b166",
   "metadata": {},
   "source": [
    "Time Complexity:\n",
    "\n",
    "- Brute Force: O(n²)\n",
    "- Optimized (Running Sum): O(n)\n",
    "- Using itertools: O(n) \n",
    " \n",
    "Space Complexity:\n",
    "\n",
    "- Brute Force: O(n)\n",
    "- Optimized (Running Sum): O(n)\n",
    "- Using itertools: O(n) "
   ]
  },
  {
   "cell_type": "markdown",
   "id": "54ae9b22-a3fd-4d97-807c-9deb388d03b1",
   "metadata": {},
   "source": [
    "#### Thank You!!"
   ]
  }
 ],
 "metadata": {
  "kernelspec": {
   "display_name": "Python 3 (ipykernel)",
   "language": "python",
   "name": "python3"
  },
  "language_info": {
   "codemirror_mode": {
    "name": "ipython",
    "version": 3
   },
   "file_extension": ".py",
   "mimetype": "text/x-python",
   "name": "python",
   "nbconvert_exporter": "python",
   "pygments_lexer": "ipython3",
   "version": "3.8.10"
  }
 },
 "nbformat": 4,
 "nbformat_minor": 5
}
