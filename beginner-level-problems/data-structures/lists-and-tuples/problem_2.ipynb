{
 "cells": [
  {
   "cell_type": "markdown",
   "id": "8a36d3b1-1a8d-478e-8060-6477472e6bd4",
   "metadata": {},
   "source": [
    "# **Problem Statement**  \n",
    "## **2. Write a program to find the intersection of two lists**"
   ]
  },
  {
   "cell_type": "markdown",
   "id": "12b96244-784f-44f1-b72a-e69e054e8b67",
   "metadata": {},
   "source": [
    "### Identify Constraints & Example Inputs/Outputs\n",
    "\n",
    "Constraints:\n",
    "\n",
    "- Lists may contain duplicate values.\n",
    "- The result must contain only unique common values.\n",
    "- Order of result doesn't matter.\n",
    "\n",
    "---\n",
    "Example1: Input: list1 = [1, 2, 2, 3], list2 = [2, 3, 4]  \n",
    "\n",
    "Output: [2, 3]\n",
    "\n",
    "---\n",
    "Example2: Input: list1 = [10, 20, 30], list2 = [40, 50, 60]   \n",
    "\n",
    "Output: []\n",
    "\n",
    "---\n",
    "Example3: Input: list1 = [], list2 = [1, 2, 3]\n",
    "\n",
    "Output: []\n",
    "\n",
    "---"
   ]
  },
  {
   "cell_type": "markdown",
   "id": "b68e7cad-ea42-4bb3-a20e-a91cba6d7424",
   "metadata": {},
   "source": [
    "### Solution Approach"
   ]
  },
  {
   "cell_type": "markdown",
   "id": "144b599f-addb-4686-8425-1f6e6f862acd",
   "metadata": {},
   "source": [
    "Step1: Convert both input lists to sets to remove duplicates and allow fast lookup.\n",
    "\n",
    "Step2: Use set intersection (&) to find common elements.\n",
    "\n",
    "Step3: Convert the result back to a list.\n",
    "\n",
    "Step4: Return the list of intersecting elements."
   ]
  },
  {
   "cell_type": "markdown",
   "id": "be931aed-e6ac-4398-a9cc-cd43c98ed91b",
   "metadata": {},
   "source": [
    "### Solution Code"
   ]
  },
  {
   "cell_type": "code",
   "execution_count": 1,
   "id": "57cab10a-c58c-459b-b504-16dc7ee1d0ac",
   "metadata": {},
   "outputs": [],
   "source": [
    "# Approach1: Brute Force Approach: Using a Loop\n",
    "def intersection_brute_force(list1, list2):\n",
    "    result = []\n",
    "    for i in list1:\n",
    "        if i in list2 and i not in result:\n",
    "            result.append(i)\n",
    "    return result"
   ]
  },
  {
   "cell_type": "code",
   "execution_count": 2,
   "id": "c6b73b1c-518d-4265-925c-8c271c2045f7",
   "metadata": {},
   "outputs": [
    {
     "name": "stdout",
     "output_type": "stream",
     "text": [
      "[2, 3]\n"
     ]
    }
   ],
   "source": [
    "# Test cases\n",
    "print(intersection_brute_force([1, 2, 2, 3], [2, 3, 4]))  # Output: [2, 3]"
   ]
  },
  {
   "cell_type": "markdown",
   "id": "9febed86-bc77-49f3-aa50-7adfe033688a",
   "metadata": {},
   "source": [
    "### Alternative Solution1"
   ]
  },
  {
   "cell_type": "code",
   "execution_count": 3,
   "id": "0efc9774-33f6-41e2-8cd0-7cbeae985cfe",
   "metadata": {},
   "outputs": [],
   "source": [
    "# Approach2: Optimized Approach: Using AND(&) operator\n",
    "def intersection_optimized(list1, list2):\n",
    "    return list(set(list1) & set(list2))"
   ]
  },
  {
   "cell_type": "code",
   "execution_count": 4,
   "id": "705534f5-d328-4908-a080-2c38b82af4f6",
   "metadata": {},
   "outputs": [
    {
     "name": "stdout",
     "output_type": "stream",
     "text": [
      "[2, 3]\n"
     ]
    }
   ],
   "source": [
    "# Test cases\n",
    "print(intersection_optimized([1, 2, 2, 3], [2, 3, 4]))  # Output: [2, 3]"
   ]
  },
  {
   "cell_type": "markdown",
   "id": "3a6b9635-e779-4015-8c0a-877462fe95b2",
   "metadata": {},
   "source": [
    "### Alternative Solution2"
   ]
  },
  {
   "cell_type": "code",
   "execution_count": 5,
   "id": "9066ebd5-2e37-48c3-93d8-89b43c1dfc83",
   "metadata": {},
   "outputs": [],
   "source": [
    "# Approach3: Using List Comprehension and Set for Uniqueness\n",
    "def intersection_alt(list1, list2):\n",
    "    return list({x for x in list1 if x in set(list2)})"
   ]
  },
  {
   "cell_type": "code",
   "execution_count": 6,
   "id": "f7f74eda-8f87-4d87-87d9-4a97bbf2a5eb",
   "metadata": {},
   "outputs": [
    {
     "name": "stdout",
     "output_type": "stream",
     "text": [
      "[2, 3]\n"
     ]
    }
   ],
   "source": [
    "# Test cases\n",
    "print(intersection_alt([1, 2, 2, 3], [2, 3, 4]))  # Output: [2, 3]"
   ]
  },
  {
   "cell_type": "markdown",
   "id": "462318bf-672f-4468-9122-070cf70b5af5",
   "metadata": {},
   "source": [
    "## Complexity Analysis"
   ]
  },
  {
   "cell_type": "markdown",
   "id": "3ff61a2e-affa-44cc-b483-573f9dc9b166",
   "metadata": {},
   "source": [
    "Time Complexity:\n",
    "\n",
    "- Brute Force: O(n * m)\n",
    "- Optimized (Set Method): O(n + m)\n",
    "- List Comprehension: O(n) with set lookup\n",
    " \n",
    "Space Complexity:\n",
    "\n",
    "- Brute Force: O(k)\n",
    "- Optimized Pass: O(n + m)\n",
    "- Heap Approach: O(n) "
   ]
  },
  {
   "cell_type": "markdown",
   "id": "54ae9b22-a3fd-4d97-807c-9deb388d03b1",
   "metadata": {},
   "source": [
    "#### Thank You!!"
   ]
  }
 ],
 "metadata": {
  "kernelspec": {
   "display_name": "Python 3 (ipykernel)",
   "language": "python",
   "name": "python3"
  },
  "language_info": {
   "codemirror_mode": {
    "name": "ipython",
    "version": 3
   },
   "file_extension": ".py",
   "mimetype": "text/x-python",
   "name": "python",
   "nbconvert_exporter": "python",
   "pygments_lexer": "ipython3",
   "version": "3.8.10"
  }
 },
 "nbformat": 4,
 "nbformat_minor": 5
}
