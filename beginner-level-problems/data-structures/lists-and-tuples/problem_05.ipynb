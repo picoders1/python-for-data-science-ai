{
 "cells": [
  {
   "cell_type": "markdown",
   "id": "8a36d3b1-1a8d-478e-8060-6477472e6bd4",
   "metadata": {},
   "source": [
    "# **Problem Statement**  \n",
    "## **5. Write a function to rotate a list to the right by k positions**"
   ]
  },
  {
   "cell_type": "markdown",
   "id": "12b96244-784f-44f1-b72a-e69e054e8b67",
   "metadata": {},
   "source": [
    "### Identify Constraints & Example Inputs/Outputs\n",
    "\n",
    "Constraints:\n",
    "\n",
    "- k is a non-negative integer\n",
    "- Input list may be empty\n",
    "- Rotation is circular (elements wrap around)\n",
    "- If k is greater than the list size, use k % len(lst)\n",
    "\n",
    "---\n",
    "Example1: Input: [1, 2, 3, 4, 5], k = 2    \n",
    "\n",
    "Output: [4, 5, 1, 2, 3]\n",
    "\n",
    "---\n",
    "Example2: Input: [10, 20, 30], k = 1 \n",
    "\n",
    "Output: [30, 10, 20]\n",
    "\n",
    "---\n",
    "Example3: Input: [], k = 3\n",
    "\n",
    "Output: []\n",
    "\n",
    "---"
   ]
  },
  {
   "cell_type": "markdown",
   "id": "b68e7cad-ea42-4bb3-a20e-a91cba6d7424",
   "metadata": {},
   "source": [
    "### Solution Approach"
   ]
  },
  {
   "cell_type": "markdown",
   "id": "144b599f-addb-4686-8425-1f6e6f862acd",
   "metadata": {},
   "source": [
    "We want to move each element k steps to the right, wrapping around the end of the list.\n",
    "\n",
    "### Brute Force:\n",
    "- Pop the last element and insert it at the beginning.\n",
    "\n",
    "### Optimized Approach:\n",
    "- Use slicing:\n",
    "    - Take last k elements → lst[-k:]\n",
    "    - Take the rest → lst[:-k]\n",
    "    - Combine → lst[-k:] + lst[:-k]\n",
    "\n",
    "### Handle Edge Cases:\n",
    "- If list is empty or k == 0, return the list as-is.\n",
    "- If k > len(lst), take k % len(lst)"
   ]
  },
  {
   "cell_type": "markdown",
   "id": "be931aed-e6ac-4398-a9cc-cd43c98ed91b",
   "metadata": {},
   "source": [
    "### Solution Code"
   ]
  },
  {
   "cell_type": "code",
   "execution_count": 4,
   "id": "57cab10a-c58c-459b-b504-16dc7ee1d0ac",
   "metadata": {},
   "outputs": [],
   "source": [
    "# Approach1: Brute Force Approach: Using a Loop\n",
    "def rotate_right_brute(lst, k):\n",
    "    n = len(lst)\n",
    "    if n == 0:\n",
    "        return lst\n",
    "    k = k % n\n",
    "    for _ in range(k):\n",
    "        last = lst.pop()\n",
    "        lst.insert(0, last)\n",
    "    return lst"
   ]
  },
  {
   "cell_type": "code",
   "execution_count": 5,
   "id": "c6b73b1c-518d-4265-925c-8c271c2045f7",
   "metadata": {},
   "outputs": [
    {
     "name": "stdout",
     "output_type": "stream",
     "text": [
      "[4, 5, 1, 2, 3]\n"
     ]
    }
   ],
   "source": [
    "# Test cases\n",
    "print(rotate_right_brute([1, 2, 3, 4, 5], 2))  # Output: [4, 5, 1, 2, 3]"
   ]
  },
  {
   "cell_type": "markdown",
   "id": "9febed86-bc77-49f3-aa50-7adfe033688a",
   "metadata": {},
   "source": [
    "### Alternative Solution1"
   ]
  },
  {
   "cell_type": "code",
   "execution_count": 6,
   "id": "0efc9774-33f6-41e2-8cd0-7cbeae985cfe",
   "metadata": {},
   "outputs": [],
   "source": [
    "# Approach2: Optimized Approach: Using Slicing\n",
    "def rotate_right_optimized(lst, k):\n",
    "    n = len(lst)\n",
    "    if n == 0:\n",
    "        return lst\n",
    "    k = k % n\n",
    "    return lst[-k:] + lst[:-k]"
   ]
  },
  {
   "cell_type": "code",
   "execution_count": 7,
   "id": "705534f5-d328-4908-a080-2c38b82af4f6",
   "metadata": {},
   "outputs": [
    {
     "name": "stdout",
     "output_type": "stream",
     "text": [
      "[4, 5, 1, 2, 3]\n"
     ]
    }
   ],
   "source": [
    "# Test cases\n",
    "print(rotate_right_optimized([1, 2, 3, 4, 5], 2))  # Output: [4, 5, 1, 2, 3]"
   ]
  },
  {
   "cell_type": "markdown",
   "id": "3a6b9635-e779-4015-8c0a-877462fe95b2",
   "metadata": {},
   "source": [
    "### Alternative Solution2"
   ]
  },
  {
   "cell_type": "code",
   "execution_count": 8,
   "id": "9066ebd5-2e37-48c3-93d8-89b43c1dfc83",
   "metadata": {},
   "outputs": [],
   "source": [
    "# Approach3: Using Collections.deque\n",
    "from collections import deque\n",
    "\n",
    "def rotate_right_deque(lst, k):\n",
    "    d = deque(lst)\n",
    "    d.rotate(k)\n",
    "    return list(d)"
   ]
  },
  {
   "cell_type": "code",
   "execution_count": 9,
   "id": "f7f74eda-8f87-4d87-87d9-4a97bbf2a5eb",
   "metadata": {},
   "outputs": [
    {
     "name": "stdout",
     "output_type": "stream",
     "text": [
      "[4, 5, 1, 2, 3]\n"
     ]
    }
   ],
   "source": [
    "# Test cases\n",
    "print(rotate_right_deque([1, 2, 3, 4, 5], 2))  # Output: [4, 5, 1, 2, 3]"
   ]
  },
  {
   "cell_type": "markdown",
   "id": "462318bf-672f-4468-9122-070cf70b5af5",
   "metadata": {},
   "source": [
    "## Complexity Analysis"
   ]
  },
  {
   "cell_type": "markdown",
   "id": "3ff61a2e-affa-44cc-b483-573f9dc9b166",
   "metadata": {},
   "source": [
    "Time Complexity:\n",
    "\n",
    "- Brute Force: O(k * n)\n",
    "- Slicing: O(n)\n",
    "- Deque (rotate): O(n) \n",
    " \n",
    "Space Complexity:\n",
    "\n",
    "- Brute Force: O(1)\n",
    "- Slicing: O(n)\n",
    "- Deque (rotate): O(n)\n"
   ]
  },
  {
   "cell_type": "markdown",
   "id": "54ae9b22-a3fd-4d97-807c-9deb388d03b1",
   "metadata": {},
   "source": [
    "#### Thank You!!"
   ]
  }
 ],
 "metadata": {
  "kernelspec": {
   "display_name": "Python 3 (ipykernel)",
   "language": "python",
   "name": "python3"
  },
  "language_info": {
   "codemirror_mode": {
    "name": "ipython",
    "version": 3
   },
   "file_extension": ".py",
   "mimetype": "text/x-python",
   "name": "python",
   "nbconvert_exporter": "python",
   "pygments_lexer": "ipython3",
   "version": "3.8.10"
  }
 },
 "nbformat": 4,
 "nbformat_minor": 5
}
