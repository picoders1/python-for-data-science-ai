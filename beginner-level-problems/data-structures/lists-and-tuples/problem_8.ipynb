{
 "cells": [
  {
   "cell_type": "markdown",
   "id": "8a36d3b1-1a8d-478e-8060-6477472e6bd4",
   "metadata": {},
   "source": [
    "# **Problem Statement**  \n",
    "## **8. Write a function to flatten a nested list**"
   ]
  },
  {
   "cell_type": "markdown",
   "id": "12b96244-784f-44f1-b72a-e69e054e8b67",
   "metadata": {},
   "source": [
    "### Identify Constraints & Example Inputs/Outputs\n",
    "\n",
    "Constraints:\n",
    "\n",
    "- Input list may contain integers, strings, or other nested lists.\n",
    "- Must handle deeply nested structures.\n",
    "- Do not use built-in flattening libraries like -\n",
    "    - itertools.chain.from_iterable() for deeply nested lists.\n",
    "\n",
    "---\n",
    "Example1: Input: [1, [2, 3], [4, [5, 6]], 7]  \n",
    "\n",
    "Output: [1, 2, 3, 4, 5, 6, 7]\n",
    "\n",
    "---\n",
    "Example2: Input: [[1, 2], [[3]], 4] \n",
    "\n",
    "Output: [1, 2, 3, 4]\n",
    "\n",
    "---\n",
    "Example3: Input: []\n",
    "\n",
    "Output: []\n",
    "\n",
    "---"
   ]
  },
  {
   "cell_type": "markdown",
   "id": "b68e7cad-ea42-4bb3-a20e-a91cba6d7424",
   "metadata": {},
   "source": [
    "### Solution Approach"
   ]
  },
  {
   "cell_type": "markdown",
   "id": "144b599f-addb-4686-8425-1f6e6f862acd",
   "metadata": {},
   "source": [
    "1. Brute Force Approach:\n",
    "- Loop through each element.\n",
    "- If it's a list, loop again recursively.\n",
    "- Else, append to result.\n",
    "\n",
    "2. Optimized Recursive Approach:\n",
    "- Use a recursive function that checks if the current element is a list.\n",
    "- If yes, recursively call the function on the element.\n",
    "- If not, add it to the flat list.\n",
    "\n",
    "3. Alternative:\n",
    "- Use Python generators or yield from for a cleaner recursion."
   ]
  },
  {
   "cell_type": "markdown",
   "id": "be931aed-e6ac-4398-a9cc-cd43c98ed91b",
   "metadata": {},
   "source": [
    "### Solution Code"
   ]
  },
  {
   "cell_type": "code",
   "execution_count": 1,
   "id": "57cab10a-c58c-459b-b504-16dc7ee1d0ac",
   "metadata": {},
   "outputs": [],
   "source": [
    "# Approach1: Brute Force Approach: Using Stack\n",
    "def flatten_list_brute(nested):\n",
    "    result = []\n",
    "    stack = [nested]\n",
    "    \n",
    "    while stack:\n",
    "        current = stack.pop()\n",
    "        if isinstance(current, list):\n",
    "            stack.extend(reversed(current))\n",
    "        else:\n",
    "            result.append(current)\n",
    "    \n",
    "    return result"
   ]
  },
  {
   "cell_type": "code",
   "execution_count": 2,
   "id": "c6b73b1c-518d-4265-925c-8c271c2045f7",
   "metadata": {},
   "outputs": [
    {
     "name": "stdout",
     "output_type": "stream",
     "text": [
      "[1, 2, 3, 4, 5, 6]\n"
     ]
    }
   ],
   "source": [
    "# Test cases\n",
    "print(flatten_list_brute([1, [2, [3, 4], 5], 6]))  # Output: [1, 2, 3, 4, 5, 6]"
   ]
  },
  {
   "cell_type": "markdown",
   "id": "9febed86-bc77-49f3-aa50-7adfe033688a",
   "metadata": {},
   "source": [
    "### Alternative Solution1"
   ]
  },
  {
   "cell_type": "code",
   "execution_count": 3,
   "id": "0efc9774-33f6-41e2-8cd0-7cbeae985cfe",
   "metadata": {},
   "outputs": [],
   "source": [
    "# Approach2: Optimized Approach: Using Recursive Approach\n",
    "def flatten_list_recursive(nested):\n",
    "    result = []\n",
    "    for item in nested:\n",
    "        if isinstance(item, list):\n",
    "            result.extend(flatten_list_recursive(item))\n",
    "        else:\n",
    "            result.append(item)\n",
    "    return result"
   ]
  },
  {
   "cell_type": "code",
   "execution_count": 4,
   "id": "705534f5-d328-4908-a080-2c38b82af4f6",
   "metadata": {},
   "outputs": [
    {
     "name": "stdout",
     "output_type": "stream",
     "text": [
      "[1, 2, 3, 4, 5]\n"
     ]
    }
   ],
   "source": [
    "# Test cases\n",
    "print(flatten_list_recursive([1, [2, [3, [4]], 5]]))  # Output: [1, 2, 3, 4, 5]"
   ]
  },
  {
   "cell_type": "markdown",
   "id": "3a6b9635-e779-4015-8c0a-877462fe95b2",
   "metadata": {},
   "source": [
    "### Alternative Solution2"
   ]
  },
  {
   "cell_type": "code",
   "execution_count": 5,
   "id": "9066ebd5-2e37-48c3-93d8-89b43c1dfc83",
   "metadata": {},
   "outputs": [],
   "source": [
    "# Approach3: Using Generator (yield from)\n",
    "def flatten_generator(nested):\n",
    "    for item in nested:\n",
    "        if isinstance(item, list):\n",
    "            yield from flatten_generator(item)\n",
    "        else:\n",
    "            yield item"
   ]
  },
  {
   "cell_type": "code",
   "execution_count": 6,
   "id": "f7f74eda-8f87-4d87-87d9-4a97bbf2a5eb",
   "metadata": {},
   "outputs": [
    {
     "name": "stdout",
     "output_type": "stream",
     "text": [
      "[1, 2, 3, 4, 5, 6]\n"
     ]
    }
   ],
   "source": [
    "# Test cases\n",
    "print(list(flatten_generator([1, [2, [3, 4], 5], 6])))  # Output: [1, 2, 3, 4, 5, 6]"
   ]
  },
  {
   "cell_type": "markdown",
   "id": "462318bf-672f-4468-9122-070cf70b5af5",
   "metadata": {},
   "source": [
    "## Complexity Analysis"
   ]
  },
  {
   "cell_type": "markdown",
   "id": "3ff61a2e-affa-44cc-b483-573f9dc9b166",
   "metadata": {},
   "source": [
    "Time Complexity:\n",
    "\n",
    "- Brute Force (with Stack): O(n)\n",
    "- Recursive Approach: O(n)\n",
    "- Generator Approach: O(n) \n",
    " \n",
    "Space Complexity:\n",
    "\n",
    "- Brute Force (with Stack): O(n)\n",
    "- Recursive Approach: O(n)\n",
    "- Generator Approach: O(n) "
   ]
  },
  {
   "cell_type": "markdown",
   "id": "54ae9b22-a3fd-4d97-807c-9deb388d03b1",
   "metadata": {},
   "source": [
    "#### Thank You!!"
   ]
  }
 ],
 "metadata": {
  "kernelspec": {
   "display_name": "Python 3 (ipykernel)",
   "language": "python",
   "name": "python3"
  },
  "language_info": {
   "codemirror_mode": {
    "name": "ipython",
    "version": 3
   },
   "file_extension": ".py",
   "mimetype": "text/x-python",
   "name": "python",
   "nbconvert_exporter": "python",
   "pygments_lexer": "ipython3",
   "version": "3.8.10"
  }
 },
 "nbformat": 4,
 "nbformat_minor": 5
}
