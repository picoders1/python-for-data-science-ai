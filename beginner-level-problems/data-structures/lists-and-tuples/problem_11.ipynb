{
 "cells": [
  {
   "cell_type": "markdown",
   "id": "8a36d3b1-1a8d-478e-8060-6477472e6bd4",
   "metadata": {},
   "source": [
    "# **Problem Statement**  \n",
    "## **1. Write a Python function to find all unique pairs in a list that sum up to a given number**"
   ]
  },
  {
   "cell_type": "markdown",
   "id": "12b96244-784f-44f1-b72a-e69e054e8b67",
   "metadata": {},
   "source": [
    "### Identify Constraints & Example Inputs/Outputs\n",
    "\n",
    "Constraints:\n",
    "\n",
    "- Input list may contain duplicates.\n",
    "- A pair must be unique ((a, b) is same as (b, a)).\n",
    "- No element should be used more than once in a pair unless it appears more than once in the list.\n",
    "- Return pairs in any order.\n",
    "\n",
    "---\n",
    "Example1: Input: nums = [1, 2, 3, 2, 4], target = 5 \n",
    "\n",
    "Output: [(1, 4), (2, 3)]\n",
    "\n",
    "---\n",
    "Example2: Input: nums = [0, -1, 2, -3, 1], target = -2 \n",
    "\n",
    "Output: [(-3, 1)]\n",
    "\n",
    "---\n",
    "Example3: Input: nums = [1, 1, 1, 1], target = 2\n",
    "\n",
    "Output: [(1, 1)]\n",
    "\n",
    "---"
   ]
  },
  {
   "cell_type": "markdown",
   "id": "b68e7cad-ea42-4bb3-a20e-a91cba6d7424",
   "metadata": {},
   "source": [
    "### Solution Approach"
   ]
  },
  {
   "cell_type": "markdown",
   "id": "144b599f-addb-4686-8425-1f6e6f862acd",
   "metadata": {},
   "source": [
    "1. Brute Force Approach:\n",
    "- Use two nested loops.\n",
    "- Check if the sum of any two numbers equals the target.\n",
    "- Store unique pairs (can use a set to avoid duplicates).\n",
    "\n",
    "2. Optimized Recursive Approach:\n",
    "- Use a set to store numbers seen so far.\n",
    "- For each number x, check if target - x is in the set.\n",
    "- To avoid duplicates, store each valid pair as a sorted tuple in a set."
   ]
  },
  {
   "cell_type": "markdown",
   "id": "be931aed-e6ac-4398-a9cc-cd43c98ed91b",
   "metadata": {},
   "source": [
    "### Solution Code"
   ]
  },
  {
   "cell_type": "code",
   "execution_count": 1,
   "id": "57cab10a-c58c-459b-b504-16dc7ee1d0ac",
   "metadata": {},
   "outputs": [],
   "source": [
    "# Approach 1: Brute Force Approach: Using a Loop\n",
    "def find_pairs_brute(nums, target):\n",
    "    pairs = set()\n",
    "    for i in range(len(nums)):\n",
    "        for j in range(i+1, len(nums)):\n",
    "            if nums[i] + nums[j] == target:\n",
    "                pairs.add(tuple(sorted((nums[i], nums[j]))))\n",
    "    return list(pairs)"
   ]
  },
  {
   "cell_type": "code",
   "execution_count": 2,
   "id": "c6b73b1c-518d-4265-925c-8c271c2045f7",
   "metadata": {},
   "outputs": [
    {
     "name": "stdout",
     "output_type": "stream",
     "text": [
      "[(2, 3), (1, 4)]\n"
     ]
    }
   ],
   "source": [
    "# Test cases\n",
    "print(find_pairs_brute([1, 2, 3, 2, 4], 5))  # Output: [(1, 4), (2, 3)]"
   ]
  },
  {
   "cell_type": "markdown",
   "id": "9febed86-bc77-49f3-aa50-7adfe033688a",
   "metadata": {},
   "source": [
    "### Alternative Solution1"
   ]
  },
  {
   "cell_type": "code",
   "execution_count": 3,
   "id": "0efc9774-33f6-41e2-8cd0-7cbeae985cfe",
   "metadata": {},
   "outputs": [],
   "source": [
    "# Approach 2: Optimized Approach: Using conditional stmts\n",
    "def second_largest_optimized(nums):\n",
    "    first = second = float('-inf')\n",
    "    for num in nums:\n",
    "        if num > first:\n",
    "            second, first = first, num\n",
    "        elif first > num > second:\n",
    "            second = num\n",
    "    return second if second != float('-inf') else None"
   ]
  },
  {
   "cell_type": "code",
   "execution_count": 4,
   "id": "705534f5-d328-4908-a080-2c38b82af4f6",
   "metadata": {},
   "outputs": [
    {
     "name": "stdout",
     "output_type": "stream",
     "text": [
      "8\n",
      "None\n"
     ]
    }
   ],
   "source": [
    "# Test cases\n",
    "print(second_largest_optimized([5, 2, 8, 1, 9]))  # Output: 8\n",
    "print(second_largest_optimized([3, 3, 3]))        # Output: None"
   ]
  },
  {
   "cell_type": "markdown",
   "id": "3a6b9635-e779-4015-8c0a-877462fe95b2",
   "metadata": {},
   "source": [
    "### Alternative Solution2"
   ]
  },
  {
   "cell_type": "code",
   "execution_count": 5,
   "id": "9066ebd5-2e37-48c3-93d8-89b43c1dfc83",
   "metadata": {},
   "outputs": [],
   "source": [
    "# Approach 3: Using Dictionary for Index\n",
    "def find_pairs_dict(nums, target):\n",
    "    seen = {}\n",
    "    pairs = set()\n",
    "    \n",
    "    for i, num in enumerate(nums):\n",
    "        complement = target - num\n",
    "        if complement in seen:\n",
    "            pairs.add(tuple(sorted((num, complement))))\n",
    "        seen[num] = i\n",
    "        \n",
    "    return list(pairs)"
   ]
  },
  {
   "cell_type": "code",
   "execution_count": 6,
   "id": "f7f74eda-8f87-4d87-87d9-4a97bbf2a5eb",
   "metadata": {},
   "outputs": [
    {
     "name": "stdout",
     "output_type": "stream",
     "text": [
      "[(2, 3), (1, 4)]\n"
     ]
    }
   ],
   "source": [
    "# Test cases\n",
    "print(find_pairs_dict([1, 2, 3, 2, 4], 5))  # Output: [(1, 4), (2, 3)]"
   ]
  },
  {
   "cell_type": "markdown",
   "id": "462318bf-672f-4468-9122-070cf70b5af5",
   "metadata": {},
   "source": [
    "## Complexity Analysis"
   ]
  },
  {
   "cell_type": "markdown",
   "id": "3ff61a2e-affa-44cc-b483-573f9dc9b166",
   "metadata": {},
   "source": [
    "Time Complexity:\n",
    "\n",
    "- Brute Force: O(n²)\n",
    "- Optimized (Set): O(n)\n",
    "- Dictionary Map: O(n) \n",
    " \n",
    "Space Complexity:\n",
    "\n",
    "- Brute Force: O(n)\n",
    "- Optimized (Set): O(n)\n",
    "- Dictionary Map: O(n) "
   ]
  },
  {
   "cell_type": "markdown",
   "id": "54ae9b22-a3fd-4d97-807c-9deb388d03b1",
   "metadata": {},
   "source": [
    "#### Thank You!!"
   ]
  }
 ],
 "metadata": {
  "kernelspec": {
   "display_name": "Python 3 (ipykernel)",
   "language": "python",
   "name": "python3"
  },
  "language_info": {
   "codemirror_mode": {
    "name": "ipython",
    "version": 3
   },
   "file_extension": ".py",
   "mimetype": "text/x-python",
   "name": "python",
   "nbconvert_exporter": "python",
   "pygments_lexer": "ipython3",
   "version": "3.8.10"
  }
 },
 "nbformat": 4,
 "nbformat_minor": 5
}
