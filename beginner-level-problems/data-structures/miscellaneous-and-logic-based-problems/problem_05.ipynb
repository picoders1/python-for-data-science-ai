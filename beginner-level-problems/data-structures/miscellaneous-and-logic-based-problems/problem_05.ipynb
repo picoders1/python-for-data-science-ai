{
 "cells": [
  {
   "cell_type": "markdown",
   "id": "8a36d3b1-1a8d-478e-8060-6477472e6bd4",
   "metadata": {},
   "source": [
    "# **Problem Statement**  \n",
    "## **5. Write a function to implement binary search**"
   ]
  },
  {
   "cell_type": "markdown",
   "id": "12b96244-784f-44f1-b72a-e69e054e8b67",
   "metadata": {},
   "source": [
    "### Identify Constraints & Example Inputs/Outputs\n",
    "\n",
    "Constraints:\n",
    "\n",
    "- The input list must be sorted in ascending order.\n",
    "- All elements are integers.\n",
    "- Time-sensitive applications require optimized search.\n",
    "\n",
    "---\n",
    "Example1: Input: arr = [1, 3, 5, 7, 9, 11], target = 7   \n",
    "\n",
    "Output: 3\n",
    "\n",
    "---\n",
    "Example2: Input: arr = [2, 4, 6, 8, 10], target = 5  \n",
    "\n",
    "Output: -1\n",
    "\n",
    "---"
   ]
  },
  {
   "cell_type": "markdown",
   "id": "b68e7cad-ea42-4bb3-a20e-a91cba6d7424",
   "metadata": {},
   "source": [
    "### Solution Approach"
   ]
  },
  {
   "cell_type": "markdown",
   "id": "144b599f-addb-4686-8425-1f6e6f862acd",
   "metadata": {},
   "source": [
    "Step1: Set two pointers: left = 0, right = len(arr) - 1\n",
    "\n",
    "Step2: While left <= right:\n",
    "- Compute the middle index: mid = (left + right) // 2\n",
    "- If arr[mid] == target, return mid\n",
    "- If arr[mid] < target, search in the right half: left = mid + 1\n",
    "- If arr[mid] > target, search in the left half: right = mid - 1\n",
    "\n",
    "Step3: If not found, return -1"
   ]
  },
  {
   "cell_type": "markdown",
   "id": "be931aed-e6ac-4398-a9cc-cd43c98ed91b",
   "metadata": {},
   "source": [
    "### Solution Code"
   ]
  },
  {
   "cell_type": "code",
   "execution_count": 1,
   "id": "57cab10a-c58c-459b-b504-16dc7ee1d0ac",
   "metadata": {},
   "outputs": [],
   "source": [
    "# Approach1: Brute Force Approach: Using Linear Search\n",
    "def linear_search(arr, target):\n",
    "    for i in range(len(arr)):\n",
    "        if arr[i] == target:\n",
    "            return i\n",
    "    return -1"
   ]
  },
  {
   "cell_type": "code",
   "execution_count": 2,
   "id": "c6b73b1c-518d-4265-925c-8c271c2045f7",
   "metadata": {},
   "outputs": [
    {
     "name": "stdout",
     "output_type": "stream",
     "text": [
      "3\n"
     ]
    }
   ],
   "source": [
    "# Test cases\n",
    "print(linear_search([1, 3, 5, 7, 9], 7))  # Output: 3"
   ]
  },
  {
   "cell_type": "markdown",
   "id": "9febed86-bc77-49f3-aa50-7adfe033688a",
   "metadata": {},
   "source": [
    "### Alternative Solution1"
   ]
  },
  {
   "cell_type": "code",
   "execution_count": 5,
   "id": "0efc9774-33f6-41e2-8cd0-7cbeae985cfe",
   "metadata": {},
   "outputs": [],
   "source": [
    "# Approach2: Optimized Approach: Using Binary Search\n",
    "def binary_search(arr, target):\n",
    "    left, right = 0, len(arr) - 1\n",
    "    \n",
    "    while left <= right:\n",
    "        mid = (left + right) // 2\n",
    "        \n",
    "        if arr[mid] == target:\n",
    "            return mid\n",
    "        elif arr[mid] < target:\n",
    "            left = mid + 1\n",
    "        else:\n",
    "            right = mid - 1\n",
    "    \n",
    "    return -1"
   ]
  },
  {
   "cell_type": "code",
   "execution_count": 6,
   "id": "705534f5-d328-4908-a080-2c38b82af4f6",
   "metadata": {},
   "outputs": [
    {
     "name": "stdout",
     "output_type": "stream",
     "text": [
      "3\n",
      "-1\n"
     ]
    }
   ],
   "source": [
    "# Test cases\n",
    "print(binary_search([1, 3, 5, 7, 9], 7))  # Output: 3\n",
    "print(binary_search([2, 4, 6, 8, 10], 5))  # Output: -1"
   ]
  },
  {
   "cell_type": "markdown",
   "id": "3a6b9635-e779-4015-8c0a-877462fe95b2",
   "metadata": {},
   "source": [
    "### Alternative Solution2"
   ]
  },
  {
   "cell_type": "markdown",
   "id": "c69a5b34-a82f-4ba9-be6b-d3e7b190205d",
   "metadata": {},
   "source": [
    "- Recursive Binary Search: An elegant alternative using recursion.\n",
    "\n",
    "- Built-in Python bisect module: Not used here, but helpful in production-ready code."
   ]
  },
  {
   "cell_type": "code",
   "execution_count": 7,
   "id": "de4e292d-dab1-4649-891b-416f15bf3142",
   "metadata": {},
   "outputs": [],
   "source": [
    "# Approach 2: Recursive Version\n",
    "def binary_search_recursive(arr, target, left=0, right=None):\n",
    "    if right is None:\n",
    "        right = len(arr) - 1\n",
    "    if left > right:\n",
    "        return -1\n",
    "    mid = (left + right) // 2\n",
    "    if arr[mid] == target:\n",
    "        return mid\n",
    "    elif arr[mid] < target:\n",
    "        return binary_search_recursive(arr, target, mid + 1, right)\n",
    "    else:\n",
    "        return binary_search_recursive(arr, target, left, mid - 1)"
   ]
  },
  {
   "cell_type": "code",
   "execution_count": 8,
   "id": "a4c41629-e0cd-40e0-afa7-75e9c1864a03",
   "metadata": {},
   "outputs": [
    {
     "name": "stdout",
     "output_type": "stream",
     "text": [
      "3\n",
      "-1\n"
     ]
    }
   ],
   "source": [
    "# Test cases\n",
    "print(binary_search_recursive([1, 3, 5, 7, 9], 7))  # Output: 3\n",
    "print(binary_search_recursive([2, 4, 6, 8, 10], 5))  # Output: -1"
   ]
  },
  {
   "cell_type": "markdown",
   "id": "462318bf-672f-4468-9122-070cf70b5af5",
   "metadata": {},
   "source": [
    "## Complexity Analysis"
   ]
  },
  {
   "cell_type": "markdown",
   "id": "3ff61a2e-affa-44cc-b483-573f9dc9b166",
   "metadata": {},
   "source": [
    "Time Complexity:\n",
    "\n",
    "- Linear Search: O(n)\n",
    "- Binary Search: O(log n)\n",
    "- Recursive Binary: O(log n)\n",
    " \n",
    "Space Complexity:\n",
    "\n",
    "- Linear Search: O(1)\n",
    "- Binary Search: O(1)\n",
    "- Recursive Binary: O(log n)"
   ]
  },
  {
   "cell_type": "markdown",
   "id": "54ae9b22-a3fd-4d97-807c-9deb388d03b1",
   "metadata": {},
   "source": [
    "#### Thank You!!"
   ]
  }
 ],
 "metadata": {
  "kernelspec": {
   "display_name": "Python 3 (ipykernel)",
   "language": "python",
   "name": "python3"
  },
  "language_info": {
   "codemirror_mode": {
    "name": "ipython",
    "version": 3
   },
   "file_extension": ".py",
   "mimetype": "text/x-python",
   "name": "python",
   "nbconvert_exporter": "python",
   "pygments_lexer": "ipython3",
   "version": "3.8.10"
  }
 },
 "nbformat": 4,
 "nbformat_minor": 5
}
