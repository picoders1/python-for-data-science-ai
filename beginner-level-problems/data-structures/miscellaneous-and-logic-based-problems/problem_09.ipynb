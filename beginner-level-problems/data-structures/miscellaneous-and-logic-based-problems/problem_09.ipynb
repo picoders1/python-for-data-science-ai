{
 "cells": [
  {
   "cell_type": "markdown",
   "id": "8a36d3b1-1a8d-478e-8060-6477472e6bd4",
   "metadata": {},
   "source": [
    "# **Problem Statement**  \n",
    "## **9. Write a program to implement the Tower of Hanoi**"
   ]
  },
  {
   "cell_type": "markdown",
   "id": "12b96244-784f-44f1-b72a-e69e054e8b67",
   "metadata": {},
   "source": [
    "### Identify Constraints & Example Inputs/Outputs\n",
    "\n",
    "Constraints:\n",
    "\n",
    "- Number of disks n >= 1\n",
    "- Disk moves must follow Tower of Hanoi rules.\n",
    "\n",
    "---\n",
    "Example1: Input: n = 3, Source = A, Destination = C, Auxiliary = B   \n",
    "\n",
    "Output: \n",
    "Move disk 1 from A to C  \n",
    "Move disk 2 from A to B  \n",
    "Move disk 1 from C to B  \n",
    "Move disk 3 from A to C  \n",
    "Move disk 1 from B to A  \n",
    "Move disk 2 from B to C  \n",
    "Move disk 1 from A to C\n",
    "\n",
    "---"
   ]
  },
  {
   "cell_type": "markdown",
   "id": "b68e7cad-ea42-4bb3-a20e-a91cba6d7424",
   "metadata": {},
   "source": [
    "### Solution Approach"
   ]
  },
  {
   "cell_type": "markdown",
   "id": "144b599f-addb-4686-8425-1f6e6f862acd",
   "metadata": {},
   "source": [
    "1. Base Case:\n",
    "If there's only 1 disk, move it directly from source to destination.\n",
    "\n",
    "2. Recursive Step:\n",
    "- Move n-1 disks from source to auxiliary.\n",
    "- Move the nth disk from source to destination.\n",
    "- Move n-1 disks from auxiliary to destination.\n",
    "\n",
    "3. Print each move step to track the operation."
   ]
  },
  {
   "cell_type": "markdown",
   "id": "be931aed-e6ac-4398-a9cc-cd43c98ed91b",
   "metadata": {},
   "source": [
    "### Solution Code"
   ]
  },
  {
   "cell_type": "code",
   "execution_count": 1,
   "id": "57cab10a-c58c-459b-b504-16dc7ee1d0ac",
   "metadata": {},
   "outputs": [],
   "source": [
    "# Approach1: Brute Force Approach: Recursive Solution\n",
    "def tower_of_hanoi(n, source, destination, auxiliary):\n",
    "    if n == 1:\n",
    "        print(f\"Move disk 1 from {source} to {destination}\")\n",
    "        return\n",
    "    tower_of_hanoi(n - 1, source, auxiliary, destination)\n",
    "    print(f\"Move disk {n} from {source} to {destination}\")\n",
    "    tower_of_hanoi(n - 1, auxiliary, destination, source)"
   ]
  },
  {
   "cell_type": "code",
   "execution_count": 2,
   "id": "c6b73b1c-518d-4265-925c-8c271c2045f7",
   "metadata": {},
   "outputs": [
    {
     "name": "stdout",
     "output_type": "stream",
     "text": [
      "Move disk 1 from A to C\n",
      "Move disk 2 from A to B\n",
      "Move disk 1 from C to B\n",
      "Move disk 3 from A to C\n",
      "Move disk 1 from B to A\n",
      "Move disk 2 from B to C\n",
      "Move disk 1 from A to C\n"
     ]
    }
   ],
   "source": [
    "# Test cases\n",
    "tower_of_hanoi(3, 'A', 'C', 'B')"
   ]
  },
  {
   "cell_type": "markdown",
   "id": "9febed86-bc77-49f3-aa50-7adfe033688a",
   "metadata": {},
   "source": [
    "### Alternative Solution1"
   ]
  },
  {
   "cell_type": "markdown",
   "id": "b2fc66df-30bd-4126-a09a-817633873a34",
   "metadata": {},
   "source": [
    "- This recursive solution is already optimal in terms of the minimal number of moves.\n",
    "\n",
    "- The number of moves required is 2^n - 1, which is the theoretical minimum.\n",
    "\n",
    "#### Alternative:\n",
    "\n",
    "- You can also store the moves in a list if you need to return the sequence instead of printing it."
   ]
  },
  {
   "cell_type": "code",
   "execution_count": 3,
   "id": "0efc9774-33f6-41e2-8cd0-7cbeae985cfe",
   "metadata": {},
   "outputs": [],
   "source": [
    "# Approach2: Optimized Approach\n",
    "def get_tower_of_hanoi_moves(n, source, destination, auxiliary, result=None):\n",
    "    if result is None:\n",
    "        result = []\n",
    "    if n == 1:\n",
    "        result.append((1, source, destination))\n",
    "        return result\n",
    "    get_tower_of_hanoi_moves(n-1, source, auxiliary, destination, result)\n",
    "    result.append((n, source, destination))\n",
    "    get_tower_of_hanoi_moves(n-1, auxiliary, destination, source, result)\n",
    "    return result"
   ]
  },
  {
   "cell_type": "code",
   "execution_count": 6,
   "id": "705534f5-d328-4908-a080-2c38b82af4f6",
   "metadata": {},
   "outputs": [
    {
     "data": {
      "text/plain": [
       "[(1, 'A', 'C'),\n",
       " (2, 'A', 'B'),\n",
       " (1, 'C', 'B'),\n",
       " (3, 'A', 'C'),\n",
       " (1, 'B', 'A'),\n",
       " (2, 'B', 'C'),\n",
       " (1, 'A', 'C')]"
      ]
     },
     "execution_count": 6,
     "metadata": {},
     "output_type": "execute_result"
    }
   ],
   "source": [
    "# Test cases\n",
    "get_tower_of_hanoi_moves(3, 'A', 'C', 'B')"
   ]
  },
  {
   "cell_type": "markdown",
   "id": "3a6b9635-e779-4015-8c0a-877462fe95b2",
   "metadata": {},
   "source": [
    "### Alternative Solution2"
   ]
  },
  {
   "cell_type": "markdown",
   "id": "c69a5b34-a82f-4ba9-be6b-d3e7b190205d",
   "metadata": {},
   "source": [
    "1. Trial Division: Simple and easy to understand, but not scalable.\n",
    "2. Sieve of Eratosthenes: Efficient for large n, especially when primes need to be reused.\n",
    "3. Segmented Sieve: Useful when generating primes in a specific large range."
   ]
  },
  {
   "cell_type": "markdown",
   "id": "462318bf-672f-4468-9122-070cf70b5af5",
   "metadata": {},
   "source": [
    "## Complexity Analysis"
   ]
  },
  {
   "cell_type": "markdown",
   "id": "3ff61a2e-affa-44cc-b483-573f9dc9b166",
   "metadata": {},
   "source": [
    "Time Complexity:\n",
    "\n",
    "- Time Complexity: O(2ⁿ)\n",
    "\n",
    "- Space Complexity: O(n) (for recursion)\n",
    "\n",
    "- Number of Moves: 2ⁿ - 1"
   ]
  },
  {
   "cell_type": "markdown",
   "id": "54ae9b22-a3fd-4d97-807c-9deb388d03b1",
   "metadata": {},
   "source": [
    "#### Thank You!!"
   ]
  }
 ],
 "metadata": {
  "kernelspec": {
   "display_name": "Python 3 (ipykernel)",
   "language": "python",
   "name": "python3"
  },
  "language_info": {
   "codemirror_mode": {
    "name": "ipython",
    "version": 3
   },
   "file_extension": ".py",
   "mimetype": "text/x-python",
   "name": "python",
   "nbconvert_exporter": "python",
   "pygments_lexer": "ipython3",
   "version": "3.8.10"
  }
 },
 "nbformat": 4,
 "nbformat_minor": 5
}
