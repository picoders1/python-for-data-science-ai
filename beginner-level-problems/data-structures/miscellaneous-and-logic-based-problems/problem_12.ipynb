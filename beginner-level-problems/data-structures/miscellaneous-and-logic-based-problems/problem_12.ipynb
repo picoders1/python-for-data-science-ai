{
 "cells": [
  {
   "cell_type": "markdown",
   "id": "8a36d3b1-1a8d-478e-8060-6477472e6bd4",
   "metadata": {},
   "source": [
    "# **Problem Statement**  \n",
    "## **12. Write a program to check if a number is a power of 2**"
   ]
  },
  {
   "cell_type": "markdown",
   "id": "12b96244-784f-44f1-b72a-e69e054e8b67",
   "metadata": {},
   "source": [
    "### Identify Constraints & Example Inputs/Outputs\n",
    "\n",
    "Constraints:\n",
    "\n",
    "- Input is a positive integer n\n",
    "- n >= 1\n",
    "\n",
    "---\n",
    "Example1: Input:  8  \n",
    "\n",
    "Output: True\n",
    "\n",
    "---\n",
    "Example2: Input: 5\n",
    "\n",
    "Output: False\n",
    "\n",
    "---\n",
    "Example3: Input: 1\n",
    "\n",
    "Output: True \n",
    "\n",
    "---"
   ]
  },
  {
   "cell_type": "markdown",
   "id": "b68e7cad-ea42-4bb3-a20e-a91cba6d7424",
   "metadata": {},
   "source": [
    "### Solution Approach"
   ]
  },
  {
   "cell_type": "markdown",
   "id": "144b599f-addb-4686-8425-1f6e6f862acd",
   "metadata": {},
   "source": [
    "Step1: A number n is a power of 2 if there exists an integer x such that n == 2^x.\n",
    "\n",
    "Step2: In binary form, a power of 2 has only one bit set to 1 (e.g., 1 → 0001, 2 → 0010, 4 → 0100).\n",
    "\n",
    "Step3: We can use different methods to check this condition:\n",
    "- Keep dividing n by 2.\n",
    "- Use bit manipulation (n & (n - 1) == 0)."
   ]
  },
  {
   "cell_type": "markdown",
   "id": "be931aed-e6ac-4398-a9cc-cd43c98ed91b",
   "metadata": {},
   "source": [
    "### Solution Code"
   ]
  },
  {
   "cell_type": "code",
   "execution_count": 1,
   "id": "57cab10a-c58c-459b-b504-16dc7ee1d0ac",
   "metadata": {},
   "outputs": [],
   "source": [
    "# Approach1: Brute Force Approach\n",
    "def is_power_of_two_brute(n):\n",
    "    if n <= 0:\n",
    "        return False\n",
    "    while n % 2 == 0:\n",
    "        n = n // 2\n",
    "    return n == 1"
   ]
  },
  {
   "cell_type": "code",
   "execution_count": 2,
   "id": "c6b73b1c-518d-4265-925c-8c271c2045f7",
   "metadata": {},
   "outputs": [
    {
     "name": "stdout",
     "output_type": "stream",
     "text": [
      "True\n",
      "False\n"
     ]
    }
   ],
   "source": [
    "# Test cases\n",
    "print(is_power_of_two_brute(8))  # True\n",
    "print(is_power_of_two_brute(5))  # False"
   ]
  },
  {
   "cell_type": "markdown",
   "id": "9febed86-bc77-49f3-aa50-7adfe033688a",
   "metadata": {},
   "source": [
    "### Alternative Solution1"
   ]
  },
  {
   "cell_type": "code",
   "execution_count": 3,
   "id": "0efc9774-33f6-41e2-8cd0-7cbeae985cfe",
   "metadata": {},
   "outputs": [],
   "source": [
    "# Approach2: Optimized Approach: Using Bit Manipulation\n",
    "def is_power_of_two_optimized(n):\n",
    "    return n > 0 and (n & (n - 1)) == 0"
   ]
  },
  {
   "cell_type": "code",
   "execution_count": 4,
   "id": "705534f5-d328-4908-a080-2c38b82af4f6",
   "metadata": {},
   "outputs": [
    {
     "name": "stdout",
     "output_type": "stream",
     "text": [
      "True\n",
      "False\n"
     ]
    }
   ],
   "source": [
    "# Test cases\n",
    "print(is_power_of_two_optimized(8))  # True\n",
    "print(is_power_of_two_optimized(5))  # False"
   ]
  },
  {
   "cell_type": "markdown",
   "id": "3a6b9635-e779-4015-8c0a-877462fe95b2",
   "metadata": {},
   "source": [
    "### Alternative Solution2"
   ]
  },
  {
   "cell_type": "code",
   "execution_count": 5,
   "id": "48add03e-7f96-4e7b-be44-bd964085f383",
   "metadata": {},
   "outputs": [],
   "source": [
    "# Using Math log2()\n",
    "import math\n",
    "\n",
    "def is_power_of_two_log(n):\n",
    "    if n <= 0:\n",
    "        return False\n",
    "    return math.log2(n).is_integer()"
   ]
  },
  {
   "cell_type": "code",
   "execution_count": 6,
   "id": "6f984231-7286-4ffd-980b-a58d4cd2735f",
   "metadata": {},
   "outputs": [
    {
     "name": "stdout",
     "output_type": "stream",
     "text": [
      "True\n",
      "False\n"
     ]
    }
   ],
   "source": [
    "# Test cases\n",
    "print(is_power_of_two_log(8))  # True\n",
    "print(is_power_of_two_log(5))  # False"
   ]
  },
  {
   "cell_type": "markdown",
   "id": "462318bf-672f-4468-9122-070cf70b5af5",
   "metadata": {},
   "source": [
    "## Complexity Analysis"
   ]
  },
  {
   "cell_type": "markdown",
   "id": "3ff61a2e-affa-44cc-b483-573f9dc9b166",
   "metadata": {},
   "source": [
    "Time Complexity:\n",
    "\n",
    "- Brute Force(loop): O(log n)\n",
    "- Bit Manipulation: O(1)\n",
    "- Math log2(): O(1)\n",
    " \n",
    "Space Complexity:\n",
    "\n",
    "- Brute Force(loop): O(1)\n",
    "- Bit Manipulation: O(1)\n",
    "- Math log2(): O(1)"
   ]
  },
  {
   "cell_type": "markdown",
   "id": "54ae9b22-a3fd-4d97-807c-9deb388d03b1",
   "metadata": {},
   "source": [
    "#### Thank You!!"
   ]
  }
 ],
 "metadata": {
  "kernelspec": {
   "display_name": "Python 3 (ipykernel)",
   "language": "python",
   "name": "python3"
  },
  "language_info": {
   "codemirror_mode": {
    "name": "ipython",
    "version": 3
   },
   "file_extension": ".py",
   "mimetype": "text/x-python",
   "name": "python",
   "nbconvert_exporter": "python",
   "pygments_lexer": "ipython3",
   "version": "3.8.10"
  }
 },
 "nbformat": 4,
 "nbformat_minor": 5
}
