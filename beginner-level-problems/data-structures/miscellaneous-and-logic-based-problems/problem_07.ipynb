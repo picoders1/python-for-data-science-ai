{
 "cells": [
  {
   "cell_type": "markdown",
   "id": "8a36d3b1-1a8d-478e-8060-6477472e6bd4",
   "metadata": {},
   "source": [
    "# **Problem Statement**  \n",
    "## **7. Write a program to find the median of a list of numbers**"
   ]
  },
  {
   "cell_type": "markdown",
   "id": "12b96244-784f-44f1-b72a-e69e054e8b67",
   "metadata": {},
   "source": [
    "### Identify Constraints & Example Inputs/Outputs\n",
    "\n",
    "Constraints:\n",
    "\n",
    "- The input list can have an even or odd number of elements.\n",
    "- The list may contain negative numbers.\n",
    "- The list may be unsorted initially.\n",
    "\n",
    "---\n",
    "Example1: Input: [3, 5, 1, 2, 4]    \n",
    "\n",
    "Output: 3\n",
    "\n",
    "---\n",
    "Example2: Input: [3, 1, 2, 4]  \n",
    "\n",
    "Output: 2.5\n",
    "\n",
    "---"
   ]
  },
  {
   "cell_type": "markdown",
   "id": "b68e7cad-ea42-4bb3-a20e-a91cba6d7424",
   "metadata": {},
   "source": [
    "### Solution Approach"
   ]
  },
  {
   "cell_type": "markdown",
   "id": "144b599f-addb-4686-8425-1f6e6f862acd",
   "metadata": {},
   "source": [
    "1. Sort the List – Since the median depends on the order of elements, sorting is the first step.\n",
    "\n",
    "2. Check Length:\n",
    "    - If odd, the median is the middle element.\n",
    "    - If even, the median is the average of the two middle elements."
   ]
  },
  {
   "cell_type": "markdown",
   "id": "be931aed-e6ac-4398-a9cc-cd43c98ed91b",
   "metadata": {},
   "source": [
    "### Solution Code"
   ]
  },
  {
   "cell_type": "code",
   "execution_count": 1,
   "id": "57cab10a-c58c-459b-b504-16dc7ee1d0ac",
   "metadata": {},
   "outputs": [],
   "source": [
    "# Approach 1: Brute Force Approach: Using a Loop\n",
    "def find_median_brute_force(arr):\n",
    "    arr.sort()\n",
    "    n = len(arr)\n",
    "    mid = n // 2\n",
    "    if n % 2 == 0:\n",
    "        return (arr[mid - 1] + arr[mid]) / 2\n",
    "    else:\n",
    "        return arr[mid]"
   ]
  },
  {
   "cell_type": "code",
   "execution_count": 2,
   "id": "c6b73b1c-518d-4265-925c-8c271c2045f7",
   "metadata": {},
   "outputs": [
    {
     "name": "stdout",
     "output_type": "stream",
     "text": [
      "3\n"
     ]
    }
   ],
   "source": [
    "# Test cases\n",
    "print(find_median_brute_force([3, 5, 1, 2, 4]))  # Output: 3"
   ]
  },
  {
   "cell_type": "markdown",
   "id": "9febed86-bc77-49f3-aa50-7adfe033688a",
   "metadata": {},
   "source": [
    "### Alternative Solution1"
   ]
  },
  {
   "cell_type": "markdown",
   "id": "6a10f18a-e834-4507-a31f-f97122ddcfc1",
   "metadata": {},
   "source": [
    "If the input list is very large and we are not allowed to sort the whole list (e.g., streaming data or constant-time median query), we can use two heaps (min-heap and max-heap). But for most use cases, sorting is sufficient."
   ]
  },
  {
   "cell_type": "code",
   "execution_count": 3,
   "id": "0efc9774-33f6-41e2-8cd0-7cbeae985cfe",
   "metadata": {},
   "outputs": [],
   "source": [
    "# Approach 2: Optimized Approach: Using Sieve-based\n",
    "import heapq\n",
    "\n",
    "def find_median_optimized(arr):\n",
    "    # Sorting-based approach remains optimal for general use\n",
    "    return find_median_brute_force(arr)  # Still O(n log n)"
   ]
  },
  {
   "cell_type": "code",
   "execution_count": 4,
   "id": "705534f5-d328-4908-a080-2c38b82af4f6",
   "metadata": {},
   "outputs": [
    {
     "name": "stdout",
     "output_type": "stream",
     "text": [
      "2.5\n"
     ]
    }
   ],
   "source": [
    "# Test cases\n",
    "print(find_median_optimized([3, 1, 2, 4]))  # Output: 2.5"
   ]
  },
  {
   "cell_type": "markdown",
   "id": "3a6b9635-e779-4015-8c0a-877462fe95b2",
   "metadata": {},
   "source": [
    "### Alternative Solution2"
   ]
  },
  {
   "cell_type": "markdown",
   "id": "c69a5b34-a82f-4ba9-be6b-d3e7b190205d",
   "metadata": {},
   "source": [
    "#### 1. Using Heaps (for large/streamed data):\n",
    "- Use a max-heap for the lower half and a min-heap for the upper half.\n",
    "- Maintain balance so median can be computed in O(1).\n",
    "- Time: O(log n) per insert\n",
    "\n",
    "#### 2. Using QuickSelect:\n",
    "- Find the k-th smallest element without fully sorting.\n",
    "- Average time: O(n)"
   ]
  },
  {
   "cell_type": "markdown",
   "id": "462318bf-672f-4468-9122-070cf70b5af5",
   "metadata": {},
   "source": [
    "## Complexity Analysis"
   ]
  },
  {
   "cell_type": "markdown",
   "id": "3ff61a2e-affa-44cc-b483-573f9dc9b166",
   "metadata": {},
   "source": [
    "Time Complexity:\n",
    "\n",
    "- Brute Force (Sorting): O(n log n)\n",
    "- Heaps (Optimized): O(n log n)\n",
    "- QuickSelect: Avg: O(n), Worst: O(n²)\n",
    "  \n",
    "Space Complexity:\n",
    "\n",
    "- Brute Force (Sorting): O(1)\n",
    "- Heaps (Optimized): O(n)\n",
    "- QuickSelect: O(1)"
   ]
  },
  {
   "cell_type": "markdown",
   "id": "54ae9b22-a3fd-4d97-807c-9deb388d03b1",
   "metadata": {},
   "source": [
    "#### Thank You!!"
   ]
  }
 ],
 "metadata": {
  "kernelspec": {
   "display_name": "Python 3 (ipykernel)",
   "language": "python",
   "name": "python3"
  },
  "language_info": {
   "codemirror_mode": {
    "name": "ipython",
    "version": 3
   },
   "file_extension": ".py",
   "mimetype": "text/x-python",
   "name": "python",
   "nbconvert_exporter": "python",
   "pygments_lexer": "ipython3",
   "version": "3.8.10"
  }
 },
 "nbformat": 4,
 "nbformat_minor": 5
}
