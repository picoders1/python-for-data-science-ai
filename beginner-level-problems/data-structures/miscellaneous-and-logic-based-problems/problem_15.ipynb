{
 "cells": [
  {
   "cell_type": "markdown",
   "id": "8a36d3b1-1a8d-478e-8060-6477472e6bd4",
   "metadata": {},
   "source": [
    "# **Problem Statement**  \n",
    "## **15. Write a function to implement a simple calculator**"
   ]
  },
  {
   "cell_type": "markdown",
   "id": "12b96244-784f-44f1-b72a-e69e054e8b67",
   "metadata": {},
   "source": [
    "### Identify Constraints & Example Inputs/Outputs\n",
    "\n",
    "Constraints:\n",
    "\n",
    "- Input will consist of two numbers and an operator: '+', '-', '*', '/'.\n",
    "- Division by zero should be handled gracefully.\n",
    "- Inputs are valid numeric types (integers or floats).\n",
    "- Only these four operators are supported.\n",
    "\n",
    "---\n",
    "Example1: Input: calculator(10, '+', 5)\n",
    "\n",
    "Output: 15\n",
    "\n",
    "---\n",
    "Example2: Input: calculator(9, '/', 0)\n",
    "\n",
    "Output: \"Error: Division by zero\"\n",
    "\n",
    "---"
   ]
  },
  {
   "cell_type": "markdown",
   "id": "b68e7cad-ea42-4bb3-a20e-a91cba6d7424",
   "metadata": {},
   "source": [
    "### Solution Approach"
   ]
  },
  {
   "cell_type": "markdown",
   "id": "144b599f-addb-4686-8425-1f6e6f862acd",
   "metadata": {},
   "source": [
    "Step1:Take two numeric values and one operator as input.\n",
    "\n",
    "Step2: Use conditionals (if-elif) to check the operator.\n",
    "\n",
    "Step3: Perform the corresponding arithmetic operation.\n",
    "\n",
    "Step4: If the operator is /, check if the second number is zero to avoid division error.\n",
    "\n",
    "Step5: If the operator is invalid, return an appropriate error message.\n",
    "\n",
    "Step6: Return the result of the operation."
   ]
  },
  {
   "cell_type": "markdown",
   "id": "be931aed-e6ac-4398-a9cc-cd43c98ed91b",
   "metadata": {},
   "source": [
    "### Solution Code"
   ]
  },
  {
   "cell_type": "code",
   "execution_count": 1,
   "id": "57cab10a-c58c-459b-b504-16dc7ee1d0ac",
   "metadata": {},
   "outputs": [],
   "source": [
    "# Approach1: Brute Force Approach\n",
    "def calculator(a, operator, b):\n",
    "    if operator == '+':\n",
    "        return a + b\n",
    "    elif operator == '-':\n",
    "        return a - b\n",
    "    elif operator == '*':\n",
    "        return a * b\n",
    "    elif operator == '/':\n",
    "        if b == 0:\n",
    "            return \"Error: Division by zero\"\n",
    "        return a / b\n",
    "    else:\n",
    "        return \"Error: Invalid operator\""
   ]
  },
  {
   "cell_type": "markdown",
   "id": "9febed86-bc77-49f3-aa50-7adfe033688a",
   "metadata": {},
   "source": [
    "### Alternative Solution1"
   ]
  },
  {
   "cell_type": "code",
   "execution_count": 2,
   "id": "0efc9774-33f6-41e2-8cd0-7cbeae985cfe",
   "metadata": {},
   "outputs": [],
   "source": [
    "# Approach2: Optimized Approach: Using dictionary mapping\n",
    "def calculator_optimized(a, operator, b):\n",
    "    operations = {\n",
    "        '+': lambda x, y: x + y,\n",
    "        '-': lambda x, y: x - y,\n",
    "        '*': lambda x, y: x * y,\n",
    "        '/': lambda x, y: x / y if y != 0 else \"Error: Division by zero\"\n",
    "    }\n",
    "    if operator not in operations:\n",
    "        return \"Error: Invalid operator\"\n",
    "    return operations[operator](a, b)"
   ]
  },
  {
   "cell_type": "markdown",
   "id": "3a6b9635-e779-4015-8c0a-877462fe95b2",
   "metadata": {},
   "source": [
    "### Alternative Solution2"
   ]
  },
  {
   "cell_type": "markdown",
   "id": "c69a5b34-a82f-4ba9-be6b-d3e7b190205d",
   "metadata": {},
   "source": [
    "- You could use eval() for quick implementations, but it's not safe for untrusted input.\n",
    "\n",
    "- For GUI or command-line based input, you could extend it to take string expressions like \"10 + 5\" and parse it using regex."
   ]
  },
  {
   "cell_type": "markdown",
   "id": "462318bf-672f-4468-9122-070cf70b5af5",
   "metadata": {},
   "source": [
    "## Complexity Analysis"
   ]
  },
  {
   "cell_type": "markdown",
   "id": "3ff61a2e-affa-44cc-b483-573f9dc9b166",
   "metadata": {},
   "source": [
    "Time Complexity:\n",
    "\n",
    "- Brute Force: O(1)\n",
    "- Optimized (dictionary mapping): O(1)\n",
    " \n",
    "Space Complexity:\n",
    "\n",
    "- Brute Force: O(1)\n",
    "- Optimized (dictionary mapping): O(1)"
   ]
  },
  {
   "cell_type": "markdown",
   "id": "54ae9b22-a3fd-4d97-807c-9deb388d03b1",
   "metadata": {},
   "source": [
    "#### Thank You!!"
   ]
  }
 ],
 "metadata": {
  "kernelspec": {
   "display_name": "Python 3 (ipykernel)",
   "language": "python",
   "name": "python3"
  },
  "language_info": {
   "codemirror_mode": {
    "name": "ipython",
    "version": 3
   },
   "file_extension": ".py",
   "mimetype": "text/x-python",
   "name": "python",
   "nbconvert_exporter": "python",
   "pygments_lexer": "ipython3",
   "version": "3.8.10"
  }
 },
 "nbformat": 4,
 "nbformat_minor": 5
}
