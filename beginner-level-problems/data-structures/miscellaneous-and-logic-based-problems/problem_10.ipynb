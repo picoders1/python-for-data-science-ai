{
 "cells": [
  {
   "cell_type": "markdown",
   "id": "8a36d3b1-1a8d-478e-8060-6477472e6bd4",
   "metadata": {},
   "source": [
    "# **Problem Statement**  \n",
    "## **10. Write a function to generate a random string of length n**"
   ]
  },
  {
   "cell_type": "markdown",
   "id": "12b96244-784f-44f1-b72a-e69e054e8b67",
   "metadata": {},
   "source": [
    "### Identify Constraints & Example Inputs/Outputs\n",
    "\n",
    "Constraints:\n",
    "\n",
    "- n should be a non-negative integer.\n",
    "- The character set can include:\n",
    "    - Uppercase letters: A-Z\n",
    "    - Lowercase letters: a-z\n",
    "    - Digits: 0-9\n",
    "    - Special characters (optional)\n",
    "\n",
    "---\n",
    "Example1: Input: n = 6    \n",
    "\n",
    "Output: 'aG3kL9' (Randomly generated string of length 6) [Note: Output will vary each time because of randomness.]\n",
    "\n",
    "---"
   ]
  },
  {
   "cell_type": "markdown",
   "id": "b68e7cad-ea42-4bb3-a20e-a91cba6d7424",
   "metadata": {},
   "source": [
    "### Solution Approach"
   ]
  },
  {
   "cell_type": "markdown",
   "id": "144b599f-addb-4686-8425-1f6e6f862acd",
   "metadata": {},
   "source": [
    "Step1: Import Required Modules: Use Python’s built-in random and string modules.\n",
    "\n",
    "Step2: Define Character Set: Combine characters from:\n",
    "- string.ascii_letters → a-z and A-Z\n",
    "- string.digits → 0-9\n",
    "- Optionally add string.punctuation for special characters.\n",
    "\n",
    "Step3: Generate Random Characters: Use random.choices() to select n characters from the defined set.\n",
    "\n",
    "Step4: Join and Return: Join the selected characters to form the final string."
   ]
  },
  {
   "cell_type": "markdown",
   "id": "be931aed-e6ac-4398-a9cc-cd43c98ed91b",
   "metadata": {},
   "source": [
    "### Solution Code"
   ]
  },
  {
   "cell_type": "code",
   "execution_count": 1,
   "id": "57cab10a-c58c-459b-b504-16dc7ee1d0ac",
   "metadata": {},
   "outputs": [],
   "source": [
    "# Approach 1: Brute Force Approach: Using a Loop\n",
    "import random\n",
    "import string\n",
    "\n",
    "def generate_random_string(n):\n",
    "    characters = string.ascii_letters + string.digits\n",
    "    result = ''.join(random.choices(characters, k=n))\n",
    "    return result"
   ]
  },
  {
   "cell_type": "code",
   "execution_count": 2,
   "id": "c6b73b1c-518d-4265-925c-8c271c2045f7",
   "metadata": {},
   "outputs": [
    {
     "name": "stdout",
     "output_type": "stream",
     "text": [
      "YaldrFxYss\n"
     ]
    }
   ],
   "source": [
    "# Test cases\n",
    "print(generate_random_string(10))"
   ]
  },
  {
   "cell_type": "markdown",
   "id": "9febed86-bc77-49f3-aa50-7adfe033688a",
   "metadata": {},
   "source": [
    "### Alternative Solution1"
   ]
  },
  {
   "cell_type": "code",
   "execution_count": 3,
   "id": "0efc9774-33f6-41e2-8cd0-7cbeae985cfe",
   "metadata": {},
   "outputs": [],
   "source": [
    "# Approach 2: Optimized Approach: Flexible Version\n",
    "def generate_random_string_v2(n, use_special_chars=False):\n",
    "    base_chars = string.ascii_letters + string.digits\n",
    "    if use_special_chars:\n",
    "        base_chars += string.punctuation\n",
    "    return ''.join(random.choices(base_chars, k=n))"
   ]
  },
  {
   "cell_type": "code",
   "execution_count": 4,
   "id": "705534f5-d328-4908-a080-2c38b82af4f6",
   "metadata": {},
   "outputs": [
    {
     "name": "stdout",
     "output_type": "stream",
     "text": [
      "*hJ]AIX~VK^i\n"
     ]
    }
   ],
   "source": [
    "# Test cases\n",
    "print(generate_random_string_v2(12, use_special_chars=True))"
   ]
  },
  {
   "cell_type": "markdown",
   "id": "3a6b9635-e779-4015-8c0a-877462fe95b2",
   "metadata": {},
   "source": [
    "### Alternative Solution2"
   ]
  },
  {
   "cell_type": "code",
   "execution_count": 7,
   "id": "457524c2-416e-43fa-9784-fb9369fc765f",
   "metadata": {},
   "outputs": [],
   "source": [
    "# Using secrets Module (for cryptographically secure randomness)\n",
    "import secrets\n",
    "import string\n",
    "\n",
    "def secure_random_string(n):\n",
    "    characters = string.ascii_letters + string.digits\n",
    "    return ''.join(secrets.choice(characters) for _ in range(n))\n"
   ]
  },
  {
   "cell_type": "code",
   "execution_count": 10,
   "id": "65ca555a-00db-4fcb-a049-af5cecd1c66a",
   "metadata": {},
   "outputs": [
    {
     "name": "stdout",
     "output_type": "stream",
     "text": [
      "G0Aeg1Jbw3\n"
     ]
    }
   ],
   "source": [
    "# Test cases\n",
    "print(secure_random_string(10))"
   ]
  },
  {
   "cell_type": "markdown",
   "id": "462318bf-672f-4468-9122-070cf70b5af5",
   "metadata": {},
   "source": [
    "## Complexity Analysis"
   ]
  },
  {
   "cell_type": "markdown",
   "id": "3ff61a2e-affa-44cc-b483-573f9dc9b166",
   "metadata": {},
   "source": [
    "- Time Complexity: O(n)\n",
    " \n",
    "- Space Complexity: O(n)"
   ]
  },
  {
   "cell_type": "markdown",
   "id": "54ae9b22-a3fd-4d97-807c-9deb388d03b1",
   "metadata": {},
   "source": [
    "#### Thank You!!"
   ]
  }
 ],
 "metadata": {
  "kernelspec": {
   "display_name": "Python 3 (ipykernel)",
   "language": "python",
   "name": "python3"
  },
  "language_info": {
   "codemirror_mode": {
    "name": "ipython",
    "version": 3
   },
   "file_extension": ".py",
   "mimetype": "text/x-python",
   "name": "python",
   "nbconvert_exporter": "python",
   "pygments_lexer": "ipython3",
   "version": "3.8.10"
  }
 },
 "nbformat": 4,
 "nbformat_minor": 5
}
