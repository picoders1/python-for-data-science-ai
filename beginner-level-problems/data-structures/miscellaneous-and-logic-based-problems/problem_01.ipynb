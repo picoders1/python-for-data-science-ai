{
 "cells": [
  {
   "cell_type": "markdown",
   "id": "8a36d3b1-1a8d-478e-8060-6477472e6bd4",
   "metadata": {},
   "source": [
    "# **Problem Statement**  \n",
    "## **1. Write a function to generate the first n prime numbers**"
   ]
  },
  {
   "cell_type": "markdown",
   "id": "12b96244-784f-44f1-b72a-e69e054e8b67",
   "metadata": {},
   "source": [
    "### Identify Constraints & Example Inputs/Outputs\n",
    "\n",
    "Constraints:\n",
    "\n",
    "- n is a positive integer: 1 <= n <= 10^5\n",
    "- Output must be a list of prime numbers in ascending order\n",
    "\n",
    "---\n",
    "Example1: Input: n = 5   \n",
    "\n",
    "Output: [2, 3, 5, 7, 11]\n",
    "\n",
    "---\n",
    "Example2: Input: n = 10\n",
    "\n",
    "Output: [2, 3, 5, 7, 11, 13, 17, 19, 23, 29]\n",
    "\n",
    "---"
   ]
  },
  {
   "cell_type": "markdown",
   "id": "b68e7cad-ea42-4bb3-a20e-a91cba6d7424",
   "metadata": {},
   "source": [
    "### Solution Approach"
   ]
  },
  {
   "cell_type": "markdown",
   "id": "144b599f-addb-4686-8425-1f6e6f862acd",
   "metadata": {},
   "source": [
    "Step1: A prime number is a number greater than 1 that has no divisors other than 1 and itself.\n",
    "\n",
    "Step2: We can generate primes one by one using trial division (brute force), but it is inefficient.\n",
    "\n",
    "Step3: An optimized method like the Sieve of Eratosthenes or a modified version helps generate primes faster.\n",
    "\n",
    "Step4: We keep checking numbers starting from 2 until we collect n primes."
   ]
  },
  {
   "cell_type": "markdown",
   "id": "be931aed-e6ac-4398-a9cc-cd43c98ed91b",
   "metadata": {},
   "source": [
    "### Solution Code"
   ]
  },
  {
   "cell_type": "code",
   "execution_count": 2,
   "id": "57cab10a-c58c-459b-b504-16dc7ee1d0ac",
   "metadata": {},
   "outputs": [],
   "source": [
    "# Approach1: Brute Force Approach: Using a Loop\n",
    "def is_prime(num):\n",
    "    if num < 2:\n",
    "        return False\n",
    "    for i in range(2, int(num**0.5)+1):\n",
    "        if num % i == 0:\n",
    "            return False\n",
    "    return True\n",
    "\n",
    "def first_n_primes_brute(n):\n",
    "    primes = []\n",
    "    num = 2\n",
    "    while len(primes) < n:\n",
    "        if is_prime(num):\n",
    "            primes.append(num)\n",
    "        num += 1\n",
    "    return primes"
   ]
  },
  {
   "cell_type": "code",
   "execution_count": 3,
   "id": "c6b73b1c-518d-4265-925c-8c271c2045f7",
   "metadata": {},
   "outputs": [
    {
     "name": "stdout",
     "output_type": "stream",
     "text": [
      "[2, 3, 5, 7, 11]\n"
     ]
    }
   ],
   "source": [
    "# Test cases\n",
    "print(first_n_primes_brute(5))  # Output: [2, 3, 5, 7, 11]"
   ]
  },
  {
   "cell_type": "markdown",
   "id": "9febed86-bc77-49f3-aa50-7adfe033688a",
   "metadata": {},
   "source": [
    "### Alternative Solution1"
   ]
  },
  {
   "cell_type": "code",
   "execution_count": 4,
   "id": "0efc9774-33f6-41e2-8cd0-7cbeae985cfe",
   "metadata": {},
   "outputs": [],
   "source": [
    "# Approach 2: Optimized Approach: Using Sieve-based\n",
    "def first_n_primes_optimized(n):\n",
    "    if n == 0:\n",
    "        return []\n",
    "    \n",
    "    # Estimate an upper limit using the prime number theorem\n",
    "    import math\n",
    "    if n < 6:\n",
    "        limit = 15\n",
    "    else:\n",
    "        limit = int(n * math.log(n) * 1.5)\n",
    "        \n",
    "    sieve = [True] * (limit + 1)\n",
    "    sieve[0:2] = [False, False]\n",
    "    primes = []\n",
    "\n",
    "    for i in range(2, limit + 1):\n",
    "        if sieve[i]:\n",
    "            primes.append(i)\n",
    "            for j in range(i*i, limit + 1, i):\n",
    "                sieve[j] = False\n",
    "        if len(primes) == n:\n",
    "            break\n",
    "            \n",
    "    return primes"
   ]
  },
  {
   "cell_type": "code",
   "execution_count": 5,
   "id": "705534f5-d328-4908-a080-2c38b82af4f6",
   "metadata": {},
   "outputs": [
    {
     "name": "stdout",
     "output_type": "stream",
     "text": [
      "[2, 3, 5, 7, 11, 13, 17, 19, 23, 29]\n"
     ]
    }
   ],
   "source": [
    "# Test cases\n",
    "print(first_n_primes_optimized(10))  # Output: [2, 3, 5, 7, 11, 13, 17, 19, 23, 29]"
   ]
  },
  {
   "cell_type": "markdown",
   "id": "3a6b9635-e779-4015-8c0a-877462fe95b2",
   "metadata": {},
   "source": [
    "### Alternative Solution2"
   ]
  },
  {
   "cell_type": "markdown",
   "id": "c69a5b34-a82f-4ba9-be6b-d3e7b190205d",
   "metadata": {},
   "source": [
    "1. Trial Division: Simple and easy to understand, but not scalable.\n",
    "2. Sieve of Eratosthenes: Efficient for large n, especially when primes need to be reused.\n",
    "3. Segmented Sieve: Useful when generating primes in a specific large range."
   ]
  },
  {
   "cell_type": "markdown",
   "id": "462318bf-672f-4468-9122-070cf70b5af5",
   "metadata": {},
   "source": [
    "## Complexity Analysis"
   ]
  },
  {
   "cell_type": "markdown",
   "id": "3ff61a2e-affa-44cc-b483-573f9dc9b166",
   "metadata": {},
   "source": [
    "Time Complexity:\n",
    "\n",
    "- Trial Division: O(n√m)\n",
    "- Sieve of Eratosthenes: O(n log log n)\n",
    " \n",
    "Space Complexity:\n",
    "\n",
    "- Trial Division: O(1)\n",
    "- Sieve of Eratosthenes: O(n)"
   ]
  },
  {
   "cell_type": "markdown",
   "id": "54ae9b22-a3fd-4d97-807c-9deb388d03b1",
   "metadata": {},
   "source": [
    "#### Thank You!!"
   ]
  }
 ],
 "metadata": {
  "kernelspec": {
   "display_name": "Python 3 (ipykernel)",
   "language": "python",
   "name": "python3"
  },
  "language_info": {
   "codemirror_mode": {
    "name": "ipython",
    "version": 3
   },
   "file_extension": ".py",
   "mimetype": "text/x-python",
   "name": "python",
   "nbconvert_exporter": "python",
   "pygments_lexer": "ipython3",
   "version": "3.8.10"
  }
 },
 "nbformat": 4,
 "nbformat_minor": 5
}
