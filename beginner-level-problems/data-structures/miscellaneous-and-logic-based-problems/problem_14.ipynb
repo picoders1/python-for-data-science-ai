{
 "cells": [
  {
   "cell_type": "markdown",
   "id": "8a36d3b1-1a8d-478e-8060-6477472e6bd4",
   "metadata": {},
   "source": [
    "# **Problem Statement**  \n",
    "## **14. Write a Python program to check if a Sudoku board is valid**"
   ]
  },
  {
   "cell_type": "markdown",
   "id": "12b96244-784f-44f1-b72a-e69e054e8b67",
   "metadata": {},
   "source": [
    "### Identify Constraints & Example Inputs/Outputs\n",
    "\n",
    "Constraints:\n",
    "\n",
    "- A valid Sudoku board must satisfy:\n",
    "    - Each row contains the digits 1-9 at most once.\n",
    "    - Each column contains the digits 1-9 at most once.\n",
    "    - Each of the nine 3x3 sub-boxes must contain the digits 1-9 at most once.\n",
    "- The board is always 9x9.\n",
    "- Empty cells are represented by '.'\n",
    "\n",
    "---\n",
    "Example1: Input: board = [[\"5\",\"3\",\".\",\".\",\"7\",\".\",\".\",\".\",\".\"],[\"6\",\".\",\".\",\"1\",\"9\",\"5\",\".\",\".\",\".\"],[\".\",\"9\",\"8\",\".\",\".\",\".\",\".\",\"6\",\".\"],[\"8\",\".\",\".\",\".\",\"6\",\".\",\".\",\".\",\"3\"],[\"4\",\".\",\".\",\"8\",\".\",\"3\",\".\",\".\",\"1\"],\n",
    "[\"7\",\".\",\".\",\".\",\"2\",\".\",\".\",\".\",\"6\"],[\".\",\"6\",\".\",\".\",\".\",\".\",\"2\",\"8\",\".\"],\n",
    "[\".\",\".\",\".\",\"4\",\"1\",\"9\",\".\",\".\",\"5\"],[\".\",\".\",\".\",\".\",\"8\",\".\",\".\",\"7\",\"9\"]]\n",
    "  \n",
    "Output: True\n",
    "\n",
    "---"
   ]
  },
  {
   "cell_type": "markdown",
   "id": "b68e7cad-ea42-4bb3-a20e-a91cba6d7424",
   "metadata": {},
   "source": [
    "### Solution Approach"
   ]
  },
  {
   "cell_type": "markdown",
   "id": "144b599f-addb-4686-8425-1f6e6f862acd",
   "metadata": {},
   "source": [
    "Step1: Traverse through each cell in the board.\n",
    "\n",
    "Step2: Use sets to track:\n",
    "- Digits seen in each row.\n",
    "- Digits seen in each column.\n",
    "- Digits seen in each 3x3 box.\n",
    "\n",
    "Step3: For each cell:\n",
    "- Skip if it is '.'.\n",
    "- If the digit already exists in the corresponding row, column, or box, return False.\n",
    "- Otherwise, record it.\n",
    "\n",
    "Step4: Return True if all constraints are satisfied."
   ]
  },
  {
   "cell_type": "markdown",
   "id": "be931aed-e6ac-4398-a9cc-cd43c98ed91b",
   "metadata": {},
   "source": [
    "### Solution Code"
   ]
  },
  {
   "cell_type": "code",
   "execution_count": 1,
   "id": "57cab10a-c58c-459b-b504-16dc7ee1d0ac",
   "metadata": {},
   "outputs": [],
   "source": [
    "# Approach1: Brute Force Approach: Using a Loop\n",
    "def is_valid_sudoku(board):\n",
    "    for i in range(9):\n",
    "        for j in range(9):\n",
    "            num = board[i][j]\n",
    "            if num == \".\":\n",
    "                continue\n",
    "            # Check row\n",
    "            for col in range(9):\n",
    "                if col != j and board[i][col] == num:\n",
    "                    return False\n",
    "            # Check column\n",
    "            for row in range(9):\n",
    "                if row != i and board[row][j] == num:\n",
    "                    return False\n",
    "            # Check 3x3 box\n",
    "            start_row, start_col = 3 * (i // 3), 3 * (j // 3)\n",
    "            for r in range(start_row, start_row + 3):\n",
    "                for c in range(start_col, start_col + 3):\n",
    "                    if (r != i or c != j) and board[r][c] == num:\n",
    "                        return False\n",
    "    return True"
   ]
  },
  {
   "cell_type": "markdown",
   "id": "9febed86-bc77-49f3-aa50-7adfe033688a",
   "metadata": {},
   "source": [
    "### Alternative Solution1"
   ]
  },
  {
   "cell_type": "code",
   "execution_count": 2,
   "id": "0efc9774-33f6-41e2-8cd0-7cbeae985cfe",
   "metadata": {},
   "outputs": [],
   "source": [
    "# Approach 2: Optimized Approach\n",
    "def is_valid_sudoku_optimized(board):\n",
    "    rows = [set() for _ in range(9)]\n",
    "    cols = [set() for _ in range(9)]\n",
    "    boxes = [set() for _ in range(9)]\n",
    "\n",
    "    for i in range(9):\n",
    "        for j in range(9):\n",
    "            num = board[i][j]\n",
    "            if num == \".\":\n",
    "                continue\n",
    "            box_index = (i // 3) * 3 + (j // 3)\n",
    "            if num in rows[i] or num in cols[j] or num in boxes[box_index]:\n",
    "                return False\n",
    "            rows[i].add(num)\n",
    "            cols[j].add(num)\n",
    "            boxes[box_index].add(num)\n",
    "    return True\n"
   ]
  },
  {
   "cell_type": "markdown",
   "id": "3a6b9635-e779-4015-8c0a-877462fe95b2",
   "metadata": {},
   "source": [
    "### Alternative Solution2"
   ]
  },
  {
   "cell_type": "markdown",
   "id": "c69a5b34-a82f-4ba9-be6b-d3e7b190205d",
   "metadata": {},
   "source": [
    "- You could combine all checks into a single loop for optimization, but using three separate sets makes the code more readable and maintainable.\n",
    "- Can be extended for solving Sudoku as well using backtracking."
   ]
  },
  {
   "cell_type": "markdown",
   "id": "462318bf-672f-4468-9122-070cf70b5af5",
   "metadata": {},
   "source": [
    "## Complexity Analysis"
   ]
  },
  {
   "cell_type": "markdown",
   "id": "3ff61a2e-affa-44cc-b483-573f9dc9b166",
   "metadata": {},
   "source": [
    "Time Complexity:\n",
    "\n",
    "- Brute Force: O(n² * n)\n",
    "- Optimized (using sets): O(n²)\n",
    " \n",
    "Space Complexity:\n",
    "\n",
    "- Brute Force: O(1)\n",
    "- Optimized (using sets): O(n²)\n",
    "\n",
    "Where n = 9, so it works in constant time for a 9x9 board."
   ]
  },
  {
   "cell_type": "markdown",
   "id": "54ae9b22-a3fd-4d97-807c-9deb388d03b1",
   "metadata": {},
   "source": [
    "#### Thank You!!"
   ]
  }
 ],
 "metadata": {
  "kernelspec": {
   "display_name": "Python 3 (ipykernel)",
   "language": "python",
   "name": "python3"
  },
  "language_info": {
   "codemirror_mode": {
    "name": "ipython",
    "version": 3
   },
   "file_extension": ".py",
   "mimetype": "text/x-python",
   "name": "python",
   "nbconvert_exporter": "python",
   "pygments_lexer": "ipython3",
   "version": "3.8.10"
  }
 },
 "nbformat": 4,
 "nbformat_minor": 5
}
