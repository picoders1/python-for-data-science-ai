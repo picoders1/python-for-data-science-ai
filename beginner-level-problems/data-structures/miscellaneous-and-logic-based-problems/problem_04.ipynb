{
 "cells": [
  {
   "cell_type": "markdown",
   "id": "8a36d3b1-1a8d-478e-8060-6477472e6bd4",
   "metadata": {},
   "source": [
    "# **Problem Statement**  \n",
    "## **4. Write a program to check if a given number is a Fibonacci number**"
   ]
  },
  {
   "cell_type": "markdown",
   "id": "12b96244-784f-44f1-b72a-e69e054e8b67",
   "metadata": {},
   "source": [
    "### Identify Constraints & Example Inputs/Outputs\n",
    "\n",
    "Constraints:\n",
    "\n",
    "- 0 <= n <= 10^10\n",
    "- Only positive integers allowed.\n",
    "\n",
    "---\n",
    "Example1: Input: n = 21\n",
    "\n",
    "Output: True\n",
    "\n",
    "---\n",
    "Example2: Input: n = 22  \n",
    "\n",
    "Output: False\n",
    "\n",
    "---"
   ]
  },
  {
   "cell_type": "markdown",
   "id": "b68e7cad-ea42-4bb3-a20e-a91cba6d7424",
   "metadata": {},
   "source": [
    "### Solution Approach"
   ]
  },
  {
   "cell_type": "markdown",
   "id": "144b599f-addb-4686-8425-1f6e6f862acd",
   "metadata": {},
   "source": [
    "There are two approaches to check if a number is a Fibonacci number:\n",
    "\n",
    "#### Approach1 – Generate Fibonacci Series (Brute Force):\n",
    "1. Start generating Fibonacci numbers from 0.\n",
    "2. Continue until the number is greater than or equal to n.\n",
    "3. If it matches n, return True. Else, return False.\n",
    "\n",
    "#### Approach2 – Mathematical (Optimized):\n",
    "1. A number n is a Fibonacci number if one of these is a perfect square:\n",
    "- 5*n^2 + 4\n",
    "- 5*n^2 - 4\n",
    "2. This approach is faster for large n."
   ]
  },
  {
   "cell_type": "markdown",
   "id": "be931aed-e6ac-4398-a9cc-cd43c98ed91b",
   "metadata": {},
   "source": [
    "### Solution Code"
   ]
  },
  {
   "cell_type": "code",
   "execution_count": 1,
   "id": "57cab10a-c58c-459b-b504-16dc7ee1d0ac",
   "metadata": {},
   "outputs": [],
   "source": [
    "# Approach1: Brute Force Approach: Using a Loop\n",
    "def is_fibonacci_brute(n):\n",
    "    if n == 0 or n == 1:\n",
    "        return True\n",
    "    a, b = 0, 1\n",
    "    while b < n:\n",
    "        a, b = b, a + b\n",
    "    return b == n"
   ]
  },
  {
   "cell_type": "code",
   "execution_count": 2,
   "id": "c6b73b1c-518d-4265-925c-8c271c2045f7",
   "metadata": {},
   "outputs": [
    {
     "name": "stdout",
     "output_type": "stream",
     "text": [
      "True\n",
      "False\n"
     ]
    }
   ],
   "source": [
    "# Test cases\n",
    "print(is_fibonacci_brute(21))  # True\n",
    "print(is_fibonacci_brute(22))  # False"
   ]
  },
  {
   "cell_type": "markdown",
   "id": "9febed86-bc77-49f3-aa50-7adfe033688a",
   "metadata": {},
   "source": [
    "### Alternative Solution1"
   ]
  },
  {
   "cell_type": "code",
   "execution_count": 3,
   "id": "0efc9774-33f6-41e2-8cd0-7cbeae985cfe",
   "metadata": {},
   "outputs": [],
   "source": [
    "# Approach 2: Optimized Approach: Mathematical Check\n",
    "import math\n",
    "\n",
    "def is_perfect_square(x):\n",
    "    s = int(math.isqrt(x))\n",
    "    return s * s == x\n",
    "\n",
    "def is_fibonacci_optimized(n):\n",
    "    return is_perfect_square(5 * n * n + 4) or is_perfect_square(5 * n * n - 4)"
   ]
  },
  {
   "cell_type": "code",
   "execution_count": 4,
   "id": "705534f5-d328-4908-a080-2c38b82af4f6",
   "metadata": {},
   "outputs": [
    {
     "name": "stdout",
     "output_type": "stream",
     "text": [
      "True\n",
      "False\n"
     ]
    }
   ],
   "source": [
    "# Test cases\n",
    "print(is_fibonacci_optimized(21))  # True\n",
    "print(is_fibonacci_optimized(22))  # False"
   ]
  },
  {
   "cell_type": "markdown",
   "id": "3a6b9635-e779-4015-8c0a-877462fe95b2",
   "metadata": {},
   "source": [
    "### Alternative Solution2"
   ]
  },
  {
   "cell_type": "markdown",
   "id": "c69a5b34-a82f-4ba9-be6b-d3e7b190205d",
   "metadata": {},
   "source": [
    "- Brute Force: Easy to implement, good for small numbers.\n",
    "- Mathematical Approach: Optimal for large inputs, constant time check."
   ]
  },
  {
   "cell_type": "markdown",
   "id": "462318bf-672f-4468-9122-070cf70b5af5",
   "metadata": {},
   "source": [
    "## Complexity Analysis"
   ]
  },
  {
   "cell_type": "markdown",
   "id": "3ff61a2e-affa-44cc-b483-573f9dc9b166",
   "metadata": {},
   "source": [
    "Time Complexity:\n",
    "\n",
    "- Brute Force: O(log n)\n",
    "- Mathematical (Optimized): O(1)\n",
    " \n",
    "Space Complexity:\n",
    "\n",
    "- Trial Division: O(1)\n",
    "- Sieve of Eratosthenes: O(1)"
   ]
  },
  {
   "cell_type": "markdown",
   "id": "54ae9b22-a3fd-4d97-807c-9deb388d03b1",
   "metadata": {},
   "source": [
    "#### Thank You!!"
   ]
  }
 ],
 "metadata": {
  "kernelspec": {
   "display_name": "Python 3 (ipykernel)",
   "language": "python",
   "name": "python3"
  },
  "language_info": {
   "codemirror_mode": {
    "name": "ipython",
    "version": 3
   },
   "file_extension": ".py",
   "mimetype": "text/x-python",
   "name": "python",
   "nbconvert_exporter": "python",
   "pygments_lexer": "ipython3",
   "version": "3.8.10"
  }
 },
 "nbformat": 4,
 "nbformat_minor": 5
}
