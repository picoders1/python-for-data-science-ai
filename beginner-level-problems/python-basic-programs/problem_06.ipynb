{
 "cells": [
  {
   "cell_type": "markdown",
   "id": "8a36d3b1-1a8d-478e-8060-6477472e6bd4",
   "metadata": {},
   "source": [
    "# **Problem Statement**  \n",
    "## **6. Write a Python program to check if a given number is prime**"
   ]
  },
  {
   "cell_type": "markdown",
   "id": "5ecd9dc6-c97d-41fb-9a02-6e8b371d63bf",
   "metadata": {},
   "source": [
    "Need to check if a given number is prime or not.\n",
    "\n",
    "    - A prime number is a number greater than 1 that has no factors other than 1 and itself.\n",
    "    - If the number has any other divisor, it is not a prime number."
   ]
  },
  {
   "cell_type": "markdown",
   "id": "3e33c817-2f39-4354-8506-019dca931996",
   "metadata": {},
   "source": [
    "###Identify Constraints & Example Inputs/Outputs\n",
    "\n",
    "Input: An integer n (number to check).\n",
    "\n",
    "Output: Return True if the number is prime, otherwise False.\n",
    "\n",
    "Constraints:\n",
    "\n",
    "    - n should be a positive integer.\n",
    "    - Prime number start from 2.\n",
    "    \n",
    "---\n",
    "Example1 : \n",
    "n = 7\n",
    "\n",
    "Output:\n",
    "True (since 7 is prime)\n",
    "\n",
    "---\n",
    "Example2 : \n",
    "n = 10\n",
    "\n",
    "Output:\n",
    "False (since 10 is divisible by 2 and 5)\n",
    "\n",
    "---\n",
    "Example3 : \n",
    "n = 1\n",
    "\n",
    "Output:\n",
    "False (since 1 is not prime)\n",
    "\n",
    "---"
   ]
  },
  {
   "cell_type": "markdown",
   "id": "b68e7cad-ea42-4bb3-a20e-a91cba6d7424",
   "metadata": {},
   "source": [
    "### Solution Approach"
   ]
  },
  {
   "cell_type": "markdown",
   "id": "5674a50b-aae6-482f-9bb7-395397b4b28f",
   "metadata": {},
   "source": [
    "### Approach1: Basic Approach (Check Divisibility)\n",
    "\n",
    "    - If n <= 1, it’s not prime.\n",
    "    - Loop from 2 to n-1.\n",
    "    - Check if n is divisible by any number in that range.\n",
    "    - If divisible, return False.\n",
    "    - If no divisor is found, return True."
   ]
  },
  {
   "cell_type": "markdown",
   "id": "a4bc93fb-2267-448e-8bdf-183759d9e75f",
   "metadata": {},
   "source": [
    "### Approach 2: Optimized Approach (Check Up to √n)\n",
    "\n",
    "    - Instead of looping until n-1, loop only until √n.\n",
    "    - If n has a divisor greater than √n, it must also have a smaller divisor.\n",
    "    - Check divisibility from 2 to int(n**0.5).\n",
    "    - Return True if no divisors are found, else return False."
   ]
  },
  {
   "cell_type": "markdown",
   "id": "be931aed-e6ac-4398-a9cc-cd43c98ed91b",
   "metadata": {},
   "source": [
    "### Solution Code"
   ]
  },
  {
   "cell_type": "code",
   "execution_count": 1,
   "id": "57cab10a-c58c-459b-b504-16dc7ee1d0ac",
   "metadata": {},
   "outputs": [],
   "source": [
    "# Approach1: Basic Divisibility Check\n",
    "def is_prime_basic(n):\n",
    "    # Step 1: Check if n is less than or equal to 1\n",
    "    if n <= 1:\n",
    "        return Fasle\n",
    "\n",
    "    # Step 2: Check divisibility from 2 to n-1\n",
    "    for i in range(2,n):\n",
    "        if n % i == 0:\n",
    "            return False\n",
    "\n",
    "    return True"
   ]
  },
  {
   "cell_type": "code",
   "execution_count": 2,
   "id": "c6b73b1c-518d-4265-925c-8c271c2045f7",
   "metadata": {},
   "outputs": [
    {
     "name": "stdout",
     "output_type": "stream",
     "text": [
      "True\n",
      "False\n"
     ]
    }
   ],
   "source": [
    "# Example usage:\n",
    "print(is_prime_basic(7))  # Output: True\n",
    "print(is_prime_basic(10))  # Output: False"
   ]
  },
  {
   "cell_type": "markdown",
   "id": "9febed86-bc77-49f3-aa50-7adfe033688a",
   "metadata": {},
   "source": [
    "### Alternative Solution1"
   ]
  },
  {
   "cell_type": "code",
   "execution_count": 3,
   "id": "0efc9774-33f6-41e2-8cd0-7cbeae985cfe",
   "metadata": {},
   "outputs": [],
   "source": [
    "# Approach2: Optimized Check Up to (n)1/2\n",
    "import math\n",
    "def is_prime_optimized(n):\n",
    "    # Step 1: Check if n is less than or equal to 1\n",
    "    if n <= 1:\n",
    "        return False\n",
    "    # Step 2: Check divisibility from 2 to (n)1/2\n",
    "    for i in range(2, int(math.sqrt(n))+1):\n",
    "        if n%i == 0:\n",
    "            return False\n",
    "\n",
    "    return True"
   ]
  },
  {
   "cell_type": "code",
   "execution_count": 4,
   "id": "705534f5-d328-4908-a080-2c38b82af4f6",
   "metadata": {},
   "outputs": [
    {
     "name": "stdout",
     "output_type": "stream",
     "text": [
      "False\n"
     ]
    }
   ],
   "source": [
    "# Example usage:\n",
    "print(is_prime_basic(9))  # Output: False"
   ]
  },
  {
   "cell_type": "code",
   "execution_count": 5,
   "id": "cde459cf-475b-42a6-a67a-885b12bdd86d",
   "metadata": {},
   "outputs": [
    {
     "name": "stdout",
     "output_type": "stream",
     "text": [
      "True\n"
     ]
    }
   ],
   "source": [
    "# Example usage:\n",
    "print(is_prime_basic(13))  # Output: True"
   ]
  },
  {
   "cell_type": "markdown",
   "id": "462318bf-672f-4468-9122-070cf70b5af5",
   "metadata": {},
   "source": [
    "## Complexity Analysis"
   ]
  },
  {
   "cell_type": "markdown",
   "id": "21b9f248-5709-4a75-bc58-d016c1d81407",
   "metadata": {},
   "source": [
    "Time Complexity:\n",
    "\n",
    "    - Basic Approach: O(n), iterating through all numbers from 2 to n-1.\n",
    "    - Optimized Approach: O(√n), iterating through numbers up to √n.\n",
    "\n",
    "Space Complexity:\n",
    "\n",
    "    - Basic and Optimized: O(1), constant space."
   ]
  },
  {
   "cell_type": "markdown",
   "id": "54ae9b22-a3fd-4d97-807c-9deb388d03b1",
   "metadata": {},
   "source": [
    "#### Thank You!!"
   ]
  }
 ],
 "metadata": {
  "kernelspec": {
   "display_name": "Python 3 (ipykernel)",
   "language": "python",
   "name": "python3"
  },
  "language_info": {
   "codemirror_mode": {
    "name": "ipython",
    "version": 3
   },
   "file_extension": ".py",
   "mimetype": "text/x-python",
   "name": "python",
   "nbconvert_exporter": "python",
   "pygments_lexer": "ipython3",
   "version": "3.8.10"
  }
 },
 "nbformat": 4,
 "nbformat_minor": 5
}
