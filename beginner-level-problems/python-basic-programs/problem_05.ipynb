{
 "cells": [
  {
   "cell_type": "markdown",
   "id": "8a36d3b1-1a8d-478e-8060-6477472e6bd4",
   "metadata": {},
   "source": [
    "# **Problem Statement**  \n",
    "## **5. Write a program to swap two numbers without using a temporary variable**"
   ]
  },
  {
   "cell_type": "markdown",
   "id": "c9ed265d-591c-4588-9360-7420969989e8",
   "metadata": {},
   "source": [
    "Supposed to swap two numbers without using a temporary variable.\n",
    "\n",
    "-> Swapping means exchanging the values of two variables so that:\n",
    "    \n",
    "    - Value of a becomes the value of b.\n",
    "    - Value of b becomes the value of a."
   ]
  },
  {
   "cell_type": "markdown",
   "id": "839ed3fb-5c9b-4061-a85b-b7c4f9b33991",
   "metadata": {},
   "source": [
    "### Identify Constraints & Example Inputs/Outputs\n",
    "\n",
    "Input: Two integer values a and b\n",
    "Output: The swapped values of a and b\n",
    "\n",
    "Constraints:\n",
    "\n",
    "    - No temporary or third variable should be used.\n",
    "    - Only arithmetic or bitwise operations can be used for swapping.\n",
    "\n",
    "---\n",
    "Example1:\n",
    "\n",
    "a = 5, b = 10 ,\n",
    "After swapping:\n",
    "a = 10, b = 5\n",
    "\n",
    "---\n",
    "Example2:\n",
    "\n",
    "a = -3, b = 7 ,\n",
    "After swapping:\n",
    "a = 7, b = -3\n",
    "\n",
    "---"
   ]
  },
  {
   "cell_type": "markdown",
   "id": "b68e7cad-ea42-4bb3-a20e-a91cba6d7424",
   "metadata": {},
   "source": [
    "### Solution Approach"
   ]
  },
  {
   "cell_type": "markdown",
   "id": "590f73c0-e545-4670-a74a-5066e5207ddc",
   "metadata": {},
   "source": [
    "### Approach 1: Using Arithmetic Operations\n",
    "Addition and Subtraction:\n",
    "\n",
    "    - Add a and b → a = a + b \n",
    "    - Subtract b from a → b = a - b \n",
    "    - Subtract new b from a → a = a - b "
   ]
  },
  {
   "cell_type": "markdown",
   "id": "f79df920-feae-4942-bd67-d18e34276a66",
   "metadata": {},
   "source": [
    "### Approach 2: Using XOR Bitwise Operator\n",
    "XOR (Exclusive OR): XOR operation results in 1 when bits are different and 0 when bits are the same.\n",
    "\n",
    "    - a = a ^ b stores the XOR result in a.\n",
    "    - b = a ^ b assigns a's original value to b.\n",
    "    - a = a ^ b assigns b's original value to a."
   ]
  },
  {
   "cell_type": "markdown",
   "id": "be931aed-e6ac-4398-a9cc-cd43c98ed91b",
   "metadata": {},
   "source": [
    "### Solution Code"
   ]
  },
  {
   "cell_type": "code",
   "execution_count": 7,
   "id": "57cab10a-c58c-459b-b504-16dc7ee1d0ac",
   "metadata": {},
   "outputs": [],
   "source": [
    "# Approach1: Iterative Function\n",
    "def swap_nums_arithmatic(a,b):\n",
    "    a = a+b\n",
    "    b = a-b\n",
    "    a = a-b\n",
    "\n",
    "    return a,b"
   ]
  },
  {
   "cell_type": "code",
   "execution_count": 8,
   "id": "c6b73b1c-518d-4265-925c-8c271c2045f7",
   "metadata": {},
   "outputs": [
    {
     "data": {
      "text/plain": [
       "(70, 67)"
      ]
     },
     "execution_count": 8,
     "metadata": {},
     "output_type": "execute_result"
    }
   ],
   "source": [
    "swap_nums_arithmatic(67, 70)"
   ]
  },
  {
   "cell_type": "code",
   "execution_count": 9,
   "id": "d9233256-dfab-42d8-928b-722e4493e79e",
   "metadata": {},
   "outputs": [
    {
     "name": "stdout",
     "output_type": "stream",
     "text": [
      "The value of a & b are (10, 5)\n"
     ]
    }
   ],
   "source": [
    "# Example Usage\n",
    "a = 5\n",
    "b = 10\n",
    "c = swap_nums_arithmatic(a,b) \n",
    "print(f\"The value of a & b are {c}\")    # Output: 10,5"
   ]
  },
  {
   "cell_type": "markdown",
   "id": "9febed86-bc77-49f3-aa50-7adfe033688a",
   "metadata": {},
   "source": [
    "### Alternative Solution1"
   ]
  },
  {
   "cell_type": "code",
   "execution_count": 13,
   "id": "0efc9774-33f6-41e2-8cd0-7cbeae985cfe",
   "metadata": {},
   "outputs": [],
   "source": [
    "# Approach2: Using XOR Bitwise Operator\n",
    "def swap_numbers_xor(a,b):\n",
    "    a = a^b\n",
    "    b = a^b\n",
    "    a = a^b\n",
    "\n",
    "    return a,b"
   ]
  },
  {
   "cell_type": "code",
   "execution_count": 14,
   "id": "705534f5-d328-4908-a080-2c38b82af4f6",
   "metadata": {},
   "outputs": [
    {
     "name": "stdout",
     "output_type": "stream",
     "text": [
      "(54, 45)\n"
     ]
    }
   ],
   "source": [
    "# Example Usage\n",
    "print(swap_numbers_xor(45, 54)) # Output: 54, 45"
   ]
  },
  {
   "cell_type": "code",
   "execution_count": 15,
   "id": "6fb563ae-6aba-48ad-bb35-3ca51bf83efa",
   "metadata": {},
   "outputs": [
    {
     "name": "stdout",
     "output_type": "stream",
     "text": [
      "The value of c and d is (44, 33)\n"
     ]
    }
   ],
   "source": [
    "# Example Usage\n",
    "c = 33\n",
    "d = 44\n",
    "e = swap_numbers_xor(c,d)\n",
    "print(f\"The value of c and d is {e}\")"
   ]
  },
  {
   "cell_type": "markdown",
   "id": "a730d6c1-8f7e-48ba-97f6-c7af7da37ec7",
   "metadata": {},
   "source": [
    "### Alternative Solution2"
   ]
  },
  {
   "cell_type": "code",
   "execution_count": 16,
   "id": "92423a02-cf2a-4e42-a663-631b85771a88",
   "metadata": {},
   "outputs": [],
   "source": [
    "# Approach3: Using Tuple Unpacking (Pythonic Way):\n",
    "def swap_numbers_tuple(a,b):\n",
    "    a, b = b, a\n",
    "    return a, b"
   ]
  },
  {
   "cell_type": "code",
   "execution_count": 18,
   "id": "2a64dbb9-5932-47c8-89df-838db414ef2d",
   "metadata": {},
   "outputs": [
    {
     "name": "stdout",
     "output_type": "stream",
     "text": [
      "(49, 40)\n"
     ]
    }
   ],
   "source": [
    "# Example Usage\n",
    "print(swap_numbers_tuple(40, 49)) # Output: 49, 40"
   ]
  },
  {
   "cell_type": "markdown",
   "id": "462318bf-672f-4468-9122-070cf70b5af5",
   "metadata": {},
   "source": [
    "## Complexity Analysis"
   ]
  },
  {
   "cell_type": "markdown",
   "id": "998b340a-0234-4877-a701-67e485551f76",
   "metadata": {},
   "source": [
    "Time Complexity:\n",
    "\n",
    "    - Arithmetic Approach: O(1), as only a few arithmetic operations are performed.\n",
    "    - XOR Approach: O(1), since XOR operations are constant time.\n",
    "    - Tuple Unpacking: O(1), Python tuple unpacking takes constant time.\n",
    "\n",
    "Space Complexity:\n",
    "    - O(1) in all cases, as no extra space is used."
   ]
  },
  {
   "cell_type": "markdown",
   "id": "54ae9b22-a3fd-4d97-807c-9deb388d03b1",
   "metadata": {},
   "source": [
    "#### Thank You!!"
   ]
  }
 ],
 "metadata": {
  "kernelspec": {
   "display_name": "Python 3 (ipykernel)",
   "language": "python",
   "name": "python3"
  },
  "language_info": {
   "codemirror_mode": {
    "name": "ipython",
    "version": 3
   },
   "file_extension": ".py",
   "mimetype": "text/x-python",
   "name": "python",
   "nbconvert_exporter": "python",
   "pygments_lexer": "ipython3",
   "version": "3.8.10"
  }
 },
 "nbformat": 4,
 "nbformat_minor": 5
}
