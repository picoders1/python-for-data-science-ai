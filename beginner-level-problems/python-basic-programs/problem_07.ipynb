{
 "cells": [
  {
   "cell_type": "markdown",
   "id": "8a36d3b1-1a8d-478e-8060-6477472e6bd4",
   "metadata": {},
   "source": [
    "# **Problem Statement**  \n",
    "## **07. Write a Python function to generate the Fibonacci series up to n terms**"
   ]
  },
  {
   "cell_type": "markdown",
   "id": "7d29b0b7-11db-48cf-8160-bd2712c3cda1",
   "metadata": {},
   "source": [
    "###Identify Constraints & Example Inputs/Outputs\n",
    "\n",
    "Input: An integer n (number of terms in the series).\n",
    "\n",
    "Output: A list containing the first n terms of the Fibonacci series.\n",
    "\n",
    "Constraints:\n",
    "\n",
    "    - n should be a positive integer\n",
    "    - if n == 1, return [0]\n",
    "    - if n == 2, return [0,1].\n",
    "    - For n > 2, generate subsequent terms by adding the last two terms\n",
    "\n",
    "---\n",
    "Example 1\n",
    "n = 5\n",
    "\n",
    "Output:\n",
    "[0, 1, 1, 2, 3]\n",
    "\n",
    "---\n",
    "Example 2\n",
    "n = 1\n",
    "\n",
    "Output:\n",
    "[0]\n",
    "\n",
    "---\n",
    "Example 3\n",
    "n = 2\n",
    "\n",
    "Output:\n",
    "[0, 1]\n",
    "\n",
    "---\n",
    "Example 4\n",
    "n = 0\n",
    "Output:\n",
    "[]\n",
    "\n",
    "---"
   ]
  },
  {
   "cell_type": "markdown",
   "id": "b68e7cad-ea42-4bb3-a20e-a91cba6d7424",
   "metadata": {},
   "source": [
    "### Solution Approach"
   ]
  },
  {
   "cell_type": "markdown",
   "id": "3d016f8d-b71d-4af5-8e7b-99a7f33ff903",
   "metadata": {},
   "source": [
    "Step 1: Check if n <= 0, return an empty list.\n",
    "\n",
    "Step 2: If n == 1, return [0].\n",
    "\n",
    "Step 3: If n == 2, return [0, 1].\n",
    "\n",
    "Step 4: For n > 2, initialize a list with [0, 1] as the first two terms.\n",
    "\n",
    "Step 5: Loop from 2 to n-1 and calculate the next term as the sum of the previous two terms.\n",
    "\n",
    "Step 6: Append each term to the list until the series reaches n terms.\n",
    "\n",
    "Step 7: Return the complete Fibonacci list."
   ]
  },
  {
   "cell_type": "markdown",
   "id": "be931aed-e6ac-4398-a9cc-cd43c98ed91b",
   "metadata": {},
   "source": [
    "### Solution Code"
   ]
  },
  {
   "cell_type": "code",
   "execution_count": 1,
   "id": "57cab10a-c58c-459b-b504-16dc7ee1d0ac",
   "metadata": {},
   "outputs": [],
   "source": [
    "# Approach 1: Brute Force Approach: Using Iteration\n",
    "def fibonacci_brute_force(n):\n",
    "    #step 1: Handle edge cases\n",
    "    if n <= 0:\n",
    "        return []\n",
    "    elif n == 1:\n",
    "        return [0]\n",
    "    elif n == 2:\n",
    "        return [0,1]\n",
    "\n",
    "    # Step 2: Initialize the series with first two terms\n",
    "    fib_series = [0, 1]\n",
    "\n",
    "    # Step 3: Generate Fibonacci terms using a loop\n",
    "    for i in range(2, n):\n",
    "        next_term = fib_series[-1] + fib_series[-2]\n",
    "        fib_series.append(next_term)\n",
    "\n",
    "    return fib_series"
   ]
  },
  {
   "cell_type": "code",
   "execution_count": 2,
   "id": "c6b73b1c-518d-4265-925c-8c271c2045f7",
   "metadata": {},
   "outputs": [
    {
     "name": "stdout",
     "output_type": "stream",
     "text": [
      "[0, 1, 1, 2, 3]\n"
     ]
    }
   ],
   "source": [
    "# Example usage:\n",
    "print(fibonacci_brute_force(5))"
   ]
  },
  {
   "cell_type": "code",
   "execution_count": 3,
   "id": "0c9b1b28-35af-4470-9c7e-6218df3c0f53",
   "metadata": {},
   "outputs": [
    {
     "name": "stdout",
     "output_type": "stream",
     "text": [
      "[0, 1, 1, 2, 3, 5, 8, 13, 21, 34, 55, 89, 144, 233, 377, 610, 987, 1597, 2584, 4181]\n"
     ]
    }
   ],
   "source": [
    "# Example usage:\n",
    "print(fibonacci_brute_force(20))"
   ]
  },
  {
   "cell_type": "markdown",
   "id": "9febed86-bc77-49f3-aa50-7adfe033688a",
   "metadata": {},
   "source": [
    "### Alternative Solution1"
   ]
  },
  {
   "cell_type": "code",
   "execution_count": 14,
   "id": "0efc9774-33f6-41e2-8cd0-7cbeae985cfe",
   "metadata": {},
   "outputs": [],
   "source": [
    "# Approach 2: Optimized Approach: Using Recursion with Memoization\n",
    "def fibonacci_optimized(n, memo={}):\n",
    "    # Step 1: Handle base cases\n",
    "    if n <= 0:\n",
    "        return []\n",
    "    elif n == 1:\n",
    "        return [0]\n",
    "    elif n == 2:\n",
    "        return [0,1]\n",
    "\n",
    "    # Step 2: Check if already computed\n",
    "    if n in memo:\n",
    "        return memo[n]\n",
    "\n",
    "    # Step 3: Generate the Fibonacci series recursively\n",
    "    fib_series = fibonacci_optimized(n - 1, memo)\n",
    "    fib_series.append(fib_series[-1] + fib_series[-2])\n",
    "\n",
    "    # Step 4: Store the result in memo and return\n",
    "    memo[n] = fib_series\n",
    "    return fib_series"
   ]
  },
  {
   "cell_type": "code",
   "execution_count": 17,
   "id": "705534f5-d328-4908-a080-2c38b82af4f6",
   "metadata": {},
   "outputs": [
    {
     "name": "stdout",
     "output_type": "stream",
     "text": [
      "[0, 1, 1, 2, 3, 5, 8, 13, 21, 34, 55, 89, 144, 233, 377, 610, 987, 1597, 2584, 4181]\n"
     ]
    }
   ],
   "source": [
    "# Example usage:\n",
    "print(fibonacci_optimized(20))  # Output: False"
   ]
  },
  {
   "cell_type": "markdown",
   "id": "1aeabfad-84e0-407e-befb-3509b3898bc7",
   "metadata": {},
   "source": [
    "### Alternative Solution2"
   ]
  },
  {
   "cell_type": "code",
   "execution_count": 23,
   "id": "9de74242-bb2f-4f55-9150-9891adaab5bd",
   "metadata": {},
   "outputs": [],
   "source": [
    "# Using generator\n",
    "def fibonacci_generator(n):\n",
    "    a, b = 0, 1\n",
    "    for _ in range(n):\n",
    "        yield a\n",
    "        a,b = b, a+b"
   ]
  },
  {
   "cell_type": "code",
   "execution_count": 28,
   "id": "7e42962a-1f7f-4fd6-ae09-3f5df9d5c637",
   "metadata": {},
   "outputs": [
    {
     "name": "stdout",
     "output_type": "stream",
     "text": [
      "[0, 1, 1, 2, 3]\n"
     ]
    }
   ],
   "source": [
    "print(list(fibonacci_generator(5)))"
   ]
  },
  {
   "cell_type": "code",
   "execution_count": 29,
   "id": "08adfd50-7b11-46b5-8728-274635d9202e",
   "metadata": {},
   "outputs": [
    {
     "name": "stdout",
     "output_type": "stream",
     "text": [
      "[0, 1, 1, 2, 3, 5, 8, 13, 21, 34]\n"
     ]
    }
   ],
   "source": [
    "print(list(fibonacci_generator(10)))"
   ]
  },
  {
   "cell_type": "markdown",
   "id": "462318bf-672f-4468-9122-070cf70b5af5",
   "metadata": {},
   "source": [
    "## Complexity Analysis"
   ]
  },
  {
   "cell_type": "markdown",
   "id": "680edd0c-3fc2-4df0-b408-1a5fd2dcdf89",
   "metadata": {},
   "source": [
    "Time Complexity:\n",
    "\n",
    "    - Brute Force (Iteration): O(n), iterates through the loop n-2 times.\n",
    "    - Optimized (Recursion + Memoization): O(n), due to memoization.\n",
    "    - Generator Approach: O(n), yields n terms.\n",
    "\n",
    "Space Complexity:\n",
    "\n",
    "    - Brute Force (Iteration): O(n), stores the Fibonacci list.\n",
    "    - Optimized (Recursion + Memoization): O(n), stores results in memo.\n",
    "    - Generator Approach: O(1), yields terms one by one without storing the list."
   ]
  },
  {
   "cell_type": "markdown",
   "id": "54ae9b22-a3fd-4d97-807c-9deb388d03b1",
   "metadata": {},
   "source": [
    "#### Thank You!!"
   ]
  }
 ],
 "metadata": {
  "kernelspec": {
   "display_name": "Python 3 (ipykernel)",
   "language": "python",
   "name": "python3"
  },
  "language_info": {
   "codemirror_mode": {
    "name": "ipython",
    "version": 3
   },
   "file_extension": ".py",
   "mimetype": "text/x-python",
   "name": "python",
   "nbconvert_exporter": "python",
   "pygments_lexer": "ipython3",
   "version": "3.8.10"
  }
 },
 "nbformat": 4,
 "nbformat_minor": 5
}
