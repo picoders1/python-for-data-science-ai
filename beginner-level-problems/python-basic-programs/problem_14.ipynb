{
 "cells": [
  {
   "cell_type": "markdown",
   "id": "8a36d3b1-1a8d-478e-8060-6477472e6bd4",
   "metadata": {},
   "source": [
    "# **Problem Statement**  \n",
    "## **14. Write a program to convert temperature from Celsius to Fahrenheit**"
   ]
  },
  {
   "cell_type": "markdown",
   "id": "12b96244-784f-44f1-b72a-e69e054e8b67",
   "metadata": {
    "jp-MarkdownHeadingCollapsed": true
   },
   "source": [
    "### Identify Constraints & Example Inputs/Outputs\n",
    "\n",
    "The formula to convert temperature from Celsius (°C) to Fahrenheit (°F) is:\n",
    "\n",
    "F = (C * 9/5) + 32\n",
    "\n",
    "---\n",
    "Example 1 : \n",
    "celsius = 0\n",
    "\n",
    "Output: 32.0\n",
    "\n",
    "---\n",
    "Example 2 : \n",
    "celsius = 100\n",
    "\n",
    "Output: 212.0\n",
    "\n",
    "---\n",
    "Example 3 : \n",
    "celsius = -40\n",
    "\n",
    "Output: -40.0\n",
    "\n",
    "---\n",
    "Example 4 : \n",
    "celsius = 37\n",
    "\n",
    "Output: 98.6\n",
    "\n",
    "---"
   ]
  },
  {
   "cell_type": "markdown",
   "id": "b68e7cad-ea42-4bb3-a20e-a91cba6d7424",
   "metadata": {},
   "source": [
    "### Solution Approach"
   ]
  },
  {
   "cell_type": "markdown",
   "id": "144b599f-addb-4686-8425-1f6e6f862acd",
   "metadata": {},
   "source": [
    "Step 1: Take an input value in Celsius.\n",
    "\n",
    "Step 2: Apply the conversion formula: Fahrenheit = (Celsius × 9/5) + 32\n",
    "\n",
    "Step 3: Return the converted value."
   ]
  },
  {
   "cell_type": "markdown",
   "id": "be931aed-e6ac-4398-a9cc-cd43c98ed91b",
   "metadata": {},
   "source": [
    "### Solution Code"
   ]
  },
  {
   "cell_type": "code",
   "execution_count": 1,
   "id": "57cab10a-c58c-459b-b504-16dc7ee1d0ac",
   "metadata": {},
   "outputs": [],
   "source": [
    "# Approach 1: Using Direct Formula\n",
    "def celsius_to_fahrenheit(celsius):\n",
    "    return (celsius * 9/5) + 32"
   ]
  },
  {
   "cell_type": "code",
   "execution_count": 2,
   "id": "c6b73b1c-518d-4265-925c-8c271c2045f7",
   "metadata": {},
   "outputs": [
    {
     "name": "stdout",
     "output_type": "stream",
     "text": [
      "32.0\n",
      "212.0\n",
      "-40.0\n",
      "98.6\n"
     ]
    }
   ],
   "source": [
    "# Example usage\n",
    "print(celsius_to_fahrenheit(0))    # Output: 32.0\n",
    "print(celsius_to_fahrenheit(100))  # Output: 212.0\n",
    "print(celsius_to_fahrenheit(-40))  # Output: -40.0\n",
    "print(celsius_to_fahrenheit(37))   # Output: 98.6"
   ]
  },
  {
   "cell_type": "markdown",
   "id": "9febed86-bc77-49f3-aa50-7adfe033688a",
   "metadata": {},
   "source": [
    "### Alternative Solution1"
   ]
  },
  {
   "cell_type": "code",
   "execution_count": 3,
   "id": "0efc9774-33f6-41e2-8cd0-7cbeae985cfe",
   "metadata": {},
   "outputs": [],
   "source": [
    "# Approach 2: Optimized Approach: Using Lambda Function\n",
    "celsius_to_fahrenheit_lambda = lambda celsius: (celsius * 9/5) + 32"
   ]
  },
  {
   "cell_type": "code",
   "execution_count": 4,
   "id": "705534f5-d328-4908-a080-2c38b82af4f6",
   "metadata": {},
   "outputs": [
    {
     "name": "stdout",
     "output_type": "stream",
     "text": [
      "32.0\n",
      "212.0\n",
      "-40.0\n",
      "98.6\n"
     ]
    }
   ],
   "source": [
    "# Example usage\n",
    "print(celsius_to_fahrenheit_lambda(0))    # Output: 32.0\n",
    "print(celsius_to_fahrenheit_lambda(100))  # Output: 212.0\n",
    "print(celsius_to_fahrenheit_lambda(-40))  # Output: -40.0\n",
    "print(celsius_to_fahrenheit_lambda(37))   # Output: 98.6"
   ]
  },
  {
   "cell_type": "markdown",
   "id": "3a6b9635-e779-4015-8c0a-877462fe95b2",
   "metadata": {},
   "source": [
    "### Alternative Solution2"
   ]
  },
  {
   "cell_type": "code",
   "execution_count": 5,
   "id": "9066ebd5-2e37-48c3-93d8-89b43c1dfc83",
   "metadata": {},
   "outputs": [],
   "source": [
    "# Approach 3: Using map() for Bulk Conversion\n",
    "celsius_values = [0, 100, -40, 37]\n",
    "fahrenheit_values = list(map(lambda c: (c * 9/5) + 32, celsius_values))"
   ]
  },
  {
   "cell_type": "code",
   "execution_count": 6,
   "id": "f7f74eda-8f87-4d87-87d9-4a97bbf2a5eb",
   "metadata": {},
   "outputs": [
    {
     "name": "stdout",
     "output_type": "stream",
     "text": [
      "[32.0, 212.0, -40.0, 98.6]\n"
     ]
    }
   ],
   "source": [
    "print(fahrenheit_values)  # Output: [32.0, 212.0, -40.0, 98.6]"
   ]
  },
  {
   "cell_type": "markdown",
   "id": "462318bf-672f-4468-9122-070cf70b5af5",
   "metadata": {},
   "source": [
    "## Complexity Analysis"
   ]
  },
  {
   "cell_type": "markdown",
   "id": "3ff61a2e-affa-44cc-b483-573f9dc9b166",
   "metadata": {},
   "source": [
    "Time Complexity:\n",
    "\n",
    "- Formula-Based Conversion: O(1) (Constant time, single computation)\n",
    "- Lambda Approach: O(1)\n",
    "- Using map(): O(N) (Linear, for N values)\n",
    " \n",
    "Space Complexity:\n",
    "\n",
    "- Formula-Based Conversion: O(1) (No extra space used)\n",
    "- Lambda Approach: O(1)\n",
    "- Using map(): O(N) (For storing results in a list)\n"
   ]
  },
  {
   "cell_type": "markdown",
   "id": "54ae9b22-a3fd-4d97-807c-9deb388d03b1",
   "metadata": {},
   "source": [
    "#### Thank You!!"
   ]
  }
 ],
 "metadata": {
  "kernelspec": {
   "display_name": "Python 3 (ipykernel)",
   "language": "python",
   "name": "python3"
  },
  "language_info": {
   "codemirror_mode": {
    "name": "ipython",
    "version": 3
   },
   "file_extension": ".py",
   "mimetype": "text/x-python",
   "name": "python",
   "nbconvert_exporter": "python",
   "pygments_lexer": "ipython3",
   "version": "3.8.10"
  }
 },
 "nbformat": 4,
 "nbformat_minor": 5
}
