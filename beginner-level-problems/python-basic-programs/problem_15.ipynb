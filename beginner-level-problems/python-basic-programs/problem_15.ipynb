{
 "cells": [
  {
   "cell_type": "markdown",
   "id": "8a36d3b1-1a8d-478e-8060-6477472e6bd4",
   "metadata": {},
   "source": [
    "# **Problem Statement**  \n",
    "## **15. Write a Python function to check if a string is an anagram of another**"
   ]
  },
  {
   "cell_type": "markdown",
   "id": "12b96244-784f-44f1-b72a-e69e054e8b67",
   "metadata": {},
   "source": [
    "### Identify Constraints & Example Inputs/Outputs\n",
    "\n",
    "Two strings are anagrams if they contain the same characters in the same frequency, but in any order.\n",
    "For example, \"listen\" and \"silent\" are anagrams.\n",
    "\n",
    "Constraints:\n",
    "- The comparison should be case insensitive.\n",
    "- Ignore any non-alphabetic characters (if applicable).\n",
    "- Input strings may contain spaces.\n",
    "    \n",
    "---\n",
    "Example 1 : \n",
    "s1 = \"listen\" , s2 = \"silent\"\n",
    "\n",
    "Output: True\n",
    "\n",
    "---\n",
    "Example 2 : \n",
    "s1 = \"Hello\" , s2 = \"Olelh\"\n",
    "\n",
    "Output: True\n",
    "\n",
    "---\n",
    "Example 3 : \n",
    "s1 = \"Dormitory\" , s2 = \"Dirty room\"\n",
    "\n",
    "Output: True\n",
    "\n",
    "---\n",
    "Example 1 : \n",
    "s1 = \"Python\" , s2 = \"Java\"\n",
    "\n",
    "Output: False\n",
    "\n",
    "---"
   ]
  },
  {
   "cell_type": "markdown",
   "id": "b68e7cad-ea42-4bb3-a20e-a91cba6d7424",
   "metadata": {},
   "source": [
    "### Solution Approach"
   ]
  },
  {
   "cell_type": "markdown",
   "id": "144b599f-addb-4686-8425-1f6e6f862acd",
   "metadata": {},
   "source": [
    "Step 1: Remove spaces and convert both strings to lowercase.\n",
    "\n",
    "Step 2: Sort the characters of both strings and compare them.\n",
    "\n",
    "Step 3: Alternatively, use a frequency counter (collections.Counter) to compare character counts.\n",
    "\n",
    "Step 4: Return True if both strings are anagrams; otherwise, return False."
   ]
  },
  {
   "cell_type": "markdown",
   "id": "be931aed-e6ac-4398-a9cc-cd43c98ed91b",
   "metadata": {},
   "source": [
    "### Solution Code"
   ]
  },
  {
   "cell_type": "code",
   "execution_count": 1,
   "id": "57cab10a-c58c-459b-b504-16dc7ee1d0ac",
   "metadata": {},
   "outputs": [],
   "source": [
    "# Approach 1: Brute Force Approach: Using Sorting\n",
    "def is_anagram(s1, s2):\n",
    "    s1, s2 = s1.replace(\" \", \"\").lower(), s2.replace(\" \", \"\").lower()\n",
    "    return sorted(s1) == sorted(s2)"
   ]
  },
  {
   "cell_type": "code",
   "execution_count": 2,
   "id": "c6b73b1c-518d-4265-925c-8c271c2045f7",
   "metadata": {},
   "outputs": [
    {
     "name": "stdout",
     "output_type": "stream",
     "text": [
      "True\n",
      "True\n",
      "True\n",
      "False\n"
     ]
    }
   ],
   "source": [
    "# Example usage\n",
    "print(is_anagram(\"listen\", \"silent\"))  # Output: True\n",
    "print(is_anagram(\"Hello\", \"Olelh\"))    # Output: True\n",
    "print(is_anagram(\"Dormitory\", \"Dirty room\"))  # Output: True\n",
    "print(is_anagram(\"Python\", \"Java\"))  # Output: False"
   ]
  },
  {
   "cell_type": "markdown",
   "id": "9febed86-bc77-49f3-aa50-7adfe033688a",
   "metadata": {},
   "source": [
    "### Alternative Solution1"
   ]
  },
  {
   "cell_type": "code",
   "execution_count": 3,
   "id": "0efc9774-33f6-41e2-8cd0-7cbeae985cfe",
   "metadata": {},
   "outputs": [],
   "source": [
    "# Approach 2: Optimized Approach: Using Counter from collections\n",
    "from collections import Counter\n",
    "\n",
    "def is_anagram_optimized(s1, s2):\n",
    "    s1, s2 = s1.replace(\" \", \"\").lower(), s2.replace(\" \", \"\").lower()\n",
    "    return Counter(s1) == Counter(s2)"
   ]
  },
  {
   "cell_type": "code",
   "execution_count": 4,
   "id": "705534f5-d328-4908-a080-2c38b82af4f6",
   "metadata": {},
   "outputs": [
    {
     "name": "stdout",
     "output_type": "stream",
     "text": [
      "True\n",
      "True\n",
      "True\n",
      "False\n"
     ]
    }
   ],
   "source": [
    "# Example usage\n",
    "print(is_anagram_optimized(\"listen\", \"silent\"))  # Output: True\n",
    "print(is_anagram_optimized(\"Hello\", \"Olelh\"))    # Output: True\n",
    "print(is_anagram_optimized(\"Dormitory\", \"Dirty room\"))  # Output: True\n",
    "print(is_anagram_optimized(\"Python\", \"Java\"))  # Output: False"
   ]
  },
  {
   "cell_type": "markdown",
   "id": "3a6b9635-e779-4015-8c0a-877462fe95b2",
   "metadata": {},
   "source": [
    "### Alternative Solution2"
   ]
  },
  {
   "cell_type": "code",
   "execution_count": 5,
   "id": "9066ebd5-2e37-48c3-93d8-89b43c1dfc83",
   "metadata": {},
   "outputs": [],
   "source": [
    "# Approach 3: Using defaultdict for Character Count\n",
    "from collections import defaultdict\n",
    "\n",
    "def is_anagram_dict(s1, s2):\n",
    "    s1, s2 = s1.replace(\" \", \"\").lower(), s2.replace(\" \", \"\").lower()\n",
    "    \n",
    "    if len(s1) != len(s2):\n",
    "        return False\n",
    "\n",
    "    char_count = defaultdict(int)\n",
    "\n",
    "    for char in s1:\n",
    "        char_count[char] += 1\n",
    "    for char in s2:\n",
    "        char_count[char] -= 1\n",
    "\n",
    "    return all(count == 0 for count in char_count.values())\n"
   ]
  },
  {
   "cell_type": "code",
   "execution_count": 6,
   "id": "f7f74eda-8f87-4d87-87d9-4a97bbf2a5eb",
   "metadata": {},
   "outputs": [
    {
     "name": "stdout",
     "output_type": "stream",
     "text": [
      "True\n"
     ]
    }
   ],
   "source": [
    "# Example usage\n",
    "print(is_anagram_dict(\"listen\", \"silent\"))  # Output: True"
   ]
  },
  {
   "cell_type": "markdown",
   "id": "462318bf-672f-4468-9122-070cf70b5af5",
   "metadata": {},
   "source": [
    "## Complexity Analysis"
   ]
  },
  {
   "cell_type": "markdown",
   "id": "3ff61a2e-affa-44cc-b483-573f9dc9b166",
   "metadata": {},
   "source": [
    "Time Complexity:\n",
    "\n",
    "- Sorting-Based Approach: O(N log N)\n",
    "- Using Counter: O(N) (More efficient)\n",
    "- Using defaultdict: O(N)\n",
    " \n",
    "Space Complexity:\n",
    "\n",
    "- Sorting Approach: O(1) (Uses only built-in sorting)\n",
    "- Using Counter: O(N) (Stores frequency count)\n",
    "- Using defaultdict: O(N) (Stores frequency count)\n"
   ]
  },
  {
   "cell_type": "markdown",
   "id": "54ae9b22-a3fd-4d97-807c-9deb388d03b1",
   "metadata": {},
   "source": [
    "#### Thank You!!"
   ]
  }
 ],
 "metadata": {
  "kernelspec": {
   "display_name": "Python 3 (ipykernel)",
   "language": "python",
   "name": "python3"
  },
  "language_info": {
   "codemirror_mode": {
    "name": "ipython",
    "version": 3
   },
   "file_extension": ".py",
   "mimetype": "text/x-python",
   "name": "python",
   "nbconvert_exporter": "python",
   "pygments_lexer": "ipython3",
   "version": "3.8.10"
  }
 },
 "nbformat": 4,
 "nbformat_minor": 5
}
