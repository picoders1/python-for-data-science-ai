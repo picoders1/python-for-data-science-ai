{
 "cells": [
  {
   "cell_type": "markdown",
   "id": "8a36d3b1-1a8d-478e-8060-6477472e6bd4",
   "metadata": {},
   "source": [
    "# **Problem Statement**  \n",
    "## **13. Write a Python function to check if a given number is a perfect square**"
   ]
  },
  {
   "cell_type": "markdown",
   "id": "12b96244-784f-44f1-b72a-e69e054e8b67",
   "metadata": {
    "jp-MarkdownHeadingCollapsed": true
   },
   "source": [
    "### Identify Constraints & Example Inputs/Outputs\n",
    "\n",
    "A Perfect Square is a number that is the square of an integer.\n",
    "For example, 4 = 2^2, 9 = 3^2, 16 = 4^2\n",
    "\n",
    "---\n",
    "Example1 : \n",
    "num = 16\n",
    "\n",
    "Output: True\n",
    "\n",
    "---\n",
    "Example2 : \n",
    "num = 25\n",
    "\n",
    "Output: True\n",
    "\n",
    "---\n",
    "Example3 : \n",
    "num = 27\n",
    "\n",
    "Output: False\n",
    "\n",
    "---\n",
    "Example4 : \n",
    "num = 1\n",
    "\n",
    "Output: True\n",
    "\n",
    "---\n",
    "Example5 : \n",
    "num = 0\n",
    "\n",
    "Output: True\n",
    "\n",
    "---"
   ]
  },
  {
   "cell_type": "markdown",
   "id": "b68e7cad-ea42-4bb3-a20e-a91cba6d7424",
   "metadata": {},
   "source": [
    "### Solution Approach"
   ]
  },
  {
   "cell_type": "markdown",
   "id": "144b599f-addb-4686-8425-1f6e6f862acd",
   "metadata": {},
   "source": [
    "- Step1: Take an integer input.\n",
    "- Step2: If the number is negative, return False (since negative numbers cannot be perfect squares).\n",
    "- Step3: Compute the square root of the number.\n",
    "- Step4: Check if the square root is an integer by verifying if squaring it gives back the original number.\n",
    "- Step5: Return True if it is a perfect square, otherwise return False."
   ]
  },
  {
   "cell_type": "markdown",
   "id": "be931aed-e6ac-4398-a9cc-cd43c98ed91b",
   "metadata": {},
   "source": [
    "### Solution Code"
   ]
  },
  {
   "cell_type": "code",
   "execution_count": 3,
   "id": "57cab10a-c58c-459b-b504-16dc7ee1d0ac",
   "metadata": {},
   "outputs": [],
   "source": [
    "# Approach1: Brute Force Approach: Using Loop to Check Multiples\n",
    "def is_perfect_square_brute(num):\n",
    "    # Step 1: Handle negative numbers\n",
    "    if num < 0:\n",
    "        return False\n",
    "    \n",
    "    # Step 2: Check squares of numbers from 0 to num\n",
    "    i = 0\n",
    "    while i * i <= num:\n",
    "        if i * i == num:\n",
    "            return True\n",
    "        i += 1\n",
    "    \n",
    "    return False"
   ]
  },
  {
   "cell_type": "code",
   "execution_count": 4,
   "id": "c6b73b1c-518d-4265-925c-8c271c2045f7",
   "metadata": {},
   "outputs": [
    {
     "name": "stdout",
     "output_type": "stream",
     "text": [
      "True\n",
      "True\n",
      "False\n",
      "True\n",
      "True\n"
     ]
    }
   ],
   "source": [
    "# Example usage\n",
    "print(is_perfect_square_brute(144))  # Output: True\n",
    "print(is_perfect_square_brute(25))  # Output: True\n",
    "print(is_perfect_square_brute(27))  # Output: False\n",
    "print(is_perfect_square_brute(1))   # Output: True\n",
    "print(is_perfect_square_brute(0))   # Output: True"
   ]
  },
  {
   "cell_type": "markdown",
   "id": "9febed86-bc77-49f3-aa50-7adfe033688a",
   "metadata": {},
   "source": [
    "### Alternative Solution1"
   ]
  },
  {
   "cell_type": "code",
   "execution_count": 5,
   "id": "0efc9774-33f6-41e2-8cd0-7cbeae985cfe",
   "metadata": {},
   "outputs": [],
   "source": [
    "# Approach2: Optimized Approach: Using GCD and Formula\n",
    "import math\n",
    "def is_perfect_square_optimized(num):\n",
    "    # Step 1: Handle negative numbers\n",
    "    if num < 0:\n",
    "        return False\n",
    "    \n",
    "    # Step 2: Compute square root\n",
    "    sqrt_num = math.isqrt(num)  # Efficient integer square root\n",
    "    \n",
    "    # Step 3: Check if squaring it gives the original number\n",
    "    return sqrt_num * sqrt_num == num"
   ]
  },
  {
   "cell_type": "code",
   "execution_count": 6,
   "id": "705534f5-d328-4908-a080-2c38b82af4f6",
   "metadata": {},
   "outputs": [
    {
     "name": "stdout",
     "output_type": "stream",
     "text": [
      "True\n",
      "True\n",
      "False\n",
      "True\n",
      "True\n"
     ]
    }
   ],
   "source": [
    "print(is_perfect_square_optimized(144))  # Output: True\n",
    "print(is_perfect_square_optimized(25))  # Output: True\n",
    "print(is_perfect_square_optimized(27))  # Output: False\n",
    "print(is_perfect_square_optimized(1))   # Output: True\n",
    "print(is_perfect_square_optimized(0))   # Output: True"
   ]
  },
  {
   "cell_type": "markdown",
   "id": "3a6b9635-e779-4015-8c0a-877462fe95b2",
   "metadata": {},
   "source": [
    "### Alternative Solution2"
   ]
  },
  {
   "cell_type": "code",
   "execution_count": 9,
   "id": "9066ebd5-2e37-48c3-93d8-89b43c1dfc83",
   "metadata": {},
   "outputs": [],
   "source": [
    "# Approach3: Using floating point square root\n",
    "import math\n",
    "\n",
    "def is_perfect_square_float(num):\n",
    "# Hanfle the negative numbers\n",
    "    if num < 0:\n",
    "        return False\n",
    "# compute square root and check integer condition \n",
    "    sqrt_num = math.sqrt(num)\n",
    "    return sqrt_num == int(sqrt_num)    \n"
   ]
  },
  {
   "cell_type": "code",
   "execution_count": 10,
   "id": "f7f74eda-8f87-4d87-87d9-4a97bbf2a5eb",
   "metadata": {},
   "outputs": [
    {
     "name": "stdout",
     "output_type": "stream",
     "text": [
      "True\n",
      "True\n",
      "False\n",
      "True\n",
      "True\n"
     ]
    }
   ],
   "source": [
    "print(is_perfect_square_float(144))  # Output: True\n",
    "print(is_perfect_square_float(25))  # Output: True\n",
    "print(is_perfect_square_float(27))  # Output: False\n",
    "print(is_perfect_square_float(1))   # Output: True\n",
    "print(is_perfect_square_float(0))   # Output: True"
   ]
  },
  {
   "cell_type": "markdown",
   "id": "462318bf-672f-4468-9122-070cf70b5af5",
   "metadata": {},
   "source": [
    "## Complexity Analysis"
   ]
  },
  {
   "cell_type": "markdown",
   "id": "3ff61a2e-affa-44cc-b483-573f9dc9b166",
   "metadata": {},
   "source": [
    "Time Complexity:\n",
    "\n",
    "- Brute Force (Iterative Checking): O(√N)\n",
    "\n",
    "    - Iterates until the square root of the number.\n",
    "\n",
    "- Optimized (math.isqrt()): O(1)\n",
    "\n",
    "    - Uses integer square root calculation.\n",
    "\n",
    "- Floating Point (math.sqrt()): O(1)\n",
    "\n",
    "    - Uses floating-point operations.\n",
    " \n",
    "Space Complexity:\n",
    "\n",
    "- Brute Force: O(1), uses a counter variable.\n",
    "\n",
    "- Optimized (math.isqrt()): O(1), uses a single integer variable.\n",
    "\n",
    "- Floating Point (math.sqrt()): O(1), uses a floating-point variable.\n"
   ]
  },
  {
   "cell_type": "markdown",
   "id": "54ae9b22-a3fd-4d97-807c-9deb388d03b1",
   "metadata": {},
   "source": [
    "#### Thank You!!"
   ]
  }
 ],
 "metadata": {
  "kernelspec": {
   "display_name": "Python 3 (ipykernel)",
   "language": "python",
   "name": "python3"
  },
  "language_info": {
   "codemirror_mode": {
    "name": "ipython",
    "version": 3
   },
   "file_extension": ".py",
   "mimetype": "text/x-python",
   "name": "python",
   "nbconvert_exporter": "python",
   "pygments_lexer": "ipython3",
   "version": "3.8.10"
  }
 },
 "nbformat": 4,
 "nbformat_minor": 5
}
