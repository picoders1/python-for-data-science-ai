{
 "cells": [
  {
   "cell_type": "markdown",
   "id": "8a36d3b1-1a8d-478e-8060-6477472e6bd4",
   "metadata": {},
   "source": [
    "# **Problem Statement**  \n",
    "## **17. Write a Python function to check if a given year is a leap year**"
   ]
  },
  {
   "cell_type": "markdown",
   "id": "12b96244-784f-44f1-b72a-e69e054e8b67",
   "metadata": {
    "jp-MarkdownHeadingCollapsed": true
   },
   "source": [
    "### Identify Constraints & Example Inputs/Outputs\n",
    "\n",
    "A leap year is divisible by 4, but:\n",
    "\n",
    "- If it is also divisible by 100, it must be divisible by 400 to be a leap year.\n",
    "\n",
    "Constraints:\n",
    "\n",
    "- Input should be a positive integer (year ≥ 0).\n",
    "- The function should correctly classify leap and non-leap years.\n",
    "\n",
    "---\n",
    "Example1 : \n",
    "year = 2024\n",
    "\n",
    "Output: \n",
    "True (Leap Year)\n",
    "\n",
    "---\n",
    "Example2 : \n",
    "year = 1900\n",
    "\n",
    "Output: \n",
    "False (Not a Leap Year)\n",
    "\n",
    "---\n",
    "Example3 : \n",
    "year = 2000\n",
    "\n",
    "Output: \n",
    "True (Leap Year)\n",
    "\n",
    "---\n",
    "Example4 : \n",
    "year = 2023\n",
    "\n",
    "Output: \n",
    "False (Not a Leap Year)\n",
    "\n",
    "---\n",
    "Example5 : \n",
    "year = 2040\n",
    "\n",
    "Output: \n",
    "True (Leap Year)\n",
    "\n",
    "---"
   ]
  },
  {
   "cell_type": "markdown",
   "id": "b68e7cad-ea42-4bb3-a20e-a91cba6d7424",
   "metadata": {},
   "source": [
    "### Solution Approach"
   ]
  },
  {
   "cell_type": "markdown",
   "id": "144b599f-addb-4686-8425-1f6e6f862acd",
   "metadata": {},
   "source": [
    "Step 1: Check if the year is divisible by 400 → Leap Year\n",
    "\n",
    "Step 2: If not, check if it is divisible by 100 → Not a Leap Year\n",
    "\n",
    "Step 3: If not, check if it is divisible by 4 → Leap Year\n",
    "\n",
    "Step 4: Otherwise, Not a Leap Year"
   ]
  },
  {
   "cell_type": "markdown",
   "id": "be931aed-e6ac-4398-a9cc-cd43c98ed91b",
   "metadata": {},
   "source": [
    "### Solution Code"
   ]
  },
  {
   "cell_type": "code",
   "execution_count": 1,
   "id": "57cab10a-c58c-459b-b504-16dc7ee1d0ac",
   "metadata": {},
   "outputs": [],
   "source": [
    "# Approach 1: Brute Force Approach: Traditional Approach\n",
    "def is_leap_year(year):\n",
    "    if (year % 400 == 0) or (year % 100 != 0 and year % 4 == 0):\n",
    "        return True\n",
    "    return False"
   ]
  },
  {
   "cell_type": "code",
   "execution_count": 2,
   "id": "c6b73b1c-518d-4265-925c-8c271c2045f7",
   "metadata": {},
   "outputs": [
    {
     "name": "stdout",
     "output_type": "stream",
     "text": [
      "True\n",
      "False\n",
      "True\n",
      "False\n",
      "True\n"
     ]
    }
   ],
   "source": [
    "# Example usage\n",
    "print(is_leap_year(2024))  # Output: True\n",
    "print(is_leap_year(1900))  # Output: False\n",
    "print(is_leap_year(2000))  # Output: True\n",
    "print(is_leap_year(2023))  # Output: False\n",
    "print(is_leap_year(2040))  # Output: True"
   ]
  },
  {
   "cell_type": "markdown",
   "id": "9febed86-bc77-49f3-aa50-7adfe033688a",
   "metadata": {},
   "source": [
    "### Alternative Solution1"
   ]
  },
  {
   "cell_type": "code",
   "execution_count": 3,
   "id": "0efc9774-33f6-41e2-8cd0-7cbeae985cfe",
   "metadata": {},
   "outputs": [],
   "source": [
    "# Approach 2: Optimized Approach: Using Python's calendar Module\n",
    "import calendar\n",
    "def is_leap_year_optimized(year):\n",
    "    return calendar.isleap(year)"
   ]
  },
  {
   "cell_type": "code",
   "execution_count": 4,
   "id": "705534f5-d328-4908-a080-2c38b82af4f6",
   "metadata": {},
   "outputs": [
    {
     "name": "stdout",
     "output_type": "stream",
     "text": [
      "True\n",
      "False\n",
      "True\n",
      "False\n",
      "True\n"
     ]
    }
   ],
   "source": [
    "# Example usage\n",
    "print(is_leap_year_optimized(2024))  # Output: True\n",
    "print(is_leap_year_optimized(1900))  # Output: False\n",
    "print(is_leap_year_optimized(2000))  # Output: True\n",
    "print(is_leap_year_optimized(2023))  # Output: False\n",
    "print(is_leap_year_optimized(2040))  # Output: True"
   ]
  },
  {
   "cell_type": "markdown",
   "id": "3a6b9635-e779-4015-8c0a-877462fe95b2",
   "metadata": {},
   "source": [
    "### Alternative Solution2"
   ]
  },
  {
   "cell_type": "code",
   "execution_count": 5,
   "id": "9066ebd5-2e37-48c3-93d8-89b43c1dfc83",
   "metadata": {},
   "outputs": [],
   "source": [
    "# Approach 3: Using a Single Return Statement\n",
    "def is_leap_year_one_liner(year):\n",
    "    return (year % 400 == 0) or (year % 100 != 0 and year % 4 == 0)\n"
   ]
  },
  {
   "cell_type": "code",
   "execution_count": 6,
   "id": "f7f74eda-8f87-4d87-87d9-4a97bbf2a5eb",
   "metadata": {},
   "outputs": [
    {
     "name": "stdout",
     "output_type": "stream",
     "text": [
      "True\n",
      "False\n",
      "True\n",
      "False\n",
      "True\n"
     ]
    }
   ],
   "source": [
    "# Example usage\n",
    "print(is_leap_year_one_liner(2024))  # Output: True\n",
    "print(is_leap_year_one_liner(1900))  # Output: False\n",
    "print(is_leap_year_one_liner(2000))  # Output: True\n",
    "print(is_leap_year_one_liner(2023))  # Output: False\n",
    "print(is_leap_year_one_liner(2040))  # Output: True"
   ]
  },
  {
   "cell_type": "markdown",
   "id": "462318bf-672f-4468-9122-070cf70b5af5",
   "metadata": {},
   "source": [
    "## Complexity Analysis"
   ]
  },
  {
   "cell_type": "markdown",
   "id": "3ff61a2e-affa-44cc-b483-573f9dc9b166",
   "metadata": {},
   "source": [
    "Time Complexity:\n",
    "\n",
    "- Brute Force Approach: O(1) (Constant time)\n",
    "- Optimized Approach (calendar.isleap): O(1) (Internally optimized)\n",
    " \n",
    "Space Complexity:\n",
    "\n",
    "- Brute Force Approach: O(1) (Constant space)\n",
    "- Optimized Approach: O(1)\n"
   ]
  },
  {
   "cell_type": "markdown",
   "id": "54ae9b22-a3fd-4d97-807c-9deb388d03b1",
   "metadata": {},
   "source": [
    "#### Thank You!!"
   ]
  }
 ],
 "metadata": {
  "kernelspec": {
   "display_name": "Python 3 (ipykernel)",
   "language": "python",
   "name": "python3"
  },
  "language_info": {
   "codemirror_mode": {
    "name": "ipython",
    "version": 3
   },
   "file_extension": ".py",
   "mimetype": "text/x-python",
   "name": "python",
   "nbconvert_exporter": "python",
   "pygments_lexer": "ipython3",
   "version": "3.8.10"
  }
 },
 "nbformat": 4,
 "nbformat_minor": 5
}
