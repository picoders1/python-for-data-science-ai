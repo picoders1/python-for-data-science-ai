{
 "cells": [
  {
   "cell_type": "markdown",
   "id": "8a36d3b1-1a8d-478e-8060-6477472e6bd4",
   "metadata": {},
   "source": [
    "# **Problem Statement**  \n",
    "## **19. Write a Python function to find the smallest and largest numbers in a given list**"
   ]
  },
  {
   "cell_type": "markdown",
   "id": "12b96244-784f-44f1-b72a-e69e054e8b67",
   "metadata": {
    "jp-MarkdownHeadingCollapsed": true
   },
   "source": [
    "### Identify Constraints & Example Inputs/Outputs\n",
    "\n",
    "Constraints:\n",
    "\n",
    "- The input will be a list of numbers (integers or floats).\n",
    "- The list must have at least one element; otherwise, return None.\n",
    "- The function should return both the smallest and largest numbers as a tuple (min, max).\n",
    "\n",
    "---\n",
    "Example 1 : \n",
    "nums = [1, 2, 3, 4, 5]\n",
    "\n",
    "Output: (1, 5)\n",
    "\n",
    "---\n",
    "Example 2 : \n",
    "nums = [-2, 7, 8, -5, 0]\n",
    "\n",
    "Output: (-5, 8)\n",
    "\n",
    "---\n",
    "Example 1 : \n",
    "nums = [10]\n",
    "\n",
    "Output: (10, 10)\n",
    "\n",
    "---\n",
    "Example 1 : \n",
    "nums = []\n",
    "\n",
    "Output: None\n",
    "\n",
    "---\n",
    "Example 1 : \n",
    "nums = [3.5, 2.5, 4.0, -1.2, 7.8]\n",
    "\n",
    "Output: (-1.2, 7.8)\n",
    "\n",
    "---"
   ]
  },
  {
   "cell_type": "markdown",
   "id": "b68e7cad-ea42-4bb3-a20e-a91cba6d7424",
   "metadata": {},
   "source": [
    "### Solution Approach"
   ]
  },
  {
   "cell_type": "markdown",
   "id": "144b599f-addb-4686-8425-1f6e6f862acd",
   "metadata": {},
   "source": [
    "Step 1: Check if the list is empty. If yes, return None.\n",
    "\n",
    "Step 2: Initialize two variables min_num and max_num as the first element.\n",
    "\n",
    "Step 3: Loop through the list and update min_num and max_num accordingly.\n",
    "\n",
    "Step 4: Return (min_num, max_num)."
   ]
  },
  {
   "cell_type": "markdown",
   "id": "be931aed-e6ac-4398-a9cc-cd43c98ed91b",
   "metadata": {},
   "source": [
    "### Solution Code"
   ]
  },
  {
   "cell_type": "code",
   "execution_count": 1,
   "id": "57cab10a-c58c-459b-b504-16dc7ee1d0ac",
   "metadata": {},
   "outputs": [],
   "source": [
    "# Approach 1: Brute Force Approach: Using Loop to Check Multiples\n",
    "def find_min_max(nums):\n",
    "    if not nums: #check for empty list\n",
    "        return None\n",
    "    min_num = max_num = nums[0] # Initialize both as the first element\n",
    "\n",
    "    for num in nums:\n",
    "        if num < min_num:\n",
    "            min_num = num\n",
    "        elif num > max_num:\n",
    "            max_num = num\n",
    "\n",
    "    return (min_num, max_num)"
   ]
  },
  {
   "cell_type": "code",
   "execution_count": 2,
   "id": "c6b73b1c-518d-4265-925c-8c271c2045f7",
   "metadata": {},
   "outputs": [
    {
     "name": "stdout",
     "output_type": "stream",
     "text": [
      "(1, 5)\n",
      "(-5, 8)\n",
      "(10, 10)\n",
      "None\n",
      "(-1.2, 7.8)\n"
     ]
    }
   ],
   "source": [
    "# Example usage\n",
    "print(find_min_max([1, 2, 3, 4, 5]))  # Output: (1, 5)\n",
    "print(find_min_max([-2, 7, 8, -5, 0]))  # Output: (-5, 8)\n",
    "print(find_min_max([10]))  # Output: (10, 10)\n",
    "print(find_min_max([]))  # Output: None\n",
    "print(find_min_max([3.5, 2.5, 4.0, -1.2, 7.8]))  # Output: (-1.2, 7.8)"
   ]
  },
  {
   "cell_type": "markdown",
   "id": "9febed86-bc77-49f3-aa50-7adfe033688a",
   "metadata": {},
   "source": [
    "### Alternative Solution1"
   ]
  },
  {
   "cell_type": "code",
   "execution_count": 3,
   "id": "0efc9774-33f6-41e2-8cd0-7cbeae985cfe",
   "metadata": {},
   "outputs": [],
   "source": [
    "# Approach 2: Optimized Approach: Using Python’s Built-in min() and max()\n",
    "def find_min_max_optimized(nums):\n",
    "    return (min(nums), max(nums)) if nums else None"
   ]
  },
  {
   "cell_type": "code",
   "execution_count": 6,
   "id": "705534f5-d328-4908-a080-2c38b82af4f6",
   "metadata": {},
   "outputs": [
    {
     "name": "stdout",
     "output_type": "stream",
     "text": [
      "(1, 5)\n",
      "(-5, 8)\n",
      "(10, 10)\n",
      "None\n",
      "(-1.2, 7.8)\n"
     ]
    }
   ],
   "source": [
    "# Example usage\n",
    "print(find_min_max_optimized([1, 2, 3, 4, 5]))  # Output: (1, 5)\n",
    "print(find_min_max_optimized([-2, 7, 8, -5, 0]))  # Output: (-5, 8)\n",
    "print(find_min_max_optimized([10]))  # Output: (10, 10)\n",
    "print(find_min_max_optimized([]))  # Output: None\n",
    "print(find_min_max_optimized([3.5, 2.5, 4.0, -1.2, 7.8]))  # Output: (-1.2, 7.8)"
   ]
  },
  {
   "cell_type": "markdown",
   "id": "3a6b9635-e779-4015-8c0a-877462fe95b2",
   "metadata": {},
   "source": [
    "### Alternative Solution2"
   ]
  },
  {
   "cell_type": "code",
   "execution_count": 8,
   "id": "9066ebd5-2e37-48c3-93d8-89b43c1dfc83",
   "metadata": {},
   "outputs": [],
   "source": [
    "# Approach 3: Using Sorting\n",
    "def find_min_max_sorted(nums):\n",
    "    if not nums:\n",
    "        return None\n",
    "    nums.sort()\n",
    "    return (nums[0], nums[-1])"
   ]
  },
  {
   "cell_type": "code",
   "execution_count": 10,
   "id": "f7f74eda-8f87-4d87-87d9-4a97bbf2a5eb",
   "metadata": {},
   "outputs": [
    {
     "name": "stdout",
     "output_type": "stream",
     "text": [
      "(1, 5)\n",
      "(-5, 8)\n",
      "(10, 10)\n",
      "None\n",
      "(-1.2, 7.8)\n"
     ]
    }
   ],
   "source": [
    "# Example usage\n",
    "print(find_min_max_sorted([1, 2, 3, 4, 5]))  # Output: (1, 5)\n",
    "print(find_min_max_sorted([-2, 7, 8, -5, 0]))  # Output: (-5, 8)\n",
    "print(find_min_max_sorted([10]))  # Output: (10, 10)\n",
    "print(find_min_max_sorted([]))  # Output: None\n",
    "print(find_min_max_sorted([3.5, 2.5, 4.0, -1.2, 7.8]))  # Output: (-1.2, 7.8)"
   ]
  },
  {
   "cell_type": "markdown",
   "id": "462318bf-672f-4468-9122-070cf70b5af5",
   "metadata": {},
   "source": [
    "## Complexity Analysis"
   ]
  },
  {
   "cell_type": "markdown",
   "id": "3ff61a2e-affa-44cc-b483-573f9dc9b166",
   "metadata": {},
   "source": [
    "Time Complexity:\n",
    "\n",
    "- Loop-based approach: O(n)\n",
    "- Using min() and max() functions: O(n) (Internally optimized in C)\n",
    "- Sorting approach: O(n log n) (Inefficient for large lists)\n",
    " \n",
    "Space Complexity:\n",
    "\n",
    "- Loop-based approach: O(1)\n",
    "- Using min() and max() functions: O(1)\n",
    "- Sorting approach: O(1) (In-place sorting)\n"
   ]
  },
  {
   "cell_type": "markdown",
   "id": "54ae9b22-a3fd-4d97-807c-9deb388d03b1",
   "metadata": {},
   "source": [
    "#### Thank You!!"
   ]
  }
 ],
 "metadata": {
  "kernelspec": {
   "display_name": "Python 3 (ipykernel)",
   "language": "python",
   "name": "python3"
  },
  "language_info": {
   "codemirror_mode": {
    "name": "ipython",
    "version": 3
   },
   "file_extension": ".py",
   "mimetype": "text/x-python",
   "name": "python",
   "nbconvert_exporter": "python",
   "pygments_lexer": "ipython3",
   "version": "3.8.10"
  }
 },
 "nbformat": 4,
 "nbformat_minor": 5
}
