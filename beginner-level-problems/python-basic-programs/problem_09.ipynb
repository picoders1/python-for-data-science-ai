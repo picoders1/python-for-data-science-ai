{
 "cells": [
  {
   "cell_type": "markdown",
   "id": "8a36d3b1-1a8d-478e-8060-6477472e6bd4",
   "metadata": {},
   "source": [
    "# **Problem Statement**  \n",
    "## **09. Write a Python program to count the number of vowels in a string**"
   ]
  },
  {
   "cell_type": "markdown",
   "id": "12b96244-784f-44f1-b72a-e69e054e8b67",
   "metadata": {},
   "source": [
    "###Identify Constraints & Example Inputs/Outputs\n",
    "\n",
    "Input: A string s that may contain alphabets, digits, and special characters.\n",
    "\n",
    "Output: An integer representing the number of vowels in the string.\n",
    "\n",
    "Constraints:\n",
    "\n",
    "    - The input string may contain upper and lowercase characters.\n",
    "    - Consider vowels: a, e, i, o, u (both lowercase and uppercase).\n",
    "    - Return 0 if no vowels are found.\n",
    "\n",
    "---\n",
    "Example 1 : \n",
    "s = \"hello\"\n",
    "\n",
    "Output:\n",
    "2\n",
    "\n",
    "---\n",
    "Example 2 : \n",
    "s = \"HELLO\"\n",
    "\n",
    "Output:\n",
    "2\n",
    "\n",
    "---\n",
    "Example 3 : \n",
    "s = \"12345\"\n",
    "\n",
    "Output:\n",
    "0\n",
    "\n",
    "---\n",
    "Example 4 : \n",
    "s = \"Python is Fun!\"\n",
    "\n",
    "Output:\n",
    "4\n",
    "\n",
    "---\n",
    "Example 5 : \n",
    "s = \"\"\n",
    "\n",
    "Output:\n",
    "0\n",
    "\n",
    "---"
   ]
  },
  {
   "cell_type": "markdown",
   "id": "b68e7cad-ea42-4bb3-a20e-a91cba6d7424",
   "metadata": {},
   "source": [
    "### Solution Approach"
   ]
  },
  {
   "cell_type": "raw",
   "id": "2f9700cf-09da-4897-a165-31556d7f0a37",
   "metadata": {},
   "source": [
    "Step 1: Define a list or set containing all vowel characters.\n",
    "\n",
    "Step 2: Loop through each character in the string and check if it's a vowel.\n",
    "\n",
    "Step 3: Use a counter to keep track of the number of vowels.\n",
    "\n",
    "Step 4: Return the final count."
   ]
  },
  {
   "cell_type": "markdown",
   "id": "be931aed-e6ac-4398-a9cc-cd43c98ed91b",
   "metadata": {},
   "source": [
    "### Solution Code"
   ]
  },
  {
   "cell_type": "code",
   "execution_count": 1,
   "id": "57cab10a-c58c-459b-b504-16dc7ee1d0ac",
   "metadata": {},
   "outputs": [],
   "source": [
    "# Approach 1: Brute Force Approach: Using Loop and if Condition\n",
    "def count_vowels_brute(s):\n",
    "    # Step 1: Define the set of vowels\n",
    "    vowels = 'aeiouAEIOU'\n",
    "\n",
    "    # Step 2: Initialize a counter\n",
    "    count = 0\n",
    "    \n",
    "    # Step 3: Loop through each character\n",
    "    for char in s:\n",
    "        #step 4: Check if the character is a vowel\n",
    "        if char in vowels:\n",
    "            count += 1\n",
    "\n",
    "    #step 5: Return the count of vowels\n",
    "    return count"
   ]
  },
  {
   "cell_type": "code",
   "execution_count": 2,
   "id": "c6b73b1c-518d-4265-925c-8c271c2045f7",
   "metadata": {},
   "outputs": [
    {
     "name": "stdout",
     "output_type": "stream",
     "text": [
      "2\n",
      "2\n",
      "0\n",
      "3\n"
     ]
    }
   ],
   "source": [
    "# Example usage\n",
    "print(count_vowels_brute(\"hello\"))       # Output: 2\n",
    "print(count_vowels_brute(\"HELLO\"))       # Output: 2\n",
    "print(count_vowels_brute(\"12345\"))       # Output: 0\n",
    "print(count_vowels_brute(\"Python is Fun!\"))  # Output: 4"
   ]
  },
  {
   "cell_type": "markdown",
   "id": "9febed86-bc77-49f3-aa50-7adfe033688a",
   "metadata": {},
   "source": [
    "### Alternative Solution1"
   ]
  },
  {
   "cell_type": "code",
   "execution_count": 3,
   "id": "0efc9774-33f6-41e2-8cd0-7cbeae985cfe",
   "metadata": {},
   "outputs": [],
   "source": [
    "# Approach 2: Optimized Approach: Using List Comprehension and sum()\n",
    "def count_vowels_optimized(s):\n",
    "    # Step 1: Define the set of vowels\n",
    "    vowels = set(\"aeiouAEIOU\")\n",
    "    \n",
    "    # Step 2: Count vowels using list comprehension\n",
    "    return sum(1 for char in s if char in vowels)"
   ]
  },
  {
   "cell_type": "code",
   "execution_count": 4,
   "id": "705534f5-d328-4908-a080-2c38b82af4f6",
   "metadata": {},
   "outputs": [
    {
     "name": "stdout",
     "output_type": "stream",
     "text": [
      "2\n",
      "2\n",
      "0\n",
      "3\n"
     ]
    }
   ],
   "source": [
    "# Example usage\n",
    "print(count_vowels_optimized(\"hello\"))       # Output: 2\n",
    "print(count_vowels_optimized(\"HELLO\"))       # Output: 2\n",
    "print(count_vowels_optimized(\"12345\"))       # Output: 0\n",
    "print(count_vowels_optimized(\"Python is Fun!\"))  # Output: 4"
   ]
  },
  {
   "cell_type": "markdown",
   "id": "1aeabfad-84e0-407e-befb-3509b3898bc7",
   "metadata": {},
   "source": [
    "### Alternative Solution2"
   ]
  },
  {
   "cell_type": "code",
   "execution_count": 5,
   "id": "9de74242-bb2f-4f55-9150-9891adaab5bd",
   "metadata": {},
   "outputs": [],
   "source": [
    "# Using filter() and len()\n",
    "def count_vowels_filter(s):\n",
    "    vowels = \"aeiouAEIOU\"\n",
    "    return len(list(filter(lambda char: char in vowels, s)))"
   ]
  },
  {
   "cell_type": "code",
   "execution_count": 6,
   "id": "7e42962a-1f7f-4fd6-ae09-3f5df9d5c637",
   "metadata": {},
   "outputs": [
    {
     "name": "stdout",
     "output_type": "stream",
     "text": [
      "2\n",
      "2\n",
      "0\n",
      "3\n"
     ]
    }
   ],
   "source": [
    "# Example usage\n",
    "print(count_vowels_filter(\"hello\"))       # Output: 2\n",
    "print(count_vowels_filter(\"HELLO\"))       # Output: 2\n",
    "print(count_vowels_filter(\"12345\"))       # Output: 0\n",
    "print(count_vowels_filter(\"Python is Fun!\"))  # Output: 4"
   ]
  },
  {
   "cell_type": "markdown",
   "id": "462318bf-672f-4468-9122-070cf70b5af5",
   "metadata": {},
   "source": [
    "## Complexity Analysis"
   ]
  },
  {
   "cell_type": "markdown",
   "id": "3ff61a2e-affa-44cc-b483-573f9dc9b166",
   "metadata": {},
   "source": [
    "Time Complexity:\n",
    "\n",
    "    - Brute Force (Loop): O(n), iterates through the string once.\n",
    "    - Optimized (List Comprehension): O(n), iterates through the string to count vowels.\n",
    "    - Alternative (Filter): O(n), applies a filter and counts the results.\n",
    "\n",
    "Space Complexity:\n",
    "\n",
    "    - Brute Force (Loop): O(1), uses a counter.\n",
    "    - Optimized (List Comprehension): O(1), stores intermediate results temporarily.\n",
    "    - Alternative (Filter): O(n), stores filtered elements."
   ]
  },
  {
   "cell_type": "markdown",
   "id": "54ae9b22-a3fd-4d97-807c-9deb388d03b1",
   "metadata": {},
   "source": [
    "#### Thank You!!"
   ]
  }
 ],
 "metadata": {
  "kernelspec": {
   "display_name": "Python 3 (ipykernel)",
   "language": "python",
   "name": "python3"
  },
  "language_info": {
   "codemirror_mode": {
    "name": "ipython",
    "version": 3
   },
   "file_extension": ".py",
   "mimetype": "text/x-python",
   "name": "python",
   "nbconvert_exporter": "python",
   "pygments_lexer": "ipython3",
   "version": "3.8.10"
  }
 },
 "nbformat": 4,
 "nbformat_minor": 5
}
