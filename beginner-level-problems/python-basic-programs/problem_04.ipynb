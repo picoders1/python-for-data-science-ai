{
 "cells": [
  {
   "cell_type": "markdown",
   "id": "8a36d3b1-1a8d-478e-8060-6477472e6bd4",
   "metadata": {},
   "source": [
    "# **Problem Statement**  \n",
    "## **04. Write a function to calculate the factorial of a number**"
   ]
  },
  {
   "cell_type": "markdown",
   "id": "5174ca4a-c8ab-406b-a5cc-d8675b728e73",
   "metadata": {},
   "source": [
    "What is a Factorial?\n",
    "\n",
    "- The factorial of a non-negative integer n is the product of all positive integers less than or equal to n.\n",
    "\n",
    "-> It is denoted by n! and defined as:\n",
    "n!=n×(n−1)×(n−2)×…×1\n",
    "\n",
    "-> Special case:\n",
    "0!=1\n"
   ]
  },
  {
   "cell_type": "markdown",
   "id": "cd9148e6-7aa9-42e7-af72-8df825c69ace",
   "metadata": {},
   "source": [
    "###Identify Constraints & Example Inputs/Outputs\n",
    "\n",
    "Input: A non-negative integer n\n",
    "\n",
    "Output: Factorial of the number n\n",
    "\n",
    "Constraints:\n",
    "- Input is a non-negative integer\n",
    "- Factorial of 0 is 1\n",
    "- Large inputs may lead to high computational time\n",
    "\n",
    "Example Cases:\n",
    "- factorial(5) #output:120\n",
    "- factorial(0) # output: 1\n",
    "- factorial(10) # output: 3628800"
   ]
  },
  {
   "cell_type": "markdown",
   "id": "b68e7cad-ea42-4bb3-a20e-a91cba6d7424",
   "metadata": {},
   "source": [
    "### Solution Approach"
   ]
  },
  {
   "cell_type": "markdown",
   "id": "85576780-608d-4624-9d65-0d42965f3400",
   "metadata": {},
   "source": [
    "### Approach 1: Using Iteration (Loop-Based)\n",
    "Step 1: Initialize result = 1\n",
    "\n",
    "Step 2: Multiply numbers from 1 to n\n",
    "\n",
    "Step 3: Return the final result\n"
   ]
  },
  {
   "cell_type": "markdown",
   "id": "5a923409-ab91-4467-a4bd-ef2863236174",
   "metadata": {},
   "source": [
    "### Approach 2: Using Recursion\n",
    "Step 1: Define a base case n == 0 or n == 1 to return 1\n",
    "\n",
    "Step 2: Recursively multiply n by factorial(n-1)\n",
    "\n",
    "Step 3: Return the result"
   ]
  },
  {
   "cell_type": "markdown",
   "id": "be931aed-e6ac-4398-a9cc-cd43c98ed91b",
   "metadata": {},
   "source": [
    "### Solution Code"
   ]
  },
  {
   "cell_type": "code",
   "execution_count": 1,
   "id": "57cab10a-c58c-459b-b504-16dc7ee1d0ac",
   "metadata": {},
   "outputs": [],
   "source": [
    "# Approach 1: Iterative Function\n",
    "def factorial_iterative(n):\n",
    "    result = 1\n",
    "    for i in range(2, n+1):\n",
    "        result *= i\n",
    "\n",
    "    return result"
   ]
  },
  {
   "cell_type": "code",
   "execution_count": 2,
   "id": "d9233256-dfab-42d8-928b-722e4493e79e",
   "metadata": {},
   "outputs": [
    {
     "name": "stdout",
     "output_type": "stream",
     "text": [
      "120\n"
     ]
    }
   ],
   "source": [
    "# Example Usage\n",
    "print(factorial_iterative(5))    # Output: 120"
   ]
  },
  {
   "cell_type": "code",
   "execution_count": 3,
   "id": "32e6a95e-a9ab-4d92-9f58-7413ce437c38",
   "metadata": {},
   "outputs": [
    {
     "name": "stdout",
     "output_type": "stream",
     "text": [
      "3628800\n"
     ]
    }
   ],
   "source": [
    "# Example Usage\n",
    "print(factorial_iterative(10))      # Output: 3628800"
   ]
  },
  {
   "cell_type": "markdown",
   "id": "9febed86-bc77-49f3-aa50-7adfe033688a",
   "metadata": {},
   "source": [
    "### Alternative Solution1"
   ]
  },
  {
   "cell_type": "code",
   "execution_count": 4,
   "id": "0efc9774-33f6-41e2-8cd0-7cbeae985cfe",
   "metadata": {},
   "outputs": [],
   "source": [
    "# Approach 2: Recursive Function\n",
    "def factorial_recursive(n):\n",
    "    if n == 0 or n ==1 :\n",
    "        return 1\n",
    "    return n * factorial_recursive(n-1)"
   ]
  },
  {
   "cell_type": "code",
   "execution_count": 5,
   "id": "705534f5-d328-4908-a080-2c38b82af4f6",
   "metadata": {},
   "outputs": [
    {
     "name": "stdout",
     "output_type": "stream",
     "text": [
      "120\n"
     ]
    }
   ],
   "source": [
    "# Example Usage\n",
    "print(factorial_recursive(5))    # Output: 120"
   ]
  },
  {
   "cell_type": "code",
   "execution_count": 6,
   "id": "6fb563ae-6aba-48ad-bb35-3ca51bf83efa",
   "metadata": {},
   "outputs": [
    {
     "name": "stdout",
     "output_type": "stream",
     "text": [
      "5040\n"
     ]
    }
   ],
   "source": [
    "# Example Usage\n",
    "print(factorial_recursive(7))    # Output: 5040"
   ]
  },
  {
   "cell_type": "markdown",
   "id": "a730d6c1-8f7e-48ba-97f6-c7af7da37ec7",
   "metadata": {},
   "source": [
    "### Alternative Solution2"
   ]
  },
  {
   "cell_type": "code",
   "execution_count": 7,
   "id": "92423a02-cf2a-4e42-a663-631b85771a88",
   "metadata": {},
   "outputs": [],
   "source": [
    "# Using Python's Standard Library:\n",
    "# Python has a built-in function in the math module.\n",
    "import math\n",
    "def factorial_math(n): \n",
    "    return math.factorial(n)\n"
   ]
  },
  {
   "cell_type": "code",
   "execution_count": 8,
   "id": "2a64dbb9-5932-47c8-89df-838db414ef2d",
   "metadata": {},
   "outputs": [
    {
     "name": "stdout",
     "output_type": "stream",
     "text": [
      "120\n"
     ]
    }
   ],
   "source": [
    "# Example Usage\n",
    "print(factorial_math(5))      # Output: 120"
   ]
  },
  {
   "cell_type": "markdown",
   "id": "462318bf-672f-4468-9122-070cf70b5af5",
   "metadata": {},
   "source": [
    "## Complexity Analysis"
   ]
  },
  {
   "cell_type": "markdown",
   "id": "34d34ca0-bcd8-44d5-b708-c4e50ee8751a",
   "metadata": {},
   "source": [
    "Time Complexity:\n",
    "- Recursive/Iterative Approaches: O(n), since we perform n multiplications.\n",
    "\n",
    "Space Complexity:\n",
    "- Recursive Approach: O(n) due to the call stack.\n",
    "- Iterative Approach: O(1) as only a few variables are used.\n",
    "\n",
    "Using math.factorial:\n",
    "- This is optimized in C, so it's highly efficient with similar time complexity."
   ]
  },
  {
   "cell_type": "markdown",
   "id": "54ae9b22-a3fd-4d97-807c-9deb388d03b1",
   "metadata": {},
   "source": [
    "#### Thank You!!"
   ]
  }
 ],
 "metadata": {
  "kernelspec": {
   "display_name": "Python 3 (ipykernel)",
   "language": "python",
   "name": "python3"
  },
  "language_info": {
   "codemirror_mode": {
    "name": "ipython",
    "version": 3
   },
   "file_extension": ".py",
   "mimetype": "text/x-python",
   "name": "python",
   "nbconvert_exporter": "python",
   "pygments_lexer": "ipython3",
   "version": "3.8.10"
  }
 },
 "nbformat": 4,
 "nbformat_minor": 5
}
