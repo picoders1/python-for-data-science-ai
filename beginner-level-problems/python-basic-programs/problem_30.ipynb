{
 "cells": [
  {
   "cell_type": "markdown",
   "id": "8a36d3b1-1a8d-478e-8060-6477472e6bd4",
   "metadata": {},
   "source": [
    "# **Problem Statement**  \n",
    "## **20. Write a function to count the number of occurrences of a given character in a string**"
   ]
  },
  {
   "cell_type": "markdown",
   "id": "12b96244-784f-44f1-b72a-e69e054e8b67",
   "metadata": {
    "jp-MarkdownHeadingCollapsed": true
   },
   "source": [
    "### Identify Constraints & Example Inputs/Outputs\n",
    "\n",
    "Constraints:\n",
    "\n",
    "- The input string can be alphanumeric and can include spaces or special characters.\n",
    "- The character can be any valid single character.\n",
    "- The comparison is case-sensitive unless specified otherwise.\n",
    "\n",
    "---\n",
    "Example1: Input: \"hello world\", 'l'  \n",
    "\n",
    "Output: 3\n",
    "\n",
    "---\n",
    "Example2: Input: \"Data Science\", 'a' \n",
    "\n",
    "Output: 2\n",
    "\n",
    "---\n",
    "Example3: \"123321\", '3'\n",
    "\n",
    "Output: 2\n",
    "\n",
    "---\n",
    "Example4: Input: \"Test\", 'z'\n",
    "\n",
    "Output: 0\n",
    "\n",
    "---"
   ]
  },
  {
   "cell_type": "markdown",
   "id": "b68e7cad-ea42-4bb3-a20e-a91cba6d7424",
   "metadata": {},
   "source": [
    "### Solution Approach"
   ]
  },
  {
   "cell_type": "markdown",
   "id": "144b599f-addb-4686-8425-1f6e6f862acd",
   "metadata": {},
   "source": [
    "Step1: Take two inputs: a string and a character to be counted.\n",
    "\n",
    "Step2: Loop through the string character by character.\n",
    "\n",
    "Step3: Maintain a counter to count how many times the character appears\n",
    "\n",
    "Step4: Return the counter."
   ]
  },
  {
   "cell_type": "markdown",
   "id": "be931aed-e6ac-4398-a9cc-cd43c98ed91b",
   "metadata": {},
   "source": [
    "### Solution Code"
   ]
  },
  {
   "cell_type": "code",
   "execution_count": 1,
   "id": "57cab10a-c58c-459b-b504-16dc7ee1d0ac",
   "metadata": {},
   "outputs": [],
   "source": [
    "# Approach1: Brute Force Approach: Using a Loop\n",
    "def count_char_occurrences(s, char):\n",
    "    count = 0\n",
    "    for c in s:\n",
    "        if c == char:\n",
    "            count += 1\n",
    "    return count"
   ]
  },
  {
   "cell_type": "code",
   "execution_count": 2,
   "id": "c6b73b1c-518d-4265-925c-8c271c2045f7",
   "metadata": {},
   "outputs": [
    {
     "name": "stdout",
     "output_type": "stream",
     "text": [
      "3\n",
      "2\n"
     ]
    }
   ],
   "source": [
    "# Test cases\n",
    "print(count_char_occurrences(\"hello world\", 'l'))  # 3\n",
    "print(count_char_occurrences(\"Data Science\", 'a')) # 2"
   ]
  },
  {
   "cell_type": "markdown",
   "id": "9febed86-bc77-49f3-aa50-7adfe033688a",
   "metadata": {},
   "source": [
    "### Alternative Solution1"
   ]
  },
  {
   "cell_type": "code",
   "execution_count": 3,
   "id": "0efc9774-33f6-41e2-8cd0-7cbeae985cfe",
   "metadata": {},
   "outputs": [],
   "source": [
    "# Approach2: Optimized Approach: Using Built-in Method\n",
    "def count_char_occurrences_optimized(s, char):\n",
    "    return s.count(char)"
   ]
  },
  {
   "cell_type": "code",
   "execution_count": 4,
   "id": "705534f5-d328-4908-a080-2c38b82af4f6",
   "metadata": {},
   "outputs": [
    {
     "name": "stdout",
     "output_type": "stream",
     "text": [
      "3\n",
      "2\n"
     ]
    }
   ],
   "source": [
    "# Test cases\n",
    "print(count_char_occurrences_optimized(\"hello world\", 'l'))  # 3\n",
    "print(count_char_occurrences_optimized(\"Data Science\", 'a')) # 2"
   ]
  },
  {
   "cell_type": "markdown",
   "id": "3a6b9635-e779-4015-8c0a-877462fe95b2",
   "metadata": {},
   "source": [
    "### Alternative Solution2"
   ]
  },
  {
   "cell_type": "code",
   "execution_count": 5,
   "id": "9066ebd5-2e37-48c3-93d8-89b43c1dfc83",
   "metadata": {},
   "outputs": [],
   "source": [
    "# Approach3: Using collections.Counter (if we need the counts of all characters)\n",
    "from collections import Counter\n",
    "\n",
    "def count_char_occurrences_counter(s, char):\n",
    "    return Counter(s)[char]"
   ]
  },
  {
   "cell_type": "code",
   "execution_count": 7,
   "id": "f7f74eda-8f87-4d87-87d9-4a97bbf2a5eb",
   "metadata": {},
   "outputs": [
    {
     "name": "stdout",
     "output_type": "stream",
     "text": [
      "3\n",
      "2\n"
     ]
    }
   ],
   "source": [
    "# Test cases\n",
    "print(count_char_occurrences_counter(\"hello world\", 'l'))  # 3\n",
    "print(count_char_occurrences_counter(\"Data Science\", 'a')) # 2"
   ]
  },
  {
   "cell_type": "markdown",
   "id": "462318bf-672f-4468-9122-070cf70b5af5",
   "metadata": {},
   "source": [
    "## Complexity Analysis"
   ]
  },
  {
   "cell_type": "markdown",
   "id": "3ff61a2e-affa-44cc-b483-573f9dc9b166",
   "metadata": {},
   "source": [
    "Time Complexity:\n",
    "\n",
    "- O(n) — where n is the length of the string.\n",
    " \n",
    "Space Complexity:\n",
    "\n",
    "- O(1) — for brute force and .count() approach\n",
    "- O(k) — for Counter, where k is number of unique characters"
   ]
  },
  {
   "cell_type": "markdown",
   "id": "54ae9b22-a3fd-4d97-807c-9deb388d03b1",
   "metadata": {},
   "source": [
    "#### Thank You!!"
   ]
  }
 ],
 "metadata": {
  "kernelspec": {
   "display_name": "Python 3 (ipykernel)",
   "language": "python",
   "name": "python3"
  },
  "language_info": {
   "codemirror_mode": {
    "name": "ipython",
    "version": 3
   },
   "file_extension": ".py",
   "mimetype": "text/x-python",
   "name": "python",
   "nbconvert_exporter": "python",
   "pygments_lexer": "ipython3",
   "version": "3.8.10"
  }
 },
 "nbformat": 4,
 "nbformat_minor": 5
}
