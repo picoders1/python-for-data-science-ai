{
 "cells": [
  {
   "cell_type": "markdown",
   "id": "8a36d3b1-1a8d-478e-8060-6477472e6bd4",
   "metadata": {},
   "source": [
    "# **Problem Statement**  \n",
    "## **27. Write a function to generate a random password of length n**"
   ]
  },
  {
   "cell_type": "markdown",
   "id": "12b96244-784f-44f1-b72a-e69e054e8b67",
   "metadata": {
    "jp-MarkdownHeadingCollapsed": true
   },
   "source": [
    "### Identify Constraints & Example Inputs/Outputs\n",
    "\n",
    "Constraints:\n",
    "\n",
    "- n must be an integer ≥ 4 to ensure inclusion of all character types\n",
    "- The password must contain at least:\n",
    "    - One lowercase letter\n",
    "    - One uppercase letter\n",
    "    - One digit\n",
    "    - One special character\n",
    "- All characters should be randomly shuffled\n",
    "\n",
    "---\n",
    "Example1: Input: n = 8\n",
    "\n",
    "Output: 'aK4@dL2$'     #(randomized output)\n",
    "\n",
    "---"
   ]
  },
  {
   "cell_type": "markdown",
   "id": "b68e7cad-ea42-4bb3-a20e-a91cba6d7424",
   "metadata": {},
   "source": [
    "### Solution Approach"
   ]
  },
  {
   "cell_type": "markdown",
   "id": "144b599f-addb-4686-8425-1f6e6f862acd",
   "metadata": {},
   "source": [
    "Step1: Import necessary modules like random and string.\n",
    "\n",
    "Step2: Define pools of characters:\n",
    "- Lowercase letters (a-z)\n",
    "- Uppercase letters (A-Z)\n",
    "- Digits (0-9)\n",
    "- Special characters (like @, #, $, %, etc.)\n",
    "\n",
    "Step3: Ensure minimum security:\n",
    "- Pick at least one character from each category.\n",
    "\n",
    "Step4: Fill the remaining characters randomly from the combined pool.\n",
    "\n",
    "Step5: Shuffle the final list to ensure randomness.\n",
    "\n",
    "Step6: Convert the character list to a string and return it."
   ]
  },
  {
   "cell_type": "markdown",
   "id": "be931aed-e6ac-4398-a9cc-cd43c98ed91b",
   "metadata": {},
   "source": [
    "### Solution Code"
   ]
  },
  {
   "cell_type": "code",
   "execution_count": 3,
   "id": "57cab10a-c58c-459b-b504-16dc7ee1d0ac",
   "metadata": {},
   "outputs": [],
   "source": [
    "# Approach1: Brute Force & Optimized Approach: Using a Loop \n",
    "import random\n",
    "import string\n",
    "\n",
    "def generate_password(n):\n",
    "    if n < 4:\n",
    "        return \"Password length must be at least 4\"\n",
    "\n",
    "    lower = random.choice(string.ascii_lowercase)\n",
    "    upper = random.choice(string.ascii_uppercase)\n",
    "    digit = random.choice(string.digits)\n",
    "    special = random.choice('!@#$%^&*()')\n",
    "\n",
    "    remaining = [random.choice(string.ascii_letters + string.digits + '!@#$%^&*()') for _ in range(n - 4)]\n",
    "\n",
    "    password_list = [lower, upper, digit, special] + remaining\n",
    "    random.shuffle(password_list)\n",
    "    \n",
    "    return ''.join(password_list)"
   ]
  },
  {
   "cell_type": "code",
   "execution_count": 4,
   "id": "c6b73b1c-518d-4265-925c-8c271c2045f7",
   "metadata": {},
   "outputs": [
    {
     "name": "stdout",
     "output_type": "stream",
     "text": [
      "wS5ZI^(Jcj\n"
     ]
    }
   ],
   "source": [
    "# Test case\n",
    "print(generate_password(10))"
   ]
  },
  {
   "cell_type": "markdown",
   "id": "9febed86-bc77-49f3-aa50-7adfe033688a",
   "metadata": {},
   "source": [
    "### Alternative Solution1"
   ]
  },
  {
   "cell_type": "code",
   "execution_count": 5,
   "id": "0efc9774-33f6-41e2-8cd0-7cbeae985cfe",
   "metadata": {},
   "outputs": [],
   "source": [
    "# Approach2: Using secrets module (for cryptographic randomness, preferred in security-sensitive applications)\n",
    "import secrets\n",
    "def secure_password(n):\n",
    "    if n < 4:\n",
    "        return \"Minimum length is 4\"\n",
    "    charset = string.ascii_letters + string.digits + '!@#$%^&*()'\n",
    "    return ''.join(secrets.choice(charset) for _ in range(n))"
   ]
  },
  {
   "cell_type": "code",
   "execution_count": 9,
   "id": "705534f5-d328-4908-a080-2c38b82af4f6",
   "metadata": {},
   "outputs": [
    {
     "name": "stdout",
     "output_type": "stream",
     "text": [
      "N@$1bM#pbfIFEvaWPSD8\n"
     ]
    }
   ],
   "source": [
    "# Test case\n",
    "print(secure_password(20))"
   ]
  },
  {
   "cell_type": "markdown",
   "id": "462318bf-672f-4468-9122-070cf70b5af5",
   "metadata": {},
   "source": [
    "## Complexity Analysis"
   ]
  },
  {
   "cell_type": "markdown",
   "id": "3ff61a2e-affa-44cc-b483-573f9dc9b166",
   "metadata": {},
   "source": [
    "Time Complexity:\n",
    "\n",
    "- O(n) → We generate n characters and shuffle them.\n",
    " \n",
    "Space Complexity:\n",
    "\n",
    "- O(n) → To store the characters before forming the final password."
   ]
  },
  {
   "cell_type": "markdown",
   "id": "54ae9b22-a3fd-4d97-807c-9deb388d03b1",
   "metadata": {},
   "source": [
    "#### Thank You!!"
   ]
  }
 ],
 "metadata": {
  "kernelspec": {
   "display_name": "Python 3 (ipykernel)",
   "language": "python",
   "name": "python3"
  },
  "language_info": {
   "codemirror_mode": {
    "name": "ipython",
    "version": 3
   },
   "file_extension": ".py",
   "mimetype": "text/x-python",
   "name": "python",
   "nbconvert_exporter": "python",
   "pygments_lexer": "ipython3",
   "version": "3.8.10"
  }
 },
 "nbformat": 4,
 "nbformat_minor": 5
}
