{
 "cells": [
  {
   "cell_type": "markdown",
   "id": "8a36d3b1-1a8d-478e-8060-6477472e6bd4",
   "metadata": {},
   "source": [
    "# **Problem Statement**  \n",
    "## **28. Write a Python function to check if a given list is sorted in ascending order**"
   ]
  },
  {
   "cell_type": "markdown",
   "id": "12b96244-784f-44f1-b72a-e69e054e8b67",
   "metadata": {
    "jp-MarkdownHeadingCollapsed": true
   },
   "source": [
    "### Identify Constraints & Example Inputs/Outputs\n",
    "\n",
    "Constraints:\n",
    "\n",
    "- The list may contain integers or floats.\n",
    "- The list may be empty or contain only one element (considered sorted).\n",
    "- The function should return True if the list is sorted in ascending order, otherwise False.\n",
    "\n",
    "---\n",
    "Example1: Input: [1, 2, 3, 4, 5]\n",
    "\n",
    "Output: True\n",
    "\n",
    "---\n",
    "Example2: Input: [5, 3, 2, 1]\n",
    "\n",
    "Output: False\n",
    "\n",
    "---\n",
    "Example3: Input: [7]\n",
    "\n",
    "Output: True\n",
    "\n",
    "---"
   ]
  },
  {
   "cell_type": "markdown",
   "id": "b68e7cad-ea42-4bb3-a20e-a91cba6d7424",
   "metadata": {},
   "source": [
    "### Solution Approach"
   ]
  },
  {
   "cell_type": "markdown",
   "id": "144b599f-addb-4686-8425-1f6e6f862acd",
   "metadata": {},
   "source": [
    "Step1: Check list length:\n",
    "- If the list has 0 or 1 element, return True (a list with one or no elements is trivially sorted).\n",
    "\n",
    "Step2: Iterate through the list:\n",
    "- Compare each element with the next one.\n",
    "- If any element is greater than the next, return False.\n",
    "\n",
    "Step3: If the entire list is traversed without finding a violation, return True."
   ]
  },
  {
   "cell_type": "markdown",
   "id": "be931aed-e6ac-4398-a9cc-cd43c98ed91b",
   "metadata": {},
   "source": [
    "### Solution Code"
   ]
  },
  {
   "cell_type": "code",
   "execution_count": 7,
   "id": "57cab10a-c58c-459b-b504-16dc7ee1d0ac",
   "metadata": {},
   "outputs": [],
   "source": [
    "# Approach1: Brute Force Approach: Using a Loop\n",
    "def is_sorted_ascending_bruteforce(lst):\n",
    "    if len(lst) <= 1:\n",
    "        return True\n",
    "    for i in range(len(lst) - 1):\n",
    "        if lst[i] > lst[i + 1]:\n",
    "            return False\n",
    "    return True"
   ]
  },
  {
   "cell_type": "code",
   "execution_count": 8,
   "id": "c6b73b1c-518d-4265-925c-8c271c2045f7",
   "metadata": {},
   "outputs": [
    {
     "name": "stdout",
     "output_type": "stream",
     "text": [
      "True\n",
      "False\n",
      "True\n"
     ]
    }
   ],
   "source": [
    "# Test cases\n",
    "print(is_sorted_ascending_bruteforce([1, 2, 3, 4, 5]))   # True\n",
    "print(is_sorted_ascending_bruteforce([5, 4, 3]))         # False\n",
    "print(is_sorted_ascending_bruteforce([10]))             # True"
   ]
  },
  {
   "cell_type": "markdown",
   "id": "9febed86-bc77-49f3-aa50-7adfe033688a",
   "metadata": {},
   "source": [
    "### Alternative Solution1"
   ]
  },
  {
   "cell_type": "code",
   "execution_count": 9,
   "id": "0efc9774-33f6-41e2-8cd0-7cbeae985cfe",
   "metadata": {},
   "outputs": [],
   "source": [
    "# Approach2: Optimized Approach: Using Python’s all() function with a generator expression for a cleaner approach\n",
    "def is_sorted_ascending_optimized(lst):\n",
    "    return all(lst[i] <= lst[i + 1] for i in range(len(lst) - 1))"
   ]
  },
  {
   "cell_type": "code",
   "execution_count": 10,
   "id": "705534f5-d328-4908-a080-2c38b82af4f6",
   "metadata": {},
   "outputs": [
    {
     "name": "stdout",
     "output_type": "stream",
     "text": [
      "True\n",
      "False\n"
     ]
    }
   ],
   "source": [
    "# Test cases\n",
    "print(is_sorted_ascending_optimized([1, 2, 2, 3]))  # True\n",
    "print(is_sorted_ascending_optimized([3, 2, 1]))     # False"
   ]
  },
  {
   "cell_type": "markdown",
   "id": "3a6b9635-e779-4015-8c0a-877462fe95b2",
   "metadata": {},
   "source": [
    "### Alternative Solution2"
   ]
  },
  {
   "cell_type": "code",
   "execution_count": 13,
   "id": "9066ebd5-2e37-48c3-93d8-89b43c1dfc83",
   "metadata": {},
   "outputs": [],
   "source": [
    "# Approach3: Compare with sorted version\n",
    "def is_sorted_ascending_compare(lst):\n",
    "    return lst == sorted(lst)"
   ]
  },
  {
   "cell_type": "code",
   "execution_count": 14,
   "id": "f7f74eda-8f87-4d87-87d9-4a97bbf2a5eb",
   "metadata": {},
   "outputs": [
    {
     "name": "stdout",
     "output_type": "stream",
     "text": [
      "True\n",
      "False\n"
     ]
    }
   ],
   "source": [
    "# Test cases\n",
    "print(is_sorted_ascending_compare([1, 2, 2, 3]))  # True\n",
    "print(is_sorted_ascending_compare([3, 2, 1]))     # False"
   ]
  },
  {
   "cell_type": "markdown",
   "id": "462318bf-672f-4468-9122-070cf70b5af5",
   "metadata": {},
   "source": [
    "## Complexity Analysis"
   ]
  },
  {
   "cell_type": "markdown",
   "id": "3ff61a2e-affa-44cc-b483-573f9dc9b166",
   "metadata": {},
   "source": [
    "Time Complexity:\n",
    "\n",
    "- O(n) → Iterate once through the list\n",
    " \n",
    "Space Complexity:\n",
    "\n",
    "- O(1) → No extra space (for loop or generator)\n",
    "- O(n) for the sorted() approach (due to copying the list)"
   ]
  },
  {
   "cell_type": "markdown",
   "id": "54ae9b22-a3fd-4d97-807c-9deb388d03b1",
   "metadata": {},
   "source": [
    "#### Thank You!!"
   ]
  }
 ],
 "metadata": {
  "kernelspec": {
   "display_name": "Python 3 (ipykernel)",
   "language": "python",
   "name": "python3"
  },
  "language_info": {
   "codemirror_mode": {
    "name": "ipython",
    "version": 3
   },
   "file_extension": ".py",
   "mimetype": "text/x-python",
   "name": "python",
   "nbconvert_exporter": "python",
   "pygments_lexer": "ipython3",
   "version": "3.8.10"
  }
 },
 "nbformat": 4,
 "nbformat_minor": 5
}
