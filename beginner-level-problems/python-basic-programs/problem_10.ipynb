{
 "cells": [
  {
   "cell_type": "markdown",
   "id": "8a36d3b1-1a8d-478e-8060-6477472e6bd4",
   "metadata": {},
   "source": [
    "# **Problem Statement**  \n",
    "## **9. Write a program to check if a number is an Armstrong number**"
   ]
  },
  {
   "cell_type": "markdown",
   "id": "12b96244-784f-44f1-b72a-e69e054e8b67",
   "metadata": {},
   "source": [
    "A Armstrong number (also known as a Narcissistic number) is a number that is equal to the sum of its digits raised to the power of the number of digits.\n",
    "\n",
    "For a number with n digits:\n",
    "\n",
    "\\text{Armstrong Condition: } \\text{sum(d_i^n)} = \\text{number itself}\n",
    "Where:\n",
    "\n",
    "    - d_i is each digit of the number.\n",
    "    - n is the total number of digits.\n",
    "\n",
    "---\n",
    "Example 1 : \n",
    "num = 153\n",
    "\n",
    "Output:\n",
    "True\n",
    "\n",
    "---\n",
    "Example 2 : \n",
    "num = 9474\n",
    "\n",
    "Output:\n",
    "True\n",
    "\n",
    "---\n",
    "Example 3 : \n",
    "num = 9475\n",
    "\n",
    "Output:\n",
    "False\n",
    "\n",
    "---\n",
    "Example 4 : \n",
    "num = 1\n",
    "\n",
    "Output:\n",
    "True\n",
    "\n",
    "---\n",
    "Example 5 : \n",
    "num = 0\n",
    "\n",
    "Output:\n",
    "True\n",
    "\n",
    "---"
   ]
  },
  {
   "cell_type": "markdown",
   "id": "b68e7cad-ea42-4bb3-a20e-a91cba6d7424",
   "metadata": {},
   "source": [
    "### Solution Approach"
   ]
  },
  {
   "cell_type": "raw",
   "id": "2f9700cf-09da-4897-a165-31556d7f0a37",
   "metadata": {},
   "source": [
    "Step 1: Take the number as input.\n",
    "\n",
    "Step 2: Convert the number to a string to extract individual digits.\n",
    "\n",
    "Step 3: Get the number of digits n using len().\n",
    "\n",
    "Step 4: Compute the sum of each digit raised to the power of n.\n",
    "\n",
    "Step 5: Compare the sum with the original number.\n",
    "\n",
    "Step 6: Return True if the number matches the Armstrong condition, otherwise return False."
   ]
  },
  {
   "cell_type": "markdown",
   "id": "be931aed-e6ac-4398-a9cc-cd43c98ed91b",
   "metadata": {},
   "source": [
    "### Solution Code"
   ]
  },
  {
   "cell_type": "code",
   "execution_count": 1,
   "id": "57cab10a-c58c-459b-b504-16dc7ee1d0ac",
   "metadata": {},
   "outputs": [],
   "source": [
    "# Approach 1: Brute Force Approach: Using Loop and if Condition\n",
    "def is_armstrong_brute(num):\n",
    "    # Step 1: Convert number to string\n",
    "    digits = str(num)\n",
    "    \n",
    "    # Step 2: Get the number of digits\n",
    "    n = len(digits)\n",
    "    \n",
    "    # Step 3: Calculate sum of digits raised to the power n\n",
    "    armstrong_sum = 0\n",
    "    for digit in digits:\n",
    "        armstrong_sum += int(digit) ** n\n",
    "    \n",
    "    # Step 4: Check Armstrong condition\n",
    "    return armstrong_sum == num\n"
   ]
  },
  {
   "cell_type": "code",
   "execution_count": 2,
   "id": "c6b73b1c-518d-4265-925c-8c271c2045f7",
   "metadata": {},
   "outputs": [
    {
     "name": "stdout",
     "output_type": "stream",
     "text": [
      "True\n",
      "True\n",
      "False\n",
      "True\n",
      "True\n"
     ]
    }
   ],
   "source": [
    "# Example usage\n",
    "print(is_armstrong_brute(153))   # Output: True\n",
    "print(is_armstrong_brute(9474))  # Output: True\n",
    "print(is_armstrong_brute(9475))  # Output: False\n",
    "print(is_armstrong_brute(1))     # Output: True\n",
    "print(is_armstrong_brute(0))     # Output: True"
   ]
  },
  {
   "cell_type": "markdown",
   "id": "9febed86-bc77-49f3-aa50-7adfe033688a",
   "metadata": {},
   "source": [
    "### Alternative Solution1"
   ]
  },
  {
   "cell_type": "code",
   "execution_count": 3,
   "id": "0efc9774-33f6-41e2-8cd0-7cbeae985cfe",
   "metadata": {},
   "outputs": [],
   "source": [
    "# Approach 2: Optimized Approach: Using List Comprehension\n",
    "def is_armstrong_optimized(num):\n",
    "    # Step 1: Convert number to string and get digit count\n",
    "    digits = str(num)\n",
    "    n = len(digits)\n",
    "    \n",
    "    # Step 2: Use list comprehension to calculate sum of powers\n",
    "    armstrong_sum = sum(int(digit) ** n for digit in digits)\n",
    "    \n",
    "    # Step 3: Compare with the original number\n",
    "    return armstrong_sum == num\n"
   ]
  },
  {
   "cell_type": "code",
   "execution_count": 4,
   "id": "705534f5-d328-4908-a080-2c38b82af4f6",
   "metadata": {},
   "outputs": [
    {
     "name": "stdout",
     "output_type": "stream",
     "text": [
      "True\n",
      "True\n",
      "False\n",
      "True\n",
      "True\n"
     ]
    }
   ],
   "source": [
    "# Example usage\n",
    "print(is_armstrong_brute(153))   # Output: True\n",
    "print(is_armstrong_brute(9474))  # Output: True\n",
    "print(is_armstrong_brute(9475))  # Output: False\n",
    "print(is_armstrong_brute(1))     # Output: True\n",
    "print(is_armstrong_brute(0))     # Output: True"
   ]
  },
  {
   "cell_type": "markdown",
   "id": "1aeabfad-84e0-407e-befb-3509b3898bc7",
   "metadata": {},
   "source": [
    "### Alternative Solution2"
   ]
  },
  {
   "cell_type": "code",
   "execution_count": 5,
   "id": "9de74242-bb2f-4f55-9150-9891adaab5bd",
   "metadata": {},
   "outputs": [],
   "source": [
    "# Using map() and sum()\n",
    "def is_armstrong_map(num):\n",
    "    digits = str(num)\n",
    "    n = len(digits)\n",
    "    \n",
    "    # Use map and sum to calculate the sum of powers\n",
    "    armstrong_sum = sum(map(lambda x: int(x) ** n, digits))\n",
    "    \n",
    "    return armstrong_sum == num"
   ]
  },
  {
   "cell_type": "code",
   "execution_count": 6,
   "id": "7e42962a-1f7f-4fd6-ae09-3f5df9d5c637",
   "metadata": {},
   "outputs": [
    {
     "name": "stdout",
     "output_type": "stream",
     "text": [
      "True\n",
      "True\n",
      "False\n",
      "True\n",
      "True\n"
     ]
    }
   ],
   "source": [
    "# Example usage\n",
    "print(is_armstrong_map(153))   # Output: True\n",
    "print(is_armstrong_map(9474))  # Output: True\n",
    "print(is_armstrong_map(9475))  # Output: False\n",
    "print(is_armstrong_map(1))     # Output: True\n",
    "print(is_armstrong_map(0))     # Output: True"
   ]
  },
  {
   "cell_type": "markdown",
   "id": "462318bf-672f-4468-9122-070cf70b5af5",
   "metadata": {},
   "source": [
    "## Complexity Analysis"
   ]
  },
  {
   "cell_type": "markdown",
   "id": "3ff61a2e-affa-44cc-b483-573f9dc9b166",
   "metadata": {},
   "source": [
    "Time Complexity:\n",
    "\n",
    "    - Brute Force (Loop): O(n), iterates through the digits of the number.\n",
    "    - Optimized (List Comprehension): O(n), iterates through the digits and performs exponentiation.\n",
    "    - Alternative (Map + Sum): O(n), applies the power operation and sums up results.\n",
    "\n",
    "Space Complexity:\n",
    "\n",
    "    - Brute Force (Loop): O(1), only uses a counter.\n",
    "    - Optimized (List Comprehension): O(1), intermediate results stored temporarily.\n",
    "    - Alternative (Map + Sum): O(1), stores results temporarily during computation."
   ]
  },
  {
   "cell_type": "markdown",
   "id": "54ae9b22-a3fd-4d97-807c-9deb388d03b1",
   "metadata": {},
   "source": [
    "#### Thank You!!"
   ]
  }
 ],
 "metadata": {
  "kernelspec": {
   "display_name": "Python 3 (ipykernel)",
   "language": "python",
   "name": "python3"
  },
  "language_info": {
   "codemirror_mode": {
    "name": "ipython",
    "version": 3
   },
   "file_extension": ".py",
   "mimetype": "text/x-python",
   "name": "python",
   "nbconvert_exporter": "python",
   "pygments_lexer": "ipython3",
   "version": "3.8.10"
  }
 },
 "nbformat": 4,
 "nbformat_minor": 5
}
