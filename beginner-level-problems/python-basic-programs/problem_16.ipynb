{
 "cells": [
  {
   "cell_type": "markdown",
   "id": "8a36d3b1-1a8d-478e-8060-6477472e6bd4",
   "metadata": {},
   "source": [
    "# **Problem Statement**  \n",
    "## **16. Write a function to calculate the sum of digits of a number**"
   ]
  },
  {
   "cell_type": "markdown",
   "id": "12b96244-784f-44f1-b72a-e69e054e8b67",
   "metadata": {
    "jp-MarkdownHeadingCollapsed": true
   },
   "source": [
    "### Identify Constraints & Example Inputs/Outputs\n",
    "\n",
    "The sum of digits of a number is the sum of all its individual digits.\n",
    "For example, 123 → 1 + 2 + 3 = 6\n",
    "\n",
    "Constraints:\n",
    "- The number should be non-negative.\n",
    "- Input can be an integer.\n",
    "- The function should handle single-digit and multi-digit numbers.\n",
    "\n",
    "---\n",
    "Example1 : \n",
    "num1 = 123\n",
    "\n",
    "Output:\n",
    "6\n",
    "\n",
    "---\n",
    "Example2 : \n",
    "num1 = 456\n",
    "\n",
    "Output:\n",
    "15\n",
    "\n",
    "---\n",
    "Example3 : \n",
    "num1 = 9\n",
    "\n",
    "Output:\n",
    "9\n",
    "\n",
    "---\n",
    "Example4 : \n",
    "num1 = 1002\n",
    "\n",
    "Output:\n",
    "3\n"
   ]
  },
  {
   "cell_type": "markdown",
   "id": "b68e7cad-ea42-4bb3-a20e-a91cba6d7424",
   "metadata": {},
   "source": [
    "### Solution Approach"
   ]
  },
  {
   "cell_type": "markdown",
   "id": "144b599f-addb-4686-8425-1f6e6f862acd",
   "metadata": {},
   "source": [
    "Step 1: Extract each digit from the number.\n",
    "\n",
    "Step 2: Add up all the digits.\n",
    "\n",
    "Step 3: Return the sum as the output.\n",
    "\n",
    "There are multiple ways to extract the digits:\n",
    "\n",
    "- Using a loop (Extract last digit using modulus % and remove it using //).\n",
    "- Using string conversion (Convert to string and sum digits).\n",
    "- Using recursion (Break the number down recursively)."
   ]
  },
  {
   "cell_type": "markdown",
   "id": "be931aed-e6ac-4398-a9cc-cd43c98ed91b",
   "metadata": {},
   "source": [
    "### Solution Code"
   ]
  },
  {
   "cell_type": "code",
   "execution_count": 1,
   "id": "57cab10a-c58c-459b-b504-16dc7ee1d0ac",
   "metadata": {},
   "outputs": [],
   "source": [
    "# Approach 1: Brute Force Approach: Using Loop\n",
    "def sum_of_digits(n):\n",
    "    total = 0\n",
    "    while n > 0:\n",
    "        total += n % 10 #Extract last digit\n",
    "        n //= 10 #Remove last digit\n",
    "    return total"
   ]
  },
  {
   "cell_type": "code",
   "execution_count": 10,
   "id": "c6b73b1c-518d-4265-925c-8c271c2045f7",
   "metadata": {},
   "outputs": [
    {
     "name": "stdout",
     "output_type": "stream",
     "text": [
      "2\n",
      "7\n",
      "13\n",
      "15\n",
      "23\n"
     ]
    }
   ],
   "source": [
    "# Example usage\n",
    "print(sum_of_digits(101))  # Output: 2\n",
    "print(sum_of_digits(151))  # Output: 7\n",
    "print(sum_of_digits(292))  # Output: 13\n",
    "print(sum_of_digits(564))  # Output: 15\n",
    "print(sum_of_digits(6557)) # Output: 23"
   ]
  },
  {
   "cell_type": "markdown",
   "id": "9febed86-bc77-49f3-aa50-7adfe033688a",
   "metadata": {},
   "source": [
    "### Alternative Solution1"
   ]
  },
  {
   "cell_type": "code",
   "execution_count": 11,
   "id": "0efc9774-33f6-41e2-8cd0-7cbeae985cfe",
   "metadata": {},
   "outputs": [],
   "source": [
    "# Approach 2: Optimized Approach: Using String Conversion\n",
    "def sum_of_digits_optimized(n):\n",
    "    return sum(int(digit) for digit in str(n))"
   ]
  },
  {
   "cell_type": "code",
   "execution_count": 13,
   "id": "705534f5-d328-4908-a080-2c38b82af4f6",
   "metadata": {},
   "outputs": [
    {
     "name": "stdout",
     "output_type": "stream",
     "text": [
      "2\n",
      "7\n",
      "13\n",
      "15\n",
      "23\n"
     ]
    }
   ],
   "source": [
    "# Example usage\n",
    "print(sum_of_digits_optimized(101))  # Output: 2\n",
    "print(sum_of_digits_optimized(151))  # Output: 7\n",
    "print(sum_of_digits_optimized(292))  # Output: 13\n",
    "print(sum_of_digits_optimized(564))  # Output: 15\n",
    "print(sum_of_digits_optimized(6557)) # Output: 23"
   ]
  },
  {
   "cell_type": "markdown",
   "id": "3a6b9635-e779-4015-8c0a-877462fe95b2",
   "metadata": {},
   "source": [
    "### Alternative Solution2"
   ]
  },
  {
   "cell_type": "code",
   "execution_count": 18,
   "id": "9066ebd5-2e37-48c3-93d8-89b43c1dfc83",
   "metadata": {},
   "outputs": [],
   "source": [
    "# Approach 3: Using Recursion\n",
    "def sum_of_digits_recursive(n):\n",
    "    if n == 0:\n",
    "        return 0\n",
    "    return (n % 10) + sum_of_digits_recursive(n // 10)"
   ]
  },
  {
   "cell_type": "code",
   "execution_count": 19,
   "id": "f7f74eda-8f87-4d87-87d9-4a97bbf2a5eb",
   "metadata": {},
   "outputs": [
    {
     "name": "stdout",
     "output_type": "stream",
     "text": [
      "2\n",
      "7\n",
      "13\n",
      "15\n",
      "23\n"
     ]
    }
   ],
   "source": [
    "# Example usage\n",
    "print(sum_of_digits_recursive(101))  # Output: 2\n",
    "print(sum_of_digits_recursive(151))  # Output: 7\n",
    "print(sum_of_digits_recursive(292))  # Output: 13\n",
    "print(sum_of_digits_recursive(564))  # Output: 15\n",
    "print(sum_of_digits_recursive(6557)) # Output: 23"
   ]
  },
  {
   "cell_type": "markdown",
   "id": "462318bf-672f-4468-9122-070cf70b5af5",
   "metadata": {},
   "source": [
    "## Complexity Analysis"
   ]
  },
  {
   "cell_type": "markdown",
   "id": "3ff61a2e-affa-44cc-b483-573f9dc9b166",
   "metadata": {},
   "source": [
    "Time Complexity:\n",
    "\n",
    "- Using Loop: O(log N)\n",
    "- Using String Conversion: O(N) (N is the number of digits)\n",
    "- Using Recursion: O(log N)\n",
    " \n",
    "Space Complexity:\n",
    "\n",
    "- Using Loop: O(1) (Constant space)\n",
    "- Using String Conversion: O(N) (For storing the string representation)\n",
    "- Using Recursion: O(log N) (Recursive call stack)\n"
   ]
  },
  {
   "cell_type": "markdown",
   "id": "54ae9b22-a3fd-4d97-807c-9deb388d03b1",
   "metadata": {},
   "source": [
    "#### Thank You!!"
   ]
  }
 ],
 "metadata": {
  "kernelspec": {
   "display_name": "Python 3 (ipykernel)",
   "language": "python",
   "name": "python3"
  },
  "language_info": {
   "codemirror_mode": {
    "name": "ipython",
    "version": 3
   },
   "file_extension": ".py",
   "mimetype": "text/x-python",
   "name": "python",
   "nbconvert_exporter": "python",
   "pygments_lexer": "ipython3",
   "version": "3.8.10"
  }
 },
 "nbformat": 4,
 "nbformat_minor": 5
}
