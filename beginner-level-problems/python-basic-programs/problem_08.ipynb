{
 "cells": [
  {
   "cell_type": "markdown",
   "id": "8a36d3b1-1a8d-478e-8060-6477472e6bd4",
   "metadata": {},
   "source": [
    "# **Problem Statement**  \n",
    "## **08. Write a function to reverse a string**"
   ]
  },
  {
   "cell_type": "markdown",
   "id": "7da39a24-4530-4c15-845e-f62047fe396f",
   "metadata": {},
   "source": [
    "###Identify Constraints & Example Inputs/Outputs\n",
    "\n",
    "Input: A string s that needs to be reversed.\n",
    "\n",
    "Output: A new string with the characters of s in reverse order.\n",
    "\n",
    "Constraints:\n",
    "\n",
    "    - The input string can contain alphabets, digits, and special characters.\n",
    "    - An empty string should return an empty string.\n",
    "    - String length can vary, but should not exceed typical memory limits.\n",
    "\n",
    "---\n",
    "Example 1\n",
    "s = \"hello\"\n",
    "\n",
    "Output:\n",
    "\"olleh\"\n",
    "\n",
    "---\n",
    "Example 2\n",
    "s = \"12345\"\n",
    "\n",
    "Output:\n",
    "\"54321\"\n",
    "\n",
    "---\n",
    "Example 3\n",
    "s = \"!@#\"\n",
    "\n",
    "Output:\n",
    "\"#@!\"\n",
    "\n",
    "---\n",
    "Example 4\n",
    "s = \"\"\n",
    "\n",
    "Output:\n",
    "\n",
    "---"
   ]
  },
  {
   "cell_type": "markdown",
   "id": "b68e7cad-ea42-4bb3-a20e-a91cba6d7424",
   "metadata": {},
   "source": [
    "### Solution Approach"
   ]
  },
  {
   "cell_type": "markdown",
   "id": "24fe186a-1f13-460b-8ff9-9dd8fe2b7ec5",
   "metadata": {},
   "source": [
    "Step 1: Check if the string is empty. Return an empty string if true.\n",
    "\n",
    "Step 2: Use a loop or built-in method to reverse the string.\n",
    "\n",
    "Step 3: Return the reversed string."
   ]
  },
  {
   "cell_type": "markdown",
   "id": "be931aed-e6ac-4398-a9cc-cd43c98ed91b",
   "metadata": {},
   "source": [
    "### Solution Code"
   ]
  },
  {
   "cell_type": "code",
   "execution_count": 1,
   "id": "57cab10a-c58c-459b-b504-16dc7ee1d0ac",
   "metadata": {},
   "outputs": [],
   "source": [
    "# Approach 1: Brute Force Approach: Using Loop\n",
    "def reverse_string_brute(s):\n",
    "    # Step 1: Handle edge case for empty string\n",
    "    if len(s) == 0:\n",
    "        return \"\"\n",
    "    \n",
    "    # Step 2: Initialize an empty result string\n",
    "    result = \"\"\n",
    "    \n",
    "    # Step 3: Loop through the string in reverse order\n",
    "    for char in s[::-1]:\n",
    "        result += char\n",
    "    \n",
    "    # Step 4: Return the reversed string\n",
    "    return result"
   ]
  },
  {
   "cell_type": "code",
   "execution_count": 3,
   "id": "c6b73b1c-518d-4265-925c-8c271c2045f7",
   "metadata": {},
   "outputs": [
    {
     "name": "stdout",
     "output_type": "stream",
     "text": [
      "olleh\n"
     ]
    }
   ],
   "source": [
    "# Example usage\n",
    "print(reverse_string_brute(\"hello\"))  # Output: \"olleh\""
   ]
  },
  {
   "cell_type": "markdown",
   "id": "9febed86-bc77-49f3-aa50-7adfe033688a",
   "metadata": {},
   "source": [
    "### Alternative Solution1"
   ]
  },
  {
   "cell_type": "code",
   "execution_count": 4,
   "id": "0efc9774-33f6-41e2-8cd0-7cbeae985cfe",
   "metadata": {},
   "outputs": [],
   "source": [
    "# Approach 2: Optimized Approach: Using Python Slicing\n",
    "def reverse_string_optimized(s):\n",
    "    # Step 1: Use Python slicing to reverse the string\n",
    "    return s[::-1]"
   ]
  },
  {
   "cell_type": "code",
   "execution_count": 5,
   "id": "705534f5-d328-4908-a080-2c38b82af4f6",
   "metadata": {},
   "outputs": [
    {
     "name": "stdout",
     "output_type": "stream",
     "text": [
      "ognam\n"
     ]
    }
   ],
   "source": [
    "# Example usage\n",
    "print(reverse_string_optimized(\"mango\"))  # Output: \"ognam\""
   ]
  },
  {
   "cell_type": "markdown",
   "id": "1aeabfad-84e0-407e-befb-3509b3898bc7",
   "metadata": {},
   "source": [
    "### Alternative Solution2"
   ]
  },
  {
   "cell_type": "code",
   "execution_count": 10,
   "id": "9de74242-bb2f-4f55-9150-9891adaab5bd",
   "metadata": {},
   "outputs": [],
   "source": [
    "# Using Built-in reversed() and join()\n",
    "def reverse_string_builtin(s):\n",
    "    return \"\".join(reversed(s))"
   ]
  },
  {
   "cell_type": "code",
   "execution_count": 11,
   "id": "7e42962a-1f7f-4fd6-ae09-3f5df9d5c637",
   "metadata": {},
   "outputs": [
    {
     "name": "stdout",
     "output_type": "stream",
     "text": [
      "ognam\n"
     ]
    }
   ],
   "source": [
    "# Example usage\n",
    "print(reverse_string_builtin(\"mango\"))  # Output: \"ognam\""
   ]
  },
  {
   "cell_type": "markdown",
   "id": "462318bf-672f-4468-9122-070cf70b5af5",
   "metadata": {},
   "source": [
    "## Complexity Analysis"
   ]
  },
  {
   "cell_type": "markdown",
   "id": "a51e6573-8673-4016-a14c-c2dd421437dd",
   "metadata": {},
   "source": [
    "Time Complexity:\n",
    "\n",
    "    - Brute Force (Loop): O(n), iterates through the string once.\n",
    "    - Optimized (Slicing): O(n), uses slicing to create a reversed string.\n",
    "    - Built-in Approach: O(n), uses reversed() and join() to iterate and combine characters.\n",
    "\n",
    "Space Complexity:\n",
    "\n",
    "    - Brute Force (Loop): O(n), creates a new string.\n",
    "    - Optimized (Slicing): O(n), stores the reversed string.\n",
    "    - Built-in Approach: O(n), stores intermediate reversed object and final string."
   ]
  },
  {
   "cell_type": "markdown",
   "id": "54ae9b22-a3fd-4d97-807c-9deb388d03b1",
   "metadata": {},
   "source": [
    "#### Thank You!!"
   ]
  }
 ],
 "metadata": {
  "kernelspec": {
   "display_name": "Python 3 (ipykernel)",
   "language": "python",
   "name": "python3"
  },
  "language_info": {
   "codemirror_mode": {
    "name": "ipython",
    "version": 3
   },
   "file_extension": ".py",
   "mimetype": "text/x-python",
   "name": "python",
   "nbconvert_exporter": "python",
   "pygments_lexer": "ipython3",
   "version": "3.8.10"
  }
 },
 "nbformat": 4,
 "nbformat_minor": 5
}
