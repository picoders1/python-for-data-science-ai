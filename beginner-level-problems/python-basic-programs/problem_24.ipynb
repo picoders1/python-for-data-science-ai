{
 "cells": [
  {
   "cell_type": "markdown",
   "id": "8a36d3b1-1a8d-478e-8060-6477472e6bd4",
   "metadata": {},
   "source": [
    "# **Problem Statement**  \n",
    "## **24. Write a Python function to merge two sorted lists into a single sorted list**"
   ]
  },
  {
   "cell_type": "markdown",
   "id": "12b96244-784f-44f1-b72a-e69e054e8b67",
   "metadata": {},
   "source": [
    "### Identify Constraints & Example Inputs/Outputs\n",
    "\n",
    "Constraints:\n",
    "\n",
    "- Both input lists are already sorted in ascending order.\n",
    "- You must not use built-in sort() or sorted() on the final merged list.\n",
    "- The output should also be sorted in ascending order.\n",
    "- Lists may contain duplicate values and can be of different lengths.\n",
    "\n",
    "---\n",
    "Example1 : Input: [1, 3, 5], [2, 4, 6]\n",
    "\n",
    "Output: [1, 2, 3, 4, 5, 6]\n",
    "\n",
    "---\n",
    "Example2 : Input: [1, 2, 5], [2, 3, 4] \n",
    "\n",
    "Output: [1, 2, 2, 3, 4, 5] \n",
    "\n",
    "---\n",
    "Example3 : Input: [], [1, 2, 3]  \n",
    "\n",
    "Output: [1, 2, 3]\n",
    "\n",
    "---"
   ]
  },
  {
   "cell_type": "markdown",
   "id": "b68e7cad-ea42-4bb3-a20e-a91cba6d7424",
   "metadata": {},
   "source": [
    "### Solution Approach"
   ]
  },
  {
   "cell_type": "markdown",
   "id": "144b599f-addb-4686-8425-1f6e6f862acd",
   "metadata": {},
   "source": [
    "Step1: We’re given two sorted lists.\n",
    "\n",
    "Step2: We can merge them using a two-pointer approach.\n",
    "\n",
    "Step3: Start pointers at the beginning of both lists.\n",
    "\n",
    "Step4: Compare current elements and append the smaller one to the result list.\n",
    "\n",
    "Step5: Move the pointer forward for the list from which the element was taken.\n",
    "\n",
    "Step6: After one list is exhausted, add remaining elements of the other list."
   ]
  },
  {
   "cell_type": "markdown",
   "id": "be931aed-e6ac-4398-a9cc-cd43c98ed91b",
   "metadata": {},
   "source": [
    "### Solution Code"
   ]
  },
  {
   "cell_type": "code",
   "execution_count": 1,
   "id": "57cab10a-c58c-459b-b504-16dc7ee1d0ac",
   "metadata": {},
   "outputs": [],
   "source": [
    "# Approach1: Brute Force Approach: Concatenate & Sort\n",
    "def merge_sorted_lists_brute_force(list1, list2):\n",
    "    merged = list1 + list2\n",
    "    # Avoiding sort() as per constraint; simulating with manual bubble sort\n",
    "    for i in range(len(merged)):\n",
    "        for j in range(len(merged)-i-1):\n",
    "            if merged[j] > merged[j+1]:\n",
    "                merged[j], merged[j+1] = merged[j+1], merged[j]\n",
    "    return merged"
   ]
  },
  {
   "cell_type": "code",
   "execution_count": 2,
   "id": "c6b73b1c-518d-4265-925c-8c271c2045f7",
   "metadata": {},
   "outputs": [
    {
     "name": "stdout",
     "output_type": "stream",
     "text": [
      "[1, 2, 3, 4, 5, 6]\n",
      "[1, 2, 2, 3, 4, 5]\n"
     ]
    }
   ],
   "source": [
    "# Test cases\n",
    "print(merge_sorted_lists_brute_force([1, 3, 5], [2, 4, 6]))\n",
    "print(merge_sorted_lists_brute_force([1, 2, 5], [2, 3, 4]))"
   ]
  },
  {
   "cell_type": "markdown",
   "id": "9febed86-bc77-49f3-aa50-7adfe033688a",
   "metadata": {},
   "source": [
    "### Alternative Solution1"
   ]
  },
  {
   "cell_type": "code",
   "execution_count": 3,
   "id": "0efc9774-33f6-41e2-8cd0-7cbeae985cfe",
   "metadata": {},
   "outputs": [],
   "source": [
    "# Approach2: Optimized Approach: Linear Time Merge\n",
    "def merge_sorted_lists(list1, list2):\n",
    "    i = j = 0\n",
    "    merged = []\n",
    "\n",
    "    while i < len(list1) and j < len(list2):\n",
    "        if list1[i] < list2[j]:\n",
    "            merged.append(list1[i])\n",
    "            i += 1\n",
    "        else:\n",
    "            merged.append(list2[j])\n",
    "            j += 1\n",
    "\n",
    "    # Append remaining elements\n",
    "    merged.extend(list1[i:])\n",
    "    merged.extend(list2[j:])\n",
    "    return merged"
   ]
  },
  {
   "cell_type": "code",
   "execution_count": 4,
   "id": "705534f5-d328-4908-a080-2c38b82af4f6",
   "metadata": {},
   "outputs": [
    {
     "name": "stdout",
     "output_type": "stream",
     "text": [
      "[1, 2, 3, 4, 5, 6]\n",
      "[1, 2, 2, 3, 4, 5]\n"
     ]
    }
   ],
   "source": [
    "# Test cases\n",
    "print(merge_sorted_lists([1, 3, 5], [2, 4, 6]))\n",
    "print(merge_sorted_lists([1, 2, 5], [2, 3, 4]))"
   ]
  },
  {
   "cell_type": "markdown",
   "id": "3a6b9635-e779-4015-8c0a-877462fe95b2",
   "metadata": {},
   "source": [
    "### Alternative Approaches"
   ]
  },
  {
   "cell_type": "markdown",
   "id": "968bd322-70ef-4723-860d-4384496718b9",
   "metadata": {},
   "source": [
    "- Heap-based approach using heapq.merge() (if built-in modules allowed).\n",
    "- Recursive approach (less efficient but educational)."
   ]
  },
  {
   "cell_type": "markdown",
   "id": "462318bf-672f-4468-9122-070cf70b5af5",
   "metadata": {},
   "source": [
    "## Complexity Analysis"
   ]
  },
  {
   "cell_type": "markdown",
   "id": "3ff61a2e-affa-44cc-b483-573f9dc9b166",
   "metadata": {},
   "source": [
    "Time Complexity:\n",
    "\n",
    "- Brute Force: O((n + m)²) due to manual sort\n",
    "- Optimized Two-Pointer: O(n + m)\n",
    " \n",
    "Space Complexity:\n",
    "\n",
    "- Both Approaches: O(n + m) for the final merged list"
   ]
  },
  {
   "cell_type": "markdown",
   "id": "54ae9b22-a3fd-4d97-807c-9deb388d03b1",
   "metadata": {},
   "source": [
    "#### Thank You!!"
   ]
  }
 ],
 "metadata": {
  "kernelspec": {
   "display_name": "Python 3 (ipykernel)",
   "language": "python",
   "name": "python3"
  },
  "language_info": {
   "codemirror_mode": {
    "name": "ipython",
    "version": 3
   },
   "file_extension": ".py",
   "mimetype": "text/x-python",
   "name": "python",
   "nbconvert_exporter": "python",
   "pygments_lexer": "ipython3",
   "version": "3.8.10"
  }
 },
 "nbformat": 4,
 "nbformat_minor": 5
}
