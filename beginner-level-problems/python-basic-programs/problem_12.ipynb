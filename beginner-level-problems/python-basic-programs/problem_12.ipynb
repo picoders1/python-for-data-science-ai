{
 "cells": [
  {
   "cell_type": "markdown",
   "id": "8a36d3b1-1a8d-478e-8060-6477472e6bd4",
   "metadata": {},
   "source": [
    "# **Problem Statement**  \n",
    "## **12. Write a Python program to find the LCM (Least Common Multiple) of two numbers**"
   ]
  },
  {
   "cell_type": "markdown",
   "id": "12b96244-784f-44f1-b72a-e69e054e8b67",
   "metadata": {
    "jp-MarkdownHeadingCollapsed": true
   },
   "source": [
    "### Identify Constraints & Example Inputs/Outputs\n",
    "\n",
    "The Least Common Multiple (LCM) of two numbers is the smallest positive integer that is divisible by both numbers.\n",
    "\n",
    "---\n",
    "Example 1 : \n",
    "num1 = 12, num2 = 18\n",
    "\n",
    "Output:\n",
    "36\n",
    "\n",
    "---\n",
    "Example 2 : \n",
    "num1 = 48, num2 = 18\n",
    "\n",
    "Output:\n",
    "144\n",
    "\n",
    "---\n",
    "Example 1 : \n",
    "num1 = 101, num2 = 103\n",
    "\n",
    "Output:\n",
    "10403\n",
    "\n",
    "---\n",
    "Example 1 : \n",
    "num1 = 24, num2 = 36\n",
    "\n",
    "Output:\n",
    "72\n",
    "\n",
    "---\n",
    "Example 1 : \n",
    "num1 = 8, num2 = 0\n",
    "\n",
    "Output:\n",
    "0\n",
    "\n",
    "---"
   ]
  },
  {
   "cell_type": "markdown",
   "id": "b68e7cad-ea42-4bb3-a20e-a91cba6d7424",
   "metadata": {},
   "source": [
    "### Solution Approach"
   ]
  },
  {
   "cell_type": "markdown",
   "id": "144b599f-addb-4686-8425-1f6e6f862acd",
   "metadata": {},
   "source": [
    "Step 1: Take two numbers as input.\n",
    "\n",
    "Step 2: Handle edge cases where one number is zero. LCM of zero with any number is zero.\n",
    "\n",
    "Step 3: Use the formula to calculate LCM:\n",
    "\n",
    "- LCM Formula:\n",
    "\n",
    "    LCM(a,b) = GCD(a,b) / ∣a×b∣\n",
    "\n",
    "Step 4: Return the LCM of the two numbers."
   ]
  },
  {
   "cell_type": "markdown",
   "id": "be931aed-e6ac-4398-a9cc-cd43c98ed91b",
   "metadata": {},
   "source": [
    "### Solution Code"
   ]
  },
  {
   "cell_type": "code",
   "execution_count": 1,
   "id": "57cab10a-c58c-459b-b504-16dc7ee1d0ac",
   "metadata": {},
   "outputs": [],
   "source": [
    "# Approach 1: Brute Force Approach: Using Loop to Check Multiples\n",
    "def lcm_brute(num1, num2):\n",
    "    # Step 1: Handle edge cases where one number is zero\n",
    "    if num1 == 0 or num2 == 0:\n",
    "        return 0\n",
    "    \n",
    "    # Step 2: Get the maximum of the two numbers\n",
    "    max_num = max(num1, num2)\n",
    "    \n",
    "    # Step 3: Check multiples of the larger number\n",
    "    while True:\n",
    "        if max_num % num1 == 0 and max_num % num2 == 0:\n",
    "            return max_num\n",
    "        max_num += 1"
   ]
  },
  {
   "cell_type": "code",
   "execution_count": 2,
   "id": "c6b73b1c-518d-4265-925c-8c271c2045f7",
   "metadata": {},
   "outputs": [
    {
     "name": "stdout",
     "output_type": "stream",
     "text": [
      "36\n",
      "144\n",
      "10403\n",
      "72\n",
      "0\n"
     ]
    }
   ],
   "source": [
    "# Example usage\n",
    "print(lcm_brute(12, 18))  # Output: 36\n",
    "print(lcm_brute(48, 18))  # Output: 144\n",
    "print(lcm_brute(101, 103))  # Output: 10403\n",
    "print(lcm_brute(24, 36))  # Output: 72\n",
    "print(lcm_brute(8, 0))  # Output: 0"
   ]
  },
  {
   "cell_type": "markdown",
   "id": "9febed86-bc77-49f3-aa50-7adfe033688a",
   "metadata": {},
   "source": [
    "### Alternative Solution1"
   ]
  },
  {
   "cell_type": "code",
   "execution_count": 20,
   "id": "0efc9774-33f6-41e2-8cd0-7cbeae985cfe",
   "metadata": {},
   "outputs": [],
   "source": [
    "# Approach 2: Optimized Approach: Using GCD and Formula\n",
    "import math\n",
    "def lcm_optimized(num1, num2):\n",
    "    # Step 1: Handle edge case when one number is zero\n",
    "    if num1 == 0 or num2 == 0:\n",
    "        return 0\n",
    "    \n",
    "    # Step 2: Use GCD to calculate LCM\n",
    "    gcd_value = math.gcd(num1, num2)\n",
    "    lcm_value = abs(num1 * num2) // gcd_value\n",
    "    \n",
    "    # Step 3: Return the LCM\n",
    "    return lcm_value"
   ]
  },
  {
   "cell_type": "code",
   "execution_count": 21,
   "id": "705534f5-d328-4908-a080-2c38b82af4f6",
   "metadata": {},
   "outputs": [
    {
     "name": "stdout",
     "output_type": "stream",
     "text": [
      "36\n",
      "144\n",
      "10403\n",
      "72\n",
      "0\n"
     ]
    }
   ],
   "source": [
    "# Example usage\n",
    "print(lcm_optimized(12, 18))  # Output: 36\n",
    "print(lcm_optimized(48, 18))  # Output: 144\n",
    "print(lcm_optimized(101, 103))  # Output: 10403\n",
    "print(lcm_optimized(24, 36))  # Output: 72\n",
    "print(lcm_optimized(8, 0))  # Output: 0"
   ]
  },
  {
   "cell_type": "markdown",
   "id": "3a6b9635-e779-4015-8c0a-877462fe95b2",
   "metadata": {},
   "source": [
    "### Alternative Solution2"
   ]
  },
  {
   "cell_type": "code",
   "execution_count": null,
   "id": "9066ebd5-2e37-48c3-93d8-89b43c1dfc83",
   "metadata": {},
   "outputs": [],
   "source": [
    "# Approach 3: Using math.lcm() (Python 3.9+)\n",
    "import math\n",
    "\n",
    "def lcm_math(num1, num2):\n",
    "    return math.lcm(num1, num2)\n"
   ]
  },
  {
   "cell_type": "code",
   "execution_count": null,
   "id": "f7f74eda-8f87-4d87-87d9-4a97bbf2a5eb",
   "metadata": {},
   "outputs": [],
   "source": [
    "# Example usage\n",
    "print(lcm_math(12, 18))  # Output: 36\n",
    "print(lcm_math(48, 18))  # Output: 144\n",
    "print(lcm_math(101, 103))  # Output: 10403\n",
    "print(lcm_math(24, 36))  # Output: 72\n",
    "print(lcm_math(8, 0))  # Output: 0"
   ]
  },
  {
   "cell_type": "markdown",
   "id": "462318bf-672f-4468-9122-070cf70b5af5",
   "metadata": {},
   "source": [
    "## Complexity Analysis"
   ]
  },
  {
   "cell_type": "markdown",
   "id": "3ff61a2e-affa-44cc-b483-573f9dc9b166",
   "metadata": {},
   "source": [
    "Time Complexity:\n",
    "\n",
    "- Brute Force (Loop): O(max(num1, num2))\n",
    "    - Iterates through multiples until the first common multiple is found.\n",
    "\n",
    "- Optimized (GCD Formula): O(log(min(num1, num2)))\n",
    "    - GCD computation takes logarithmic time, and multiplication and division take constant time.\n",
    "\n",
    "- Using math.lcm() (Python 3.9+): O(log(min(num1, num2)))\n",
    "    - Internally uses the GCD algorithm.\n",
    " \n",
    "Space Complexity:\n",
    "\n",
    "- Brute Force (Loop): O(1), only uses a counter.\n",
    "- Optimized (GCD Formula): O(1), only updates variables.\n",
    "- Using math.lcm(): O(1), built-in function.\n"
   ]
  },
  {
   "cell_type": "markdown",
   "id": "54ae9b22-a3fd-4d97-807c-9deb388d03b1",
   "metadata": {},
   "source": [
    "#### Thank You!!"
   ]
  }
 ],
 "metadata": {
  "kernelspec": {
   "display_name": "Python 3 (ipykernel)",
   "language": "python",
   "name": "python3"
  },
  "language_info": {
   "codemirror_mode": {
    "name": "ipython",
    "version": 3
   },
   "file_extension": ".py",
   "mimetype": "text/x-python",
   "name": "python",
   "nbconvert_exporter": "python",
   "pygments_lexer": "ipython3",
   "version": "3.8.10"
  }
 },
 "nbformat": 4,
 "nbformat_minor": 5
}
