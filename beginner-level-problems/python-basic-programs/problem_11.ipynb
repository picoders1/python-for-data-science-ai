{
 "cells": [
  {
   "cell_type": "markdown",
   "id": "8a36d3b1-1a8d-478e-8060-6477472e6bd4",
   "metadata": {},
   "source": [
    "# **Problem Statement**  \n",
    "## **11. Write a Python function to find the GCD (Greatest Common Divisor) of two numbers**"
   ]
  },
  {
   "cell_type": "markdown",
   "id": "12b96244-784f-44f1-b72a-e69e054e8b67",
   "metadata": {},
   "source": [
    "### Identify Constraints & Example Inputs/Outputs\n",
    "\n",
    "The Greatest Common Divisor (GCD) of two numbers is the largest positive integer that divides both numbers without leaving a remainder.\n",
    "\n",
    "---\n",
    "Example1 : \n",
    "num1 = 12, num2 = 18\n",
    "\n",
    "Output:\n",
    "6\n",
    "\n",
    "---\n",
    "Example2 : \n",
    "num1 = 48, num2 = 18\n",
    "\n",
    "Output:\n",
    "6\n",
    "\n",
    "---\n",
    "Example3 : \n",
    "num1 = 101, num2 = 103\n",
    "\n",
    "Output:\n",
    "1\n",
    "\n",
    "---\n",
    "Example4 : \n",
    "num1 = 24, num2 = 36\n",
    "\n",
    "Output:\n",
    "12\n",
    "\n",
    "---\n",
    "Example5 : \n",
    "num1 = 8, num2 = 0\n",
    "\n",
    "Output:\n",
    "8\n",
    "\n",
    "---"
   ]
  },
  {
   "cell_type": "markdown",
   "id": "b68e7cad-ea42-4bb3-a20e-a91cba6d7424",
   "metadata": {},
   "source": [
    "### Solution Approach"
   ]
  },
  {
   "cell_type": "markdown",
   "id": "144b599f-addb-4686-8425-1f6e6f862acd",
   "metadata": {},
   "source": [
    "Step1: Take two numbers as input.\n",
    "\n",
    "Step2: Check if either of the numbers is zero, return the other number as the GCD.\n",
    "\n",
    "Step3: Use the Euclidean algorithm to find the GCD:\n",
    "\n",
    "- Euclidean Algorithm:\n",
    "\n",
    "    - If b == 0, return a.\n",
    "    - Otherwise, update a to b and b to a % b until b becomes zero. ✅ Step 4: Return the GCD."
   ]
  },
  {
   "cell_type": "markdown",
   "id": "be931aed-e6ac-4398-a9cc-cd43c98ed91b",
   "metadata": {},
   "source": [
    "### Solution Code"
   ]
  },
  {
   "cell_type": "code",
   "execution_count": 4,
   "id": "57cab10a-c58c-459b-b504-16dc7ee1d0ac",
   "metadata": {},
   "outputs": [],
   "source": [
    "# Approach1: Brute Force Approach: Using Loop and Min Value\n",
    "def gcd_brute(num1, num2):\n",
    "    # Step 1: Get the minimum of the two numbers\n",
    "    min_num = min(num1, num2)\n",
    "    \n",
    "    # Step 2: Check from min_num down to 1\n",
    "    for i in range(min_num, 0, -1):\n",
    "        if num1 % i == 0 and num2 % i == 0:\n",
    "            return i"
   ]
  },
  {
   "cell_type": "code",
   "execution_count": 5,
   "id": "c6b73b1c-518d-4265-925c-8c271c2045f7",
   "metadata": {},
   "outputs": [
    {
     "name": "stdout",
     "output_type": "stream",
     "text": [
      "6\n",
      "6\n",
      "1\n",
      "12\n",
      "None\n"
     ]
    }
   ],
   "source": [
    "# Example usage\n",
    "print(gcd_brute(12, 18))  # Output: 6\n",
    "print(gcd_brute(48, 18))  # Output: 6\n",
    "print(gcd_brute(101, 103))  # Output: 1\n",
    "print(gcd_brute(24, 36))  # Output: 12\n",
    "print(gcd_brute(8, 0))  # Output: 8"
   ]
  },
  {
   "cell_type": "markdown",
   "id": "9febed86-bc77-49f3-aa50-7adfe033688a",
   "metadata": {},
   "source": [
    "### Alternative Solution1"
   ]
  },
  {
   "cell_type": "code",
   "execution_count": 6,
   "id": "0efc9774-33f6-41e2-8cd0-7cbeae985cfe",
   "metadata": {},
   "outputs": [],
   "source": [
    "# Approach2: Optimized Approach: Using math.gcd()\n",
    "import math\n",
    "def gcd_math(num1, num2):\n",
    "    return math.gcd(num1, num2)"
   ]
  },
  {
   "cell_type": "code",
   "execution_count": 7,
   "id": "705534f5-d328-4908-a080-2c38b82af4f6",
   "metadata": {},
   "outputs": [
    {
     "name": "stdout",
     "output_type": "stream",
     "text": [
      "6\n",
      "6\n",
      "1\n",
      "12\n",
      "None\n"
     ]
    }
   ],
   "source": [
    "# Example usage\n",
    "print(gcd_brute(12, 18))  # Output: 6\n",
    "print(gcd_brute(48, 18))  # Output: 6\n",
    "print(gcd_brute(101, 103))  # Output: 1\n",
    "print(gcd_brute(24, 36))  # Output: 12\n",
    "print(gcd_brute(8, 0))  # Output: 8"
   ]
  },
  {
   "cell_type": "markdown",
   "id": "462318bf-672f-4468-9122-070cf70b5af5",
   "metadata": {},
   "source": [
    "## Complexity Analysis"
   ]
  },
  {
   "cell_type": "markdown",
   "id": "3ff61a2e-affa-44cc-b483-573f9dc9b166",
   "metadata": {},
   "source": [
    "Time Complexity:\n",
    "\n",
    "- Brute Force (Loop): O(min(num1, num2))\n",
    "    - Iterates from the smaller number down to 1.\n",
    "\n",
    "- Optimized (Euclidean Algorithm): O(log(min(num1, num2)))\n",
    "    - Reduces the problem size by division.\n",
    "\n",
    "- Using math.gcd(): O(log(min(num1, num2)))\n",
    "    - Internally uses the Euclidean Algorithm.\n",
    " \n",
    "Space Complexity:\n",
    "\n",
    "- Brute Force (Loop): O(1), only uses a counter.\n",
    "- Optimized (Euclidean Algorithm): O(1), only updates variables.\n",
    "- Using math.gcd(): O(1), built-in function.\n"
   ]
  },
  {
   "cell_type": "markdown",
   "id": "54ae9b22-a3fd-4d97-807c-9deb388d03b1",
   "metadata": {},
   "source": [
    "#### Thank You!!"
   ]
  }
 ],
 "metadata": {
  "kernelspec": {
   "display_name": "Python 3 (ipykernel)",
   "language": "python",
   "name": "python3"
  },
  "language_info": {
   "codemirror_mode": {
    "name": "ipython",
    "version": 3
   },
   "file_extension": ".py",
   "mimetype": "text/x-python",
   "name": "python",
   "nbconvert_exporter": "python",
   "pygments_lexer": "ipython3",
   "version": "3.8.10"
  }
 },
 "nbformat": 4,
 "nbformat_minor": 5
}
