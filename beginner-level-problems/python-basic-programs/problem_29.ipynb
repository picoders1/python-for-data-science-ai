{
 "cells": [
  {
   "cell_type": "markdown",
   "id": "8a36d3b1-1a8d-478e-8060-6477472e6bd4",
   "metadata": {},
   "source": [
    "# **Problem Statement**  \n",
    "## **29. Write a Python function to check if two lists are equal**"
   ]
  },
  {
   "cell_type": "markdown",
   "id": "12b96244-784f-44f1-b72a-e69e054e8b67",
   "metadata": {
    "jp-MarkdownHeadingCollapsed": true
   },
   "source": [
    "### Identify Constraints & Example Inputs/Outputs\n",
    "\n",
    "Constraints:\n",
    "\n",
    "- The lists may contain integers, floats, strings, or mixed data types.\n",
    "- The comparison should be order-sensitive.\n",
    "- Lists must be identical in both content and order to be considered equal.\n",
    "\n",
    "---\n",
    "Example1: Input: [1, 2, 3], [1, 2, 3]\n",
    "\n",
    "Output: True\n",
    "\n",
    "---\n",
    "Example2: Input: [1, 2, 3], [3, 2, 1]\n",
    "\n",
    "Output: False  # Order mismatch\n",
    "\n",
    "---\n",
    "Example3: Input: [1, 2], [1, 2, 3]\n",
    "\n",
    "Output: False  # Length mismatch\n",
    "\n",
    "---"
   ]
  },
  {
   "cell_type": "markdown",
   "id": "b68e7cad-ea42-4bb3-a20e-a91cba6d7424",
   "metadata": {},
   "source": [
    "### Solution Approach"
   ]
  },
  {
   "cell_type": "markdown",
   "id": "144b599f-addb-4686-8425-1f6e6f862acd",
   "metadata": {},
   "source": [
    "Step1: First, check if the lengths of both lists are the same.\n",
    "\n",
    "Step2: If not, return False.\n",
    "\n",
    "Step3: If lengths match, compare each corresponding element from both lists using a loop.\n",
    "\n",
    "Step4: If any pair of elements differ, return False.\n",
    "\n",
    "Step5: If the loop completes without mismatches, return True."
   ]
  },
  {
   "cell_type": "markdown",
   "id": "be931aed-e6ac-4398-a9cc-cd43c98ed91b",
   "metadata": {},
   "source": [
    "### Solution Code"
   ]
  },
  {
   "cell_type": "code",
   "execution_count": 1,
   "id": "57cab10a-c58c-459b-b504-16dc7ee1d0ac",
   "metadata": {},
   "outputs": [],
   "source": [
    "# Approach 1: Brute Force Approach: Using a Loop\n",
    "def are_lists_equal(list1, list2):\n",
    "    if len(list1) != len(list2):\n",
    "        return False\n",
    "    for i in range(len(list1)):\n",
    "        if list1[i] != list2[i]:\n",
    "            return False\n",
    "    return True"
   ]
  },
  {
   "cell_type": "code",
   "execution_count": 2,
   "id": "c6b73b1c-518d-4265-925c-8c271c2045f7",
   "metadata": {},
   "outputs": [
    {
     "name": "stdout",
     "output_type": "stream",
     "text": [
      "True\n",
      "False\n",
      "True\n"
     ]
    }
   ],
   "source": [
    "# Test cases\n",
    "print(are_lists_equal([1, 2, 3], [1, 2, 3]))  # True\n",
    "print(are_lists_equal([1, 2, 3], [3, 2, 1]))  # False\n",
    "print(are_lists_equal([], []))               # True"
   ]
  },
  {
   "cell_type": "markdown",
   "id": "9febed86-bc77-49f3-aa50-7adfe033688a",
   "metadata": {},
   "source": [
    "### Alternative Solution1"
   ]
  },
  {
   "cell_type": "code",
   "execution_count": 3,
   "id": "0efc9774-33f6-41e2-8cd0-7cbeae985cfe",
   "metadata": {},
   "outputs": [],
   "source": [
    "# Approach 2: Optimized Approach: Using Built-in Operator\n",
    "def are_lists_equal_optimized(list1, list2):\n",
    "    return list1 == list2"
   ]
  },
  {
   "cell_type": "code",
   "execution_count": 4,
   "id": "705534f5-d328-4908-a080-2c38b82af4f6",
   "metadata": {},
   "outputs": [
    {
     "name": "stdout",
     "output_type": "stream",
     "text": [
      "True\n",
      "False\n",
      "True\n"
     ]
    }
   ],
   "source": [
    "# Test cases\n",
    "print(are_lists_equal_optimized([1, 2, 3], [1, 2, 3]))  # True\n",
    "print(are_lists_equal_optimized([1, 2, 3], [3, 2, 1]))  # False\n",
    "print(are_lists_equal_optimized([], []))               # True"
   ]
  },
  {
   "cell_type": "markdown",
   "id": "3a6b9635-e779-4015-8c0a-877462fe95b2",
   "metadata": {},
   "source": [
    "### Alternative Solution2"
   ]
  },
  {
   "cell_type": "code",
   "execution_count": 5,
   "id": "9066ebd5-2e37-48c3-93d8-89b43c1dfc83",
   "metadata": {},
   "outputs": [],
   "source": [
    "# Approach 3: Using zip() function\n",
    "def are_lists_equal_zip(list1, list2):\n",
    "    if len(list1) != len(list2):\n",
    "        return False\n",
    "    return all(a == b for a, b in zip(list1, list2))\n"
   ]
  },
  {
   "cell_type": "code",
   "execution_count": 6,
   "id": "257fc41a-838e-4575-9b0b-b83d40960d19",
   "metadata": {},
   "outputs": [
    {
     "name": "stdout",
     "output_type": "stream",
     "text": [
      "True\n",
      "False\n",
      "True\n"
     ]
    }
   ],
   "source": [
    "# Test cases\n",
    "print(are_lists_equal_zip([1, 2, 3], [1, 2, 3]))  # True\n",
    "print(are_lists_equal_zip([1, 2, 3], [3, 2, 1]))  # False\n",
    "print(are_lists_equal_zip([], []))               # True"
   ]
  },
  {
   "cell_type": "markdown",
   "id": "462318bf-672f-4468-9122-070cf70b5af5",
   "metadata": {},
   "source": [
    "## Complexity Analysis"
   ]
  },
  {
   "cell_type": "markdown",
   "id": "3ff61a2e-affa-44cc-b483-573f9dc9b166",
   "metadata": {},
   "source": [
    "Time Complexity:\n",
    "\n",
    "- O(n) → where n is the length of the lists (worst case: compare all elements)\n",
    " \n",
    "Space Complexity:\n",
    "\n",
    "- O(1) for brute force and comparison\n",
    "- O(n) temporarily if used with zip() or internal Python optimization"
   ]
  },
  {
   "cell_type": "markdown",
   "id": "54ae9b22-a3fd-4d97-807c-9deb388d03b1",
   "metadata": {},
   "source": [
    "#### Thank You!!"
   ]
  }
 ],
 "metadata": {
  "kernelspec": {
   "display_name": "Python 3 (ipykernel)",
   "language": "python",
   "name": "python3"
  },
  "language_info": {
   "codemirror_mode": {
    "name": "ipython",
    "version": 3
   },
   "file_extension": ".py",
   "mimetype": "text/x-python",
   "name": "python",
   "nbconvert_exporter": "python",
   "pygments_lexer": "ipython3",
   "version": "3.8.10"
  }
 },
 "nbformat": 4,
 "nbformat_minor": 5
}
