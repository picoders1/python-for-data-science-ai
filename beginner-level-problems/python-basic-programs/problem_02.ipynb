{
 "cells": [
  {
   "cell_type": "markdown",
   "id": "8a36d3b1-1a8d-478e-8060-6477472e6bd4",
   "metadata": {},
   "source": [
    "# **Problem Statement**  \n",
    "## **02. Write a function to find the maximum of three numbers**"
   ]
  },
  {
   "cell_type": "markdown",
   "id": "6a9362ea-9518-4ddb-a46e-b8a132dedb9f",
   "metadata": {},
   "source": [
    "###Identify Constraints & Example Inputs/Outputs\n",
    "\n",
    "Input: Three integers or floating-point numbers a, b, and c\n",
    "Output: The largest of the three numbers\n",
    "\n",
    "Example Cases:\n",
    "\n",
    "- find_max(3, 5, 2)     # Output: 5\n",
    "- \n",
    "find_max(-10, -2, -8) # Output: -\n",
    "- \r\n",
    "find_max(4.5, 4.5, 3) # Output: 4\n",
    "- 5\r\n",
    "find_max(0, -1, 1)    # Output: 1"
   ]
  },
  {
   "cell_type": "markdown",
   "id": "b68e7cad-ea42-4bb3-a20e-a91cba6d7424",
   "metadata": {},
   "source": [
    "### Solution Approach"
   ]
  },
  {
   "cell_type": "markdown",
   "id": "921795e3-5264-4e33-837d-96cb49473f6a",
   "metadata": {},
   "source": [
    "###Breakdown of the solution Approach\n",
    "\n",
    "Approach 1: Using max() function\n",
    "- max() is a built-in Python function that returns the largest of the input values.\n",
    "\n",
    "Approach 2: Using Conditional Statements\n",
    "- Compare the first number (a) with the other two (b and c), and store the largest.\n",
    "- Use if-else conditions to check:\n",
    "\n",
    "Psuedo code - \n",
    "if a >= b and a >= c:\r\n",
    "    return a\r\n",
    "elif b >= a and b >= c:\r\n",
    "    return b\r\n",
    "else:\r\n",
    "    retrn c\r\n",
    "urn c\r\n"
   ]
  },
  {
   "cell_type": "markdown",
   "id": "be931aed-e6ac-4398-a9cc-cd43c98ed91b",
   "metadata": {},
   "source": [
    "### Solution "
   ]
  },
  {
   "cell_type": "code",
   "execution_count": 2,
   "id": "57cab10a-c58c-459b-b504-16dc7ee1d0ac",
   "metadata": {},
   "outputs": [],
   "source": [
    "def find_max(a, b, c):\n",
    "    return max(a, b, c)"
   ]
  },
  {
   "cell_type": "code",
   "execution_count": 3,
   "id": "d9233256-dfab-42d8-928b-722e4493e79e",
   "metadata": {},
   "outputs": [
    {
     "name": "stdout",
     "output_type": "stream",
     "text": [
      "-2\n"
     ]
    }
   ],
   "source": [
    "# Example Usage\n",
    "print(find_max(-10, -2, -8)) # Output: -2"
   ]
  },
  {
   "cell_type": "code",
   "execution_count": 4,
   "id": "32e6a95e-a9ab-4d92-9f58-7413ce437c38",
   "metadata": {},
   "outputs": [
    {
     "name": "stdout",
     "output_type": "stream",
     "text": [
      "4.5\n"
     ]
    }
   ],
   "source": [
    "# Example Usage\n",
    "print(find_max(4.5, 4.5, 3)) # Output: 4.5"
   ]
  },
  {
   "cell_type": "markdown",
   "id": "9febed86-bc77-49f3-aa50-7adfe033688a",
   "metadata": {},
   "source": [
    "### Alternative Solution1"
   ]
  },
  {
   "cell_type": "code",
   "execution_count": 5,
   "id": "0efc9774-33f6-41e2-8cd0-7cbeae985cfe",
   "metadata": {},
   "outputs": [],
   "source": [
    "def find_max_conditional(a, b, c):\n",
    "    if a >= b and a >= c:\n",
    "        return a\n",
    "    elif b >= a and b >= c:\n",
    "        return b\n",
    "    else:\n",
    "        return c"
   ]
  },
  {
   "cell_type": "code",
   "execution_count": 6,
   "id": "705534f5-d328-4908-a080-2c38b82af4f6",
   "metadata": {},
   "outputs": [
    {
     "name": "stdout",
     "output_type": "stream",
     "text": [
      "-2\n"
     ]
    }
   ],
   "source": [
    "# Example Usage\n",
    "print(find_max_conditional(-10, -2, -8)) # Output: -2"
   ]
  },
  {
   "cell_type": "code",
   "execution_count": 8,
   "id": "f1362ffb-2ed7-456c-9b07-bd883778c124",
   "metadata": {},
   "outputs": [
    {
     "name": "stdout",
     "output_type": "stream",
     "text": [
      "100\n"
     ]
    }
   ],
   "source": [
    "# Example Usage\n",
    "print(find_max_conditional(100,1,34)) # Output: 100"
   ]
  },
  {
   "cell_type": "markdown",
   "id": "a730d6c1-8f7e-48ba-97f6-c7af7da37ec7",
   "metadata": {},
   "source": [
    "### Alternative Solution2"
   ]
  },
  {
   "cell_type": "code",
   "execution_count": 11,
   "id": "92423a02-cf2a-4e42-a663-631b85771a88",
   "metadata": {},
   "outputs": [],
   "source": [
    "# Using Ternary Operator\n",
    "def find_max_ternary(a, b, c):\n",
    "    return a if (a >= b and a >= c) else (b if b >= c else c)\n"
   ]
  },
  {
   "cell_type": "code",
   "execution_count": 12,
   "id": "2a64dbb9-5932-47c8-89df-838db414ef2d",
   "metadata": {},
   "outputs": [
    {
     "name": "stdout",
     "output_type": "stream",
     "text": [
      "-2\n"
     ]
    }
   ],
   "source": [
    "# Example Usage\n",
    "print(find_max_ternary(-10, -2, -8)) # Output: -2"
   ]
  },
  {
   "cell_type": "markdown",
   "id": "462318bf-672f-4468-9122-070cf70b5af5",
   "metadata": {},
   "source": [
    "## Complexity Analysis"
   ]
  },
  {
   "cell_type": "markdown",
   "id": "34d34ca0-bcd8-44d5-b708-c4e50ee8751a",
   "metadata": {},
   "source": [
    "Time Complexity:\n",
    "O(1) — Constant time, as it only compares three values.\n",
    "\n",
    "Space Complexity:\n",
    "O(1) — No extra space used."
   ]
  },
  {
   "cell_type": "markdown",
   "id": "54ae9b22-a3fd-4d97-807c-9deb388d03b1",
   "metadata": {},
   "source": [
    "#### Thank You!!"
   ]
  }
 ],
 "metadata": {
  "kernelspec": {
   "display_name": "Python 3 (ipykernel)",
   "language": "python",
   "name": "python3"
  },
  "language_info": {
   "codemirror_mode": {
    "name": "ipython",
    "version": 3
   },
   "file_extension": ".py",
   "mimetype": "text/x-python",
   "name": "python",
   "nbconvert_exporter": "python",
   "pygments_lexer": "ipython3",
   "version": "3.8.8"
  }
 },
 "nbformat": 4,
 "nbformat_minor": 5
}
