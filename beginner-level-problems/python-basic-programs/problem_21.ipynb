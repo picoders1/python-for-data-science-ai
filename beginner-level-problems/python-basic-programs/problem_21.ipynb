{
 "cells": [
  {
   "cell_type": "markdown",
   "id": "8a36d3b1-1a8d-478e-8060-6477472e6bd4",
   "metadata": {},
   "source": [
    "# **Problem Statement**  \n",
    "## **21. Write a program to count the occurrences of each word in a given string**"
   ]
  },
  {
   "cell_type": "markdown",
   "id": "12b96244-784f-44f1-b72a-e69e054e8b67",
   "metadata": {
    "jp-MarkdownHeadingCollapsed": true
   },
   "source": [
    "### Identify Constraints & Example Inputs/Outputs\n",
    "\n",
    "Constraints:\n",
    "\n",
    "- Input is a single string.\n",
    "- Words are separated by spaces.\n",
    "- Ignore case sensitivity (optional based on requirement).\n",
    "- Punctuation can be ignored or handled if specified.\n",
    "\n",
    "---\n",
    "Example1: text = \"the cat and the hat\"\n",
    "\n",
    "Output: {'the': 2, 'cat': 1, 'and': 1, 'hat': 1}\n",
    "\n",
    "---\n",
    "Example2: text = \"Hello hello world\"\n",
    "\n",
    "Output (case-insensitive): {'hello': 2, 'world': 1}\n",
    "\n",
    "---\n",
    "Example3: text = \"\"\n",
    "\n",
    "Output: {}\n"
   ]
  },
  {
   "cell_type": "markdown",
   "id": "b68e7cad-ea42-4bb3-a20e-a91cba6d7424",
   "metadata": {},
   "source": [
    "### Solution Approach"
   ]
  },
  {
   "cell_type": "markdown",
   "id": "144b599f-addb-4686-8425-1f6e6f862acd",
   "metadata": {},
   "source": [
    "Step1: Check if the input string is empty.\n",
    "\n",
    "Step 2: Convert the string to lowercase (optional).\n",
    "\n",
    "Step 3: Split the string into a list of words using .split().\n",
    "\n",
    "Step 4: Use a dictionary to count each word.\n",
    "\n",
    "Step 5: Return the dictionary with word counts."
   ]
  },
  {
   "cell_type": "markdown",
   "id": "be931aed-e6ac-4398-a9cc-cd43c98ed91b",
   "metadata": {},
   "source": [
    "### Solution Code"
   ]
  },
  {
   "cell_type": "code",
   "execution_count": 1,
   "id": "57cab10a-c58c-459b-b504-16dc7ee1d0ac",
   "metadata": {},
   "outputs": [],
   "source": [
    "# Approach 1: Brute Force Approach: Using a Loop\n",
    "def count_word_occurrences(text):\n",
    "    word_count = {}\n",
    "    words = text.lower().split()\n",
    "\n",
    "    for word in words:\n",
    "        if word not in word_count:\n",
    "            word_count[word] = 1\n",
    "        else:\n",
    "            word_count[word] += 1\n",
    "\n",
    "    return word_count"
   ]
  },
  {
   "cell_type": "code",
   "execution_count": 2,
   "id": "c6b73b1c-518d-4265-925c-8c271c2045f7",
   "metadata": {},
   "outputs": [
    {
     "name": "stdout",
     "output_type": "stream",
     "text": [
      "{'the': 2, 'cat': 1, 'and': 1, 'hat': 1}\n",
      "{'hello': 2, 'world': 1}\n"
     ]
    }
   ],
   "source": [
    "# Example Usage\n",
    "print(count_word_occurrences(\"the cat and the hat\"))  # {'the': 2, 'cat': 1, 'and': 1, 'hat': 1}\n",
    "print(count_word_occurrences(\"Hello hello world\"))     # {'hello': 2, 'world': 1}"
   ]
  },
  {
   "cell_type": "markdown",
   "id": "9febed86-bc77-49f3-aa50-7adfe033688a",
   "metadata": {},
   "source": [
    "### Alternative Solution1"
   ]
  },
  {
   "cell_type": "code",
   "execution_count": 3,
   "id": "0efc9774-33f6-41e2-8cd0-7cbeae985cfe",
   "metadata": {},
   "outputs": [],
   "source": [
    "# Approach 2: Optimized Approach: Using collections.Counter\n",
    "from collections import Counter\n",
    "\n",
    "def count_word_occurrences_optimized(text):\n",
    "    words = text.lower().split()\n",
    "    return dict(Counter(words))"
   ]
  },
  {
   "cell_type": "code",
   "execution_count": 4,
   "id": "705534f5-d328-4908-a080-2c38b82af4f6",
   "metadata": {},
   "outputs": [
    {
     "name": "stdout",
     "output_type": "stream",
     "text": [
      "{'the': 2, 'cat': 1, 'and': 1, 'hat': 1}\n"
     ]
    }
   ],
   "source": [
    "# Example Usage\n",
    "print(count_word_occurrences_optimized(\"the cat and the hat\"))  # {'the': 2, 'cat': 1, 'and': 1, 'hat': 1}"
   ]
  },
  {
   "cell_type": "markdown",
   "id": "3a6b9635-e779-4015-8c0a-877462fe95b2",
   "metadata": {},
   "source": [
    "### Alternative Solution2"
   ]
  },
  {
   "cell_type": "code",
   "execution_count": 5,
   "id": "9066ebd5-2e37-48c3-93d8-89b43c1dfc83",
   "metadata": {},
   "outputs": [
    {
     "name": "stdout",
     "output_type": "stream",
     "text": [
      "{'the': 2, 'cat': 1, 'and': 1, 'hat': 1}\n"
     ]
    }
   ],
   "source": [
    "# Approach 3: Using defaultdict\n",
    "from collections import defaultdict\n",
    "\n",
    "def count_word_occurrences_defaultdict(text):\n",
    "    word_count = defaultdict(int)\n",
    "    for word in text.lower().split():\n",
    "        word_count[word] += 1\n",
    "    return dict(word_count)\n",
    "\n",
    "print(count_word_occurrences_defaultdict(\"the cat and the hat\"))"
   ]
  },
  {
   "cell_type": "markdown",
   "id": "462318bf-672f-4468-9122-070cf70b5af5",
   "metadata": {},
   "source": [
    "## Complexity Analysis"
   ]
  },
  {
   "cell_type": "markdown",
   "id": "3ff61a2e-affa-44cc-b483-573f9dc9b166",
   "metadata": {},
   "source": [
    "Time Complexity:\n",
    "\n",
    "- Splitting the string: O(n), where n is the number of characters.\n",
    "- Counting each word: O(k), where k is the number of words.\n",
    "- Overall: O(n + k)\n",
    " \n",
    "Space Complexity:\n",
    "\n",
    "- O(k) for storing the count of each unique word."
   ]
  },
  {
   "cell_type": "markdown",
   "id": "54ae9b22-a3fd-4d97-807c-9deb388d03b1",
   "metadata": {},
   "source": [
    "#### Thank You!!"
   ]
  }
 ],
 "metadata": {
  "kernelspec": {
   "display_name": "Python 3 (ipykernel)",
   "language": "python",
   "name": "python3"
  },
  "language_info": {
   "codemirror_mode": {
    "name": "ipython",
    "version": 3
   },
   "file_extension": ".py",
   "mimetype": "text/x-python",
   "name": "python",
   "nbconvert_exporter": "python",
   "pygments_lexer": "ipython3",
   "version": "3.8.10"
  }
 },
 "nbformat": 4,
 "nbformat_minor": 5
}
