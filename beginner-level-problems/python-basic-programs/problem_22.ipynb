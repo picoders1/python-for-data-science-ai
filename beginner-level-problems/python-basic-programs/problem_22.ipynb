{
 "cells": [
  {
   "cell_type": "markdown",
   "id": "8a36d3b1-1a8d-478e-8060-6477472e6bd4",
   "metadata": {},
   "source": [
    "# **Problem Statement**  \n",
    "## **20. Write a Python function to check if a string contains only digits**"
   ]
  },
  {
   "cell_type": "markdown",
   "id": "12b96244-784f-44f1-b72a-e69e054e8b67",
   "metadata": {
    "jp-MarkdownHeadingCollapsed": true
   },
   "source": [
    "### Identify Constraints & Example Inputs/Outputs\n",
    "\n",
    "Constraints:\n",
    "\n",
    "- Input is a string.\n",
    "- The string may contain alphabets, symbols, or whitespace.\n",
    "- No empty string unless specified.\n",
    "\n",
    "---\n",
    "Example1: Input: \"12345\"\n",
    "\n",
    "Output: True\n",
    "\n",
    "---\n",
    "Example 2: Input: \"12a45\"\n",
    "\n",
    "Output: False\n",
    "\n",
    "---\n",
    "Example 3: Input: \"001234\"\n",
    "\n",
    "Output: True\n",
    "\n",
    "---\n",
    "Example 4: Input: \"12 34\"\n",
    "\n",
    "Output: False\n",
    "\n",
    "---\n",
    "Example 5: Input: \"\"\n",
    "\n",
    "Output: False (can be True if you define it that way)\n",
    "\n",
    "---"
   ]
  },
  {
   "cell_type": "markdown",
   "id": "b68e7cad-ea42-4bb3-a20e-a91cba6d7424",
   "metadata": {},
   "source": [
    "### Solution Approach"
   ]
  },
  {
   "cell_type": "markdown",
   "id": "144b599f-addb-4686-8425-1f6e6f862acd",
   "metadata": {},
   "source": [
    "Step 1 : Take input as a string.\n",
    "\n",
    "Step 1 : Use Python's built-in .isdigit() method to check if every character is a digit.\n",
    "\n",
    "Step 1 : Return True if the condition is satisfied; else return False.\n",
    "\n",
    "Step 1 : You can also use loops or regex for alternative approaches."
   ]
  },
  {
   "cell_type": "markdown",
   "id": "be931aed-e6ac-4398-a9cc-cd43c98ed91b",
   "metadata": {},
   "source": [
    "### Solution Code"
   ]
  },
  {
   "cell_type": "code",
   "execution_count": 1,
   "id": "57cab10a-c58c-459b-b504-16dc7ee1d0ac",
   "metadata": {},
   "outputs": [],
   "source": [
    "# Approach 1: Brute Force Approach: Using Loop\n",
    "def is_all_digits_brute_force(s):\n",
    "    if not s:\n",
    "        return False\n",
    "    for ch in s:\n",
    "        if ch < '0' or ch > '9':\n",
    "            return False\n",
    "    return True"
   ]
  },
  {
   "cell_type": "code",
   "execution_count": 2,
   "id": "c6b73b1c-518d-4265-925c-8c271c2045f7",
   "metadata": {},
   "outputs": [
    {
     "name": "stdout",
     "output_type": "stream",
     "text": [
      "True\n",
      "False\n"
     ]
    }
   ],
   "source": [
    "# Test cases\n",
    "print(is_all_digits_brute_force(\"12345\"))    # True\n",
    "print(is_all_digits_brute_force(\"123a5\"))    # False"
   ]
  },
  {
   "cell_type": "markdown",
   "id": "9febed86-bc77-49f3-aa50-7adfe033688a",
   "metadata": {},
   "source": [
    "### Alternative Solution1"
   ]
  },
  {
   "cell_type": "code",
   "execution_count": 3,
   "id": "0efc9774-33f6-41e2-8cd0-7cbeae985cfe",
   "metadata": {},
   "outputs": [],
   "source": [
    "# Approach 2: Optimized Approach: Using Built-in .isdigit()\n",
    "def is_all_digits(s):\n",
    "    return s.isdigit()"
   ]
  },
  {
   "cell_type": "code",
   "execution_count": 4,
   "id": "705534f5-d328-4908-a080-2c38b82af4f6",
   "metadata": {},
   "outputs": [
    {
     "name": "stdout",
     "output_type": "stream",
     "text": [
      "True\n",
      "False\n",
      "False\n"
     ]
    }
   ],
   "source": [
    "# Test cases\n",
    "print(is_all_digits(\"12345\"))    # True\n",
    "print(is_all_digits(\"abc\"))      # False\n",
    "print(is_all_digits(\"\"))         # False"
   ]
  },
  {
   "cell_type": "markdown",
   "id": "3a6b9635-e779-4015-8c0a-877462fe95b2",
   "metadata": {},
   "source": [
    "### Alternative Solution2"
   ]
  },
  {
   "cell_type": "code",
   "execution_count": 5,
   "id": "9066ebd5-2e37-48c3-93d8-89b43c1dfc83",
   "metadata": {},
   "outputs": [],
   "source": [
    "# Approach 3: Using Regular Expressions\n",
    "import re\n",
    "\n",
    "def is_all_digits_regex(s):\n",
    "    return bool(re.fullmatch(r'\\d+', s))"
   ]
  },
  {
   "cell_type": "code",
   "execution_count": 6,
   "id": "f7f74eda-8f87-4d87-87d9-4a97bbf2a5eb",
   "metadata": {},
   "outputs": [
    {
     "name": "stdout",
     "output_type": "stream",
     "text": [
      "True\n",
      "False\n"
     ]
    }
   ],
   "source": [
    "# Test cases\n",
    "print(is_all_digits_regex(\"12345\"))  # True\n",
    "print(is_all_digits_regex(\"123a5\"))  # False"
   ]
  },
  {
   "cell_type": "markdown",
   "id": "462318bf-672f-4468-9122-070cf70b5af5",
   "metadata": {},
   "source": [
    "## Complexity Analysis"
   ]
  },
  {
   "cell_type": "markdown",
   "id": "3ff61a2e-affa-44cc-b483-573f9dc9b166",
   "metadata": {},
   "source": [
    "Time Complexity:\n",
    "\n",
    "- Using .isdigit(): O(n), where n is the length of the string.\n",
    "- Loop approach: O(n)\n",
    "- Regex: O(n) average case\n",
    " \n",
    "Space Complexity:\n",
    "\n",
    "- O(1) — Constant space for all approaches."
   ]
  },
  {
   "cell_type": "markdown",
   "id": "54ae9b22-a3fd-4d97-807c-9deb388d03b1",
   "metadata": {},
   "source": [
    "#### Thank You!!"
   ]
  }
 ],
 "metadata": {
  "kernelspec": {
   "display_name": "Python 3 (ipykernel)",
   "language": "python",
   "name": "python3"
  },
  "language_info": {
   "codemirror_mode": {
    "name": "ipython",
    "version": 3
   },
   "file_extension": ".py",
   "mimetype": "text/x-python",
   "name": "python",
   "nbconvert_exporter": "python",
   "pygments_lexer": "ipython3",
   "version": "3.8.10"
  }
 },
 "nbformat": 4,
 "nbformat_minor": 5
}
