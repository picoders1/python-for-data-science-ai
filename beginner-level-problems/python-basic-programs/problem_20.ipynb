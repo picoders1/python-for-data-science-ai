{
 "cells": [
  {
   "cell_type": "markdown",
   "id": "8a36d3b1-1a8d-478e-8060-6477472e6bd4",
   "metadata": {},
   "source": [
    "# **Problem Statement**  \n",
    "## **20. Write a Python function to remove duplicates from a list**"
   ]
  },
  {
   "cell_type": "markdown",
   "id": "12b96244-784f-44f1-b72a-e69e054e8b67",
   "metadata": {
    "jp-MarkdownHeadingCollapsed": true
   },
   "source": [
    "### Identify Constraints & Example Inputs/Outputs\n",
    "\n",
    "Constraints:\n",
    "\n",
    "- The input is a list of elements (integers, floats, or strings).\n",
    "- The function should preserve the order of first occurrences.\n",
    "- The function should return a new list without duplicates.\n",
    "\n",
    "---\n",
    "Example1: nums = [1, 2, 2, 3, 4, 4, 5]\n",
    "\n",
    "Output: [1, 2, 3, 4, 5]\n",
    "\n",
    "---\n",
    "Example2: nums = [\"apple\", \"banana\", \"apple\", \"orange\", \"banana\"]\n",
    "\n",
    "Output: [\"apple\", \"banana\", \"orange\"]\n",
    "\n",
    "---\n",
    "Example3: nums = [10, 10, 10]\n",
    "\n",
    "Output: [10]\n",
    "\n",
    "---\n",
    "Example4: nums = []\n",
    "\n",
    "Output: []\n",
    "\n",
    "---\n",
    "Example5: nums = [3.5, 2.5, 3.5, 4.0, -1.2, 4.0]\n",
    "\n",
    "Output: [3.5, 2.5, 4.0, -1.2]\n",
    "\n",
    "---"
   ]
  },
  {
   "cell_type": "markdown",
   "id": "b68e7cad-ea42-4bb3-a20e-a91cba6d7424",
   "metadata": {},
   "source": [
    "### Solution Approach"
   ]
  },
  {
   "cell_type": "markdown",
   "id": "144b599f-addb-4686-8425-1f6e6f862acd",
   "metadata": {},
   "source": [
    "Step1: Check if the list is empty; if yes, return an empty list.\n",
    "\n",
    "Step2: Initialize an empty set to keep track of seen elements.\n",
    "\n",
    "Step3: Initialize an empty list to store unique elements.\n",
    "\n",
    "Step4: Loop through the list:\n",
    "\n",
    "If the element is not in the set, add it to the set and the result list.\n",
    "\n",
    "- Step5: Return the result list."
   ]
  },
  {
   "cell_type": "markdown",
   "id": "be931aed-e6ac-4398-a9cc-cd43c98ed91b",
   "metadata": {},
   "source": [
    "### Solution Code"
   ]
  },
  {
   "cell_type": "code",
   "execution_count": 1,
   "id": "57cab10a-c58c-459b-b504-16dc7ee1d0ac",
   "metadata": {},
   "outputs": [],
   "source": [
    "# Approach 1: Brute Force Approach: (Using a Loop and Set)\n",
    "def remove_duplicates(lst):\n",
    "    seen = set()\n",
    "    unique_list = []\n",
    "    \n",
    "    for item in lst:\n",
    "        if item not in seen:\n",
    "            seen.add(item)\n",
    "            unique_list.append(item)\n",
    "    \n",
    "    return unique_list"
   ]
  },
  {
   "cell_type": "code",
   "execution_count": 3,
   "id": "c6b73b1c-518d-4265-925c-8c271c2045f7",
   "metadata": {},
   "outputs": [
    {
     "name": "stdout",
     "output_type": "stream",
     "text": [
      "[1, 2, 3, 4, 5]\n",
      "['apple', 'banana', 'orange']\n",
      "[10]\n",
      "[]\n",
      "[3.5, 2.5, 4.0, -1.2]\n"
     ]
    }
   ],
   "source": [
    "# Example usage\n",
    "print(remove_duplicates([1, 2, 2, 3, 4, 4, 5]))  # Output: [1, 2, 3, 4, 5]\n",
    "print(remove_duplicates([\"apple\", \"banana\", \"apple\", \"orange\", \"banana\"]))  # Output: [\"apple\", \"banana\", \"orange\"]\n",
    "print(remove_duplicates([10, 10, 10]))  # Output: [10]\n",
    "print(remove_duplicates([]))  # Output: []\n",
    "print(remove_duplicates([3.5, 2.5, 3.5, 4.0, -1.2, 4.0]))  # Output: [3.5, 2.5, 4.0, -1.2]"
   ]
  },
  {
   "cell_type": "markdown",
   "id": "9febed86-bc77-49f3-aa50-7adfe033688a",
   "metadata": {},
   "source": [
    "### Alternative Solution1"
   ]
  },
  {
   "cell_type": "code",
   "execution_count": 5,
   "id": "0efc9774-33f6-41e2-8cd0-7cbeae985cfe",
   "metadata": {},
   "outputs": [],
   "source": [
    "# Approach 2: Optimized Approach: Using dict.fromkeys()\n",
    "def remove_duplicates_optimized(lst):\n",
    "    return list(dict.fromkeys(lst))"
   ]
  },
  {
   "cell_type": "code",
   "execution_count": 6,
   "id": "705534f5-d328-4908-a080-2c38b82af4f6",
   "metadata": {},
   "outputs": [
    {
     "name": "stdout",
     "output_type": "stream",
     "text": [
      "[1, 2, 3, 4, 5]\n",
      "['apple', 'banana', 'orange']\n",
      "[10]\n",
      "[]\n",
      "[3.5, 2.5, 4.0, -1.2]\n"
     ]
    }
   ],
   "source": [
    "# Example usage\n",
    "print(remove_duplicates_optimized([1, 2, 2, 3, 4, 4, 5]))  # Output: [1, 2, 3, 4, 5]\n",
    "print(remove_duplicates_optimized([\"apple\", \"banana\", \"apple\", \"orange\", \"banana\"]))  # Output: [\"apple\", \"banana\", \"orange\"]\n",
    "print(remove_duplicates_optimized([10, 10, 10]))  # Output: [10]\n",
    "print(remove_duplicates_optimized([]))  # Output: []\n",
    "print(remove_duplicates_optimized([3.5, 2.5, 3.5, 4.0, -1.2, 4.0]))  # Output: [3.5, 2.5, 4.0, -1.2]"
   ]
  },
  {
   "cell_type": "markdown",
   "id": "3a6b9635-e779-4015-8c0a-877462fe95b2",
   "metadata": {},
   "source": [
    "### Alternative Solution2"
   ]
  },
  {
   "cell_type": "code",
   "execution_count": 7,
   "id": "9066ebd5-2e37-48c3-93d8-89b43c1dfc83",
   "metadata": {},
   "outputs": [],
   "source": [
    "# Approach 3: Using List Comprehension\n",
    "def remove_duplicates_listcomp(lst):\n",
    "    seen = set()\n",
    "    return [x for x in lst if x not in seen and not seen.add(x)]"
   ]
  },
  {
   "cell_type": "code",
   "execution_count": 8,
   "id": "f7f74eda-8f87-4d87-87d9-4a97bbf2a5eb",
   "metadata": {},
   "outputs": [
    {
     "name": "stdout",
     "output_type": "stream",
     "text": [
      "[1, 2, 3, 4, 5]\n",
      "['apple', 'banana', 'orange']\n",
      "[10]\n",
      "[]\n",
      "[3.5, 2.5, 4.0, -1.2]\n"
     ]
    }
   ],
   "source": [
    "# Example usage\n",
    "print(remove_duplicates_listcomp([1, 2, 2, 3, 4, 4, 5]))  # Output: [1, 2, 3, 4, 5]\n",
    "print(remove_duplicates_listcomp([\"apple\", \"banana\", \"apple\", \"orange\", \"banana\"]))  # Output: [\"apple\", \"banana\", \"orange\"]\n",
    "print(remove_duplicates_listcomp([10, 10, 10]))  # Output: [10]\n",
    "print(remove_duplicates_listcomp([]))  # Output: []\n",
    "print(remove_duplicates_listcomp([3.5, 2.5, 3.5, 4.0, -1.2, 4.0]))  # Output: [3.5, 2.5, 4.0, -1.2]"
   ]
  },
  {
   "cell_type": "markdown",
   "id": "462318bf-672f-4468-9122-070cf70b5af5",
   "metadata": {},
   "source": [
    "## Complexity Analysis"
   ]
  },
  {
   "cell_type": "markdown",
   "id": "3ff61a2e-affa-44cc-b483-573f9dc9b166",
   "metadata": {},
   "source": [
    "Time Complexity:\n",
    "\n",
    "- Loop-based approach (set() & list): O(n)\n",
    "- Using dict.fromkeys() method: O(n)\n",
    "- List comprehension with set(): O(n)\n",
    " \n",
    "Space Complexity:\n",
    "\n",
    "- Loop-based approach (set() & list): O(n)\n",
    "- Using dict.fromkeys() method: O(n)\n",
    "- List comprehension with set(): O(n)"
   ]
  },
  {
   "cell_type": "markdown",
   "id": "54ae9b22-a3fd-4d97-807c-9deb388d03b1",
   "metadata": {},
   "source": [
    "#### Thank You!!"
   ]
  }
 ],
 "metadata": {
  "kernelspec": {
   "display_name": "Python 3 (ipykernel)",
   "language": "python",
   "name": "python3"
  },
  "language_info": {
   "codemirror_mode": {
    "name": "ipython",
    "version": 3
   },
   "file_extension": ".py",
   "mimetype": "text/x-python",
   "name": "python",
   "nbconvert_exporter": "python",
   "pygments_lexer": "ipython3",
   "version": "3.8.10"
  }
 },
 "nbformat": 4,
 "nbformat_minor": 5
}
