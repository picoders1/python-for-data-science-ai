{
 "cells": [
  {
   "cell_type": "markdown",
   "id": "8a36d3b1-1a8d-478e-8060-6477472e6bd4",
   "metadata": {},
   "source": [
    "# **Problem Statement**  \n",
    "## **1. Write a Python program to check if a number is even or odd**"
   ]
  },
  {
   "cell_type": "markdown",
   "id": "6a9362ea-9518-4ddb-a46e-b8a132dedb9f",
   "metadata": {},
   "source": [
    "###Identify Constraints & Example Inputs/Outputs\n",
    "\n",
    "- Input: An integer (n)\n",
    "- Output: \"Even\" if the number is even, otherwise \"odd\"\n",
    "\n",
    "Example Cases:\n",
    "- check_even_odd(6)  # Output: \"Even\"\n",
    "- check_even_odd(1)  # Output: \"Odd\"\n",
    "- check_even_odd(10)  # Output: \"Even\"\n",
    "- check_even_odd(-3) # Output: \"Odd\""
   ]
  },
  {
   "cell_type": "markdown",
   "id": "b68e7cad-ea42-4bb3-a20e-a91cba6d7424",
   "metadata": {},
   "source": [
    "### Solution Approach"
   ]
  },
  {
   "cell_type": "markdown",
   "id": "921795e3-5264-4e33-837d-96cb49473f6a",
   "metadata": {},
   "source": [
    "###Breakdown of the solution Approach\n",
    "Step1: A number is even if it is divisible by 2 (n % 2 == 0)\n",
    "- A number is odd if it is not divisible by 2 (n % 2 != 0)\n",
    "- We can return \"Even\" for even numbers and \"Odd\" for odd numbers"
   ]
  },
  {
   "cell_type": "markdown",
   "id": "be931aed-e6ac-4398-a9cc-cd43c98ed91b",
   "metadata": {},
   "source": [
    "### Solution "
   ]
  },
  {
   "cell_type": "code",
   "execution_count": 2,
   "id": "57cab10a-c58c-459b-b504-16dc7ee1d0ac",
   "metadata": {},
   "outputs": [],
   "source": [
    "def check_even_odd(n):\n",
    "    return \"Even\" if n%2 == 0 else \"Odd\""
   ]
  },
  {
   "cell_type": "code",
   "execution_count": 4,
   "id": "d9233256-dfab-42d8-928b-722e4493e79e",
   "metadata": {},
   "outputs": [
    {
     "name": "stdout",
     "output_type": "stream",
     "text": [
      "Even\n"
     ]
    }
   ],
   "source": [
    "# Example Usage\n",
    "print(check_even_odd(12))"
   ]
  },
  {
   "cell_type": "code",
   "execution_count": 5,
   "id": "32e6a95e-a9ab-4d92-9f58-7413ce437c38",
   "metadata": {},
   "outputs": [
    {
     "name": "stdout",
     "output_type": "stream",
     "text": [
      "Odd\n"
     ]
    }
   ],
   "source": [
    "# Example Usage\n",
    "print(check_even_odd(15))"
   ]
  },
  {
   "cell_type": "markdown",
   "id": "9febed86-bc77-49f3-aa50-7adfe033688a",
   "metadata": {},
   "source": [
    "### Alternative Solution"
   ]
  },
  {
   "cell_type": "code",
   "execution_count": 10,
   "id": "0efc9774-33f6-41e2-8cd0-7cbeae985cfe",
   "metadata": {},
   "outputs": [],
   "source": [
    "#Using Bitwise Operator (&)\n",
    "def check_even_odd_bitwise(n):\n",
    "    return 'Even' if (n&1) == 0 else 'Odd'"
   ]
  },
  {
   "cell_type": "code",
   "execution_count": 11,
   "id": "705534f5-d328-4908-a080-2c38b82af4f6",
   "metadata": {},
   "outputs": [
    {
     "name": "stdout",
     "output_type": "stream",
     "text": [
      "Even\n"
     ]
    }
   ],
   "source": [
    "print(check_even_odd_bitwise(22))"
   ]
  },
  {
   "cell_type": "code",
   "execution_count": 12,
   "id": "f1362ffb-2ed7-456c-9b07-bd883778c124",
   "metadata": {},
   "outputs": [
    {
     "name": "stdout",
     "output_type": "stream",
     "text": [
      "Odd\n"
     ]
    }
   ],
   "source": [
    "print(check_even_odd_bitwise(55))"
   ]
  },
  {
   "cell_type": "markdown",
   "id": "462318bf-672f-4468-9122-070cf70b5af5",
   "metadata": {},
   "source": [
    "## Complexity Analysis"
   ]
  },
  {
   "cell_type": "markdown",
   "id": "34d34ca0-bcd8-44d5-b708-c4e50ee8751a",
   "metadata": {},
   "source": [
    "1. Time Complexity: O(1) [Constant time, since it's just a modulus Operation]\n",
    "2. Space Complexity: O(1) [No extra space required]"
   ]
  },
  {
   "cell_type": "markdown",
   "id": "54ae9b22-a3fd-4d97-807c-9deb388d03b1",
   "metadata": {},
   "source": [
    "#### Thank You!!"
   ]
  }
 ],
 "metadata": {
  "kernelspec": {
   "display_name": "Python 3 (ipykernel)",
   "language": "python",
   "name": "python3"
  },
  "language_info": {
   "codemirror_mode": {
    "name": "ipython",
    "version": 3
   },
   "file_extension": ".py",
   "mimetype": "text/x-python",
   "name": "python",
   "nbconvert_exporter": "python",
   "pygments_lexer": "ipython3",
   "version": "3.8.8"
  }
 },
 "nbformat": 4,
 "nbformat_minor": 5
}
