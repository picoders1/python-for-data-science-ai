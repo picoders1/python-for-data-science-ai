{
 "cells": [
  {
   "cell_type": "markdown",
   "id": "8a36d3b1-1a8d-478e-8060-6477472e6bd4",
   "metadata": {},
   "source": [
    "# **Problem Statement**  \n",
    "## **3. Write a Python program to check if a string is a palindrome**"
   ]
  },
  {
   "cell_type": "markdown",
   "id": "6a9362ea-9518-4ddb-a46e-b8a132dedb9f",
   "metadata": {},
   "source": [
    "###Identify Constraints & Example Inputs/Outputs\n",
    "\n",
    "Input: A string (can be lowercase, uppercase, or contain spaces/special characters)\n",
    "\n",
    "Output: True if the string is a palindrome, otherwise False\n",
    "\n",
    "Constraints:\n",
    "- Ignore spaces, punctuation, and case sensitivity for checking\n",
    "- Return True for empty or single-character strings\n",
    "\n",
    "Example Cases:\n",
    "\n",
    "- is_palindrome(\"level\")      # Output: True\r",
    "- \n",
    "is_palindrome(\"Racecar\")    # Output: Tru\n",
    "- \r\n",
    "is_palindrome(\"hello\")      # Output: False\n",
    "- e\r\n",
    "is_palindrome(\"Able , was I saw Elba\")  # Output: True\n",
    "- is\r\n",
    "is_palindrome(\"\")           # Output: Truerue\r\n",
    " 1"
   ]
  },
  {
   "cell_type": "markdown",
   "id": "b68e7cad-ea42-4bb3-a20e-a91cba6d7424",
   "metadata": {},
   "source": [
    "### Solution Approach"
   ]
  },
  {
   "cell_type": "markdown",
   "id": "921795e3-5264-4e33-837d-96cb49473f6a",
   "metadata": {},
   "source": [
    "###Breakdown of the solution Approach\n",
    "\n",
    "Step 1: Convert the string to lowercase for case-insensitivity.\n",
    "\n",
    "Step 2: Remove all non-alphanumeric characters using filter() or re.sub().\n",
    "\n",
    "Step 3: Reverse the cleaned string and compare it with the original.\n",
    "\n",
    "Step 4: Return True if the original string equals its reverse, else return False.\n",
    "urn c\r\n"
   ]
  },
  {
   "cell_type": "markdown",
   "id": "be931aed-e6ac-4398-a9cc-cd43c98ed91b",
   "metadata": {},
   "source": [
    "### Solution "
   ]
  },
  {
   "cell_type": "code",
   "execution_count": 1,
   "id": "57cab10a-c58c-459b-b504-16dc7ee1d0ac",
   "metadata": {},
   "outputs": [],
   "source": [
    "# Approach 1: Using String Slicing\n",
    "def is_palindrome(s):\n",
    "    # Clean the string (lowercase and remove non-alphanumeric characters)\n",
    "    cleaned = ''.join(filter(str.isalnum, s.lower()))\n",
    "    \n",
    "    # Check if cleaned string is equal to its reverse\n",
    "    return cleaned == cleaned[::-1]"
   ]
  },
  {
   "cell_type": "code",
   "execution_count": 2,
   "id": "d9233256-dfab-42d8-928b-722e4493e79e",
   "metadata": {},
   "outputs": [
    {
     "name": "stdout",
     "output_type": "stream",
     "text": [
      "True\n"
     ]
    }
   ],
   "source": [
    "# Example Usage\n",
    "print(is_palindrome(\"level\"))      # Output: True"
   ]
  },
  {
   "cell_type": "code",
   "execution_count": 3,
   "id": "32e6a95e-a9ab-4d92-9f58-7413ce437c38",
   "metadata": {},
   "outputs": [
    {
     "name": "stdout",
     "output_type": "stream",
     "text": [
      "True\n"
     ]
    }
   ],
   "source": [
    "# Example Usage\n",
    "print(is_palindrome(\"Racecar\"))    # Output: True"
   ]
  },
  {
   "cell_type": "code",
   "execution_count": 4,
   "id": "e0dabc67-eda9-4ddf-bdec-8e73f9186177",
   "metadata": {},
   "outputs": [
    {
     "name": "stdout",
     "output_type": "stream",
     "text": [
      "True\n"
     ]
    }
   ],
   "source": [
    "print(is_palindrome(\"Able , was I saw Elba\"))  # Output: True"
   ]
  },
  {
   "cell_type": "code",
   "execution_count": 5,
   "id": "346f062f-71f9-4e62-9cb8-849d1f1bbc71",
   "metadata": {},
   "outputs": [
    {
     "name": "stdout",
     "output_type": "stream",
     "text": [
      "True\n"
     ]
    }
   ],
   "source": [
    "print(is_palindrome(\"\"))           # Output: True"
   ]
  },
  {
   "cell_type": "markdown",
   "id": "9febed86-bc77-49f3-aa50-7adfe033688a",
   "metadata": {},
   "source": [
    "### Alternative Solution1"
   ]
  },
  {
   "cell_type": "code",
   "execution_count": 6,
   "id": "0efc9774-33f6-41e2-8cd0-7cbeae985cfe",
   "metadata": {},
   "outputs": [],
   "source": [
    "# Approach 2: Using Two-Pointer Technique\n",
    "def is_palindrome_two_pointer(s):\n",
    "    \"\"\"\n",
    "    This function checks if a string is a palindrome using the two-pointer approach.\n",
    "    \"\"\"\n",
    "    cleaned = ''.join(filter(str.isalnum, s.lower()))\n",
    "    left, right = 0, len(cleaned) - 1\n",
    "    \n",
    "    while left < right:\n",
    "        if cleaned[left] != cleaned[right]:\n",
    "            return False\n",
    "        left += 1\n",
    "        right -= 1\n",
    "    \n",
    "    return True\n"
   ]
  },
  {
   "cell_type": "code",
   "execution_count": 7,
   "id": "705534f5-d328-4908-a080-2c38b82af4f6",
   "metadata": {},
   "outputs": [
    {
     "name": "stdout",
     "output_type": "stream",
     "text": [
      "True\n"
     ]
    }
   ],
   "source": [
    "# Example Usage\n",
    "print(is_palindrome_two_pointer(\"Racecar\"))    # Output: True"
   ]
  },
  {
   "cell_type": "markdown",
   "id": "a730d6c1-8f7e-48ba-97f6-c7af7da37ec7",
   "metadata": {},
   "source": [
    "### Alternative Solution2"
   ]
  },
  {
   "cell_type": "code",
   "execution_count": 8,
   "id": "92423a02-cf2a-4e42-a663-631b85771a88",
   "metadata": {},
   "outputs": [],
   "source": [
    "# Using re.sub() for Cleaning and String Comparison\n",
    "\n",
    "import re\n",
    "\n",
    "def is_palindrome_regex(s):\n",
    "    cleaned = re.sub(r'[^a-zA-Z0-9]', '', s.lower())\n",
    "    return cleaned == cleaned[::-1]\n"
   ]
  },
  {
   "cell_type": "code",
   "execution_count": 9,
   "id": "2a64dbb9-5932-47c8-89df-838db414ef2d",
   "metadata": {},
   "outputs": [
    {
     "name": "stdout",
     "output_type": "stream",
     "text": [
      "True\n"
     ]
    }
   ],
   "source": [
    "# Example Usage\n",
    "print(is_palindrome_regex(\"level\"))      # Output: True"
   ]
  },
  {
   "cell_type": "markdown",
   "id": "462318bf-672f-4468-9122-070cf70b5af5",
   "metadata": {},
   "source": [
    "## Complexity Analysis"
   ]
  },
  {
   "cell_type": "markdown",
   "id": "34d34ca0-bcd8-44d5-b708-c4e50ee8751a",
   "metadata": {},
   "source": [
    "Time Complexity:\n",
    "- Cleaning and reversing the string takes O(n) where n is the length of the string.\n",
    "- Overall: O(n)\n",
    "\n",
    "Space Complexity:\n",
    "- Storing the cleaned string and its reverse requires O(n) space.\n",
    "- Overall: O(n)"
   ]
  },
  {
   "cell_type": "markdown",
   "id": "54ae9b22-a3fd-4d97-807c-9deb388d03b1",
   "metadata": {},
   "source": [
    "#### Thank You!!"
   ]
  }
 ],
 "metadata": {
  "kernelspec": {
   "display_name": "Python 3 (ipykernel)",
   "language": "python",
   "name": "python3"
  },
  "language_info": {
   "codemirror_mode": {
    "name": "ipython",
    "version": 3
   },
   "file_extension": ".py",
   "mimetype": "text/x-python",
   "name": "python",
   "nbconvert_exporter": "python",
   "pygments_lexer": "ipython3",
   "version": "3.8.10"
  }
 },
 "nbformat": 4,
 "nbformat_minor": 5
}
