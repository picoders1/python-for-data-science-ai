{
 "cells": [
  {
   "cell_type": "markdown",
   "id": "8a36d3b1-1a8d-478e-8060-6477472e6bd4",
   "metadata": {},
   "source": [
    "# **Problem Statement**  \n",
    "## **18. Write a Python function to find the sum of all numbers in a given list**"
   ]
  },
  {
   "cell_type": "markdown",
   "id": "12b96244-784f-44f1-b72a-e69e054e8b67",
   "metadata": {
    "jp-MarkdownHeadingCollapsed": true
   },
   "source": [
    "### Identify Constraints & Example Inputs/Outputs\n",
    "\n",
    "Constraints:\n",
    "\n",
    "- The input will be a list of numbers (integers or floats).\n",
    "- The list can have positive, negative, or zero values.\n",
    "- The function should return 0 for an empty list.\n",
    "\n",
    "---\n",
    "Example1 : \n",
    "nums = [1, 2, 3, 4, 5]\n",
    "\n",
    "#Output: \n",
    "15\n",
    "\n",
    "---\n",
    "Example2 : \n",
    "nums = [-2, 7, 8, -4]\n",
    "\n",
    "#Output: \n",
    "9\n",
    "\n",
    "---\n",
    "Example3 : \n",
    "nums = []\n",
    "\n",
    "#Output: \n",
    "0\n",
    "\n",
    "---\n",
    "Example4 : \n",
    "nums = [1.5, 3, 4.5, 10]\n",
    "\n",
    "#Output: \n",
    "19\n"
   ]
  },
  {
   "cell_type": "markdown",
   "id": "b68e7cad-ea42-4bb3-a20e-a91cba6d7424",
   "metadata": {},
   "source": [
    "### Solution Approach"
   ]
  },
  {
   "cell_type": "markdown",
   "id": "144b599f-addb-4686-8425-1f6e6f862acd",
   "metadata": {},
   "source": [
    "Step 1: Initialize a variable total_sum = 0.\n",
    "\n",
    "Step 2: Loop through each number in the list.\n",
    "\n",
    "Step 3: Add the number to total_sum.\n",
    "\n",
    "Step 4: Return the final sum."
   ]
  },
  {
   "cell_type": "markdown",
   "id": "be931aed-e6ac-4398-a9cc-cd43c98ed91b",
   "metadata": {},
   "source": [
    "### Solution Code"
   ]
  },
  {
   "cell_type": "code",
   "execution_count": 2,
   "id": "57cab10a-c58c-459b-b504-16dc7ee1d0ac",
   "metadata": {},
   "outputs": [],
   "source": [
    "# Approach 1: Brute Force Approach: Using Loop\n",
    "def sum_of_list(nums):\n",
    "    total_sum = 0\n",
    "    for num in nums:\n",
    "        total_sum += num\n",
    "    return total_sum"
   ]
  },
  {
   "cell_type": "code",
   "execution_count": 3,
   "id": "c6b73b1c-518d-4265-925c-8c271c2045f7",
   "metadata": {},
   "outputs": [
    {
     "name": "stdout",
     "output_type": "stream",
     "text": [
      "15\n",
      "8\n",
      "0\n",
      "10.0\n"
     ]
    }
   ],
   "source": [
    "# Example usage\n",
    "print(sum_of_list([1, 2, 3, 4, 5]))  # Output: 15\n",
    "print(sum_of_list([-2, 7, 8, -5]))  # Output: 8\n",
    "print(sum_of_list([]))  # Output: 0\n",
    "print(sum_of_list([3.5, 2.5, 4.0]))  # Output: 10.0"
   ]
  },
  {
   "cell_type": "markdown",
   "id": "9febed86-bc77-49f3-aa50-7adfe033688a",
   "metadata": {},
   "source": [
    "### Alternative Solution1"
   ]
  },
  {
   "cell_type": "code",
   "execution_count": 4,
   "id": "0efc9774-33f6-41e2-8cd0-7cbeae985cfe",
   "metadata": {},
   "outputs": [],
   "source": [
    "# Approach 2: Optimized Approach: Using Python’s Built-in sum() Function\n",
    "def sum_of_list_optimized(nums):\n",
    "    return sum(nums)"
   ]
  },
  {
   "cell_type": "code",
   "execution_count": 6,
   "id": "705534f5-d328-4908-a080-2c38b82af4f6",
   "metadata": {},
   "outputs": [
    {
     "name": "stdout",
     "output_type": "stream",
     "text": [
      "15\n",
      "8\n",
      "0\n",
      "10.0\n"
     ]
    }
   ],
   "source": [
    "# Example usage\n",
    "print(sum_of_list_optimized([1, 2, 3, 4, 5]))  # Output: 15\n",
    "print(sum_of_list_optimized([-2, 7, 8, -5]))  # Output: 8\n",
    "print(sum_of_list_optimized([]))  # Output: 0\n",
    "print(sum_of_list_optimized([3.5, 2.5, 4.0]))  # Output: 10.0"
   ]
  },
  {
   "cell_type": "markdown",
   "id": "3a6b9635-e779-4015-8c0a-877462fe95b2",
   "metadata": {},
   "source": [
    "### Alternative Solution2"
   ]
  },
  {
   "cell_type": "code",
   "execution_count": 8,
   "id": "9066ebd5-2e37-48c3-93d8-89b43c1dfc83",
   "metadata": {},
   "outputs": [],
   "source": [
    "# Approach 3: Using Recursion\n",
    "def sum_of_list_recursive(nums):\n",
    "    if not nums:\n",
    "        return 0\n",
    "    return nums[0] + sum_of_list_recursive(nums[1:])"
   ]
  },
  {
   "cell_type": "code",
   "execution_count": 9,
   "id": "f7f74eda-8f87-4d87-87d9-4a97bbf2a5eb",
   "metadata": {},
   "outputs": [
    {
     "name": "stdout",
     "output_type": "stream",
     "text": [
      "15\n",
      "8\n",
      "0\n",
      "10.0\n"
     ]
    }
   ],
   "source": [
    "# Example usage\n",
    "print(sum_of_list_optimized([1, 2, 3, 4, 5]))  # Output: 15\n",
    "print(sum_of_list_optimized([-2, 7, 8, -5]))  # Output: 8\n",
    "print(sum_of_list_optimized([]))  # Output: 0\n",
    "print(sum_of_list_optimized([3.5, 2.5, 4.0]))  # Output: 10.0"
   ]
  },
  {
   "cell_type": "markdown",
   "id": "462318bf-672f-4468-9122-070cf70b5af5",
   "metadata": {},
   "source": [
    "## Complexity Analysis"
   ]
  },
  {
   "cell_type": "markdown",
   "id": "3ff61a2e-affa-44cc-b483-573f9dc9b166",
   "metadata": {},
   "source": [
    "Time Complexity:\n",
    "\n",
    "- Loop-based approach: O(n)\n",
    "- Using sum() function: O(n) (Internally optimized in C)\n",
    "- Recursive approach: O(n) (Function call overhead)\n",
    " \n",
    "Space Complexity:\n",
    "\n",
    "- Loop-based approach: O(1)\n",
    "- Using sum() function: O(1)\n",
    "- Recursive approach: O(n) (Recursive function call stack)\n"
   ]
  },
  {
   "cell_type": "markdown",
   "id": "54ae9b22-a3fd-4d97-807c-9deb388d03b1",
   "metadata": {},
   "source": [
    "#### Thank You!!"
   ]
  }
 ],
 "metadata": {
  "kernelspec": {
   "display_name": "Python 3 (ipykernel)",
   "language": "python",
   "name": "python3"
  },
  "language_info": {
   "codemirror_mode": {
    "name": "ipython",
    "version": 3
   },
   "file_extension": ".py",
   "mimetype": "text/x-python",
   "name": "python",
   "nbconvert_exporter": "python",
   "pygments_lexer": "ipython3",
   "version": "3.8.10"
  }
 },
 "nbformat": 4,
 "nbformat_minor": 5
}
