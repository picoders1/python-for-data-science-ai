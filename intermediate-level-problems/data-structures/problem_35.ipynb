{
 "cells": [
  {
   "cell_type": "markdown",
   "id": "8a36d3b1-1a8d-478e-8060-6477472e6bd4",
   "metadata": {},
   "source": [
    "# **Problem Statement**  \n",
    "## **35. Implement a Priority Queue using a Heap**"
   ]
  },
  {
   "cell_type": "markdown",
   "id": "97e8eaf4-c67c-4ef9-87dd-a1c242b88a5a",
   "metadata": {},
   "source": [
    "Implement a Priority Queue that supports the following operations efficiently:\n",
    "\n",
    "- insert(key) → Inserts a new element with a given priority\n",
    "- extract_min() or extract_max() → Removes and returns the element with the highest (or lowest) priority\n",
    "- peek() → Returns the top-priority element without removing it\n",
    "- is_empty() → Checks whether the queue is empty\n",
    "\n",
    "The goal is to implement it using a heap-based approach, ensuring optimal time complexity for insertion and extraction."
   ]
  },
  {
   "cell_type": "markdown",
   "id": "12b96244-784f-44f1-b72a-e69e054e8b67",
   "metadata": {},
   "source": [
    "### Constraints & Example Inputs/Outputs\n",
    "\n",
    "- Number of operations ≤ 10⁵\n",
    "- Elements can be integers or tuples (priority, value)\n",
    "- Must maintain heap property:\n",
    "    - Min-Heap: Parent ≤ children\n",
    "    - Max-Heap: Parent ≥ children\n",
    "\n",
    "### Example:\n",
    "\n",
    "```python\n",
    "pq = PriorityQueue()\n",
    "pq.insert(5)\n",
    "pq.insert(1)\n",
    "pq.insert(3)\n",
    "print(pq.peek())         # 1 (smallest element)\n",
    "print(pq.extract_min())  # 1\n",
    "print(pq.extract_min())  # 3\n",
    "print(pq.is_empty())     # False\n",
    "print(pq.extract_min())  # 5\n",
    "print(pq.is_empty())     # True\n",
    "```\n",
    "    \n",
    "Exspected Output:\n",
    "\n",
    "1\n",
    "\n",
    "1\n",
    "\n",
    "3\n",
    "\n",
    "False\n",
    "\n",
    "5 \n",
    "\n",
    "True\n"
   ]
  },
  {
   "cell_type": "markdown",
   "id": "b68e7cad-ea42-4bb3-a20e-a91cba6d7424",
   "metadata": {},
   "source": [
    "### Solution Approach"
   ]
  },
  {
   "cell_type": "markdown",
   "id": "144b599f-addb-4686-8425-1f6e6f862acd",
   "metadata": {},
   "source": [
    "Here are the 2 possible approaches:\n",
    "\n",
    "#### 1. Brute Force Idea (Unsorted or Sorted List):\n",
    "\n",
    "- Unsorted list:\n",
    "    - Insert → O(1)\n",
    "    - Extract min/max → O(n) (need to search)\n",
    "\n",
    "- Sorted list:\n",
    "    - Insert → O(n) (to maintain order)\n",
    "    - Extract min/max → O(1)\n",
    "\n",
    "[ Note: Neither achieves O(log n) efficiency for both operations. ]\n",
    "\n",
    "\n",
    "#### 2. Optimized Idea (Using a Heap):\n",
    "A heap (binary heap) maintasins the heap property:\n",
    "- Min-Heap: each node ≤ its children\n",
    "- Max-Heap: each node ≥ its children\n",
    "\n",
    "We can store the heap in a list, where:\n",
    "\n",
    "- Parent index = i\n",
    "- Left child = 2*i + 1\n",
    "- Right child = 2*i + 2\n",
    "\n",
    "Operations:\n",
    "1. insert(x) → add element to end, bubble up to restore heap property → O(log n)\n",
    "2. extract_min() → remove root, replace with last, heapify down → O(log n)\n",
    "3. peek() → O(1)\n",
    "4. is_empty() → O(1)\n"
   ]
  },
  {
   "cell_type": "markdown",
   "id": "be931aed-e6ac-4398-a9cc-cd43c98ed91b",
   "metadata": {},
   "source": [
    "### Solution Code"
   ]
  },
  {
   "cell_type": "code",
   "execution_count": 2,
   "id": "57cab10a-c58c-459b-b504-16dc7ee1d0ac",
   "metadata": {},
   "outputs": [],
   "source": [
    "# Approach1: Brute Force Approach\n",
    "class BruteForcePriorityQueue:\n",
    "    def __init__(self):\n",
    "        self.data = []\n",
    "\n",
    "    def insert(self, val):\n",
    "        self.data.append(val)\n",
    "\n",
    "    def extract_min(self):\n",
    "        if not self.data:\n",
    "            return None\n",
    "        min_val = min(self.data)\n",
    "        self.data.remove(min_val)\n",
    "        return min_val \n",
    "\n",
    "    def peek(self):\n",
    "        if not self.data:\n",
    "            return None\n",
    "        return min(self.data)\n",
    "\n",
    "    def is_empty(self):\n",
    "        return len(self.data) == 0"
   ]
  },
  {
   "cell_type": "markdown",
   "id": "dd5c867a-d13d-4c7b-b51d-99bd12b7b1a7",
   "metadata": {},
   "source": [
    "##### Time Complexity:\n",
    "- Insert → O(1)\n",
    "- Extract/Peek → O(n)\n",
    "\n",
    "##### Space Complexity: O(n)"
   ]
  },
  {
   "cell_type": "markdown",
   "id": "9febed86-bc77-49f3-aa50-7adfe033688a",
   "metadata": {},
   "source": [
    "### Alternative Solution (Optimized) - Using Min-Heap"
   ]
  },
  {
   "cell_type": "markdown",
   "id": "25d1a534-ad46-4d1d-98d7-f33138120ee9",
   "metadata": {},
   "source": [
    "Option1 - Implement manually using heap property\n",
    "Option2 - Use Python's heapq for simplicity (one of the easiest way) "
   ]
  },
  {
   "cell_type": "code",
   "execution_count": 3,
   "id": "d7a3c77f-8bc9-434b-a7ac-e60e6a7b76a9",
   "metadata": {},
   "outputs": [],
   "source": [
    "# Option 1: M[anual Implementation\n",
    "\n",
    "class MinHeapPriorityQueue:\n",
    "    def __init__(self):\n",
    "        self.heap = []\n",
    "    \n",
    "    def _heapify_up(self, index):\n",
    "        parent = (index - 1) // 2\n",
    "        while index > 0 and self.heap[index] < self.heap[parent]:\n",
    "            self.heap[index], self.heap[parent] = self.heap[parent], self.heap[index]\n",
    "            index = parent\n",
    "            parent = (index - 1) // 2\n",
    "\n",
    "    def _heapify_down(self, index):\n",
    "        size = len(self.heap)\n",
    "        while True:\n",
    "            smallest = index\n",
    "            left = 2 * index + 1\n",
    "            right = 2 * index + 2\n",
    "            \n",
    "            if left < size and self.heap[left] < self.heap[smallest]:\n",
    "                smallest = left\n",
    "            if right < size and self.heap[right] < self.heap[smallest]:\n",
    "                smallest = right\n",
    "            if smallest == index:\n",
    "                break\n",
    "            self.heap[index], self.heap[smallest] = self.heap[smallest], self.heap[index]\n",
    "            index = smallest\n",
    "\n",
    "    def insert(self, val):\n",
    "        self.heap.append(val)\n",
    "        self._heapify_up(len(self.heap) - 1)\n",
    "\n",
    "    def extract_min(self):\n",
    "        if not self.heap:\n",
    "            return None\n",
    "        if len(self.heap) == 1:\n",
    "            return self.heap.pop()\n",
    "        root = self.heap[0]\n",
    "        self.heap[0] = self.heap.pop()\n",
    "        self._heapify_down(0)\n",
    "        return root\n",
    "\n",
    "    def peek(self):\n",
    "        return self.heap[0] if self.heap else None\n",
    "\n",
    "    def is_empty(self):\n",
    "        return len(self.heap) == 0\n"
   ]
  },
  {
   "cell_type": "code",
   "execution_count": 6,
   "id": "3d0f40fa-e3cf-49eb-b872-7290e4cc7f70",
   "metadata": {},
   "outputs": [],
   "source": [
    "# Option 2: Using Python's heapq\n",
    "\n",
    "import heapq\n",
    "\n",
    "class PriorityQueueHeapQ:\n",
    "    def __init__(self):\n",
    "        self.heap = []\n",
    "\n",
    "    def insert(self, val):\n",
    "        heapq.heappush(self.heap, val)\n",
    "\n",
    "    def extract_min(self):\n",
    "        return heapq.heappop(self.heap) if self.heap else None\n",
    "\n",
    "    def peek(self):\n",
    "        return self.heap[0] if self.heap else None\n",
    "\n",
    "    def is_empty(self):\n",
    "        return len(self.heap) == 0"
   ]
  },
  {
   "cell_type": "markdown",
   "id": "2459abe6-92bc-4283-ad4b-aff83def7ae0",
   "metadata": {},
   "source": [
    "### Alternative Approaches"
   ]
  },
  {
   "cell_type": "markdown",
   "id": "9968c8eb-bc72-4b47-92ab-977b2e022a1e",
   "metadata": {},
   "source": [
    "- Brute Force (Recursive) → simple but inefficient for skewed trees.\n",
    "- BFS using Queue → optimal approach.\n",
    "- DFS with level tracking → pass current depth to recursive DFS, push into result[level]."
   ]
  },
  {
   "cell_type": "markdown",
   "id": "d6a0376a-06d0-45f0-8c7e-c16ff2a673ef",
   "metadata": {},
   "source": [
    "### Test Cases "
   ]
  },
  {
   "cell_type": "code",
   "execution_count": 8,
   "id": "ae26483e-d6b2-4834-98f4-d7566355dc5d",
   "metadata": {},
   "outputs": [
    {
     "name": "stdout",
     "output_type": "stream",
     "text": [
      "=== Brute Force Priority Queue ===\n",
      "1\n",
      "1\n",
      "3\n",
      "False\n",
      "5\n",
      "8\n",
      "True\n",
      "=== Manual Min Heap ===\n",
      "1\n",
      "1\n",
      "3\n",
      "False\n",
      "5\n",
      "8\n",
      "True\n",
      "\n",
      "=== Using heapq ===\n",
      "2\n",
      "2\n",
      "4\n",
      "7\n",
      "9\n",
      "True\n"
     ]
    }
   ],
   "source": [
    "def test_priority_queue():\n",
    "    print(\"=== Brute Force Priority Queue ===\")\n",
    "    pq = BruteForcePriorityQueue()\n",
    "    pq.insert(5)\n",
    "    pq.insert(3)\n",
    "    pq.insert(8)\n",
    "    pq.insert(1)\n",
    "    print(pq.peek())          # 1\n",
    "    print(pq.extract_min())   # 1\n",
    "    print(pq.extract_min())   # 3\n",
    "    print(pq.is_empty())      # False\n",
    "    print(pq.extract_min())   # 5\n",
    "    print(pq.extract_min())   # 8\n",
    "    print(pq.is_empty())      # True\n",
    "\n",
    "    \n",
    "    print(\"=== Manual Min Heap ===\")\n",
    "    pq1 = MinHeapPriorityQueue()\n",
    "    pq1.insert(5)\n",
    "    pq1.insert(3)\n",
    "    pq1.insert(8)\n",
    "    pq1.insert(1)\n",
    "    print(pq1.peek())          # 1\n",
    "    print(pq1.extract_min())   # 1\n",
    "    print(pq1.extract_min())   # 3\n",
    "    print(pq1.is_empty())      # False\n",
    "    print(pq1.extract_min())   # 5\n",
    "    print(pq1.extract_min())   # 8\n",
    "    print(pq1.is_empty())      # True\n",
    "\n",
    "    print(\"\\n=== Using heapq ===\")\n",
    "    pq2 = PriorityQueueHeapQ()\n",
    "    for val in [7, 2, 9, 4]:\n",
    "        pq2.insert(val)\n",
    "    print(pq2.peek())         # 2\n",
    "    print(pq2.extract_min())  # 2\n",
    "    print(pq2.extract_min())  # 4\n",
    "    print(pq2.extract_min())  # 7\n",
    "    print(pq2.extract_min())  # 9\n",
    "    print(pq2.is_empty())     # True\n",
    "\n",
    "test_priority_queue()\n"
   ]
  },
  {
   "cell_type": "markdown",
   "id": "462318bf-672f-4468-9122-070cf70b5af5",
   "metadata": {},
   "source": [
    "### Complexity Analysis"
   ]
  },
  {
   "cell_type": "markdown",
   "id": "3ff61a2e-affa-44cc-b483-573f9dc9b166",
   "metadata": {},
   "source": [
    "| Operation   | Brute Force | Heap Implementation | Explanation  |\n",
    "| ----------- | ----------- | ------------------- | ------------ |\n",
    "| Insert      | O(1)        | O(log n)            | Bubble up    |\n",
    "| Extract Min | O(n)        | O(log n)            | Heapify down |\n",
    "| Peek        | O(n)        | O(1)                | Root access  |\n",
    "| Space       | O(n)        | O(n)                | Heap storage |\n"
   ]
  },
  {
   "cell_type": "markdown",
   "id": "fc9e378e-d5e4-468d-90aa-9a541d53271f",
   "metadata": {},
   "source": [
    "### Real-World Applications "
   ]
  },
  {
   "cell_type": "markdown",
   "id": "15c62295-3c4f-45aa-b404-1de88352bb5d",
   "metadata": {},
   "source": [
    "- Dijkstra’s Algorithm (shortest path)\n",
    "- Huffman Encoding\n",
    "- Job Scheduling (based on priority)\n",
    "- Task management systems\n",
    "- Event simulation queues"
   ]
  },
  {
   "cell_type": "markdown",
   "id": "54ae9b22-a3fd-4d97-807c-9deb388d03b1",
   "metadata": {},
   "source": [
    "#### Thank You!!"
   ]
  }
 ],
 "metadata": {
  "kernelspec": {
   "display_name": "Python 3 (ipykernel)",
   "language": "python",
   "name": "python3"
  },
  "language_info": {
   "codemirror_mode": {
    "name": "ipython",
    "version": 3
   },
   "file_extension": ".py",
   "mimetype": "text/x-python",
   "name": "python",
   "nbconvert_exporter": "python",
   "pygments_lexer": "ipython3",
   "version": "3.12.3"
  }
 },
 "nbformat": 4,
 "nbformat_minor": 5
}
