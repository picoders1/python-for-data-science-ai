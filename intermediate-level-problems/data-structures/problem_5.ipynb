{
 "cells": [
  {
   "cell_type": "markdown",
   "id": "8a36d3b1-1a8d-478e-8060-6477472e6bd4",
   "metadata": {},
   "source": [
    "# **Problem Statement**  \n",
    "## **5. Detect and remove a loop in a linked list**"
   ]
  },
  {
   "cell_type": "markdown",
   "id": "97e8eaf4-c67c-4ef9-87dd-a1c242b88a5a",
   "metadata": {},
   "source": [
    "Given a singly linked list, detect whether a loop exists. If a loop is found, remove it to restore the list as a linear linked list."
   ]
  },
  {
   "cell_type": "markdown",
   "id": "12b96244-784f-44f1-b72a-e69e054e8b67",
   "metadata": {},
   "source": [
    "### Constraints & Example Inputs/Outputs\n",
    "\n",
    "- Input: Head of a linked list.\n",
    "- Output: The linked list with the loop removed (if one exists).\n",
    "- Must not lose nodes while breaking the loop.\n",
    "- Allowed to use Floyd’s Cycle Detection Algorithm (Tortoise and Hare).\n",
    "\n",
    "##### Example1: With Loop\n",
    "Input:  1 -> 2 -> 3 -> 4 -> 5 -> points back to node 3\n",
    "\n",
    "Output: 1 -> 2 -> 3 -> 4 -> 5 -> None\n",
    "\n",
    "##### Example2: No Loop\n",
    "Input:  10 -> 20 -> 30 -> None\n",
    "\n",
    "Output: 10 -> 20 -> 30 -> None\n"
   ]
  },
  {
   "cell_type": "markdown",
   "id": "b68e7cad-ea42-4bb3-a20e-a91cba6d7424",
   "metadata": {},
   "source": [
    "### Solution Approach"
   ]
  },
  {
   "cell_type": "markdown",
   "id": "144b599f-addb-4686-8425-1f6e6f862acd",
   "metadata": {},
   "source": [
    "Here are the 2 best possible approaches:\n",
    "##### 1. Brute Force Approach (Hashing):\n",
    "\n",
    "- Traverse the linked list, store visited nodes in a set.\n",
    "- If a node is revisited → loop detected.\n",
    "- To remove loop → break the link at the node before the repeated one.\n",
    "- Time: O(n), Space: O(n).\n",
    "\n",
    "##### 2. Optimized Approach (Floyd’s Cycle Detection):\n",
    "\n",
    "- Use two pointers (slow and fast).\n",
    "- If they ever meet → loop exists.\n",
    "- To remove loop:\n",
    "    - Reset one pointer to head, keep the other at meeting point.\n",
    "    - Move both one step at a time until they meet at loop starting node.\n",
    "    - Find the node just before loop start and set next = None.\n",
    "- Time: O(n), Space: O(1)."
   ]
  },
  {
   "cell_type": "markdown",
   "id": "be931aed-e6ac-4398-a9cc-cd43c98ed91b",
   "metadata": {},
   "source": [
    "### Solution Code"
   ]
  },
  {
   "cell_type": "code",
   "execution_count": 1,
   "id": "57cab10a-c58c-459b-b504-16dc7ee1d0ac",
   "metadata": {},
   "outputs": [],
   "source": [
    "# Approach1: Brute Force Approach\n",
    "class Node:\n",
    "    def __init__(self, data):\n",
    "        self.data = data\n",
    "        self.next = None\n",
    "\n",
    "def detect_and_remove_loop_bruteforce(head):\n",
    "    visited = set()\n",
    "    prev = None\n",
    "    current = head\n",
    "    \n",
    "    while current:\n",
    "        if current in visited:\n",
    "            prev.next = None  # break loop\n",
    "            return True\n",
    "        visited.add(current)\n",
    "        prev = current\n",
    "        current = current.next\n",
    "    return False"
   ]
  },
  {
   "cell_type": "markdown",
   "id": "9febed86-bc77-49f3-aa50-7adfe033688a",
   "metadata": {},
   "source": [
    "### Alternative Solution"
   ]
  },
  {
   "cell_type": "code",
   "execution_count": 2,
   "id": "3d0f40fa-e3cf-49eb-b872-7290e4cc7f70",
   "metadata": {},
   "outputs": [],
   "source": [
    "# Approach2: Optimized Approach (Floyd's Cycle Detection)\n",
    "def detect_and_remove_loop_optimized(head):\n",
    "    slow, fast = head, head\n",
    "    \n",
    "    # Step 1: Detect loop\n",
    "    while fast and fast.next:\n",
    "        slow = slow.next\n",
    "        fast = fast.next.next\n",
    "        if slow == fast:\n",
    "            break\n",
    "    else:\n",
    "        return False  # No loop\n",
    "    \n",
    "    # Step 2: Find start of loop\n",
    "    slow = head\n",
    "    while slow != fast:\n",
    "        slow = slow.next\n",
    "        fast = fast.next\n",
    "    \n",
    "    # Step 3: Find node before loop start and break it\n",
    "    ptr = slow\n",
    "    while ptr.next != slow:\n",
    "        ptr = ptr.next\n",
    "    ptr.next = None\n",
    "    return True"
   ]
  },
  {
   "cell_type": "markdown",
   "id": "cff9b126-5413-4b6b-bf6b-d3809984526d",
   "metadata": {},
   "source": [
    "### Alternative Approaches\n",
    "- Hashing-based(extra space but simple)\n",
    "- -> Floyd's Cycle Detection (Optimal, constant space)\n",
    "- -> Pointer marking approach(modifies node structure with a visited flag, not always allowed)."
   ]
  },
  {
   "cell_type": "markdown",
   "id": "c7c2254f-1ab4-4ab6-8df2-9645d86c8afa",
   "metadata": {},
   "source": [
    "### Adding Test Utilities (Test Cases)"
   ]
  },
  {
   "cell_type": "code",
   "execution_count": 3,
   "id": "25200348-d8bc-48f8-a06e-34d8b4270c8a",
   "metadata": {},
   "outputs": [],
   "source": [
    "class LinkedList:\n",
    "    def __init__(self):\n",
    "        self.head = None\n",
    "    \n",
    "    def append(self, data):\n",
    "        new_node = Node(data)\n",
    "        if not self.head:\n",
    "            self.head = new_node\n",
    "            return\n",
    "        temp = self.head\n",
    "        while temp.next:\n",
    "            temp = temp.next\n",
    "        temp.next = new_node\n",
    "    \n",
    "    def create_loop(self, pos):\n",
    "        \"\"\"Create a loop by connecting the last node to the node at position `pos` (1-indexed).\"\"\"\n",
    "        if pos == 0:\n",
    "            return\n",
    "        loop_start = self.head\n",
    "        for _ in range(pos - 1):\n",
    "            loop_start = loop_start.next\n",
    "        end = self.head\n",
    "        while end.next:\n",
    "            end = end.next\n",
    "        end.next = loop_start\n",
    "    \n",
    "    def print_list(self, limit=20):\n",
    "        \"\"\"Print limited nodes to avoid infinite loop when there is a cycle.\"\"\"\n",
    "        temp, count = self.head, 0\n",
    "        result = []\n",
    "        while temp and count < limit:\n",
    "            result.append(str(temp.data))\n",
    "            temp = temp.next\n",
    "            count += 1\n",
    "        if temp:\n",
    "            result.append(\"...\")\n",
    "        print(\" -> \".join(result))\n"
   ]
  },
  {
   "cell_type": "markdown",
   "id": "00bd9daf-3915-421d-ad56-7c3ff0c7ecf7",
   "metadata": {},
   "source": [
    "### Applying Example1: With Loop\n",
    "Input: 1 -> 2 -> 3 -> 4 -> 5 -> points back to node 3\n",
    "\n",
    "Output: 1 -> 2 -> 3 -> 4 -> 5 -> None"
   ]
  },
  {
   "cell_type": "code",
   "execution_count": 4,
   "id": "3e08ec08-d7cd-4e2d-8758-91a42e4ef11f",
   "metadata": {},
   "outputs": [
    {
     "name": "stdout",
     "output_type": "stream",
     "text": [
      "Before removing loop (limited print):\n",
      "1 -> 2 -> 3 -> 4 -> 5 -> 3 -> 4 -> 5 -> 3 -> 4 -> 5 -> 3 -> 4 -> 5 -> 3 -> 4 -> 5 -> 3 -> 4 -> 5 -> ...\n",
      "After removing loop using Brute Force:\n",
      "1 -> 2 -> 3 -> 4 -> 5\n",
      "After removing loop using Optimized:\n",
      "1 -> 2 -> 3 -> 4 -> 5\n"
     ]
    }
   ],
   "source": [
    "# Example1: With Loop\n",
    "ll1 = LinkedList()\n",
    "for i in range(1, 6):   # creates 1 -> 2 -> 3 -> 4 -> 5\n",
    "    ll1.append(i)\n",
    "ll1.create_loop(3)      # loop back to node 3\n",
    "\n",
    "print(\"Before removing loop (limited print):\")\n",
    "ll1.print_list()\n",
    "\n",
    "# Brute Force\n",
    "detect_and_remove_loop_bruteforce(ll1.head)\n",
    "print(\"After removing loop using Brute Force:\")\n",
    "ll1.print_list()\n",
    "\n",
    "# Recreate the loop for optimized test\n",
    "ll1 = LinkedList()\n",
    "for i in range(1, 6):\n",
    "    ll1.append(i)\n",
    "ll1.create_loop(3)\n",
    "\n",
    "detect_and_remove_loop_optimized(ll1.head)\n",
    "print(\"After removing loop using Optimized:\")\n",
    "ll1.print_list()"
   ]
  },
  {
   "cell_type": "markdown",
   "id": "05612e29-23cc-4904-ae39-5967111bd1f3",
   "metadata": {},
   "source": [
    "### Applying Example2: No Loop\n",
    "Input: 10 -> 20 -> 30 -> None\n",
    "\n",
    "Output: 10 -> 20 -> 30 -> None"
   ]
  },
  {
   "cell_type": "code",
   "execution_count": 5,
   "id": "d4dfb4cb-6324-4354-bd8c-1e5b841a2c5e",
   "metadata": {},
   "outputs": [
    {
     "name": "stdout",
     "output_type": "stream",
     "text": [
      "\n",
      "Case 2: No loop present initially\n",
      "10 -> 20 -> 30\n",
      "After brute force check:\n",
      "10 -> 20 -> 30\n",
      "After optimized check:\n",
      "10 -> 20 -> 30\n"
     ]
    }
   ],
   "source": [
    "# Example2: No Loop\n",
    "ll2 = LinkedList()\n",
    "for val in [10, 20, 30]:\n",
    "    ll2.append(val)\n",
    "\n",
    "print(\"\\nCase 2: No loop present initially\")\n",
    "ll2.print_list()\n",
    "\n",
    "detect_and_remove_loop_bruteforce(ll2.head)   # Should not change list\n",
    "print(\"After brute force check:\")\n",
    "ll2.print_list()\n",
    "\n",
    "detect_and_remove_loop_optimized(ll2.head)   # Should not change list\n",
    "print(\"After optimized check:\")\n",
    "ll2.print_list()"
   ]
  },
  {
   "cell_type": "markdown",
   "id": "462318bf-672f-4468-9122-070cf70b5af5",
   "metadata": {},
   "source": [
    "## Complexity Analysis"
   ]
  },
  {
   "cell_type": "markdown",
   "id": "3ff61a2e-affa-44cc-b483-573f9dc9b166",
   "metadata": {},
   "source": [
    "##### Brute Force Approach (Hashing):\n",
    "- Time: O(n)\n",
    "- Space: O(n)\n",
    "\n",
    "##### Optimized Approach (Floyd's):\n",
    "- Time: O(n)\n",
    "- Space: O(1)"
   ]
  },
  {
   "cell_type": "markdown",
   "id": "54ae9b22-a3fd-4d97-807c-9deb388d03b1",
   "metadata": {},
   "source": [
    "#### Thank You!!"
   ]
  }
 ],
 "metadata": {
  "kernelspec": {
   "display_name": "Python 3 (ipykernel)",
   "language": "python",
   "name": "python3"
  },
  "language_info": {
   "codemirror_mode": {
    "name": "ipython",
    "version": 3
   },
   "file_extension": ".py",
   "mimetype": "text/x-python",
   "name": "python",
   "nbconvert_exporter": "python",
   "pygments_lexer": "ipython3",
   "version": "3.8.10"
  }
 },
 "nbformat": 4,
 "nbformat_minor": 5
}
