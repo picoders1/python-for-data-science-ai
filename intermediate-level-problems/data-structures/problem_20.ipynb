{
 "cells": [
  {
   "cell_type": "markdown",
   "id": "8a36d3b1-1a8d-478e-8060-6477472e6bd4",
   "metadata": {},
   "source": [
    "# **Problem Statement**  \n",
    "## **20. Find the number of islands in a 2D grid**"
   ]
  },
  {
   "cell_type": "markdown",
   "id": "97e8eaf4-c67c-4ef9-87dd-a1c242b88a5a",
   "metadata": {},
   "source": [
    "You are given a 2D grid consisting of '1's (land) and '0's (water). An island is formed by connecting adjacent lands horizontally or vertically.\n",
    "Return the total number of islands."
   ]
  },
  {
   "cell_type": "markdown",
   "id": "12b96244-784f-44f1-b72a-e69e054e8b67",
   "metadata": {},
   "source": [
    "### Constraints & Example Inputs/Outputs\n",
    "\n",
    "- Grid size: 1 ≤ rows, cols ≤ 300\n",
    "- Grid values: only '0' or '1'\n",
    "- An island is surrounded by water and is formed by connecting lands horizontally or vertically (not diagonally).\n",
    "\n",
    "### Example1:\n",
    "```python\n",
    "Input:\n",
    "grid = [\n",
    "  [\"1\",\"1\",\"0\",\"0\",\"0\"],\n",
    "  [\"1\",\"1\",\"0\",\"0\",\"0\"],\n",
    "  [\"0\",\"0\",\"1\",\"0\",\"0\"],\n",
    "  [\"0\",\"0\",\"0\",\"1\",\"1\"]\n",
    "]\n",
    "\n",
    "Output:\n",
    "3\n",
    "```\n",
    "\n",
    "### Example2:\n",
    "```python\n",
    "Input:\n",
    "grid = [\n",
    "  [\"1\",\"0\",\"1\"],\n",
    "  [\"0\",\"1\",\"0\"],\n",
    "  [\"1\",\"0\",\"1\"]\n",
    "]\n",
    "\n",
    "Output:\n",
    "5\n"
   ]
  },
  {
   "cell_type": "markdown",
   "id": "b68e7cad-ea42-4bb3-a20e-a91cba6d7424",
   "metadata": {},
   "source": [
    "### Solution Approach"
   ]
  },
  {
   "cell_type": "markdown",
   "id": "144b599f-addb-4686-8425-1f6e6f862acd",
   "metadata": {},
   "source": [
    "Here are the 2 best possible approaches:\n",
    "\n",
    "##### Naive/Brute Force Approach:\n",
    "- For each cell with '1', perform a DFS/BFS to mark all connected land as visited.\n",
    "- Each DFS/BFS traversal corresponds to one island.\n",
    "\n",
    "##### Optimized Approach (Union-Find/Disjoint Set Union):\n",
    "- Treat each cell as a node.\n",
    "- Union adjacent land cells.\n",
    "- Count the number of distinct connected components (roots).\n",
    "\n",
    "##### Why DFS/BFS is better here:\n",
    "- DFS/BFS is simpler to implement and efficient for grid traversal.\n",
    "- Union-Find is more suitable if multiple union queries are involved."
   ]
  },
  {
   "cell_type": "markdown",
   "id": "be931aed-e6ac-4398-a9cc-cd43c98ed91b",
   "metadata": {},
   "source": [
    "### Solution Code"
   ]
  },
  {
   "cell_type": "markdown",
   "id": "d609e0e4-d306-4fee-b22f-1427b28d8d54",
   "metadata": {},
   "source": [
    "##### Approach1: DFS/BFS"
   ]
  },
  {
   "cell_type": "code",
   "execution_count": 1,
   "id": "57cab10a-c58c-459b-b504-16dc7ee1d0ac",
   "metadata": {},
   "outputs": [],
   "source": [
    "# DFS Implementation\n",
    "def numIslandsDFS(grid):\n",
    "    if not grid:\n",
    "        return 0\n",
    "    \n",
    "    rows, cols = len(grid), len(grid[0])\n",
    "    visited = [[False]*cols for _ in range(rows)]\n",
    "    \n",
    "    def dfs(r, c):\n",
    "        if r < 0 or r >= rows or c < 0 or c >= cols:\n",
    "            return\n",
    "        if grid[r][c] == \"0\" or visited[r][c]:\n",
    "            return\n",
    "        visited[r][c] = True\n",
    "        # Explore 4 directions\n",
    "        dfs(r+1, c)\n",
    "        dfs(r-1, c)\n",
    "        dfs(r, c+1)\n",
    "        dfs(r, c-1)\n",
    "    \n",
    "    count = 0\n",
    "    for r in range(rows):\n",
    "        for c in range(cols):\n",
    "            if grid[r][c] == \"1\" and not visited[r][c]:\n",
    "                dfs(r, c)\n",
    "                count += 1\n",
    "    return count\n"
   ]
  },
  {
   "cell_type": "markdown",
   "id": "9febed86-bc77-49f3-aa50-7adfe033688a",
   "metadata": {},
   "source": [
    "### Alternative Solution"
   ]
  },
  {
   "cell_type": "code",
   "execution_count": 3,
   "id": "3d0f40fa-e3cf-49eb-b872-7290e4cc7f70",
   "metadata": {},
   "outputs": [],
   "source": [
    "# Approach2: Optimized Approach (Queue BFS)\n",
    "# BFS Implementation\n",
    "\n",
    "from collections import deque\n",
    "\n",
    "def numIslandsBFS(grid):\n",
    "    if not grid:\n",
    "        return 0\n",
    "    \n",
    "    rows, cols = len(grid), len(grid[0])\n",
    "    visited = [[False]*cols for _ in range(rows)]\n",
    "    \n",
    "    def bfs(r, c):\n",
    "        queue = deque([(r, c)])\n",
    "        visited[r][c] = True\n",
    "        while queue:\n",
    "            x, y = queue.popleft()\n",
    "            for dx, dy in [(1,0), (-1,0), (0,1), (0,-1)]:\n",
    "                nx, ny = x+dx, y+dy\n",
    "                if 0 <= nx < rows and 0 <= ny < cols and not visited[nx][ny] and grid[nx][ny] == \"1\":\n",
    "                    visited[nx][ny] = True\n",
    "                    queue.append((nx, ny))\n",
    "    \n",
    "    count = 0\n",
    "    for r in range(rows):\n",
    "        for c in range(cols):\n",
    "            if grid[r][c] == \"1\" and not visited[r][c]:\n",
    "                bfs(r, c)\n",
    "                count += 1\n",
    "    return count\n"
   ]
  },
  {
   "cell_type": "markdown",
   "id": "2459abe6-92bc-4283-ad4b-aff83def7ae0",
   "metadata": {},
   "source": [
    "### Optimized Approaches"
   ]
  },
  {
   "cell_type": "code",
   "execution_count": 4,
   "id": "80025947-df8e-4fab-b895-4a4ab442b6b4",
   "metadata": {},
   "outputs": [],
   "source": [
    "class UnionFind:\n",
    "    def __init__(self, grid):\n",
    "        rows, cols = len(grid), len(grid[0])\n",
    "        self.parent = {}\n",
    "        self.count = 0\n",
    "        for r in range(rows):\n",
    "            for c in range(cols):\n",
    "                if grid[r][c] == \"1\":\n",
    "                    self.parent[(r,c)] = (r,c)\n",
    "                    self.count += 1\n",
    "    \n",
    "    def find(self, x):\n",
    "        if self.parent[x] != x:\n",
    "            self.parent[x] = self.find(self.parent[x])\n",
    "        return self.parent[x]\n",
    "    \n",
    "    def union(self, a, b):\n",
    "        rootA, rootB = self.find(a), self.find(b)\n",
    "        if rootA != rootB:\n",
    "            self.parent[rootB] = rootA\n",
    "            self.count -= 1\n",
    "\n",
    "def numIslandsUnionFind(grid):\n",
    "    if not grid:\n",
    "        return 0\n",
    "    \n",
    "    rows, cols = len(grid), len(grid[0])\n",
    "    uf = UnionFind(grid)\n",
    "    \n",
    "    for r in range(rows):\n",
    "        for c in range(cols):\n",
    "            if grid[r][c] == \"1\":\n",
    "                for dr, dc in [(1,0), (0,1)]: # Only right & down to avoid repetition\n",
    "                    nr, nc = r+dr, c+dc\n",
    "                    if 0 <= nr < rows and 0 <= nc < cols and grid[nr][nc] == \"1\":\n",
    "                        uf.union((r,c), (nr,nc))\n",
    "    return uf.count\n"
   ]
  },
  {
   "cell_type": "markdown",
   "id": "d6a0376a-06d0-45f0-8c7e-c16ff2a673ef",
   "metadata": {},
   "source": [
    "### Test Cases "
   ]
  },
  {
   "cell_type": "code",
   "execution_count": 5,
   "id": "ae26483e-d6b2-4834-98f4-d7566355dc5d",
   "metadata": {},
   "outputs": [
    {
     "name": "stdout",
     "output_type": "stream",
     "text": [
      "DFS: 3\n",
      "BFS: 3\n",
      "Union-Find: 3\n",
      "DFS: 5\n",
      "BFS: 5\n",
      "Union-Find: 5\n",
      "DFS: 0\n",
      "DFS: 1\n"
     ]
    }
   ],
   "source": [
    "grid1 = [\n",
    "  [\"1\",\"1\",\"0\",\"0\",\"0\"],\n",
    "  [\"1\",\"1\",\"0\",\"0\",\"0\"],\n",
    "  [\"0\",\"0\",\"1\",\"0\",\"0\"],\n",
    "  [\"0\",\"0\",\"0\",\"1\",\"1\"]\n",
    "]\n",
    "print(\"DFS:\", numIslandsDFS(grid1))  # Expected: 3\n",
    "print(\"BFS:\", numIslandsBFS(grid1))  # Expected: 3\n",
    "print(\"Union-Find:\", numIslandsUnionFind(grid1))  # Expected: 3\n",
    "\n",
    "grid2 = [\n",
    "  [\"1\",\"0\",\"1\"],\n",
    "  [\"0\",\"1\",\"0\"],\n",
    "  [\"1\",\"0\",\"1\"]\n",
    "]\n",
    "print(\"DFS:\", numIslandsDFS(grid2))  # Expected: 5\n",
    "print(\"BFS:\", numIslandsBFS(grid2))  # Expected: 5\n",
    "print(\"Union-Find:\", numIslandsUnionFind(grid2))  # Expected: 5\n",
    "\n",
    "grid3 = [\n",
    "  [\"0\",\"0\",\"0\"],\n",
    "  [\"0\",\"0\",\"0\"]\n",
    "]\n",
    "print(\"DFS:\", numIslandsDFS(grid3))  # Expected: 0\n",
    "\n",
    "grid4 = [[\"1\"]]\n",
    "print(\"DFS:\", numIslandsDFS(grid4))  # Expected: 1\n"
   ]
  },
  {
   "cell_type": "markdown",
   "id": "462318bf-672f-4468-9122-070cf70b5af5",
   "metadata": {},
   "source": [
    "## Complexity Analysis"
   ]
  },
  {
   "cell_type": "markdown",
   "id": "3ff61a2e-affa-44cc-b483-573f9dc9b166",
   "metadata": {},
   "source": [
    "##### DFS/BFS:\n",
    "\n",
    "- Time: O(rows * cols) -> each cell is visited once.\n",
    "- Space: O(rows * cols) for visited array (or recursion stack in DFS).\n",
    "\n",
    "#### Union-Find:\n",
    "\n",
    "- Time: O(rows * cols * α(n)) (almost constant).\n",
    "- Space: O(rows * cols) for parent map."
   ]
  },
  {
   "cell_type": "markdown",
   "id": "54ae9b22-a3fd-4d97-807c-9deb388d03b1",
   "metadata": {},
   "source": [
    "#### Thank You!!"
   ]
  }
 ],
 "metadata": {
  "kernelspec": {
   "display_name": "Python 3 (ipykernel)",
   "language": "python",
   "name": "python3"
  },
  "language_info": {
   "codemirror_mode": {
    "name": "ipython",
    "version": 3
   },
   "file_extension": ".py",
   "mimetype": "text/x-python",
   "name": "python",
   "nbconvert_exporter": "python",
   "pygments_lexer": "ipython3",
   "version": "3.12.3"
  }
 },
 "nbformat": 4,
 "nbformat_minor": 5
}
