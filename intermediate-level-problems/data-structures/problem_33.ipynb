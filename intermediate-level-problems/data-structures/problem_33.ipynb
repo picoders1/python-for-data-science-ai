{
 "cells": [
  {
   "cell_type": "markdown",
   "id": "8a36d3b1-1a8d-478e-8060-6477472e6bd4",
   "metadata": {},
   "source": [
    "# **Problem Statement**  \n",
    "## **33. Implement a suffix tree for pattern matching.**"
   ]
  },
  {
   "cell_type": "markdown",
   "id": "97e8eaf4-c67c-4ef9-87dd-a1c242b88a5a",
   "metadata": {},
   "source": [
    "Implement a data structure — Suffix Tree — that supports efficient substring and pattern matching for a given text.\n",
    "\n",
    "Given a string text, the data structure should allow checking if any pattern p exists in text in O(m) time (where m = pattern length).\n",
    "\n",
    "Your implementation should include:\n",
    "\n",
    "- Building a suffix tree (or trie-based suffix structure)\n",
    "- Checking if a given substring exists in the text"
   ]
  },
  {
   "cell_type": "markdown",
   "id": "12b96244-784f-44f1-b72a-e69e054e8b67",
   "metadata": {},
   "source": [
    "### Constraints & Example Inputs/Outputs\n",
    "\n",
    "- 1 ≤ length of text ≤ 10^5\n",
    "- All characters are lowercase English letters.\n",
    "- Patterns can appear multiple times.\n",
    "\n",
    "### Example 1:\n",
    "```python\n",
    "text = \"bananas\"\n",
    "pattern_1 = \"nan\"\n",
    "pattern_2 = \"apple\"\n",
    "\n",
    "SuffixTree = SuffixTree(text)\n",
    "print(SuffixTree.search(pattern_1))  # True\n",
    "print(SuffixTree.search(pattern_2))  # False\n"
   ]
  },
  {
   "cell_type": "markdown",
   "id": "b68e7cad-ea42-4bb3-a20e-a91cba6d7424",
   "metadata": {},
   "source": [
    "### Solution Approach"
   ]
  },
  {
   "cell_type": "markdown",
   "id": "144b599f-addb-4686-8425-1f6e6f862acd",
   "metadata": {},
   "source": [
    "##### Core Idea:\n",
    "A Suffix Tree stores all suffixes of a string in a compressed trie-like form.\n",
    "\n",
    "For a string \"banana$\", the suffixes are:\n",
    "\n",
    "banana$\n",
    "\n",
    "anana$\n",
    "\n",
    "nana$\n",
    "\n",
    "ana$\n",
    "\n",
    "na$\n",
    "\n",
    "a$\n",
    "\n",
    "$\n",
    "\n",
    "So, every path from the root to a leaf represents one suffix of the original string.\n",
    "\n",
    "##### Usefulness:\n",
    "- Substring: O(m) \n",
    "- Pattern matching: O(m)\n",
    "- Longest repeated substring\n",
    "- Longest common substring\n",
    "- DNA sequence analysis\n",
    "\n",
    "##### Simplified Approach:\n",
    "Instead of implementing a fully compressed suffix tree (Ukkonen’s algorithm — very complex),\n",
    "we’ll build a Suffix Trie, which is conceptually simpler and still good for learning and mid-level interviews."
   ]
  },
  {
   "cell_type": "markdown",
   "id": "be931aed-e6ac-4398-a9cc-cd43c98ed91b",
   "metadata": {},
   "source": [
    "### Solution Code"
   ]
  },
  {
   "cell_type": "code",
   "execution_count": 9,
   "id": "57cab10a-c58c-459b-b504-16dc7ee1d0ac",
   "metadata": {},
   "outputs": [
    {
     "name": "stdout",
     "output_type": "stream",
     "text": [
      "True\n",
      "False\n"
     ]
    }
   ],
   "source": [
    "# Approach1: Brute Force Approach \n",
    "\n",
    "# Just check if pattern p exists in text using Python’s substring operation or loop comparison.\n",
    "\n",
    "def brute_force_pattern_search(text, pattern):\n",
    "    for i in range(len(text) - len(pattern) + 1):\n",
    "        if text[i:i+len(pattern)] == pattern:\n",
    "            return True\n",
    "    return False\n",
    "\n",
    "# Example \n",
    "print(brute_force_pattern_search(\"bananas\", \"nan\")) # True\n",
    "print(brute_force_pattern_search(\"bananas\", \"apple\")) # False\n"
   ]
  },
  {
   "cell_type": "markdown",
   "id": "c86482ce-3e10-43be-a004-18ad92e64916",
   "metadata": {},
   "source": [
    "- Time Complexity: O(n*m)\n",
    "- Space Complexity: O(1)"
   ]
  },
  {
   "cell_type": "markdown",
   "id": "9febed86-bc77-49f3-aa50-7adfe033688a",
   "metadata": {},
   "source": [
    "### Alternative Solution"
   ]
  },
  {
   "cell_type": "code",
   "execution_count": 6,
   "id": "3d0f40fa-e3cf-49eb-b872-7290e4cc7f70",
   "metadata": {},
   "outputs": [],
   "source": [
    "# Approach2: Optimized Approach (Suffix Trie Implementation)\n",
    "class TrieNode:\n",
    "    def __init__(self):\n",
    "        self.children = {}\n",
    "        self.is_end = False\n",
    "\n",
    "class SuffixTrie:\n",
    "    def __init__(self, text):\n",
    "        self.root = TrieNode()\n",
    "        self.text = text\n",
    "        self._build_suffix_trie()\n",
    "\n",
    "    def _insert_suffix(self, suffix):\n",
    "        node = self.root\n",
    "        for char in suffix:\n",
    "            if char not in node.children:\n",
    "                node.children[char] = TrieNode()\n",
    "            node = node.children[char]\n",
    "        node.is_end = True\n",
    "\n",
    "    def _build_suffix_trie(self):\n",
    "        for i in range(len(self.text)):\n",
    "            self._insert_suffix(self.text[i:])\n",
    "\n",
    "    def search(self, pattern):\n",
    "        node = self.root\n",
    "        for char in pattern:\n",
    "            if char not in node.children:\n",
    "                return False\n",
    "            node = node.children[char]\n",
    "        return True\n"
   ]
  },
  {
   "cell_type": "markdown",
   "id": "2459abe6-92bc-4283-ad4b-aff83def7ae0",
   "metadata": {},
   "source": [
    "### Alternative Approaches"
   ]
  },
  {
   "cell_type": "markdown",
   "id": "9968c8eb-bc72-4b47-92ab-977b2e022a1e",
   "metadata": {},
   "source": [
    "| Approach                     | Description                                                     | Time       | Space | Use Case                             |\n",
    "| ---------------------------- | --------------------------------------------------------------- | ---------- | ----- | ------------------------------------ |\n",
    "| **Brute Force**              | Linear substring comparison                                     | O(n * m)   | O(1)  | Quick tests                          |\n",
    "| **Suffix Trie (This)**       | Stores all suffixes explicitly                                  | O(n²)      | O(n²) | Educational, easy to implement       |\n",
    "| **Suffix Tree (Compressed)** | Compress repeated edges                                         | O(n)       | O(n)  | Advanced, high efficiency            |\n",
    "| **Suffix Array + LCP**       | Lexicographically sorted suffixes + longest common prefix array | O(n log n) | O(n)  | Competitive programming / large data |\n"
   ]
  },
  {
   "cell_type": "markdown",
   "id": "d6a0376a-06d0-45f0-8c7e-c16ff2a673ef",
   "metadata": {},
   "source": [
    "### Test Cases "
   ]
  },
  {
   "cell_type": "code",
   "execution_count": 7,
   "id": "ae26483e-d6b2-4834-98f4-d7566355dc5d",
   "metadata": {},
   "outputs": [
    {
     "name": "stdout",
     "output_type": "stream",
     "text": [
      "True\n",
      "True\n",
      "True\n",
      "True\n",
      "False\n",
      "False\n",
      "False\n"
     ]
    }
   ],
   "source": [
    "def test_suffix_trie():\n",
    "    text = \"bananas\"\n",
    "    trie = SuffixTrie(text)\n",
    "\n",
    "    # Positive test cases\n",
    "    print(trie.search(\"nan\"))     # True (exists as substring)\n",
    "    print(trie.search(\"ban\"))     # True\n",
    "    print(trie.search(\"anas\"))    # True\n",
    "    print(trie.search(\"s\"))       # True\n",
    "\n",
    "    # Negative test cases\n",
    "    print(trie.search(\"apple\"))   # False\n",
    "    print(trie.search(\"banaaa\"))  # False\n",
    "    print(trie.search(\"bananaX\")) # False\n",
    "\n",
    "test_suffix_trie()\n"
   ]
  },
  {
   "cell_type": "markdown",
   "id": "462318bf-672f-4468-9122-070cf70b5af5",
   "metadata": {},
   "source": [
    "## Complexity Analysis"
   ]
  },
  {
   "cell_type": "markdown",
   "id": "3ff61a2e-affa-44cc-b483-573f9dc9b166",
   "metadata": {},
   "source": [
    "| Operation      | Time Complexity | Space Complexity | Description            |\n",
    "| -------------- | --------------- | ---------------- | ---------------------- |\n",
    "| Build Trie     | O(n²)           | O(n²)            | Each suffix insertion  |\n",
    "| Search Pattern | O(m)            | —                | m = pattern length     |\n",
    "| Brute Force    | O(n * m)        | O(1)             | Naive substring search |\n",
    "\n",
    "- A true Suffix Tree (compressed) built via Ukkonen’s algorithm can reduce build time to O(n),\n",
    "but it’s much more complex — not required unless for very advanced algorithmic interviews.\n"
   ]
  },
  {
   "cell_type": "markdown",
   "id": "241c3fd7-9804-4e24-89c3-0a55d4ba4788",
   "metadata": {},
   "source": [
    "### Real-World Applications:"
   ]
  },
  {
   "cell_type": "markdown",
   "id": "36f4f0a8-0cf5-4d9e-b2d2-fc2851a66373",
   "metadata": {},
   "source": [
    "Suffix trees and their variants are used in:\n",
    "- Bioinformatics: Searching DNA motifs efficiently.\n",
    "- Search engines: Fast substring and keyword lookup.\n",
    "- Data compression: (e.g., LZ77, Burrows–Wheeler transform)\n",
    "- Plagiarism detection: Matching long common substrings between documents."
   ]
  },
  {
   "cell_type": "markdown",
   "id": "54ae9b22-a3fd-4d97-807c-9deb388d03b1",
   "metadata": {},
   "source": [
    "#### Thank You!!"
   ]
  }
 ],
 "metadata": {
  "kernelspec": {
   "display_name": "Python 3 (ipykernel)",
   "language": "python",
   "name": "python3"
  },
  "language_info": {
   "codemirror_mode": {
    "name": "ipython",
    "version": 3
   },
   "file_extension": ".py",
   "mimetype": "text/x-python",
   "name": "python",
   "nbconvert_exporter": "python",
   "pygments_lexer": "ipython3",
   "version": "3.12.3"
  }
 },
 "nbformat": 4,
 "nbformat_minor": 5
}
