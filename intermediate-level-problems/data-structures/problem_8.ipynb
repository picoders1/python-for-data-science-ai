{
 "cells": [
  {
   "cell_type": "markdown",
   "id": "8a36d3b1-1a8d-478e-8060-6477472e6bd4",
   "metadata": {},
   "source": [
    "# **Problem Statement**  \n",
    "## **8. Check if a binary tree is balanced**"
   ]
  },
  {
   "cell_type": "markdown",
   "id": "97e8eaf4-c67c-4ef9-87dd-a1c242b88a5a",
   "metadata": {},
   "source": [
    "Given a binary tree, determine if it is **height-balanced**.  \n",
    "\n",
    "A binary tree is balanced if:\n",
    "- The height difference between the left and right subtree of every node is at most 1.\n",
    "- Both left and right subtrees are also balanced."
   ]
  },
  {
   "cell_type": "markdown",
   "id": "12b96244-784f-44f1-b72a-e69e054e8b67",
   "metadata": {},
   "source": [
    "### Constraints & Example Inputs/Outputs\n",
    "\n",
    "- Number of nodes ≤ 10^4 (recursion is safe).\n",
    "- Node values are integers.\n",
    "- Must return **True** if balanced, else **False**.\n",
    "\n",
    "\n",
    "### Example Input/Output\n",
    "\n",
    "##### Example 1:  \n",
    "Input Tree: [3, 9, 20, None, None, 15, 7]  \n",
    "Output: True  \n",
    "Explanation: Left subtree height = 1, Right subtree height = 2 → difference ≤ 1  \n",
    "\n",
    "##### Example 2:  \n",
    "Input Tree: [1, 2, 2, 3, 3, None, None, 4, 4]  \n",
    "Output: False  \n",
    "Explanation: The left subtree is much deeper than the right → unbalanced  \n"
   ]
  },
  {
   "cell_type": "markdown",
   "id": "b68e7cad-ea42-4bb3-a20e-a91cba6d7424",
   "metadata": {},
   "source": [
    "### Solution Approach"
   ]
  },
  {
   "cell_type": "markdown",
   "id": "144b599f-addb-4686-8425-1f6e6f862acd",
   "metadata": {},
   "source": [
    "### Step-by-Step Approach\n",
    "\n",
    "1. **Naive / Brute Force Approach**:\n",
    "   - For each node:\n",
    "     - Compute height of left subtree.\n",
    "     - Compute height of right subtree.\n",
    "     - Check if difference ≤ 1.\n",
    "   - Repeat recursively for all nodes.\n",
    "   - Time complexity: O(n^2) in worst case (recomputing heights).\n",
    "\n",
    "2. **Optimized Approach**:\n",
    "   - Use a bottom-up recursion:\n",
    "     - At each node, compute height of left and right subtree.\n",
    "     - If unbalanced at any point, propagate failure upwards.\n",
    "   - Return both:\n",
    "     - Height of subtree\n",
    "     - Whether it is balanced\n",
    "   - Time complexity: O(n), since each node is visited once.\n"
   ]
  },
  {
   "cell_type": "markdown",
   "id": "be931aed-e6ac-4398-a9cc-cd43c98ed91b",
   "metadata": {},
   "source": [
    "### Solution Code"
   ]
  },
  {
   "cell_type": "code",
   "execution_count": 1,
   "id": "57cab10a-c58c-459b-b504-16dc7ee1d0ac",
   "metadata": {},
   "outputs": [],
   "source": [
    "# Approach1: Brute Force Approach\n",
    "class Node:\n",
    "    def __init__(self, val):\n",
    "        self.val = val\n",
    "        self.left = None\n",
    "        self.right = None\n",
    "\n",
    "def height(root):\n",
    "    if not root:\n",
    "        return 0\n",
    "    return 1 + max(height(root.left), height(root.right))\n",
    "\n",
    "def is_balanced_bruteforce(root):\n",
    "    if not root:\n",
    "        return True\n",
    "    \n",
    "    left_h = height(root.left)\n",
    "    right_h = height(root.right)\n",
    "    \n",
    "    if abs(left_h - right_h) > 1:\n",
    "        return False\n",
    "    \n",
    "    return is_balanced_bruteforce(root.left) and is_balanced_bruteforce(root.right)\n"
   ]
  },
  {
   "cell_type": "markdown",
   "id": "9febed86-bc77-49f3-aa50-7adfe033688a",
   "metadata": {},
   "source": [
    "### Alternative Solution"
   ]
  },
  {
   "cell_type": "code",
   "execution_count": 2,
   "id": "3d0f40fa-e3cf-49eb-b872-7290e4cc7f70",
   "metadata": {},
   "outputs": [],
   "source": [
    "# Approach2: Opptimized Approach\n",
    "def is_balanced_optimized(root):\n",
    "    def check(node):\n",
    "        if not node:\n",
    "            return 0, True  # height, balanced\n",
    "        \n",
    "        left_h, left_bal = check(node.left)\n",
    "        right_h, right_bal = check(node.right)\n",
    "        \n",
    "        curr_bal = left_bal and right_bal and abs(left_h - right_h) <= 1\n",
    "        return 1 + max(left_h, right_h), curr_bal\n",
    "    \n",
    "    _, balanced = check(root)\n",
    "    return balanced\n"
   ]
  },
  {
   "cell_type": "markdown",
   "id": "ecde3f16-c716-402d-89f8-e3ba5e07158e",
   "metadata": {},
   "source": [
    "### Alternative Approaches\n",
    "1. **Brute Force (Height Computation at Every Node)** → Simple, but inefficient (O(n^2)).  \n",
    "2. **Optimized Bottom-Up DFS** → Efficient (O(n)) and most widely used in interviews.  \n",
    "3. **Iterative Postorder Traversal** → Less common but avoids recursion depth issues.  \n"
   ]
  },
  {
   "cell_type": "markdown",
   "id": "3d7b14ca-7bbe-42d1-b051-43e8635e1d73",
   "metadata": {},
   "source": [
    "### Test Cases:"
   ]
  },
  {
   "cell_type": "code",
   "execution_count": 3,
   "id": "f3781d12-fc4f-4675-bc04-dc4a825a9118",
   "metadata": {},
   "outputs": [
    {
     "name": "stdout",
     "output_type": "stream",
     "text": [
      "Brute Force: True\n",
      "Optimized: True\n",
      "Brute Force: False\n",
      "Optimized: False\n"
     ]
    }
   ],
   "source": [
    "# Helper to build a tree for testing\n",
    "def build_tree_example1():\n",
    "    # Balanced tree: [3, 9, 20, None, None, 15, 7]\n",
    "    root = Node(3)\n",
    "    root.left = Node(9)\n",
    "    root.right = Node(20)\n",
    "    root.right.left = Node(15)\n",
    "    root.right.right = Node(7)\n",
    "    return root\n",
    "\n",
    "def build_tree_example2():\n",
    "    # Unbalanced tree: [1, 2, 2, 3, 3, None, None, 4, 4]\n",
    "    root = Node(1)\n",
    "    root.left = Node(2)\n",
    "    root.right = Node(2)\n",
    "    root.left.left = Node(3)\n",
    "    root.left.right = Node(3)\n",
    "    root.left.left.left = Node(4)\n",
    "    root.left.left.right = Node(4)\n",
    "    return root\n",
    "\n",
    "# Test 1: Balanced\n",
    "tree1 = build_tree_example1()\n",
    "print(\"Brute Force:\", is_balanced_bruteforce(tree1))   # Expected: True\n",
    "print(\"Optimized:\", is_balanced_optimized(tree1))      # Expected: True\n",
    "\n",
    "# Test 2: Unbalanced\n",
    "tree2 = build_tree_example2()\n",
    "print(\"Brute Force:\", is_balanced_bruteforce(tree2))   # Expected: False\n",
    "print(\"Optimized:\", is_balanced_optimized(tree2))      # Expected: False\n"
   ]
  },
  {
   "cell_type": "markdown",
   "id": "462318bf-672f-4468-9122-070cf70b5af5",
   "metadata": {},
   "source": [
    "## Complexity Analysis"
   ]
  },
  {
   "cell_type": "markdown",
   "id": "3ff61a2e-affa-44cc-b483-573f9dc9b166",
   "metadata": {},
   "source": [
    "### Complexity Analysis\n",
    "- **Brute Force**: O(n^2) time, O(h) space (stack), where h = height of tree.  \n",
    "- **Optimized Approach**: O(n) time, O(h) space.  \n"
   ]
  },
  {
   "cell_type": "markdown",
   "id": "54ae9b22-a3fd-4d97-807c-9deb388d03b1",
   "metadata": {},
   "source": [
    "#### Thank You!!"
   ]
  }
 ],
 "metadata": {
  "kernelspec": {
   "display_name": "Python 3 (ipykernel)",
   "language": "python",
   "name": "python3"
  },
  "language_info": {
   "codemirror_mode": {
    "name": "ipython",
    "version": 3
   },
   "file_extension": ".py",
   "mimetype": "text/x-python",
   "name": "python",
   "nbconvert_exporter": "python",
   "pygments_lexer": "ipython3",
   "version": "3.8.10"
  }
 },
 "nbformat": 4,
 "nbformat_minor": 5
}
