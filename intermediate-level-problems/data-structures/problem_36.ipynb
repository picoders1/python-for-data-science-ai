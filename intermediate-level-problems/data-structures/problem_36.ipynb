{
 "cells": [
  {
   "cell_type": "markdown",
   "id": "8a36d3b1-1a8d-478e-8060-6477472e6bd4",
   "metadata": {},
   "source": [
    "# **Problem Statement**  \n",
    "## **36. Design a data structure that supports median retrieval in O(1) time**"
   ]
  },
  {
   "cell_type": "markdown",
   "id": "97e8eaf4-c67c-4ef9-87dd-a1c242b88a5a",
   "metadata": {},
   "source": [
    "Implement a data structure that supports the following operations efficiently:\n",
    "- insert(num) → Inserts a number into the data structure\n",
    "- remove(num) → Removes a number from the data structure (optional if needed)\n",
    "- get_median() → Returns the median of all elements in O(1) time\n",
    "\n",
    "Median Definition:\n",
    "- Odd number of elements → middle element\n",
    "- Even number of elements → average of two middle elements\n",
    "\n",
    "Goal: Optimize insertion to O(log n) and median retrieval to O(1)."
   ]
  },
  {
   "cell_type": "markdown",
   "id": "12b96244-784f-44f1-b72a-e69e054e8b67",
   "metadata": {},
   "source": [
    "### Constraints & Example Inputs/Outputs\n",
    "\n",
    "- Elements are integers\n",
    "- Maximum number of elements ≤ 10⁵\n",
    "- Median retrieval must be O(1)\n",
    "\n",
    "### Example1:\n",
    "\n",
    "```python \n",
    "ds = MedianDataStructure()\n",
    "ds.insert(1)\n",
    "ds.insert(3)\n",
    "ds.insert(2)\n",
    "print(ds.get_median())   # 2\n",
    "```\n",
    "\n",
    "### Example 2:\n",
    "\n",
    "```python\n",
    "ds.insert(4)\n",
    "print(ds.get_median())   # (2 + 3)/2 = 2.5\n"
   ]
  },
  {
   "cell_type": "markdown",
   "id": "b68e7cad-ea42-4bb3-a20e-a91cba6d7424",
   "metadata": {},
   "source": [
    "### Solution Approach"
   ]
  },
  {
   "cell_type": "markdown",
   "id": "144b599f-addb-4686-8425-1f6e6f862acd",
   "metadata": {},
   "source": [
    "Here are the 2 best possible approaches:\n",
    "\n",
    "#### Brute Force Approach:\n",
    "\n",
    "- Keep a sorted list\n",
    "- Insertion → O(n) to maintain order\n",
    "- Median retrieval → O(1) by accessing middle elements\n",
    "\n",
    "Also, Not efficient for large inputs\n",
    "\n",
    "#### Optimized Approach — Using Two Heaps:\n",
    "\n",
    "- Maintain two heaps:\n",
    "    1. Max-Heap (left) → stores smaller half of numbers\n",
    "    2. Min-Heap (right) → stores larger half of numbers\n",
    "\n",
    "- Maintain size property: len(left) == len(right) or len(left) = len(right) + 1\n",
    "\n",
    "- Insertion:\n",
    "    - Compare number with top of max-heap (left)\n",
    "    - Push to appropriate heap\n",
    "    - Rebalance heaps → O(log n)\n",
    "\n",
    "- Median retrieval:\n",
    "    - Odd → top of max-heap\n",
    "    - Even → average of tops of max-heap and min-heap → O(1)"
   ]
  },
  {
   "cell_type": "markdown",
   "id": "be931aed-e6ac-4398-a9cc-cd43c98ed91b",
   "metadata": {},
   "source": [
    "### Solution Code"
   ]
  },
  {
   "cell_type": "code",
   "execution_count": 4,
   "id": "57cab10a-c58c-459b-b504-16dc7ee1d0ac",
   "metadata": {},
   "outputs": [],
   "source": [
    "# Approach1: Brute Force Approach\n",
    "class MedianDataStructureBrute:\n",
    "    def __init__(self):\n",
    "        self.data = []\n",
    "    \n",
    "    def insert(self, num):\n",
    "        self.data.append(num)\n",
    "        self.data.sort()\n",
    "    \n",
    "    def get_median(self):\n",
    "        n = len(self.data)\n",
    "        if n == 0:\n",
    "            return None\n",
    "        mid = n // 2\n",
    "        if n % 2 == 1:\n",
    "            return self.data[mid]\n",
    "        else:\n",
    "            return (self.data[mid-1] + self.data[mid]) / 2\n"
   ]
  },
  {
   "cell_type": "markdown",
   "id": "b2197a77-c993-4a87-bb7e-e8e980c10a9e",
   "metadata": {},
   "source": [
    "- Time Complexity: O(nlog n) per insertion\n",
    "- Space Complexity: O(n)"
   ]
  },
  {
   "cell_type": "markdown",
   "id": "9febed86-bc77-49f3-aa50-7adfe033688a",
   "metadata": {},
   "source": [
    "### Alternative Solution"
   ]
  },
  {
   "cell_type": "code",
   "execution_count": 9,
   "id": "3d0f40fa-e3cf-49eb-b872-7290e4cc7f70",
   "metadata": {},
   "outputs": [],
   "source": [
    "# Approach2: Optimized Approach (Two Heaps)\n",
    "\n",
    "import heapq\n",
    "\n",
    "class MedianDataStructure:\n",
    "    def __init__(self):\n",
    "        self.left = []   #Max-Hleap (invert numbers)\n",
    "        self.right = []  #Min-Heap\n",
    "\n",
    "    def insert(self, num):\n",
    "        if not self.left or num <= -self.left[0]:\n",
    "            heapq.heappush(self.left, -num)\n",
    "        else:\n",
    "            heapq.heappush(self.right, num)\n",
    "\n",
    "        # Rebalance heaps\n",
    "        if len(self.left) > len(self.right) + 1:\n",
    "            heapq.heappush(self.right, -heapq.heappop(self.left))\n",
    "        elif len(self.right) > len(self.left):\n",
    "            heapq.heappush(self.left, -heapq.heappop(self.right))\n",
    "\n",
    "    def get_median(self):\n",
    "        if not self.left:\n",
    "            return None\n",
    "        if len(self.left) > len(self.right):\n",
    "            return -self.left[0]\n",
    "        else:\n",
    "            return (-self.left[0] + self.right[0]) / 2\n",
    "    "
   ]
  },
  {
   "cell_type": "markdown",
   "id": "b9da3927-296d-48d6-86bf-84f3fbecf4de",
   "metadata": {},
   "source": [
    "- Time Complexity: O(log n) per insertion, O(1) median retrieval\n",
    "- Space Complexity: O(n)"
   ]
  },
  {
   "cell_type": "markdown",
   "id": "2459abe6-92bc-4283-ad4b-aff83def7ae0",
   "metadata": {},
   "source": [
    "### Alternative Approaches"
   ]
  },
  {
   "cell_type": "markdown",
   "id": "9968c8eb-bc72-4b47-92ab-977b2e022a1e",
   "metadata": {},
   "source": [
    "- Sorted List → simple, O(n) insert, O(1) median\n",
    "- Self-Balancing BST (AVL/Red-Black) → O(log n) insert, O(1) median\n",
    "- Two Heaps → optimal, widely used in practice"
   ]
  },
  {
   "cell_type": "markdown",
   "id": "d6a0376a-06d0-45f0-8c7e-c16ff2a673ef",
   "metadata": {},
   "source": [
    "### Test Cases "
   ]
  },
  {
   "cell_type": "code",
   "execution_count": 10,
   "id": "ae26483e-d6b2-4834-98f4-d7566355dc5d",
   "metadata": {},
   "outputs": [
    {
     "name": "stdout",
     "output_type": "stream",
     "text": [
      "=== Testing Median Data Structure ===\n",
      "Inserted 5, current median: 5\n",
      "Inserted 1, current median: 3.0\n",
      "Inserted 3, current median: 3\n",
      "Inserted 2, current median: 2.5\n",
      "Inserted 4, current median: 3\n",
      "Median of empty DS: None\n"
     ]
    }
   ],
   "source": [
    "def test_median_ds():\n",
    "    print(\"=== Testing Median Data Structure ===\")\n",
    "    ds = MedianDataStructure()\n",
    "    nums = [5, 1, 3, 2, 4]\n",
    "    for n in nums:\n",
    "        ds.insert(n)\n",
    "        print(f\"Inserted {n}, current median: {ds.get_median()}\")\n",
    "    \n",
    "    # Edge case: empty structure\n",
    "    empty_ds = MedianDataStructure()\n",
    "    print(\"Median of empty DS:\", empty_ds.get_median())\n",
    "\n",
    "test_median_ds()\n"
   ]
  },
  {
   "cell_type": "markdown",
   "id": "462318bf-672f-4468-9122-070cf70b5af5",
   "metadata": {},
   "source": [
    "## Complexity Analysis"
   ]
  },
  {
   "cell_type": "markdown",
   "id": "3ff61a2e-affa-44cc-b483-573f9dc9b166",
   "metadata": {},
   "source": [
    "| Operation  | Brute Force | Optimized (Two Heaps) |\n",
    "| ---------- | ----------- | --------------------- |\n",
    "| Insert     | O(n log n)  | O(log n)              |\n",
    "| Get Median | O(1)        | O(1)                  |\n",
    "| Space      | O(n)        | O(n)                  |\n"
   ]
  },
  {
   "cell_type": "markdown",
   "id": "1f1887cc-f6f3-43ce-ac1c-29ed2fa0f956",
   "metadata": {},
   "source": [
    "### Real-World Applications"
   ]
  },
  {
   "cell_type": "markdown",
   "id": "45997b1a-d725-400a-8520-38dfcaac4399",
   "metadata": {},
   "source": [
    "- Streaming median computation\n",
    "- Financial analytics (median price)\n",
    "- Sensor data processing\n",
    "- Real-time dashboards"
   ]
  },
  {
   "cell_type": "markdown",
   "id": "54ae9b22-a3fd-4d97-807c-9deb388d03b1",
   "metadata": {},
   "source": [
    "#### Thank You!!"
   ]
  }
 ],
 "metadata": {
  "kernelspec": {
   "display_name": "Python 3 (ipykernel)",
   "language": "python",
   "name": "python3"
  },
  "language_info": {
   "codemirror_mode": {
    "name": "ipython",
    "version": 3
   },
   "file_extension": ".py",
   "mimetype": "text/x-python",
   "name": "python",
   "nbconvert_exporter": "python",
   "pygments_lexer": "ipython3",
   "version": "3.12.3"
  }
 },
 "nbformat": 4,
 "nbformat_minor": 5
}
