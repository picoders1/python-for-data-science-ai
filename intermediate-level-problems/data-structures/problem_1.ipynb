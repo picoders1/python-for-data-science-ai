{
 "cells": [
  {
   "cell_type": "markdown",
   "id": "8a36d3b1-1a8d-478e-8060-6477472e6bd4",
   "metadata": {},
   "source": [
    "# **Problem Statement**  \n",
    "## **1. Implement a stack using two queues**"
   ]
  },
  {
   "cell_type": "markdown",
   "id": "97e8eaf4-c67c-4ef9-87dd-a1c242b88a5a",
   "metadata": {},
   "source": [
    "Implement a stack (LIFO data structure) using two queues (FIFO data structure). The goal is to use queue operations (enqueue, dequeue) to mimic stack behavior (push, pop, top)."
   ]
  },
  {
   "cell_type": "markdown",
   "id": "12b96244-784f-44f1-b72a-e69e054e8b67",
   "metadata": {},
   "source": [
    "### Constraints & Example Inputs/Outputs\n",
    "\n",
    "- You must only use two queues.\n",
    "- Allowed queue operations: enqueue(append) and deque(pop from front).\n",
    "- Stack operations:\n",
    "  \n",
    "      - push(x) → add element x\n",
    "      - pop() → remove and return top element\n",
    "      - top() → return top element without removing it\n",
    "      - empty() → check if stack is empty\n",
    "\n",
    "Example:\n",
    "\n",
    "s = Stack()\n",
    "\n",
    "s.push(1)\n",
    "\n",
    "s.push(2)\n",
    "\n",
    "s.top()     # Output: 2\n",
    "\n",
    "s.pop()     # Output: 2\n",
    "\n",
    "s.empty()   # Output: False\n"
   ]
  },
  {
   "cell_type": "markdown",
   "id": "b68e7cad-ea42-4bb3-a20e-a91cba6d7424",
   "metadata": {},
   "source": [
    "### Solution Approach"
   ]
  },
  {
   "cell_type": "markdown",
   "id": "144b599f-addb-4686-8425-1f6e6f862acd",
   "metadata": {},
   "source": [
    "Here are the 2 possible approaches:\n",
    "##### 1. Brute Force Approach (Push Efficient):\n",
    "- Make push O(1) by directly enqueuing to q1.\n",
    "\n",
    "- For pop, move elements from q1 to q2 until one is left → return that as top. Swap q1 and q2.\n",
    "\n",
    "- push: O(1), pop: O(n).\n",
    "\n",
    "##### 2. Optimized Approach (Pop Efficient):\n",
    "- Make pop O(1).\n",
    "\n",
    "- For push, move all elements to q2, enqueue the new element to q1, then move everything back.\n",
    "\n",
    "- push: O(n), pop: O(1).\n",
    "\n",
    "This shows trade-offs between the two methods."
   ]
  },
  {
   "cell_type": "markdown",
   "id": "be931aed-e6ac-4398-a9cc-cd43c98ed91b",
   "metadata": {},
   "source": [
    "### Solution Code"
   ]
  },
  {
   "cell_type": "code",
   "execution_count": 6,
   "id": "57cab10a-c58c-459b-b504-16dc7ee1d0ac",
   "metadata": {},
   "outputs": [],
   "source": [
    "# Approach1: Brute Force Approach\n",
    "from collections import deque\n",
    "\n",
    "class StackBruteForce:\n",
    "    def __init__(self):\n",
    "        self.q1 = deque()\n",
    "        self.q2 = deque()\n",
    "\n",
    "    def push(self, x):\n",
    "        self.q1.append(x)\n",
    "\n",
    "    def pop(self):\n",
    "        while len(self.q1) > 1:\n",
    "            self.q2.append(self.q1.popleft())\n",
    "        popped = self.q1.popleft()\n",
    "        self.q1, self.q2 = self.q2, self.q1 #\n",
    "        return popped\n",
    "\n",
    "    def top(self):\n",
    "        while len(self.q1) > 1:\n",
    "            self.q2.append(self.q1.popleft())\n",
    "        top_elem = self.q1[0]\n",
    "        self.q2.append(self.q1.popleft())\n",
    "        self.q1, self.q2 = self.q2, self.q1\n",
    "        return top_elem\n",
    "\n",
    "    def empty(self):\n",
    "        return not self.q1"
   ]
  },
  {
   "cell_type": "code",
   "execution_count": 9,
   "id": "4065908c-92d9-4298-b100-7c0893750ab9",
   "metadata": {},
   "outputs": [
    {
     "data": {
      "text/plain": [
       "20"
      ]
     },
     "execution_count": 9,
     "metadata": {},
     "output_type": "execute_result"
    }
   ],
   "source": [
    "#Example Stuff\n",
    "s = StackBruteForce()\n",
    "s.push(5)\n",
    "s.push(10)\n",
    "s.push(20)\n",
    "s.top()"
   ]
  },
  {
   "cell_type": "markdown",
   "id": "9febed86-bc77-49f3-aa50-7adfe033688a",
   "metadata": {},
   "source": [
    "### Alternative Solution"
   ]
  },
  {
   "cell_type": "code",
   "execution_count": 8,
   "id": "3d0f40fa-e3cf-49eb-b872-7290e4cc7f70",
   "metadata": {},
   "outputs": [],
   "source": [
    "# Approach2: Optimized Approach\n",
    "from collections import deque\n",
    "class StackOptimized:\n",
    "    def __init__(self):\n",
    "        self.q1 = deque()\n",
    "        self.q2 = deque()\n",
    "\n",
    "    def push(self,x):\n",
    "        self.q2.append(x)\n",
    "        while self.q1:\n",
    "            self.q2.append(self.q1.popleft())\n",
    "        self.q1, self.q2 = self.q2, self.q1\n",
    "\n",
    "    def pop(self):\n",
    "        return self.q1.popleft()\n",
    "\n",
    "    def top(self):\n",
    "        return self.q1[0]\n",
    "\n",
    "    def empty(self):\n",
    "        return not self.q1\n",
    "    "
   ]
  },
  {
   "cell_type": "code",
   "execution_count": 16,
   "id": "4e9e6c99-592a-424c-a87a-3c6a09ab443c",
   "metadata": {},
   "outputs": [
    {
     "data": {
      "text/plain": [
       "20"
      ]
     },
     "execution_count": 16,
     "metadata": {},
     "output_type": "execute_result"
    }
   ],
   "source": [
    "#Example Stuff\n",
    "s = StackOptimized()\n",
    "s.push(5)\n",
    "s.push(20)\n",
    "s.push(30)\n",
    "s.top()\n",
    "s.pop()\n",
    "s.top()"
   ]
  },
  {
   "cell_type": "markdown",
   "id": "462318bf-672f-4468-9122-070cf70b5af5",
   "metadata": {},
   "source": [
    "## Complexity Analysis"
   ]
  },
  {
   "cell_type": "markdown",
   "id": "3ff61a2e-affa-44cc-b483-573f9dc9b166",
   "metadata": {},
   "source": [
    "##### Brute Force Approach (Push Efficient):\n",
    "\n",
    "- Push: O(1)\n",
    "- Pop: O(n)\n",
    "- Top: O(n)\n",
    "- Space: O(n)\n",
    "\n",
    "##### Optimized Approach (Pop Efficient):\n",
    "\n",
    "- Push: O(n)\n",
    "- Pop: O(1)\n",
    "- Top: O(1)\n",
    "- Space: O(n)"
   ]
  },
  {
   "cell_type": "markdown",
   "id": "54ae9b22-a3fd-4d97-807c-9deb388d03b1",
   "metadata": {},
   "source": [
    "#### Thank You!!"
   ]
  }
 ],
 "metadata": {
  "kernelspec": {
   "display_name": "Python 3 (ipykernel)",
   "language": "python",
   "name": "python3"
  },
  "language_info": {
   "codemirror_mode": {
    "name": "ipython",
    "version": 3
   },
   "file_extension": ".py",
   "mimetype": "text/x-python",
   "name": "python",
   "nbconvert_exporter": "python",
   "pygments_lexer": "ipython3",
   "version": "3.8.10"
  }
 },
 "nbformat": 4,
 "nbformat_minor": 5
}
