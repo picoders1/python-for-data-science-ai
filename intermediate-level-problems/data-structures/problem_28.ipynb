{
 "cells": [
  {
   "cell_type": "markdown",
   "id": "8a36d3b1-1a8d-478e-8060-6477472e6bd4",
   "metadata": {},
   "source": [
    "# **Problem Statement**  \n",
    "## **28. Implement a segment tree with range sum queries**"
   ]
  },
  {
   "cell_type": "markdown",
   "id": "97e8eaf4-c67c-4ef9-87dd-a1c242b88a5a",
   "metadata": {},
   "source": [
    "Implement a Segment Tree data structure to efficiently perform:\n",
    "\n",
    "- Range sum queries: Get the sum of elements in a range [l, r]\n",
    "- Point updates: Update the value at a given index\n",
    "\n",
    "Both operations should be efficient (O(log n))."
   ]
  },
  {
   "cell_type": "markdown",
   "id": "12b96244-784f-44f1-b72a-e69e054e8b67",
   "metadata": {},
   "source": [
    "### Constraints & Example Inputs/Outputs\n",
    "\n",
    "- Input array size: 1≤n≤10^5\n",
    "- Queries: multiple sum(l, r) or update(index, value)\n",
    "- Must handle range sums in logarithmic time.\n",
    "\n",
    "### Example 1:\n",
    "```python\n",
    "# Input array: [1, 3, 5, 7, 9, 11]\n",
    "# Queries:\n",
    "sum(1, 3)  # returns 3 + 5 + 7 = 15\n",
    "update(1, 10)  # changes array to [1, 10, 5, 7, 9, 11]\n",
    "sum(1, 3)  # returns 10 + 5 + 7 = 22\n"
   ]
  },
  {
   "cell_type": "markdown",
   "id": "b68e7cad-ea42-4bb3-a20e-a91cba6d7424",
   "metadata": {},
   "source": [
    "### Solution Approach"
   ]
  },
  {
   "cell_type": "markdown",
   "id": "144b599f-addb-4686-8425-1f6e6f862acd",
   "metadata": {},
   "source": [
    "What is a Segment Tree?\n",
    "\n",
    "- A tree structure where each node represents a segment (subarray) of the input array.\n",
    "- Leaf nodes store individual array elements.\n",
    "- Internal nodes store aggregate values (here: sum of their children).\n",
    "\n",
    "Operations:\n",
    "\n",
    "1. Build — Construct tree in O(n).\n",
    "2. pdate — Modify a value and update ancestors in O(log n).\n",
    "3. Range Query — Query sum of a range in O(log n)."
   ]
  },
  {
   "cell_type": "markdown",
   "id": "be931aed-e6ac-4398-a9cc-cd43c98ed91b",
   "metadata": {},
   "source": [
    "### Solution Code"
   ]
  },
  {
   "cell_type": "markdown",
   "id": "97d09984-5648-4c17-9a6c-f09b9bba5723",
   "metadata": {},
   "source": [
    "Brute force: Just compute sums directly → O(n) per query."
   ]
  },
  {
   "cell_type": "code",
   "execution_count": 1,
   "id": "57cab10a-c58c-459b-b504-16dc7ee1d0ac",
   "metadata": {},
   "outputs": [],
   "source": [
    "# Approach1: Brute Force Approach\n",
    "class BruteForceSegmentTree:\n",
    "    def __init__(self, arr):\n",
    "        self.arr = arr\n",
    "\n",
    "    def update(self, index, value):\n",
    "        self.arr[index] = value\n",
    "\n",
    "    def range_sum(self, left, right):\n",
    "        return sum(self.arr[left:right+1])"
   ]
  },
  {
   "cell_type": "markdown",
   "id": "9febed86-bc77-49f3-aa50-7adfe033688a",
   "metadata": {},
   "source": [
    "### Alternative Solution"
   ]
  },
  {
   "cell_type": "markdown",
   "id": "060b9e1f-da2a-4716-abd8-daff303e414d",
   "metadata": {},
   "source": [
    "Optimized: Build a segment tree → O(log n) queries & updates."
   ]
  },
  {
   "cell_type": "code",
   "execution_count": 2,
   "id": "3d0f40fa-e3cf-49eb-b872-7290e4cc7f70",
   "metadata": {},
   "outputs": [],
   "source": [
    "# Approach2: Optimized Approach (Segment Tree)\n",
    "class SegmentTree:\n",
    "    def __init__(self, arr):\n",
    "        self.n = len(arr)\n",
    "        self.tree = [0] * (2 * self.n)\n",
    "        # Build tree\n",
    "        for i in range(self.n):\n",
    "            self.tree[self.n + i] = arr[i]\n",
    "        for i in range(self.n - 1, 0, -1):\n",
    "            self.tree[i] = self.tree[2*i] + self.tree[2*i + 1]\n",
    "\n",
    "    def update(self, index, value):\n",
    "        pos = index + self.n\n",
    "        self.tree[pos] = value\n",
    "        while pos > 1:\n",
    "            pos //= 2\n",
    "            self.tree[pos] = self.tree[2*pos] + self.tree[2*pos + 1]\n",
    "\n",
    "    def range_sum(self, left, right):\n",
    "        left += self.n\n",
    "        right += self.n\n",
    "        result = 0\n",
    "        while left <= right:\n",
    "            if left % 2 == 1:\n",
    "                result += self.tree[left]\n",
    "                left += 1\n",
    "            if right % 2 == 0:\n",
    "                result += self.tree[right]\n",
    "                right -= 1\n",
    "            left //= 2\n",
    "            right //= 2\n",
    "        return result\n",
    "    "
   ]
  },
  {
   "cell_type": "markdown",
   "id": "2459abe6-92bc-4283-ad4b-aff83def7ae0",
   "metadata": {},
   "source": [
    "### Alternative Approaches"
   ]
  },
  {
   "cell_type": "markdown",
   "id": "9968c8eb-bc72-4b47-92ab-977b2e022a1e",
   "metadata": {},
   "source": [
    "- Brute force: O(n) per query → simple but inefficient.\n",
    "- Segment Tree: O(log n) for both queries & updates → optimal for static/dynamic arrays.\n",
    "- Binary Indexed Tree (Fenwick Tree): O(log n) queries & updates → simpler than segment tree for prefix sums."
   ]
  },
  {
   "cell_type": "markdown",
   "id": "d6a0376a-06d0-45f0-8c7e-c16ff2a673ef",
   "metadata": {},
   "source": [
    "### Test Cases "
   ]
  },
  {
   "cell_type": "code",
   "execution_count": 3,
   "id": "ae26483e-d6b2-4834-98f4-d7566355dc5d",
   "metadata": {},
   "outputs": [
    {
     "name": "stdout",
     "output_type": "stream",
     "text": [
      "Testing Brute Force Segment Tree\n",
      "All test cases passed for BruteForceSegmentTree!\n",
      "\n",
      "Testing Optimized Segment Tree\n",
      "All test cases passed for SegmentTree!\n"
     ]
    }
   ],
   "source": [
    "def test_segment_tree(cls):\n",
    "    arr = [1, 3, 5, 7, 9, 11]\n",
    "    st = cls(arr)\n",
    "\n",
    "    assert st.range_sum(1, 3) == 15  # 3 + 5 + 7 = 15\n",
    "    st.update(1, 10)  # arr becomes [1, 10, 5, 7, 9, 11]\n",
    "    assert st.range_sum(1, 3) == 22  # 10 + 5 + 7 = 22\n",
    "    assert st.range_sum(0, 5) == 43  # total sum\n",
    "    print(f\"All test cases passed for {cls.__name__}!\")\n",
    "\n",
    "print(\"Testing Brute Force Segment Tree\")\n",
    "test_segment_tree(BruteForceSegmentTree)\n",
    "\n",
    "print(\"\\nTesting Optimized Segment Tree\")\n",
    "test_segment_tree(SegmentTree)"
   ]
  },
  {
   "cell_type": "markdown",
   "id": "462318bf-672f-4468-9122-070cf70b5af5",
   "metadata": {},
   "source": [
    "## Complexity Analysis"
   ]
  },
  {
   "cell_type": "markdown",
   "id": "3ff61a2e-affa-44cc-b483-573f9dc9b166",
   "metadata": {},
   "source": [
    "#### Time Complexity - \n",
    "\n",
    "| Approach     | Build | Update   | Range Sum |\n",
    "| ------------ | ----- | -------- | --------- |\n",
    "| Brute Force  | O(1)  | O(1)     | O(n)      |\n",
    "| Segment Tree | O(n)  | O(log n) | O(log n)  |\n",
    "| Fenwick Tree | O(n)  | O(log n) | O(log n)  |\n",
    "\n",
    "#### Space Complexity - \n",
    "- Segment Tree → O(2n)"
   ]
  },
  {
   "cell_type": "markdown",
   "id": "54ae9b22-a3fd-4d97-807c-9deb388d03b1",
   "metadata": {},
   "source": [
    "#### Thank You!!"
   ]
  }
 ],
 "metadata": {
  "kernelspec": {
   "display_name": "Python 3 (ipykernel)",
   "language": "python",
   "name": "python3"
  },
  "language_info": {
   "codemirror_mode": {
    "name": "ipython",
    "version": 3
   },
   "file_extension": ".py",
   "mimetype": "text/x-python",
   "name": "python",
   "nbconvert_exporter": "python",
   "pygments_lexer": "ipython3",
   "version": "3.12.3"
  }
 },
 "nbformat": 4,
 "nbformat_minor": 5
}
