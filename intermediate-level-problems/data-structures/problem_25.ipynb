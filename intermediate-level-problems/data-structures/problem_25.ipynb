{
 "cells": [
  {
   "cell_type": "markdown",
   "id": "8a36d3b1-1a8d-478e-8060-6477472e6bd4",
   "metadata": {},
   "source": [
    "# **Problem Statement**  \n",
    "## **25. Design a hash map without using built-in hash table libraries.**"
   ]
  },
  {
   "cell_type": "markdown",
   "id": "97e8eaf4-c67c-4ef9-87dd-a1c242b88a5a",
   "metadata": {},
   "source": [
    "Implement a hash map (key-value store) without using built-in hash table libraries.\n",
    "The hash map should support the following operations:\n",
    "- put(key, value) — Insert a key-value pair into the map. If the key already exists, update the value.\n",
    "- get(key) — Retrieve the value associated with the key. Return None if the key does not exist.\n",
    "- remove(key) — Remove the key-value pair if it exists."
   ]
  },
  {
   "cell_type": "markdown",
   "id": "12b96244-784f-44f1-b72a-e69e054e8b67",
   "metadata": {},
   "source": [
    "### Constraints & Example Inputs/Outputs\n",
    "\n",
    "- Keys are integers.\n",
    "- Values can be integers or strings.\n",
    "- No built-in dictionary, set, or hash table libraries.\n",
    "- Collisions should be handled.\n",
    "\n",
    "### Example:\n",
    "```python\n",
    "put(1, \"apple\")\n",
    "put(2, \"banana\")\n",
    "get(1)       # returns \"apple\"\n",
    "get(3)       # returns None\n",
    "put(2, \"orange\")\n",
    "get(2)       # returns \"orange\"\n",
    "remove(2)\n",
    "get(2)       # returns None\n"
   ]
  },
  {
   "cell_type": "markdown",
   "id": "b68e7cad-ea42-4bb3-a20e-a91cba6d7424",
   "metadata": {},
   "source": [
    "### Solution Approach"
   ]
  },
  {
   "cell_type": "markdown",
   "id": "144b599f-addb-4686-8425-1f6e6f862acd",
   "metadata": {},
   "source": [
    "Here are the 2 possible approaches:\n",
    "\n",
    "##### Brute Force Approach:\n",
    "- Use a list of key-value pairs.\n",
    "- For get, put, and remove, scan the list.\n",
    "- Time complexity: O(n) — inefficient.\n",
    "\n",
    "##### Optimized Approach (Separate Chaining):\n",
    "- Use an array (bucket list) of fixed size.\n",
    "- Each bucket stores key-value pairs using a linked list.\n",
    "- Compute the hash index using key % bucket_size.\n",
    "- Handles collisions via chaining.\n",
    "- Operations:\n",
    "    - put → Insert/update in bucket list.\n",
    "    - get → Search in bucket list.\n",
    "    - remove → Delete from bucket list."
   ]
  },
  {
   "cell_type": "markdown",
   "id": "be931aed-e6ac-4398-a9cc-cd43c98ed91b",
   "metadata": {},
   "source": [
    "### Solution Code"
   ]
  },
  {
   "cell_type": "code",
   "execution_count": 1,
   "id": "57cab10a-c58c-459b-b504-16dc7ee1d0ac",
   "metadata": {},
   "outputs": [],
   "source": [
    "# Approach1: Brute Force Approach\n",
    "class HashMapBrute:\n",
    "    def __init__(self):\n",
    "        self.data = []\n",
    "\n",
    "    def put(self, key: int, value):\n",
    "        for i, (k, v) in enumerate(self.data):\n",
    "            if k == key:\n",
    "                self.data[i] = (key, value)\n",
    "                return\n",
    "        self.data.append((key, value))\n",
    "\n",
    "    def get(self, key: int):\n",
    "        for k, v in self.data:\n",
    "            if k == key:\n",
    "                return v\n",
    "        return None\n",
    "\n",
    "    def remove(self, key: int):\n",
    "        for i, (k, v) in enumerate(self.data):\n",
    "            if k == key:\n",
    "                self.data.pop(i)\n",
    "                return\n"
   ]
  },
  {
   "cell_type": "markdown",
   "id": "9febed86-bc77-49f3-aa50-7adfe033688a",
   "metadata": {},
   "source": [
    "### Alternative Solution"
   ]
  },
  {
   "cell_type": "code",
   "execution_count": 2,
   "id": "3d0f40fa-e3cf-49eb-b872-7290e4cc7f70",
   "metadata": {},
   "outputs": [],
   "source": [
    "# Approach2: Optimized Approach\n",
    "class ListNode:\n",
    "    def __init__(self, key, value):\n",
    "        self.key = key\n",
    "        self.value = value\n",
    "        self.next = None\n",
    "\n",
    "class HashMapOptimized:\n",
    "    def __init__(self, bucket_size=1000):\n",
    "        self.bucket_size = bucket_size\n",
    "        self.buckets = [None] * bucket_size\n",
    "\n",
    "    def hash(self, key):\n",
    "        return key % self.bucket_size\n",
    "\n",
    "    def put(self, key: int, value):\n",
    "        index = self.hash(key)\n",
    "        if self.buckets[index] is None:\n",
    "            self.buckets[index] = ListNode(key, value)\n",
    "            return\n",
    "        curr = self.buckets[index]\n",
    "        while True:\n",
    "            if curr.key == key:\n",
    "                curr.value = value\n",
    "                return\n",
    "            if curr.next is None:\n",
    "                break\n",
    "            curr = curr.next\n",
    "        curr.next = ListNode(key, value)\n",
    "\n",
    "    def get(self, key: int):\n",
    "        index = self.hash(key)\n",
    "        curr = self.buckets[index]\n",
    "        while curr:\n",
    "            if curr.key == key:\n",
    "                return curr.value\n",
    "            curr = curr.next\n",
    "        return None\n",
    "\n",
    "    def remove(self, key: int):\n",
    "        index = self.hash(key)\n",
    "        curr = self.buckets[index]\n",
    "        prev = None\n",
    "        while curr:\n",
    "            if curr.key == key:\n",
    "                if prev:\n",
    "                    prev.next = curr.next\n",
    "                else:\n",
    "                    self.buckets[index] = curr.next\n",
    "                return\n",
    "            prev = curr\n",
    "            curr = curr.next\n"
   ]
  },
  {
   "cell_type": "markdown",
   "id": "2459abe6-92bc-4283-ad4b-aff83def7ae0",
   "metadata": {},
   "source": [
    "### Alternative Approaches"
   ]
  },
  {
   "cell_type": "markdown",
   "id": "9968c8eb-bc72-4b47-92ab-977b2e022a1e",
   "metadata": {},
   "source": [
    "- Brute Force — list scanning, simple but inefficient.\n",
    "- Separate Chaining — efficient collision handling, O(1) amortized.\n",
    "- Open Addressing — alternative collision handling using probing.\n",
    "- Double Hashing — improved open addressing."
   ]
  },
  {
   "cell_type": "markdown",
   "id": "d6a0376a-06d0-45f0-8c7e-c16ff2a673ef",
   "metadata": {},
   "source": [
    "### Test Cases "
   ]
  },
  {
   "cell_type": "code",
   "execution_count": 3,
   "id": "ae26483e-d6b2-4834-98f4-d7566355dc5d",
   "metadata": {},
   "outputs": [
    {
     "name": "stdout",
     "output_type": "stream",
     "text": [
      "Testing Brute Force Hash Map\n",
      "All test cases passed!\n",
      "\n",
      "Testing Optimized Hash Map\n",
      "All test cases passed!\n"
     ]
    }
   ],
   "source": [
    "def test_hash_map(hash_map_class):\n",
    "    hm = hash_map_class()\n",
    "    hm.put(1, \"apple\")\n",
    "    hm.put(2, \"banana\")\n",
    "    assert hm.get(1) == \"apple\"\n",
    "    assert hm.get(3) == None\n",
    "    hm.put(2, \"orange\")\n",
    "    assert hm.get(2) == \"orange\"\n",
    "    hm.remove(2)\n",
    "    assert hm.get(2) == None\n",
    "    print(\"All test cases passed!\")\n",
    "\n",
    "print(\"Testing Brute Force Hash Map\")\n",
    "test_hash_map(HashMapBrute)\n",
    "\n",
    "print(\"\\nTesting Optimized Hash Map\")\n",
    "test_hash_map(HashMapOptimized)\n"
   ]
  },
  {
   "cell_type": "markdown",
   "id": "462318bf-672f-4468-9122-070cf70b5af5",
   "metadata": {},
   "source": [
    "## Complexity Analysis"
   ]
  },
  {
   "cell_type": "markdown",
   "id": "3ff61a2e-affa-44cc-b483-573f9dc9b166",
   "metadata": {},
   "source": [
    "#### Time Complexity - \n",
    "\n",
    "| Approach    | put   | get   | remove |\n",
    "| ----------- | ----- | ----- | ------ |\n",
    "| Brute Force | O(n)  | O(n)  | O(n)   |\n",
    "| Optimized   | O(1)* | O(1)* | O(1)*  |\n",
    "\n",
    "- Amortized O(1) if the load factor is low.\n",
    "\n",
    "#### Space Complexity - \n",
    "- Brute Force → O(n)\n",
    "- Optimized → O(n + bucket_size"
   ]
  },
  {
   "cell_type": "markdown",
   "id": "54ae9b22-a3fd-4d97-807c-9deb388d03b1",
   "metadata": {},
   "source": [
    "#### Thank You!!"
   ]
  }
 ],
 "metadata": {
  "kernelspec": {
   "display_name": "Python 3 (ipykernel)",
   "language": "python",
   "name": "python3"
  },
  "language_info": {
   "codemirror_mode": {
    "name": "ipython",
    "version": 3
   },
   "file_extension": ".py",
   "mimetype": "text/x-python",
   "name": "python",
   "nbconvert_exporter": "python",
   "pygments_lexer": "ipython3",
   "version": "3.12.3"
  }
 },
 "nbformat": 4,
 "nbformat_minor": 5
}
