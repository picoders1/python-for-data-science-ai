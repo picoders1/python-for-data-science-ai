{
 "cells": [
  {
   "cell_type": "markdown",
   "id": "8a36d3b1-1a8d-478e-8060-6477472e6bd4",
   "metadata": {},
   "source": [
    "# **Problem Statement**  \n",
    "## **3. Design a Circular Queue**"
   ]
  },
  {
   "cell_type": "markdown",
   "id": "97e8eaf4-c67c-4ef9-87dd-a1c242b88a5a",
   "metadata": {},
   "source": [
    "Design a data structure that implements a circular queue with the following operations:\n",
    "\n",
    "- enQueue(x) → Insert element into the circular queue. Return True if successful.\n",
    "\n",
    "- deQueue() → Delete element from the circular queue. Return True if successful.\n",
    "\n",
    "- Front() → Get the front item.\n",
    "\n",
    "- Rear() → Get the last item.\n",
    "\n",
    "- isEmpty() → Check whether the circular queue is empty.\n",
    "\n",
    "- isFull() → Check whether the circular queue is full."
   ]
  },
  {
   "cell_type": "markdown",
   "id": "12b96244-784f-44f1-b72a-e69e054e8b67",
   "metadata": {},
   "source": [
    "### Constraints & Example Inputs/Outputs\n",
    "\n",
    "- Queue has fixed size k.\n",
    "- Must use circular behavior (wrap around when reaching end).\n",
    "\n",
    "Example:\n",
    "\n",
    "cq = MyCircularQueue(3)\n",
    "\n",
    "cq.enQueue(1)  # True\n",
    "\n",
    "cq.enQueue(2)  # True\n",
    "\n",
    "cq.enQueue(3)  # True\n",
    "\n",
    "cq.enQueue(4)  # False (queue is full)\n",
    "\n",
    "cq.Rear()      # 3\n",
    "\n",
    "cq.isFull()    # True\n",
    "\n",
    "cq.deQueue()   # True\n",
    "\n",
    "cq.enQueue(4)  # True\n",
    "\n",
    "cq.Rear()      # 4\n"
   ]
  },
  {
   "cell_type": "markdown",
   "id": "b68e7cad-ea42-4bb3-a20e-a91cba6d7424",
   "metadata": {},
   "source": [
    "### Solution Approach"
   ]
  },
  {
   "cell_type": "markdown",
   "id": "144b599f-addb-4686-8425-1f6e6f862acd",
   "metadata": {},
   "source": [
    "Here are the 2 possible approaches:\n",
    "##### 1. Brute Force (Using Python list and shifting elements):\n",
    "- On enQueue, append until full.\n",
    "\n",
    "- On deQueue, remove from the front → requires shifting elements.\n",
    "\n",
    "- Simple but inefficient: O(n) for deQueue.\n",
    "\n",
    "##### 2. Optimized Approach (Using Circular Array with Head and Tail Pointers):\n",
    "- Use a fixed-size list of length k.\n",
    "\n",
    "- Maintain two pointers:\n",
    "\n",
    "    - front (index of first element)\n",
    "    - rear (index of last element)\n",
    "\n",
    "- Use modular arithmetic (index % k) to wrap around.\n",
    "\n",
    "- Both enQueue and deQueue become O(1)."
   ]
  },
  {
   "cell_type": "markdown",
   "id": "be931aed-e6ac-4398-a9cc-cd43c98ed91b",
   "metadata": {},
   "source": [
    "### Solution Code"
   ]
  },
  {
   "cell_type": "code",
   "execution_count": 1,
   "id": "57cab10a-c58c-459b-b504-16dc7ee1d0ac",
   "metadata": {},
   "outputs": [],
   "source": [
    "# Approach1: Brute Force Approach\n",
    "class CircularQueueBruteForce:\n",
    "    def __init__(self, k: int):\n",
    "        self.capacity = k\n",
    "        self.queue = []\n",
    "    \n",
    "    def enQueue(self, value: int) -> bool:\n",
    "        if len(self.queue) == self.capacity:\n",
    "            return False\n",
    "        self.queue.append(value)\n",
    "        return True\n",
    "    \n",
    "    def deQueue(self) -> bool:\n",
    "        if not self.queue:\n",
    "            return False\n",
    "        self.queue.pop(0)  # O(n) operation\n",
    "        return True\n",
    "    \n",
    "    def Front(self) -> int:\n",
    "        return self.queue[0] if self.queue else -1\n",
    "    \n",
    "    def Rear(self) -> int:\n",
    "        return self.queue[-1] if self.queue else -1\n",
    "    \n",
    "    def isEmpty(self) -> bool:\n",
    "        return len(self.queue) == 0\n",
    "    \n",
    "    def isFull(self) -> bool:\n",
    "        return len(self.queue) == self.capacity"
   ]
  },
  {
   "cell_type": "code",
   "execution_count": 11,
   "id": "4065908c-92d9-4298-b100-7c0893750ab9",
   "metadata": {},
   "outputs": [
    {
     "data": {
      "text/plain": [
       "4"
      ]
     },
     "execution_count": 11,
     "metadata": {},
     "output_type": "execute_result"
    }
   ],
   "source": [
    "#Example Stuff\n",
    "cq = CircularQueueBruteForce(3)\n",
    "# cq.enQueue(1)\n",
    "# cq.enQueue(5)\n",
    "# cq.enQueue(10)\n",
    "# cq.enQueue(11)\n",
    "cq.enQueue(4)\n",
    "cq.Rear()"
   ]
  },
  {
   "cell_type": "markdown",
   "id": "9febed86-bc77-49f3-aa50-7adfe033688a",
   "metadata": {},
   "source": [
    "### Alternative Solution"
   ]
  },
  {
   "cell_type": "code",
   "execution_count": 12,
   "id": "3d0f40fa-e3cf-49eb-b872-7290e4cc7f70",
   "metadata": {},
   "outputs": [],
   "source": [
    "# Approach2: Opptimized Approach\n",
    "class MyCircularQueue:\n",
    "    def __init__(self, k: int):\n",
    "        self.capacity = k\n",
    "        self.queue = [0] * k\n",
    "        self.size = 0\n",
    "        self.front = 0\n",
    "        self.rear = -1\n",
    "    \n",
    "    def enQueue(self, value: int) -> bool:\n",
    "        if self.isFull():\n",
    "            return False\n",
    "        self.rear = (self.rear + 1) % self.capacity\n",
    "        self.queue[self.rear] = value\n",
    "        self.size += 1\n",
    "        return True\n",
    "    \n",
    "    def deQueue(self) -> bool:\n",
    "        if self.isEmpty():\n",
    "            return False\n",
    "        self.front = (self.front + 1) % self.capacity\n",
    "        self.size -= 1\n",
    "        return True\n",
    "    \n",
    "    def Front(self) -> int:\n",
    "        return -1 if self.isEmpty() else self.queue[self.front]\n",
    "    \n",
    "    def Rear(self) -> int:\n",
    "        return -1 if self.isEmpty() else self.queue[self.rear]\n",
    "    \n",
    "    def isEmpty(self) -> bool:\n",
    "        return self.size == 0\n",
    "    \n",
    "    def isFull(self) -> bool:\n",
    "        return self.size == self.capacity\n",
    "    "
   ]
  },
  {
   "cell_type": "code",
   "execution_count": 13,
   "id": "4e9e6c99-592a-424c-a87a-3c6a09ab443c",
   "metadata": {},
   "outputs": [
    {
     "data": {
      "text/plain": [
       "4"
      ]
     },
     "execution_count": 13,
     "metadata": {},
     "output_type": "execute_result"
    }
   ],
   "source": [
    "#Example Stuff\n",
    "cq = MyCircularQueue(3)\n",
    "# cq.enQueue(1)\n",
    "# cq.enQueue(5)\n",
    "# cq.enQueue(10)\n",
    "# cq.enQueue(11)\n",
    "cq.enQueue(4)\n",
    "cq.Rear()"
   ]
  },
  {
   "cell_type": "markdown",
   "id": "462318bf-672f-4468-9122-070cf70b5af5",
   "metadata": {},
   "source": [
    "## Complexity Analysis"
   ]
  },
  {
   "cell_type": "markdown",
   "id": "3ff61a2e-affa-44cc-b483-573f9dc9b166",
   "metadata": {},
   "source": [
    "##### Brute Force Approach:\n",
    "\n",
    "- enQueue: O(1)\n",
    "- deQueue: O(n) (because of list shifting)\n",
    "- Space: O(k)\n",
    "\n",
    "##### Optimized Approach (Head & Tail):\n",
    "\n",
    "- enQueue: O(1)\n",
    "- deQueue: O(1)\n",
    "- Front/Rear: O(1)\n",
    "- Space: O(k)"
   ]
  },
  {
   "cell_type": "markdown",
   "id": "54ae9b22-a3fd-4d97-807c-9deb388d03b1",
   "metadata": {},
   "source": [
    "#### Thank You!!"
   ]
  }
 ],
 "metadata": {
  "kernelspec": {
   "display_name": "Python 3 (ipykernel)",
   "language": "python",
   "name": "python3"
  },
  "language_info": {
   "codemirror_mode": {
    "name": "ipython",
    "version": 3
   },
   "file_extension": ".py",
   "mimetype": "text/x-python",
   "name": "python",
   "nbconvert_exporter": "python",
   "pygments_lexer": "ipython3",
   "version": "3.8.10"
  }
 },
 "nbformat": 4,
 "nbformat_minor": 5
}
