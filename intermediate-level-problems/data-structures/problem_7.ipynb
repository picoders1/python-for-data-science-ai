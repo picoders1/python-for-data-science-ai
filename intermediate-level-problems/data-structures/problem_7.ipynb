{
 "cells": [
  {
   "cell_type": "markdown",
   "id": "8a36d3b1-1a8d-478e-8060-6477472e6bd4",
   "metadata": {},
   "source": [
    "# **Problem Statement**  \n",
    "## **7. Implement a binary search tree with insert, delete, and search operations.**"
   ]
  },
  {
   "cell_type": "markdown",
   "id": "97e8eaf4-c67c-4ef9-87dd-a1c242b88a5a",
   "metadata": {},
   "source": [
    "Implement a **Binary Search Tree (BST)** that supports the following operations:\n",
    "1. **Insert** a new node with a given key.  \n",
    "2. **Search** for a key in the BST.  \n",
    "3. **Delete** a key from the BST while maintaining BST properties.\n",
    "\n",
    "BST properties:  \n",
    "- Left child < Parent  \n",
    "- Right child > Parent  \n",
    "\n",
    "You should implement the BST using a class-based approach.  "
   ]
  },
  {
   "cell_type": "markdown",
   "id": "12b96244-784f-44f1-b72a-e69e054e8b67",
   "metadata": {},
   "source": [
    "### Constraints & Example Inputs/Outputs\n",
    "\n",
    "### Constraints\n",
    "- All keys are integers (positive/negative allowed).  \n",
    "- No duplicate keys allowed.  \n",
    "- Tree size ≤ 10^4 (so recursion is safe).  \n",
    "\n",
    "### Example Input/Output\n",
    "Insert: [50, 30, 20, 40, 70, 60, 80]  \n",
    "\n",
    "Search(40) → True  \n",
    "Search(90) → False  \n",
    "\n",
    "Delete(20): Removes leaf node  \n",
    "Delete(30): Removes node with one child  \n",
    "Delete(50): Removes node with two children  \n"
   ]
  },
  {
   "cell_type": "markdown",
   "id": "b68e7cad-ea42-4bb3-a20e-a91cba6d7424",
   "metadata": {},
   "source": [
    "### Solution Approach"
   ]
  },
  {
   "cell_type": "markdown",
   "id": "144b599f-addb-4686-8425-1f6e6f862acd",
   "metadata": {},
   "source": [
    "### Step-by-Step Approach\n",
    "\n",
    "1. **BST Node Structure**  \n",
    "   - Each node has: `key`, `left`, and `right`.\n",
    "\n",
    "2. **Insert Operation**  \n",
    "   - Recursively place the node in the correct position.\n",
    "\n",
    "3. **Search Operation**  \n",
    "   - Compare key with root.  \n",
    "   - If key < root → search left.  \n",
    "   - If key > root → search right.  \n",
    "   - If equal → return True.\n",
    "\n",
    "4. **Delete Operation**  \n",
    "   - Case 1: Node has no child → simply remove it.  \n",
    "   - Case 2: Node has one child → replace with child.  \n",
    "   - Case 3: Node has two children → find inorder successor (smallest in right subtree), replace value, and delete successor.\n"
   ]
  },
  {
   "cell_type": "markdown",
   "id": "be931aed-e6ac-4398-a9cc-cd43c98ed91b",
   "metadata": {},
   "source": [
    "### Solution Code"
   ]
  },
  {
   "cell_type": "code",
   "execution_count": 1,
   "id": "57cab10a-c58c-459b-b504-16dc7ee1d0ac",
   "metadata": {},
   "outputs": [],
   "source": [
    "# Approach1: Brute Force Approach\n",
    "class Node:\n",
    "    def __init__(self, key):\n",
    "        self.key = key\n",
    "        self.left = None\n",
    "        self.right = None\n",
    "\n",
    "class BST:\n",
    "    def __init__(self):\n",
    "        self.root = None\n",
    "\n",
    "    # Insert function\n",
    "    def insert(self, root, key):\n",
    "        if root is None:\n",
    "            return Node(key)\n",
    "        if key < root.key:\n",
    "            root.left = self.insert(root.left, key)\n",
    "        elif key > root.key:\n",
    "            root.right = self.insert(root.right, key)\n",
    "        return root\n",
    "\n",
    "    def insert_key(self, key):\n",
    "        self.root = self.insert(self.root, key)\n",
    "\n",
    "    # Search function\n",
    "    def search(self, root, key):\n",
    "        if root is None or root.key == key:\n",
    "            return root is not None\n",
    "        if key < root.key:\n",
    "            return self.search(root.left, key)\n",
    "        return self.search(root.right, key)\n",
    "\n",
    "    # Delete function\n",
    "    def delete(self, root, key):\n",
    "        if root is None:\n",
    "            return root\n",
    "\n",
    "        if key < root.key:\n",
    "            root.left = self.delete(root.left, key)\n",
    "        elif key > root.key:\n",
    "            root.right = self.delete(root.right, key)\n",
    "        else:\n",
    "            # Case 1 & 2: Node with only one child or no child\n",
    "            if root.left is None:\n",
    "                return root.right\n",
    "            elif root.right is None:\n",
    "                return root.left\n",
    "\n",
    "            # Case 3: Node with two children\n",
    "            successor = self.minValueNode(root.right)\n",
    "            root.key = successor.key\n",
    "            root.right = self.delete(root.right, successor.key)\n",
    "\n",
    "        return root\n",
    "\n",
    "    def delete_key(self, key):\n",
    "        self.root = self.delete(self.root, key)\n",
    "\n",
    "    # Helper: Find minimum value node\n",
    "    def minValueNode(self, node):\n",
    "        current = node\n",
    "        while current.left:\n",
    "            current = current.left\n",
    "        return current\n",
    "\n",
    "    # Utility: Inorder Traversal (for testing)\n",
    "    def inorder(self, root):\n",
    "        return self.inorder(root.left) + [root.key] + self.inorder(root.right) if root else []\n"
   ]
  },
  {
   "cell_type": "markdown",
   "id": "2887b550-0dce-4200-94e0-789c2ccb157f",
   "metadata": {},
   "source": [
    "### Alternative Approaches\n",
    "1. **Iterative Insert/Search/Delete** → Avoids recursion, helpful in large trees.  \n",
    "2. **Self-Balancing Trees (AVL / Red-Black Trees)** → Maintain height balance for better worst-case time complexity.  "
   ]
  },
  {
   "cell_type": "markdown",
   "id": "412c5bb9-f640-4218-b85c-aefef10506a0",
   "metadata": {},
   "source": [
    "### Test Cases"
   ]
  },
  {
   "cell_type": "code",
   "execution_count": 3,
   "id": "1cebddee-fada-4ddc-95c4-cf2e955dbb13",
   "metadata": {},
   "outputs": [
    {
     "name": "stdout",
     "output_type": "stream",
     "text": [
      "Inorder Traversal: [20, 30, 40, 50, 60, 70, 80]\n",
      "Search 40: True\n",
      "Search 90: False\n",
      "After deleting 20: [30, 40, 50, 60, 70, 80]\n",
      "After deleting 30: [40, 50, 60, 70, 80]\n",
      "After deleting 50: [40, 60, 70, 80]\n"
     ]
    }
   ],
   "source": [
    "# Testing\n",
    "bst = BST()\n",
    "for key in [50, 30, 20, 40, 70, 60, 80]:\n",
    "    bst.insert_key(key)\n",
    "\n",
    "print(\"Inorder Traversal:\", bst.inorder(bst.root))  \n",
    "# Expected: [20, 30, 40, 50, 60, 70, 80]\n",
    "\n",
    "print(\"Search 40:\", bst.search(bst.root, 40))  # True\n",
    "print(\"Search 90:\", bst.search(bst.root, 90))  # False\n",
    "\n",
    "# Delete leaf node\n",
    "bst.delete_key(20)\n",
    "print(\"After deleting 20:\", bst.inorder(bst.root))  \n",
    "# Expected: [30, 40, 50, 60, 70, 80]\n",
    "\n",
    "# Delete node with one child\n",
    "bst.delete_key(30)\n",
    "print(\"After deleting 30:\", bst.inorder(bst.root))  \n",
    "# Expected: [40, 50, 60, 70, 80]\n",
    "\n",
    "# Delete node with two children\n",
    "bst.delete_key(50)\n",
    "print(\"After deleting 50:\", bst.inorder(bst.root))  \n",
    "# Expected: [40, 60, 70, 80]"
   ]
  },
  {
   "cell_type": "markdown",
   "id": "462318bf-672f-4468-9122-070cf70b5af5",
   "metadata": {},
   "source": [
    "## Complexity Analysis"
   ]
  },
  {
   "cell_type": "markdown",
   "id": "3ff61a2e-affa-44cc-b483-573f9dc9b166",
   "metadata": {},
   "source": [
    "### Complexity Analysis\n",
    "- **Insert**: O(h), where h = height of tree (O(log n) for balanced, O(n) for skewed).  \n",
    "- **Search**: O(h).  \n",
    "- **Delete**: O(h).  \n",
    "- **Space Complexity**: O(h) for recursion stack (worst case O(n)).  "
   ]
  },
  {
   "cell_type": "code",
   "execution_count": null,
   "id": "60c59f04-c466-4745-b9ad-ac52e244cc47",
   "metadata": {},
   "outputs": [],
   "source": []
  },
  {
   "cell_type": "markdown",
   "id": "54ae9b22-a3fd-4d97-807c-9deb388d03b1",
   "metadata": {},
   "source": [
    "#### Thank You!!"
   ]
  }
 ],
 "metadata": {
  "kernelspec": {
   "display_name": "Python 3 (ipykernel)",
   "language": "python",
   "name": "python3"
  },
  "language_info": {
   "codemirror_mode": {
    "name": "ipython",
    "version": 3
   },
   "file_extension": ".py",
   "mimetype": "text/x-python",
   "name": "python",
   "nbconvert_exporter": "python",
   "pygments_lexer": "ipython3",
   "version": "3.8.10"
  }
 },
 "nbformat": 4,
 "nbformat_minor": 5
}
