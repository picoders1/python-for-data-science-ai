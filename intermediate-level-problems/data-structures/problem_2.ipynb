{
 "cells": [
  {
   "cell_type": "markdown",
   "id": "8a36d3b1-1a8d-478e-8060-6477472e6bd4",
   "metadata": {},
   "source": [
    "# **Problem Statement**  \n",
    "## **2. Implement a queue using two stacks**"
   ]
  },
  {
   "cell_type": "markdown",
   "id": "97e8eaf4-c67c-4ef9-87dd-a1c242b88a5a",
   "metadata": {},
   "source": [
    "Implement a queue (FIFO data structure) using two stacks (LIFO data structure). The queue should support operations enqueue, dequeue, peek, and empty using only stack operations (push, pop)."
   ]
  },
  {
   "cell_type": "markdown",
   "id": "12b96244-784f-44f1-b72a-e69e054e8b67",
   "metadata": {},
   "source": [
    "### Constraints & Example Inputs/Outputs\n",
    "\n",
    "- Allowed only two stacks.\n",
    "- Queue operations:\n",
    "\n",
    "    - enqueue(x) → add element to the end.\n",
    "    - dequeue() → remove and return element from the front.\n",
    "    - peek() → return front element without removing it.\n",
    "    - empty() → check if queue is empty.\n",
    "\n",
    "Example:\n",
    "\n",
    "q = Queue()\n",
    "\n",
    "q.enqueue(1)\n",
    "\n",
    "q.enqueue(2)\n",
    "\n",
    "q.peek()     # Output: 1\n",
    "\n",
    "q.dequeue()  # Output: 1\n",
    "\n",
    "q.empty()    # Output: False\n"
   ]
  },
  {
   "cell_type": "markdown",
   "id": "b68e7cad-ea42-4bb3-a20e-a91cba6d7424",
   "metadata": {},
   "source": [
    "### Solution Approach"
   ]
  },
  {
   "cell_type": "markdown",
   "id": "144b599f-addb-4686-8425-1f6e6f862acd",
   "metadata": {},
   "source": [
    "Here are the 2 possible approaches:\n",
    "\n",
    "##### 1. Brute Force Approach (Enqueue Efficient):\n",
    "- Always push into the first stack (s1).\n",
    "\n",
    "- For dequeue, move all elements to s2, pop one element, then move back.\n",
    "\n",
    "- enqueue: O(1), dequeue: O(n).\n",
    "\n",
    "##### 2. Optimized Approach (Lazy Transfer):\n",
    "- Use two stacks:\n",
    "    - s1 for enqueue.\n",
    "    - s2 for dequeue.\n",
    "\n",
    "- When dequeue is called, if s2 is empty → move all elements from s1 to s2.\n",
    "\n",
    "- This gives amortized O(1) performance."
   ]
  },
  {
   "cell_type": "markdown",
   "id": "be931aed-e6ac-4398-a9cc-cd43c98ed91b",
   "metadata": {},
   "source": [
    "### Solution Code"
   ]
  },
  {
   "cell_type": "code",
   "execution_count": 1,
   "id": "57cab10a-c58c-459b-b504-16dc7ee1d0ac",
   "metadata": {},
   "outputs": [],
   "source": [
    "# Approach1: Brute Force Approach\n",
    "class QueueBruteForce:\n",
    "    def __init__(self):\n",
    "        self.s1 = []\n",
    "        self.s2 = []\n",
    "    \n",
    "    def enqueue(self, x):\n",
    "        self.s1.append(x)\n",
    "    \n",
    "    def dequeue(self):\n",
    "        if not self.s1:\n",
    "            return None\n",
    "        while len(self.s1) > 1:\n",
    "            self.s2.append(self.s1.pop())\n",
    "        front = self.s1.pop()\n",
    "        while self.s2:\n",
    "            self.s1.append(self.s2.pop())\n",
    "        return front\n",
    "    \n",
    "    def peek(self):\n",
    "        if not self.s1:\n",
    "            return None\n",
    "        while len(self.s1) > 1:\n",
    "            self.s2.append(self.s1.pop())\n",
    "        front = self.s1[-1]\n",
    "        self.s2.append(self.s1.pop())\n",
    "        while self.s2:\n",
    "            self.s1.append(self.s2.pop())\n",
    "        return front\n",
    "    \n",
    "    def empty(self):\n",
    "        return not self.s1\n"
   ]
  },
  {
   "cell_type": "code",
   "execution_count": 3,
   "id": "4065908c-92d9-4298-b100-7c0893750ab9",
   "metadata": {},
   "outputs": [
    {
     "data": {
      "text/plain": [
       "1"
      ]
     },
     "execution_count": 3,
     "metadata": {},
     "output_type": "execute_result"
    }
   ],
   "source": [
    "#Example Stuff\n",
    "q = QueueBruteForce()\n",
    "q.enqueue(1)\n",
    "\n",
    "q.enqueue(2)\n",
    "\n",
    "q.peek() # Output: 1\n",
    "\n",
    "q.dequeue() # Output: 1\n",
    "\n",
    "# q.empty() # Output: False"
   ]
  },
  {
   "cell_type": "markdown",
   "id": "9febed86-bc77-49f3-aa50-7adfe033688a",
   "metadata": {},
   "source": [
    "### Alternative Solution"
   ]
  },
  {
   "cell_type": "code",
   "execution_count": 6,
   "id": "3d0f40fa-e3cf-49eb-b872-7290e4cc7f70",
   "metadata": {},
   "outputs": [],
   "source": [
    "# Approach 2: Opptimized Approach\n",
    "class QueueOptimized:\n",
    "    def __init__(self):\n",
    "        self.s1 = []\n",
    "        self.s2 = []\n",
    "\n",
    "    def enqueue(self, x):\n",
    "        self.s1.append(x)\n",
    "\n",
    "    def dequeue(self):\n",
    "        if not self.s2:\n",
    "            while self.s1:\n",
    "                self.s2.append(self.s2.pop())\n",
    "        return self.s2.pop() if self.s2 else None\n",
    "\n",
    "    def peek(self):\n",
    "        if not self.s2:\n",
    "            while self.s1:\n",
    "                self.s2.append(self.s1.pop())\n",
    "        return self.s2[-1] if self.s2 else None\n",
    "\n",
    "    def empty(self):\n",
    "        return not self.s1 and not self.s2\n",
    "    "
   ]
  },
  {
   "cell_type": "code",
   "execution_count": 10,
   "id": "4e9e6c99-592a-424c-a87a-3c6a09ab443c",
   "metadata": {},
   "outputs": [
    {
     "data": {
      "text/plain": [
       "11"
      ]
     },
     "execution_count": 10,
     "metadata": {},
     "output_type": "execute_result"
    }
   ],
   "source": [
    "#Example Stuff\n",
    "q = QueueOptimized()\n",
    "q.enqueue(11)\n",
    "\n",
    "q.enqueue(22)\n",
    "\n",
    "q.peek() # Output: 11\n",
    "\n",
    "# q.dequeue() # Output: 11\n",
    "\n",
    "# q.empty() # Output: False"
   ]
  },
  {
   "cell_type": "markdown",
   "id": "462318bf-672f-4468-9122-070cf70b5af5",
   "metadata": {},
   "source": [
    "## Complexity Analysis"
   ]
  },
  {
   "cell_type": "markdown",
   "id": "3ff61a2e-affa-44cc-b483-573f9dc9b166",
   "metadata": {},
   "source": [
    "##### Brute Force Approach (Enqueue Efficient):\n",
    "\n",
    "- Enqueue: O(1)\n",
    "- Dequeue: O(n)\n",
    "- Peek: O(n)\n",
    "- Space: O(n)\n",
    "\n",
    "##### Optimized Approach (Lazy Transfer):\n",
    "\n",
    "- Enqueue: O(1)\n",
    "- Dequeue: Amortized O(1), Worst O(n)\n",
    "- Peek: Amortized O(1), Worst O(n)\n",
    "- Space: O(n)"
   ]
  },
  {
   "cell_type": "markdown",
   "id": "54ae9b22-a3fd-4d97-807c-9deb388d03b1",
   "metadata": {},
   "source": [
    "#### Thank You!!"
   ]
  }
 ],
 "metadata": {
  "kernelspec": {
   "display_name": "Python 3 (ipykernel)",
   "language": "python",
   "name": "python3"
  },
  "language_info": {
   "codemirror_mode": {
    "name": "ipython",
    "version": 3
   },
   "file_extension": ".py",
   "mimetype": "text/x-python",
   "name": "python",
   "nbconvert_exporter": "python",
   "pygments_lexer": "ipython3",
   "version": "3.8.10"
  }
 },
 "nbformat": 4,
 "nbformat_minor": 5
}
