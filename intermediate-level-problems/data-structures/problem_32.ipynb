{
 "cells": [
  {
   "cell_type": "markdown",
   "id": "8a36d3b1-1a8d-478e-8060-6477472e6bd4",
   "metadata": {},
   "source": [
    "# **Problem Statement**  \n",
    "## **32. Design a data structure for autocomplete system.**"
   ]
  },
  {
   "cell_type": "markdown",
   "id": "97e8eaf4-c67c-4ef9-87dd-a1c242b88a5a",
   "metadata": {},
   "source": [
    "Design a data structure that suggests up to the top 3 most frequently typed sentences starting with the current input prefix.\n",
    "\n",
    "The system should support:\n",
    "\n",
    "- input(char c):\n",
    "    - If c != '#', return the top 3 sentences that have the current prefix (sorted by frequency, then lexicographically).\n",
    "    - If c == '#', store the current prefix as a new sentence in the system (frequency +1), then reset the prefix.\n",
    "\n",
    "The goal is to simulate a real-time autocomplete engine similar to how typing works in a search bar."
   ]
  },
  {
   "cell_type": "markdown",
   "id": "12b96244-784f-44f1-b72a-e69e054e8b67",
   "metadata": {},
   "source": [
    "### Constraints & Example Inputs/Outputs\n",
    "\n",
    "- Maximum number of stored sentences: ≤ 10⁴\n",
    "- Each sentence length ≤ 100\n",
    "- The system should return results within milliseconds (near real-time suggestion).\n",
    "\n",
    "### Example 1:\n",
    "```python \n",
    "sentences = [\"i love you\", \"island\", \"ironman\", \"i love leetcode\"]\n",
    "times = [5, 3, 2, 2]\n",
    "\n",
    "autocomplete = AutocompleteSystem(sentences, times)\n",
    "print(autocomplete.input('i'))   # → [\"i love you\", \"island\", \"i love leetcode\"]\n",
    "print(autocomplete.input(' '))   # → [\"i love you\", \"i love leetcode\"]\n",
    "print(autocomplete.input('a'))   # → []\n",
    "print(autocomplete.input('#'))   # → []\n"
   ]
  },
  {
   "cell_type": "markdown",
   "id": "b68e7cad-ea42-4bb3-a20e-a91cba6d7424",
   "metadata": {},
   "source": [
    "### Solution Approach"
   ]
  },
  {
   "cell_type": "markdown",
   "id": "144b599f-addb-4686-8425-1f6e6f862acd",
   "metadata": {},
   "source": [
    "#### Core Idea:\n",
    "We use a Trie (Prefix Tree) where:\n",
    "- Each node stores:\n",
    "    - children → next characters.\n",
    "    - counts → a map {sentence: frequency} for quick lookup.\n",
    "\n",
    "When an User types a character:\n",
    "1. Append it to the current prefix.\n",
    "2. Traverse the Trie to find the prefix node.\n",
    "3. Gather all sentences starting from that prefix.\n",
    "4. Sort by:\n",
    "   - Frequency(descending)\n",
    "   - Lexicographical Order(ascending)\n",
    "5. Return top 3 suggestions.\n",
    "\n",
    "when '#' is entered:\n",
    "- Insert/Update the sentence in the Trie (increase frequency).\n",
    "- Reset Prefix."
   ]
  },
  {
   "cell_type": "markdown",
   "id": "be931aed-e6ac-4398-a9cc-cd43c98ed91b",
   "metadata": {},
   "source": [
    "### Solution Code"
   ]
  },
  {
   "cell_type": "code",
   "execution_count": 2,
   "id": "57cab10a-c58c-459b-b504-16dc7ee1d0ac",
   "metadata": {},
   "outputs": [],
   "source": [
    "# Approach1: Brute Force Approach (For conceptual baseline comparison - not efficient for large data)\n",
    "class AutocompleteBruteForce:\n",
    "    def __init__(self, sentences, times):\n",
    "        self.freq = {s: t for s, t in zip(senstences, times)}\n",
    "        self.prefix = \"\"\n",
    "\n",
    "    def input(self, c):\n",
    "        if c == \"#\":\n",
    "            self.freq[self.prefix] = self.freq.get(self.prefix, 0) + 1\n",
    "            self.prefix = \"\"\n",
    "            return []\n",
    "        self.prefix += c\n",
    "        candidates = [s for s in self.freq if s.startswith(self.prefix)]\n",
    "        candidates.sort(key=lambda s: (-self.freq[s], s))\n",
    "        return candidates[:3]"
   ]
  },
  {
   "cell_type": "markdown",
   "id": "b0b21442-c48a-4e83-9985-017f6b787ed7",
   "metadata": {},
   "source": [
    "### Time Complexity:\n",
    "- For each input: O(N * L log N)\n",
    "(where N = total sentences, L = avg sentence length)\n",
    "\n",
    "This works fine for small input but not scalable."
   ]
  },
  {
   "cell_type": "markdown",
   "id": "9febed86-bc77-49f3-aa50-7adfe033688a",
   "metadata": {},
   "source": [
    "### Alternative Solution"
   ]
  },
  {
   "cell_type": "code",
   "execution_count": 3,
   "id": "3d0f40fa-e3cf-49eb-b872-7290e4cc7f70",
   "metadata": {},
   "outputs": [],
   "source": [
    "# Approach2: Optimized Approach (Trie-based Autocomplete System)\n",
    "from collections import defaultdict\n",
    "\n",
    "class TrieNode:\n",
    "    def __init__(self):\n",
    "        self.children = {}\n",
    "        self.counts = defaultdict(int)\n",
    "\n",
    "class AutocompleteSystem:\n",
    "    def __init__(self, sentences, times):\n",
    "        self.root = TrieNode()\n",
    "        self.keyword = \"\"\n",
    "        for s, t in zip(sentences, times):\n",
    "            self.add_sentence(s, t)\n",
    "\n",
    "    def add_sentence(self, sentence, count):\n",
    "        node = self.root\n",
    "        for ch in sentence:\n",
    "            if ch not in node.children:\n",
    "                node.children[ch] = TrieNode()\n",
    "            node = node.children[ch]\n",
    "            node.counts[sentence] += count\n",
    "\n",
    "    def search(self, prefix):\n",
    "        node = self.root\n",
    "        for ch in prefix:\n",
    "            if ch not in node.children:\n",
    "                return []\n",
    "            node = node.children[ch]\n",
    "        return sorted(node.counts.keys(), key=lambda s: (-node.counts[s], s))[:3]\n",
    "\n",
    "    def input(self, c):\n",
    "        if c == '#':\n",
    "            self.add_sentence(self.keyword, 1)\n",
    "            self.keyword = \"\"\n",
    "            return []\n",
    "        self.keyword += c\n",
    "        return self.search(self.keyword)"
   ]
  },
  {
   "cell_type": "markdown",
   "id": "2459abe6-92bc-4283-ad4b-aff83def7ae0",
   "metadata": {},
   "source": [
    "### Alternative Approaches"
   ]
  },
  {
   "cell_type": "markdown",
   "id": "9968c8eb-bc72-4b47-92ab-977b2e022a1e",
   "metadata": {},
   "source": [
    "| Approach                     | Description                  | Pros                    | Cons                    |\n",
    "| ---------------------------- | ---------------------------- | ----------------------- | ----------------------- |\n",
    "| **Brute Force (list-based)** | Linear scan and prefix match | Simple                  | Too slow for real-time  |\n",
    "| **Trie (current)**           | Prefix-indexed lookup        | Fast & memory efficient | Slightly complex        |\n",
    "| **Ternary Search Tree**      | Memory-optimized Trie        | Space-saving            | Harder to implement     |\n",
    "| **Prefix Hash Map**          | Stores top-k for each prefix | Instant results         | High preprocessing time |\n"
   ]
  },
  {
   "cell_type": "markdown",
   "id": "d6a0376a-06d0-45f0-8c7e-c16ff2a673ef",
   "metadata": {},
   "source": [
    "### Test Cases "
   ]
  },
  {
   "cell_type": "code",
   "execution_count": 4,
   "id": "ae26483e-d6b2-4834-98f4-d7566355dc5d",
   "metadata": {},
   "outputs": [
    {
     "name": "stdout",
     "output_type": "stream",
     "text": [
      "['i love you', 'island', 'i love leetcode']\n",
      "['i love you', 'i love leetcode']\n",
      "[]\n",
      "[]\n",
      "['i love you', 'island', 'i a']\n",
      "['i love you', 'i a', 'i love leetcode']\n"
     ]
    }
   ],
   "source": [
    "def test_autocomplete_system():\n",
    "    sentences = [\"i love you\", \"island\", \"ironman\", \"i love leetcode\"]\n",
    "    times = [5, 3, 2, 2]\n",
    "    ac = AutocompleteSystem(sentences, times)\n",
    "\n",
    "    print(ac.input('i'))   # [\"i love you\", \"island\", \"i love leetcode\"]\n",
    "    print(ac.input(' '))   # [\"i love you\", \"i love leetcode\"]\n",
    "    print(ac.input('a'))   # []\n",
    "    print(ac.input('#'))   # []\n",
    "\n",
    "    # Test adding a new sentence\n",
    "    ac.input('i')\n",
    "    ac.input(' ')\n",
    "    ac.input('a')\n",
    "    ac.input('#')  # Adds \"i a\" with frequency 1\n",
    "\n",
    "    print(ac.input('i'))   # [\"i love you\", \"island\", \"i love leetcode\"]\n",
    "    print(ac.input(' '))   # [\"i love you\", \"i love leetcode\", \"i a\"]\n",
    "\n",
    "test_autocomplete_system()\n"
   ]
  },
  {
   "cell_type": "markdown",
   "id": "462318bf-672f-4468-9122-070cf70b5af5",
   "metadata": {},
   "source": [
    "## Complexity Analysis"
   ]
  },
  {
   "cell_type": "markdown",
   "id": "3ff61a2e-affa-44cc-b483-573f9dc9b166",
   "metadata": {},
   "source": [
    "| Operation        | Time Complexity | Space Complexity | Description                                 |\n",
    "| ---------------- | --------------- | ---------------- | ------------------------------------------- |\n",
    "| `add_sentence()` | O(L)            | O(L * N)         | Insert sentence into Trie                   |\n",
    "| `search(prefix)` | O(P + k log k)  | —                | P = prefix length, k = #results             |\n",
    "| `input()`        | O(L log L)      | —                | Sort top results                            |\n",
    "| Overall          | **O(L log L)**  | **O(N * L)**     | Very efficient for interactive autocomplete |\n"
   ]
  },
  {
   "cell_type": "markdown",
   "id": "ac7d1e3b-1964-4747-a991-dbfd9de9b615",
   "metadata": {},
   "source": [
    "### Real World Analogy"
   ]
  },
  {
   "cell_type": "markdown",
   "id": "2693e4e1-b00c-4fff-ad41-116e1201cc9a",
   "metadata": {},
   "source": [
    "This structure is how:\n",
    "- Google autocomplete predicts what you’ll type next.\n",
    "- Spotify / YouTube search bars suggest most played items.\n",
    "- Code editors (VSCode / Copilot) autocomplete identifiers and function names."
   ]
  },
  {
   "cell_type": "markdown",
   "id": "54ae9b22-a3fd-4d97-807c-9deb388d03b1",
   "metadata": {},
   "source": [
    "#### Thank You!!"
   ]
  }
 ],
 "metadata": {
  "kernelspec": {
   "display_name": "Python 3 (ipykernel)",
   "language": "python",
   "name": "python3"
  },
  "language_info": {
   "codemirror_mode": {
    "name": "ipython",
    "version": 3
   },
   "file_extension": ".py",
   "mimetype": "text/x-python",
   "name": "python",
   "nbconvert_exporter": "python",
   "pygments_lexer": "ipython3",
   "version": "3.12.3"
  }
 },
 "nbformat": 4,
 "nbformat_minor": 5
}
