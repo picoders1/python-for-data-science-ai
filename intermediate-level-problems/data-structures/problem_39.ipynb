{
 "cells": [
  {
   "cell_type": "markdown",
   "id": "8a36d3b1-1a8d-478e-8060-6477472e6bd4",
   "metadata": {},
   "source": [
    "# **Problem Statement**  \n",
    "## **39. Implement a Red-Black Tree.**"
   ]
  },
  {
   "cell_type": "markdown",
   "id": "97e8eaf4-c67c-4ef9-87dd-a1c242b88a5a",
   "metadata": {},
   "source": [
    "Implement a Red-Black Tree (RBT) that supports insertion, deletion, and search operations while maintaining the red-black tree properties:\n",
    "- Every node is either red or black.\n",
    "- Root is black.\n",
    "- All leaves (NIL) are black.\n",
    "- Red nodes cannot have red children (no consecutive red nodes).\n",
    "- Every path from a node to its descendant NIL nodes contains the same number of black nodes."
   ]
  },
  {
   "cell_type": "markdown",
   "id": "12b96244-784f-44f1-b72a-e69e054e8b67",
   "metadata": {},
   "source": [
    "### Constraints & Example Inputs/Outputs\n",
    "\n",
    "- Assume keys are integers.\n",
    "- Duplicate keys are not allowed.\n",
    "- RBT must maintain all balancing properties after insertion and deletion.\n",
    "\n",
    "### Example:\n",
    "```python\n",
    "# Insert keys\n",
    "Insert(10)\n",
    "Insert(20)\n",
    "Insert(30)\n",
    "Search(20) -> True\n",
    "Search(40) -> False\n",
    "Delete(20)\n",
    "Search(20) -> False\n"
   ]
  },
  {
   "cell_type": "markdown",
   "id": "b68e7cad-ea42-4bb3-a20e-a91cba6d7424",
   "metadata": {},
   "source": [
    "### Solution Approach"
   ]
  },
  {
   "cell_type": "markdown",
   "id": "144b599f-addb-4686-8425-1f6e6f862acd",
   "metadata": {},
   "source": [
    "Here are the 2 possible approaches:\n",
    "\n",
    "##### Brute Force Approach:\n",
    "- Implement a regular BST without color balancing → O(n) worst-case operations.\n",
    "- Does not satisfy Red-Black properties.\n",
    "\n",
    "##### Optimized Approach (Proper Red-Black Tree):\n",
    "- Use BST structure + color attribute for each node (Red/Black).\n",
    "- On insertion/deletion, fix tree using rotations and recoloring.\n",
    "- Operations maintain O(log n) time.\n",
    "\n",
    "##### Key Concepts:\n",
    "1. Left Rotate / Right Rotate for balancing.\n",
    "2. Fix Insert / Fix Delete to maintain Red-Black properties."
   ]
  },
  {
   "cell_type": "markdown",
   "id": "be931aed-e6ac-4398-a9cc-cd43c98ed91b",
   "metadata": {},
   "source": [
    "### Solution Code"
   ]
  },
  {
   "cell_type": "code",
   "execution_count": 2,
   "id": "57cab10a-c58c-459b-b504-16dc7ee1d0ac",
   "metadata": {},
   "outputs": [],
   "source": [
    "# A simplified Red-Black Tree Implementation:\n",
    "\n",
    "class Node:\n",
    "    def __init__(self, key, color=\"red\"):\n",
    "        self.key = key\n",
    "        self.color = color\n",
    "        self.left = None\n",
    "        self.right = None\n",
    "        self.parent = None\n",
    "\n",
    "class RedBlackTree:\n",
    "    def __init__(self):\n",
    "        self.NIL = Node(None, color=\"black\")  # Sentinel NIL node\n",
    "        self.root = self.NIL\n",
    "\n",
    "    def left_rotate(self, x):\n",
    "        y = x.right\n",
    "        x.right = y.left\n",
    "        if y.left != self.NIL:\n",
    "            y.left.parent = x\n",
    "        y.parent = x.parent\n",
    "        if x.parent == None:\n",
    "            self.root = y\n",
    "        elif x == x.parent.left:\n",
    "            x.parent.left = y\n",
    "        else:\n",
    "            x.parent.right = y\n",
    "        y.left = x\n",
    "        x.parent = y\n",
    "\n",
    "    def right_rotate(self, x):\n",
    "        y = x.left\n",
    "        x.left = y.right\n",
    "        if y.right != self.NIL:\n",
    "            y.right.parent = x\n",
    "        y.parent = x.parent\n",
    "        if x.parent == None:\n",
    "            self.root = y\n",
    "        elif x == x.parent.right:\n",
    "            x.parent.right = y\n",
    "        else:\n",
    "            x.parent.left = y\n",
    "        y.right = x\n",
    "        x.parent = y\n",
    "\n",
    "    def insert(self, key):\n",
    "        node = Node(key)\n",
    "        node.left = node.right = self.NIL\n",
    "        y = None\n",
    "        x = self.root\n",
    "\n",
    "        while x != self.NIL:\n",
    "            y = x\n",
    "            if node.key < x.key:\n",
    "                x = x.left\n",
    "            else:\n",
    "                x = x.right\n",
    "\n",
    "        node.parent = y\n",
    "        if y == None:\n",
    "            self.root = node\n",
    "        elif node.key < y.key:\n",
    "            y.left = node\n",
    "        else:\n",
    "            y.right = node\n",
    "\n",
    "        node.color = \"red\"\n",
    "        self.fix_insert(node)\n",
    "\n",
    "    def fix_insert(self, k):\n",
    "        while k.parent and k.parent.color == \"red\":\n",
    "            if k.parent == k.parent.parent.left:\n",
    "                u = k.parent.parent.right\n",
    "                if u.color == \"red\":  # Case 1\n",
    "                    k.parent.color = \"black\"\n",
    "                    u.color = \"black\"\n",
    "                    k.parent.parent.color = \"red\"\n",
    "                    k = k.parent.parent\n",
    "                else:\n",
    "                    if k == k.parent.right:  # Case 2\n",
    "                        k = k.parent\n",
    "                        self.left_rotate(k)\n",
    "                    k.parent.color = \"black\"  # Case 3\n",
    "                    k.parent.parent.color = \"red\"\n",
    "                    self.right_rotate(k.parent.parent)\n",
    "            else:  # mirror cases\n",
    "                u = k.parent.parent.left\n",
    "                if u.color == \"red\":\n",
    "                    k.parent.color = \"black\"\n",
    "                    u.color = \"black\"\n",
    "                    k.parent.parent.color = \"red\"\n",
    "                    k = k.parent.parent\n",
    "                else:\n",
    "                    if k == k.parent.left:\n",
    "                        k = k.parent\n",
    "                        self.right_rotate(k)\n",
    "                    k.parent.color = \"black\"\n",
    "                    k.parent.parent.color = \"red\"\n",
    "                    self.left_rotate(k.parent.parent)\n",
    "        self.root.color = \"black\"\n",
    "\n",
    "    def search(self, key):\n",
    "        def _search(node, key):\n",
    "            if node == self.NIL or node.key == key:\n",
    "                return node\n",
    "            if key < node.key:\n",
    "                return _search(node.left, key)\n",
    "            else:\n",
    "                return _search(node.right, key)\n",
    "        result = _search(self.root, key)\n",
    "        return result != self.NIL\n",
    "\n",
    "# Deletion is more complex and can be added later if needed.\n"
   ]
  },
  {
   "cell_type": "markdown",
   "id": "d6a0376a-06d0-45f0-8c7e-c16ff2a673ef",
   "metadata": {},
   "source": [
    "### Test Cases "
   ]
  },
  {
   "cell_type": "code",
   "execution_count": 3,
   "id": "ae26483e-d6b2-4834-98f4-d7566355dc5d",
   "metadata": {},
   "outputs": [
    {
     "name": "stdout",
     "output_type": "stream",
     "text": [
      "Search 20: True\n",
      "Search 25: False\n",
      "Search 15: True\n"
     ]
    }
   ],
   "source": [
    "rbt = RedBlackTree()\n",
    "rbt.insert(10)\n",
    "rbt.insert(20)\n",
    "rbt.insert(30)\n",
    "rbt.insert(15)\n",
    "\n",
    "print(\"Search 20:\", rbt.search(20))  # True\n",
    "print(\"Search 25:\", rbt.search(25))  # False\n",
    "print(\"Search 15:\", rbt.search(15))  # True\n"
   ]
  },
  {
   "cell_type": "markdown",
   "id": "462318bf-672f-4468-9122-070cf70b5af5",
   "metadata": {},
   "source": [
    "## Complexity Analysis"
   ]
  },
  {
   "cell_type": "markdown",
   "id": "3ff61a2e-affa-44cc-b483-573f9dc9b166",
   "metadata": {},
   "source": [
    "| Operation | Time Complexity | Space Complexity |\n",
    "| --------- | --------------- | ---------------- |\n",
    "| Insert    | O(log n)        | O(n)             |\n",
    "| Search    | O(log n)        | O(n)             |\n",
    "| Delete    | O(log n)        | O(n)             |\n"
   ]
  },
  {
   "cell_type": "markdown",
   "id": "54ae9b22-a3fd-4d97-807c-9deb388d03b1",
   "metadata": {},
   "source": [
    "#### Thank You!!"
   ]
  }
 ],
 "metadata": {
  "kernelspec": {
   "display_name": "Python 3 (ipykernel)",
   "language": "python",
   "name": "python3"
  },
  "language_info": {
   "codemirror_mode": {
    "name": "ipython",
    "version": 3
   },
   "file_extension": ".py",
   "mimetype": "text/x-python",
   "name": "python",
   "nbconvert_exporter": "python",
   "pygments_lexer": "ipython3",
   "version": "3.12.3"
  }
 },
 "nbformat": 4,
 "nbformat_minor": 5
}
