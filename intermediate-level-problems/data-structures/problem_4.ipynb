{
 "cells": [
  {
   "cell_type": "markdown",
   "id": "8a36d3b1-1a8d-478e-8060-6477472e6bd4",
   "metadata": {},
   "source": [
    "# **Problem Statement**  \n",
    "## **4. Implement a doubly linked list.**"
   ]
  },
  {
   "cell_type": "markdown",
   "id": "97e8eaf4-c67c-4ef9-87dd-a1c242b88a5a",
   "metadata": {},
   "source": [
    "Implement a Doubly Linked List (DLL) data structure with the following operations:\n",
    "\n",
    "- append(x) → Insert at the end\n",
    "- prepend(x) → Insert at the beginning\n",
    "- delete(x) → Delete first occurrence of a value\n",
    "- find(x) → Search for a value\n",
    "- display_forward() → Display list left to right\n",
    "- display_backward() → Display list right to left"
   ]
  },
  {
   "cell_type": "markdown",
   "id": "12b96244-784f-44f1-b72a-e69e054e8b67",
   "metadata": {},
   "source": [
    "### Constraints & Example Inputs/Outputs\n",
    "\n",
    "- Must use Node objects with prev and next pointers.\n",
    "- No built-in list/array to directly store elements.\n",
    "  \n",
    "Example:\n",
    "\n",
    "dll = DoublyLinkedList()\n",
    "\n",
    "dll.append(10)\n",
    "\n",
    "dll.append(20)\n",
    "\n",
    "dll.prepend(5)\n",
    "\n",
    "dll.display_forward()   # 5 <-> 10 <-> 20\n",
    "\n",
    "dll.display_backward()  # 20 <-> 10 <-> 5\n",
    "\n",
    "dll.delete(10)\n",
    "\n",
    "dll.display_forward()   # 5 <-> 20\n"
   ]
  },
  {
   "cell_type": "markdown",
   "id": "b68e7cad-ea42-4bb3-a20e-a91cba6d7424",
   "metadata": {},
   "source": [
    "### Solution Approach"
   ]
  },
  {
   "cell_type": "markdown",
   "id": "144b599f-addb-4686-8425-1f6e6f862acd",
   "metadata": {},
   "source": [
    "Here are the 2 possible approaches:\n",
    "\n",
    "A Node has three parts:\n",
    "- data\n",
    "- prev (link to previous node)\n",
    "- next (link to next node)\n",
    "\n",
    "##### Brute Force Approach (Push Efficient):\n",
    "- Use a Python list to simulate doubly linked list operations (easy to implement, but doesn’t show pointer management).\n",
    "\n",
    "##### Optimized Approach (Pop Efficient):\n",
    "- Define a Node class.\n",
    "- Maintain head and tail references.\n",
    "- Update prev and next pointers carefully in insertions and deletions."
   ]
  },
  {
   "cell_type": "markdown",
   "id": "be931aed-e6ac-4398-a9cc-cd43c98ed91b",
   "metadata": {},
   "source": [
    "### Solution Code"
   ]
  },
  {
   "cell_type": "code",
   "execution_count": 1,
   "id": "57cab10a-c58c-459b-b504-16dc7ee1d0ac",
   "metadata": {},
   "outputs": [],
   "source": [
    "# Approach 1: Brute Force Approach\n",
    "# Brute Force using Python list (not real DLL, just for understanding)\n",
    "class DoublyLinkedListBruteForce:\n",
    "    def __init__(self):\n",
    "        self.data = []\n",
    "    \n",
    "    def append(self, value):\n",
    "        self.data.append(value)\n",
    "    \n",
    "    def prepend(self, value):\n",
    "        self.data.insert(0, value)\n",
    "    \n",
    "    def delete(self, value):\n",
    "        if value in self.data:\n",
    "            self.data.remove(value)\n",
    "    \n",
    "    def display_forward(self):\n",
    "        return \" <-> \".join(map(str, self.data))\n",
    "    \n",
    "    def display_backward(self):\n",
    "        return \" <-> \".join(map(str, self.data[::-1]))"
   ]
  },
  {
   "cell_type": "code",
   "execution_count": 2,
   "id": "4065908c-92d9-4298-b100-7c0893750ab9",
   "metadata": {},
   "outputs": [
    {
     "data": {
      "text/plain": [
       "'5 <-> 20'"
      ]
     },
     "execution_count": 2,
     "metadata": {},
     "output_type": "execute_result"
    }
   ],
   "source": [
    "#Example Stuff\n",
    "dll = DoublyLinkedListBruteForce()\n",
    "dll.append(10)\n",
    "dll.append(20)\n",
    "dll.prepend(5)\n",
    "dll.display_forward() # 5 <-> 10 <-> 20\n",
    "dll.display_backward() # 20 <-> 10 <-> 5\n",
    "dll.delete(10)\n",
    "dll.display_forward() # 5 <-> 20"
   ]
  },
  {
   "cell_type": "markdown",
   "id": "9febed86-bc77-49f3-aa50-7adfe033688a",
   "metadata": {},
   "source": [
    "### Alternative Solution"
   ]
  },
  {
   "cell_type": "code",
   "execution_count": 3,
   "id": "3d0f40fa-e3cf-49eb-b872-7290e4cc7f70",
   "metadata": {},
   "outputs": [],
   "source": [
    "# Approach 2: Opptimized Approach (True DLL Implementation)\n",
    "class Node:\n",
    "    def __init__(self, data):\n",
    "        self.data = data\n",
    "        self.prev = None\n",
    "        self.next = None\n",
    "\n",
    "class DoublyLinkedList:\n",
    "    def __init__(self):\n",
    "        self.head = None\n",
    "        self.tail = None\n",
    "    \n",
    "    def append(self, data):\n",
    "        new_node = Node(data)\n",
    "        if not self.head:  # empty list\n",
    "            self.head = self.tail = new_node\n",
    "        else:\n",
    "            self.tail.next = new_node\n",
    "            new_node.prev = self.tail\n",
    "            self.tail = new_node\n",
    "    \n",
    "    def prepend(self, data):\n",
    "        new_node = Node(data)\n",
    "        if not self.head:  # empty list\n",
    "            self.head = self.tail = new_node\n",
    "        else:\n",
    "            new_node.next = self.head\n",
    "            self.head.prev = new_node\n",
    "            self.head = new_node\n",
    "    \n",
    "    def delete(self, data):\n",
    "        current = self.head\n",
    "        while current:\n",
    "            if current.data == data:\n",
    "                if current.prev:\n",
    "                    current.prev.next = current.next\n",
    "                else:  # deleting head\n",
    "                    self.head = current.next\n",
    "                \n",
    "                if current.next:\n",
    "                    current.next.prev = current.prev\n",
    "                else:  # deleting tail\n",
    "                    self.tail = current.prev\n",
    "                return True\n",
    "            current = current.next\n",
    "        return False  # not found\n",
    "    \n",
    "    def display_forward(self):\n",
    "        result = []\n",
    "        current = self.head\n",
    "        while current:\n",
    "            result.append(str(current.data))\n",
    "            current = current.next\n",
    "        return \" <-> \".join(result)\n",
    "    \n",
    "    def display_backward(self):\n",
    "        result = []\n",
    "        current = self.tail\n",
    "        while current:\n",
    "            result.append(str(current.data))\n",
    "            current = current.prev\n",
    "        return \" <-> \".join(result)\n"
   ]
  },
  {
   "cell_type": "code",
   "execution_count": 5,
   "id": "4e9e6c99-592a-424c-a87a-3c6a09ab443c",
   "metadata": {},
   "outputs": [
    {
     "data": {
      "text/plain": [
       "'20 <-> 10 <-> 5'"
      ]
     },
     "execution_count": 5,
     "metadata": {},
     "output_type": "execute_result"
    }
   ],
   "source": [
    "#Example Stuff\n",
    "dll = DoublyLinkedList()\n",
    "dll.append(10)\n",
    "dll.append(20)\n",
    "dll.prepend(5)\n",
    "dll.display_forward() # 5 <-> 10 <-> 20\n",
    "dll.display_backward() # 20 <-> 10 <-> 5\n",
    "# dll.delete(10)\n",
    "# dll.display_forward() # 5 <-> 20"
   ]
  },
  {
   "cell_type": "markdown",
   "id": "462318bf-672f-4468-9122-070cf70b5af5",
   "metadata": {},
   "source": [
    "## Complexity Analysis"
   ]
  },
  {
   "cell_type": "markdown",
   "id": "3ff61a2e-affa-44cc-b483-573f9dc9b166",
   "metadata": {},
   "source": [
    "##### Brute Force Approach (Python List):\n",
    "- Append: O(1)\n",
    "- Prepend: O(n)\n",
    "- Delete: O(n)\n",
    "- Space: O(n)\n",
    "\n",
    "##### Optimized Approach (Pop Efficient):\n",
    "- Append: O(1)\n",
    "- Prepend: O(1)\n",
    "- Delete: O(n) (search required)\n",
    "- Display forward/backward: O(n)\n",
    "- Space: O(n) (for node storage)"
   ]
  },
  {
   "cell_type": "markdown",
   "id": "54ae9b22-a3fd-4d97-807c-9deb388d03b1",
   "metadata": {},
   "source": [
    "#### Thank You!!"
   ]
  }
 ],
 "metadata": {
  "kernelspec": {
   "display_name": "Python 3 (ipykernel)",
   "language": "python",
   "name": "python3"
  },
  "language_info": {
   "codemirror_mode": {
    "name": "ipython",
    "version": 3
   },
   "file_extension": ".py",
   "mimetype": "text/x-python",
   "name": "python",
   "nbconvert_exporter": "python",
   "pygments_lexer": "ipython3",
   "version": "3.8.10"
  }
 },
 "nbformat": 4,
 "nbformat_minor": 5
}
