{
 "cells": [
  {
   "cell_type": "markdown",
   "id": "8a36d3b1-1a8d-478e-8060-6477472e6bd4",
   "metadata": {},
   "source": [
    "# **Problem Statement**  \n",
    "## **24. Implement a queue that supports retrieving the minimum element in constant time.**"
   ]
  },
  {
   "cell_type": "markdown",
   "id": "97e8eaf4-c67c-4ef9-87dd-a1c242b88a5a",
   "metadata": {},
   "source": [
    "Implement a queue data structure that supports the following operations:\n",
    "\n",
    "- enqueue(x) — Add element x to the queue.\n",
    "- dequeue() — Remove the front element of the queue.\n",
    "- front() — Get the front element.\n",
    "- getMin() — Retrieve the minimum element in the queue.\n",
    "\n",
    "All operations must run in O(1) time complexity for getMin().\n",
    "Other operations should be as efficient as possible."
   ]
  },
  {
   "cell_type": "markdown",
   "id": "12b96244-784f-44f1-b72a-e69e054e8b67",
   "metadata": {},
   "source": [
    "### Constraints & Example Inputs/Outputs\n",
    "\n",
    "- Elements are integers.\n",
    "- The queue must allow getMin() in O(1) time.\n",
    "- Queue size can be large, so efficiency is important.\n",
    "\n",
    "### Example:\n",
    "```python\n",
    "enqueue(5)\n",
    "enqueue(3)\n",
    "enqueue(7)\n",
    "getMin()    # returns 3\n",
    "dequeue()   # removes 5\n",
    "getMin()    # returns 3\n",
    "enqueue(2)\n",
    "getMin()    # returns 2\n",
    "dequeue()   # removes 3\n",
    "getMin()    # returns 2"
   ]
  },
  {
   "cell_type": "markdown",
   "id": "b68e7cad-ea42-4bb3-a20e-a91cba6d7424",
   "metadata": {},
   "source": [
    "### Solution Approach"
   ]
  },
  {
   "cell_type": "markdown",
   "id": "144b599f-addb-4686-8425-1f6e6f862acd",
   "metadata": {},
   "source": [
    "Here are the 2 best possible approaches:\n",
    "\n",
    "##### Brute Force Approach:\n",
    "- Use a normal queue (list or deque).\n",
    "- For getMin(), traverse the queue → O(n) time.\n",
    "- Drawback: slow getMin().\n",
    "\n",
    "##### Optimized Approach:\n",
    "- Use two queues:\n",
    "    - Main queue — stores all elements.\n",
    "    - Min queue — stores potential minimums in increasing order.\n",
    "\n",
    "- Enqueue:\n",
    "    - Add element to main queue.\n",
    "    - Remove elements from min queue’s end that are greater than the new element → keep min queue ordered.\n",
    "    - Append new element to min queue.\n",
    "\n",
    "- Dequeue:\n",
    "    - Remove element from main queue.\n",
    "    - If removed element equals front of min queue → dequeue from min queue.\n",
    "\n",
    "This ensures getMin() is O(1)."
   ]
  },
  {
   "cell_type": "markdown",
   "id": "be931aed-e6ac-4398-a9cc-cd43c98ed91b",
   "metadata": {},
   "source": [
    "### Solution Code"
   ]
  },
  {
   "cell_type": "code",
   "execution_count": 7,
   "id": "57cab10a-c58c-459b-b504-16dc7ee1d0ac",
   "metadata": {},
   "outputs": [],
   "source": [
    "# Approach1: Brute Force Approach\n",
    "from collections import deque\n",
    "\n",
    "class MinQueueBrute:\n",
    "    def __init__(self):\n",
    "        self.queue = deque()\n",
    "\n",
    "    def enqueue(self, x: int):\n",
    "        self.queue.append(x)\n",
    "\n",
    "    def dequeue(self):\n",
    "        if self.queue:\n",
    "            return self.queue.popleft()\n",
    "        return None\n",
    "\n",
    "    def front(self):\n",
    "        if self.queue:\n",
    "            return self.queue[0]\n",
    "        return None\n",
    "\n",
    "    def getMin(self):\n",
    "        if not self.queue:\n",
    "            return None\n",
    "        return min(self.queue)  # O(n)\n"
   ]
  },
  {
   "cell_type": "markdown",
   "id": "9febed86-bc77-49f3-aa50-7adfe033688a",
   "metadata": {},
   "source": [
    "### Alternative Solution"
   ]
  },
  {
   "cell_type": "code",
   "execution_count": 8,
   "id": "3d0f40fa-e3cf-49eb-b872-7290e4cc7f70",
   "metadata": {},
   "outputs": [],
   "source": [
    "# Approach2: Optimized Approach\n",
    "from collections import deque\n",
    "\n",
    "class MinQueueOptimized:\n",
    "    def __init__(self):\n",
    "        self.queue = deque()\n",
    "        self.min_queue = deque()\n",
    "\n",
    "    def enqueue(self, x: int):\n",
    "        self.queue.append(x)\n",
    "        while self.min_queue and self.min_queue[-1] > x:\n",
    "            self.min_queue.pop()\n",
    "        self.min_queue.append(x)\n",
    "\n",
    "    def dequeue(self):\n",
    "        if not self.queue:\n",
    "            return None\n",
    "        val = self.queue.popleft()\n",
    "        if self.min_queue and val == self.min_queue[0]:\n",
    "            self.min_queue.popleft()\n",
    "        return val\n",
    "\n",
    "    def front(self):\n",
    "        if self.queue:\n",
    "            return self.queue[0]\n",
    "        return None\n",
    "\n",
    "    def getMin(self):\n",
    "        if not self.min_queue:\n",
    "            return None\n",
    "        return self.min_queue[0]\n"
   ]
  },
  {
   "cell_type": "markdown",
   "id": "2459abe6-92bc-4283-ad4b-aff83def7ae0",
   "metadata": {},
   "source": [
    "### Alternative Approaches"
   ]
  },
  {
   "cell_type": "markdown",
   "id": "9968c8eb-bc72-4b47-92ab-977b2e022a1e",
   "metadata": {},
   "source": [
    "- Brute Force → simpler but slow getMin().\n",
    "- Two-queue technique → optimized for constant-time getMin().\n",
    "- Segment Tree / Balanced BST → possible but too complex for this specific problem."
   ]
  },
  {
   "cell_type": "markdown",
   "id": "d6a0376a-06d0-45f0-8c7e-c16ff2a673ef",
   "metadata": {},
   "source": [
    "### Test Cases "
   ]
  },
  {
   "cell_type": "code",
   "execution_count": 10,
   "id": "ae26483e-d6b2-4834-98f4-d7566355dc5d",
   "metadata": {},
   "outputs": [
    {
     "name": "stdout",
     "output_type": "stream",
     "text": [
      "Testing Brute Force Min Queue\n",
      "All test cases passed!\n",
      "\n",
      "Testing Optimized Min Queue\n",
      "All test cases passed!\n"
     ]
    }
   ],
   "source": [
    "def test_min_queue(queue_class):\n",
    "    mq = queue_class()\n",
    "    mq.enqueue(5)\n",
    "    assert mq.getMin() == 5\n",
    "    mq.enqueue(3)\n",
    "    assert mq.getMin() == 3\n",
    "    mq.enqueue(7)\n",
    "    assert mq.getMin() == 3\n",
    "    mq.dequeue()\n",
    "    assert mq.getMin() == 3\n",
    "    mq.enqueue(2)\n",
    "    assert mq.getMin() == 2\n",
    "    mq.dequeue()\n",
    "    assert mq.getMin() == 2\n",
    "    mq.dequeue()\n",
    "    assert mq.getMin() == 2\n",
    "    mq.dequeue()\n",
    "    assert mq.getMin() == None\n",
    "    print(\"All test cases passed!\")\n",
    "\n",
    "print(\"Testing Brute Force Min Queue\")\n",
    "test_min_queue(MinQueueBrute)\n",
    "\n",
    "print(\"\\nTesting Optimized Min Queue\")\n",
    "test_min_queue(MinQueueOptimized)"
   ]
  },
  {
   "cell_type": "markdown",
   "id": "462318bf-672f-4468-9122-070cf70b5af5",
   "metadata": {},
   "source": [
    "## Complexity Analysis"
   ]
  },
  {
   "cell_type": "markdown",
   "id": "3ff61a2e-affa-44cc-b483-573f9dc9b166",
   "metadata": {},
   "source": [
    "#### Time Complexity - \n",
    "\n",
    "| Approach    | enqueue | dequeue | front | getMin |\n",
    "| ----------- | ------- | ------- | ----- | ------ |\n",
    "| Brute Force | O(1)    | O(1)    | O(1)  | O(n)   |\n",
    "| Optimized   | O(1)*   | O(1)    | O(1)  | O(1)   |\n",
    "\n",
    "* Amortized O(1) because some enqueue operations may remove elements from min_queue.\n",
    "\n",
    "#### Space Complexity - \n",
    "- Brute Force → O(n)\n",
    "- Optimized → O(n) (two queues)"
   ]
  },
  {
   "cell_type": "markdown",
   "id": "54ae9b22-a3fd-4d97-807c-9deb388d03b1",
   "metadata": {},
   "source": [
    "#### Thank You!!"
   ]
  }
 ],
 "metadata": {
  "kernelspec": {
   "display_name": "Python 3 (ipykernel)",
   "language": "python",
   "name": "python3"
  },
  "language_info": {
   "codemirror_mode": {
    "name": "ipython",
    "version": 3
   },
   "file_extension": ".py",
   "mimetype": "text/x-python",
   "name": "python",
   "nbconvert_exporter": "python",
   "pygments_lexer": "ipython3",
   "version": "3.12.3"
  }
 },
 "nbformat": 4,
 "nbformat_minor": 5
}
