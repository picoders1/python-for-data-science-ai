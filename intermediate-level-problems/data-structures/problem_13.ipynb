{
 "cells": [
  {
   "cell_type": "markdown",
   "id": "8a36d3b1-1a8d-478e-8060-6477472e6bd4",
   "metadata": {},
   "source": [
    "# **Problem Statement**  \n",
    "## **13. Implement a Trie with insert and search functionalities**"
   ]
  },
  {
   "cell_type": "markdown",
   "id": "97e8eaf4-c67c-4ef9-87dd-a1c242b88a5a",
   "metadata": {},
   "source": [
    "Implement a Trie (Prefix Tree) with the following functionalities:\n",
    "\n",
    "- Insert(word): Add a word into the trie.\n",
    "- Search(word): Check if a word exists in the trie."
   ]
  },
  {
   "cell_type": "markdown",
   "id": "12b96244-784f-44f1-b72a-e69e054e8b67",
   "metadata": {},
   "source": [
    "### Constraints & Example Inputs/Outputs\n",
    "\n",
    "- Input: Multiple insert and search queries.\n",
    "- Words consist of lowercase English letters only (a-z).\n",
    "- Search should return True if the word exists, else False.\n",
    "\n",
    "### Example:\n",
    "\n",
    "Insert: [\"apple\", \"app\"]  \n",
    "Search(\"apple\") → True  \n",
    "Search(\"app\")   → True  \n",
    "Search(\"appl\")  → False  \n"
   ]
  },
  {
   "cell_type": "markdown",
   "id": "b68e7cad-ea42-4bb3-a20e-a91cba6d7424",
   "metadata": {},
   "source": [
    "### Solution Approach"
   ]
  },
  {
   "cell_type": "markdown",
   "id": "144b599f-addb-4686-8425-1f6e6f862acd",
   "metadata": {},
   "source": [
    "Here are the 2 possible approaches:\n",
    "\n",
    "##### Naive Approach (Brute Force):\n",
    "\n",
    "- Use a list or set to store words.\n",
    "- For search, just check membership in the set.\n",
    "- Simple but inefficient for prefix-based queries.\n",
    "- Time: O(N) per insert/search.\n",
    "##### Optimized Approach (Trie):\n",
    "\n",
    "- Trie is a tree-like data structure.\n",
    "- Each node represents a character.\n",
    "- Path from root → leaf represents a word.\n",
    "- Insert and search both take O(L) where L = length of word."
   ]
  },
  {
   "cell_type": "markdown",
   "id": "be931aed-e6ac-4398-a9cc-cd43c98ed91b",
   "metadata": {},
   "source": [
    "### Solution Code"
   ]
  },
  {
   "cell_type": "code",
   "execution_count": 4,
   "id": "57cab10a-c58c-459b-b504-16dc7ee1d0ac",
   "metadata": {},
   "outputs": [],
   "source": [
    "# Brute Force Approach using Set\n",
    "class BruteForceDictionary:\n",
    "    def __init__(self):\n",
    "        self.words = set()\n",
    "    \n",
    "    def insert(self, word):\n",
    "        self.words.add(word)\n",
    "    \n",
    "    def search(self, word):\n",
    "        return word in self.words"
   ]
  },
  {
   "cell_type": "code",
   "execution_count": 5,
   "id": "0a7606b7-4d2a-4eb5-9f1d-1d92ddf4d1ed",
   "metadata": {},
   "outputs": [],
   "source": [
    "# Trie Node\n",
    "class TrieNode:\n",
    "    def __init__(self):\n",
    "        self.children = {}\n",
    "        self.is_end = False\n",
    "\n",
    "# Optimized Trie Implementation\n",
    "class Trie:\n",
    "    def __init__(self):\n",
    "        self.root = TrieNode()\n",
    "    \n",
    "    def insert(self, word: str):\n",
    "        node = self.root\n",
    "        for ch in word:\n",
    "            if ch not in node.children:\n",
    "                node.children[ch] = TrieNode()\n",
    "            node = node.children[ch]\n",
    "        node.is_end = True\n",
    "    \n",
    "    def search(self, word: str) -> bool:\n",
    "        node = self.root\n",
    "        for ch in word:\n",
    "            if ch not in node.children:\n",
    "                return False\n",
    "            node = node.children[ch]\n",
    "        return node.is_end"
   ]
  },
  {
   "cell_type": "markdown",
   "id": "9febed86-bc77-49f3-aa50-7adfe033688a",
   "metadata": {},
   "source": [
    "### Alternative Solution"
   ]
  },
  {
   "cell_type": "markdown",
   "id": "2459abe6-92bc-4283-ad4b-aff83def7ae0",
   "metadata": {},
   "source": [
    "### Alternative Approaches"
   ]
  },
  {
   "cell_type": "markdown",
   "id": "03c9b5a2-9a1c-40a4-8fa2-a38d0a51cd05",
   "metadata": {},
   "source": [
    "- Set-based (Brute Force): Simple but not efficient for prefix queries.\n",
    "- Trie (Optimal): Efficient for word search and prefix matching.\n",
    "- Ternary Search Tree: Another alternative with balanced space vs performance."
   ]
  },
  {
   "cell_type": "markdown",
   "id": "9968c8eb-bc72-4b47-92ab-977b2e022a1e",
   "metadata": {},
   "source": [
    "- Brute Force (Recursive) → simple but inefficient for skewed trees.\n",
    "- BFS using Queue → optimal approach.\n",
    "- DFS with level tracking → pass current depth to recursive DFS, push into result[level]."
   ]
  },
  {
   "cell_type": "markdown",
   "id": "d6a0376a-06d0-45f0-8c7e-c16ff2a673ef",
   "metadata": {},
   "source": [
    "### Test Cases "
   ]
  },
  {
   "cell_type": "code",
   "execution_count": 6,
   "id": "ae26483e-d6b2-4834-98f4-d7566355dc5d",
   "metadata": {},
   "outputs": [
    {
     "name": "stdout",
     "output_type": "stream",
     "text": [
      "Brute Force:\n",
      "True\n",
      "True\n",
      "False\n",
      "\n",
      "Trie:\n",
      "True\n",
      "True\n",
      "False\n",
      "False\n"
     ]
    }
   ],
   "source": [
    "# Brute Force Testing (Brute Force Method)\n",
    "bf = BruteForceDictionary()\n",
    "bf.insert(\"apple\")\n",
    "bf.insert(\"app\")\n",
    "print(\"Brute Force:\")\n",
    "print(bf.search(\"apple\"))  # True\n",
    "print(bf.search(\"app\"))    # True\n",
    "print(bf.search(\"appl\"))   # False\n",
    "\n",
    "# Trie Testing (Optimized Method)\n",
    "trie = Trie()\n",
    "trie.insert(\"apple\")\n",
    "trie.insert(\"app\")\n",
    "print(\"\\nTrie:\")\n",
    "print(trie.search(\"apple\"))  # True\n",
    "print(trie.search(\"app\"))    # True\n",
    "print(trie.search(\"appl\"))   # False\n",
    "print(trie.search(\"banana\")) # False\n"
   ]
  },
  {
   "cell_type": "markdown",
   "id": "462318bf-672f-4468-9122-070cf70b5af5",
   "metadata": {},
   "source": [
    "## Complexity Analysis"
   ]
  },
  {
   "cell_type": "markdown",
   "id": "3ff61a2e-affa-44cc-b483-573f9dc9b166",
   "metadata": {},
   "source": [
    "##### Brute Force(Set):\n",
    "\n",
    "- Insert: O(1) (hash set)\n",
    "- Search: O(1) average\n",
    "- Space: O(N * L) (store full words)\n",
    "\n",
    "#### Trie (Optimized):\n",
    "\n",
    "- Insert: O(L)\n",
    "- Search: O(L)\n",
    "- Space: O(N * L) worst-case (all unique prefixes stored separately)"
   ]
  },
  {
   "cell_type": "markdown",
   "id": "54ae9b22-a3fd-4d97-807c-9deb388d03b1",
   "metadata": {},
   "source": [
    "#### Thank You!!"
   ]
  }
 ],
 "metadata": {
  "kernelspec": {
   "display_name": "Python 3 (ipykernel)",
   "language": "python",
   "name": "python3"
  },
  "language_info": {
   "codemirror_mode": {
    "name": "ipython",
    "version": 3
   },
   "file_extension": ".py",
   "mimetype": "text/x-python",
   "name": "python",
   "nbconvert_exporter": "python",
   "pygments_lexer": "ipython3",
   "version": "3.12.3"
  }
 },
 "nbformat": 4,
 "nbformat_minor": 5
}
