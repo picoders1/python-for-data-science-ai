{
 "cells": [
  {
   "cell_type": "markdown",
   "id": "8a36d3b1-1a8d-478e-8060-6477472e6bd4",
   "metadata": {},
   "source": [
    "# **Problem Statement**  \n",
    "## **6. Find the intersection point of two linked lists”**"
   ]
  },
  {
   "cell_type": "markdown",
   "id": "97e8eaf4-c67c-4ef9-87dd-a1c242b88a5a",
   "metadata": {},
   "source": [
    "Given the heads of two singly linked lists, return the node at which the two linked lists intersect. If the two linked lists have no intersection, return None."
   ]
  },
  {
   "cell_type": "markdown",
   "id": "12b96244-784f-44f1-b72a-e69e054e8b67",
   "metadata": {},
   "source": [
    "### Constraints & Example Inputs/Outputs\n",
    "\n",
    "- Input: Two linked lists.\n",
    "- Output: The intersection node (or None).\n",
    "- Lists must retain their structure after the function executes.\n",
    "- Time: Prefer O(n) solution, Space: O(1).\n",
    "\n",
    "\n",
    "##### Example 1: With Intersection\n",
    "List A: 4 -> 1 -> 8 -> 4 -> 5\n",
    "\n",
    "List B:      5 -> 6 -> 1 ↘\n",
    "                     8 -> 4 -> 5\n",
    "                     \n",
    "Output: Node with value 8\n",
    "\n",
    "\n",
    "##### Example 2: No Intersection\n",
    "List A: 2 -> 6 -> 4\n",
    "\n",
    "List B: 1 -> 5\n",
    "\n",
    "Output: None\n"
   ]
  },
  {
   "cell_type": "markdown",
   "id": "b68e7cad-ea42-4bb3-a20e-a91cba6d7424",
   "metadata": {},
   "source": [
    "### Solution Approach"
   ]
  },
  {
   "cell_type": "markdown",
   "id": "144b599f-addb-4686-8425-1f6e6f862acd",
   "metadata": {},
   "source": [
    "Here are the 2 best possible approaches:\n",
    "##### 1. Brute Force Approach:\n",
    "- Compare each node of list A with every node of list B.\n",
    "- If they are same (by reference, not value) → intersection found.\n",
    "- Time: O(m × n), Space: O(1).\n",
    "\n",
    "##### 2. Better Approach (Hashing):\n",
    "- Store all nodes of list A in a set.\n",
    "- Traverse list B; first node found in set is the intersection.\n",
    "- Time: O(m + n), Space: O(m).\n",
    "\n",
    "##### 3. Optimized Approach (Two Pointer Method):\n",
    "- Use two pointers (p1 and p2) starting from headA and headB.\n",
    "- Move each one step at a time; when one reaches end, redirect it to the other list’s head.\n",
    "- They will either meet at the intersection or at None.\n",
    "- Time: O(m + n), Space: O(1)."
   ]
  },
  {
   "cell_type": "markdown",
   "id": "be931aed-e6ac-4398-a9cc-cd43c98ed91b",
   "metadata": {},
   "source": [
    "### Solution Code"
   ]
  },
  {
   "cell_type": "code",
   "execution_count": 1,
   "id": "57cab10a-c58c-459b-b504-16dc7ee1d0ac",
   "metadata": {},
   "outputs": [],
   "source": [
    "# Approach1: Brute Force Approach\n",
    "class Node:\n",
    "    def __init__(self, data):\n",
    "        self.data = data\n",
    "        self.next = None\n",
    "\n",
    "def get_intersection_bruteforce(headA, headB):\n",
    "    currA = headA\n",
    "    while currA:\n",
    "        currB = headB\n",
    "        while currB:\n",
    "            if currA is currB:  # comparing references\n",
    "                return currA\n",
    "            currB = currB.next\n",
    "        currA = currA.next\n",
    "    return None"
   ]
  },
  {
   "cell_type": "markdown",
   "id": "9febed86-bc77-49f3-aa50-7adfe033688a",
   "metadata": {},
   "source": [
    "### Alternative Solution"
   ]
  },
  {
   "cell_type": "code",
   "execution_count": 2,
   "id": "3d0f40fa-e3cf-49eb-b872-7290e4cc7f70",
   "metadata": {},
   "outputs": [],
   "source": [
    "# Approach2: Optimized Approach (Two Pointer Method)\n",
    "def get_intersection_optimized(headA, headB):\n",
    "    if not headA or not headB:\n",
    "        return None\n",
    "    \n",
    "    p1, p2 = headA, headB\n",
    "    while p1 is not p2:\n",
    "        p1 = p1.next if p1 else headB\n",
    "        p2 = p2.next if p2 else headA\n",
    "    return p1   # can be intersection node or None\n",
    "    "
   ]
  },
  {
   "cell_type": "markdown",
   "id": "b5e831c7-5856-4691-96cd-387b085557d2",
   "metadata": {},
   "source": [
    "### Alternative Approaches\n",
    "- -> Brute Force (O(m×n), no extra space).\n",
    "- -> Hashing (O(m+n), extra memory).\n",
    "- -> Two-pointer method (O(m+n), no extra space, best approach)."
   ]
  },
  {
   "cell_type": "markdown",
   "id": "cef0f803-2743-42a2-8e64-29440677544e",
   "metadata": {},
   "source": [
    "### Test Cases"
   ]
  },
  {
   "cell_type": "code",
   "execution_count": 4,
   "id": "2c77b2ca-06ae-43fc-87e0-e5ce33064e7b",
   "metadata": {},
   "outputs": [],
   "source": [
    "class LinkedList:\n",
    "    def __init__(self):\n",
    "        self.head = None\n",
    "\n",
    "    def append(self, data):\n",
    "        new_node = Node(data)\n",
    "        if not self.head:\n",
    "            self.head = new_node\n",
    "            return new_node\n",
    "        temp = self.head\n",
    "        while temp.next:\n",
    "            temp = temp.next\n",
    "        temp.next = new_node\n",
    "        return new_node\n",
    "\n",
    "    def print_list(self):\n",
    "        temp = self.head\n",
    "        result = []\n",
    "        while temp:\n",
    "            result.append(str(temp.data))\n",
    "            temp = temp.next\n",
    "        print(\" -> \".join(result))"
   ]
  },
  {
   "cell_type": "markdown",
   "id": "83ce3b39-e0bb-4120-b544-468e42bffffe",
   "metadata": {},
   "source": [
    "##### Example1: With Intersection"
   ]
  },
  {
   "cell_type": "code",
   "execution_count": 5,
   "id": "cc5f59a5-ad62-4191-b83b-0b7810622942",
   "metadata": {},
   "outputs": [
    {
     "name": "stdout",
     "output_type": "stream",
     "text": [
      "List A:\n",
      "4 -> 1 -> 8 -> 4 -> 5\n",
      "List B:\n",
      "5 -> 6 -> 1 -> 8 -> 4 -> 5\n",
      "Brute Force Intersection: 8\n",
      "Optimized Intersection: 8\n"
     ]
    }
   ],
   "source": [
    "# Create two linked lists\n",
    "listA, listB = LinkedList(), LinkedList()\n",
    "\n",
    "# List A: 4 -> 1\n",
    "a1 = listA.append(4)\n",
    "a2 = listA.append(1)\n",
    "\n",
    "# List B: 5 -> 6 -> 1\n",
    "b1 = listB.append(5)\n",
    "b2 = listB.append(6)\n",
    "b3 = listB.append(1)\n",
    "\n",
    "# Common part: 8 -> 4 -> 5\n",
    "common = LinkedList()\n",
    "c1 = common.append(8)\n",
    "c2 = common.append(4)\n",
    "c3 = common.append(5)\n",
    "\n",
    "# Attach common to both lists\n",
    "a2.next = c1\n",
    "b3.next = c1\n",
    "\n",
    "# Print\n",
    "print(\"List A:\")\n",
    "listA.print_list()\n",
    "print(\"List B:\")\n",
    "listB.print_list()\n",
    "\n",
    "# Test brute force\n",
    "res1 = get_intersection_bruteforce(listA.head, listB.head)\n",
    "print(\"Brute Force Intersection:\", res1.data if res1 else None)\n",
    "\n",
    "# Test optimized\n",
    "res2 = get_intersection_optimized(listA.head, listB.head)\n",
    "print(\"Optimized Intersection:\", res2.data if res2 else None)\n"
   ]
  },
  {
   "cell_type": "markdown",
   "id": "d9a17c60-8551-4af8-8c09-bd94057439e8",
   "metadata": {},
   "source": [
    "##### Example2: No Intersection "
   ]
  },
  {
   "cell_type": "code",
   "execution_count": 7,
   "id": "1f51274d-0c0c-44e3-94a6-609b76a4a1be",
   "metadata": {},
   "outputs": [
    {
     "name": "stdout",
     "output_type": "stream",
     "text": [
      "\n",
      "List A2:\n",
      "2 -> 6 -> 4\n",
      "List B2:\n",
      "1 -> 5\n",
      "Brute Force Intersection: None\n",
      "Optimized Intersection: None\n"
     ]
    }
   ],
   "source": [
    "# List A: 2 -> 6 -> 4\n",
    "listA2 = LinkedList()\n",
    "for val in [2,6,4]:\n",
    "    listA2.append(val)\n",
    "\n",
    "# List B: 1 -> 5\n",
    "listB2 = LinkedList()\n",
    "for val in [1,5]:\n",
    "    listB2.append(val)\n",
    "\n",
    "print(\"\\nList A2:\")\n",
    "listA2.print_list()\n",
    "print(\"List B2:\")\n",
    "listB2.print_list()\n",
    "\n",
    "# Test brute force\n",
    "res3 = get_intersection_bruteforce(listA2.head, listB2.head)\n",
    "print(\"Brute Force Intersection:\", res3.data if res3 else None)\n",
    "\n",
    "# Test optimized\n",
    "res4 = get_intersection_optimized(listA2.head, listB2.head)\n",
    "print(\"Optimized Intersection:\", res4.data if res4 else None)\n"
   ]
  },
  {
   "cell_type": "markdown",
   "id": "462318bf-672f-4468-9122-070cf70b5af5",
   "metadata": {},
   "source": [
    "## Complexity Analysis"
   ]
  },
  {
   "cell_type": "markdown",
   "id": "3ff61a2e-affa-44cc-b483-573f9dc9b166",
   "metadata": {},
   "source": [
    "- Brute Force: Time O(m×n), Space O(1).\n",
    "- Hashing: Time O(m+n), Space O(m).\n",
    "- Optimized Two-Pointer: Time O(m+n), Space O(1)."
   ]
  },
  {
   "cell_type": "markdown",
   "id": "54ae9b22-a3fd-4d97-807c-9deb388d03b1",
   "metadata": {},
   "source": [
    "#### Thank You!!"
   ]
  }
 ],
 "metadata": {
  "kernelspec": {
   "display_name": "Python 3 (ipykernel)",
   "language": "python",
   "name": "python3"
  },
  "language_info": {
   "codemirror_mode": {
    "name": "ipython",
    "version": 3
   },
   "file_extension": ".py",
   "mimetype": "text/x-python",
   "name": "python",
   "nbconvert_exporter": "python",
   "pygments_lexer": "ipython3",
   "version": "3.8.10"
  }
 },
 "nbformat": 4,
 "nbformat_minor": 5
}
