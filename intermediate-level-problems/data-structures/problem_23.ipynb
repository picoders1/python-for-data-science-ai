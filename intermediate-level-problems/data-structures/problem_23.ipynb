{
 "cells": [
  {
   "cell_type": "markdown",
   "id": "8a36d3b1-1a8d-478e-8060-6477472e6bd4",
   "metadata": {},
   "source": [
    "# **Problem Statement**  \n",
    "## **23. Implement a max stack that supports push, pop, top, and retrieving the maximum element in constant time.**"
   ]
  },
  {
   "cell_type": "markdown",
   "id": "97e8eaf4-c67c-4ef9-87dd-a1c242b88a5a",
   "metadata": {},
   "source": [
    "Implement a stack data structure that supports the following operations in constant time:\n",
    "- push(x) — Push element x onto stack.\n",
    "- pop() — Removes the element on top of the stack.\n",
    "- top() — Get the top element.\n",
    "- getMax() — Retrieve the maximum element in the stack.\n",
    "\n",
    "All operations should run in O(1) time complexity."
   ]
  },
  {
   "cell_type": "markdown",
   "id": "12b96244-784f-44f1-b72a-e69e054e8b67",
   "metadata": {},
   "source": [
    "### Constraints & Example Inputs/Outputs\n",
    "\n",
    "- Stack will contain integers.\n",
    "- push, pop, top, getMax must run in O(1) time.\n",
    "- All operations are valid unless explicitly stated. \n",
    "\n",
    "#### Example \n",
    "```python \n",
    "Input:\n",
    "push(5)\n",
    "push(1)\n",
    "push(5)\n",
    "getMax()  # returns 5\n",
    "pop()     # removes top element (5)\n",
    "top()     # returns 1\n",
    "getMax()  # returns 5\n",
    "pop()\n",
    "getMax()  # returns 5\n",
    "\n",
    "Output:\n",
    "5\n",
    "1\n",
    "5\n",
    "5\n"
   ]
  },
  {
   "cell_type": "markdown",
   "id": "b68e7cad-ea42-4bb3-a20e-a91cba6d7424",
   "metadata": {},
   "source": [
    "### Solution Approach"
   ]
  },
  {
   "cell_type": "markdown",
   "id": "144b599f-addb-4686-8425-1f6e6f862acd",
   "metadata": {},
   "source": [
    "Here are the 2 best possible approaches:\n",
    "\n",
    "##### Brute Force Approach:\n",
    "\n",
    "- Use a normal stack.\n",
    "- Maintain a separate list to track maximum values each time.\n",
    "- Drawback: extra space, complexity in managing max values.\n",
    "\n",
    "##### Optimized Approach:\n",
    "\n",
    "- Use two stacks:\n",
    "    - Main stack — stores all elements.\n",
    "    - Max stack — stores the current maximum at every push.\n",
    "\n",
    "- When pushing:\n",
    "    - Push value to main stack.\n",
    "    - Push to max stack if value is >= current max (or if max stack is empty).\n",
    "\n",
    "- When popping:\n",
    "    - Pop from main stack.\n",
    "    - If popped value equals top of max stack → pop from max stack.\n",
    "\n",
    "- This ensures O(1) for all operations."
   ]
  },
  {
   "cell_type": "markdown",
   "id": "be931aed-e6ac-4398-a9cc-cd43c98ed91b",
   "metadata": {},
   "source": [
    "### Solution Code"
   ]
  },
  {
   "cell_type": "code",
   "execution_count": 10,
   "id": "57cab10a-c58c-459b-b504-16dc7ee1d0ac",
   "metadata": {},
   "outputs": [],
   "source": [
    "# Approach1: Brute Force Approach\n",
    "class MaxStackBrute:\n",
    "    def __init__(self):\n",
    "        self.stack = []\n",
    "\n",
    "    def push(self, x:int):\n",
    "        self.stack.append(x)\n",
    "\n",
    "    def pop(self):\n",
    "        if self.stack:\n",
    "            return self.stack.pop()\n",
    "\n",
    "    def top(self):\n",
    "        if self.stack:\n",
    "            return self.stack[-1]\n",
    "        return None\n",
    "\n",
    "    def getMax(self):\n",
    "        if self.stack:\n",
    "            return max(self.stack) # O(n)\n",
    "        return None"
   ]
  },
  {
   "cell_type": "markdown",
   "id": "9febed86-bc77-49f3-aa50-7adfe033688a",
   "metadata": {},
   "source": [
    "### Alternative Solution"
   ]
  },
  {
   "cell_type": "code",
   "execution_count": 11,
   "id": "3d0f40fa-e3cf-49eb-b872-7290e4cc7f70",
   "metadata": {},
   "outputs": [],
   "source": [
    "# Approach2: Optimized Approach\n",
    "class MaxStackOptimized:\n",
    "    def __init__(self):\n",
    "        self.stack = []\n",
    "        self.max_stack = []\n",
    "\n",
    "    def push(self, x: int):\n",
    "        self.stack.append(x)\n",
    "        if not self.max_stack or x >= self.max_stack[-1]:\n",
    "            self.max_stack.append(x)\n",
    "\n",
    "    def pop(self):\n",
    "        if not self.stack:\n",
    "            return None\n",
    "        val = self.stack.pop()\n",
    "        if val == self.max_stack[-1]:\n",
    "            self.max_stack.pop()\n",
    "        return val\n",
    "\n",
    "    def top(self):\n",
    "        if not self.stack:\n",
    "            return None\n",
    "        return self.stack[-1]\n",
    "\n",
    "    def getMax(self):\n",
    "        if not self.max_stack:\n",
    "            return None\n",
    "        return self.max_stack[-1]"
   ]
  },
  {
   "cell_type": "markdown",
   "id": "2459abe6-92bc-4283-ad4b-aff83def7ae0",
   "metadata": {},
   "source": [
    "### Alternative Approaches"
   ]
  },
  {
   "cell_type": "markdown",
   "id": "9968c8eb-bc72-4b47-92ab-977b2e022a1e",
   "metadata": {},
   "source": [
    "- Brute Force — keeps one stack and scans for max each time → slower.\n",
    "- Optimized two-stack method — keeps track of current max → constant time.\n",
    "- Single-stack with tuples — store (value, current_max) to reduce number of stacks."
   ]
  },
  {
   "cell_type": "markdown",
   "id": "d6a0376a-06d0-45f0-8c7e-c16ff2a673ef",
   "metadata": {},
   "source": [
    "### Test Cases "
   ]
  },
  {
   "cell_type": "code",
   "execution_count": 16,
   "id": "ae26483e-d6b2-4834-98f4-d7566355dc5d",
   "metadata": {},
   "outputs": [
    {
     "name": "stdout",
     "output_type": "stream",
     "text": [
      "Testing Brute Force Implementation\n",
      "All test cases passed!\n",
      "\n",
      "Testing Optimized Implementation\n",
      "All test cases passed!\n"
     ]
    }
   ],
   "source": [
    "# Test Case\n",
    "def test_max_stack(stack_class):\n",
    "    stack = stack_class()\n",
    "    stack.push(5)\n",
    "    stack.push(1)\n",
    "    stack.push(5)\n",
    "    assert stack.getMax() == 5\n",
    "    assert stack.pop() == 5\n",
    "    assert stack.top() == 1\n",
    "    assert stack.getMax() == 5\n",
    "    stack.pop()\n",
    "    assert stack.getMax() == 5\n",
    "    stack.pop()\n",
    "    assert stack.getMax() == None \n",
    "    print(\"All test cases passed!\")\n",
    "\n",
    "print(\"Testing Brute Force Implementation\")\n",
    "test_max_stack(MaxStackBrute)\n",
    "\n",
    "print(\"\\nTesting Optimized Implementation\")\n",
    "test_max_stack(MaxStackOptimized)"
   ]
  },
  {
   "cell_type": "markdown",
   "id": "462318bf-672f-4468-9122-070cf70b5af5",
   "metadata": {},
   "source": [
    "## Complexity Analysis"
   ]
  },
  {
   "cell_type": "markdown",
   "id": "3ff61a2e-affa-44cc-b483-573f9dc9b166",
   "metadata": {},
   "source": [
    "### Time Complexity:\n",
    "| Approach            | Push | Pop  | Top  | getMax |\n",
    "| ------------------- | ---- | ---- | ---- | ------ |\n",
    "| Brute Force         | O(1) | O(1) | O(1) | O(n)   |\n",
    "| Optimized (2-stack) | O(1) | O(1) | O(1) | O(1)   |\n",
    "\n",
    "### Space Complexity:\n",
    "- Brute Force: O(n)\n",
    "- Optimized: O(n) (two stacks, but still O(n) overall)"
   ]
  },
  {
   "cell_type": "markdown",
   "id": "54ae9b22-a3fd-4d97-807c-9deb388d03b1",
   "metadata": {},
   "source": [
    "#### Thank You!!"
   ]
  },
  {
   "cell_type": "code",
   "execution_count": null,
   "id": "7b5d6670-990b-4254-b57a-0e604b3b0150",
   "metadata": {},
   "outputs": [],
   "source": []
  }
 ],
 "metadata": {
  "kernelspec": {
   "display_name": "Python 3 (ipykernel)",
   "language": "python",
   "name": "python3"
  },
  "language_info": {
   "codemirror_mode": {
    "name": "ipython",
    "version": 3
   },
   "file_extension": ".py",
   "mimetype": "text/x-python",
   "name": "python",
   "nbconvert_exporter": "python",
   "pygments_lexer": "ipython3",
   "version": "3.12.3"
  }
 },
 "nbformat": 4,
 "nbformat_minor": 5
}
