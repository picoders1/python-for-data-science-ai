{
 "cells": [
  {
   "cell_type": "markdown",
   "id": "8a36d3b1-1a8d-478e-8060-6477472e6bd4",
   "metadata": {},
   "source": [
    "# **Problem Statement**  \n",
    "## **40. Design a data structure for a browser history with back and forward functionalities.**"
   ]
  },
  {
   "cell_type": "markdown",
   "id": "97e8eaf4-c67c-4ef9-87dd-a1c242b88a5a",
   "metadata": {},
   "source": [
    "Design a Browser History data structure that supports:\n",
    "1. Visiting a new URL.\n",
    "2. Going back a certain number of steps.\n",
    "3. Going forward a certain number of steps.\n",
    "\n",
    "All operations should maintain the correct sequence of pages."
   ]
  },
  {
   "cell_type": "markdown",
   "id": "12b96244-784f-44f1-b72a-e69e054e8b67",
   "metadata": {},
   "source": [
    "### Constraints & Example Inputs/Outputs\n",
    "\n",
    "- Assume all URLs are strings.\n",
    "- back(steps) should move back at most to the first visited page.\n",
    "- forward(steps) should move forward at most to the latest page visited.\n",
    "\n",
    "### Example:\n",
    "```python\n",
    "# Initialize browser history\n",
    "BrowserHistory(\"leetcode.com\")  # Starts at leetcode.com\n",
    "visit(\"google.com\")\n",
    "visit(\"facebook.com\")\n",
    "visit(\"youtube.com\")\n",
    "back(1) -> \"facebook.com\"\n",
    "back(1) -> \"google.com\"\n",
    "forward(1) -> \"facebook.com\"\n",
    "visit(\"linkedin.com\")  # Forward history cleared\n",
    "forward(2) -> \"linkedin.com\"\n",
    "back(2) -> \"google.com\"\n",
    "back(7) -> \"leetcode.com\"\n"
   ]
  },
  {
   "cell_type": "markdown",
   "id": "b68e7cad-ea42-4bb3-a20e-a91cba6d7424",
   "metadata": {},
   "source": [
    "### Solution Approach"
   ]
  },
  {
   "cell_type": "markdown",
   "id": "144b599f-addb-4686-8425-1f6e6f862acd",
   "metadata": {},
   "source": [
    "Here are the 2 best possible approaches:\n",
    "\n",
    "##### 1. Brute Force Approach (Recursive by Level):\n",
    "- Use a list to store history.\n",
    "- Keep an index pointer curr for the current page.\n",
    "- visit(url): truncate list after curr, append new URL, move pointer to last.\n",
    "- back(steps): decrement pointer, clamp at 0.\n",
    "- forward(steps): increment pointer, clamp at last index.\n",
    "- Time Complexity: O(1) per operation for pointer movement; list truncation may cost O(n).\n",
    "\n",
    "##### 2. Optimized Approach (Linked List):\n",
    "- Use a doubly linked list to store pages.\n",
    "- Current node points to current page.\n",
    "- visit(url): add new node after current, remove all forward nodes.\n",
    "- back(steps): move current pointer steps back.\n",
    "- forward(steps): move current pointer steps forward.\n",
    "- Time Complexity: O(steps) for back/forward, O(1) for visit."
   ]
  },
  {
   "cell_type": "markdown",
   "id": "be931aed-e6ac-4398-a9cc-cd43c98ed91b",
   "metadata": {},
   "source": [
    "### Solution Code"
   ]
  },
  {
   "cell_type": "code",
   "execution_count": 3,
   "id": "57cab10a-c58c-459b-b504-16dc7ee1d0ac",
   "metadata": {},
   "outputs": [],
   "source": [
    "# Approach1: Using Linked List \n",
    "class BrowserHistory:\n",
    "    def __init__(self, homepage: str):\n",
    "        self.history = [homepage]\n",
    "        self.curr = 0\n",
    "\n",
    "    def visit(self, url: str):\n",
    "        self.history = self.history[:self.curr+1]\n",
    "        self.history.append(url)\n",
    "        self.curr += 1\n",
    "\n",
    "    def back(self, steps: int) -> str:\n",
    "        self.curr = max(0, self.curr - steps)\n",
    "        return self.history[self.curr]\n",
    "\n",
    "    def forward(self, steps: int) -> str:\n",
    "        self.curr = min(len(self.history) - 1, self.curr + steps)\n",
    "        return self.history[self.curr]\n"
   ]
  },
  {
   "cell_type": "markdown",
   "id": "d6a0376a-06d0-45f0-8c7e-c16ff2a673ef",
   "metadata": {},
   "source": [
    "### Test Cases "
   ]
  },
  {
   "cell_type": "code",
   "execution_count": 4,
   "id": "ae26483e-d6b2-4834-98f4-d7566355dc5d",
   "metadata": {},
   "outputs": [
    {
     "name": "stdout",
     "output_type": "stream",
     "text": [
      "facebook.com\n",
      "google.com\n",
      "facebook.com\n",
      "linkedin.com\n",
      "google.com\n",
      "leetcode.com\n"
     ]
    }
   ],
   "source": [
    "browser = BrowserHistory(\"leetcode.com\")\n",
    "browser.visit(\"google.com\")\n",
    "browser.visit(\"facebook.com\")\n",
    "browser.visit(\"youtube.com\")\n",
    "\n",
    "print(browser.back(1))       # facebook.com\n",
    "print(browser.back(1))       # google.com\n",
    "print(browser.forward(1))    # facebook.com\n",
    "browser.visit(\"linkedin.com\")\n",
    "print(browser.forward(2))    # linkedin.com\n",
    "print(browser.back(2))       # google.com\n",
    "print(browser.back(7))       # leetcode.com\n"
   ]
  },
  {
   "cell_type": "markdown",
   "id": "462318bf-672f-4468-9122-070cf70b5af5",
   "metadata": {},
   "source": [
    "## Complexity Analysis"
   ]
  },
  {
   "cell_type": "markdown",
   "id": "3ff61a2e-affa-44cc-b483-573f9dc9b166",
   "metadata": {},
   "source": [
    "| Operation   | Time Complexity                                | Space Complexity |\n",
    "| ----------- | ---------------------------------------------- | ---------------- |\n",
    "| `visit()`   | O(1) amortized (list truncation may cost O(n)) | O(n)             |\n",
    "| `back()`    | O(1)                                           | O(1)             |\n",
    "| `forward()` | O(1)                                           | O(1)             |\n"
   ]
  },
  {
   "cell_type": "markdown",
   "id": "54ae9b22-a3fd-4d97-807c-9deb388d03b1",
   "metadata": {},
   "source": [
    "#### Thank You!!"
   ]
  }
 ],
 "metadata": {
  "kernelspec": {
   "display_name": "Python 3 (ipykernel)",
   "language": "python",
   "name": "python3"
  },
  "language_info": {
   "codemirror_mode": {
    "name": "ipython",
    "version": 3
   },
   "file_extension": ".py",
   "mimetype": "text/x-python",
   "name": "python",
   "nbconvert_exporter": "python",
   "pygments_lexer": "ipython3",
   "version": "3.12.3"
  }
 },
 "nbformat": 4,
 "nbformat_minor": 5
}
