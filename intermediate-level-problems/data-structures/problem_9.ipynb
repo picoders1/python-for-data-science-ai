{
 "cells": [
  {
   "cell_type": "markdown",
   "id": "8a36d3b1-1a8d-478e-8060-6477472e6bd4",
   "metadata": {},
   "source": [
    "# **Problem Statement**  \n",
    "## **9. Perform level-order traversal of a binary tree**"
   ]
  },
  {
   "cell_type": "markdown",
   "id": "97e8eaf4-c67c-4ef9-87dd-a1c242b88a5a",
   "metadata": {},
   "source": [
    "Given a binary tree, perform a level-order traversal (also known as Breadth-First Search, BFS). Return the values of the nodes level by level."
   ]
  },
  {
   "cell_type": "markdown",
   "id": "12b96244-784f-44f1-b72a-e69e054e8b67",
   "metadata": {},
   "source": [
    "### Constraints & Example Inputs/Outputs\n",
    "\n",
    "- Input: Root of a binary tree.\n",
    "- Output: A list of lists, where each inner list represents nodes at one level.\n",
    "- Tree can have up to 10^4 nodes.\n",
    "- Node values can be integers (positive/negative).\n",
    "\n",
    "### Example 1:\n",
    "\n",
    "Input: \n",
    "\n",
    "        1\n",
    "        \n",
    "       / \\\n",
    "      \n",
    "      2   3\n",
    "     \n",
    "     / \\   \\\n",
    "    \n",
    "    4   5   6\n",
    "    \n",
    "Output: [[1], [2, 3], [4, 5, 6]]\n",
    "\n",
    "### Example 2:\n",
    "\n",
    "Input:\n",
    "\n",
    "    10\n",
    "    \n",
    "      \\\n",
    "      \n",
    "       20\n",
    "       \n",
    "         \\\n",
    "         \n",
    "          30\n",
    "          \n",
    "Output: [[10], [20], [30]]\n",
    "\n",
    "### Example 3:\n",
    "\n",
    "Input: None\n",
    "\n",
    "Output: []\n"
   ]
  },
  {
   "cell_type": "markdown",
   "id": "b68e7cad-ea42-4bb3-a20e-a91cba6d7424",
   "metadata": {},
   "source": [
    "### Solution Approach"
   ]
  },
  {
   "cell_type": "markdown",
   "id": "144b599f-addb-4686-8425-1f6e6f862acd",
   "metadata": {},
   "source": [
    "Here are the 2 possible approaches:\n",
    "\n",
    "##### Brute Force Approach (Recursive by Level):\n",
    "\n",
    "- First, compute the height of the tree.\n",
    "- Then, for each level (1 to height), collect nodes using recursion.\n",
    "- Time: O(n^2) in worst case (skewed tree).\n",
    "\n",
    "##### Optimized Approach (Queue using BFS):\n",
    "\n",
    "- Use a queue (collections.deque).\n",
    "- Push root, then process nodes level by level.\n",
    "- Keep track of current level size, pop nodes, and push children.\n",
    "- Time: O(n), Space: O(n)."
   ]
  },
  {
   "cell_type": "markdown",
   "id": "be931aed-e6ac-4398-a9cc-cd43c98ed91b",
   "metadata": {},
   "source": [
    "### Solution Code"
   ]
  },
  {
   "cell_type": "code",
   "execution_count": 1,
   "id": "57cab10a-c58c-459b-b504-16dc7ee1d0ac",
   "metadata": {},
   "outputs": [],
   "source": [
    "# Approach1: Brute Force Approach\n",
    "class Node:\n",
    "    def __init__(self, val):\n",
    "        self.val = val\n",
    "        self.left = None\n",
    "        self.right = None\n",
    "\n",
    "# Helper to compute height\n",
    "def height(root):\n",
    "    if not root:\n",
    "        return 0\n",
    "    return 1 + max(height(root.left), height(root.right))\n",
    "\n",
    "# Collect nodes at a given level\n",
    "def get_level_nodes(root, level, result):\n",
    "    if not root:\n",
    "        return\n",
    "    if level == 1:\n",
    "        result.append(root.val)\n",
    "    else:\n",
    "        get_level_nodes(root.left, level-1, result)\n",
    "        get_level_nodes(root.right, level-1, result)\n",
    "\n",
    "# Brute force level order\n",
    "def level_order_bruteforce(root):\n",
    "    h = height(root)\n",
    "    ans = []\n",
    "    for i in range(1, h+1):\n",
    "        level_nodes = []\n",
    "        get_level_nodes(root, i, level_nodes)\n",
    "        ans.append(level_nodes)\n",
    "    return ans\n"
   ]
  },
  {
   "cell_type": "markdown",
   "id": "9febed86-bc77-49f3-aa50-7adfe033688a",
   "metadata": {},
   "source": [
    "### Alternative Solution"
   ]
  },
  {
   "cell_type": "code",
   "execution_count": 5,
   "id": "3d0f40fa-e3cf-49eb-b872-7290e4cc7f70",
   "metadata": {},
   "outputs": [],
   "source": [
    "# Approach2: Optimized Approach (Queue BFS)\n",
    "from collections import deque\n",
    "\n",
    "def level_order_optimized(root):\n",
    "    if not root:\n",
    "        return []\n",
    "    \n",
    "    result = []\n",
    "    q = deque([root])\n",
    "    \n",
    "    while q:\n",
    "        level_size = len(q)\n",
    "        level_nodes = []\n",
    "        \n",
    "        for _ in range(level_size):\n",
    "            node = q.popleft()\n",
    "            level_nodes.append(node.val)\n",
    "            if node.left:\n",
    "                q.append(node.left)\n",
    "            if node.right:\n",
    "                q.append(node.right)\n",
    "        \n",
    "        result.append(level_nodes)\n",
    "    \n",
    "    return result\n",
    "    "
   ]
  },
  {
   "cell_type": "markdown",
   "id": "2459abe6-92bc-4283-ad4b-aff83def7ae0",
   "metadata": {},
   "source": [
    "### Alternative Approaches"
   ]
  },
  {
   "cell_type": "markdown",
   "id": "9968c8eb-bc72-4b47-92ab-977b2e022a1e",
   "metadata": {},
   "source": [
    "- Brute Force (Recursive) → simple but inefficient for skewed trees.\n",
    "- BFS using Queue → optimal approach.\n",
    "- DFS with level tracking → pass current depth to recursive DFS, push into result[level]."
   ]
  },
  {
   "cell_type": "markdown",
   "id": "d6a0376a-06d0-45f0-8c7e-c16ff2a673ef",
   "metadata": {},
   "source": [
    "### Test Cases "
   ]
  },
  {
   "cell_type": "code",
   "execution_count": 6,
   "id": "ae26483e-d6b2-4834-98f4-d7566355dc5d",
   "metadata": {},
   "outputs": [
    {
     "name": "stdout",
     "output_type": "stream",
     "text": [
      "Brute Force:\n",
      "[[1], [2, 3], [4, 5, 6]]\n",
      "[[10], [20], [30]]\n",
      "[]\n",
      "Optimized BFS:\n",
      "[[1], [2, 3], [4, 5, 6]]\n",
      "[[10], [20], [30]]\n",
      "[]\n"
     ]
    }
   ],
   "source": [
    "# Helper to build tree for testing\n",
    "root1 = Node(1)\n",
    "root1.left = Node(2)\n",
    "root1.right = Node(3)\n",
    "root1.left.left = Node(4)\n",
    "root1.left.right = Node(5)\n",
    "root1.right.right = Node(6)\n",
    "\n",
    "root2 = Node(10)\n",
    "root2.right = Node(20)\n",
    "root2.right.right = Node(30)\n",
    "\n",
    "root3 = None\n",
    "\n",
    "# Testing Brute Force\n",
    "print(\"Brute Force:\")\n",
    "print(level_order_bruteforce(root1))  # Expected [[1], [2, 3], [4, 5, 6]]\n",
    "print(level_order_bruteforce(root2))  # Expected [[10], [20], [30]]\n",
    "print(level_order_bruteforce(root3))  # Expected []\n",
    "\n",
    "# Testing Optimized\n",
    "print(\"Optimized BFS:\")\n",
    "print(level_order_optimized(root1))  # Expected [[1], [2, 3], [4, 5, 6]]\n",
    "print(level_order_optimized(root2))  # Expected [[10], [20], [30]]\n",
    "print(level_order_optimized(root3))  # Expected []\n"
   ]
  },
  {
   "cell_type": "markdown",
   "id": "462318bf-672f-4468-9122-070cf70b5af5",
   "metadata": {},
   "source": [
    "## Complexity Analysis"
   ]
  },
  {
   "cell_type": "markdown",
   "id": "3ff61a2e-affa-44cc-b483-573f9dc9b166",
   "metadata": {},
   "source": [
    "##### Brute Force:\n",
    "\n",
    "- Time: O(n^2) (for each level, traverse tree).\n",
    "- Space: O(h) recursion stack (h = tree height).\n",
    "\n",
    "#### Optimized BFS:\n",
    "\n",
    "- Time: O(n) (every node visited once).\n",
    "- Space: O(n) (queue stores nodes at one level)."
   ]
  },
  {
   "cell_type": "markdown",
   "id": "54ae9b22-a3fd-4d97-807c-9deb388d03b1",
   "metadata": {},
   "source": [
    "#### Thank You!!"
   ]
  }
 ],
 "metadata": {
  "kernelspec": {
   "display_name": "Python 3 (ipykernel)",
   "language": "python",
   "name": "python3"
  },
  "language_info": {
   "codemirror_mode": {
    "name": "ipython",
    "version": 3
   },
   "file_extension": ".py",
   "mimetype": "text/x-python",
   "name": "python",
   "nbconvert_exporter": "python",
   "pygments_lexer": "ipython3",
   "version": "3.8.10"
  }
 },
 "nbformat": 4,
 "nbformat_minor": 5
}
