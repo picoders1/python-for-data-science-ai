{
 "cells": [
  {
   "cell_type": "markdown",
   "id": "8a36d3b1-1a8d-478e-8060-6477472e6bd4",
   "metadata": {},
   "source": [
    "# **Problem Statement**  \n",
    "## **19. Implement Union-Find(Disjoint Set Union) with path compression**"
   ]
  },
  {
   "cell_type": "markdown",
   "id": "97e8eaf4-c67c-4ef9-87dd-a1c242b88a5a",
   "metadata": {},
   "source": [
    "Implement the Union-Find (Disjoint Set Union) data structure with path compression and union by rank/size.\n",
    "This data structure efficiently manages disjoint sets and supports two main operations:\n",
    "- Find(x): Determine which subset a particular element belongs to.\n",
    "- Union(x, y): Merge two subsets into one."
   ]
  },
  {
   "cell_type": "markdown",
   "id": "12b96244-784f-44f1-b72a-e69e054e8b67",
   "metadata": {},
   "source": [
    "### Constraints & Example Inputs/Outputs\n",
    "\n",
    "- Elements are integers in range [0, n-1].\n",
    "- Union and Find should be near-constant time (amortized).\n",
    "- Input size can go up to 10^5 elements.\n",
    "\n",
    "### Example:\n",
    "```python\n",
    "Input:\n",
    "n = 5\n",
    "Operations:\n",
    "Union(0,1)\n",
    "Union(1,2)\n",
    "Find(2)\n",
    "Find(3)\n",
    "Union(3,4)\n",
    "Find(4)\n",
    "\n",
    "Output:\n",
    "Find(2) → root is 0 (connected with 0,1,2)\n",
    "Find(3) → root is 3 (separate component)\n",
    "Find(4) → root is 3 (after union with 3)\n"
   ]
  },
  {
   "cell_type": "markdown",
   "id": "b68e7cad-ea42-4bb3-a20e-a91cba6d7424",
   "metadata": {},
   "source": [
    "### Solution Approach"
   ]
  },
  {
   "cell_type": "markdown",
   "id": "144b599f-addb-4686-8425-1f6e6f862acd",
   "metadata": {},
   "source": [
    "Here are the 2 possible approaches:\n",
    "\n",
    "##### Naive Approach:\n",
    "- Keep track of parent for each node. Union merges sets, but without optimization → operations can be costly (up to O(n) in worst case).\n",
    "\n",
    "##### Optimized Approach:\n",
    "\n",
    "- Path Compression in Find(x) → flatten the structure by directly connecting nodes to the root.\n",
    "- Union by Rank/Size in Union(x, y) → attach the smaller tree under the larger one.\n",
    "\n",
    "These two optimizations give amortized O(α(n)) ≈ O(1) time complexity (inverse Ackermann function)."
   ]
  },
  {
   "cell_type": "markdown",
   "id": "be931aed-e6ac-4398-a9cc-cd43c98ed91b",
   "metadata": {},
   "source": [
    "### Solution Code"
   ]
  },
  {
   "cell_type": "code",
   "execution_count": 1,
   "id": "57cab10a-c58c-459b-b504-16dc7ee1d0ac",
   "metadata": {},
   "outputs": [],
   "source": [
    "class UnionFind:\n",
    "    def __init__(self, n):\n",
    "        self.parent = [i for i in range(n)]\n",
    "        self.rank = [0] * n  # or use size-based optimization\n",
    "    \n",
    "    def find(self, x):\n",
    "        if self.parent[x] != x:\n",
    "            self.parent[x] = self.find(self.parent[x])  # Path compression\n",
    "        return self.parent[x]\n",
    "    \n",
    "    def union(self, x, y):\n",
    "        rootX = self.find(x)\n",
    "        rootY = self.find(y)\n",
    "        \n",
    "        if rootX != rootY:\n",
    "            # Union by rank\n",
    "            if self.rank[rootX] < self.rank[rootY]:\n",
    "                self.parent[rootX] = rootY\n",
    "            elif self.rank[rootX] > self.rank[rootY]:\n",
    "                self.parent[rootY] = rootX\n",
    "            else:\n",
    "                self.parent[rootY] = rootX\n",
    "                self.rank[rootX] += 1\n"
   ]
  },
  {
   "cell_type": "markdown",
   "id": "2459abe6-92bc-4283-ad4b-aff83def7ae0",
   "metadata": {},
   "source": [
    "### Alternative Approaches"
   ]
  },
  {
   "cell_type": "markdown",
   "id": "9968c8eb-bc72-4b47-92ab-977b2e022a1e",
   "metadata": {},
   "source": [
    "##### Naive DSU (without path compression & union by rank):\n",
    "- Just update parent pointer each time → O(n) worst case per operation.\n",
    "\n",
    "##### Optimized DSU (with path compression & union by size/rank):\n",
    "- Amortized O(α(n)) ≈ O(1) → much faster in large inputs."
   ]
  },
  {
   "cell_type": "markdown",
   "id": "d6a0376a-06d0-45f0-8c7e-c16ff2a673ef",
   "metadata": {},
   "source": [
    "### Test Cases "
   ]
  },
  {
   "cell_type": "code",
   "execution_count": 2,
   "id": "ae26483e-d6b2-4834-98f4-d7566355dc5d",
   "metadata": {},
   "outputs": [
    {
     "name": "stdout",
     "output_type": "stream",
     "text": [
      "Find(2): 0\n",
      "Find(3): 3\n",
      "Find(4): 3\n",
      "Find(0): 0\n",
      "[0, 0, 0, 0]\n",
      "[0, 0, 2, 2, 4, 4]\n"
     ]
    }
   ],
   "source": [
    "# Test Case1\n",
    "uf = UnionFind(5)\n",
    "uf.union(0,1)\n",
    "uf.union(1,2)\n",
    "print(\"Find(2):\", uf.find(2))  # Expected root: 0 or 1\n",
    "print(\"Find(3):\", uf.find(3))  # Expected: 3 (separate set)\n",
    "uf.union(3,4)\n",
    "print(\"Find(4):\", uf.find(4))  # Expected root: 3\n",
    "\n",
    "# Test Case 2 (Edge case: Single element)\n",
    "uf = UnionFind(1)\n",
    "print(\"Find(0):\", uf.find(0))  # Expected: 0\n",
    "\n",
    "# Test Case 3 (All connected)\n",
    "uf = UnionFind(4)\n",
    "uf.union(0,1)\n",
    "uf.union(1,2)\n",
    "uf.union(2,3)\n",
    "print([uf.find(i) for i in range(4)])  # Expected: all same root\n",
    "\n",
    "# Test Case 4 (Disjoint sets)\n",
    "uf = UnionFind(6)\n",
    "uf.union(0,1)\n",
    "uf.union(2,3)\n",
    "uf.union(4,5)\n",
    "print([uf.find(i) for i in range(6)])  \n",
    "# Expected: three groups (0-1), (2-3), (4-5)\n"
   ]
  },
  {
   "cell_type": "markdown",
   "id": "462318bf-672f-4468-9122-070cf70b5af5",
   "metadata": {},
   "source": [
    "## Complexity Analysis"
   ]
  },
  {
   "cell_type": "markdown",
   "id": "3ff61a2e-affa-44cc-b483-573f9dc9b166",
   "metadata": {},
   "source": [
    "##### Find(x):\n",
    "- Without optimizations: O(n) worst case.\n",
    "- With path compression + union by rank: O(α(n)) ≈ O(1) amortized.\n",
    "\n",
    "#### Union(x,y):\n",
    "- Without optimizations: O(n).\n",
    "- With optimizations: O(α(n)) ≈ O(1).\n",
    "\n",
    "#### Space Complexity\n",
    "- O(n) for parent and rank arrays.\n"
   ]
  },
  {
   "cell_type": "markdown",
   "id": "54ae9b22-a3fd-4d97-807c-9deb388d03b1",
   "metadata": {},
   "source": [
    "#### Thank You!!"
   ]
  }
 ],
 "metadata": {
  "kernelspec": {
   "display_name": "Python 3 (ipykernel)",
   "language": "python",
   "name": "python3"
  },
  "language_info": {
   "codemirror_mode": {
    "name": "ipython",
    "version": 3
   },
   "file_extension": ".py",
   "mimetype": "text/x-python",
   "name": "python",
   "nbconvert_exporter": "python",
   "pygments_lexer": "ipython3",
   "version": "3.12.3"
  }
 },
 "nbformat": 4,
 "nbformat_minor": 5
}
