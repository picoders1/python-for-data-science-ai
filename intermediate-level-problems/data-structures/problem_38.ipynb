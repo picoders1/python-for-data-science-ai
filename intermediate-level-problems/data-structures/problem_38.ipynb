{
 "cells": [
  {
   "cell_type": "markdown",
   "id": "8a36d3b1-1a8d-478e-8060-6477472e6bd4",
   "metadata": {},
   "source": [
    "# **Problem Statement**  \n",
    "## **38. Design a data structure for a phone directory with insert, delete, and search operations.**"
   ]
  },
  {
   "cell_type": "markdown",
   "id": "97e8eaf4-c67c-4ef9-87dd-a1c242b88a5a",
   "metadata": {},
   "source": [
    "Design a phone directory that supports the following operations efficiently:\n",
    "- Insert a contact (name → phone number)\n",
    "- Delete a contact\n",
    "- Search for a contact by name"
   ]
  },
  {
   "cell_type": "markdown",
   "id": "12b96244-784f-44f1-b72a-e69e054e8b67",
   "metadata": {},
   "source": [
    "### Constraints & Example Inputs/Outputs\n",
    "\n",
    "- Names are strings (assume lowercase letters).\n",
    "- Phone numbers are strings or integers.\n",
    "- Directory may have up to 10⁵ contacts.\n",
    "\n",
    "### Example:\n",
    "```python\n",
    "# Operations:\n",
    "Insert(\"Alice\", \"12345\")\n",
    "Insert(\"Bob\", \"67890\")\n",
    "Search(\"Alice\") -> \"12345\"\n",
    "Delete(\"Alice\")\n",
    "Search(\"Alice\") -> None\n"
   ]
  },
  {
   "cell_type": "markdown",
   "id": "b68e7cad-ea42-4bb3-a20e-a91cba6d7424",
   "metadata": {},
   "source": [
    "### Solution Approach"
   ]
  },
  {
   "cell_type": "markdown",
   "id": "144b599f-addb-4686-8425-1f6e6f862acd",
   "metadata": {},
   "source": [
    "Here are the 2 possible approaches:\n",
    "\n",
    "##### Brute Force Approach:\n",
    "- Maintain a list of tuples: (name, phone_number).\n",
    "- Insert: append to list → O(1).\n",
    "- Search: iterate over list → O(n).\n",
    "- Delete: iterate, find, and remove → O(n).\n",
    "\n",
    "##### Optimized Approach (Hash Map):\n",
    "- Use a Python dictionary (dict) → O(1) average for insert/search/delete.\n",
    "- Keys: contact names, Values: phone numbers.\n",
    "- Space complexity: O(n).\n",
    "- Handles duplicate names by overwriting previous entry."
   ]
  },
  {
   "cell_type": "markdown",
   "id": "be931aed-e6ac-4398-a9cc-cd43c98ed91b",
   "metadata": {},
   "source": [
    "### Solution Code"
   ]
  },
  {
   "cell_type": "code",
   "execution_count": 2,
   "id": "57cab10a-c58c-459b-b504-16dc7ee1d0ac",
   "metadata": {},
   "outputs": [],
   "source": [
    "# Approach1: Brute Force Approach\n",
    "class BruteForcePhoneDirectory:\n",
    "    def __init__(self):\n",
    "        self.contacts = []\n",
    "\n",
    "    def insert(self, name, number):\n",
    "        self.contacts.append((name, number))\n",
    "\n",
    "    def search(self, name):\n",
    "        for n, num in self.contacts:\n",
    "            if n == name:\n",
    "                return num\n",
    "        return None\n",
    "\n",
    "    def delete(self, name):\n",
    "        for i, (n, num) in enumerate(self.contacts):\n",
    "            if n == name:\n",
    "                self.contacts.pop(i)\n",
    "                return True\n",
    "        return False\n"
   ]
  },
  {
   "cell_type": "markdown",
   "id": "9febed86-bc77-49f3-aa50-7adfe033688a",
   "metadata": {},
   "source": [
    "### Alternative Solution"
   ]
  },
  {
   "cell_type": "code",
   "execution_count": 3,
   "id": "3d0f40fa-e3cf-49eb-b872-7290e4cc7f70",
   "metadata": {},
   "outputs": [],
   "source": [
    "# Approach2: Optimized Approach (Using Hash Map)\n",
    "class PhoneDirectory:\n",
    "    def __init__(self):\n",
    "        self.contacts = {}\n",
    "\n",
    "    def insert(self, name, number):\n",
    "        self.contacts[name] = number\n",
    "\n",
    "    def search(self, name):\n",
    "        return self.contacts.get(name)\n",
    "\n",
    "    def delete(self, name):\n",
    "        return self.contacts.pop(name, None)\n"
   ]
  },
  {
   "cell_type": "markdown",
   "id": "2459abe6-92bc-4283-ad4b-aff83def7ae0",
   "metadata": {},
   "source": [
    "### Alternative Approaches"
   ]
  },
  {
   "cell_type": "markdown",
   "id": "9968c8eb-bc72-4b47-92ab-977b2e022a1e",
   "metadata": {},
   "source": [
    "- Brute Force (Recursive) → simple but inefficient for skewed trees.\n",
    "- BFS using Queue → optimal approach.\n",
    "- DFS with level tracking → pass current depth to recursive DFS, push into result[level]."
   ]
  },
  {
   "cell_type": "markdown",
   "id": "d6a0376a-06d0-45f0-8c7e-c16ff2a673ef",
   "metadata": {},
   "source": [
    "### Test Cases "
   ]
  },
  {
   "cell_type": "code",
   "execution_count": 4,
   "id": "ae26483e-d6b2-4834-98f4-d7566355dc5d",
   "metadata": {},
   "outputs": [
    {
     "name": "stdout",
     "output_type": "stream",
     "text": [
      "Search Alice: 12345\n",
      "Search Alice after deletion: None\n",
      "Search Alice: 12345\n",
      "Search Alice after deletion: None\n",
      "Search Bob: 99999\n"
     ]
    }
   ],
   "source": [
    "# --- Test Brute Force ---\n",
    "bf_dir = BruteForcePhoneDirectory()\n",
    "bf_dir.insert(\"Alice\", \"12345\")\n",
    "bf_dir.insert(\"Bob\", \"67890\")\n",
    "print(\"Search Alice:\", bf_dir.search(\"Alice\"))   # Output: 12345\n",
    "bf_dir.delete(\"Alice\")\n",
    "print(\"Search Alice after deletion:\", bf_dir.search(\"Alice\"))  # Output: None\n",
    "\n",
    "# --- Test Optimized Hash Map ---\n",
    "dir = PhoneDirectory()\n",
    "dir.insert(\"Alice\", \"12345\")\n",
    "dir.insert(\"Bob\", \"67890\")\n",
    "print(\"Search Alice:\", dir.search(\"Alice\"))   # Output: 12345\n",
    "dir.delete(\"Alice\")\n",
    "print(\"Search Alice after deletion:\", dir.search(\"Alice\"))  # Output: None\n",
    "\n",
    "# Insert duplicate name\n",
    "dir.insert(\"Bob\", \"99999\")\n",
    "print(\"Search Bob:\", dir.search(\"Bob\"))  # Output: 99999\n"
   ]
  },
  {
   "cell_type": "markdown",
   "id": "462318bf-672f-4468-9122-070cf70b5af5",
   "metadata": {},
   "source": [
    "## Complexity Analysis"
   ]
  },
  {
   "cell_type": "markdown",
   "id": "3ff61a2e-affa-44cc-b483-573f9dc9b166",
   "metadata": {},
   "source": [
    "| Operation | Brute Force | Optimized (Hash Map) |\n",
    "| --------- | ----------- | -------------------- |\n",
    "| Insert    | O(1)        | O(1) (average)       |\n",
    "| Search    | O(n)        | O(1) (average)       |\n",
    "| Delete    | O(n)        | O(1) (average)       |\n",
    "| Space     | O(n)        | O(n)                 |\n"
   ]
  },
  {
   "cell_type": "markdown",
   "id": "54ae9b22-a3fd-4d97-807c-9deb388d03b1",
   "metadata": {},
   "source": [
    "#### Thank You!!"
   ]
  }
 ],
 "metadata": {
  "kernelspec": {
   "display_name": "Python 3 (ipykernel)",
   "language": "python",
   "name": "python3"
  },
  "language_info": {
   "codemirror_mode": {
    "name": "ipython",
    "version": 3
   },
   "file_extension": ".py",
   "mimetype": "text/x-python",
   "name": "python",
   "nbconvert_exporter": "python",
   "pygments_lexer": "ipython3",
   "version": "3.12.3"
  }
 },
 "nbformat": 4,
 "nbformat_minor": 5
}
