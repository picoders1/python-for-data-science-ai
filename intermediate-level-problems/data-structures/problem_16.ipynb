{
 "cells": [
  {
   "cell_type": "markdown",
   "id": "8a36d3b1-1a8d-478e-8060-6477472e6bd4",
   "metadata": {},
   "source": [
    "# **Problem Statement**  \n",
    "## **16. Detect cycle in a directed graph**"
   ]
  },
  {
   "cell_type": "markdown",
   "id": "97e8eaf4-c67c-4ef9-87dd-a1c242b88a5a",
   "metadata": {},
   "source": [
    "Implement an algorithm to detect whether a directed graph contains a cycle.\n",
    "You are given a directed graph represented as an adjacency list. Return True if the graph has a cycle, otherwise return False."
   ]
  },
  {
   "cell_type": "markdown",
   "id": "12b96244-784f-44f1-b72a-e69e054e8b67",
   "metadata": {},
   "source": [
    "### Constraints & Example Inputs/Outputs\n",
    "\n",
    "- Graph is directed.\n",
    "- Graph may contain multiple disconnected components.\n",
    "- Vertices: 1 <= V <= 10^5\n",
    "- Edges: 0 <= E <= 10^5\n",
    "\n",
    "### Example1:\n",
    "\n",
    "Input: \n",
    "\n",
    "V = 4, Edges = [(0,1), (1,2), (2,0), (2,3)]\n",
    "\n",
    "Output: True \n",
    "\n",
    "Explanation: There is a cycle (0 → 1 → 2 → 0)\n",
    "\n",
    "### Example 2:\n",
    "\n",
    "Input: \n",
    "\n",
    "V = 3, Edges = [(0,1), (1,2)]\n",
    "\n",
    "Output: False \n",
    "\n",
    "Explanation: No cycle present\n"
   ]
  },
  {
   "cell_type": "markdown",
   "id": "b68e7cad-ea42-4bb3-a20e-a91cba6d7424",
   "metadata": {},
   "source": [
    "### Solution Approach"
   ]
  },
  {
   "cell_type": "markdown",
   "id": "144b599f-addb-4686-8425-1f6e6f862acd",
   "metadata": {},
   "source": [
    "Here are the 2 possible ways to detect cycles in a directed graph:\n",
    "\n",
    "1. DFS + Recursion Stack (Back Edge detection)\n",
    "- Maintain two sets/arrays:\n",
    "    - visited[]: marks visited nodes\n",
    "    - recStack[]: keeps track of nodes in the current recursion path\n",
    "- If during DFS traversal, you encounter a node that is in the recStack, a cycle exists.\n",
    "\n",
    "2. Kahn’s Algorithm (Topological Sort)\n",
    "- If the graph has a cycle, topological sorting is impossible.\n",
    "- Count number of nodes in topological order. If count < V, cycle exists."
   ]
  },
  {
   "cell_type": "markdown",
   "id": "be931aed-e6ac-4398-a9cc-cd43c98ed91b",
   "metadata": {},
   "source": [
    "### Solution Code"
   ]
  },
  {
   "cell_type": "code",
   "execution_count": 1,
   "id": "57cab10a-c58c-459b-b504-16dc7ee1d0ac",
   "metadata": {},
   "outputs": [],
   "source": [
    "# Approach1: Brute Force (DFS + Recursion Stack)\n",
    "from collections import defaultdict\n",
    "\n",
    "class Graph:\n",
    "    def __init__(self, vertices):\n",
    "        self.graph = defaultdict(list)\n",
    "        self.V = vertices\n",
    "\n",
    "    def add_edge(self, u, v):\n",
    "        self.graph[u].append(v)\n",
    "\n",
    "    def is_cyclic_util(self, node, visited, recStack):\n",
    "        visited[node] = True\n",
    "        recStack[node] = True\n",
    "\n",
    "        for neighbor in self.graph[node]:\n",
    "            if not visited[neighbor]:\n",
    "                if self.is_cyclic_util(neighbor, visited, recStack):\n",
    "                    return True\n",
    "            elif recStack[neighbor]:\n",
    "                return True\n",
    "\n",
    "        recStack[node] = False\n",
    "        return False\n",
    "\n",
    "    def is_cyclic(self):\n",
    "        visited = [False] * self.V\n",
    "        recStack = [False] * self.V\n",
    "        for node in range(self.V):\n",
    "            if not visited[node]:\n",
    "                if self.is_cyclic_util(node, visited, recStack):\n",
    "                    return True\n",
    "        return False\n"
   ]
  },
  {
   "cell_type": "markdown",
   "id": "9febed86-bc77-49f3-aa50-7adfe033688a",
   "metadata": {},
   "source": [
    "### Alternative Solution"
   ]
  },
  {
   "cell_type": "code",
   "execution_count": 2,
   "id": "3d0f40fa-e3cf-49eb-b872-7290e4cc7f70",
   "metadata": {},
   "outputs": [],
   "source": [
    "# Approach2: Optimized Approach (Kahn's Algorithm - BFS based)\n",
    "from collections import deque, defaultdict\n",
    "\n",
    "class GraphKahn:\n",
    "    def __init__(self, vertices):\n",
    "        self.graph = defaultdict(list)\n",
    "        self.V = vertices\n",
    "\n",
    "    def add_edge(self, u, v):\n",
    "        self.graph[u].append(v)\n",
    "\n",
    "    def is_cyclic(self):\n",
    "        indegree = [0] * self.V\n",
    "        for u in self.graph:\n",
    "            for v in self.graph[u]:\n",
    "                indegree[v] += 1\n",
    "\n",
    "        q = deque([i for i in range(self.V) if indegree[i] == 0])\n",
    "        count = 0\n",
    "\n",
    "        while q:\n",
    "            node = q.popleft()\n",
    "            count += 1\n",
    "            for neighbor in self.graph[node]:\n",
    "                indegree[neighbor] -= 1\n",
    "                if indegree[neighbor] == 0:\n",
    "                    q.append(neighbor)\n",
    "\n",
    "        return count != self.V\n"
   ]
  },
  {
   "cell_type": "markdown",
   "id": "2459abe6-92bc-4283-ad4b-aff83def7ae0",
   "metadata": {},
   "source": [
    "### Alternative Approaches"
   ]
  },
  {
   "cell_type": "markdown",
   "id": "9968c8eb-bc72-4b47-92ab-977b2e022a1e",
   "metadata": {},
   "source": [
    "- DFS (Recursion stack) – Easier to implement, recursive.\n",
    "- Kahn’s Algorithm (Topological Sort) – Iterative, works well for large DAGs."
   ]
  },
  {
   "cell_type": "markdown",
   "id": "d6a0376a-06d0-45f0-8c7e-c16ff2a673ef",
   "metadata": {},
   "source": [
    "### Test Cases "
   ]
  },
  {
   "cell_type": "code",
   "execution_count": 3,
   "id": "ae26483e-d6b2-4834-98f4-d7566355dc5d",
   "metadata": {},
   "outputs": [
    {
     "name": "stdout",
     "output_type": "stream",
     "text": [
      "DFS Cycle Detection (g1): True\n",
      "DFS Cycle Detection (g2): False\n",
      "Kahn’s Algorithm (g3): True\n",
      "Kahn’s Algorithm (g4): False\n"
     ]
    }
   ],
   "source": [
    "# Test DFS Approach\n",
    "g1 = Graph(4)\n",
    "g1.add_edge(0,1)\n",
    "g1.add_edge(1,2)\n",
    "g1.add_edge(2,0)  # cycle\n",
    "g1.add_edge(2,3)\n",
    "print(\"DFS Cycle Detection (g1):\", g1.is_cyclic())  # True\n",
    "\n",
    "g2 = Graph(3)\n",
    "g2.add_edge(0,1)\n",
    "g2.add_edge(1,2)  # no cycle\n",
    "print(\"DFS Cycle Detection (g2):\", g2.is_cyclic())  # False\n",
    "\n",
    "# Test Kahn's Algorithm\n",
    "g3 = GraphKahn(4)\n",
    "g3.add_edge(0,1)\n",
    "g3.add_edge(1,2)\n",
    "g3.add_edge(2,0)  # cycle\n",
    "print(\"Kahn’s Algorithm (g3):\", g3.is_cyclic())  # True\n",
    "\n",
    "g4 = GraphKahn(3)\n",
    "g4.add_edge(0,1)\n",
    "g4.add_edge(1,2)  # no cycle\n",
    "print(\"Kahn’s Algorithm (g4):\", g4.is_cyclic())  # False\n"
   ]
  },
  {
   "cell_type": "markdown",
   "id": "462318bf-672f-4468-9122-070cf70b5af5",
   "metadata": {},
   "source": [
    "## Complexity Analysis"
   ]
  },
  {
   "cell_type": "markdown",
   "id": "3ff61a2e-affa-44cc-b483-573f9dc9b166",
   "metadata": {},
   "source": [
    "##### DFS Approach:\n",
    "\n",
    "- Time: O(V+E)\n",
    "- Space: O(V) (for recursion + visited arrays)\n",
    "\n",
    "#### Kahn's Algorithm:\n",
    "\n",
    "- Time: O(V+E)\n",
    "- Space: O(V) (for indegree array + queue)"
   ]
  },
  {
   "cell_type": "markdown",
   "id": "54ae9b22-a3fd-4d97-807c-9deb388d03b1",
   "metadata": {},
   "source": [
    "#### Thank You!!"
   ]
  }
 ],
 "metadata": {
  "kernelspec": {
   "display_name": "Python 3 (ipykernel)",
   "language": "python",
   "name": "python3"
  },
  "language_info": {
   "codemirror_mode": {
    "name": "ipython",
    "version": 3
   },
   "file_extension": ".py",
   "mimetype": "text/x-python",
   "name": "python",
   "nbconvert_exporter": "python",
   "pygments_lexer": "ipython3",
   "version": "3.12.3"
  }
 },
 "nbformat": 4,
 "nbformat_minor": 5
}
