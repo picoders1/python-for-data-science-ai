{
 "cells": [
  {
   "cell_type": "markdown",
   "id": "8a36d3b1-1a8d-478e-8060-6477472e6bd4",
   "metadata": {},
   "source": [
    "# **Problem Statement**  \n",
    "## **15. Implement a graph using adjacency list**"
   ]
  },
  {
   "cell_type": "markdown",
   "id": "97e8eaf4-c67c-4ef9-87dd-a1c242b88a5a",
   "metadata": {},
   "source": [
    "Implement a graph data structure using an adjacency list representation. The graph should support adding vertices, adding edges (directed/undirected), and displaying the adjacency list."
   ]
  },
  {
   "cell_type": "markdown",
   "id": "12b96244-784f-44f1-b72a-e69e054e8b67",
   "metadata": {},
   "source": [
    "### Constraints & Example Inputs/Outputs\n",
    "\n",
    "- Graph can be directed or undirected.\n",
    "- No duplicate edges.\n",
    "- Vertices can be integers or strings.\n",
    "\n",
    "### Example:\n",
    "\n",
    "Input: \n",
    "Add Vertices: A, B, C, D\n",
    "Add edges: (A,B), (A,C), (B,D), (C,D)\n",
    "    \n",
    "Output: \n",
    "\n",
    "A -> [B,C]\n",
    "\n",
    "B -> [D]\n",
    "\n",
    "C -> [D]\n",
    "\n",
    "D -> []\n"
   ]
  },
  {
   "cell_type": "markdown",
   "id": "b68e7cad-ea42-4bb3-a20e-a91cba6d7424",
   "metadata": {},
   "source": [
    "### Solution Approach"
   ]
  },
  {
   "cell_type": "markdown",
   "id": "144b599f-addb-4686-8425-1f6e6f862acd",
   "metadata": {},
   "source": [
    "Here are the top approaches:\n",
    "\n",
    "- A graph can be represented using:\n",
    "    - Adjacency Matrix (2D array, O(V²) space).\n",
    "    - Adjacency List (dict or list of lists, O(V+E) space).\n",
    "- For large sparse graphs, adjacency list is more efficient.\n",
    "- Use a Python dictionary where each key = vertex, and value = list of neighbors."
   ]
  },
  {
   "cell_type": "markdown",
   "id": "be931aed-e6ac-4398-a9cc-cd43c98ed91b",
   "metadata": {},
   "source": [
    "### Solution Code"
   ]
  },
  {
   "cell_type": "code",
   "execution_count": 1,
   "id": "57cab10a-c58c-459b-b504-16dc7ee1d0ac",
   "metadata": {},
   "outputs": [],
   "source": [
    "# Approach1: Brute Force Approach (Using Lists)\n",
    "class Graph:\n",
    "    def __init__(self):\n",
    "        self.graph = {}\n",
    "\n",
    "    def add_vertex(self, v):\n",
    "        if v not in self.graph:\n",
    "            self.graph[v] = []\n",
    "\n",
    "    def add_edge(self, u, v):\n",
    "        if u in self.graph and v in self.graph:\n",
    "            self.graph[u].append(v) # Directed edge\n",
    "\n",
    "    def display(self):\n",
    "        for vertex in self.graph:\n",
    "            print(vertex, \"->\", self.graph[vertex])\n"
   ]
  },
  {
   "cell_type": "markdown",
   "id": "9febed86-bc77-49f3-aa50-7adfe033688a",
   "metadata": {},
   "source": [
    "### Alternative Solution"
   ]
  },
  {
   "cell_type": "code",
   "execution_count": 2,
   "id": "3d0f40fa-e3cf-49eb-b872-7290e4cc7f70",
   "metadata": {},
   "outputs": [],
   "source": [
    "# Approach2: Optimized Approach (Using defaultdict)\n",
    "from collections import defaultdict\n",
    "\n",
    "class GraphOptimized:\n",
    "    def __init__(self):\n",
    "        self.graph = defaultdict(list)\n",
    "\n",
    "    def add_vertex(self, v):\n",
    "        _ = self.graph[v]  # Ensures vertex is created even if no edges\n",
    "\n",
    "    def add_edge(self, u, v, directed=True):\n",
    "        self.graph[u].append(v)\n",
    "        if not directed:  # If undirected graph\n",
    "            self.graph[v].append(u)\n",
    "\n",
    "    def display(self):\n",
    "        for vertex in self.graph:\n",
    "            print(vertex, \"->\", self.graph[vertex])\n",
    "    "
   ]
  },
  {
   "cell_type": "markdown",
   "id": "2459abe6-92bc-4283-ad4b-aff83def7ae0",
   "metadata": {},
   "source": [
    "### Alternative Approaches"
   ]
  },
  {
   "cell_type": "markdown",
   "id": "9968c8eb-bc72-4b47-92ab-977b2e022a1e",
   "metadata": {},
   "source": [
    "- Adjacency Matrix → Easier for dense graphs, but takes O(V²) space.\n",
    "- Edge List → Compact, but slower lookups."
   ]
  },
  {
   "cell_type": "markdown",
   "id": "d6a0376a-06d0-45f0-8c7e-c16ff2a673ef",
   "metadata": {},
   "source": [
    "### Test Cases "
   ]
  },
  {
   "cell_type": "code",
   "execution_count": 3,
   "id": "ae26483e-d6b2-4834-98f4-d7566355dc5d",
   "metadata": {},
   "outputs": [
    {
     "name": "stdout",
     "output_type": "stream",
     "text": [
      "Brute Force Graph:\n",
      "A -> ['B', 'C']\n",
      "B -> ['D']\n",
      "C -> ['D']\n",
      "D -> []\n",
      "\n",
      "Optimized Graph (Undirected):\n",
      "1 -> ['2']\n",
      "2 -> ['1', '3']\n",
      "3 -> ['2']\n"
     ]
    }
   ],
   "source": [
    "# Brute Force Graph\n",
    "g = Graph()\n",
    "g.add_vertex(\"A\")\n",
    "g.add_vertex(\"B\")\n",
    "g.add_vertex(\"C\")\n",
    "g.add_vertex(\"D\")\n",
    "\n",
    "g.add_edge(\"A\", \"B\")\n",
    "g.add_edge(\"A\", \"C\")\n",
    "g.add_edge(\"B\", \"D\")\n",
    "g.add_edge(\"C\", \"D\")\n",
    "\n",
    "print(\"Brute Force Graph:\")\n",
    "g.display()\n",
    "\n",
    "# Optimized Graph (Undirected Example)\n",
    "g2 = GraphOptimized()\n",
    "g2.add_vertex(\"1\")\n",
    "g2.add_vertex(\"2\")\n",
    "g2.add_vertex(\"3\")\n",
    "\n",
    "g2.add_edge(\"1\", \"2\", directed=False)\n",
    "g2.add_edge(\"2\", \"3\", directed=False)\n",
    "\n",
    "print(\"\\nOptimized Graph (Undirected):\")\n",
    "g2.display()\n"
   ]
  },
  {
   "cell_type": "markdown",
   "id": "462318bf-672f-4468-9122-070cf70b5af5",
   "metadata": {},
   "source": [
    "## Complexity Analysis"
   ]
  },
  {
   "cell_type": "markdown",
   "id": "3ff61a2e-affa-44cc-b483-573f9dc9b166",
   "metadata": {},
   "source": [
    "- Adding vertex -> O(1)\n",
    "- Adding an edge -> O(1)\n",
    "- Displaying graph -> O(V+E)\n",
    "- Space complexity -> O(V+E)"
   ]
  },
  {
   "cell_type": "markdown",
   "id": "54ae9b22-a3fd-4d97-807c-9deb388d03b1",
   "metadata": {},
   "source": [
    "#### Thank You!!"
   ]
  }
 ],
 "metadata": {
  "kernelspec": {
   "display_name": "Python 3 (ipykernel)",
   "language": "python",
   "name": "python3"
  },
  "language_info": {
   "codemirror_mode": {
    "name": "ipython",
    "version": 3
   },
   "file_extension": ".py",
   "mimetype": "text/x-python",
   "name": "python",
   "nbconvert_exporter": "python",
   "pygments_lexer": "ipython3",
   "version": "3.12.3"
  }
 },
 "nbformat": 4,
 "nbformat_minor": 5
}
