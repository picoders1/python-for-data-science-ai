{
 "cells": [
  {
   "cell_type": "markdown",
   "id": "8a36d3b1-1a8d-478e-8060-6477472e6bd4",
   "metadata": {},
   "source": [
    "# **Problem Statement**  \n",
    "## **29. Implement a Fenwick Tree (Binary Indexed Tree).**"
   ]
  },
  {
   "cell_type": "markdown",
   "id": "97e8eaf4-c67c-4ef9-87dd-a1c242b88a5a",
   "metadata": {},
   "source": [
    "Implement a Fenwick Tree (Binary Indexed Tree) that supports:\n",
    "- Updating an element at a given index.\n",
    "- Querying the prefix sum up to a given index.\n",
    "- Performing range sum queries efficiently.\n",
    "\n",
    "Your implementation should perform both operations in O(log n) time."
   ]
  },
  {
   "cell_type": "markdown",
   "id": "12b96244-784f-44f1-b72a-e69e054e8b67",
   "metadata": {},
   "source": [
    "### Constraints & Example Inputs/Outputs\n",
    "- Array size: 1≤n≤10^5\n",
    "- Values: integers (positive or negative)\n",
    "- Must handle multiple update and query operations efficiently.\n",
    "\n",
    "### Example:\n",
    "```python\n",
    "# Input array: [1, 2, 3, 4, 5]\n",
    "# Build Fenwick Tree\n",
    "sum(3)     # Prefix sum till index 3 (1+2+3+4) = 10\n",
    "update(2, 2)  # Add 2 at index 2 → array becomes [1, 2, 5, 4, 5]\n",
    "sum(3)     # Now prefix sum till index 3 = 1+2+5+4 = 12\n",
    "range_sum(1, 3)  # 2 + 5 + 4 = 11\n"
   ]
  },
  {
   "cell_type": "markdown",
   "id": "b68e7cad-ea42-4bb3-a20e-a91cba6d7424",
   "metadata": {},
   "source": [
    "### Solution Approach"
   ]
  },
  {
   "cell_type": "markdown",
   "id": "144b599f-addb-4686-8425-1f6e6f862acd",
   "metadata": {},
   "source": [
    "##### What is a Fenwick Tree (BIT)?\n",
    "- A Fenwick Tree is a data structure that efficiently supports:\n",
    "    - Prefix sum queries\n",
    "    - Point updates\n",
    "- It uses bit manipulation to represent cumulative frequencies or sums.\n",
    "\n",
    "##### Core Idea\n",
    "- Each index i in the BIT array stores the sum of a range of elements determined by the last set bit of i:\n",
    "  i & (-i)\n",
    "- This expression gives the range size of elements that i is responsible for.\n",
    "\n",
    "##### Key Operations\n",
    "\n",
    "1. Build Tree – Initialize tree in O(n log n)\n",
    "2. Update(index, delta) – Add delta to the element at position index in O(log n)\n",
    "3. Prefix Sum(index) – Compute sum of first index + 1 elements in O(log n)\n",
    "4. Range Sum(left, right) = prefix_sum(right) - prefix_sum(left-1)"
   ]
  },
  {
   "cell_type": "markdown",
   "id": "be931aed-e6ac-4398-a9cc-cd43c98ed91b",
   "metadata": {},
   "source": [
    "### Solution Code"
   ]
  },
  {
   "cell_type": "markdown",
   "id": "8e9b0640-3241-4935-9d9c-24e2552513f2",
   "metadata": {},
   "source": [
    "Brute force → Directly sum over the range → O(n) per query."
   ]
  },
  {
   "cell_type": "code",
   "execution_count": 1,
   "id": "57cab10a-c58c-459b-b504-16dc7ee1d0ac",
   "metadata": {},
   "outputs": [],
   "source": [
    "# Approach1: Brute Force Approach\n",
    "class BruteForceBIT:\n",
    "    def __init__(self, arr):\n",
    "        self.arr = arr\n",
    "\n",
    "    def update(self, index, delta):\n",
    "        self.arr[index] += delta\n",
    "\n",
    "    def prefix_sum(self, index):\n",
    "        return sum(self.arr[:index+1])\n",
    "\n",
    "    def range_sum(self, left, right):\n",
    "        return sum(self.arr[left:right+1])\n"
   ]
  },
  {
   "cell_type": "markdown",
   "id": "9febed86-bc77-49f3-aa50-7adfe033688a",
   "metadata": {},
   "source": [
    "### Alternative Solution"
   ]
  },
  {
   "cell_type": "code",
   "execution_count": 2,
   "id": "3d0f40fa-e3cf-49eb-b872-7290e4cc7f70",
   "metadata": {},
   "outputs": [],
   "source": [
    "# Approach2: Optimized Fenwick Tree\n",
    "# Efficient implementation using bit manipulation.\n",
    "class FenwickTree:\n",
    "    def __init__(self, arr):\n",
    "        self.n = len(arr)\n",
    "        self.bit = [0] * (self.n + 1)  # 1-based indexing\n",
    "        for i, val in enumerate(arr):\n",
    "            self.update(i, val)\n",
    "\n",
    "    def update(self, index, delta):\n",
    "        index += 1  # convert to 1-based index\n",
    "        while index <= self.n:\n",
    "            self.bit[index] += delta\n",
    "            index += index & -index  # move to parent\n",
    "\n",
    "    def prefix_sum(self, index):\n",
    "        index += 1\n",
    "        result = 0\n",
    "        while index > 0:\n",
    "            result += self.bit[index]\n",
    "            index -= index & -index  # move to ancestor\n",
    "        return result\n",
    "\n",
    "    def range_sum(self, left, right):\n",
    "        return self.prefix_sum(right) - self.prefix_sum(left - 1)\n"
   ]
  },
  {
   "cell_type": "markdown",
   "id": "2459abe6-92bc-4283-ad4b-aff83def7ae0",
   "metadata": {},
   "source": [
    "### Alternative Approaches"
   ]
  },
  {
   "cell_type": "markdown",
   "id": "9968c8eb-bc72-4b47-92ab-977b2e022a1e",
   "metadata": {},
   "source": [
    "| Approach     | Query    | Update   | Build      | Notes                                       |\n",
    "| ------------ | -------- | -------- | ---------- | ------------------------------------------- |\n",
    "| Brute Force  | O(n)     | O(1)     | O(1)       | Simple but slow                             |\n",
    "| Fenwick Tree | O(log n) | O(log n) | O(n log n) | Compact and efficient                       |\n",
    "| Segment Tree | O(log n) | O(log n) | O(n)       | Handles more complex queries (like min/max) |\n"
   ]
  },
  {
   "cell_type": "markdown",
   "id": "d6a0376a-06d0-45f0-8c7e-c16ff2a673ef",
   "metadata": {},
   "source": [
    "### Test Cases "
   ]
  },
  {
   "cell_type": "code",
   "execution_count": 3,
   "id": "ae26483e-d6b2-4834-98f4-d7566355dc5d",
   "metadata": {},
   "outputs": [
    {
     "name": "stdout",
     "output_type": "stream",
     "text": [
      "Testing Brute Force BIT\n",
      "All test cases passed for BruteForceBIT!\n",
      "\n",
      "Testing Optimized Fenwick Tree\n",
      "All test cases passed for FenwickTree!\n"
     ]
    }
   ],
   "source": [
    "def test_bit(cls):\n",
    "    arr = [1, 2, 3, 4, 5]\n",
    "    ft = cls(arr)\n",
    "\n",
    "    # Test prefix sums\n",
    "    assert ft.prefix_sum(0) == 1\n",
    "    assert ft.prefix_sum(2) == 6  # 1+2+3\n",
    "    assert ft.prefix_sum(4) == 15  # 1+2+3+4+5\n",
    "\n",
    "    # Test range sums\n",
    "    assert ft.range_sum(1, 3) == 9  # 2+3+4\n",
    "    assert ft.range_sum(0, 4) == 15\n",
    "\n",
    "    # Test updates\n",
    "    ft.update(2, 2)  # arr becomes [1, 2, 5, 4, 5]\n",
    "    assert ft.prefix_sum(2) == 8  # 1+2+5\n",
    "    assert ft.range_sum(2, 4) == 14  # 5+4+5\n",
    "\n",
    "    print(f\"All test cases passed for {cls.__name__}!\")\n",
    "\n",
    "print(\"Testing Brute Force BIT\")\n",
    "test_bit(BruteForceBIT)\n",
    "\n",
    "print(\"\\nTesting Optimized Fenwick Tree\")\n",
    "test_bit(FenwickTree)\n"
   ]
  },
  {
   "cell_type": "markdown",
   "id": "462318bf-672f-4468-9122-070cf70b5af5",
   "metadata": {},
   "source": [
    "## Complexity Analysis"
   ]
  },
  {
   "cell_type": "markdown",
   "id": "3ff61a2e-affa-44cc-b483-573f9dc9b166",
   "metadata": {},
   "source": [
    "| Operation  | Brute Force | Fenwick Tree |\n",
    "| ---------- | ----------- | ------------ |\n",
    "| Build      | O(n)        | O(n log n)   |\n",
    "| Update     | O(1)        | O(log n)     |\n",
    "| Prefix Sum | O(n)        | O(log n)     |\n",
    "| Range Sum  | O(n)        | O(log n)     |\n",
    "| Space      | O(n)        | O(n)         |\n"
   ]
  },
  {
   "cell_type": "markdown",
   "id": "54ae9b22-a3fd-4d97-807c-9deb388d03b1",
   "metadata": {},
   "source": [
    "#### Thank You!!"
   ]
  }
 ],
 "metadata": {
  "kernelspec": {
   "display_name": "Python 3 (ipykernel)",
   "language": "python",
   "name": "python3"
  },
  "language_info": {
   "codemirror_mode": {
    "name": "ipython",
    "version": 3
   },
   "file_extension": ".py",
   "mimetype": "text/x-python",
   "name": "python",
   "nbconvert_exporter": "python",
   "pygments_lexer": "ipython3",
   "version": "3.12.3"
  }
 },
 "nbformat": 4,
 "nbformat_minor": 5
}
