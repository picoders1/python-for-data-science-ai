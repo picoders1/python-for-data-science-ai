{
 "cells": [
  {
   "cell_type": "markdown",
   "id": "8a36d3b1-1a8d-478e-8060-6477472e6bd4",
   "metadata": {},
   "source": [
    "# **Problem Statement**  \n",
    "## **11. Implement a min-heap and max-heap**"
   ]
  },
  {
   "cell_type": "markdown",
   "id": "97e8eaf4-c67c-4ef9-87dd-a1c242b88a5a",
   "metadata": {},
   "source": [
    "Implement both Min-Heap and Max-Heap with the following operations:\n",
    "\n",
    "- insert(key) → Insert a new element.\n",
    "- extract_min() / extract_max() → Remove and return the minimum/maximum element.\n",
    "- peek_min() / peek_max() → Return the min/max without removing it.\n",
    "- heapify() → Convert an array into a heap.\n",
    "- delete(key) → Delete a specific key from the heap.\n",
    "\n",
    "Implement both heaps from scratch without using Python’s built-in `heapq` module."
   ]
  },
  {
   "cell_type": "markdown",
   "id": "12b96244-784f-44f1-b72a-e69e054e8b67",
   "metadata": {},
   "source": [
    "### Constraints & Example Inputs/Outputs\n",
    "\n",
    "- Heap is a complete binary tree (always filled level by level).\n",
    "- Time complexity target: O(log n) for insert/delete.\n",
    "- Can assume all keys are integers.\n",
    "\n",
    "### Example:\n",
    "\n",
    "Input sequence (insertions): [10, 4, 15, 20, 0, 8]\n",
    "\n",
    "- Min-Heap after insertions → [0, 4, 8, 20, 10, 15]\n",
    "- extract_min() → returns 0\n",
    "- Heap after extraction → [4, 10, 8, 20, 15]\n",
    "- Max-Heap after insertions → [20, 10, 15, 4, 0, 8]\n",
    "- extract_max() → returns 20\n",
    "- Heap after extraction → [15, 10, 8, 4, 0]\n"
   ]
  },
  {
   "cell_type": "markdown",
   "id": "b68e7cad-ea42-4bb3-a20e-a91cba6d7424",
   "metadata": {},
   "source": [
    "### Solution Approach"
   ]
  },
  {
   "cell_type": "markdown",
   "id": "144b599f-addb-4686-8425-1f6e6f862acd",
   "metadata": {},
   "source": [
    "Here are the possible approache:\n",
    "\n",
    "- A heap is represented as an array.\n",
    "- Parent and child relations:\n",
    "    - Left child: 2*i + 1\n",
    "    - Right child: 2*i + 2\n",
    "    - Parent: (i-1)//2\n",
    "\n",
    "- Insert: Place element at end → bubble up.\n",
    "\n",
    "- Extract: Replace root with last element → bubble down.\n",
    "\n",
    "- Difference between Min-Heap and Max-Heap is just the comparison operator (< vs >)."
   ]
  },
  {
   "cell_type": "markdown",
   "id": "be931aed-e6ac-4398-a9cc-cd43c98ed91b",
   "metadata": {},
   "source": [
    "### Solution Code"
   ]
  },
  {
   "cell_type": "code",
   "execution_count": 4,
   "id": "57cab10a-c58c-459b-b504-16dc7ee1d0ac",
   "metadata": {},
   "outputs": [],
   "source": [
    "# Approach1: Brute Force & Optimimized Approach\n",
    "class MinHeap:\n",
    "    def __init__(self):\n",
    "        self.heap = []\n",
    "        \n",
    "    def parent(self, i): return (i - 1) // 2\n",
    "    def left(self, i): return 2 * i + 1\n",
    "    def right(self, i): return 2 * i + 2\n",
    "    \n",
    "    def insert(self, key):\n",
    "        self.heap.append(key)\n",
    "        self._bubble_up(len(self.heap) - 1)\n",
    "        \n",
    "    def _bubble_up(self, i):\n",
    "        while i > 0 and self.heap[i] < self.heap[self.parent(i)]:\n",
    "            self.heap[i], self.heap[self.parent(i)] = self.heap[self.parent(i)], self.heap[i]\n",
    "            i = self.parent(i)\n",
    "            \n",
    "    def extract_min(self):\n",
    "        if not self.heap:\n",
    "            return None\n",
    "        if len(self.heap) == 1:\n",
    "            return self.heap.pop()\n",
    "        root = self.heap[0]\n",
    "        self.heap[0] = self.heap.pop()\n",
    "        self._heapify(0)\n",
    "        return root\n",
    "    \n",
    "    def _heapify(self, i):\n",
    "        smallest = i\n",
    "        l, r = self.left(i), self.right(i)\n",
    "        \n",
    "        if l < len(self.heap) and self.heap[l] < self.heap[smallest]:\n",
    "            smallest = l\n",
    "        if r < len(self.heap) and self.heap[r] < self.heap[smallest]:\n",
    "            smallest = r\n",
    "            \n",
    "        if smallest != i:\n",
    "            self.heap[i], self.heap[smallest] = self.heap[smallest], self.heap[i]\n",
    "            self._heapify(smallest)\n",
    "\n",
    "class MaxHeap(MinHeap):\n",
    "    def _bubble_up(self, i):\n",
    "        while i > 0 and self.heap[i] > self.heap[self.parent(i)]:\n",
    "            self.heap[i], self.heap[self.parent(i)] = self.heap[self.parent(i)], self.heap[i]\n",
    "            i = self.parent(i)\n",
    "\n",
    "    def _heapify(self, i):\n",
    "        largest = i\n",
    "        l, r = self.left(i), self.right(i)\n",
    "        \n",
    "        if l < len(self.heap) and self.heap[l] > self.heap[largest]:\n",
    "            largest = l\n",
    "        if r < len(self.heap) and self.heap[r] > self.heap[largest]:\n",
    "            largest = r\n",
    "            \n",
    "        if largest != i:\n",
    "            self.heap[i], self.heap[largest] = self.heap[largest], self.heap[i]\n",
    "            self._heapify(largest)\n",
    "\n",
    "    def extract_max(self):\n",
    "        if not self.heap:\n",
    "            return None\n",
    "        if len(self.heap) == 1:\n",
    "            return self.heap.pop()\n",
    "        root = self.heap[0]\n",
    "        self.heap[0] = self.heap.pop()\n",
    "        self._heapify(0)\n",
    "        return root\n"
   ]
  },
  {
   "cell_type": "markdown",
   "id": "9febed86-bc77-49f3-aa50-7adfe033688a",
   "metadata": {},
   "source": [
    "### Alternative Solution"
   ]
  },
  {
   "cell_type": "markdown",
   "id": "feabdb44-ae4d-4ca3-a5a3-da381edd6031",
   "metadata": {},
   "source": [
    "- Use Python’s built-in `heapq` (Min-Heap by default, Max-Heap simulated with negative values).\n",
    "\n",
    "- Useful in real-world applications for priority queues."
   ]
  },
  {
   "cell_type": "markdown",
   "id": "d6a0376a-06d0-45f0-8c7e-c16ff2a673ef",
   "metadata": {},
   "source": [
    "### Test Cases "
   ]
  },
  {
   "cell_type": "code",
   "execution_count": 5,
   "id": "ae26483e-d6b2-4834-98f4-d7566355dc5d",
   "metadata": {},
   "outputs": [
    {
     "name": "stdout",
     "output_type": "stream",
     "text": [
      "Min Heap: [0, 4, 8, 20, 10, 15]\n",
      "Extract Min: 0\n",
      "Min Heap after extraction: [4, 10, 8, 20, 15]\n",
      "Max Heap: [20, 15, 10, 4, 0, 8]\n",
      "Extract Max: 20\n",
      "Max Heap after extraction: [15, 8, 10, 4, 0]\n"
     ]
    }
   ],
   "source": [
    "# Min Heap Test\n",
    "min_heap = MinHeap()\n",
    "for num in [10, 4, 15, 20, 0, 8]:\n",
    "    min_heap.insert(num)\n",
    "print(\"Min Heap:\", min_heap.heap)  # Expected: [0, 4, 8, 20, 10, 15]\n",
    "\n",
    "print(\"Extract Min:\", min_heap.extract_min())  # Expected: 0\n",
    "print(\"Min Heap after extraction:\", min_heap.heap)  # Expected: [4, 10, 8, 20, 15]\n",
    "\n",
    "# Max Heap Test\n",
    "max_heap = MaxHeap()\n",
    "for num in [10, 4, 15, 20, 0, 8]:\n",
    "    max_heap.insert(num)\n",
    "print(\"Max Heap:\", max_heap.heap)  # Expected: [20, 10, 15, 4, 0, 8]\n",
    "\n",
    "print(\"Extract Max:\", max_heap.extract_max())  # Expected: 20\n",
    "print(\"Max Heap after extraction:\", max_heap.heap)  # Expected: [15, 10, 8, 4, 0]\n"
   ]
  },
  {
   "cell_type": "markdown",
   "id": "462318bf-672f-4468-9122-070cf70b5af5",
   "metadata": {},
   "source": [
    "## Complexity Analysis"
   ]
  },
  {
   "cell_type": "markdown",
   "id": "3ff61a2e-affa-44cc-b483-573f9dc9b166",
   "metadata": {},
   "source": [
    "- Insert: O(log n)\n",
    "\n",
    "- Extract (min/max): O(log n)\n",
    "\n",
    "- Peek: O(1)\n",
    "\n",
    "- Heapify entire array: O(n) (bottom-up approach)."
   ]
  },
  {
   "cell_type": "markdown",
   "id": "54ae9b22-a3fd-4d97-807c-9deb388d03b1",
   "metadata": {},
   "source": [
    "#### Thank You!!"
   ]
  }
 ],
 "metadata": {
  "kernelspec": {
   "display_name": "Python 3 (ipykernel)",
   "language": "python",
   "name": "python3"
  },
  "language_info": {
   "codemirror_mode": {
    "name": "ipython",
    "version": 3
   },
   "file_extension": ".py",
   "mimetype": "text/x-python",
   "name": "python",
   "nbconvert_exporter": "python",
   "pygments_lexer": "ipython3",
   "version": "3.12.3"
  }
 },
 "nbformat": 4,
 "nbformat_minor": 5
}
