{
 "cells": [
  {
   "cell_type": "markdown",
   "id": "8a36d3b1-1a8d-478e-8060-6477472e6bd4",
   "metadata": {},
   "source": [
    "# **Problem Statement**  \n",
    "## **31. Implement a Bloom Filter**"
   ]
  },
  {
   "cell_type": "markdown",
   "id": "97e8eaf4-c67c-4ef9-87dd-a1c242b88a5a",
   "metadata": {},
   "source": [
    "Implement a Bloom Filter, a space-efficient probabilistic data structure that is used to test whether an element is possibly in a set or definitely not in a set.\n",
    "\n",
    "Bloom filters allow false positives but no false negatives — meaning if the filter says an item is not in the set, it’s guaranteed to be true; but if it says it is, it might be wrong (a small chance of false positive).\n",
    "\n",
    "You must design the following methods:\n",
    "1. add(item) – Add an item to the Bloom filter.\n",
    "2. check(item) – Return True if the item might be present, or False if definitely not present."
   ]
  },
  {
   "cell_type": "markdown",
   "id": "12b96244-784f-44f1-b72a-e69e054e8b67",
   "metadata": {},
   "source": [
    "### Constraints & Example Inputs/Outputs\n",
    "\n",
    "- n≤10^6 expected insertions\n",
    "- False positive rate p≤0.01\n",
    "- Elements are hashable (e.g., strings, integers).\n",
    "\n",
    "### Example 1:\n",
    "```python\n",
    "bloom = BloomFilter(size=1000, hash_count=3)\n",
    "bloom.add(\"apple\")\n",
    "bloom.add(\"banana\")\n",
    "\n",
    "bloom.check(\"apple\")   # → True (probably)\n",
    "bloom.check(\"grape\")   # → False (definitely not)\n"
   ]
  },
  {
   "cell_type": "markdown",
   "id": "b68e7cad-ea42-4bb3-a20e-a91cba6d7424",
   "metadata": {},
   "source": [
    "### Solution Approach"
   ]
  },
  {
   "cell_type": "markdown",
   "id": "144b599f-addb-4686-8425-1f6e6f862acd",
   "metadata": {},
   "source": [
    "A Bloom filter uses:\n",
    "- A bit array of size m initialized to all 0s.\n",
    "- k independent hash functions that map each element to a bit index in [0, m-1].\n",
    "\n",
    "When adding an element:\n",
    "- Compute all k hash values for the item.\n",
    "- Set those indices in the bit array to 1.\n",
    "\n",
    "When checking membership:\n",
    "- Compute all k hash indices again.\n",
    "- If any of them is 0, item is definitely not in the set.\n",
    "- If all are 1, item is probably in the set."
   ]
  },
  {
   "cell_type": "markdown",
   "id": "be931aed-e6ac-4398-a9cc-cd43c98ed91b",
   "metadata": {},
   "source": [
    "### Solution Code"
   ]
  },
  {
   "cell_type": "code",
   "execution_count": 1,
   "id": "57cab10a-c58c-459b-b504-16dc7ee1d0ac",
   "metadata": {},
   "outputs": [],
   "source": [
    "# Approach1: Brute Force Approach (For Conceptual Comparison)\n",
    "# A brute-force set comparison (exact membership checking) can be shown as a reference baseline.\n",
    "\n",
    "class ExactSet:\n",
    "    def __init__(self):\n",
    "        self.data = set()\n",
    "\n",
    "    def add(self, item):\n",
    "        self.data.add(item)\n",
    "\n",
    "    def check(self, item):\n",
    "        return item in self.data"
   ]
  },
  {
   "cell_type": "markdown",
   "id": "17a18f8e-62a5-4bcc-a3b8-2fed7ddc0609",
   "metadata": {},
   "source": [
    "Time Complexity: O(1) per operation\n",
    "\n",
    "Space Complexity: O(n) (can be large)"
   ]
  },
  {
   "cell_type": "markdown",
   "id": "9febed86-bc77-49f3-aa50-7adfe033688a",
   "metadata": {},
   "source": [
    "### Alternative Solution"
   ]
  },
  {
   "cell_type": "code",
   "execution_count": 3,
   "id": "11af962f-ad8c-43d0-983d-e00f60fa148a",
   "metadata": {},
   "outputs": [
    {
     "name": "stdout",
     "output_type": "stream",
     "text": [
      "Collecting mmh3\n",
      "  Downloading mmh3-5.2.0-cp312-cp312-manylinux1_x86_64.manylinux_2_28_x86_64.manylinux_2_5_x86_64.whl.metadata (14 kB)\n",
      "Downloading mmh3-5.2.0-cp312-cp312-manylinux1_x86_64.manylinux_2_28_x86_64.manylinux_2_5_x86_64.whl (103 kB)\n",
      "Installing collected packages: mmh3\n",
      "Successfully installed mmh3-5.2.0\n"
     ]
    }
   ],
   "source": [
    "!pip3 install mmh3"
   ]
  },
  {
   "cell_type": "code",
   "execution_count": 5,
   "id": "c8097cb0-5342-4059-9577-01590ce6e2bb",
   "metadata": {},
   "outputs": [
    {
     "name": "stdout",
     "output_type": "stream",
     "text": [
      "Collecting bitarray\n",
      "  Downloading bitarray-3.7.2-cp312-cp312-manylinux2014_x86_64.manylinux_2_17_x86_64.manylinux_2_28_x86_64.whl.metadata (34 kB)\n",
      "Downloading bitarray-3.7.2-cp312-cp312-manylinux2014_x86_64.manylinux_2_17_x86_64.manylinux_2_28_x86_64.whl (339 kB)\n",
      "Installing collected packages: bitarray\n",
      "Successfully installed bitarray-3.7.2\n"
     ]
    }
   ],
   "source": [
    "!pip3 install bitarray"
   ]
  },
  {
   "cell_type": "code",
   "execution_count": 7,
   "id": "3d0f40fa-e3cf-49eb-b872-7290e4cc7f70",
   "metadata": {},
   "outputs": [],
   "source": [
    "# Approach2: Optimized Approach (Bloom Filter Implementation)\n",
    "import math\n",
    "import mmh3  # MurmurHash3\n",
    "from bitarray import bitarray\n",
    "\n",
    "class BloomFilter:\n",
    "    def __init__(self, n, p):\n",
    "        \"\"\"\n",
    "        n: Expected number of elements\n",
    "        p: Desired false positive probability\n",
    "        \"\"\"\n",
    "        self.size = self.get_size(n, p)\n",
    "        self.hash_count = self.get_hash_count(self.size, n)\n",
    "        self.bit_array = bitarray(self.size)\n",
    "        self.bit_array.setall(0)\n",
    "\n",
    "    def add(self, item):\n",
    "        for i in range(self.hash_count):\n",
    "            index = mmh3.hash(item, i) % self.size\n",
    "            self.bit_array[index] = 1\n",
    "\n",
    "    def check(self, item):\n",
    "        for i in range(self.hash_count):\n",
    "            index = mmh3.hash(item, i) % self.size\n",
    "            if self.bit_array[index] == 0:\n",
    "                return False\n",
    "        return True\n",
    "\n",
    "    @staticmethod\n",
    "    def get_size(n, p):\n",
    "        \"\"\"Returns the size of bit array (m) to use for n items and false positive rate p\"\"\"\n",
    "        m = -(n * math.log(p)) / (math.log(2)**2)\n",
    "        return int(m)\n",
    "\n",
    "    @staticmethod\n",
    "    def get_hash_count(m, n):\n",
    "        \"\"\"Returns the optimal number of hash functions (k)\"\"\"\n",
    "        k = (m / n) * math.log(2)\n",
    "        return int(k)\n"
   ]
  },
  {
   "cell_type": "markdown",
   "id": "7bdb7570-8dd6-493f-938c-fff467eca9ee",
   "metadata": {},
   "source": [
    "### Step by step walkthrough"
   ]
  },
  {
   "cell_type": "markdown",
   "id": "ea756b08-1f3d-4a0c-8839-259591c4c4bf",
   "metadata": {},
   "source": [
    "Example Initialization\n",
    "\n",
    "For 10,000 expected items and 1% false positive rate:\n",
    "\n",
    "- Bit array size ≈ 95,875 bits (~12 KB)\n",
    "- Number of hash functions ≈ 7\n",
    "\n",
    "So, we trade a few bits of memory for huge space savings and O(k) lookup time."
   ]
  },
  {
   "cell_type": "markdown",
   "id": "2459abe6-92bc-4283-ad4b-aff83def7ae0",
   "metadata": {},
   "source": [
    "### Alternative Approaches"
   ]
  },
  {
   "cell_type": "markdown",
   "id": "9968c8eb-bc72-4b47-92ab-977b2e022a1e",
   "metadata": {},
   "source": [
    "| Method                    | Description                         | Pros                  | Cons                      |\n",
    "| ------------------------- | ----------------------------------- | --------------------- | ------------------------- |\n",
    "| **Counting Bloom Filter** | Uses counters instead of bits       | Supports deletion     | Slightly higher memory    |\n",
    "| **Cuckoo Filter**         | Alternative structure using buckets | Lower false positives | More complex to implement |\n"
   ]
  },
  {
   "cell_type": "markdown",
   "id": "d6a0376a-06d0-45f0-8c7e-c16ff2a673ef",
   "metadata": {},
   "source": [
    "### Test Cases "
   ]
  },
  {
   "cell_type": "code",
   "execution_count": 8,
   "id": "ae26483e-d6b2-4834-98f4-d7566355dc5d",
   "metadata": {},
   "outputs": [
    {
     "name": "stdout",
     "output_type": "stream",
     "text": [
      "Elements added correctly detected.\n",
      "False positives detected: 0/3\n"
     ]
    }
   ],
   "source": [
    "def test_bloom_filter():\n",
    "    bloom = BloomFilter(n=1000, p=0.01)\n",
    "    elements_added = [\"apple\", \"banana\", \"cherry\", \"mango\"]\n",
    "    elements_not_added = [\"grape\", \"pineapple\", \"kiwi\"]\n",
    "\n",
    "    # Add elements\n",
    "    for e in elements_added:\n",
    "        bloom.add(e)\n",
    "\n",
    "    # Check elements (added ones)\n",
    "    for e in elements_added:\n",
    "        assert bloom.check(e), f\"{e} should probably be in the Bloom Filter\"\n",
    "\n",
    "    # Check elements (not added)\n",
    "    false_positive_count = 0\n",
    "    for e in elements_not_added:\n",
    "        if bloom.check(e):\n",
    "            false_positive_count += 1\n",
    "\n",
    "    print(\"Elements added correctly detected.\")\n",
    "    print(f\"False positives detected: {false_positive_count}/{len(elements_not_added)}\")\n",
    "\n",
    "test_bloom_filter()\n"
   ]
  },
  {
   "cell_type": "markdown",
   "id": "462318bf-672f-4468-9122-070cf70b5af5",
   "metadata": {},
   "source": [
    "## Complexity Analysis"
   ]
  },
  {
   "cell_type": "markdown",
   "id": "3ff61a2e-affa-44cc-b483-573f9dc9b166",
   "metadata": {},
   "source": [
    "| Operation | Time Complexity   | Space Complexity | Notes                      |\n",
    "| --------- | ----------------- | ---------------- | -------------------------- |\n",
    "| Add       | O(k)              | O(m) bits        | Very efficient             |\n",
    "| Check     | O(k)              | O(m) bits        | False positives possible   |\n",
    "| Delete    | Not supported     | —                | Cannot remove items safely |\n",
    "| Accuracy  | Controlled by `p` | —                | Lower `p` = larger memory  |\n"
   ]
  },
  {
   "cell_type": "markdown",
   "id": "54ae9b22-a3fd-4d97-807c-9deb388d03b1",
   "metadata": {},
   "source": [
    "#### Thank You!!"
   ]
  }
 ],
 "metadata": {
  "kernelspec": {
   "display_name": "Python 3 (ipykernel)",
   "language": "python",
   "name": "python3"
  },
  "language_info": {
   "codemirror_mode": {
    "name": "ipython",
    "version": 3
   },
   "file_extension": ".py",
   "mimetype": "text/x-python",
   "name": "python",
   "nbconvert_exporter": "python",
   "pygments_lexer": "ipython3",
   "version": "3.12.3"
  }
 },
 "nbformat": 4,
 "nbformat_minor": 5
}
