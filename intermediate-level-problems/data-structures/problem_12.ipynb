{
 "cells": [
  {
   "cell_type": "markdown",
   "id": "8a36d3b1-1a8d-478e-8060-6477472e6bd4",
   "metadata": {},
   "source": [
    "# **Problem Statement**  \n",
    "## **12. Find the k-th smallest element in a BST**"
   ]
  },
  {
   "cell_type": "markdown",
   "id": "97e8eaf4-c67c-4ef9-87dd-a1c242b88a5a",
   "metadata": {},
   "source": [
    "Given a Binary Search Tree (BST), find the k-th smallest element in it.\n",
    "\n",
    "The k-th smallest element is defined as the element that appears in sorted order when all elements of the BST are traversed."
   ]
  },
  {
   "cell_type": "markdown",
   "id": "12b96244-784f-44f1-b72a-e69e054e8b67",
   "metadata": {},
   "source": [
    "### Constraints & Example Inputs/Outputs\n",
    "\n",
    "- BST property: left < root < right.\n",
    "- 1 <= k <= N (where N = number of nodes).\n",
    "- If k is invalid (e.g., larger than N), return None.\n",
    "  \n",
    "### Example1:\n",
    "\n",
    "Input BST: \n",
    "\n",
    "        5\n",
    "        \n",
    "       / \\\n",
    "      \n",
    "      3   7\n",
    "     \n",
    "     / \\   \\\n",
    "    \n",
    "    2   4   8\n",
    "    \n",
    "Output: \n",
    "if `k = 3` then Output = `4`\n",
    "\n",
    "if `k = 1` then Output = `2`\n",
    "\n",
    "if `k = 5` then Output = `7`\n",
    "\n",
    "### Example2:\n",
    "\n",
    "Input BST:\n",
    "\n",
    "    10\n",
    "    \n",
    "    / \\\n",
    "\n",
    "    5  15 \n",
    " \n",
    "          \n",
    "Output: \n",
    "if `k = 2` then Output = `10`\n",
    "\n",
    "if `k = 3` then Output = `15`\n"
   ]
  },
  {
   "cell_type": "markdown",
   "id": "b68e7cad-ea42-4bb3-a20e-a91cba6d7424",
   "metadata": {},
   "source": [
    "### Solution Approach"
   ]
  },
  {
   "cell_type": "markdown",
   "id": "144b599f-addb-4686-8425-1f6e6f862acd",
   "metadata": {},
   "source": [
    "Here are the 2 best possible approaches:\n",
    "\n",
    "##### Brute Force Approach:\n",
    "\n",
    "- Do an inorder traversal of the BST.\n",
    "- Collect all nodes in a list (which will be sorted).\n",
    "- Return the k-1 index element.\n",
    "- Time: O(N), Space: O(N).\n",
    "\n",
    "##### Optimized Approach:\n",
    "\n",
    "- Inorder traversal with a counter (don’t store all elements).\n",
    "- Stop once the k-th element is reached.\n",
    "- Time: O(H + k) where H = tree height, Space: O(H) recursion stack."
   ]
  },
  {
   "cell_type": "markdown",
   "id": "be931aed-e6ac-4398-a9cc-cd43c98ed91b",
   "metadata": {},
   "source": [
    "### Solution Code"
   ]
  },
  {
   "cell_type": "code",
   "execution_count": 1,
   "id": "57cab10a-c58c-459b-b504-16dc7ee1d0ac",
   "metadata": {},
   "outputs": [],
   "source": [
    "# Approach1: Brute Force & Optimized Approach\n",
    "class TreeNode:\n",
    "    def __init__(self, val):\n",
    "        self.val = val\n",
    "        self.left = None\n",
    "        self.right = None\n",
    "\n",
    "\n",
    "def kth_smallest_bruteforce(root, k):\n",
    "    inorder = []\n",
    "\n",
    "    def dfs(node):\n",
    "        if not node: return\n",
    "        dfs(node.left)\n",
    "        inorder.append(node.val)\n",
    "        dfs(node.right)\n",
    "\n",
    "    dfs(root)\n",
    "    return inorder[k-1] if 0 < k <= len(inorder) else None\n",
    "\n",
    "\n",
    "def kth_smallest_optimized(root, k):\n",
    "    stack = []\n",
    "    count = 0\n",
    "\n",
    "    while root or stack:\n",
    "        while root:\n",
    "            stack.append(root)\n",
    "            root = root.left\n",
    "\n",
    "        root = stack.pop()\n",
    "        count += 1\n",
    "        if count == k:\n",
    "            return root.val\n",
    "        root = root.right\n",
    "    return None"
   ]
  },
  {
   "cell_type": "markdown",
   "id": "9febed86-bc77-49f3-aa50-7adfe033688a",
   "metadata": {},
   "source": [
    "### Alternative Solution"
   ]
  },
  {
   "cell_type": "markdown",
   "id": "b590ec95-4aea-4d2c-853b-55e71dbe9c1a",
   "metadata": {},
   "source": [
    "- Using Augmented BST: Store subtree sizes in each node → O(log N) queries.\n",
    "- Using Iterative Inorder with Stack: Useful for very large trees where recursion depth may cause issues."
   ]
  },
  {
   "cell_type": "markdown",
   "id": "2459abe6-92bc-4283-ad4b-aff83def7ae0",
   "metadata": {},
   "source": [
    "### Alternative Approaches"
   ]
  },
  {
   "cell_type": "markdown",
   "id": "9968c8eb-bc72-4b47-92ab-977b2e022a1e",
   "metadata": {},
   "source": [
    "- Brute Force (Recursive) → simple but inefficient for skewed trees.\n",
    "- BFS using Queue → optimal approach.\n",
    "- DFS with level tracking → pass current depth to recursive DFS, push into result[level]."
   ]
  },
  {
   "cell_type": "markdown",
   "id": "d6a0376a-06d0-45f0-8c7e-c16ff2a673ef",
   "metadata": {},
   "source": [
    "### Test Cases "
   ]
  },
  {
   "cell_type": "code",
   "execution_count": 2,
   "id": "ae26483e-d6b2-4834-98f4-d7566355dc5d",
   "metadata": {},
   "outputs": [
    {
     "name": "stdout",
     "output_type": "stream",
     "text": [
      "Brute Force:\n",
      "2\n",
      "4\n",
      "7\n",
      "Optimized:\n",
      "2\n",
      "4\n",
      "7\n",
      "None\n"
     ]
    }
   ],
   "source": [
    "# Helper function to insert into BST\n",
    "def insert(root, val):\n",
    "    if not root:\n",
    "        return TreeNode(val)\n",
    "    if val < root.val:\n",
    "        root.left = insert(root.left, val)\n",
    "    else:\n",
    "        root.right = insert(root.right, val)\n",
    "    return root\n",
    "\n",
    "# Build BST\n",
    "values = [5, 3, 7, 2, 4, 8]\n",
    "root = None\n",
    "for v in values:\n",
    "    root = insert(root, v)\n",
    "\n",
    "# Test cases\n",
    "print(\"Brute Force:\")\n",
    "print(kth_smallest_bruteforce(root, 1))  # Expected 2\n",
    "print(kth_smallest_bruteforce(root, 3))  # Expected 4\n",
    "print(kth_smallest_bruteforce(root, 5))  # Expected 7\n",
    "\n",
    "print(\"Optimized:\")\n",
    "print(kth_smallest_optimized(root, 1))  # Expected 2\n",
    "print(kth_smallest_optimized(root, 3))  # Expected 4\n",
    "print(kth_smallest_optimized(root, 5))  # Expected 7\n",
    "\n",
    "# Edge case: k too large\n",
    "print(kth_smallest_optimized(root, 10))  # Expected None\n"
   ]
  },
  {
   "cell_type": "markdown",
   "id": "462318bf-672f-4468-9122-070cf70b5af5",
   "metadata": {},
   "source": [
    "## Complexity Analysis"
   ]
  },
  {
   "cell_type": "markdown",
   "id": "3ff61a2e-affa-44cc-b483-573f9dc9b166",
   "metadata": {},
   "source": [
    "##### Brute Force:\n",
    "\n",
    "- Time: O((N) (traversal)\n",
    "- Space: O(N) (storing inorder list)\n",
    "\n",
    "#### Optimized BFS:\n",
    "\n",
    "- Time: O(H + K) (H=height of tree)\n",
    "- Space: O(H) (recursion stack)"
   ]
  },
  {
   "cell_type": "markdown",
   "id": "54ae9b22-a3fd-4d97-807c-9deb388d03b1",
   "metadata": {},
   "source": [
    "#### Thank You!!"
   ]
  }
 ],
 "metadata": {
  "kernelspec": {
   "display_name": "Python 3 (ipykernel)",
   "language": "python",
   "name": "python3"
  },
  "language_info": {
   "codemirror_mode": {
    "name": "ipython",
    "version": 3
   },
   "file_extension": ".py",
   "mimetype": "text/x-python",
   "name": "python",
   "nbconvert_exporter": "python",
   "pygments_lexer": "ipython3",
   "version": "3.12.3"
  }
 },
 "nbformat": 4,
 "nbformat_minor": 5
}
