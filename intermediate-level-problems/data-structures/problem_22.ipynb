{
 "cells": [
  {
   "cell_type": "markdown",
   "id": "8a36d3b1-1a8d-478e-8060-6477472e6bd4",
   "metadata": {},
   "source": [
    "# **Problem Statement**  \n",
    "## **22. Design a data structure that supports insert, delete, search, and getRandom in constant time.**"
   ]
  },
  {
   "cell_type": "markdown",
   "id": "97e8eaf4-c67c-4ef9-87dd-a1c242b88a5a",
   "metadata": {},
   "source": [
    "Design and implement a data structure that supports the following operations in average O(1) time:\n",
    "\n",
    "- insert(val) → Inserts the item if not present.\n",
    "- remove(val) → Removes the item if present.\n",
    "- search(val) → Checks if the item exists.\n",
    "- getRandom() → Returns a random element from the data structure, each element should have equal probability of being returned."
   ]
  },
  {
   "cell_type": "markdown",
   "id": "12b96244-784f-44f1-b72a-e69e054e8b67",
   "metadata": {},
   "source": [
    "### Constraints & Example Inputs/Outputs\n",
    "\n",
    "- Values: integers\n",
    "- Allowed operations: insert, remove, search, getRandom\n",
    "- All operations should run in O(1) average time.\n",
    "\n",
    "### Example:\n",
    "```PYTHON \n",
    "ds = RandomizedSet()\n",
    "ds.insert(1)     # True\n",
    "ds.insert(2)     # True\n",
    "ds.search(1)     # True\n",
    "ds.getRandom()   # 1 or 2 randomly\n",
    "ds.remove(1)     # True\n",
    "ds.search(1)     # False\n",
    "ds.getRandom()   # 2\n"
   ]
  },
  {
   "cell_type": "markdown",
   "id": "b68e7cad-ea42-4bb3-a20e-a91cba6d7424",
   "metadata": {},
   "source": [
    "### Solution Approach"
   ]
  },
  {
   "cell_type": "markdown",
   "id": "144b599f-addb-4686-8425-1f6e6f862acd",
   "metadata": {},
   "source": [
    "#### Challenge:\n",
    "A normal set supports insert/remove/search in O(1), but getRandom would require O(n) unless we store elements in a list for indexing.\n",
    "\n",
    "#### Key Idea (Optimized Approach):\n",
    "Use:\n",
    "- HashMap → O(1) insert, remove, search.\n",
    "- List (array) → O(1) access by index for getRandom.\n",
    "- Maintain a mapping of value → index in the list.\n",
    "\n",
    "#### Workflow:\n",
    "- insert(val) → Append to list, update map.\n",
    "- remove(val) → Swap with last element in list, remove last element, update map.\n",
    "- search(val) → Lookup in map.\n",
    "- getRandom() → Randomly pick index from list."
   ]
  },
  {
   "cell_type": "markdown",
   "id": "be931aed-e6ac-4398-a9cc-cd43c98ed91b",
   "metadata": {},
   "source": [
    "### Solution Code"
   ]
  },
  {
   "cell_type": "code",
   "execution_count": 2,
   "id": "57cab10a-c58c-459b-b504-16dc7ee1d0ac",
   "metadata": {},
   "outputs": [],
   "source": [
    "# Approach: Optimized solution\n",
    "\n",
    "import random\n",
    "\n",
    "class RandomizedSet:\n",
    "    def __init__(self):\n",
    "        self.data = []\n",
    "        self.val_to_index = {}\n",
    "\n",
    "    def insert(self, val: int) -> bool:\n",
    "        if val in self.val_to_index:\n",
    "            return False\n",
    "        self.data.append(val)\n",
    "        self.val_to_index[val] = len(self.data) - 1\n",
    "        return True\n",
    "\n",
    "    def remove(self, val:int) -> bool:\n",
    "        if val not in self.val_to_index:\n",
    "            return False\n",
    "\n",
    "        idx = self.val_to_index[val]\n",
    "        last_element = self.data[-1]\n",
    "\n",
    "        # swap with the last element\n",
    "        self.data[idx] = last_element\n",
    "        self. val_to_index[last_element] = idx\n",
    "\n",
    "        # Remove last element\n",
    "        self.data.pop()\n",
    "        del self.val_to_index[val]\n",
    "        return True\n",
    "\n",
    "    def search(self, val: int) -> bool:\n",
    "        return val in self.val_to_index\n",
    "\n",
    "    def getRandom(self) -> int:\n",
    "        return random.choice(self.data)\n"
   ]
  },
  {
   "cell_type": "markdown",
   "id": "9febed86-bc77-49f3-aa50-7adfe033688a",
   "metadata": {},
   "source": [
    "### Alternative Approaches"
   ]
  },
  {
   "cell_type": "markdown",
   "id": "e2a1908d-c9fa-4aa6-8f03-d7dd545a5995",
   "metadata": {},
   "source": [
    "#### Brute Force:\n",
    "- Use a simple list.\n",
    "- Insert: O(1) (append),\n",
    "- Remove: O(n) (find element),\n",
    "- Search: O(n),\n",
    "- getRandom: O(1).\n",
    "\n",
    "→ Not optimal for large datasets.\n",
    "\n",
    "#### Optimized:\n",
    "- HashMap + List (as above) → all operations in O(1) average time."
   ]
  },
  {
   "cell_type": "markdown",
   "id": "d6a0376a-06d0-45f0-8c7e-c16ff2a673ef",
   "metadata": {},
   "source": [
    "### Test Cases "
   ]
  },
  {
   "cell_type": "code",
   "execution_count": 25,
   "id": "ae26483e-d6b2-4834-98f4-d7566355dc5d",
   "metadata": {},
   "outputs": [
    {
     "name": "stdout",
     "output_type": "stream",
     "text": [
      "True\n",
      "True\n",
      "False\n",
      "True\n",
      "False\n",
      "1\n",
      "True\n",
      "False\n",
      "2\n",
      "False\n",
      "False\n"
     ]
    }
   ],
   "source": [
    "# Testing RandomizedSet\n",
    "ds = RandomizedSet()\n",
    "\n",
    "print(ds.insert(1))\n",
    "print(ds.insert(2))\n",
    "print(ds.insert(1))\n",
    "print(ds.search(1))\n",
    "print(ds.search(5))\n",
    "\n",
    "print(ds.getRandom())\n",
    "\n",
    "print(ds.remove(1))\n",
    "print(ds.search(1))\n",
    "print(ds.getRandom())\n",
    "\n",
    "print(ds.remove(3))\n",
    "print(ds.insert(2))"
   ]
  },
  {
   "cell_type": "markdown",
   "id": "462318bf-672f-4468-9122-070cf70b5af5",
   "metadata": {},
   "source": [
    "## Complexity Analysis"
   ]
  },
  {
   "cell_type": "markdown",
   "id": "3ff61a2e-affa-44cc-b483-573f9dc9b166",
   "metadata": {},
   "source": [
    "| Operation | Time Complexity | Space Complexity |\n",
    "| --------- | --------------- | ---------------- |\n",
    "| Insert    | O(1)            | O(n)             |\n",
    "| Remove    | O(1)            | O(n)             |\n",
    "| Search    | O(1)            | O(n)             |\n",
    "| getRandom | O(1)            | O(n)             |"
   ]
  },
  {
   "cell_type": "markdown",
   "id": "54ae9b22-a3fd-4d97-807c-9deb388d03b1",
   "metadata": {},
   "source": [
    "#### Thank You!!"
   ]
  }
 ],
 "metadata": {
  "kernelspec": {
   "display_name": "Python 3 (ipykernel)",
   "language": "python",
   "name": "python3"
  },
  "language_info": {
   "codemirror_mode": {
    "name": "ipython",
    "version": 3
   },
   "file_extension": ".py",
   "mimetype": "text/x-python",
   "name": "python",
   "nbconvert_exporter": "python",
   "pygments_lexer": "ipython3",
   "version": "3.12.3"
  }
 },
 "nbformat": 4,
 "nbformat_minor": 5
}
