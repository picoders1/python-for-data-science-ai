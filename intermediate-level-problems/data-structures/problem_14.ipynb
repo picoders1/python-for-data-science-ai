{
 "cells": [
  {
   "cell_type": "markdown",
   "id": "8a36d3b1-1a8d-478e-8060-6477472e6bd4",
   "metadata": {},
   "source": [
    "# **Problem Statement**  \n",
    "## **14. Find the longest prefix matching a given string using a Trie**"
   ]
  },
  {
   "cell_type": "markdown",
   "id": "97e8eaf4-c67c-4ef9-87dd-a1c242b88a5a",
   "metadata": {},
   "source": [
    "Implement a Trie that supports the following operation:\n",
    "\n",
    "- Insert(word): Add a word to the Trie.\n",
    "- Longest Prefix Match(query): Given a string, find the longest prefix of the query that exists in the Trie."
   ]
  },
  {
   "cell_type": "markdown",
   "id": "12b96244-784f-44f1-b72a-e69e054e8b67",
   "metadata": {},
   "source": [
    "### Constraints & Example Inputs/Outputs\n",
    "\n",
    "- Input: A set of words inserted into a Trie + a query string.\n",
    "- Output: The longest prefix of the query that matches words in the Trie.\n",
    "- Words consist of lowercase English letters (a-z).\n",
    "- If no prefix matches, return an empty string \"\".\n",
    "\n",
    "### Example:\n",
    "\n",
    "Insert: [\"apple\", \"app\", \"apricot\"]  \n",
    "Query: \"application\" → Longest Prefix = \"app\"  \n",
    "Query: \"april\"       → Longest Prefix = \"apr\"  \n",
    "Query: \"banana\"      → Longest Prefix = \"\"  \n"
   ]
  },
  {
   "cell_type": "markdown",
   "id": "b68e7cad-ea42-4bb3-a20e-a91cba6d7424",
   "metadata": {},
   "source": [
    "### Solution Approach"
   ]
  },
  {
   "cell_type": "markdown",
   "id": "144b599f-addb-4686-8425-1f6e6f862acd",
   "metadata": {},
   "source": [
    "Here are the 2 best possible approaches:\n",
    "\n",
    "##### Naive Approach (Brute Force):\n",
    "\n",
    "- Store words in a list or set.\n",
    "- For a given query, check all possible prefixes from longest to shortest.\n",
    "- Return the longest one that exists.\n",
    "- Time: O(N * L^2) (N = number of words, L = length of query).\n",
    "\n",
    "##### Optimized Approach (Trie):\n",
    "\n",
    "- Build a Trie from all inserted words.\n",
    "- Traverse the query character by character in the Trie.\n",
    "- Keep track of the longest prefix that matches.\n",
    "- Stop when a character is not found.\n",
    "- Time: O(L) per query."
   ]
  },
  {
   "cell_type": "markdown",
   "id": "be931aed-e6ac-4398-a9cc-cd43c98ed91b",
   "metadata": {},
   "source": [
    "### Solution Code"
   ]
  },
  {
   "cell_type": "code",
   "execution_count": 1,
   "id": "57cab10a-c58c-459b-b504-16dc7ee1d0ac",
   "metadata": {},
   "outputs": [],
   "source": [
    "# Approach1: Brute Force Approach using set\n",
    "class BruteForcePrefix:\n",
    "    def __init__(self):\n",
    "        self.words = set()\n",
    "\n",
    "    def insert(self, word: str):\n",
    "        self.words.add(word)\n",
    "\n",
    "    def longest_prefix(self, query: str) -> str:\n",
    "        prefix =\"\"\n",
    "        for i in range(1, len(query)+1):\n",
    "            if query[:1] in self.words:\n",
    "                prefix = query[:i]\n",
    "        return prefix\n"
   ]
  },
  {
   "cell_type": "code",
   "execution_count": 4,
   "id": "3d0f40fa-e3cf-49eb-b872-7290e4cc7f70",
   "metadata": {},
   "outputs": [],
   "source": [
    "# Approach2: Optimized Approach (Trie Node)\n",
    "# Trie Node\n",
    "class TrieNode:\n",
    "    def __init__(self):\n",
    "        self.children = {}\n",
    "        self.is_end = False\n",
    "\n",
    "# Optimized Trie Implementation\n",
    "class Trie:\n",
    "    def __init__(self):\n",
    "        self.root = TrieNode()\n",
    "    \n",
    "    def insert(self, word: str):\n",
    "        node = self.root\n",
    "        for ch in word:\n",
    "            if ch not in node.children:\n",
    "                node.children[ch] = TrieNode()\n",
    "            node = node.children[ch]\n",
    "        node.is_end = True\n",
    "    \n",
    "    def longest_prefix(self, query: str) -> str:\n",
    "        node = self.root\n",
    "        prefix = \"\"\n",
    "        current_prefix = \"\"\n",
    "        \n",
    "        for ch in query:\n",
    "            if ch in node.children:\n",
    "                node = node.children[ch]\n",
    "                current_prefix += ch\n",
    "                if node.is_end:\n",
    "                    prefix = current_prefix\n",
    "            else:\n",
    "                break\n",
    "        return prefix\n",
    "    "
   ]
  },
  {
   "cell_type": "markdown",
   "id": "2459abe6-92bc-4283-ad4b-aff83def7ae0",
   "metadata": {},
   "source": [
    "### Alternative Approaches"
   ]
  },
  {
   "cell_type": "markdown",
   "id": "9968c8eb-bc72-4b47-92ab-977b2e022a1e",
   "metadata": {},
   "source": [
    "- Brute Force using a set: Simple but inefficient.\n",
    "- Trie (Optimal): Efficient for prefix matching.\n",
    "- Suffix Tree/Array: For more advanced prefix/suffix matching, but heavier to implement."
   ]
  },
  {
   "cell_type": "markdown",
   "id": "d6a0376a-06d0-45f0-8c7e-c16ff2a673ef",
   "metadata": {},
   "source": [
    "### Test Cases "
   ]
  },
  {
   "cell_type": "code",
   "execution_count": 8,
   "id": "ae26483e-d6b2-4834-98f4-d7566355dc5d",
   "metadata": {},
   "outputs": [
    {
     "name": "stdout",
     "output_type": "stream",
     "text": [
      "Brute Force:\n",
      "app\n",
      "\n",
      "\n",
      "\n",
      "Trie:\n",
      "app\n",
      "\n",
      "\n"
     ]
    }
   ],
   "source": [
    "# Brute Force Test\n",
    "bf = BruteForcePrefix()\n",
    "bf.insert(\"apple\")\n",
    "bf.insert(\"app\")\n",
    "bf.insert(\"apricot\")\n",
    "\n",
    "print(\"Brute Force:\")\n",
    "print(bf.longest_prefix(\"application\"))  # app\n",
    "print(bf.longest_prefix(\"april\"))        # apr\n",
    "print(bf.longest_prefix(\"banana\"))       # \"\"\n",
    "\n",
    "# Trie Test\n",
    "trie = Trie()\n",
    "trie.insert(\"apple\")\n",
    "trie.insert(\"app\")\n",
    "trie.insert(\"apricot\")\n",
    "\n",
    "print(\"\\nTrie:\")\n",
    "print(trie.longest_prefix(\"application\"))  # app\n",
    "print(trie.longest_prefix(\"april\"))        # apr\n",
    "print(trie.longest_prefix(\"banana\"))       # \"\"\n"
   ]
  },
  {
   "cell_type": "markdown",
   "id": "462318bf-672f-4468-9122-070cf70b5af5",
   "metadata": {},
   "source": [
    "## Complexity Analysis"
   ]
  },
  {
   "cell_type": "markdown",
   "id": "3ff61a2e-affa-44cc-b483-573f9dc9b166",
   "metadata": {},
   "source": [
    "##### Brute Force:\n",
    "\n",
    "- Insert: O(1)\n",
    "- Query: O(L^2) (check all prefixes).\n",
    "- Space: O(N * L).\n",
    "\n",
    "#### Trie:\n",
    "\n",
    "- Insert: O(L)\n",
    "- Query: O(L)\n",
    "- Space: O(N * L) worst-case."
   ]
  },
  {
   "cell_type": "markdown",
   "id": "54ae9b22-a3fd-4d97-807c-9deb388d03b1",
   "metadata": {},
   "source": [
    "#### Thank You!!"
   ]
  }
 ],
 "metadata": {
  "kernelspec": {
   "display_name": "Python 3 (ipykernel)",
   "language": "python",
   "name": "python3"
  },
  "language_info": {
   "codemirror_mode": {
    "name": "ipython",
    "version": 3
   },
   "file_extension": ".py",
   "mimetype": "text/x-python",
   "name": "python",
   "nbconvert_exporter": "python",
   "pygments_lexer": "ipython3",
   "version": "3.12.3"
  }
 },
 "nbformat": 4,
 "nbformat_minor": 5
}
