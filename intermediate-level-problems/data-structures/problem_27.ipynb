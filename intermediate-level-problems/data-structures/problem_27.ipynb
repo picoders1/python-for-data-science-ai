{
 "cells": [
  {
   "cell_type": "markdown",
   "id": "8a36d3b1-1a8d-478e-8060-6477472e6bd4",
   "metadata": {},
   "source": [
    "# **Problem Statement**  \n",
    "## **27. Design a data structure for a least frequently used (LFU) cache.**"
   ]
  },
  {
   "cell_type": "markdown",
   "id": "97e8eaf4-c67c-4ef9-87dd-a1c242b88a5a",
   "metadata": {},
   "source": [
    "Design and implement a Least Frequently Used (LFU) Cache supporting:\n",
    "\n",
    "- get(key) — returns the value if key exists, otherwise -1.\n",
    "- put(key, value) — inserts/updates the key-value pair.\n",
    "\n",
    "When the cache reaches capacity, it should evict the least frequently used key. If multiple keys have the same frequency, evict the least recently used key among them."
   ]
  },
  {
   "cell_type": "markdown",
   "id": "12b96244-784f-44f1-b72a-e69e054e8b67",
   "metadata": {},
   "source": [
    "### Constraints & Example Inputs/Outputs\n",
    "\n",
    "- Capacity is a positive integer.\n",
    "- get and put should work in O(1) average time.\n",
    "- Cache stores key-value pairs.\n",
    "\n",
    "### Example 1:\n",
    "\n",
    "```python \n",
    "# Example:\n",
    "lfu = LFUCache(2)   # capacity 2\n",
    "lfu.put(1, 1)\n",
    "lfu.put(2, 2)\n",
    "print(lfu.get(1))   # returns 1\n",
    "lfu.put(3, 3)       # evicts key 2\n",
    "print(lfu.get(2))   # returns -1 (not found)\n",
    "print(lfu.get(3))   # returns 3\n",
    "lfu.put(4, 4)       # evicts key 1\n",
    "print(lfu.get(1))   # returns -1 (not found)\n",
    "print(lfu.get(3))   # returns 3\n",
    "print(lfu.get(4))   # returns 4\n"
   ]
  },
  {
   "cell_type": "markdown",
   "id": "b68e7cad-ea42-4bb3-a20e-a91cba6d7424",
   "metadata": {},
   "source": [
    "### Solution Approach"
   ]
  },
  {
   "cell_type": "markdown",
   "id": "144b599f-addb-4686-8425-1f6e6f862acd",
   "metadata": {},
   "source": [
    "#### Understanding LFU Cache\n",
    "- LFU uses frequency counts to determine eviction order.\n",
    "- If frequency ties → evict the least recently used among them.\n",
    "- Common approach uses:\n",
    "    - A key → (value, frequency) mapping.\n",
    "    - A frequency → ordered set of keys mapping.\n",
    "    - A min frequency tracker to find eviction candidate.\n",
    "\n",
    "#### Operations \n",
    "- Get(key):\n",
    "    - If key exists: increase its frequency and update mappings.\n",
    "    - Return value.\n",
    "\n",
    "- Put(key, value):\n",
    "    - If key exists: update value and frequency.\n",
    "    - Else:\n",
    "        - If capacity reached: remove LFU key.\n",
    "        - Insert new key with frequency = 1.\n",
    "    - Update mappings."
   ]
  },
  {
   "cell_type": "markdown",
   "id": "be931aed-e6ac-4398-a9cc-cd43c98ed91b",
   "metadata": {},
   "source": [
    "### Solution Code"
   ]
  },
  {
   "cell_type": "markdown",
   "id": "a7552548-286d-4f42-a623-ee5ff435df39",
   "metadata": {},
   "source": [
    "Brute force: Store keys and count frequencies but find LFU on eviction by scanning all frequencies → O(n) eviction."
   ]
  },
  {
   "cell_type": "code",
   "execution_count": 2,
   "id": "57cab10a-c58c-459b-b504-16dc7ee1d0ac",
   "metadata": {},
   "outputs": [],
   "source": [
    "# Approach1: Brute Force Approach\n",
    "class LFUCacheBrute:\n",
    "    def __init__(self, capacity: int):\n",
    "        self.capacity = capacity\n",
    "        self.cache = {}\n",
    "        self.freq = {}\n",
    "\n",
    "    def get(self, key: int) -> int:\n",
    "        if key not in self.cache:\n",
    "            return -1\n",
    "        self.freq[key] += 1\n",
    "        return self.cache[key]\n",
    "\n",
    "    def put(self, key: int, value: int) -> None:\n",
    "        if self.capacity == 0:\n",
    "            return\n",
    "        if key in self.cache:\n",
    "            self.cache[key] = value\n",
    "            self.freq[key] += 1\n",
    "            return\n",
    "        if len(self.cache) >= self.capacity:\n",
    "            # Evict LFU key\n",
    "            min_freq = min(self.freq.values())\n",
    "            keys_with_min_freq = [k for k in self.freq if self.freq[k] == min_freq]\n",
    "            evict_key = keys_with_min_freq[0]\n",
    "            del self.cache[evict_key]\n",
    "            del self.freq[evict_key]\n",
    "        self.cache[key] = value\n",
    "        self.freq[key] = 1\n"
   ]
  },
  {
   "cell_type": "markdown",
   "id": "9febed86-bc77-49f3-aa50-7adfe033688a",
   "metadata": {},
   "source": [
    "### Alternative Solution"
   ]
  },
  {
   "cell_type": "markdown",
   "id": "e348dc9c-3031-4a77-9432-655cc549e760",
   "metadata": {},
   "source": [
    "Optimized approach: O(1) operations using:\n",
    "\n",
    "- HashMap for key → value, freq.\n",
    "- HashMap of Doubly Linked Lists for frequency → keys.\n",
    "- Min frequency tracker."
   ]
  },
  {
   "cell_type": "code",
   "execution_count": 3,
   "id": "3d0f40fa-e3cf-49eb-b872-7290e4cc7f70",
   "metadata": {},
   "outputs": [],
   "source": [
    "# Approach2: Optimized Approach (Queue BFS)\n",
    "from collections import defaultdict, OrderedDict\n",
    "\n",
    "class LFUCache:\n",
    "    def __init__(self, capacity: int):\n",
    "        self.capacity = capacity\n",
    "        self.min_freq = 0\n",
    "        self.key_to_val_freq = {}\n",
    "        self.freq_to_keys = defaultdict(OrderedDict)\n",
    "\n",
    "    def _update_freq(self, key):\n",
    "        val, freq = self.key_to_val_freq[key]\n",
    "        del self.freq_to_keys[freq][key]\n",
    "        if not self.freq_to_keys[freq]:\n",
    "            del self.freq_to_keys[freq]\n",
    "            if self.min_freq == freq:\n",
    "                self.min_freq += 1\n",
    "        self.freq_to_keys[freq + 1][key] = None\n",
    "        self.key_to_val_freq[key] = (val, freq + 1)\n",
    "\n",
    "    def get(self, key: int) -> int:\n",
    "        if key not in self.key_to_val_freq:\n",
    "            return -1\n",
    "        self._update_freq(key)\n",
    "        return self.key_to_val_freq[key][0]\n",
    "\n",
    "    def put(self, key: int, value: int) -> None:\n",
    "        if self.capacity == 0:\n",
    "            return\n",
    "        if key in self.key_to_val_freq:\n",
    "            self.key_to_val_freq[key] = (value, self.key_to_val_freq[key][1])\n",
    "            self._update_freq(key)\n",
    "        else:\n",
    "            if len(self.key_to_val_freq) >= self.capacity:\n",
    "                evict_key, _ = self.freq_to_keys[self.min_freq].popitem(last=False)\n",
    "                del self.key_to_val_freq[evict_key]\n",
    "            self.key_to_val_freq[key] = (value, 1)\n",
    "            self.freq_to_keys[1][key] = None\n",
    "            self.min_freq = 1\n"
   ]
  },
  {
   "cell_type": "markdown",
   "id": "d6a0376a-06d0-45f0-8c7e-c16ff2a673ef",
   "metadata": {},
   "source": [
    "### Test Cases "
   ]
  },
  {
   "cell_type": "code",
   "execution_count": 4,
   "id": "ae26483e-d6b2-4834-98f4-d7566355dc5d",
   "metadata": {},
   "outputs": [
    {
     "name": "stdout",
     "output_type": "stream",
     "text": [
      "Testing Brute Force LFU Cache\n",
      "All test cases passed for LFUCacheBrute!\n",
      "\n",
      "Testing Optimized LFU Cache\n",
      "All test cases passed for LFUCache!\n"
     ]
    }
   ],
   "source": [
    "def test_lfu_cache(cls):\n",
    "    lfu = cls(2)\n",
    "    lfu.put(1, 1)\n",
    "    lfu.put(2, 2)\n",
    "    assert lfu.get(1) == 1\n",
    "    lfu.put(3, 3)      # Evicts key 2\n",
    "    assert lfu.get(2) == -1\n",
    "    assert lfu.get(3) == 3\n",
    "    lfu.put(4, 4)      # Evicts key 1\n",
    "    assert lfu.get(1) == -1\n",
    "    assert lfu.get(3) == 3\n",
    "    assert lfu.get(4) == 4\n",
    "    print(f\"All test cases passed for {cls.__name__}!\")\n",
    "\n",
    "print(\"Testing Brute Force LFU Cache\")\n",
    "test_lfu_cache(LFUCacheBrute)\n",
    "\n",
    "print(\"\\nTesting Optimized LFU Cache\")\n",
    "test_lfu_cache(LFUCache)\n"
   ]
  },
  {
   "cell_type": "markdown",
   "id": "462318bf-672f-4468-9122-070cf70b5af5",
   "metadata": {},
   "source": [
    "## Complexity Analysis"
   ]
  },
  {
   "cell_type": "markdown",
   "id": "3ff61a2e-affa-44cc-b483-573f9dc9b166",
   "metadata": {},
   "source": [
    "#### Time Complexity - \n",
    "\n",
    "| Approach      | get      | put      |\n",
    "| ------------- | -------- | -------- |\n",
    "| Brute Force   | O(1)     | O(n)     |\n",
    "| Optimized LFU | O(1) avg | O(1) avg |\n",
    "\n",
    "#### Space Complexity - O(capacity)"
   ]
  },
  {
   "cell_type": "markdown",
   "id": "54ae9b22-a3fd-4d97-807c-9deb388d03b1",
   "metadata": {},
   "source": [
    "#### Thank You!!"
   ]
  }
 ],
 "metadata": {
  "kernelspec": {
   "display_name": "Python 3 (ipykernel)",
   "language": "python",
   "name": "python3"
  },
  "language_info": {
   "codemirror_mode": {
    "name": "ipython",
    "version": 3
   },
   "file_extension": ".py",
   "mimetype": "text/x-python",
   "name": "python",
   "nbconvert_exporter": "python",
   "pygments_lexer": "ipython3",
   "version": "3.12.3"
  }
 },
 "nbformat": 4,
 "nbformat_minor": 5
}
