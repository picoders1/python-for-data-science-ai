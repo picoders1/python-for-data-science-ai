{
 "cells": [
  {
   "cell_type": "markdown",
   "id": "8a36d3b1-1a8d-478e-8060-6477472e6bd4",
   "metadata": {},
   "source": [
    "# **Problem Statement**  \n",
    "## **30. Design a data structure to support Range Minimum Queries (RMQ).**"
   ]
  },
  {
   "cell_type": "markdown",
   "id": "97e8eaf4-c67c-4ef9-87dd-a1c242b88a5a",
   "metadata": {},
   "source": [
    "Design a data structure that supports the following operations efficiently:\n",
    "1. build(arr) – Construct the data structure from an input array.\n",
    "2. range_min_query(left, right) – Return the minimum element in the range [left, right].\n",
    "3. (Optional) update(index, value) – Update the array element and reflect it in future queries.\n",
    "\n",
    "The goal is to make queries and updates efficient (better than O(n))."
   ]
  },
  {
   "cell_type": "markdown",
   "id": "12b96244-784f-44f1-b72a-e69e054e8b67",
   "metadata": {},
   "source": [
    "### Constraints & Example Inputs/Outputs\n",
    "\n",
    "- 1≤n≤10^5\n",
    "- −10^9≤arr[i]≤10^9\n",
    "- Multiple queries (up to 10^5)\n",
    "\n",
    "### Example 1:\n",
    "```python\n",
    "arr = [2, 6, 4, 1, 5, 3]\n",
    "# Range Minimum Queries\n",
    "range_min_query(1, 3) → 1\n",
    "range_min_query(0, 5) → 1\n",
    "range_min_query(2, 4) → 1\n"
   ]
  },
  {
   "cell_type": "markdown",
   "id": "b68e7cad-ea42-4bb3-a20e-a91cba6d7424",
   "metadata": {},
   "source": [
    "### Solution Approach"
   ]
  },
  {
   "cell_type": "markdown",
   "id": "144b599f-addb-4686-8425-1f6e6f862acd",
   "metadata": {},
   "source": [
    "What is Range Minimum Query (RMQ)?\n",
    "- RMQ finds the minimum value between two indices of an array.\n",
    "\n",
    "##### Approaches\n",
    "\n",
    "1. Brute Force – Scan the range [l, r] → O(n) per query.\n",
    "2. Segment Tree – Preprocess in O(n), query/update in O(log n).\n",
    "3. Sparse Table – Preprocess in O(n log n), query in O(1), but updates not supported efficiently."
   ]
  },
  {
   "cell_type": "markdown",
   "id": "be931aed-e6ac-4398-a9cc-cd43c98ed91b",
   "metadata": {},
   "source": [
    "### Solution Code"
   ]
  },
  {
   "cell_type": "code",
   "execution_count": 4,
   "id": "57cab10a-c58c-459b-b504-16dc7ee1d0ac",
   "metadata": {},
   "outputs": [],
   "source": [
    "# Approach1: Brute Force Approach (Simple but inefficient for larger inputs).\n",
    "class RMQ_BruteForce:\n",
    "    def __init__(self, arr):\n",
    "        self.arr = arr\n",
    "\n",
    "    def range_min_query(self, left, right):\n",
    "        return min(self.arr[left:right+1])\n"
   ]
  },
  {
   "cell_type": "markdown",
   "id": "9febed86-bc77-49f3-aa50-7adfe033688a",
   "metadata": {},
   "source": [
    "### Alternative Solution"
   ]
  },
  {
   "cell_type": "code",
   "execution_count": 5,
   "id": "3d0f40fa-e3cf-49eb-b872-7290e4cc7f70",
   "metadata": {},
   "outputs": [],
   "source": [
    "# Approach2: Optimized Approach (Segment Tree)\n",
    "# Efficient and supports both queries and updates in O(log n).\n",
    "\n",
    "class RMQ_SegmentTree:\n",
    "    def __init__(self, arr):\n",
    "        self.n = len(arr)\n",
    "        self.tree = [float('inf')] * (4 * self.n)\n",
    "        self._build(arr, 0, 0, self.n - 1)\n",
    "\n",
    "    def _build(self, arr, node, start, end):\n",
    "        if start == end:\n",
    "            self.tree[node] = arr[start]\n",
    "        else:\n",
    "            mid = (start + end) // 2\n",
    "            self._build(arr, 2*node+1, start, mid)\n",
    "            self._build(arr, 2*node+2, mid+1, end)\n",
    "            self.tree[node] = min(self.tree[2*node+1], self.tree[2*node+2])\n",
    "\n",
    "    def range_min_query(self, left, right):\n",
    "        return self._query(0, 0, self.n - 1, left, right)\n",
    "\n",
    "    def _query(self, node, start, end, l, r):\n",
    "        if r < start or l > end:  # No overlap\n",
    "            return float('inf')\n",
    "        if l <= start and end <= r:  # Total overlap\n",
    "            return self.tree[node]\n",
    "        mid = (start + end) // 2  # Partial overlap\n",
    "        left_min = self._query(2*node+1, start, mid, l, r)\n",
    "        right_min = self._query(2*node+2, mid+1, end, l, r)\n",
    "        return min(left_min, right_min)\n",
    "\n",
    "    def update(self, index, value):\n",
    "        self._update(0, 0, self.n - 1, index, value)\n",
    "\n",
    "    def _update(self, node, start, end, index, value):\n",
    "        if start == end:\n",
    "            self.tree[node] = value\n",
    "        else:\n",
    "            mid = (start + end) // 2\n",
    "            if index <= mid:\n",
    "                self._update(2*node+1, start, mid, index, value)\n",
    "            else:\n",
    "                self._update(2*node+2, mid+1, end, index, value)\n",
    "            self.tree[node] = min(self.tree[2*node+1], self.tree[2*node+2])\n",
    "    "
   ]
  },
  {
   "cell_type": "markdown",
   "id": "36ffd07c-e625-4763-b938-c7a56645a698",
   "metadata": {},
   "source": [
    "### Another Alternative Solution (Sparse Table)"
   ]
  },
  {
   "cell_type": "markdown",
   "id": "0246e4b0-488c-4e85-bd76-b1f54bf0fdd3",
   "metadata": {},
   "source": [
    "If no updates are needed, Sparse Table gives O(1) query time."
   ]
  },
  {
   "cell_type": "code",
   "execution_count": 6,
   "id": "da561a17-38eb-4527-957a-fcf09c7288c1",
   "metadata": {},
   "outputs": [],
   "source": [
    "import math\n",
    "\n",
    "class RMQ_SparseTable:\n",
    "    def __init__(self, arr):\n",
    "        self.n = len(arr)\n",
    "        self.k = int(math.log2(self.n)) + 1\n",
    "        self.sparse = [[0]*self.k for _ in range(self.n)]\n",
    "\n",
    "        for i in range(self.n):\n",
    "            self.sparse[i][0] = arr[i]\n",
    "\n",
    "        j = 1\n",
    "        while (1 << j) <= self.n:\n",
    "            i = 0\n",
    "            while i + (1 << j) <= self.n:\n",
    "                self.sparse[i][j] = min(self.sparse[i][j-1], self.sparse[i + (1 << (j-1))][j-1])\n",
    "                i += 1\n",
    "            j += 1\n",
    "\n",
    "    def range_min_query(self, left, right):\n",
    "        j = int(math.log2(right - left + 1))\n",
    "        return min(self.sparse[left][j], self.sparse[right - (1 << j) + 1][j])\n"
   ]
  },
  {
   "cell_type": "markdown",
   "id": "d6a0376a-06d0-45f0-8c7e-c16ff2a673ef",
   "metadata": {},
   "source": [
    "### Test Cases "
   ]
  },
  {
   "cell_type": "code",
   "execution_count": 8,
   "id": "ae26483e-d6b2-4834-98f4-d7566355dc5d",
   "metadata": {},
   "outputs": [
    {
     "name": "stdout",
     "output_type": "stream",
     "text": [
      "\n",
      "Testing RMQ_BruteForce...\n",
      "All test cases passed for RMQ_BruteForce \n",
      "\n",
      "Testing RMQ_SegmentTree...\n",
      "All test cases passed for RMQ_SegmentTree \n",
      "\n",
      "Testing RMQ_SparseTable...\n",
      "All test cases passed for RMQ_SparseTable \n"
     ]
    }
   ],
   "source": [
    "def test_rmq(cls):\n",
    "    arr = [2, 6, 4, 1, 5, 3]\n",
    "    rmq = cls(arr)\n",
    "\n",
    "    print(f\"\\nTesting {cls.__name__}...\")\n",
    "    assert rmq.range_min_query(0, 2) == 2\n",
    "    assert rmq.range_min_query(1, 3) == 1\n",
    "    assert rmq.range_min_query(0, 5) == 1\n",
    "\n",
    "    if hasattr(rmq, 'update'):\n",
    "        rmq.update(3, 7)  # arr = [2, 6, 4, 7, 5, 3]\n",
    "        assert rmq.range_min_query(1, 3) == 4  # 6, 4, 7 → min = 4\n",
    "\n",
    "    print(f\"All test cases passed for {cls.__name__} \")\n",
    "\n",
    "# Run tests\n",
    "test_rmq(RMQ_BruteForce)\n",
    "test_rmq(RMQ_SegmentTree)\n",
    "test_rmq(RMQ_SparseTable)"
   ]
  },
  {
   "cell_type": "markdown",
   "id": "462318bf-672f-4468-9122-070cf70b5af5",
   "metadata": {},
   "source": [
    "## Complexity Analysis"
   ]
  },
  {
   "cell_type": "markdown",
   "id": "3ff61a2e-affa-44cc-b483-573f9dc9b166",
   "metadata": {},
   "source": [
    "| Operation | Brute Force | Segment Tree | Sparse Table    |\n",
    "| --------- | ----------- | ------------ | --------------- |\n",
    "| Build     | O(1)        | O(n)         | O(n log n)      |\n",
    "| Query     | O(n)        | O(log n)     | O(1)            |\n",
    "| Update    | O(1)        | O(log n)     | ❌ Not supported |\n",
    "| Space     | O(n)        | O(4n)        | O(n log n)      |\n"
   ]
  },
  {
   "cell_type": "markdown",
   "id": "54ae9b22-a3fd-4d97-807c-9deb388d03b1",
   "metadata": {},
   "source": [
    "#### Thank You!!"
   ]
  }
 ],
 "metadata": {
  "kernelspec": {
   "display_name": "Python 3 (ipykernel)",
   "language": "python",
   "name": "python3"
  },
  "language_info": {
   "codemirror_mode": {
    "name": "ipython",
    "version": 3
   },
   "file_extension": ".py",
   "mimetype": "text/x-python",
   "name": "python",
   "nbconvert_exporter": "python",
   "pygments_lexer": "ipython3",
   "version": "3.12.3"
  }
 },
 "nbformat": 4,
 "nbformat_minor": 5
}
