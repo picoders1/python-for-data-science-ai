{
 "cells": [
  {
   "cell_type": "markdown",
   "id": "8a36d3b1-1a8d-478e-8060-6477472e6bd4",
   "metadata": {},
   "source": [
    "# **Problem Statement**  \n",
    "## **17. Find the shortest path in an unweighted graph using BFS**"
   ]
  },
  {
   "cell_type": "markdown",
   "id": "97e8eaf4-c67c-4ef9-87dd-a1c242b88a5a",
   "metadata": {},
   "source": [
    "Given an unweighted graph, find the shortest path between a source node and a destination node using Breadth-First Search (BFS).\n",
    "\n",
    "Return the path length and the actual path (if required)."
   ]
  },
  {
   "cell_type": "markdown",
   "id": "12b96244-784f-44f1-b72a-e69e054e8b67",
   "metadata": {},
   "source": [
    "### Constraints & Example Inputs/Outputs\n",
    "\n",
    "- Graph is unweighted and can be directed or undirected.\n",
    "- Vertices: 1 ≤ V ≤ 10^5\n",
    "- Edges: 0 ≤ E ≤ 10^5\n",
    "- The graph may contain disconnected components.\n",
    "\n",
    "### Example1:\n",
    "\n",
    "Input: \n",
    "V = 6, Edges = [(0,1),(0,2),(1,3),(2,3),(3,4),(4,5)], Source = 0, Destination = 5\n",
    "\n",
    "Output: Shortest Path = [0,2,3,4,5], Length = 4\n",
    "\n",
    "\n",
    "### Example2:\n",
    "\n",
    "Input: \n",
    "V = 4, Edges = [(0,1),(1,2)], Source = 0, Destination = 3\n",
    "\n",
    "Output: No path exists\n",
    "\n"
   ]
  },
  {
   "cell_type": "markdown",
   "id": "b68e7cad-ea42-4bb3-a20e-a91cba6d7424",
   "metadata": {},
   "source": [
    "### Solution Approach"
   ]
  },
  {
   "cell_type": "markdown",
   "id": "144b599f-addb-4686-8425-1f6e6f862acd",
   "metadata": {},
   "source": [
    "Here are the 2 best possible approaches:\n",
    "\n",
    "1. Why BFS?\n",
    "- BFS explores nodes level by level, ensuring the shortest path in terms of number of edges is found first in an unweighted graph.\n",
    "\n",
    "2. Algorithm Steps:\n",
    "- Use a queue to explore neighbors level by level.\n",
    "- Keep a visited[] set to avoid revisiting nodes.\n",
    "- Maintain a parent[] dictionary to reconstruct the shortest path.\n",
    "- If destination is reached, backtrack using parent[] to build the path."
   ]
  },
  {
   "cell_type": "markdown",
   "id": "be931aed-e6ac-4398-a9cc-cd43c98ed91b",
   "metadata": {},
   "source": [
    "### Solution Code"
   ]
  },
  {
   "cell_type": "code",
   "execution_count": 1,
   "id": "57cab10a-c58c-459b-b504-16dc7ee1d0ac",
   "metadata": {},
   "outputs": [],
   "source": [
    "# Approach1: Brute Force Approach (Naive DFS - Just for comparison, not shortest guaranteed)\n",
    "\n",
    "from collections import defaultdict\n",
    "\n",
    "class GraphDFS:\n",
    "    def __init__(self, vertices):\n",
    "        self.graph = defaultdict(list)\n",
    "        self.V = vertices\n",
    "    \n",
    "    def add_edge(self, u, v):\n",
    "        self.graph[u].append(v)\n",
    "        self.graph[v].append(u)  # undirected\n",
    "    \n",
    "    def dfs(self, src, dest, visited, path):\n",
    "        visited[src] = True\n",
    "        path.append(src)\n",
    "        if src == dest:\n",
    "            return path.copy()\n",
    "        for neighbor in self.graph[src]:\n",
    "            if not visited[neighbor]:\n",
    "                result = self.dfs(neighbor, dest, visited, path)\n",
    "                if result:\n",
    "                    return result\n",
    "        path.pop()\n",
    "        return None\n",
    "    \n",
    "    def find_path(self, src, dest):\n",
    "        visited = [False]*self.V\n",
    "        return self.dfs(src, dest, visited, [])\n"
   ]
  },
  {
   "cell_type": "markdown",
   "id": "9febed86-bc77-49f3-aa50-7adfe033688a",
   "metadata": {},
   "source": [
    "### Alternative Solution"
   ]
  },
  {
   "cell_type": "code",
   "execution_count": 2,
   "id": "3d0f40fa-e3cf-49eb-b872-7290e4cc7f70",
   "metadata": {},
   "outputs": [],
   "source": [
    "# Approach2: Optimized Approach (BFS - Shortest Path)\n",
    "from collections import deque, defaultdict\n",
    "\n",
    "class GraphBFS:\n",
    "    def __init__(self, vertices):\n",
    "        self.graph = defaultdict(list)\n",
    "        self.V = vertices\n",
    "    \n",
    "    def add_edge(self, u, v):\n",
    "        self.graph[u].append(v)\n",
    "        self.graph[v].append(u)  # undirected\n",
    "    \n",
    "    def shortest_path(self, src, dest):\n",
    "        visited = [False]*self.V\n",
    "        parent = [-1]*self.V\n",
    "        q = deque([src])\n",
    "        visited[src] = True\n",
    "\n",
    "        while q:\n",
    "            node = q.popleft()\n",
    "            if node == dest:\n",
    "                break\n",
    "            for neighbor in self.graph[node]:\n",
    "                if not visited[neighbor]:\n",
    "                    visited[neighbor] = True\n",
    "                    parent[neighbor] = node\n",
    "                    q.append(neighbor)\n",
    "\n",
    "        # Reconstruct path if destination reached\n",
    "        if not visited[dest]:\n",
    "            return None, -1  # no path\n",
    "        \n",
    "        path = []\n",
    "        curr = dest\n",
    "        while curr != -1:\n",
    "            path.append(curr)\n",
    "            curr = parent[curr]\n",
    "        path.reverse()\n",
    "        return path, len(path)-1\n"
   ]
  },
  {
   "cell_type": "markdown",
   "id": "2459abe6-92bc-4283-ad4b-aff83def7ae0",
   "metadata": {},
   "source": [
    "### Alternative Approaches"
   ]
  },
  {
   "cell_type": "markdown",
   "id": "9968c8eb-bc72-4b47-92ab-977b2e022a1e",
   "metadata": {},
   "source": [
    "- DFS → finds a path but not necessarily the shortest.\n",
    "- BFS → guarantees shortest path in an unweighted graph.\n",
    "- Dijkstra’s Algorithm → used when graph has weighted edges (not needed here)."
   ]
  },
  {
   "cell_type": "markdown",
   "id": "d6a0376a-06d0-45f0-8c7e-c16ff2a673ef",
   "metadata": {},
   "source": [
    "### Test Cases "
   ]
  },
  {
   "cell_type": "code",
   "execution_count": 5,
   "id": "ae26483e-d6b2-4834-98f4-d7566355dc5d",
   "metadata": {},
   "outputs": [
    {
     "name": "stdout",
     "output_type": "stream",
     "text": [
      "Test 1: ([0, 1, 3, 4, 5], 4)\n",
      "Test 2: ([0, 1, 3], 2)\n",
      "Test 3: ([1, 3, 4, 5], 3)\n",
      "Test 4: ([0], 0)\n",
      "Test 5: (None, -1)\n"
     ]
    }
   ],
   "source": [
    "# Test BFS Approach (Optimized Approach)\n",
    "g = GraphBFS(6)\n",
    "edges = [(0,1),(0,2),(1,3),(2,3),(3,4),(4,5)]\n",
    "for u,v in edges:\n",
    "    g.add_edge(u,v)\n",
    "\n",
    "print(\"Test 1:\", g.shortest_path(0,5))  # ([0,2,3,4,5], 4)\n",
    "print(\"Test 2:\", g.shortest_path(0,3))  # ([0,1,3] or [0,2,3], length 2)\n",
    "print(\"Test 3:\", g.shortest_path(1,5))  # ([1,3,4,5], 3)\n",
    "print(\"Test 4:\", g.shortest_path(0,0))  # ([0], 0)\n",
    "\n",
    "# Test disconnected case\n",
    "g2 = GraphBFS(4)\n",
    "g2.add_edge(0,1)\n",
    "g2.add_edge(1,2)\n",
    "print(\"Test 5:\", g2.shortest_path(0,3))  # (None, -1)\n"
   ]
  },
  {
   "cell_type": "code",
   "execution_count": 6,
   "id": "44ea184f-4901-4838-9230-7c19972b70fd",
   "metadata": {},
   "outputs": [
    {
     "name": "stdout",
     "output_type": "stream",
     "text": [
      "DFS Test 1: [0, 1, 3, 4, 5]\n",
      "DFS Test 2: [0, 1, 3]\n",
      "DFS Test 3: [1, 0, 2, 3, 4, 5]\n",
      "DFS Test 4: [0]\n",
      "DFS Test 5: None\n"
     ]
    }
   ],
   "source": [
    "# Test DFS Approach (Brute Force)\n",
    "g_dfs = GraphDFS(6)\n",
    "edges = [(0,1),(0,2),(1,3),(2,3),(3,4),(4,5)]\n",
    "for u,v in edges:\n",
    "    g_dfs.add_edge(u,v)\n",
    "\n",
    "print(\"DFS Test 1:\", g_dfs.find_path(0,5))  # Might return [0,1,3,4,5] or [0,2,3,4,5]\n",
    "print(\"DFS Test 2:\", g_dfs.find_path(0,3))  # Might return [0,1,3] or [0,2,3]\n",
    "print(\"DFS Test 3:\", g_dfs.find_path(1,5))  # Might return [1,3,4,5]\n",
    "print(\"DFS Test 4:\", g_dfs.find_path(0,0))  # Should return [0]\n",
    "\n",
    "# Disconnected case\n",
    "g2_dfs = GraphDFS(4)\n",
    "g2_dfs.add_edge(0,1)\n",
    "g2_dfs.add_edge(1,2)\n",
    "print(\"DFS Test 5:\", g2_dfs.find_path(0,3))  # None (no path)\n"
   ]
  },
  {
   "cell_type": "markdown",
   "id": "462318bf-672f-4468-9122-070cf70b5af5",
   "metadata": {},
   "source": [
    "## Complexity Analysis"
   ]
  },
  {
   "cell_type": "markdown",
   "id": "3ff61a2e-affa-44cc-b483-573f9dc9b166",
   "metadata": {},
   "source": [
    "##### BFS Approach:\n",
    "\n",
    "- Time: O(V+E)\n",
    "- Space: O(V) (for visited, parent, and queue)\n",
    "\n",
    "#### DFS Approach (Brute Force):\n",
    "\n",
    "- Time: O(V+E) in worst case\n",
    "- Does not guarantee shortest path"
   ]
  },
  {
   "cell_type": "markdown",
   "id": "54ae9b22-a3fd-4d97-807c-9deb388d03b1",
   "metadata": {},
   "source": [
    "#### Thank You!!"
   ]
  }
 ],
 "metadata": {
  "kernelspec": {
   "display_name": "Python 3 (ipykernel)",
   "language": "python",
   "name": "python3"
  },
  "language_info": {
   "codemirror_mode": {
    "name": "ipython",
    "version": 3
   },
   "file_extension": ".py",
   "mimetype": "text/x-python",
   "name": "python",
   "nbconvert_exporter": "python",
   "pygments_lexer": "ipython3",
   "version": "3.12.3"
  }
 },
 "nbformat": 4,
 "nbformat_minor": 5
}
