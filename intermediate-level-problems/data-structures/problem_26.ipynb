{
 "cells": [
  {
   "cell_type": "markdown",
   "id": "8a36d3b1-1a8d-478e-8060-6477472e6bd4",
   "metadata": {},
   "source": [
    "# **Problem Statement**  \n",
    "## **26. Implement a Skip List**"
   ]
  },
  {
   "cell_type": "markdown",
   "id": "97e8eaf4-c67c-4ef9-87dd-a1c242b88a5a",
   "metadata": {},
   "source": [
    "Implement a Skip List data structure supporting fast search, insertion, and deletion.\n",
    "Skip lists use multiple levels of linked lists to provide average O(log n) time complexity for these operations."
   ]
  },
  {
   "cell_type": "markdown",
   "id": "12b96244-784f-44f1-b72a-e69e054e8b67",
   "metadata": {},
   "source": [
    "### Constraints & Example Inputs/Outputs\n",
    "\n",
    "- Keys are integers.\n",
    "- Values can be integers or strings.\n",
    "- No built-in ordered data structure (like TreeMap or sorted lists) can be used.\n",
    "\n",
    "### Example 1:\n",
    "```python\n",
    "# Example Usage\n",
    "skiplist = SkipList()\n",
    "skiplist.insert(3, \"apple\")\n",
    "skiplist.insert(7, \"banana\")\n",
    "skiplist.insert(9, \"orange\")\n",
    "print(skiplist.search(7))   # Output: \"banana\"\n",
    "skiplist.remove(7)\n",
    "print(skiplist.search(7))   # Output: None\n"
   ]
  },
  {
   "cell_type": "markdown",
   "id": "b68e7cad-ea42-4bb3-a20e-a91cba6d7424",
   "metadata": {},
   "source": [
    "### Solution Approach"
   ]
  },
  {
   "cell_type": "markdown",
   "id": "144b599f-addb-4686-8425-1f6e6f862acd",
   "metadata": {},
   "source": [
    "What is a Skip List:\n",
    "\n",
    "- A Skip List is a probabilistic data structure.\n",
    "- Think of it as multiple linked lists layered on top of each other.\n",
    "- Lower levels store all elements, higher levels store a subset.\n",
    "- Faster search by skipping over large blocks.\n",
    "\n",
    "Operations:\n",
    "\n",
    "- Search: Start at highest level, move forward until a key larger than target is found, drop down a level, repeat until bottom.\n",
    "- Insert: Search to find the insertion point, insert at level 0, decide how many levels to add probabilistically.\n",
    "- Delete: Search for the node in all levels and remove.\n",
    "\n",
    "Advantages:\n",
    "\n",
    "- Average O(log n) for search, insert, delete.\n",
    "- Simple to implement compared to balanced trees."
   ]
  },
  {
   "cell_type": "markdown",
   "id": "be931aed-e6ac-4398-a9cc-cd43c98ed91b",
   "metadata": {},
   "source": [
    "### Solution Code"
   ]
  },
  {
   "cell_type": "markdown",
   "id": "065268b4-71ab-4c7b-800d-08a8b333e6c6",
   "metadata": {},
   "source": [
    "For skip lists, a brute force approach is basically a simple sorted linked list."
   ]
  },
  {
   "cell_type": "code",
   "execution_count": 1,
   "id": "57cab10a-c58c-459b-b504-16dc7ee1d0ac",
   "metadata": {},
   "outputs": [],
   "source": [
    "# Approach1: Brute Force Approach\n",
    "class Node:\n",
    "    def __init__(self, key, value):\n",
    "        self.key = key\n",
    "        self.value = value\n",
    "        self.next = None\n",
    "\n",
    "class SkipListBrute:\n",
    "    def __init__(self):\n",
    "        self.head = None\n",
    "\n",
    "    def insert(self, key, value):\n",
    "        new_node = Node(key, value)\n",
    "        if not self.head or key < self.head.key:\n",
    "            new_node.next = self.head\n",
    "            self.head = new_node\n",
    "            return\n",
    "        prev = None\n",
    "        curr = self.head\n",
    "        while curr and curr.key < key:\n",
    "            prev = curr\n",
    "            curr = curr.next\n",
    "        if curr and curr.key == key:\n",
    "            curr.value = value\n",
    "            return\n",
    "        new_node.next = curr\n",
    "        prev.next = new_node\n",
    "\n",
    "    def search(self, key):\n",
    "        curr = self.head\n",
    "        while curr:\n",
    "            if curr.key == key:\n",
    "                return curr.value\n",
    "            curr = curr.next\n",
    "        return None\n",
    "\n",
    "    def remove(self, key):\n",
    "        prev = None\n",
    "        curr = self.head\n",
    "        while curr:\n",
    "            if curr.key == key:\n",
    "                if prev:\n",
    "                    prev.next = curr.next\n",
    "                else:\n",
    "                    self.head = curr.next\n",
    "                return\n",
    "            prev = curr\n",
    "            curr = curr.next"
   ]
  },
  {
   "cell_type": "markdown",
   "id": "9febed86-bc77-49f3-aa50-7adfe033688a",
   "metadata": {},
   "source": [
    "### Alternative Solution"
   ]
  },
  {
   "cell_type": "code",
   "execution_count": 2,
   "id": "3d0f40fa-e3cf-49eb-b872-7290e4cc7f70",
   "metadata": {},
   "outputs": [],
   "source": [
    "# Approach2: Optimized Approach (Skip List)\n",
    "import random\n",
    "\n",
    "class SkipListNode:\n",
    "    def __init__(self, key, value, level):\n",
    "        self.key = key\n",
    "        self.value = value\n",
    "        self.forward = [None] * (level + 1)\n",
    "\n",
    "class SkipList:\n",
    "    def __init__(self, max_level=4, p=0.5):\n",
    "        self.max_level = max_level\n",
    "        self.p = p\n",
    "        self.header = SkipListNode(None, None, self.max_level)\n",
    "        self.level = 0\n",
    "\n",
    "    def random_level(self):\n",
    "        lvl = 0\n",
    "        while random.random() < self.p and lvl < self.max_level:\n",
    "            lvl += 1\n",
    "        return lvl\n",
    "\n",
    "    def insert(self, key, value):\n",
    "        update = [None] * (self.max_level + 1)\n",
    "        current = self.header\n",
    "\n",
    "        for i in reversed(range(self.level + 1)):\n",
    "            while current.forward[i] and current.forward[i].key < key:\n",
    "                current = current.forward[i]\n",
    "            update[i] = current\n",
    "\n",
    "        current = current.forward[0]\n",
    "\n",
    "        if current and current.key == key:\n",
    "            current.value = value\n",
    "        else:\n",
    "            lvl = self.random_level()\n",
    "            if lvl > self.level:\n",
    "                for i in range(self.level + 1, lvl + 1):\n",
    "                    update[i] = self.header\n",
    "                self.level = lvl\n",
    "            new_node = SkipListNode(key, value, lvl)\n",
    "            for i in range(lvl + 1):\n",
    "                new_node.forward[i] = update[i].forward[i]\n",
    "                update[i].forward[i] = new_node\n",
    "\n",
    "    def search(self, key):\n",
    "        current = self.header\n",
    "        for i in reversed(range(self.level + 1)):\n",
    "            while current.forward[i] and current.forward[i].key < key:\n",
    "                current = current.forward[i]\n",
    "        current = current.forward[0]\n",
    "        if current and current.key == key:\n",
    "            return current.value\n",
    "        return None\n",
    "\n",
    "    def remove(self, key):\n",
    "        update = [None] * (self.max_level + 1)\n",
    "        current = self.header\n",
    "        for i in reversed(range(self.level + 1)):\n",
    "            while current.forward[i] and current.forward[i].key < key:\n",
    "                current = current.forward[i]\n",
    "            update[i] = current\n",
    "        current = current.forward[0]\n",
    "        if current and current.key == key:\n",
    "            for i in range(self.level + 1):\n",
    "                if update[i].forward[i] != current:\n",
    "                    break\n",
    "                update[i].forward[i] = current.forward[i]\n",
    "            while self.level > 0 and not self.header.forward[self.level]:\n",
    "                self.level -= 1\n",
    "    "
   ]
  },
  {
   "cell_type": "markdown",
   "id": "d6a0376a-06d0-45f0-8c7e-c16ff2a673ef",
   "metadata": {},
   "source": [
    "### Test Cases "
   ]
  },
  {
   "cell_type": "code",
   "execution_count": 3,
   "id": "ae26483e-d6b2-4834-98f4-d7566355dc5d",
   "metadata": {},
   "outputs": [
    {
     "name": "stdout",
     "output_type": "stream",
     "text": [
      "Testing Brute Force Skip List\n",
      "All test cases passed for SkipListBrute!\n",
      "\n",
      "Testing Optimized Skip List\n",
      "All test cases passed for SkipList!\n"
     ]
    }
   ],
   "source": [
    "def test_skip_list(cls):\n",
    "    sl = cls()\n",
    "    sl.insert(3, \"apple\")\n",
    "    sl.insert(7, \"banana\")\n",
    "    sl.insert(9, \"orange\")\n",
    "    assert sl.search(7) == \"banana\"\n",
    "    assert sl.search(4) is None\n",
    "    sl.insert(7, \"grape\")\n",
    "    assert sl.search(7) == \"grape\"\n",
    "    sl.remove(7)\n",
    "    assert sl.search(7) is None\n",
    "    print(f\"All test cases passed for {cls.__name__}!\")\n",
    "\n",
    "print(\"Testing Brute Force Skip List\")\n",
    "test_skip_list(SkipListBrute)\n",
    "\n",
    "print(\"\\nTesting Optimized Skip List\")\n",
    "test_skip_list(SkipList)\n"
   ]
  },
  {
   "cell_type": "markdown",
   "id": "462318bf-672f-4468-9122-070cf70b5af5",
   "metadata": {},
   "source": [
    "## Complexity Analysis"
   ]
  },
  {
   "cell_type": "markdown",
   "id": "3ff61a2e-affa-44cc-b483-573f9dc9b166",
   "metadata": {},
   "source": [
    "#### Time Complexity:\n",
    "\n",
    "| Approach    | insert       | search       | remove       |\n",
    "| ----------- | ------------ | ------------ | ------------ |\n",
    "| Brute Force | O(n)         | O(n)         | O(n)         |\n",
    "| Skip List   | O(log n) avg | O(log n) avg | O(log n) avg |\n",
    "\n",
    "#### Space Complexity:\n",
    "- O(n * log n) in Skip List due to multiple levels."
   ]
  },
  {
   "cell_type": "markdown",
   "id": "54ae9b22-a3fd-4d97-807c-9deb388d03b1",
   "metadata": {},
   "source": [
    "#### Thank You!!"
   ]
  }
 ],
 "metadata": {
  "kernelspec": {
   "display_name": "Python 3 (ipykernel)",
   "language": "python",
   "name": "python3"
  },
  "language_info": {
   "codemirror_mode": {
    "name": "ipython",
    "version": 3
   },
   "file_extension": ".py",
   "mimetype": "text/x-python",
   "name": "python",
   "nbconvert_exporter": "python",
   "pygments_lexer": "ipython3",
   "version": "3.12.3"
  }
 },
 "nbformat": 4,
 "nbformat_minor": 5
}
