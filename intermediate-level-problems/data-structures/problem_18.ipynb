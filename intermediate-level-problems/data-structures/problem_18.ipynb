{
 "cells": [
  {
   "cell_type": "markdown",
   "id": "8a36d3b1-1a8d-478e-8060-6477472e6bd4",
   "metadata": {},
   "source": [
    "# **Problem Statement**  \n",
    "## **18. Implement Dijkstra's algorithm for shortest path**"
   ]
  },
  {
   "cell_type": "markdown",
   "id": "97e8eaf4-c67c-4ef9-87dd-a1c242b88a5a",
   "metadata": {},
   "source": [
    "Implement Dijkstra's Algorithm to find the shortest path from a given source node to all other nodes in a weighted graph with non-negative edge weights."
   ]
  },
  {
   "cell_type": "markdown",
   "id": "12b96244-784f-44f1-b72a-e69e054e8b67",
   "metadata": {},
   "source": [
    "### Constraints & Example Inputs/Outputs\n",
    "\n",
    "- Graph is represented using adjacency list or adjacency matrix.\n",
    "- Edge weights are non-negative.\n",
    "- Input: Graph + source node.\n",
    "- Output: Shortest distance from source to all nodes.\n",
    "\n",
    "### Example:\n",
    "\n",
    "##### Input Graph (Adjacency List): \n",
    "\n",
    "0 --1--> 1\n",
    "\n",
    "0 --4--> 2\n",
    "\n",
    "1 --2--> 2\n",
    "\n",
    "1 --6--> 3\n",
    "\n",
    "2 --3--> 3\n",
    "\n",
    "Source = 0\n",
    "    \n",
    "##### Output Distances: \n",
    "\n",
    "Node 0 : 0\n",
    "\n",
    "Node 1 : 1\n",
    "\n",
    "Node 2 : 3\n",
    "\n",
    "Node 3 : 6\n"
   ]
  },
  {
   "cell_type": "markdown",
   "id": "b68e7cad-ea42-4bb3-a20e-a91cba6d7424",
   "metadata": {},
   "source": [
    "### Solution Approach"
   ]
  },
  {
   "cell_type": "markdown",
   "id": "144b599f-addb-4686-8425-1f6e6f862acd",
   "metadata": {},
   "source": [
    "Here are the 2 possible approaches:\n",
    "\n",
    "##### Brute Force Approach (Without Priority Queue):\n",
    "\n",
    "- Maintain a set of visited nodes.\n",
    "- Repeatedly select the unvisited node with smallest tentative distance.\n",
    "- Update its neighbors.\n",
    "- Continue until all nodes are processed.\n",
    "- Time Complexity: O(V^2)\n",
    "\n",
    "##### Optimized Approach (Using Min-Heap / Priority Queue):\n",
    "\n",
    "- Use a priority queue (min-heap) to pick the node with smallest tentative distance efficiently.\n",
    "- Update neighbors’ distances dynamically.\n",
    "- Time Complexity: O((V+E) log V)"
   ]
  },
  {
   "cell_type": "markdown",
   "id": "be931aed-e6ac-4398-a9cc-cd43c98ed91b",
   "metadata": {},
   "source": [
    "### Solution Code"
   ]
  },
  {
   "cell_type": "code",
   "execution_count": 1,
   "id": "57cab10a-c58c-459b-b504-16dc7ee1d0ac",
   "metadata": {},
   "outputs": [],
   "source": [
    "# Approach1: Brute Force Approach\n",
    "import math\n",
    "\n",
    "class Graph:\n",
    "    def __init__(self, vertices):\n",
    "        self.V = vertices\n",
    "        self.graph = [[0]*vertices for _ in range(vertices)]  # adjacency matrix\n",
    "\n",
    "    def add_edge(self, u, v, w):\n",
    "        self.graph[u][v] = w\n",
    "        self.graph[v][u] = w  # for undirected graph, comment this for directed\n",
    "\n",
    "    def dijkstra_bruteforce(self, src):\n",
    "        dist = [math.inf] * self.V\n",
    "        dist[src] = 0\n",
    "        visited = [False] * self.V\n",
    "\n",
    "        for _ in range(self.V):\n",
    "            # Pick the minimum distance unvisited vertex\n",
    "            u = min((d, idx) for idx, d in enumerate(dist) if not visited[idx])[1]\n",
    "            visited[u] = True\n",
    "\n",
    "            # Update distances of neighbors\n",
    "            for v in range(self.V):\n",
    "                if self.graph[u][v] and not visited[v]:\n",
    "                    dist[v] = min(dist[v], dist[u] + self.graph[u][v])\n",
    "        return dist\n"
   ]
  },
  {
   "cell_type": "markdown",
   "id": "9febed86-bc77-49f3-aa50-7adfe033688a",
   "metadata": {},
   "source": [
    "### Alternative Solution"
   ]
  },
  {
   "cell_type": "code",
   "execution_count": 2,
   "id": "3d0f40fa-e3cf-49eb-b872-7290e4cc7f70",
   "metadata": {},
   "outputs": [],
   "source": [
    "# Approach2: Optimized (Using Priority Queue)\n",
    "import heapq\n",
    "\n",
    "class GraphPQ:\n",
    "    def __init__(self, vertices):\n",
    "        self.V = vertices\n",
    "        self.graph = {i: [] for i in range(vertices)}  # adjacency list\n",
    "\n",
    "    def add_edge(self, u, v, w):\n",
    "        self.graph[u].append((v, w))\n",
    "        self.graph[v].append((u, w))  # for undirected graph, comment for directed\n",
    "\n",
    "    def dijkstra_optimized(self, src):\n",
    "        dist = [float('inf')] * self.V\n",
    "        dist[src] = 0\n",
    "        pq = [(0, src)]  # (distance, node)\n",
    "\n",
    "        while pq:\n",
    "            d, u = heapq.heappop(pq)\n",
    "            if d > dist[u]:\n",
    "                continue\n",
    "            for v, w in self.graph[u]:\n",
    "                if dist[v] > dist[u] + w:\n",
    "                    dist[v] = dist[u] + w\n",
    "                    heapq.heappush(pq, (dist[v], v))\n",
    "        return dist\n",
    "    "
   ]
  },
  {
   "cell_type": "markdown",
   "id": "2459abe6-92bc-4283-ad4b-aff83def7ae0",
   "metadata": {},
   "source": [
    "### Alternative Approaches"
   ]
  },
  {
   "cell_type": "markdown",
   "id": "9968c8eb-bc72-4b47-92ab-977b2e022a1e",
   "metadata": {},
   "source": [
    "- Brute Force (Adjacency Matrix) → O(V^2)\n",
    "- Optimized (Adjacency List + Priority Queue) → O((V+E) log V)\n",
    "- Even more optimized → Fibonacci Heap can reduce complexity to O(E + V log V) (theoretical, not practical)."
   ]
  },
  {
   "cell_type": "markdown",
   "id": "d6a0376a-06d0-45f0-8c7e-c16ff2a673ef",
   "metadata": {},
   "source": [
    "### Test Cases "
   ]
  },
  {
   "cell_type": "code",
   "execution_count": 3,
   "id": "ae26483e-d6b2-4834-98f4-d7566355dc5d",
   "metadata": {},
   "outputs": [
    {
     "name": "stdout",
     "output_type": "stream",
     "text": [
      "Brute Force Dijkstra from Node 0: [0, 1, 3, 6]\n",
      "Optimized Dijkstra from Node 0: [0, 1, 3, 6]\n"
     ]
    }
   ],
   "source": [
    "# Brute Force Test\n",
    "g1 = Graph(4)\n",
    "g1.add_edge(0,1,1)\n",
    "g1.add_edge(0,2,4)\n",
    "g1.add_edge(1,2,2)\n",
    "g1.add_edge(1,3,6)\n",
    "g1.add_edge(2,3,3)\n",
    "\n",
    "print(\"Brute Force Dijkstra from Node 0:\", g1.dijkstra_bruteforce(0))\n",
    "# Expected: [0, 1, 3, 6]\n",
    "\n",
    "# Optimized Test\n",
    "g2 = GraphPQ(4)\n",
    "g2.add_edge(0,1,1)\n",
    "g2.add_edge(0,2,4)\n",
    "g2.add_edge(1,2,2)\n",
    "g2.add_edge(1,3,6)\n",
    "g2.add_edge(2,3,3)\n",
    "\n",
    "print(\"Optimized Dijkstra from Node 0:\", g2.dijkstra_optimized(0))\n",
    "# Expected: [0, 1, 3, 6]"
   ]
  },
  {
   "cell_type": "markdown",
   "id": "462318bf-672f-4468-9122-070cf70b5af5",
   "metadata": {},
   "source": [
    "## Complexity Analysis"
   ]
  },
  {
   "cell_type": "markdown",
   "id": "3ff61a2e-affa-44cc-b483-573f9dc9b166",
   "metadata": {},
   "source": [
    "##### Brute Force (Adjacency Matrix):\n",
    "\n",
    "- Time: O(V^2)\n",
    "- Space: O(V^2)\n",
    "\n",
    "#### Optimized (Adjacency List + Min Heap):\n",
    "\n",
    "- Time: O((V+E) log V)\n",
    "- Space: O(V+E)"
   ]
  },
  {
   "cell_type": "markdown",
   "id": "54ae9b22-a3fd-4d97-807c-9deb388d03b1",
   "metadata": {},
   "source": [
    "#### Thank You!!"
   ]
  }
 ],
 "metadata": {
  "kernelspec": {
   "display_name": "Python 3 (ipykernel)",
   "language": "python",
   "name": "python3"
  },
  "language_info": {
   "codemirror_mode": {
    "name": "ipython",
    "version": 3
   },
   "file_extension": ".py",
   "mimetype": "text/x-python",
   "name": "python",
   "nbconvert_exporter": "python",
   "pygments_lexer": "ipython3",
   "version": "3.12.3"
  }
 },
 "nbformat": 4,
 "nbformat_minor": 5
}
