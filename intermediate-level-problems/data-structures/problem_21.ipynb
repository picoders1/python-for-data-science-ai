{
 "cells": [
  {
   "cell_type": "markdown",
   "id": "8a36d3b1-1a8d-478e-8060-6477472e6bd4",
   "metadata": {},
   "source": [
    "# **Problem Statement**  \n",
    "## **21. Implement an LRU (Least Recently Used) Cache**"
   ]
  },
  {
   "cell_type": "markdown",
   "id": "97e8eaf4-c67c-4ef9-87dd-a1c242b88a5a",
   "metadata": {},
   "source": [
    "Design and implement a data structure for Least Recently Used (LRU) cache.\n",
    "It should support the following operations in O(1) average time:\n",
    "\n",
    "- get(key) → return the value if key exists, otherwise return -1.\n",
    "\n",
    "- put(key, value) → insert or update the key-value pair. If the cache reaches its capacity, evict the least recently used item."
   ]
  },
  {
   "cell_type": "markdown",
   "id": "12b96244-784f-44f1-b72a-e69e054e8b67",
   "metadata": {},
   "source": [
    "### Constraints & Example Inputs/Outputs\n",
    "\n",
    "- Capacity: 1 ≤ capacity ≤ 10^4\n",
    "- Number of operations: up to 10^5\n",
    "- Keys/Values: integers\n",
    "\n",
    "### Example:\n",
    "\n",
    "Input: \n",
    "```python\n",
    "cache = LRUCache(2) # capacity 2\n",
    "cache.put(1, 1)\n",
    "cache.put(2, 2)\n",
    "cache.get(1)    # returns 1\n",
    "cache.put(3, 3) # evicts key 2\n",
    "cache.get(2)    # returns -1 (not found)\n",
    "cache.put(4, 4) # evicts key 1\n",
    "cache.get(1)    # returns -1 (not found)\n",
    "cache.get(3)    # returns 3\n",
    "cache.get(4)    # returns 4\n",
    "\n",
    "Output:\n",
    "1\n",
    "-1\n",
    "-1\n",
    "3\n",
    "4\n"
   ]
  },
  {
   "cell_type": "markdown",
   "id": "b68e7cad-ea42-4bb3-a20e-a91cba6d7424",
   "metadata": {},
   "source": [
    "### Solution Approach"
   ]
  },
  {
   "cell_type": "markdown",
   "id": "144b599f-addb-4686-8425-1f6e6f862acd",
   "metadata": {},
   "source": [
    "Here are the 2 possible approaches:\n",
    "\n",
    "##### Naive Approach (Brute Force):\n",
    "\n",
    "- Store data in a dictionary and track usage order in a list.\n",
    "- On each get or put, update the list (move element to the end to mark it recent).\n",
    "- Problem: operations like reordering or eviction take O(n) → not efficient.\n",
    "\n",
    "##### Optimized Approach:\n",
    "\n",
    "- Use HashMap + Doubly Linked List:\n",
    "    - HashMap for O(1) lookup.\n",
    "    - Doubly Linked List for O(1) insert/remove to maintain usage order.\n",
    "- Most recently used items near the head, least recently used near the tail."
   ]
  },
  {
   "cell_type": "markdown",
   "id": "be931aed-e6ac-4398-a9cc-cd43c98ed91b",
   "metadata": {},
   "source": [
    "### Solution Code"
   ]
  },
  {
   "cell_type": "markdown",
   "id": "c2dd2fa1-4861-45fb-8569-6a3a950f4823",
   "metadata": {},
   "source": [
    "- Brute Force (Dict + List): simple to implement but inefficient for large inputs.\n",
    "- Python Built-in:\n",
    "    - Use collections.OrderedDict (internally maintains order)."
   ]
  },
  {
   "cell_type": "code",
   "execution_count": 1,
   "id": "57cab10a-c58c-459b-b504-16dc7ee1d0ac",
   "metadata": {},
   "outputs": [],
   "source": [
    "# Approach1: Brute Force Approach\n",
    "from collections import OrderedDict\n",
    "\n",
    "class LRUCacheAlt:\n",
    "    def __init__(self, capacity: int):\n",
    "        self.capacity = capacity\n",
    "        self.cache = OrderedDict()\n",
    "\n",
    "    def get(self, key: int) -> int:\n",
    "        if key not in self.cache:\n",
    "            return -1\n",
    "        self.cache.move_to_end(key)  # mark as recently used\n",
    "        return self.cache[key]\n",
    "\n",
    "    def put(self, key: int, value: int) -> None:\n",
    "        if key in self.cache:\n",
    "            self.cache.move_to_end(key)\n",
    "        self.cache[key] = value\n",
    "        if len(self.cache) > self.capacity:\n",
    "            self.cache.popitem(last=False)  # remove least recently used\n"
   ]
  },
  {
   "cell_type": "markdown",
   "id": "9febed86-bc77-49f3-aa50-7adfe033688a",
   "metadata": {},
   "source": [
    "### Alternative Solution"
   ]
  },
  {
   "cell_type": "code",
   "execution_count": 2,
   "id": "3d0f40fa-e3cf-49eb-b872-7290e4cc7f70",
   "metadata": {},
   "outputs": [],
   "source": [
    "# Approach2: Optimized Approach\n",
    "class Node:\n",
    "    def __init__(self, key: int, value: int):\n",
    "        self.key = key\n",
    "        self.value = value\n",
    "        self.prev = None\n",
    "        self.next = None\n",
    "\n",
    "class LRUCache:\n",
    "    def __init__(self, capacity: int):\n",
    "        self.capacity = capacity\n",
    "        self.cache = {}  # key -> Node\n",
    "        # Dummy head and tail\n",
    "        self.head = Node(0, 0)\n",
    "        self.tail = Node(0, 0)\n",
    "        self.head.next = self.tail\n",
    "        self.tail.prev = self.head\n",
    "\n",
    "    def _remove(self, node: Node):\n",
    "        \"\"\"Remove a node from the linked list\"\"\"\n",
    "        prev, nxt = node.prev, node.next\n",
    "        prev.next, nxt.prev = nxt, prev\n",
    "\n",
    "    def _add(self, node: Node):\n",
    "        \"\"\"Add node right after head (most recent)\"\"\"\n",
    "        node.prev = self.head\n",
    "        node.next = self.head.next\n",
    "        self.head.next.prev = node\n",
    "        self.head.next = node\n",
    "\n",
    "    def get(self, key: int) -> int:\n",
    "        if key in self.cache:\n",
    "            node = self.cache[key]\n",
    "            self._remove(node)\n",
    "            self._add(node)\n",
    "            return node.value\n",
    "        return -1\n",
    "\n",
    "    def put(self, key: int, value: int) -> None:\n",
    "        if key in self.cache:\n",
    "            self._remove(self.cache[key])\n",
    "        node = Node(key, value)\n",
    "        self.cache[key] = node\n",
    "        self._add(node)\n",
    "\n",
    "        if len(self.cache) > self.capacity:\n",
    "            # Remove LRU node (just before tail)\n",
    "            lru = self.tail.prev\n",
    "            self._remove(lru)\n",
    "            del self.cache[lru.key]\n",
    "\n",
    "    "
   ]
  },
  {
   "cell_type": "markdown",
   "id": "d6a0376a-06d0-45f0-8c7e-c16ff2a673ef",
   "metadata": {},
   "source": [
    "### Test Cases "
   ]
  },
  {
   "cell_type": "code",
   "execution_count": 3,
   "id": "ae26483e-d6b2-4834-98f4-d7566355dc5d",
   "metadata": {},
   "outputs": [
    {
     "name": "stdout",
     "output_type": "stream",
     "text": [
      "None\n",
      "None\n",
      "1\n",
      "None\n",
      "-1\n",
      "None\n",
      "-1\n",
      "3\n",
      "4\n",
      "1\n",
      "-1\n",
      "-1\n",
      "3\n",
      "4\n"
     ]
    }
   ],
   "source": [
    "# Optimized LRU\n",
    "cache = LRUCache(2)\n",
    "print(cache.put(1, 1))   # None\n",
    "print(cache.put(2, 2))   # None\n",
    "print(cache.get(1))      # 1\n",
    "print(cache.put(3, 3))   # evicts key 2\n",
    "print(cache.get(2))      # -1\n",
    "print(cache.put(4, 4))   # evicts key 1\n",
    "print(cache.get(1))      # -1\n",
    "print(cache.get(3))      # 3\n",
    "print(cache.get(4))      # 4\n",
    "\n",
    "# Using OrderedDict version\n",
    "cache_alt = LRUCacheAlt(2)\n",
    "cache_alt.put(1, 1)\n",
    "cache_alt.put(2, 2)\n",
    "print(cache_alt.get(1))   # 1\n",
    "cache_alt.put(3, 3)       # evicts key 2\n",
    "print(cache_alt.get(2))   # -1\n",
    "cache_alt.put(4, 4)       # evicts key 1\n",
    "print(cache_alt.get(1))   # -1\n",
    "print(cache_alt.get(3))   # 3\n",
    "print(cache_alt.get(4))   # 4\n"
   ]
  },
  {
   "cell_type": "markdown",
   "id": "462318bf-672f-4468-9122-070cf70b5af5",
   "metadata": {},
   "source": [
    "## Complexity Analysis"
   ]
  },
  {
   "cell_type": "markdown",
   "id": "3ff61a2e-affa-44cc-b483-573f9dc9b166",
   "metadata": {},
   "source": [
    "##### Brute Force (List-based:\n",
    "\n",
    "- get → O(n)\n",
    "- put → O(n)\n",
    "- Not scalable for large datasets.\n",
    "\n",
    "#### Optimized Hashmap+Double Linked List:\n",
    "\n",
    "- get → O(1)\n",
    "- put → O(1)\n",
    "- Space → O(capacity)"
   ]
  },
  {
   "cell_type": "markdown",
   "id": "54ae9b22-a3fd-4d97-807c-9deb388d03b1",
   "metadata": {},
   "source": [
    "#### Thank You!!"
   ]
  }
 ],
 "metadata": {
  "kernelspec": {
   "display_name": "Python 3 (ipykernel)",
   "language": "python",
   "name": "python3"
  },
  "language_info": {
   "codemirror_mode": {
    "name": "ipython",
    "version": 3
   },
   "file_extension": ".py",
   "mimetype": "text/x-python",
   "name": "python",
   "nbconvert_exporter": "python",
   "pygments_lexer": "ipython3",
   "version": "3.12.3"
  }
 },
 "nbformat": 4,
 "nbformat_minor": 5
}
