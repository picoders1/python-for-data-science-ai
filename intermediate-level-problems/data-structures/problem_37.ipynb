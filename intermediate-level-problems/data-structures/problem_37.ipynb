{
 "cells": [
  {
   "cell_type": "markdown",
   "id": "8a36d3b1-1a8d-478e-8060-6477472e6bd4",
   "metadata": {},
   "source": [
    "# **Problem Statement**  \n",
    "## **37. Implement a k-dimensional tree (k-d tree) for spatial searches**"
   ]
  },
  {
   "cell_type": "markdown",
   "id": "97e8eaf4-c67c-4ef9-87dd-a1c242b88a5a",
   "metadata": {},
   "source": [
    "Implement a k-dimensional tree (k-d tree) to organize points in a k-dimensional space.\n",
    "The data structure should support:\n",
    "\n",
    "- Insertion of points\n",
    "- Range search (find all points within a given k-dimensional rectangle)\n",
    "- (Optional) Nearest neighbor search"
   ]
  },
  {
   "cell_type": "markdown",
   "id": "12b96244-784f-44f1-b72a-e69e054e8b67",
   "metadata": {},
   "source": [
    "### Constraints & Example Inputs/Outputs\n",
    "\n",
    "- Points are k-dimensional tuples: (x1, x2, ..., xk)\n",
    "- Number of points ≤ 10⁵\n",
    "- Coordinates are integers/floats\n",
    "\n",
    "### Example 1: 2D Range Search\n",
    "```python\n",
    "# Insert points\n",
    "points = [(3,6), (17,15), (13,15), (6,12), (9,1), (2,7), (10,19)]\n",
    "\n",
    "# Query rectangle: x in [0,10], y in [0,10]\n",
    "query_rect = ((0,10),(0,10))\n",
    "\n",
    "# Expected output\n",
    "# [(3,6), (6,12), (9,1), (2,7)]   # points inside rectangle\n",
    "```\n",
    "\n",
    "### Example 2: No points in query\n",
    "```python\n",
    "query_rect = ((20,30),(20,30))\n",
    "# Expected output: []\n"
   ]
  },
  {
   "cell_type": "markdown",
   "id": "b68e7cad-ea42-4bb3-a20e-a91cba6d7424",
   "metadata": {},
   "source": [
    "### Solution Approach"
   ]
  },
  {
   "cell_type": "markdown",
   "id": "144b599f-addb-4686-8425-1f6e6f862acd",
   "metadata": {},
   "source": [
    "Here are the 2 possible approaches:\n",
    "\n",
    "##### Brute Force Approach:\n",
    "- Keep all points in a simple list.\n",
    "- For range search, iterate over all points and check if each is within the query rectangle.\n",
    "- Time complexity: O(n) per query.\n",
    "- Space complexity: O(n).\n",
    "\n",
    "##### Optimized Approach (k-d tree):\n",
    "- Build a binary tree recursively:\n",
    "    - Alternate splitting dimensions at each level.\n",
    "    - Median point becomes the node.\n",
    "- Each node stores a point and references to left/right subtrees.\n",
    "- Range search: prune branches that don’t intersect with the query rectangle.\n",
    "- Insertions and searches are O(log n) on average, worst-case O(n).\n",
    "- Space complexity: O(n)."
   ]
  },
  {
   "cell_type": "markdown",
   "id": "be931aed-e6ac-4398-a9cc-cd43c98ed91b",
   "metadata": {},
   "source": [
    "### Solution Code"
   ]
  },
  {
   "cell_type": "code",
   "execution_count": 5,
   "id": "57cab10a-c58c-459b-b504-16dc7ee1d0ac",
   "metadata": {},
   "outputs": [],
   "source": [
    "# Approach1: Brute Force Approach\n",
    "\n",
    "class BruteForceKDTree:\n",
    "    def __init__(self):\n",
    "        self.points = []\n",
    "\n",
    "    def insert(self, point):\n",
    "        self.points.append(point)\n",
    "\n",
    "    def range_search(self, rect):\n",
    "        result = []\n",
    "        for point in self.points:\n",
    "            if all(rect[d][0] <= point[d] <= rect[d][1] for d in range(len(point))):\n",
    "                result.append(point)\n",
    "        return result\n"
   ]
  },
  {
   "cell_type": "markdown",
   "id": "9febed86-bc77-49f3-aa50-7adfe033688a",
   "metadata": {},
   "source": [
    "### Alternative Solution"
   ]
  },
  {
   "cell_type": "code",
   "execution_count": 6,
   "id": "3d0f40fa-e3cf-49eb-b872-7290e4cc7f70",
   "metadata": {},
   "outputs": [],
   "source": [
    "# Approach2: Optimized k-d tree\n",
    "\n",
    "class KDNode:\n",
    "    def __init__(self, point, axis):\n",
    "        self.point = point\n",
    "        self.axis = axis\n",
    "        self.left = None\n",
    "        self.right = None\n",
    "\n",
    "def build_kd_tree(points, depth=0):\n",
    "    if not points:\n",
    "        return None\n",
    "    k = len(points[0])\n",
    "    axis = depth % k\n",
    "    points.sort(key=lambda x: x[axis])\n",
    "    median = len(points) // 2\n",
    "    node = KDNode(points[median], axis)\n",
    "    node.left = build_kd_tree(points[:median], depth + 1)\n",
    "    node.right = build_kd_tree(points[median + 1:], depth + 1)\n",
    "    return node\n",
    "\n",
    "# Range search helper\n",
    "def kd_range_search(node, rect, depth=0, result=None):\n",
    "    if node is None:\n",
    "        return\n",
    "    if result is None:\n",
    "        result = []\n",
    "    point = node.point\n",
    "    axis = node.axis\n",
    "    if all(rect[d][0] <= point[d] <= rect[d][1] for d in range(len(point))):\n",
    "        result.append(point)\n",
    "    if node.left and point[axis] >= rect[axis][0]:\n",
    "        kd_range_search(node.left, rect, depth + 1, result)\n",
    "    if node.right and point[axis] <= rect[axis][1]:\n",
    "        kd_range_search(node.right, rect, depth + 1, result)\n",
    "    return result\n",
    "    "
   ]
  },
  {
   "cell_type": "markdown",
   "id": "2459abe6-92bc-4283-ad4b-aff83def7ae0",
   "metadata": {},
   "source": [
    "### Alternative Approaches"
   ]
  },
  {
   "cell_type": "markdown",
   "id": "9968c8eb-bc72-4b47-92ab-977b2e022a1e",
   "metadata": {},
   "source": [
    "- Brute Force (Recursive) → simple but inefficient for skewed trees.\n",
    "- BFS using Queue → optimal approach.\n",
    "- DFS with level tracking → pass current depth to recursive DFS, push into result[level]."
   ]
  },
  {
   "cell_type": "markdown",
   "id": "d6a0376a-06d0-45f0-8c7e-c16ff2a673ef",
   "metadata": {},
   "source": [
    "### Test Cases "
   ]
  },
  {
   "cell_type": "code",
   "execution_count": 7,
   "id": "ae26483e-d6b2-4834-98f4-d7566355dc5d",
   "metadata": {},
   "outputs": [
    {
     "name": "stdout",
     "output_type": "stream",
     "text": [
      "Brute Force Range Search (0-10,0-10):\n",
      "[(3, 6), (9, 1), (2, 7)]\n",
      "\n",
      "KD-Tree Range Search (0-10,0-10):\n",
      "[(9, 1), (2, 7), (3, 6)]\n"
     ]
    }
   ],
   "source": [
    "# Sample points\n",
    "points = [(3,6), (17,15), (13,15), (6,12), (9,1), (2,7), (10,19)]\n",
    "\n",
    "# --- Test Brute Force ---\n",
    "bf_tree = BruteForceKDTree()\n",
    "for p in points:\n",
    "    bf_tree.insert(p)\n",
    "\n",
    "print(\"Brute Force Range Search (0-10,0-10):\")\n",
    "print(bf_tree.range_search(((0,10),(0,10))))\n",
    "\n",
    "# --- Test k-d Tree ---\n",
    "kd_root = build_kd_tree(points)\n",
    "print(\"\\nKD-Tree Range Search (0-10,0-10):\")\n",
    "print(kd_range_search(kd_root, ((0,10),(0,10))))\n"
   ]
  },
  {
   "cell_type": "markdown",
   "id": "462318bf-672f-4468-9122-070cf70b5af5",
   "metadata": {},
   "source": [
    "## Complexity Analysis"
   ]
  },
  {
   "cell_type": "markdown",
   "id": "3ff61a2e-affa-44cc-b483-573f9dc9b166",
   "metadata": {},
   "source": [
    "| Operation    | Brute Force | KD-Tree (Avg) |\n",
    "| ------------ | ----------- | ------------- |\n",
    "| Insert       | O(1)        | O(log n)      |\n",
    "| Range Search | O(n)        | O(sqrt(n))    |\n",
    "| Space        | O(n)        | O(n)          |\n"
   ]
  },
  {
   "cell_type": "markdown",
   "id": "54ae9b22-a3fd-4d97-807c-9deb388d03b1",
   "metadata": {},
   "source": [
    "#### Thank You!!"
   ]
  }
 ],
 "metadata": {
  "kernelspec": {
   "display_name": "Python 3 (ipykernel)",
   "language": "python",
   "name": "python3"
  },
  "language_info": {
   "codemirror_mode": {
    "name": "ipython",
    "version": 3
   },
   "file_extension": ".py",
   "mimetype": "text/x-python",
   "name": "python",
   "nbconvert_exporter": "python",
   "pygments_lexer": "ipython3",
   "version": "3.12.3"
  }
 },
 "nbformat": 4,
 "nbformat_minor": 5
}
