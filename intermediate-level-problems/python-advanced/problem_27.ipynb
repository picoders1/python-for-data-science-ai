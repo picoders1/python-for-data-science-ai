{
 "cells": [
  {
   "cell_type": "markdown",
   "id": "8a36d3b1-1a8d-478e-8060-6477472e6bd4",
   "metadata": {},
   "source": [
    "# **Problem Statement**  \n",
    "## **27. Demonstrate the use of __call__ method in classes**"
   ]
  },
  {
   "cell_type": "markdown",
   "id": "3250a3fd-568d-417b-9855-8c3ba7ba4aba",
   "metadata": {},
   "source": [
    "We are expected to explain and implement how the __call__ method works in Python, especially in the context of classes where instances behave like functions."
   ]
  },
  {
   "cell_type": "markdown",
   "id": "12b96244-784f-44f1-b72a-e69e054e8b67",
   "metadata": {},
   "source": [
    "### Identify Constraints & Example Inputs/Outputs\n",
    "\n",
    "Constraints:\n",
    "\n",
    "- Demonstrate at least one practical use case where __call__ can be helpful.\n",
    "- Avoid unnecessary over-engineering — stick to clarity and simplicity.\n",
    "\n",
    "---\n",
    "Example Usage: \n",
    "\n",
    "```python\n",
    "greeter = Greeter(\"Hello\")\n",
    "greeter(\"Alice\")  # Output: \"Hello, Alice\"\n"
   ]
  },
  {
   "cell_type": "markdown",
   "id": "b68e7cad-ea42-4bb3-a20e-a91cba6d7424",
   "metadata": {},
   "source": [
    "### Solution Approach"
   ]
  },
  {
   "cell_type": "markdown",
   "id": "144b599f-addb-4686-8425-1f6e6f862acd",
   "metadata": {},
   "source": [
    "What is the __call__ method?\n",
    "\n",
    "It's a special method in Python that allows an instance of a class to be called as if it were a function.\n",
    "\n",
    "When to use it?\n",
    "\n",
    "- When you want objects to have \"function-like\" behavior.\n",
    "- For encapsulating logic in callable objects — often seen in ML pipelines, decorators, and stateful functions.\n",
    "\n",
    "How is it defined?\n",
    "\n",
    "Inside a class, use:\n",
    "\n",
    "```python\n",
    "def __call__(self,...):\n"
   ]
  },
  {
   "cell_type": "markdown",
   "id": "be931aed-e6ac-4398-a9cc-cd43c98ed91b",
   "metadata": {},
   "source": [
    "### Solution Code"
   ]
  },
  {
   "cell_type": "code",
   "execution_count": 3,
   "id": "57cab10a-c58c-459b-b504-16dc7ee1d0ac",
   "metadata": {},
   "outputs": [
    {
     "name": "stdout",
     "output_type": "stream",
     "text": [
      "15\n"
     ]
    }
   ],
   "source": [
    "# Approach 1: Brute Force Approach \n",
    "class Adder:\n",
    "    def __init__(self, base: int) -> None:\n",
    "        self.base = base\n",
    "    def __call__(self, x:int) -> int:\n",
    "        return self.base +x\n",
    "\n",
    "add_five = Adder(5)\n",
    "print(add_five(10))"
   ]
  },
  {
   "cell_type": "code",
   "execution_count": 11,
   "id": "04a2ccc4-fe1b-4a3d-bcef-508b821bc286",
   "metadata": {},
   "outputs": [
    {
     "name": "stdout",
     "output_type": "stream",
     "text": [
      "7\n"
     ]
    }
   ],
   "source": [
    "# similarly, for subjtract\n",
    "class subtract:\n",
    "    def __init__(self, base:int) -> None:\n",
    "        self.base = base\n",
    "    def __call__(self, y:int) -> int:\n",
    "        return self.base - y\n",
    "\n",
    "sub_ten = subtract(10)\n",
    "print(sub_ten(3))"
   ]
  },
  {
   "cell_type": "markdown",
   "id": "9febed86-bc77-49f3-aa50-7adfe033688a",
   "metadata": {},
   "source": [
    "### Alternative Solution"
   ]
  },
  {
   "cell_type": "code",
   "execution_count": 10,
   "id": "c10bd808-db0c-40d2-bf3f-9d1315fb9f7f",
   "metadata": {},
   "outputs": [
    {
     "name": "stdout",
     "output_type": "stream",
     "text": [
      "INFO: This is a log message\n"
     ]
    }
   ],
   "source": [
    "# Approach 2: Optimized Approach (Using Logging Decorator)\n",
    "class Logger:\n",
    "    def __init__(self, prefix:str) -> None:\n",
    "        self.prefix = prefix\n",
    "    def __call__(self, message: str) -> None:\n",
    "        print(f\"{self.prefix}: {message}\")\n",
    "\n",
    "Log = Logger(\"INFO\")\n",
    "Log(\"This is a log message\")"
   ]
  },
  {
   "cell_type": "markdown",
   "id": "8113b2b6-b516-4337-a85a-e721d66aff44",
   "metadata": {},
   "source": [
    "### Alternative Approaches"
   ]
  },
  {
   "cell_type": "code",
   "execution_count": 16,
   "id": "0efc92f5-0fbc-472e-9058-88ff763b4107",
   "metadata": {},
   "outputs": [
    {
     "name": "stdout",
     "output_type": "stream",
     "text": [
      "Hello, Pi\n"
     ]
    }
   ],
   "source": [
    "# Without __call__ — using a method:\n",
    "class Greeter:\n",
    "    def greet(self, name: str) -> str:\n",
    "        return f\"Hello, {name}\"\n",
    "\n",
    "g = Greeter()\n",
    "print(g.greet(\"Pi\"))"
   ]
  },
  {
   "cell_type": "code",
   "execution_count": 17,
   "id": "3a3fc0f8-e895-4660-b6d2-99ecdcbcea98",
   "metadata": {
    "scrolled": true
   },
   "outputs": [
    {
     "name": "stdout",
     "output_type": "stream",
     "text": [
      "Hello, Pi\n"
     ]
    }
   ],
   "source": [
    "# With __call__ — cleaner and more intuitive in some cases:\n",
    "class Greeter:\n",
    "    def __call__(self, name: str) -> str:\n",
    "        return f\"Hello, {name}\"\n",
    "\n",
    "g = Greeter()\n",
    "print(g(\"Pi\"))"
   ]
  },
  {
   "cell_type": "markdown",
   "id": "462318bf-672f-4468-9122-070cf70b5af5",
   "metadata": {},
   "source": [
    "## Complexity Analysis"
   ]
  },
  {
   "cell_type": "markdown",
   "id": "3ff61a2e-affa-44cc-b483-573f9dc9b166",
   "metadata": {},
   "source": [
    "Time Complexity: O(1) per call, as it just executes a defined method inside a class.\n",
    "\n",
    "Space Complexity: O(1) – the object itself holds minimal state unless explicitly expanded."
   ]
  },
  {
   "cell_type": "markdown",
   "id": "54ae9b22-a3fd-4d97-807c-9deb388d03b1",
   "metadata": {},
   "source": [
    "#### Thank You!!"
   ]
  }
 ],
 "metadata": {
  "kernelspec": {
   "display_name": "Python 3 (ipykernel)",
   "language": "python",
   "name": "python3"
  },
  "language_info": {
   "codemirror_mode": {
    "name": "ipython",
    "version": 3
   },
   "file_extension": ".py",
   "mimetype": "text/x-python",
   "name": "python",
   "nbconvert_exporter": "python",
   "pygments_lexer": "ipython3",
   "version": "3.8.10"
  }
 },
 "nbformat": 4,
 "nbformat_minor": 5
}
