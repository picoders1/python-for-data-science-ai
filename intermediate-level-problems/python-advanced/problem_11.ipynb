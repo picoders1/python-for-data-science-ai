{
 "cells": [
  {
   "cell_type": "markdown",
   "id": "8a36d3b1-1a8d-478e-8060-6477472e6bd4",
   "metadata": {},
   "source": [
    "# **Problem Statement**  \n",
    "## *11. Implement a thread-safe counter using threading module*"
   ]
  },
  {
   "cell_type": "markdown",
   "id": "3250a3fd-568d-417b-9855-8c3ba7ba4aba",
   "metadata": {},
   "source": [
    "We need to implement a thread-safe counter in Python using the threading module.\n",
    "\n",
    "The counter should allow multiple threads to safely increment and retrieve the current count without causing race conditions or incorrect results.\n",
    "\n",
    "The implementation should work correctly when accessed by concurrent threads."
   ]
  },
  {
   "cell_type": "markdown",
   "id": "12b96244-784f-44f1-b72a-e69e054e8b67",
   "metadata": {},
   "source": [
    "### Identify Constraints & Example Inputs/Outputs\n",
    "\n",
    "Constraints:\n",
    "\n",
    "- The counter should be initialized with 0.\n",
    "\n",
    "- Multiple threads will call the increment() function.\n",
    "\n",
    "- The final count should match the number of total increments across all threads.\n",
    "\n",
    "---\n",
    "Example Usage: \n",
    "\n",
    "```python\n",
    "counter = ThreadSafeCounter()\n",
    "threads = []\n",
    "\n",
    "for _ in range(100):\n",
    "    t = threading.Thread(target=counter.increment)\n",
    "    threads.append(t)\n",
    "    t.start()\n",
    "\n",
    "for t in threads:\n",
    "    t.join()\n",
    "\n",
    "print(counter.get_count())  # Output: 100\n",
    "\n",
    "---"
   ]
  },
  {
   "cell_type": "markdown",
   "id": "b68e7cad-ea42-4bb3-a20e-a91cba6d7424",
   "metadata": {},
   "source": [
    "### Solution Approach"
   ]
  },
  {
   "cell_type": "markdown",
   "id": "144b599f-addb-4686-8425-1f6e6f862acd",
   "metadata": {},
   "source": [
    "Step1: In multithreading environments, shared resources can be accessed simultaneously.\n",
    "\n",
    "Step2: Without protection, this leads to race conditions where multiple threads try to modify data at the same time.\n",
    "\n",
    "Step3: To prevent this, Python provides thread locks using threading.Lock.\n",
    "\n",
    "Step4: We'll use a lock to wrap the increment logic, making the counter thread-safe."
   ]
  },
  {
   "cell_type": "markdown",
   "id": "be931aed-e6ac-4398-a9cc-cd43c98ed91b",
   "metadata": {},
   "source": [
    "### Solution Code"
   ]
  },
  {
   "cell_type": "code",
   "execution_count": 3,
   "id": "57cab10a-c58c-459b-b504-16dc7ee1d0ac",
   "metadata": {},
   "outputs": [],
   "source": [
    "# Approach 1: Brute Force Approach (Without Lock)\n",
    "import threading\n",
    "\n",
    "class UnsafeCounter:\n",
    "    def __init__(self):\n",
    "        self.count = 0\n",
    "\n",
    "    def increment(self):\n",
    "        self.count += 1\n",
    "\n",
    "    def get_count(self):\n",
    "        return self.count \n"
   ]
  },
  {
   "cell_type": "code",
   "execution_count": 4,
   "id": "df964fd2-5555-4a67-9113-d56584f9d5f7",
   "metadata": {},
   "outputs": [
    {
     "name": "stdout",
     "output_type": "stream",
     "text": [
      "Final count (unsafe): 1000\n"
     ]
    }
   ],
   "source": [
    "# Example\n",
    "counter = UnsafeCounter()\n",
    "threads = []\n",
    "\n",
    "for __ in range(1000):\n",
    "    t = threading.Thread(target=counter.increment)\n",
    "    threads.append(t)\n",
    "    t.start()\n",
    "\n",
    "for t in threads:\n",
    "    t.join()\n",
    "\n",
    "print(\"Final count (unsafe):\", counter.get_count())"
   ]
  },
  {
   "cell_type": "markdown",
   "id": "9febed86-bc77-49f3-aa50-7adfe033688a",
   "metadata": {},
   "source": [
    "### Alternative Solution"
   ]
  },
  {
   "cell_type": "code",
   "execution_count": 10,
   "id": "c10bd808-db0c-40d2-bf3f-9d1315fb9f7f",
   "metadata": {},
   "outputs": [],
   "source": [
    "# Approach 2: Optimized Approach (Using lock)\n",
    "import threading\n",
    "\n",
    "class ThreadSafeCounter:\n",
    "    def __init__(self):\n",
    "        self.count = 0\n",
    "        self.lock = threading.Lock()\n",
    "\n",
    "    def increment(self):\n",
    "        with self.lock:\n",
    "            self.count += 1\n",
    "\n",
    "    def get_Count(self):\n",
    "        with self.lock:\n",
    "            return self.count"
   ]
  },
  {
   "cell_type": "code",
   "execution_count": 11,
   "id": "0efc92f5-0fbc-472e-9058-88ff763b4107",
   "metadata": {},
   "outputs": [
    {
     "name": "stdout",
     "output_type": "stream",
     "text": [
      "FINAL COUNT IS: 1000\n"
     ]
    }
   ],
   "source": [
    "# Example\n",
    "\n",
    "counter = ThreadSafeCounter()\n",
    "threads.append(t)\n",
    "\n",
    "for __ in range(1000):\n",
    "    t = threading.Thread(target=counter.increment)\n",
    "    threads.append(t)\n",
    "    t.start()\n",
    "\n",
    "for t in threads:\n",
    "    t.join()\n",
    "\n",
    "print(\"FINAL COUNT IS:\", counter.get_Count())"
   ]
  },
  {
   "cell_type": "markdown",
   "id": "462318bf-672f-4468-9122-070cf70b5af5",
   "metadata": {},
   "source": [
    "## Complexity Analysis"
   ]
  },
  {
   "cell_type": "markdown",
   "id": "3ff61a2e-affa-44cc-b483-573f9dc9b166",
   "metadata": {},
   "source": [
    "Time Complexity: O(1) \n",
    "\n",
    "- increment() : O(1)\n",
    "- get_count() : O(1)\n",
    "\n",
    "Space Complexity:\n",
    "\n",
    "- O(1) for counter and lock"
   ]
  },
  {
   "cell_type": "markdown",
   "id": "54ae9b22-a3fd-4d97-807c-9deb388d03b1",
   "metadata": {},
   "source": [
    "#### Thank You!!"
   ]
  }
 ],
 "metadata": {
  "kernelspec": {
   "display_name": "Python 3 (ipykernel)",
   "language": "python",
   "name": "python3"
  },
  "language_info": {
   "codemirror_mode": {
    "name": "ipython",
    "version": 3
   },
   "file_extension": ".py",
   "mimetype": "text/x-python",
   "name": "python",
   "nbconvert_exporter": "python",
   "pygments_lexer": "ipython3",
   "version": "3.8.10"
  }
 },
 "nbformat": 4,
 "nbformat_minor": 5
}
