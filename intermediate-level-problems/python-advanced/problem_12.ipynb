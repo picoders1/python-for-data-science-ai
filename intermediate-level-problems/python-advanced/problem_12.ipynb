{
 "cells": [
  {
   "cell_type": "markdown",
   "id": "8a36d3b1-1a8d-478e-8060-6477472e6bd4",
   "metadata": {},
   "source": [
    "# **Problem Statement**  \n",
    "## **12. Use multiprocessing to parallelize a CPU-bound task.**"
   ]
  },
  {
   "cell_type": "markdown",
   "id": "3250a3fd-568d-417b-9855-8c3ba7ba4aba",
   "metadata": {},
   "source": [
    "Demonstrate how to use Python’s multiprocessing module to parallelize a CPU-bound task, such as computing factorials or prime numbers over a large input list, to improve execution performance on multi-core systems."
   ]
  },
  {
   "cell_type": "markdown",
   "id": "12b96244-784f-44f1-b72a-e69e054e8b67",
   "metadata": {},
   "source": [
    "### Identify Constraints & Example Inputs/Outputs\n",
    "\n",
    "Constraints:\n",
    "\n",
    "- The task should be CPU-bound (i.e., it performs heavy computations).\n",
    "- The input should be large enough to show the performance difference.\n",
    "\n",
    "---\n",
    "Example Usage: \n",
    "Input: List of integers [50000, 60000, 70000]  \n",
    "Output: Number of prime numbers up to each integer (executed in parallel)\n",
    "\n",
    "---"
   ]
  },
  {
   "cell_type": "markdown",
   "id": "b68e7cad-ea42-4bb3-a20e-a91cba6d7424",
   "metadata": {},
   "source": [
    "### Solution Approach"
   ]
  },
  {
   "cell_type": "markdown",
   "id": "144b599f-addb-4686-8425-1f6e6f862acd",
   "metadata": {},
   "source": [
    "Step1. Define a CPU-bound function like counting prime numbers up to a given number.\n",
    "\n",
    "Step2. Create a list of numbers to run this function on.\n",
    "\n",
    "Step3. Use a for loop to compute serial execution (brute force).\n",
    "\n",
    "Step 4. Use multiprocessing.Pool or Process to parallelize the same function across CPU cores.\n",
    "\n",
    "Step 5. Measure time taken for both approaches using time module.\n",
    "\n",
    "Step 6. Show how multiprocessing reduces total execution time by using multiple cores."
   ]
  },
  {
   "cell_type": "markdown",
   "id": "be931aed-e6ac-4398-a9cc-cd43c98ed91b",
   "metadata": {},
   "source": [
    "### Solution Code"
   ]
  },
  {
   "cell_type": "code",
   "execution_count": 1,
   "id": "57cab10a-c58c-459b-b504-16dc7ee1d0ac",
   "metadata": {},
   "outputs": [
    {
     "name": "stdout",
     "output_type": "stream",
     "text": [
      "Serial Results: [5133, 6057, 6935]\n",
      "Serial Execution Time: 0.8057219982147217\n"
     ]
    }
   ],
   "source": [
    "# Approach 1: Brute Force Approach \n",
    "import time\n",
    "\n",
    "def count_primes(n):\n",
    "    count = 0\n",
    "    for num in range(2,n):\n",
    "        if all(num % i != 0 for i in range(2, int(num**0.5)+1)):\n",
    "            count += 1\n",
    "    return count\n",
    "\n",
    "inputs = [50000, 60000, 70000]\n",
    "\n",
    "start = time.time()\n",
    "results = [count_primes(n) for n in inputs]\n",
    "end = time.time()\n",
    "\n",
    "print(\"Serial Results:\", results)\n",
    "print(\"Serial Execution Time:\", end-start)"
   ]
  },
  {
   "cell_type": "markdown",
   "id": "9febed86-bc77-49f3-aa50-7adfe033688a",
   "metadata": {},
   "source": [
    "### Alternative Solution"
   ]
  },
  {
   "cell_type": "code",
   "execution_count": null,
   "id": "c10bd808-db0c-40d2-bf3f-9d1315fb9f7f",
   "metadata": {},
   "outputs": [],
   "source": [
    "# Approach 2: Optimized Approach (Using multiprocessing)\n",
    "import multiprocessing \n",
    "import time \n",
    "\n",
    "if __name__ == \"__main__\":\n",
    "    inputs = [50000, 60000, 70000] \n",
    "    start = time.time()\n",
    "    with multiprocessing.Pool() as pool:\n",
    "        results = pool.map(count_primes, inputs)\n",
    "    end = time.time()\n",
    "\n",
    "print(\"Parallel Results:\", results)\n",
    "print(\"Parallel Execution Time:\", end - start)"
   ]
  },
  {
   "cell_type": "markdown",
   "id": "462318bf-672f-4468-9122-070cf70b5af5",
   "metadata": {},
   "source": [
    "## Complexity Analysis"
   ]
  },
  {
   "cell_type": "markdown",
   "id": "3ff61a2e-affa-44cc-b483-573f9dc9b166",
   "metadata": {},
   "source": [
    "Time Complexity: \n",
    "\n",
    "- For each number `n`, checking for primes takes approximately O(n * √n).\n",
    "- Total serial time: O(k * n√n), where `k` is number of elements in input list.\n",
    "\n",
    "Space Complexity: \n",
    "\n",
    "- O(1) per process; but memory usage increases with number of processes in parallel version.\n",
    "\n",
    "Parallel Speed-up:\n",
    "\n",
    "- With enough GPU cores, parallel version can approach ≈ 1 / cores of the serial time.\n"
   ]
  },
  {
   "cell_type": "markdown",
   "id": "54ae9b22-a3fd-4d97-807c-9deb388d03b1",
   "metadata": {},
   "source": [
    "#### Thank You!!"
   ]
  }
 ],
 "metadata": {
  "kernelspec": {
   "display_name": "Python 3 (ipykernel)",
   "language": "python",
   "name": "python3"
  },
  "language_info": {
   "codemirror_mode": {
    "name": "ipython",
    "version": 3
   },
   "file_extension": ".py",
   "mimetype": "text/x-python",
   "name": "python",
   "nbconvert_exporter": "python",
   "pygments_lexer": "ipython3",
   "version": "3.8.10"
  }
 },
 "nbformat": 4,
 "nbformat_minor": 5
}
