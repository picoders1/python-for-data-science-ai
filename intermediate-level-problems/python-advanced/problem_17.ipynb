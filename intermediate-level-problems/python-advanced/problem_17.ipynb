{
 "cells": [
  {
   "cell_type": "markdown",
   "id": "8a36d3b1-1a8d-478e-8060-6477472e6bd4",
   "metadata": {},
   "source": [
    "# **Problem Statement**  \n",
    "## **17. Implement a custom iterable that supports slicing.**"
   ]
  },
  {
   "cell_type": "markdown",
   "id": "3250a3fd-568d-417b-9855-8c3ba7ba4aba",
   "metadata": {},
   "source": [
    "- Design a custom iterable class in Python that mimics sequence behavior and supports slicing (e.g., obj[2:5]).\n",
    "- The class should also behave like a standard Python iterable and return appropriate elements or slices when accessed."
   ]
  },
  {
   "cell_type": "markdown",
   "id": "12b96244-784f-44f1-b72a-e69e054e8b67",
   "metadata": {},
   "source": [
    "### Identify Constraints & Example Inputs/Outputs\n",
    "\n",
    "Constraints:\n",
    "\n",
    "- Must use __getitem__() to support both indexing and slicing\n",
    "- Should not use built-in list slicing directly in the user-facing interface\n",
    "- Output for slice should return a list of the sliced items\n",
    "\n",
    "---\n",
    "Example Usage: \n",
    "\n",
    "```python\n",
    "data = MyIterable([10, 20, 30, 40, 50])\n",
    "print(data[1])      # Output: 20  \n",
    "print(data[1:4])    # Output: [20, 30, 40]\n",
    "\n",
    "---"
   ]
  },
  {
   "cell_type": "markdown",
   "id": "b68e7cad-ea42-4bb3-a20e-a91cba6d7424",
   "metadata": {},
   "source": [
    "### Solution Approach"
   ]
  },
  {
   "cell_type": "markdown",
   "id": "144b599f-addb-4686-8425-1f6e6f862acd",
   "metadata": {},
   "source": [
    "Step1: Define a class MyIterable.\n",
    "\n",
    "Step2: Initialize it with a list or sequence.\n",
    "\n",
    "STEP3: Implement the __iter__() method to support iteration.\n",
    "\n",
    "Step4: Implement __getitem__() to support both:\n",
    "\n",
    "Step5: Single index access (like obj[2])\n",
    "\n",
    "Step6: Slice access (like obj[2:5]) using isinstance(index, slice)\n",
    "\n",
    "Step7: When a slice is provided, manually extract items in the specified range using slice's .start, .stop, and .step."
   ]
  },
  {
   "cell_type": "markdown",
   "id": "be931aed-e6ac-4398-a9cc-cd43c98ed91b",
   "metadata": {},
   "source": [
    "### Solution Code"
   ]
  },
  {
   "cell_type": "code",
   "execution_count": 1,
   "id": "57cab10a-c58c-459b-b504-16dc7ee1d0ac",
   "metadata": {},
   "outputs": [],
   "source": [
    "# Approach1: Brute Force & Optimized Approach \n",
    "class MyIterable:\n",
    "    def __init__(self, data):\n",
    "        self.data = data\n",
    "\n",
    "    def __iter__(self):\n",
    "        return iter(self.data)\n",
    "\n",
    "    def __getitem__(self, index):\n",
    "        if isinstance(index, slice):\n",
    "            # Manual slicing using slice.start, stop, step\n",
    "            return [self.data[i] for i in range(*index.indices(len(self.data)))]\n",
    "        elif isinstance(index, int):\n",
    "            return self.data[index]\n",
    "        else:\n",
    "            raise TypeError(\"Index must be int or slice\")"
   ]
  },
  {
   "cell_type": "code",
   "execution_count": 2,
   "id": "db59700b-0b30-49cd-b793-084565ed38f3",
   "metadata": {},
   "outputs": [
    {
     "name": "stdout",
     "output_type": "stream",
     "text": [
      "20\n",
      "[20, 30, 40]\n",
      "[10, 20, 30, 40, 50]\n"
     ]
    }
   ],
   "source": [
    "# Example\n",
    "obj = MyIterable([10, 20, 30, 40, 50])\n",
    "print(obj[1])        # Output: 20\n",
    "print(obj[1:4])      # Output: [20, 30, 40]\n",
    "print(list(obj))     # Output: [10, 20, 30, 40, 50]"
   ]
  },
  {
   "cell_type": "markdown",
   "id": "9febed86-bc77-49f3-aa50-7adfe033688a",
   "metadata": {},
   "source": [
    "### Alternative Approaches"
   ]
  },
  {
   "cell_type": "markdown",
   "id": "5f7ffdb5-201d-4df7-8fd8-3f73224c5ea3",
   "metadata": {},
   "source": [
    "- Use collections.abc.Sequence and subclass it for full sequence behavior\n",
    "- Use generators for lazy slicing if data is large or streamed\n",
    "- Implement slicing logic using itertools.islice() for more control over steps and performance"
   ]
  },
  {
   "cell_type": "markdown",
   "id": "462318bf-672f-4468-9122-070cf70b5af5",
   "metadata": {},
   "source": [
    "## Complexity Analysis"
   ]
  },
  {
   "cell_type": "markdown",
   "id": "3ff61a2e-affa-44cc-b483-573f9dc9b166",
   "metadata": {},
   "source": [
    "Time Complexity: \n",
    "- Index access (obj[i]) – O(1)\n",
    "- Slice access (obj[i:j]) – O(k), where k = j - i\n",
    "\n",
    "Space Complexity:\n",
    "- Slice access returns a new list – O(k) space for the sliced list\n",
    "- Iteration – O(1) memory overhead if using iter()"
   ]
  },
  {
   "cell_type": "markdown",
   "id": "54ae9b22-a3fd-4d97-807c-9deb388d03b1",
   "metadata": {},
   "source": [
    "#### Thank You!!"
   ]
  }
 ],
 "metadata": {
  "kernelspec": {
   "display_name": "Python 3 (ipykernel)",
   "language": "python",
   "name": "python3"
  },
  "language_info": {
   "codemirror_mode": {
    "name": "ipython",
    "version": 3
   },
   "file_extension": ".py",
   "mimetype": "text/x-python",
   "name": "python",
   "nbconvert_exporter": "python",
   "pygments_lexer": "ipython3",
   "version": "3.8.10"
  }
 },
 "nbformat": 4,
 "nbformat_minor": 5
}
