{
 "cells": [
  {
   "cell_type": "markdown",
   "id": "8a36d3b1-1a8d-478e-8060-6477472e6bd4",
   "metadata": {},
   "source": [
    "# **Problem Statement**  \n",
    "## **16. Demonstrate the difference between shallow and deep copies.**"
   ]
  },
  {
   "cell_type": "markdown",
   "id": "499e77d0-ca12-4d97-b4a6-cd945d22155e",
   "metadata": {},
   "source": [
    "Write a Python script to clearly demonstrate the behavioral difference between a shallow copy and a deep copy of a complex (nested) object using the built-in copy module."
   ]
  },
  {
   "cell_type": "markdown",
   "id": "12b96244-784f-44f1-b72a-e69e054e8b67",
   "metadata": {},
   "source": [
    "### Identify Constraints & Example\n",
    "\n",
    "- Use a nested list or dictionary to demonstrate.\n",
    "\n",
    "- Modifying the original or copy should highlight the difference.\n",
    "\n",
    "- Avoid using third-party libraries.\n",
    "\n",
    "Example Usage: \n",
    "\n",
    "```python\n",
    "original = [[1, 2], [3, 4]]\n",
    "shallow = copy.copy(original)\n",
    "deep = copy.deepcopy(original)\n",
    "\n",
    "```\n",
    "\n",
    "Expected Behaviour:\n",
    "- Modifying original[0][0] should also reflect in shallow, but not in deep.\n",
    "\n"
   ]
  },
  {
   "cell_type": "markdown",
   "id": "b68e7cad-ea42-4bb3-a20e-a91cba6d7424",
   "metadata": {},
   "source": [
    "### Solution Approach"
   ]
  },
  {
   "cell_type": "markdown",
   "id": "144b599f-addb-4686-8425-1f6e6f862acd",
   "metadata": {},
   "source": [
    "Step1: Import the copy module.\n",
    "\n",
    "Step2: Create a nested list or dictionary (original).\n",
    "\n",
    "Step3: Use copy.copy() to create a shallow copy.\n",
    "\n",
    "Step4: Use copy.deepcopy() to create a deep copy.\n",
    "\n",
    "Step5: Modify the original nested item.\n",
    "\n",
    "Step6: Print and compare values from all three objects.\n",
    "\n",
    "Step7: Explain results."
   ]
  },
  {
   "cell_type": "markdown",
   "id": "be931aed-e6ac-4398-a9cc-cd43c98ed91b",
   "metadata": {},
   "source": [
    "### Solution Code"
   ]
  },
  {
   "cell_type": "code",
   "execution_count": 1,
   "id": "57cab10a-c58c-459b-b504-16dc7ee1d0ac",
   "metadata": {},
   "outputs": [
    {
     "name": "stdout",
     "output_type": "stream",
     "text": [
      "Original: [[99, 2], [3, 4]]\n",
      "Shallow Copy: [[99, 2], [3, 4]]\n",
      "Deep Copy: [[1, 2], [3, 4]]\n"
     ]
    }
   ],
   "source": [
    "# Approach1: Brute Force Approach \n",
    "import copy\n",
    "\n",
    "# Step 1: Original nested list\n",
    "original = [[1, 2], [3, 4]]\n",
    "\n",
    "# Step 2: Shallow and Deep copies\n",
    "shallow = copy.copy(original)\n",
    "deep = copy.deepcopy(original)\n",
    "\n",
    "# Step 3: Modify the original\n",
    "original[0][0] = 99\n",
    "\n",
    "# Step 4: Print all\n",
    "print(\"Original:\", original)\n",
    "print(\"Shallow Copy:\", shallow)\n",
    "print(\"Deep Copy:\", deep)"
   ]
  },
  {
   "cell_type": "markdown",
   "id": "9febed86-bc77-49f3-aa50-7adfe033688a",
   "metadata": {},
   "source": [
    "### Alternative Approaches"
   ]
  },
  {
   "cell_type": "markdown",
   "id": "3eb79326-ce0c-45f4-8a17-01b40610151f",
   "metadata": {},
   "source": [
    "- Use nested dictionaries instead of lists.\n",
    "\n",
    "- Try custom classes with nested attributes."
   ]
  },
  {
   "cell_type": "markdown",
   "id": "462318bf-672f-4468-9122-070cf70b5af5",
   "metadata": {},
   "source": [
    "## Complexity Analysis"
   ]
  },
  {
   "cell_type": "markdown",
   "id": "3ff61a2e-affa-44cc-b483-573f9dc9b166",
   "metadata": {},
   "source": [
    "Time Complexity: \n",
    "\n",
    "- copy.copy() – O(1) for the outer object, shallowly copied\n",
    "\n",
    "- copy.deepcopy() – O(n) where n is the total number of nested elements\n",
    "\n",
    "Space Complexity: \n",
    "\n",
    "- Shallow copy: additional space only for the outer object\n",
    "\n",
    "- Deep copy: extra space for the entire structure"
   ]
  },
  {
   "cell_type": "markdown",
   "id": "54ae9b22-a3fd-4d97-807c-9deb388d03b1",
   "metadata": {},
   "source": [
    "#### Thank You!!"
   ]
  }
 ],
 "metadata": {
  "kernelspec": {
   "display_name": "Python 3 (ipykernel)",
   "language": "python",
   "name": "python3"
  },
  "language_info": {
   "codemirror_mode": {
    "name": "ipython",
    "version": 3
   },
   "file_extension": ".py",
   "mimetype": "text/x-python",
   "name": "python",
   "nbconvert_exporter": "python",
   "pygments_lexer": "ipython3",
   "version": "3.8.10"
  }
 },
 "nbformat": 4,
 "nbformat_minor": 5
}
