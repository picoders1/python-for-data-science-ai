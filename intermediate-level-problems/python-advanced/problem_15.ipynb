{
 "cells": [
  {
   "cell_type": "markdown",
   "id": "8a36d3b1-1a8d-478e-8060-6477472e6bd4",
   "metadata": {},
   "source": [
    "# **Problem Statement**  \n",
    "## **15. Use __slots__ to reduce memory usage in classes**"
   ]
  },
  {
   "cell_type": "markdown",
   "id": "3250a3fd-568d-417b-9855-8c3ba7ba4aba",
   "metadata": {},
   "source": [
    "Define a Python class and compare its memory usage with and without __slots__. The goal is to show how __slots__ can optimize memory consumption when creating many instances of a class."
   ]
  },
  {
   "cell_type": "markdown",
   "id": "12b96244-784f-44f1-b72a-e69e054e8b67",
   "metadata": {},
   "source": [
    "### Identify Constraints & Example Inputs/Outputs\n",
    "\n",
    "Constraints:\n",
    "\n",
    "- Input: Class with multiple attributes, large number of instances (e.g., 1,000,000).\n",
    "\n",
    "- Output: Memory usage in bytes for class with __slots__ vs without.\n",
    "\n",
    "Example Usage: \n",
    "\n",
    "```python\n",
    "class Person:\n",
    "    def __init__(self, name, age):\n",
    "\n",
    "class PersonWithSlots:\n",
    "    __slots__ = ['name', 'age']\n",
    "    def __init__(self, name, age): \n",
    "\n",
    "Expected Result:\n",
    "\n",
    "Memory usage for PersonWithSlots is significantly less than Person.\n",
    "\n"
   ]
  },
  {
   "cell_type": "markdown",
   "id": "b68e7cad-ea42-4bb3-a20e-a91cba6d7424",
   "metadata": {},
   "source": [
    "### Solution Approach"
   ]
  },
  {
   "cell_type": "markdown",
   "id": "144b599f-addb-4686-8425-1f6e6f862acd",
   "metadata": {},
   "source": [
    "Step1: Normally, Python classes use a __dict__ to store attributes, which takes up memory.\n",
    "\n",
    "Step2: __slots__ tells Python to not use a dynamic __dict__, and instead allocate fixed memory for attributes.\n",
    "\n",
    "Step3: This saves memory when you are creating many instances of lightweight classes.\n",
    "\n",
    "Step4: However, it also comes with tradeoffs: you can’t dynamically add attributes, and inheritance is trickier."
   ]
  },
  {
   "cell_type": "markdown",
   "id": "be931aed-e6ac-4398-a9cc-cd43c98ed91b",
   "metadata": {},
   "source": [
    "### Solution Code"
   ]
  },
  {
   "cell_type": "markdown",
   "id": "33ca396f-c9d0-4122-bd2b-a8e7f81f844d",
   "metadata": {},
   "source": [
    "#### Brute Force (Without __slots__):"
   ]
  },
  {
   "cell_type": "code",
   "execution_count": 2,
   "id": "57cab10a-c58c-459b-b504-16dc7ee1d0ac",
   "metadata": {},
   "outputs": [
    {
     "name": "stdout",
     "output_type": "stream",
     "text": [
      "Without __slots__: 104\n"
     ]
    }
   ],
   "source": [
    "import sys\n",
    "\n",
    "class Person:\n",
    "    def __init__(self, name, age):\n",
    "        self.name = name\n",
    "        self.age = age\n",
    "\n",
    "p1 = Person(\"Alice\", 30)\n",
    "print(\"Without __slots__:\", sys.getsizeof(p1.__dict__))"
   ]
  },
  {
   "cell_type": "markdown",
   "id": "76797b68-3e9e-4be7-8bca-fb6af5eaf7ac",
   "metadata": {},
   "source": [
    "#### Optimized (With __slots__):"
   ]
  },
  {
   "cell_type": "code",
   "execution_count": 5,
   "id": "db59700b-0b30-49cd-b793-084565ed38f3",
   "metadata": {},
   "outputs": [
    {
     "name": "stdout",
     "output_type": "stream",
     "text": [
      "With __slots__: 48\n"
     ]
    }
   ],
   "source": [
    "class PersonWithSlots:\n",
    "    __slots__ = ['name', 'age']\n",
    "    def __init__(self, name, age):\n",
    "        self.name = name\n",
    "        self.age = age\n",
    "\n",
    "p2 = PersonWithSlots(\"Bob\", 35)\n",
    "print(\"With __slots__:\", sys.getsizeof(p2))  # No __dict__"
   ]
  },
  {
   "cell_type": "markdown",
   "id": "462318bf-672f-4468-9122-070cf70b5af5",
   "metadata": {},
   "source": [
    "## Complexity Analysis"
   ]
  },
  {
   "cell_type": "markdown",
   "id": "3ff61a2e-affa-44cc-b483-573f9dc9b166",
   "metadata": {},
   "source": [
    "Time Complexity: \n",
    "\n",
    "- Both implementations have O(1) time complexity for attribute access.\n",
    "  \n",
    "Space Complexity: \n",
    "\n",
    "- Without __slots__: Higher memory usage due to dynamic dictionary (__dict__) per instance.\n",
    "\n",
    "- With __slots__: Lower memory usage due to fixed memory layout."
   ]
  },
  {
   "cell_type": "markdown",
   "id": "54ae9b22-a3fd-4d97-807c-9deb388d03b1",
   "metadata": {},
   "source": [
    "#### Thank You!!"
   ]
  }
 ],
 "metadata": {
  "kernelspec": {
   "display_name": "Python 3 (ipykernel)",
   "language": "python",
   "name": "python3"
  },
  "language_info": {
   "codemirror_mode": {
    "name": "ipython",
    "version": 3
   },
   "file_extension": ".py",
   "mimetype": "text/x-python",
   "name": "python",
   "nbconvert_exporter": "python",
   "pygments_lexer": "ipython3",
   "version": "3.8.10"
  }
 },
 "nbformat": 4,
 "nbformat_minor": 5
}
