{
 "cells": [
  {
   "cell_type": "markdown",
   "id": "8a36d3b1-1a8d-478e-8060-6477472e6bd4",
   "metadata": {},
   "source": [
    "# **Problem Statement**  \n",
    "## **29. Use abc module to define abstract base classes**"
   ]
  },
  {
   "cell_type": "markdown",
   "id": "3250a3fd-568d-417b-9855-8c3ba7ba4aba",
   "metadata": {},
   "source": [
    "Use Python’s abc (Abstract Base Classes) module to define a base class with abstract methods. Then, create one or more subclasses that implement these methods."
   ]
  },
  {
   "cell_type": "markdown",
   "id": "12b96244-784f-44f1-b72a-e69e054e8b67",
   "metadata": {},
   "source": [
    "### Identify Constraints & Example Inputs/Outputs\n",
    "\n",
    "Constraints:\n",
    "\n",
    "- Use the abc.ABC base class and @abstractmethod decorator.\n",
    "\n",
    "- Subclasses must implement all abstract methods, else instantiation should fail.\n",
    "\n",
    "- Python version 3.4+\n",
    "\n",
    "---\n",
    "Example Usage: \n",
    "\n",
    "#### Input\n",
    "Circle(radius=5).area()\n",
    "\n",
    "#### Output\n",
    "78.54  # Assuming pi=3.1416\n"
   ]
  },
  {
   "cell_type": "markdown",
   "id": "b68e7cad-ea42-4bb3-a20e-a91cba6d7424",
   "metadata": {},
   "source": [
    "### Solution Approach"
   ]
  },
  {
   "cell_type": "markdown",
   "id": "144b599f-addb-4686-8425-1f6e6f862acd",
   "metadata": {},
   "source": [
    "1. Why use abstract base classes?\n",
    "\n",
    "- To enforce that derived classes follow a specific method structure. This is useful for building consistent APIs or plugin systems.\n",
    "\n",
    "2. How abc module helps?\n",
    "\n",
    "- Use ABC to define an abstract class.\n",
    "- Use @abstractmethod to declare required methods.\n",
    "- Instantiating a subclass without implementing abstract methods raises a TypeError.\n",
    "\n",
    "3. Implementation Plan:\n",
    "\n",
    "- Create an abstract class Shape with an abstract method area.\n",
    "- Implement subclasses like Circle and Rectangle that define area."
   ]
  },
  {
   "cell_type": "markdown",
   "id": "be931aed-e6ac-4398-a9cc-cd43c98ed91b",
   "metadata": {},
   "source": [
    "### Solution Code"
   ]
  },
  {
   "cell_type": "code",
   "execution_count": 5,
   "id": "57cab10a-c58c-459b-b504-16dc7ee1d0ac",
   "metadata": {},
   "outputs": [
    {
     "name": "stdout",
     "output_type": "stream",
     "text": [
      "Circle Area: 12.57\n",
      "Rectangle Area: 6\n"
     ]
    }
   ],
   "source": [
    "# Approach 1: Brute Force & Optimized Approach \n",
    "from abc import ABC, abstractmethod\n",
    "import math\n",
    "\n",
    "# Abstract Base Class\n",
    "class shape(ABC):\n",
    "    @abstractmethod\n",
    "    def area(self):\n",
    "        pass\n",
    "\n",
    "# Subclass 1\n",
    "class Circle(shape):\n",
    "    def __init__(self, radius):\n",
    "        self.radius = radius\n",
    "\n",
    "    def area(self):\n",
    "        return round(math.pi * self.radius ** 2, 2)\n",
    "\n",
    "# Subclass 2\n",
    "class Rectangle(Shape):\n",
    "    def __init__(self, height, width):\n",
    "        self.height = height\n",
    "        self.width = width\n",
    "    \n",
    "    def area(self):\n",
    "        return self.height * self.width\n",
    "\n",
    "circle = Circle(2)\n",
    "rectangle = Rectangle(2,3)\n",
    "\n",
    "print(\"Circle Area:\", circle.area()) \n",
    "print(\"Rectangle Area:\", rectangle.area())"
   ]
  },
  {
   "cell_type": "markdown",
   "id": "462318bf-672f-4468-9122-070cf70b5af5",
   "metadata": {},
   "source": [
    "## Complexity Analysis"
   ]
  },
  {
   "cell_type": "markdown",
   "id": "3ff61a2e-affa-44cc-b483-573f9dc9b166",
   "metadata": {},
   "source": [
    "Time Complexity: \n",
    "- Circle.area() → O(1)\n",
    "- Rectangle.area() → O(1)\n",
    "(Direct computation based on attributes)\n",
    "\n",
    "Space Complexity: \n",
    "- O(1) per object (just storing simple attributes)"
   ]
  },
  {
   "cell_type": "markdown",
   "id": "54ae9b22-a3fd-4d97-807c-9deb388d03b1",
   "metadata": {},
   "source": [
    "#### Thank You!!"
   ]
  }
 ],
 "metadata": {
  "kernelspec": {
   "display_name": "Python 3 (ipykernel)",
   "language": "python",
   "name": "python3"
  },
  "language_info": {
   "codemirror_mode": {
    "name": "ipython",
    "version": 3
   },
   "file_extension": ".py",
   "mimetype": "text/x-python",
   "name": "python",
   "nbconvert_exporter": "python",
   "pygments_lexer": "ipython3",
   "version": "3.8.10"
  }
 },
 "nbformat": 4,
 "nbformat_minor": 5
}
