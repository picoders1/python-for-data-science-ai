{
 "cells": [
  {
   "cell_type": "markdown",
   "id": "8a36d3b1-1a8d-478e-8060-6477472e6bd4",
   "metadata": {},
   "source": [
    "# **Problem Statement**  \n",
    "## **9. Optimize a recursive function using Python's built-in `functools.lru_cache` decorator to improve performance by caching previously computed results**"
   ]
  },
  {
   "cell_type": "markdown",
   "id": "3250a3fd-568d-417b-9855-8c3ba7ba4aba",
   "metadata": {},
   "source": [
    "- Implement a recursive Fibonacci function and apply `lru_cache` to avoid redundant computations."
   ]
  },
  {
   "cell_type": "markdown",
   "id": "12b96244-784f-44f1-b72a-e69e054e8b67",
   "metadata": {},
   "source": [
    "### Identify Constraints & Example Inputs/Outputs\n",
    "\n",
    "Constraints:\n",
    "\n",
    "- Input: An integer `n` such that 0 ≤ n ≤ 1000\n",
    "- You must use recursion first without any optimization.\n",
    "- Then optimize using `lru_cache`.\n",
    "\n",
    "---\n",
    "Example Input: \n",
    "\n",
    "```python\n",
    "fibonacci(10)\n",
    "```\n",
    "Output: 55\n",
    "\n",
    "---"
   ]
  },
  {
   "cell_type": "markdown",
   "id": "b68e7cad-ea42-4bb3-a20e-a91cba6d7424",
   "metadata": {},
   "source": [
    "### Solution Approach"
   ]
  },
  {
   "cell_type": "markdown",
   "id": "144b599f-addb-4686-8425-1f6e6f862acd",
   "metadata": {},
   "source": [
    "Step1: Recursive functions are elegant but can become inefficient for large inputs due to repeated subcomputations.\n",
    "\n",
    "Step2: `lru_cache` from `functools` is a decorator that automatically caches function results.\n",
    "\n",
    "Step3: In the Fibonacci sequence, `fib(n)` = `fib(n-1)` + `fib(n-2)` which causes exponential time without memoization.\n",
    "\n",
    "Step4: We'll first implement plain recursion and then use `lru_cache` to show dramatic speedup."
   ]
  },
  {
   "cell_type": "markdown",
   "id": "be931aed-e6ac-4398-a9cc-cd43c98ed91b",
   "metadata": {},
   "source": [
    "### Solution Code"
   ]
  },
  {
   "cell_type": "code",
   "execution_count": 1,
   "id": "57cab10a-c58c-459b-b504-16dc7ee1d0ac",
   "metadata": {},
   "outputs": [],
   "source": [
    "# Approach1: Brute Force Approach (Using Recursive Fibonacci)\n",
    "def fibonacci(n):\n",
    "    if n <= 1:\n",
    "        return n\n",
    "    return fibonacci(n - 1) + fibonacci(n - 2)"
   ]
  },
  {
   "cell_type": "code",
   "execution_count": 2,
   "id": "db59700b-0b30-49cd-b793-084565ed38f3",
   "metadata": {},
   "outputs": [
    {
     "name": "stdout",
     "output_type": "stream",
     "text": [
      "55\n"
     ]
    }
   ],
   "source": [
    "# Example\n",
    "print(fibonacci(10))  # Output: 55"
   ]
  },
  {
   "cell_type": "markdown",
   "id": "9febed86-bc77-49f3-aa50-7adfe033688a",
   "metadata": {},
   "source": [
    "### Alternative Solution"
   ]
  },
  {
   "cell_type": "code",
   "execution_count": 3,
   "id": "c10bd808-db0c-40d2-bf3f-9d1315fb9f7f",
   "metadata": {},
   "outputs": [],
   "source": [
    "# Approach2: Optimized Approach (Using lru_cache)\n",
    "from functools import lru_cache\n",
    "\n",
    "@lru_cache(maxsize=None)\n",
    "def fibonacci_cached(n):\n",
    "    if n <= 1:\n",
    "        return n\n",
    "    return fibonacci_cached(n - 1) + fibonacci_cached(n - 2)"
   ]
  },
  {
   "cell_type": "code",
   "execution_count": 4,
   "id": "0efc92f5-0fbc-472e-9058-88ff763b4107",
   "metadata": {},
   "outputs": [
    {
     "name": "stdout",
     "output_type": "stream",
     "text": [
      "55\n",
      "354224848179261915075\n"
     ]
    }
   ],
   "source": [
    "# Example\n",
    "\n",
    "print(fibonacci_cached(10))   # Output: 55\n",
    "print(fibonacci_cached(100))  # Output: 354224848179261915075 (fast!)"
   ]
  },
  {
   "cell_type": "markdown",
   "id": "9b626f55-9202-4425-aa22-10bf7e8fd723",
   "metadata": {},
   "source": [
    "Alternative Solution"
   ]
  },
  {
   "cell_type": "code",
   "execution_count": 7,
   "id": "ab346f29-2437-4f0c-bca2-5c2401c00809",
   "metadata": {},
   "outputs": [],
   "source": [
    "# Approach3: Using  Manual Memoization\n",
    "memo = {}\n",
    "\n",
    "def fibonacci_memo(n):\n",
    "    if n in memo:\n",
    "        return memo[n]\n",
    "    if n <= 1:\n",
    "        memo[n] = n\n",
    "    else:\n",
    "        memo[n] = fibonacci_memo(n - 1) + fibonacci_memo(n - 2)\n",
    "    return memo[n]"
   ]
  },
  {
   "cell_type": "code",
   "execution_count": 10,
   "id": "f630fcbf-0918-47e5-82ba-14c7b3d93973",
   "metadata": {},
   "outputs": [
    {
     "name": "stdout",
     "output_type": "stream",
     "text": [
      "55\n"
     ]
    }
   ],
   "source": [
    "# Example\n",
    "\n",
    "print(fibonacci_memo(10))"
   ]
  },
  {
   "cell_type": "markdown",
   "id": "462318bf-672f-4468-9122-070cf70b5af5",
   "metadata": {},
   "source": [
    "## Complexity Analysis"
   ]
  },
  {
   "cell_type": "markdown",
   "id": "3ff61a2e-affa-44cc-b483-573f9dc9b166",
   "metadata": {},
   "source": [
    "Brute Force Recursive:\n",
    "- Time: O(2^n)\n",
    "- Space: O(n) (due to recursion stack)\n",
    "\n",
    "With lru_cache:\n",
    "- Time: O(n)\n",
    "- Space: O(n) (cache + stack)\n",
    "\n",
    "Manual Memoization:\n",
    "- Time: O(n)\n",
    "- Space: O(n)\n",
    "\n",
    "`lru_cache` provides a clean and efficient way to boost recursive function performance with minimal code changes."
   ]
  },
  {
   "cell_type": "markdown",
   "id": "54ae9b22-a3fd-4d97-807c-9deb388d03b1",
   "metadata": {},
   "source": [
    "#### Thank You!!"
   ]
  }
 ],
 "metadata": {
  "kernelspec": {
   "display_name": "Python 3 (ipykernel)",
   "language": "python",
   "name": "python3"
  },
  "language_info": {
   "codemirror_mode": {
    "name": "ipython",
    "version": 3
   },
   "file_extension": ".py",
   "mimetype": "text/x-python",
   "name": "python",
   "nbconvert_exporter": "python",
   "pygments_lexer": "ipython3",
   "version": "3.8.10"
  }
 },
 "nbformat": 4,
 "nbformat_minor": 5
}
