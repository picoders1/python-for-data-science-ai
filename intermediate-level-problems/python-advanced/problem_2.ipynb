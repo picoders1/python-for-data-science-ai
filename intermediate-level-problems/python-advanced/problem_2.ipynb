{
 "cells": [
  {
   "cell_type": "markdown",
   "id": "8a36d3b1-1a8d-478e-8060-6477472e6bd4",
   "metadata": {},
   "source": [
    "# **Problem Statement**  \n",
    "## **2. Create a custom iterator class in Python that generates Fibonacci numbers**"
   ]
  },
  {
   "cell_type": "markdown",
   "id": "aa950067-9f09-4e05-afa6-9410fcf125c3",
   "metadata": {},
   "source": [
    "Here, The iterator should generate the Fibonacci sequence up to a given number of terms, using Python’s iterator protocol (`__iter__()` and `__next__()`)."
   ]
  },
  {
   "cell_type": "markdown",
   "id": "12b96244-784f-44f1-b72a-e69e054e8b67",
   "metadata": {},
   "source": [
    "### Identify Constraints & Example Inputs/Outputs\n",
    "\n",
    "Constraints:\n",
    "\n",
    "- Must implement `__iter__()` and `__next__()` methods.\n",
    "- Fibonacci sequence starts from 0, 1.\n",
    "- Raise `StopIteration` when the desired number of terms is reached.\n",
    "\n",
    "---\n",
    "Example Usage: \n",
    "\n",
    "```python\n",
    "fib = FibonacciIterator(5)\n",
    "for num in fib:\n",
    "    print(num)\n",
    "\n",
    "\n",
    "Output - \n",
    "0\n",
    "1\n",
    "1\n",
    "2\n",
    "3\n",
    "\n",
    "---"
   ]
  },
  {
   "cell_type": "markdown",
   "id": "b68e7cad-ea42-4bb3-a20e-a91cba6d7424",
   "metadata": {},
   "source": [
    "### Solution Approach"
   ]
  },
  {
   "cell_type": "markdown",
   "id": "144b599f-addb-4686-8425-1f6e6f862acd",
   "metadata": {},
   "source": [
    "Step1: Create a class `FibonacciIterator`.\n",
    "\n",
    "Step2: Initialize it with the number of terms `n`.\n",
    "\n",
    "Step3: Define `__iter__()` to return `self`.\n",
    "\n",
    "Step4: Define `__next__()` to:\n",
    "   - Generate the next Fibonacci number.\n",
    "   - Track how many terms have been yielded.\n",
    "   - Raise `StopIteration` after `n` terms.\n"
   ]
  },
  {
   "cell_type": "markdown",
   "id": "be931aed-e6ac-4398-a9cc-cd43c98ed91b",
   "metadata": {},
   "source": [
    "### Solution Code"
   ]
  },
  {
   "cell_type": "code",
   "execution_count": 2,
   "id": "57cab10a-c58c-459b-b504-16dc7ee1d0ac",
   "metadata": {},
   "outputs": [],
   "source": [
    "# Approach1: Brute Force Approach \n",
    "class FibonacciIterator:\n",
    "    def __init__(self, n):\n",
    "        self.n = n\n",
    "        self.count = 0\n",
    "        self.a, self.b = 0, 1\n",
    "\n",
    "    def __iter__(self):\n",
    "        return self\n",
    "\n",
    "    def __next__(self):\n",
    "        if self.count >= self.n:\n",
    "            raise StopIteration\n",
    "        if self.count == 0:\n",
    "            self.count += 1\n",
    "            return 0\n",
    "        elif self.count == 1:\n",
    "            self.count += 1\n",
    "            return 1\n",
    "        else:\n",
    "            self.a, self.b = self.b, self.a + self.b\n",
    "            self.count += 1\n",
    "            return self.a"
   ]
  },
  {
   "cell_type": "code",
   "execution_count": 3,
   "id": "db59700b-0b30-49cd-b793-084565ed38f3",
   "metadata": {},
   "outputs": [
    {
     "name": "stdout",
     "output_type": "stream",
     "text": [
      "0\n",
      "1\n",
      "1\n",
      "1\n",
      "2\n",
      "3\n",
      "5\n",
      "8\n",
      "13\n",
      "21\n"
     ]
    }
   ],
   "source": [
    "# Example\n",
    "fib = FibonacciIterator(10)\n",
    "for num in fib:\n",
    "    print(num)"
   ]
  },
  {
   "cell_type": "markdown",
   "id": "9febed86-bc77-49f3-aa50-7adfe033688a",
   "metadata": {},
   "source": [
    "### Alternative Solution"
   ]
  },
  {
   "cell_type": "markdown",
   "id": "d677803d-5e63-441a-ae62-38225a4df2b5",
   "metadata": {},
   "source": [
    "- Use a generator function (`yield`) instead of a class:"
   ]
  },
  {
   "cell_type": "code",
   "execution_count": 11,
   "id": "e50fe447-74fa-431b-85a0-f97e23510e68",
   "metadata": {},
   "outputs": [],
   "source": [
    "# Approach2\n",
    "def fibonacci_gen(n):\n",
    "    a, b = 0, 1\n",
    "    for _ in range(n):\n",
    "        yield a\n",
    "        a, b = b, a + b"
   ]
  },
  {
   "cell_type": "code",
   "execution_count": 12,
   "id": "c0463d80-c16f-45f9-a5fd-9debd3be9208",
   "metadata": {},
   "outputs": [
    {
     "name": "stdout",
     "output_type": "stream",
     "text": [
      "0\n",
      "1\n",
      "1\n",
      "2\n",
      "3\n",
      "5\n",
      "8\n",
      "13\n",
      "21\n",
      "34\n"
     ]
    }
   ],
   "source": [
    "# Example\n",
    "fib = fibonacci_gen(10)\n",
    "for num in fib:\n",
    "    print(num)"
   ]
  },
  {
   "cell_type": "markdown",
   "id": "462318bf-672f-4468-9122-070cf70b5af5",
   "metadata": {},
   "source": [
    "## Complexity Analysis"
   ]
  },
  {
   "cell_type": "markdown",
   "id": "3ff61a2e-affa-44cc-b483-573f9dc9b166",
   "metadata": {},
   "source": [
    "Time Complexity: O(n) -> Generates n Fibonacci numbers sequentially.\n",
    "\n",
    "Space Complexity: O(1) -> Constant space used (just storing two numbers)."
   ]
  },
  {
   "cell_type": "markdown",
   "id": "54ae9b22-a3fd-4d97-807c-9deb388d03b1",
   "metadata": {},
   "source": [
    "#### Thank You!!"
   ]
  }
 ],
 "metadata": {
  "kernelspec": {
   "display_name": "Python 3 (ipykernel)",
   "language": "python",
   "name": "python3"
  },
  "language_info": {
   "codemirror_mode": {
    "name": "ipython",
    "version": 3
   },
   "file_extension": ".py",
   "mimetype": "text/x-python",
   "name": "python",
   "nbconvert_exporter": "python",
   "pygments_lexer": "ipython3",
   "version": "3.8.10"
  }
 },
 "nbformat": 4,
 "nbformat_minor": 5
}
