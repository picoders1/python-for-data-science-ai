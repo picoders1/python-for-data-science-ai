{
 "cells": [
  {
   "cell_type": "markdown",
   "id": "8a36d3b1-1a8d-478e-8060-6477472e6bd4",
   "metadata": {},
   "source": [
    "# **Problem Statement**  \n",
    "## **30. Implement a publish-subscribe pattern using observer design**"
   ]
  },
  {
   "cell_type": "markdown",
   "id": "3250a3fd-568d-417b-9855-8c3ba7ba4aba",
   "metadata": {},
   "source": [
    "The goal is to simulate a system where multiple subscribers (observers) can subscribe to or unsubscribe from a publisher (subject), and receive updates whenever the publisher broadcasts a message."
   ]
  },
  {
   "cell_type": "markdown",
   "id": "12b96244-784f-44f1-b72a-e69e054e8b67",
   "metadata": {},
   "source": [
    "### Identify Constraints & Example Inputs/Outputs\n",
    "\n",
    "Constraints:\n",
    "\n",
    "- A publisher should be able to add/remove subscribers.\n",
    "- When a message is published, all current subscribers should receive it.\n",
    "- Subscriber actions (like printing messages or storing them) should be independent of the publisher.\n",
    "\n",
    "---\n",
    "Example Input: \n",
    "\n",
    "```python\n",
    "news_publisher = Publisher()\n",
    "subscriber1 = Subscriber(\"Alice\")\n",
    "subscriber2 = Subscriber(\"Bob\")\n",
    "\n",
    "news_publisher.subscribe(subscriber1)\n",
    "news_publisher.subscribe(subscriber2)\n",
    "\n",
    "news_publisher.notify(\"Breaking News: AI hits new milestone!\")\n",
    "```\n",
    "\n",
    "Expected Output:\n",
    "\n",
    "Alice received: Breaking News: AI hits new milestone!  \n",
    "Bob received: Breaking News: AI hits new milestone!\n",
    "\n",
    "---"
   ]
  },
  {
   "cell_type": "markdown",
   "id": "b68e7cad-ea42-4bb3-a20e-a91cba6d7424",
   "metadata": {},
   "source": [
    "### Solution Approach"
   ]
  },
  {
   "cell_type": "markdown",
   "id": "144b599f-addb-4686-8425-1f6e6f862acd",
   "metadata": {},
   "source": [
    "1. Define Interfaces\n",
    "- Define a Subscriber interface/class that has a receive(message) method.\n",
    "- Define a Publisher class with subscribe(), unsubscribe(), and notify() methods.\n",
    "\n",
    "2. Implement Subscriber Logic\n",
    "- Each subscriber will have a name and a method to handle the received messages.\n",
    "\n",
    "3. Implement Publisher Logic\n",
    "- Maintains a list of subscribers.\n",
    "- Calls receive() on each subscriber during notify().\n",
    "\n",
    "4. Demonstrate with Examples\n",
    "- Subscribe and unsubscribe users.\n",
    "- Publish messages and check outputs."
   ]
  },
  {
   "cell_type": "markdown",
   "id": "be931aed-e6ac-4398-a9cc-cd43c98ed91b",
   "metadata": {},
   "source": [
    "### Solution Code"
   ]
  },
  {
   "cell_type": "code",
   "execution_count": 2,
   "id": "57cab10a-c58c-459b-b504-16dc7ee1d0ac",
   "metadata": {},
   "outputs": [
    {
     "name": "stdout",
     "output_type": "stream",
     "text": [
      "Alice received: Breaking News: AI hits new milestone!\n",
      "Bob received: Breaking News: AI hits new milestone!\n"
     ]
    }
   ],
   "source": [
    "# Approach1: Brute Force Approach \n",
    "class Subscriber:\n",
    "    def __init__(self, name: str):\n",
    "        self.name = name\n",
    "\n",
    "    def receive(self, message: str):\n",
    "        print(f\"{self.name} received: {message}\")\n",
    "\n",
    "class Publisher:\n",
    "    def __init__(self):\n",
    "        self.subscribers = []\n",
    "\n",
    "    def subscribe(self, subscriber: Subscriber):\n",
    "        self.subscribers.append(subscriber)\n",
    "\n",
    "    def unsubscribe(self, subscriber: Subscriber):\n",
    "        self.subscribers.remove(subscriber)\n",
    "\n",
    "    def notify(self, message: str):\n",
    "        for sub in self.subscribers:\n",
    "            sub.receive(message)\n",
    "\n",
    "# Example Usage\n",
    "news_publisher = Publisher()\n",
    "alice = Subscriber(\"Alice\")\n",
    "bob = Subscriber(\"Bob\")\n",
    "\n",
    "news_publisher.subscribe(alice)\n",
    "news_publisher.subscribe(bob)\n",
    "\n",
    "news_publisher.notify(\"Breaking News: AI hits new milestone!\")"
   ]
  },
  {
   "cell_type": "markdown",
   "id": "9febed86-bc77-49f3-aa50-7adfe033688a",
   "metadata": {},
   "source": [
    "### Alternative Solution"
   ]
  },
  {
   "cell_type": "code",
   "execution_count": 4,
   "id": "c10bd808-db0c-40d2-bf3f-9d1315fb9f7f",
   "metadata": {},
   "outputs": [
    {
     "name": "stdout",
     "output_type": "stream",
     "text": [
      "Alice received: Breaking News: AI hits new milestone!\n",
      "Bob received: Breaking News: AI hits new milestone!\n"
     ]
    }
   ],
   "source": [
    "from abc import ABC, abstractmethod\n",
    "\n",
    "# Step 1: Define the abstract base class for Observer\n",
    "class Observer(ABC):\n",
    "    @abstractmethod\n",
    "    def receive(self, message: str):\n",
    "        pass\n",
    "\n",
    "# Step 2: Concrete implementation of Observer\n",
    "class ConcreteSubscriber(Observer):\n",
    "    def __init__(self, name: str):\n",
    "        self.name = name\n",
    "\n",
    "    def receive(self, message: str):\n",
    "        print(f\"{self.name} received: {message}\")\n",
    "\n",
    "# Step 3: Publisher class\n",
    "class Publisher:\n",
    "    def __init__(self):\n",
    "        self.subscribers = []\n",
    "\n",
    "    def subscribe(self, subscriber: Observer):  # Using Observer as the type hint\n",
    "        self.subscribers.append(subscriber)\n",
    "\n",
    "    def unsubscribe(self, subscriber: Observer):\n",
    "        self.subscribers.remove(subscriber)\n",
    "\n",
    "    def notify(self, message: str):\n",
    "        for sub in self.subscribers:\n",
    "            sub.receive(message)\n",
    "\n",
    "# Step 4: Example usage\n",
    "news_publisher = Publisher()\n",
    "alice = ConcreteSubscriber(\"Alice\")\n",
    "bob = ConcreteSubscriber(\"Bob\")\n",
    "\n",
    "news_publisher.subscribe(alice)\n",
    "news_publisher.subscribe(bob)\n",
    "\n",
    "news_publisher.notify(\"Breaking News: AI hits new milestone!\")"
   ]
  },
  {
   "cell_type": "markdown",
   "id": "462318bf-672f-4468-9122-070cf70b5af5",
   "metadata": {},
   "source": [
    "## Complexity Analysis"
   ]
  },
  {
   "cell_type": "markdown",
   "id": "3ff61a2e-affa-44cc-b483-573f9dc9b166",
   "metadata": {},
   "source": [
    "Time Complexity: \n",
    "- notify: O(n), where n = number of subscribers\n",
    "- subscribe/unsubscribe: O(1) on average\n",
    "\n",
    "Space Complexity: \n",
    "- O(n), where n = number of subscribers stored in the publisher"
   ]
  },
  {
   "cell_type": "markdown",
   "id": "54ae9b22-a3fd-4d97-807c-9deb388d03b1",
   "metadata": {},
   "source": [
    "#### Thank You!!"
   ]
  }
 ],
 "metadata": {
  "kernelspec": {
   "display_name": "Python 3 (ipykernel)",
   "language": "python",
   "name": "python3"
  },
  "language_info": {
   "codemirror_mode": {
    "name": "ipython",
    "version": 3
   },
   "file_extension": ".py",
   "mimetype": "text/x-python",
   "name": "python",
   "nbconvert_exporter": "python",
   "pygments_lexer": "ipython3",
   "version": "3.8.10"
  }
 },
 "nbformat": 4,
 "nbformat_minor": 5
}
