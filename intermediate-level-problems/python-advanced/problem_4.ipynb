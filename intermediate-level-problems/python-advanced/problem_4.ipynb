{
 "cells": [
  {
   "cell_type": "markdown",
   "id": "8a36d3b1-1a8d-478e-8060-6477472e6bd4",
   "metadata": {},
   "source": [
    "# **Problem Statement**  \n",
    "## **4. Demonstrate the usage and differences between `@staticmethod` and `@classmethod` in Python using an example**"
   ]
  },
  {
   "cell_type": "markdown",
   "id": "3250a3fd-568d-417b-9855-8c3ba7ba4aba",
   "metadata": {},
   "source": [
    "- Define a class with both types of methods.\n",
    "- Show how they can be used and when to use each."
   ]
  },
  {
   "cell_type": "markdown",
   "id": "12b96244-784f-44f1-b72a-e69e054e8b67",
   "metadata": {},
   "source": [
    "### Identify Constraints & Example Inputs/Outputs\n",
    "\n",
    "Constraints:\n",
    "\n",
    "- Use a class with attributes and methods.\n",
    "- `@staticmethod` should perform an action unrelated to instance or class attributes.\n",
    "- `@classmethod` should act on the class itself.\n",
    "\n",
    "---\n",
    "Example Usage: \n",
    "\n",
    "Define a class `Circle` that:\n",
    "- Has a class variable for `pi`.\n",
    "- Uses a classmethod to update the value of `pi`.\n",
    "- Uses a staticmethod to check if a number is a valid radius (non-negative).\n",
    "\n",
    "---"
   ]
  },
  {
   "cell_type": "markdown",
   "id": "b68e7cad-ea42-4bb3-a20e-a91cba6d7424",
   "metadata": {},
   "source": [
    "### Solution Approach"
   ]
  },
  {
   "cell_type": "markdown",
   "id": "144b599f-addb-4686-8425-1f6e6f862acd",
   "metadata": {},
   "source": [
    "Step1: Define a class with a class variable and instance attributes.\n",
    "\n",
    "Step2: Implement a `@staticmethod` that performs a check (e.g., whether input is a valid radius).\n",
    "\n",
    "Step3: Implement a `@classmethod` that modifies a class-level variable (e.g., `pi`).\n",
    "\n",
    "Step4: Instantiate the class and demonstrate calling each type of method.\n",
    "\n",
    "Step4: Highlight differences:\n",
    "   - `staticmethod` doesn't access `cls` or `self`.\n",
    "   - `classmethod` uses `cls` to modify or use class-level data."
   ]
  },
  {
   "cell_type": "markdown",
   "id": "be931aed-e6ac-4398-a9cc-cd43c98ed91b",
   "metadata": {},
   "source": [
    "### Solution Code"
   ]
  },
  {
   "cell_type": "code",
   "execution_count": 1,
   "id": "57cab10a-c58c-459b-b504-16dc7ee1d0ac",
   "metadata": {},
   "outputs": [],
   "source": [
    "# Approach: Brute Force Approach \n",
    "class Circle:\n",
    "    pi = 3.14  # class variable\n",
    "\n",
    "    def __init__(self, radius):\n",
    "        if Circle.is_valid_radius(radius):\n",
    "            self.radius = radius\n",
    "        else:\n",
    "            raise ValueError(\"Invalid radius!\")\n",
    "\n",
    "    @staticmethod\n",
    "    def is_valid_radius(value):\n",
    "        return value >= 0\n",
    "\n",
    "    @classmethod\n",
    "    def update_pi(cls, new_pi):\n",
    "        cls.pi = new_pi\n",
    "\n",
    "    def area(self):\n",
    "        return self.pi * self.radius ** 2\n",
    "\n",
    "# # Update pi using class method\n",
    "# Circle.update_pi(3.1416)\n",
    "# c2 = Circle(5)\n",
    "# print(f\"Updated Area: {c2.area()}\")\n"
   ]
  },
  {
   "cell_type": "code",
   "execution_count": 2,
   "id": "db59700b-0b30-49cd-b793-084565ed38f3",
   "metadata": {},
   "outputs": [
    {
     "name": "stdout",
     "output_type": "stream",
     "text": [
      "Initial Area: 78.5\n"
     ]
    }
   ],
   "source": [
    "# Example\n",
    "c1 = Circle(5)\n",
    "print(f\"Initial Area: {c1.area()}\")"
   ]
  },
  {
   "cell_type": "markdown",
   "id": "9febed86-bc77-49f3-aa50-7adfe033688a",
   "metadata": {},
   "source": [
    "### Alternative Solution"
   ]
  },
  {
   "cell_type": "markdown",
   "id": "d677803d-5e63-441a-ae62-38225a4df2b5",
   "metadata": {},
   "source": [
    "- You could also use `@staticmethod` in utility or helper classes where no instance or class state is required.\n",
    "- `@classmethod` can be used to implement alternative constructors."
   ]
  },
  {
   "cell_type": "markdown",
   "id": "462318bf-672f-4468-9122-070cf70b5af5",
   "metadata": {},
   "source": [
    "## Complexity Analysis"
   ]
  },
  {
   "cell_type": "markdown",
   "id": "3ff61a2e-affa-44cc-b483-573f9dc9b166",
   "metadata": {},
   "source": [
    "Time Complexity: O(1) -> All methods involve constant-time operations.\n",
    "\n",
    "Space Complexity: O(1) -> No significant extra memory is used."
   ]
  },
  {
   "cell_type": "markdown",
   "id": "54ae9b22-a3fd-4d97-807c-9deb388d03b1",
   "metadata": {},
   "source": [
    "#### Thank You!!"
   ]
  }
 ],
 "metadata": {
  "kernelspec": {
   "display_name": "Python 3 (ipykernel)",
   "language": "python",
   "name": "python3"
  },
  "language_info": {
   "codemirror_mode": {
    "name": "ipython",
    "version": 3
   },
   "file_extension": ".py",
   "mimetype": "text/x-python",
   "name": "python",
   "nbconvert_exporter": "python",
   "pygments_lexer": "ipython3",
   "version": "3.8.10"
  }
 },
 "nbformat": 4,
 "nbformat_minor": 5
}
