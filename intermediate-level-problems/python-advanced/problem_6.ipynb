{
 "cells": [
  {
   "cell_type": "markdown",
   "id": "8a36d3b1-1a8d-478e-8060-6477472e6bd4",
   "metadata": {},
   "source": [
    "# **Problem Statement**  \n",
    "## **6. Write a Python program that uses a **metaclass** to automatically modify the behavior of any class created with it**"
   ]
  },
  {
   "cell_type": "markdown",
   "id": "3250a3fd-568d-417b-9855-8c3ba7ba4aba",
   "metadata": {},
   "source": [
    "**The task** is to:\n",
    "- Create a metaclass that adds a method called `info()` to any class using this metaclass.\n",
    "- The `info()` method should return a string: `\"This class was modified by a metaclass.\"`\n",
    "- During class creation, print the class name (for logging/debugging).\n",
    "\n",
    "This helps in understanding the mechanics of Python metaclasses and how to inject functionality during class creation."
   ]
  },
  {
   "cell_type": "markdown",
   "id": "12b96244-784f-44f1-b72a-e69e054e8b67",
   "metadata": {},
   "source": [
    "### Identify Constraints & Example Inputs/Outputs\n",
    "\n",
    "Constraints:\n",
    "\n",
    "- Only built-in Python features allowed.\n",
    "- Avoid modifying the class directly — use the metaclass.\n",
    "- The class may or may not define other methods.\n",
    "- The solution should not affect class instantiation or attribute access.\n",
    "  \n",
    "---\n",
    "Example Usage: \n",
    "\n",
    "```python\n",
    "class Sample(metaclass=MetaModifier):\n",
    "    pass\n",
    "\n",
    "obj = Sample()\n",
    "print(obj.info())\n",
    "\n",
    "\n",
    "Output -\n",
    "\n",
    "pgsql -> Class continues to work as normal.\n",
    "\n",
    "SQL -> Test with both empty and pre-defined classes."
   ]
  },
  {
   "cell_type": "markdown",
   "id": "b68e7cad-ea42-4bb3-a20e-a91cba6d7424",
   "metadata": {},
   "source": [
    "### Solution Approach"
   ]
  },
  {
   "cell_type": "markdown",
   "id": "144b599f-addb-4686-8425-1f6e6f862acd",
   "metadata": {},
   "source": [
    "Step1: In Python, everything is an object — even classes.\n",
    "\n",
    "Step2: Classes are created using a **metaclass** — by default it's `type`.\n",
    "\n",
    "Step: We can create a custom metaclass by subclassing `type` and overriding `__new__()` or `__init__()`.\n",
    "\n",
    "Step4: In this task:\n",
    "  - We'll define a metaclass `MetaModifier` that prints the class name when it's created.\n",
    "  - We'll dynamically inject an `info()` method into the class dictionary before the class is finalized.\n",
    "  - This allows us to change how classes behave without modifying them manually."
   ]
  },
  {
   "cell_type": "markdown",
   "id": "be931aed-e6ac-4398-a9cc-cd43c98ed91b",
   "metadata": {},
   "source": [
    "### Solution Code"
   ]
  },
  {
   "cell_type": "code",
   "execution_count": 1,
   "id": "57cab10a-c58c-459b-b504-16dc7ee1d0ac",
   "metadata": {},
   "outputs": [
    {
     "name": "stdout",
     "output_type": "stream",
     "text": [
      "Logging: Creating class 'MyClass'\n"
     ]
    }
   ],
   "source": [
    "# Approach 1: Brute Force and Optimized Approach (Using metaclass (__new__))\n",
    "class MetaModifier(type):\n",
    "    def __new__(cls, name, bases, dct):\n",
    "        print(f\"Logging: Creating class '{name}'\")\n",
    "\n",
    "        # Injecting the info method\n",
    "        def info(self):\n",
    "            return \"This class was modified by a metaclass.\"\n",
    "        \n",
    "        dct['info'] = info\n",
    "        return super().__new__(cls, name, bases, dct)\n",
    "\n",
    "# Class using the metaclass\n",
    "class MyClass(metaclass=MetaModifier):\n",
    "    pass"
   ]
  },
  {
   "cell_type": "code",
   "execution_count": 2,
   "id": "db59700b-0b30-49cd-b793-084565ed38f3",
   "metadata": {},
   "outputs": [
    {
     "name": "stdout",
     "output_type": "stream",
     "text": [
      "This class was modified by a metaclass.\n"
     ]
    }
   ],
   "source": [
    "# Example\n",
    "obj = MyClass()\n",
    "print(obj.info())"
   ]
  },
  {
   "cell_type": "markdown",
   "id": "9febed86-bc77-49f3-aa50-7adfe033688a",
   "metadata": {},
   "source": [
    "### Alternative Solution"
   ]
  },
  {
   "cell_type": "code",
   "execution_count": 3,
   "id": "c10bd808-db0c-40d2-bf3f-9d1315fb9f7f",
   "metadata": {},
   "outputs": [
    {
     "name": "stdout",
     "output_type": "stream",
     "text": [
      "[INIT] Creating class: AnotherClass\n"
     ]
    }
   ],
   "source": [
    "# Approach 2: Using __init__ instead of __new__ \n",
    "## If the class logic is too complex or post-processing is needed, override `__init__()` in the metaclass.)\n",
    "class MetaModifierAlt(type):\n",
    "    def __init__(cls, name, bases, dct):\n",
    "        print(f\"[INIT] Creating class: {name}\")\n",
    "        def info(self):\n",
    "            return \"Injected via __init__ of metaclass\"\n",
    "        cls.info = info\n",
    "        super().__init__(name, bases, dct)\n",
    "\n",
    "class AnotherClass(metaclass=MetaModifierAlt):\n",
    "    pass"
   ]
  },
  {
   "cell_type": "code",
   "execution_count": 4,
   "id": "0efc92f5-0fbc-472e-9058-88ff763b4107",
   "metadata": {},
   "outputs": [
    {
     "name": "stdout",
     "output_type": "stream",
     "text": [
      "Injected via __init__ of metaclass\n"
     ]
    }
   ],
   "source": [
    "# Example\n",
    "obj2 = AnotherClass()\n",
    "print(obj2.info())"
   ]
  },
  {
   "cell_type": "markdown",
   "id": "462318bf-672f-4468-9122-070cf70b5af5",
   "metadata": {},
   "source": [
    "## Complexity Analysis"
   ]
  },
  {
   "cell_type": "markdown",
   "id": "3ff61a2e-affa-44cc-b483-573f9dc9b166",
   "metadata": {},
   "source": [
    "Time Complexity: \n",
    "  - Class creation: O(1) – minimal overhead for injecting one method.\n",
    "  - Method call: O(1)\n",
    "\n",
    "Space Complexity: \n",
    "  - O(1) per class – only one function is added to the class."
   ]
  },
  {
   "cell_type": "markdown",
   "id": "54ae9b22-a3fd-4d97-807c-9deb388d03b1",
   "metadata": {},
   "source": [
    "#### Thank You!!"
   ]
  }
 ],
 "metadata": {
  "kernelspec": {
   "display_name": "Python 3 (ipykernel)",
   "language": "python",
   "name": "python3"
  },
  "language_info": {
   "codemirror_mode": {
    "name": "ipython",
    "version": 3
   },
   "file_extension": ".py",
   "mimetype": "text/x-python",
   "name": "python",
   "nbconvert_exporter": "python",
   "pygments_lexer": "ipython3",
   "version": "3.8.10"
  }
 },
 "nbformat": 4,
 "nbformat_minor": 5
}
