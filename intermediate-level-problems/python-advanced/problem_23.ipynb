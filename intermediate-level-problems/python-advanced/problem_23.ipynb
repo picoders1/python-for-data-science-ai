{
 "cells": [
  {
   "cell_type": "markdown",
   "id": "8a36d3b1-1a8d-478e-8060-6477472e6bd4",
   "metadata": {},
   "source": [
    "# **Problem Statement**  \n",
    "## **23. Use asyncio to perform asynchronous I/O operations.**"
   ]
  },
  {
   "cell_type": "markdown",
   "id": "3250a3fd-568d-417b-9855-8c3ba7ba4aba",
   "metadata": {},
   "source": [
    "- Demonstrate the use of Python’s built-in `asyncio` library to execute multiple I/O-bound tasks concurrently. \n",
    "- The focus is to show how `async`/`await`, `asyncio.sleep`, and `asyncio.gather` work to handle asynchronous operations efficiently."
   ]
  },
  {
   "cell_type": "markdown",
   "id": "12b96244-784f-44f1-b72a-e69e054e8b67",
   "metadata": {},
   "source": [
    "### Identify Constraints & Example Inputs/Outputs\n",
    "\n",
    "Constraints:\n",
    "\n",
    "- Use only Python standard library (no external async libraries).\n",
    "- Simulate I/O using `asyncio.sleep()` to mimic delay (like reading from file or network).\n",
    "\n",
    "---\n",
    "Example Usage: \n",
    "\n",
    "Suppose we simulate 3 asynchronous tasks:\n",
    "- Task A: Takes 3 seconds\n",
    "- Task B: Takes 2 seconds\n",
    "- Task C: Takes 1 second\n",
    "\n",
    "Expected Output: \n",
    "All tasks start nearly simultaneously and complete in ~3 seconds total, rather than 6 seconds sequentially.\n",
    "\n",
    "---"
   ]
  },
  {
   "cell_type": "markdown",
   "id": "b68e7cad-ea42-4bb3-a20e-a91cba6d7424",
   "metadata": {},
   "source": [
    "### Solution Approach"
   ]
  },
  {
   "cell_type": "markdown",
   "id": "144b599f-addb-4686-8425-1f6e6f862acd",
   "metadata": {},
   "source": [
    "Step1: Import `asyncio`.\n",
    "\n",
    "Step2: Define async functions (`async def`) simulating I/O-bound operations using `asyncio.sleep()`.\n",
    "\n",
    "Step3: Use `await` to yield control during I/O.\n",
    "\n",
    "Step4: Use `asyncio.gather()` to run tasks concurrently.\n",
    "\n",
    "Step5: Measure time to demonstrate asynchronous execution."
   ]
  },
  {
   "cell_type": "markdown",
   "id": "be931aed-e6ac-4398-a9cc-cd43c98ed91b",
   "metadata": {},
   "source": [
    "### Solution Code"
   ]
  },
  {
   "cell_type": "code",
   "execution_count": 1,
   "id": "57cab10a-c58c-459b-b504-16dc7ee1d0ac",
   "metadata": {},
   "outputs": [
    {
     "name": "stdout",
     "output_type": "stream",
     "text": [
      "Starting A\n",
      "Finished A\n",
      "Starting B\n",
      "Finished B\n",
      "Starting C\n",
      "Finished C\n",
      "Total time taken: 6.02 seconds\n"
     ]
    }
   ],
   "source": [
    "# Approach1: Brute Force Approach (Synchronous Version)\n",
    "import time\n",
    "\n",
    "def sync_task(name, delay):\n",
    "    print(f\"Starting {name}\")\n",
    "    time.sleep(delay)\n",
    "    print(f\"Finished {name}\")\n",
    "\n",
    "start = time.time()\n",
    "sync_task(\"A\", 3)\n",
    "sync_task(\"B\", 2)\n",
    "sync_task(\"C\", 1)\n",
    "end = time.time()\n",
    "\n",
    "print(f\"Total time taken: {end - start:.2f} seconds\")"
   ]
  },
  {
   "cell_type": "markdown",
   "id": "9febed86-bc77-49f3-aa50-7adfe033688a",
   "metadata": {},
   "source": [
    "### Alternative Solution"
   ]
  },
  {
   "cell_type": "code",
   "execution_count": 2,
   "id": "c10bd808-db0c-40d2-bf3f-9d1315fb9f7f",
   "metadata": {},
   "outputs": [
    {
     "name": "stdout",
     "output_type": "stream",
     "text": [
      "Starting A\n",
      "Starting B\n",
      "Starting C\n",
      "Finished C\n",
      "Finished B\n",
      "Finished A\n",
      "Total time taken: 3.01 seconds\n"
     ]
    }
   ],
   "source": [
    "# Approach2: Optimized Approach (Asynchronous Version)\n",
    "import asyncio\n",
    "import time\n",
    "\n",
    "async def async_task(name, delay):\n",
    "    print(f\"Starting {name}\")\n",
    "    await asyncio.sleep(delay)\n",
    "    print(f\"Finished {name}\")\n",
    "\n",
    "async def main():\n",
    "    start = time.time()\n",
    "    await asyncio.gather(\n",
    "        async_task(\"A\", 3),\n",
    "        async_task(\"B\", 2),\n",
    "        async_task(\"C\", 1)\n",
    "    )\n",
    "    end = time.time()\n",
    "    print(f\"Total time taken: {end - start:.2f} seconds\")\n",
    "\n",
    "await main()  # Directly usable in Jupyter"
   ]
  },
  {
   "cell_type": "markdown",
   "id": "462318bf-672f-4468-9122-070cf70b5af5",
   "metadata": {},
   "source": [
    "## Complexity Analysis"
   ]
  },
  {
   "cell_type": "markdown",
   "id": "3ff61a2e-affa-44cc-b483-573f9dc9b166",
   "metadata": {},
   "source": [
    "Synchronous Version:\n",
    "- Time Complexity: O(n) where n is the number of tasks (executed sequentially)\n",
    "- Space Complexity: O(1)\n",
    "\n",
    "Asynchronous Version:\n",
    "- Time Complexity: O(max(task_time)) — tasks run concurrently\n",
    "- Space Complexity: O(n) for task queue and event loop management\n",
    "\n",
    "Observation: Asynchronous execution significantly reduces total runtime for I/O-bound tasks.\n"
   ]
  },
  {
   "cell_type": "markdown",
   "id": "54ae9b22-a3fd-4d97-807c-9deb388d03b1",
   "metadata": {},
   "source": [
    "#### Thank You!!"
   ]
  }
 ],
 "metadata": {
  "kernelspec": {
   "display_name": "Python 3 (ipykernel)",
   "language": "python",
   "name": "python3"
  },
  "language_info": {
   "codemirror_mode": {
    "name": "ipython",
    "version": 3
   },
   "file_extension": ".py",
   "mimetype": "text/x-python",
   "name": "python",
   "nbconvert_exporter": "python",
   "pygments_lexer": "ipython3",
   "version": "3.8.10"
  }
 },
 "nbformat": 4,
 "nbformat_minor": 5
}
