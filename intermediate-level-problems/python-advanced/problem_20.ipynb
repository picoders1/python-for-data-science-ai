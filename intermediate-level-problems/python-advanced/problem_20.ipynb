{
 "cells": [
  {
   "cell_type": "markdown",
   "id": "8a36d3b1-1a8d-478e-8060-6477472e6bd4",
   "metadata": {},
   "source": [
    "# **Problem Statement**  \n",
    "## **20. Demonstrate the use of weakref to avoid circular references.**"
   ]
  },
  {
   "cell_type": "markdown",
   "id": "3250a3fd-568d-417b-9855-8c3ba7ba4aba",
   "metadata": {},
   "source": [
    "Create a Python example that demonstrates how circular references can prevent garbage collection and how weakref can be used to break such cycles, allowing memory to be reclaimed properly."
   ]
  },
  {
   "cell_type": "markdown",
   "id": "12b96244-784f-44f1-b72a-e69e054e8b67",
   "metadata": {},
   "source": [
    "### Identify Constraints & Example Inputs/Outputs\n",
    "\n",
    "Constraints:\n",
    "\n",
    "- The code must demonstrate a class-based object relationship with a circular reference.\n",
    "- Show the memory leakage (if weakref not used).\n",
    "- Use gc.collect() to demonstrate memory cleanup.\n",
    "\n",
    "---\n",
    "Example Output: \n",
    "\n",
    "- With strong reference: Object not collected.\n",
    "- With weakref: Object is collected.\n"
   ]
  },
  {
   "cell_type": "markdown",
   "id": "b68e7cad-ea42-4bb3-a20e-a91cba6d7424",
   "metadata": {},
   "source": [
    "### Solution Approach"
   ]
  },
  {
   "cell_type": "markdown",
   "id": "144b599f-addb-4686-8425-1f6e6f862acd",
   "metadata": {},
   "source": [
    "Step1: Circular references occur when two objects reference each other, preventing Python’s reference counter from reaching zero.\n",
    "\n",
    "Step2: Python's garbage collector can detect such cycles, but they are costly and can cause memory leaks in long-running apps.\n",
    "\n",
    "Step3: weakref allows one object to refer to another without increasing its reference count.\n",
    "\n",
    "Step4: We'll create two classes, A and B, where one references the other using weakref.\n",
    "\n",
    "Step5: Then we'll compare what happens with and without weakref."
   ]
  },
  {
   "cell_type": "markdown",
   "id": "be931aed-e6ac-4398-a9cc-cd43c98ed91b",
   "metadata": {},
   "source": [
    "### Solution Code"
   ]
  },
  {
   "cell_type": "code",
   "execution_count": 1,
   "id": "57cab10a-c58c-459b-b504-16dc7ee1d0ac",
   "metadata": {},
   "outputs": [
    {
     "name": "stdout",
     "output_type": "stream",
     "text": [
      "With strong reference - Garbage collected: 39\n"
     ]
    }
   ],
   "source": [
    "# Approach 1: Brute Force (With strong references)\n",
    "import gc\n",
    "\n",
    "class A:\n",
    "    def __init__(self):\n",
    "        self.b = None\n",
    "\n",
    "class B:\n",
    "    def __init__(self):\n",
    "        self.a = None\n",
    "\n",
    "def strong_reference_demo():\n",
    "    a = A()\n",
    "    b = B()\n",
    "    a.b = b\n",
    "    b.a = a  # Strong reference - circular\n",
    "    del a\n",
    "    del b\n",
    "    collected = gc.collect()\n",
    "    print(\"With strong reference - Garbage collected:\", collected)\n",
    "\n",
    "strong_reference_demo()"
   ]
  },
  {
   "cell_type": "markdown",
   "id": "9febed86-bc77-49f3-aa50-7adfe033688a",
   "metadata": {},
   "source": [
    "### Alternative Solution"
   ]
  },
  {
   "cell_type": "code",
   "execution_count": 2,
   "id": "c10bd808-db0c-40d2-bf3f-9d1315fb9f7f",
   "metadata": {},
   "outputs": [
    {
     "name": "stdout",
     "output_type": "stream",
     "text": [
      "With weakref - Garbage collected: 12\n"
     ]
    }
   ],
   "source": [
    "# Approach 2: Optimized Approach (Using weakref)\n",
    "import weakref\n",
    "import gc\n",
    "\n",
    "class A:\n",
    "    def __init__(self):\n",
    "        self.b = None\n",
    "\n",
    "class B:\n",
    "    def __init__(self):\n",
    "        self.a = None\n",
    "\n",
    "def weakref_demo():\n",
    "    a = A()\n",
    "    b = B()\n",
    "    a.b = b\n",
    "    b.a = weakref.ref(a)  # Weak reference - avoids circular reference\n",
    "    del a\n",
    "    del b\n",
    "    collected = gc.collect()\n",
    "    print(\"With weakref - Garbage collected:\", collected)\n",
    "\n",
    "weakref_demo()"
   ]
  },
  {
   "cell_type": "markdown",
   "id": "462318bf-672f-4468-9122-070cf70b5af5",
   "metadata": {},
   "source": [
    "## Complexity Analysis"
   ]
  },
  {
   "cell_type": "markdown",
   "id": "3ff61a2e-affa-44cc-b483-573f9dc9b166",
   "metadata": {},
   "source": [
    "Time Complexity: \n",
    "- Object creation and assignment: O(1)\n",
    "- gc.collect(): Depends on the size of memory being tracked.\n",
    "\n",
    "Space Complexity: \n",
    "- With strong references: Potential memory leakage if not collected.\n",
    "- With weakref: Reduced memory usage, as reference count isn’t increased."
   ]
  },
  {
   "cell_type": "markdown",
   "id": "54ae9b22-a3fd-4d97-807c-9deb388d03b1",
   "metadata": {},
   "source": [
    "#### Thank You!!"
   ]
  }
 ],
 "metadata": {
  "kernelspec": {
   "display_name": "Python 3 (ipykernel)",
   "language": "python",
   "name": "python3"
  },
  "language_info": {
   "codemirror_mode": {
    "name": "ipython",
    "version": 3
   },
   "file_extension": ".py",
   "mimetype": "text/x-python",
   "name": "python",
   "nbconvert_exporter": "python",
   "pygments_lexer": "ipython3",
   "version": "3.8.10"
  }
 },
 "nbformat": 4,
 "nbformat_minor": 5
}
