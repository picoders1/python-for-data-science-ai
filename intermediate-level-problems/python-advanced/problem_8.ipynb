{
 "cells": [
  {
   "cell_type": "markdown",
   "id": "8a36d3b1-1a8d-478e-8060-6477472e6bd4",
   "metadata": {},
   "source": [
    "# **Problem Statement**  \n",
    "## **8. Implement a custom exception hierarchy in Python**"
   ]
  },
  {
   "cell_type": "markdown",
   "id": "3250a3fd-568d-417b-9855-8c3ba7ba4aba",
   "metadata": {},
   "source": [
    "- Create a base custom exception and derive multiple specific exceptions from it.  \n",
    "- Use these custom exceptions in a function that handles multiple types of errors in a clear and structured way."
   ]
  },
  {
   "cell_type": "markdown",
   "id": "12b96244-784f-44f1-b72a-e69e054e8b67",
   "metadata": {},
   "source": [
    "### Identify Constraints & Example Inputs/Outputs\n",
    "\n",
    "Constraints:\n",
    "\n",
    "- Create a base exception: `AppError`\n",
    "- Derive at least two exceptions from it: `ValidationError`, `DatabaseError`\n",
    "- Simulate a function that can raise either exception\n",
    "- Handle both exceptions gracefully\n",
    "\n",
    "---\n",
    "Example Input: \n",
    "\n",
    "```python\n",
    "process_input(-5)  # Should raise ValidationError\n",
    "process_input(\"connect_db\")  # Should raise DatabaseError\n",
    "```\n",
    "Example Output: \n",
    "- Validation failed: Input must be positive.\n",
    "Database operation failed: Could not connect to database.\n",
    "\n",
    "- Finished execution with proper exception handling.\n",
    "\n",
    "---"
   ]
  },
  {
   "cell_type": "markdown",
   "id": "b68e7cad-ea42-4bb3-a20e-a91cba6d7424",
   "metadata": {},
   "source": [
    "### Solution Approach"
   ]
  },
  {
   "cell_type": "markdown",
   "id": "144b599f-addb-4686-8425-1f6e6f862acd",
   "metadata": {},
   "source": [
    "Step1: In Python, you can create custom exceptions by subclassing the built-in `Exception` class.\n",
    "\n",
    "Step2: This allows better organization of errors and cleaner error handling logic.\n",
    "\n",
    "Step3: We’ll define a base exception called `AppError`.\n",
    "\n",
    "Step4: Then, we’ll create two child exceptions: `ValidationError` and `DatabaseError`.\n",
    "\n",
    "Step 5: A function will simulate different failure conditions and raise the appropriate exception.\n",
    "\n",
    "Step6: We'll handle the exceptions using `try...except` blocks to demonstrate clean error management."
   ]
  },
  {
   "cell_type": "markdown",
   "id": "be931aed-e6ac-4398-a9cc-cd43c98ed91b",
   "metadata": {},
   "source": [
    "### Solution Code"
   ]
  },
  {
   "cell_type": "code",
   "execution_count": 1,
   "id": "57cab10a-c58c-459b-b504-16dc7ee1d0ac",
   "metadata": {},
   "outputs": [
    {
     "name": "stdout",
     "output_type": "stream",
     "text": [
      "Validation failed: Input must be positive.\n",
      "Handled by base exception: Could not connect to database.\n",
      "Finished execution.\n"
     ]
    }
   ],
   "source": [
    "# Approach 1: Brute Force Approach (Using basic custom exceptions)\n",
    "class AppError(Exception):\n",
    "    pass\n",
    "\n",
    "class ValidationError(AppError):\n",
    "    pass\n",
    "\n",
    "class DatabaseError(AppError):\n",
    "    pass\n",
    "\n",
    "def process_input(data):\n",
    "    if isinstance(data, int) and data < 0:\n",
    "        raise ValidationError(\"Input must be positive.\")\n",
    "    elif data == \"connect_db\":\n",
    "        raise DatabaseError(\"Could not connect to database.\")\n",
    "    else:\n",
    "        print(\"Data processed successfully.\")\n",
    "\n",
    "try:\n",
    "    process_input(-1)\n",
    "except ValidationError as ve:\n",
    "    print(\"Validation failed:\", ve)\n",
    "except DatabaseError as de:\n",
    "    print(\"Database operation failed:\", de)\n",
    "\n",
    "try:\n",
    "    process_input(\"connect_db\")\n",
    "except AppError as ae:\n",
    "    print(\"Handled by base exception:\", ae)\n",
    "\n",
    "print(\"Finished execution.\")"
   ]
  },
  {
   "cell_type": "markdown",
   "id": "9febed86-bc77-49f3-aa50-7adfe033688a",
   "metadata": {},
   "source": [
    "### Alternative Solution"
   ]
  },
  {
   "cell_type": "code",
   "execution_count": 2,
   "id": "c10bd808-db0c-40d2-bf3f-9d1315fb9f7f",
   "metadata": {},
   "outputs": [
    {
     "name": "stdout",
     "output_type": "stream",
     "text": [
      "❌ ValidationError [400]: Input must be positive.\n",
      "✅ Finished execution.\n"
     ]
    }
   ],
   "source": [
    "# Approach 2: Optimized Approach (Using error codes and better structure)\n",
    "class AppError(Exception):\n",
    "    def __init__(self, message, code=None):\n",
    "        self.message = message\n",
    "        self.code = code\n",
    "        super().__init__(message)\n",
    "\n",
    "class ValidationError(AppError):\n",
    "    pass\n",
    "\n",
    "class DatabaseError(AppError):\n",
    "    pass\n",
    "\n",
    "def process_input(data):\n",
    "    if isinstance(data, int) and data < 0:\n",
    "        raise ValidationError(\"Input must be positive.\", code=400)\n",
    "    elif data == \"connect_db\":\n",
    "        raise DatabaseError(\"Could not connect to database.\", code=500)\n",
    "    else:\n",
    "        print(\"✅ Data processed successfully.\")\n",
    "\n",
    "try:\n",
    "    process_input(-5)\n",
    "except ValidationError as e:\n",
    "    print(f\"❌ ValidationError [{e.code}]: {e.message}\")\n",
    "except DatabaseError as e:\n",
    "    print(f\"❌ DatabaseError [{e.code}]: {e.message}\")\n",
    "except AppError as e:\n",
    "    print(f\"❌ AppError: {e.message}\")\n",
    "\n",
    "print(\"✅ Finished execution.\")"
   ]
  },
  {
   "cell_type": "markdown",
   "id": "462318bf-672f-4468-9122-070cf70b5af5",
   "metadata": {},
   "source": [
    "## Complexity Analysis"
   ]
  },
  {
   "cell_type": "markdown",
   "id": "3ff61a2e-affa-44cc-b483-573f9dc9b166",
   "metadata": {},
   "source": [
    "Time Complexity: O(1) -> The operations are simple condition checks and raises.\n",
    "\n",
    "Space Complexity: O(1) -> Exception classes and small control logic only use constant space."
   ]
  },
  {
   "cell_type": "markdown",
   "id": "54ae9b22-a3fd-4d97-807c-9deb388d03b1",
   "metadata": {},
   "source": [
    "#### Thank You!!"
   ]
  }
 ],
 "metadata": {
  "kernelspec": {
   "display_name": "Python 3 (ipykernel)",
   "language": "python",
   "name": "python3"
  },
  "language_info": {
   "codemirror_mode": {
    "name": "ipython",
    "version": 3
   },
   "file_extension": ".py",
   "mimetype": "text/x-python",
   "name": "python",
   "nbconvert_exporter": "python",
   "pygments_lexer": "ipython3",
   "version": "3.8.10"
  }
 },
 "nbformat": 4,
 "nbformat_minor": 5
}
