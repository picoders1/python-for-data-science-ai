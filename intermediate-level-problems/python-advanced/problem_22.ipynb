{
 "cells": [
  {
   "cell_type": "markdown",
   "id": "8a36d3b1-1a8d-478e-8060-6477472e6bd4",
   "metadata": {},
   "source": [
    "# **Problem Statement**  \n",
    "## **22. Implement a command-line interface using argparse**"
   ]
  },
  {
   "cell_type": "markdown",
   "id": "3250a3fd-568d-417b-9855-8c3ba7ba4aba",
   "metadata": {},
   "source": [
    "Create a simple CLI tool using Python's built-in `argparse` module. The tool should accept command-line arguments and perform operations based on the provided inputs."
   ]
  },
  {
   "cell_type": "markdown",
   "id": "12b96244-784f-44f1-b72a-e69e054e8b67",
   "metadata": {},
   "source": [
    "### Identify Constraints & Example Inputs/Outputs\n",
    "\n",
    "Constraints:\n",
    "\n",
    "- Use only Python standard library.\n",
    "- Implement at least two arguments (e.g., operation and values).\n",
    "- Include help and usage messages.\n",
    "\n",
    "---\n",
    "Example Usage: \n",
    "\n",
    "```bash\n",
    "$ python cli_tool.py --operation add --x 5 --y 3\n",
    "Result: 8\n",
    "\n",
    "$ python cli_tool.py --operation multiply --x 4 --y 6\n",
    "Result: 24\n",
    "\n",
    "```\n",
    "\n",
    "Expected Arguments:\n",
    "\n",
    "--operation: type of arithmetic operation (add, subtract, multiply, divide)\n",
    "\n",
    "--x: first number\n",
    "\n",
    "--y: second number\n"
   ]
  },
  {
   "cell_type": "markdown",
   "id": "b68e7cad-ea42-4bb3-a20e-a91cba6d7424",
   "metadata": {},
   "source": [
    "### Solution Approach"
   ]
  },
  {
   "cell_type": "markdown",
   "id": "144b599f-addb-4686-8425-1f6e6f862acd",
   "metadata": {},
   "source": [
    "Step1: Import the `argparse` module.\n",
    "\n",
    "Step2: Create an `ArgumentParser` object.\n",
    "\n",
    "Step3: Add arguments: `--operation`, `--x`, and `--y`.\n",
    "\n",
    "Step4: Parse the arguments from the command line.\n",
    "\n",
    "Step5: Implement conditional logic to perform the specified operation.\n",
    "\n",
    "Step6: Handle invalid inputs gracefully using help messages and validations."
   ]
  },
  {
   "cell_type": "markdown",
   "id": "be931aed-e6ac-4398-a9cc-cd43c98ed91b",
   "metadata": {},
   "source": [
    "### Solution Code"
   ]
  },
  {
   "cell_type": "code",
   "execution_count": null,
   "id": "98ba8504-ff14-4ea8-b6a2-dab08dca46a9",
   "metadata": {},
   "outputs": [],
   "source": [
    "# Approach1: Brute Force Approach \n",
    "import argparse\n",
    "\n",
    "# Step 1: Create parser\n",
    "parser = argparse.ArgumentParser(description=\"Simple CLI Calculator\")\n",
    "\n",
    "# Step 2: Add arguments\n",
    "parser.add_argument('--operation', type=str, required=True, help=\"Operation to perform: add, subtract, multiply, divide\")\n",
    "parser.add_argument('--x', type=float, required=True, help=\"First number\")\n",
    "parser.add_argument('--y', type=float, required=True, help=\"Second number\")\n",
    "\n",
    "# Step 3: Parse the arguments\n",
    "args = parser.parse_args()\n",
    "\n",
    "# Step 4: Logic to perform operations\n",
    "if args.operation == 'add':\n",
    "    result = args.x + args.y\n",
    "elif args.operation == 'subtract':\n",
    "    result = args.x - args.y\n",
    "elif args.operation == 'multiply':\n",
    "    result = args.x * args.y\n",
    "elif args.operation == 'divide':\n",
    "    result = args.x / args.y\n",
    "else:\n",
    "    raise ValueError(\"Invalid operation. Choose from: add, subtract, multiply, divide\")\n",
    "\n",
    "print(\"Result:\", result)"
   ]
  },
  {
   "cell_type": "markdown",
   "id": "462318bf-672f-4468-9122-070cf70b5af5",
   "metadata": {},
   "source": [
    "## Complexity Analysis"
   ]
  },
  {
   "cell_type": "markdown",
   "id": "3ff61a2e-affa-44cc-b483-573f9dc9b166",
   "metadata": {},
   "source": [
    "Time Complexity: \n",
    "- Argument Parsing: O(1)\n",
    "- Arithmetic Operation: O(1)\n",
    "\n",
    "Space Complexity: \n",
    "- O(1) for storing inputs and result"
   ]
  },
  {
   "cell_type": "markdown",
   "id": "54ae9b22-a3fd-4d97-807c-9deb388d03b1",
   "metadata": {},
   "source": [
    "#### Thank You!!"
   ]
  }
 ],
 "metadata": {
  "kernelspec": {
   "display_name": "Python 3 (ipykernel)",
   "language": "python",
   "name": "python3"
  },
  "language_info": {
   "codemirror_mode": {
    "name": "ipython",
    "version": 3
   },
   "file_extension": ".py",
   "mimetype": "text/x-python",
   "name": "python",
   "nbconvert_exporter": "python",
   "pygments_lexer": "ipython3",
   "version": "3.8.10"
  }
 },
 "nbformat": 4,
 "nbformat_minor": 5
}
