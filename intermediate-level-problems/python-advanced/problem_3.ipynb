{
 "cells": [
  {
   "cell_type": "markdown",
   "id": "8a36d3b1-1a8d-478e-8060-6477472e6bd4",
   "metadata": {},
   "source": [
    "# **Problem Statement**  \n",
    "## **3. Create a decorator in Python that measures the execution time of any function it wraps**"
   ]
  },
  {
   "cell_type": "markdown",
   "id": "3250a3fd-568d-417b-9855-8c3ba7ba4aba",
   "metadata": {},
   "source": [
    "Here, This decorator should:\n",
    "- Print (or return) how much time the function took to execute.\n",
    "- Work with any function (general-purpose)."
   ]
  },
  {
   "cell_type": "markdown",
   "id": "12b96244-784f-44f1-b72a-e69e054e8b67",
   "metadata": {},
   "source": [
    "### Identify Constraints & Example Inputs/Outputs\n",
    "\n",
    "Constraints:\n",
    "\n",
    "- Use `time` module (or `time.perf_counter()` for better accuracy).\n",
    "- Decorator must be reusable across different functions.\n",
    "\n",
    "---\n",
    "Example Usage: \n",
    "\n",
    "```python\n",
    "@timer\n",
    "def slow_addition(a, b):\n",
    "    time.sleep(2)\n",
    "    return a + b\n",
    "\n",
    "slow_addition(3, 4)\n",
    "\n",
    "\n",
    "Output - \n",
    "Execution time: 2.0021 seconds\n",
    "\n",
    "---"
   ]
  },
  {
   "cell_type": "markdown",
   "id": "b68e7cad-ea42-4bb3-a20e-a91cba6d7424",
   "metadata": {},
   "source": [
    "### Solution Approach"
   ]
  },
  {
   "cell_type": "markdown",
   "id": "144b599f-addb-4686-8425-1f6e6f862acd",
   "metadata": {},
   "source": [
    "Step1: Import `time` module.\n",
    "\n",
    "Step2: Define a decorator function `timer` that takes a function as an argument.\n",
    "\n",
    "Step3: Inside the decorator, define a `wrapper` function.\n",
    "\n",
    "Step4: In the wrapper:\n",
    "   - Record the start time.\n",
    "   - Call the original function.\n",
    "   - Record the end time.\n",
    "   - Calculate and print the time taken.\n",
    "   - Return the result of the function.\n",
    "\n",
    "Step4: Return the `wrapper` from the decorator."
   ]
  },
  {
   "cell_type": "markdown",
   "id": "be931aed-e6ac-4398-a9cc-cd43c98ed91b",
   "metadata": {},
   "source": [
    "### Solution Code"
   ]
  },
  {
   "cell_type": "code",
   "execution_count": 1,
   "id": "57cab10a-c58c-459b-b504-16dc7ee1d0ac",
   "metadata": {},
   "outputs": [],
   "source": [
    "# Approach 1: Brute Force Approach \n",
    "import time\n",
    "\n",
    "def timer(func):\n",
    "    def wrapper(*args, **kwargs):\n",
    "        start = time.time()\n",
    "        result = func(*args, **kwargs)\n",
    "        end = time.time()\n",
    "        print(f\"Execution time: {end - start:.4f} seconds\")\n",
    "        return result\n",
    "    return wrapper"
   ]
  },
  {
   "cell_type": "code",
   "execution_count": 2,
   "id": "db59700b-0b30-49cd-b793-084565ed38f3",
   "metadata": {},
   "outputs": [
    {
     "name": "stdout",
     "output_type": "stream",
     "text": [
      "Execution time: 1.5087 seconds\n"
     ]
    }
   ],
   "source": [
    "# Example\n",
    "@timer\n",
    "def simulate_delay():\n",
    "    time.sleep(1.5)\n",
    "\n",
    "simulate_delay()"
   ]
  },
  {
   "cell_type": "markdown",
   "id": "9febed86-bc77-49f3-aa50-7adfe033688a",
   "metadata": {},
   "source": [
    "### Alternative Solution"
   ]
  },
  {
   "cell_type": "markdown",
   "id": "d677803d-5e63-441a-ae62-38225a4df2b5",
   "metadata": {},
   "source": [
    "- Use `time.perf_counter()` instead of `time.time()` for higher precision:"
   ]
  },
  {
   "cell_type": "code",
   "execution_count": 7,
   "id": "127324a0-aa81-4ce1-9f16-a69f672b316b",
   "metadata": {},
   "outputs": [],
   "source": [
    "# Alternative Approach\n",
    "def timer1(func):\n",
    "    def wrapper(*args, **kwargs):\n",
    "        start = time.perf_counter()\n",
    "        result = func(*args, **kwargs)\n",
    "        end = time.perf_counter()\n",
    "        print(f\"Execution time: {end - start:.4f} seconds\")\n",
    "        return result\n",
    "    return wrapper"
   ]
  },
  {
   "cell_type": "code",
   "execution_count": 6,
   "id": "9e9177e3-d2bb-46ac-8f82-db3e47d3461e",
   "metadata": {},
   "outputs": [
    {
     "name": "stdout",
     "output_type": "stream",
     "text": [
      "Execution time: 1.5075 seconds\n"
     ]
    }
   ],
   "source": [
    "# Example\n",
    "@timer1\n",
    "def simulate_delay():\n",
    "    time.sleep(1.5)\n",
    "\n",
    "simulate_delay()"
   ]
  },
  {
   "cell_type": "markdown",
   "id": "462318bf-672f-4468-9122-070cf70b5af5",
   "metadata": {},
   "source": [
    "## Complexity Analysis"
   ]
  },
  {
   "cell_type": "markdown",
   "id": "3ff61a2e-affa-44cc-b483-573f9dc9b166",
   "metadata": {},
   "source": [
    "Time Complexity: O(1) -> for the timing logic + time taken by the actual function.\n",
    "\n",
    "Space Complexity: O(1) -> No additional space used, aside from a few variables."
   ]
  },
  {
   "cell_type": "markdown",
   "id": "54ae9b22-a3fd-4d97-807c-9deb388d03b1",
   "metadata": {},
   "source": [
    "#### Thank You!!"
   ]
  }
 ],
 "metadata": {
  "kernelspec": {
   "display_name": "Python 3 (ipykernel)",
   "language": "python",
   "name": "python3"
  },
  "language_info": {
   "codemirror_mode": {
    "name": "ipython",
    "version": 3
   },
   "file_extension": ".py",
   "mimetype": "text/x-python",
   "name": "python",
   "nbconvert_exporter": "python",
   "pygments_lexer": "ipython3",
   "version": "3.8.10"
  }
 },
 "nbformat": 4,
 "nbformat_minor": 5
}
