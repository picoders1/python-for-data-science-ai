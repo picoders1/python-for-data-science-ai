{
 "cells": [
  {
   "cell_type": "markdown",
   "id": "8a36d3b1-1a8d-478e-8060-6477472e6bd4",
   "metadata": {},
   "source": [
    "# **Problem Statement**  \n",
    "## **26. Use typing module to add type hints to functions and classes**"
   ]
  },
  {
   "cell_type": "markdown",
   "id": "3250a3fd-568d-417b-9855-8c3ba7ba4aba",
   "metadata": {},
   "source": [
    "We’re expected to demonstrate how Python’s typing module can be used to annotate variables, function parameters, and return types, especially in classes, to make the code more readable and maintainable."
   ]
  },
  {
   "cell_type": "markdown",
   "id": "12b96244-784f-44f1-b72a-e69e054e8b67",
   "metadata": {},
   "source": [
    "### Identify Constraints & Example Inputs/Outputs\n",
    "\n",
    "Constraints:\n",
    "\n",
    "- Type hints should follow Python 3.5+ syntax.\n",
    "- The code should run both with and without static type checking.\n",
    "- Use mypy or pyright (optional) to validate types statically.\n",
    "\n",
    "---\n",
    "Example Usage: \n",
    "\n",
    "```python\n",
    "# Without Type Hints\n",
    "def add(a, b):\n",
    "    return a + b\n",
    "\n",
    "# With Type Hints\n",
    "def add(a: int, b: int) -> int:\n",
    "    return a + b\n",
    "    \n",
    "```"
   ]
  },
  {
   "cell_type": "markdown",
   "id": "b68e7cad-ea42-4bb3-a20e-a91cba6d7424",
   "metadata": {},
   "source": [
    "### Solution Approach"
   ]
  },
  {
   "cell_type": "markdown",
   "id": "144b599f-addb-4686-8425-1f6e6f862acd",
   "metadata": {},
   "source": [
    "What is Type Hinting?\n",
    "Type hinting is a way to annotate Python code with expected variable types for better readability and tool support.\n",
    "\n",
    "Why use the typing module?\n",
    "It provides built-in type hints like List, Dict, Tuple, Optional, Union, etc., for more complex type definitions.\n",
    "\n",
    "Scope of the Problem:\n",
    "- Add type hints to a function.\n",
    "- Use type hints in class attributes and methods.\n",
    "- Demonstrate Optional, Union, and List.\n",
    "  "
   ]
  },
  {
   "cell_type": "markdown",
   "id": "be931aed-e6ac-4398-a9cc-cd43c98ed91b",
   "metadata": {},
   "source": [
    "### Solution Code"
   ]
  },
  {
   "cell_type": "code",
   "execution_count": 1,
   "id": "57cab10a-c58c-459b-b504-16dc7ee1d0ac",
   "metadata": {},
   "outputs": [
    {
     "name": "stdout",
     "output_type": "stream",
     "text": [
      "My name is Alice and I enjoy reading, cycling.\n",
      "Hello Bob!\n",
      "Hello Charlie, you are 30 years old.\n"
     ]
    }
   ],
   "source": [
    "# Approach1: Brute Force Approach \n",
    "from typing import List, Optional, Union\n",
    "\n",
    "# Function with type hints\n",
    "def greet(name: str, age: Optional[int] = None) -> str:\n",
    "    if age:\n",
    "        return f\"Hello {name}, you are {age} years old.\"\n",
    "    return f\"Hello {name}!\"\n",
    "\n",
    "# Class with type hints\n",
    "class Person:\n",
    "    def __init__(self, name: str, hobbies: List[str]) -> None:\n",
    "        self.name: str = name\n",
    "        self.hobbies: List[str] = hobbies\n",
    "\n",
    "    def introduce(self) -> str:\n",
    "        return f\"My name is {self.name} and I enjoy {', '.join(self.hobbies)}.\"\n",
    "\n",
    "# Example Usage\n",
    "p = Person(\"Alice\", [\"reading\", \"cycling\"])\n",
    "print(p.introduce())\n",
    "print(greet(\"Bob\"))\n",
    "print(greet(\"Charlie\", 30))\n"
   ]
  },
  {
   "cell_type": "markdown",
   "id": "9febed86-bc77-49f3-aa50-7adfe033688a",
   "metadata": {},
   "source": [
    "### Alternative Solution"
   ]
  },
  {
   "cell_type": "code",
   "execution_count": 4,
   "id": "c10bd808-db0c-40d2-bf3f-9d1315fb9f7f",
   "metadata": {},
   "outputs": [
    {
     "name": "stdout",
     "output_type": "stream",
     "text": [
      "Student(name='Pi', subjects=['Math', 'Computer Science'])\n"
     ]
    }
   ],
   "source": [
    "# Approach2: Optimized Approach (Using dataclasses along with type hints for shorter syntax)\n",
    "from dataclasses import dataclass\n",
    "from typing import List\n",
    "\n",
    "@dataclass\n",
    "class Student:\n",
    "    name:str\n",
    "    subjects:List[str]\n",
    "\n",
    "s = Student(\"Pi\", [\"Math\", \"Computer Science\"])\n",
    "\n",
    "print(s)"
   ]
  },
  {
   "cell_type": "markdown",
   "id": "462318bf-672f-4468-9122-070cf70b5af5",
   "metadata": {},
   "source": [
    "## Complexity Analysis"
   ]
  },
  {
   "cell_type": "markdown",
   "id": "3ff61a2e-affa-44cc-b483-573f9dc9b166",
   "metadata": {},
   "source": [
    "Time Complexity: O(1) for type annotations – they don’t affect runtime performance.\n",
    "\n",
    "Space Complexity: O(1) – annotations are stored in __annotations__, minimal overhead."
   ]
  },
  {
   "cell_type": "markdown",
   "id": "54ae9b22-a3fd-4d97-807c-9deb388d03b1",
   "metadata": {},
   "source": [
    "#### Thank You!!"
   ]
  }
 ],
 "metadata": {
  "kernelspec": {
   "display_name": "Python 3 (ipykernel)",
   "language": "python",
   "name": "python3"
  },
  "language_info": {
   "codemirror_mode": {
    "name": "ipython",
    "version": 3
   },
   "file_extension": ".py",
   "mimetype": "text/x-python",
   "name": "python",
   "nbconvert_exporter": "python",
   "pygments_lexer": "ipython3",
   "version": "3.8.10"
  }
 },
 "nbformat": 4,
 "nbformat_minor": 5
}
