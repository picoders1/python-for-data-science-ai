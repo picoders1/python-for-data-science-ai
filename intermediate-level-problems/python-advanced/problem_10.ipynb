{
 "cells": [
  {
   "cell_type": "markdown",
   "id": "8a36d3b1-1a8d-478e-8060-6477472e6bd4",
   "metadata": {},
   "source": [
    "# **Problem Statement**  \n",
    "## **10. Demonstrate the use of property decorators for getters and setters.**"
   ]
  },
  {
   "cell_type": "markdown",
   "id": "3250a3fd-568d-417b-9855-8c3ba7ba4aba",
   "metadata": {},
   "source": [
    "- Demonstrate the use of `@property` decorators in Python to define getters and setters for a class attribute.  \n",
    "- The goal is to encapsulate access to private data and enforce logic during attribute access/modification."
   ]
  },
  {
   "cell_type": "markdown",
   "id": "12b96244-784f-44f1-b72a-e69e054e8b67",
   "metadata": {},
   "source": [
    "### Identify Constraints & Example Inputs/Outputs\n",
    "\n",
    "Constraints:\n",
    "\n",
    "- Use class-based encapsulation.\n",
    "- Must use @property for getter.\n",
    "- Must use @<property_name>.setter for setter.\n",
    "\n",
    "---\n",
    "Example Usage: \n",
    "\n",
    "Class: `Person`\n",
    "Attribute: `_age`\n",
    "\n",
    "- If age is set to a negative value, raise a `ValueError`.\n",
    "- If accessed, return the age with a formatted string like: \"Age is: 25\"\n",
    "\n",
    "---"
   ]
  },
  {
   "cell_type": "markdown",
   "id": "b68e7cad-ea42-4bb3-a20e-a91cba6d7424",
   "metadata": {},
   "source": [
    "### Solution Approach"
   ]
  },
  {
   "cell_type": "markdown",
   "id": "144b599f-addb-4686-8425-1f6e6f862acd",
   "metadata": {},
   "source": [
    "Step1: Define a class `Person` with a private attribute `_age`.\n",
    "\n",
    "Step2: Create a getter method decorated with `@property` to access `_age`.\n",
    "\n",
    "Step3: Create a setter method decorated with `@age.setter` to:\n",
    "   - Validate the age (must be >= 0).\n",
    "   - Assign the value to `_age` if valid.\n",
    "     \n",
    "Step4: Demonstrate usage by creating an object and performing get/set operations.\n",
    "\n",
    "Step5: Include edge cases like setting negative values to trigger error handling."
   ]
  },
  {
   "cell_type": "markdown",
   "id": "be931aed-e6ac-4398-a9cc-cd43c98ed91b",
   "metadata": {},
   "source": [
    "### Solution Code"
   ]
  },
  {
   "cell_type": "code",
   "execution_count": 14,
   "id": "57cab10a-c58c-459b-b504-16dc7ee1d0ac",
   "metadata": {},
   "outputs": [],
   "source": [
    "# Approach1: Brute Force Approach \n",
    "class Person:\n",
    "    def __init__(self, age):\n",
    "        self._age = None\n",
    "        self.age = age\n",
    "\n",
    "    @property\n",
    "    def age(self):\n",
    "        return f\"Age is: {self._age}\"\n",
    "\n",
    "    @age.setter\n",
    "    def age(self, value):\n",
    "        if value < 0:\n",
    "            raise ValueError(\"Age cannot be negative\")\n",
    "        self._age = value"
   ]
  },
  {
   "cell_type": "code",
   "execution_count": 15,
   "id": "db59700b-0b30-49cd-b793-084565ed38f3",
   "metadata": {},
   "outputs": [
    {
     "name": "stdout",
     "output_type": "stream",
     "text": [
      "Age is: 25\n",
      "Age is: 30\n",
      "Age cannot be negative\n"
     ]
    }
   ],
   "source": [
    "# Example\n",
    "try:\n",
    "    p = Person(25)\n",
    "    print(p.age)\n",
    "\n",
    "    p.age = 30\n",
    "    print(p.age)\n",
    "\n",
    "    p.age = -5\n",
    "except ValueError as e:\n",
    "    print(e)"
   ]
  },
  {
   "cell_type": "markdown",
   "id": "9febed86-bc77-49f3-aa50-7adfe033688a",
   "metadata": {},
   "source": [
    "### Alternative Solution"
   ]
  },
  {
   "cell_type": "code",
   "execution_count": 16,
   "id": "c10bd808-db0c-40d2-bf3f-9d1315fb9f7f",
   "metadata": {},
   "outputs": [],
   "source": [
    "# Approach 2: Using Tradi,tional Getters and Setters (No Decorators)\n",
    "class person:\n",
    "    def __init__(self,age):\n",
    "        self.age = None\n",
    "        self.set_age(age)\n",
    "\n",
    "    def get_age(self):\n",
    "        return f\"Age is: {self._age}\"\n",
    "\n",
    "    def set_age(self, value):\n",
    "        if value < 0:\n",
    "            raise ValueError(\"Age cannot be Negative\")\n",
    "        self._age = value"
   ]
  },
  {
   "cell_type": "code",
   "execution_count": 17,
   "id": "0efc92f5-0fbc-472e-9058-88ff763b4107",
   "metadata": {},
   "outputs": [
    {
     "name": "stdout",
     "output_type": "stream",
     "text": [
      "Age is: 25\n",
      "Age is: 30\n",
      "Age cannot be Negative\n"
     ]
    }
   ],
   "source": [
    "# Example\n",
    "\n",
    "try:\n",
    "    p = person(25)\n",
    "    print(p.get_age())\n",
    "\n",
    "    p.set_age(30)\n",
    "    print(p.get_age())\n",
    "    \n",
    "    p.set_age(-1)\n",
    "except ValueError as e:\n",
    "    print(e)"
   ]
  },
  {
   "cell_type": "markdown",
   "id": "462318bf-672f-4468-9122-070cf70b5af5",
   "metadata": {},
   "source": [
    "## Complexity Analysis"
   ]
  },
  {
   "cell_type": "markdown",
   "id": "3ff61a2e-affa-44cc-b483-573f9dc9b166",
   "metadata": {},
   "source": [
    "Time Complexity: \n",
    "\n",
    "- Getter: O(1) \n",
    "- Setter(with validation): O(1)\n",
    "\n",
    "Space Complexity: \n",
    "\n",
    "- O(1) per object instance (for storing _age). "
   ]
  },
  {
   "cell_type": "markdown",
   "id": "54ae9b22-a3fd-4d97-807c-9deb388d03b1",
   "metadata": {},
   "source": [
    "#### Thank You!!"
   ]
  }
 ],
 "metadata": {
  "kernelspec": {
   "display_name": "Python 3 (ipykernel)",
   "language": "python",
   "name": "python3"
  },
  "language_info": {
   "codemirror_mode": {
    "name": "ipython",
    "version": 3
   },
   "file_extension": ".py",
   "mimetype": "text/x-python",
   "name": "python",
   "nbconvert_exporter": "python",
   "pygments_lexer": "ipython3",
   "version": "3.8.10"
  }
 },
 "nbformat": 4,
 "nbformat_minor": 5
}
