{
 "cells": [
  {
   "cell_type": "markdown",
   "id": "8a36d3b1-1a8d-478e-8060-6477472e6bd4",
   "metadata": {},
   "source": [
    "# **Problem Statement**  \n",
    "## **24. Demonstrate the use of yield and yield from in generators**"
   ]
  },
  {
   "cell_type": "markdown",
   "id": "12b96244-784f-44f1-b72a-e69e054e8b67",
   "metadata": {},
   "source": [
    "### Identify Constraints & Example Inputs/Outputs\n",
    "\n",
    "Constraints:\n",
    "\n",
    "- Use a nested iterable structure (e.g., list of lists) to demonstrate yield from.\n",
    "- Compare behavior with standard yield.\n",
    "\n",
    "---\n",
    "Example Usage: \n",
    "\n",
    "```python\n",
    "nested = [[1, 2], [3, 4]]\n",
    "\n",
    "Expected Output with yield from: \n",
    "1,2,3,4\n",
    "\n",
    "---"
   ]
  },
  {
   "cell_type": "markdown",
   "id": "b68e7cad-ea42-4bb3-a20e-a91cba6d7424",
   "metadata": {},
   "source": [
    "### Solution Approach"
   ]
  },
  {
   "cell_type": "markdown",
   "id": "144b599f-addb-4686-8425-1f6e6f862acd",
   "metadata": {},
   "source": [
    "What is yield?\n",
    "\n",
    "- yield is used in generator functions to produce a value and pause the function's execution, resuming when next() is called.\n",
    "\n",
    "What is yield from?\n",
    "\n",
    "- yield from is used to delegate part of a generator to another generator or iterable.\n",
    "- It simplifies code when iterating over nested generators or lists.\n",
    "\n",
    "When to use what?\n",
    "\n",
    "- Use yield when you want fine-grained control.\n",
    "- Use yield from to simplify delegation to sub-generators or sub-iterables."
   ]
  },
  {
   "cell_type": "markdown",
   "id": "be931aed-e6ac-4398-a9cc-cd43c98ed91b",
   "metadata": {},
   "source": [
    "### Solution Code"
   ]
  },
  {
   "cell_type": "code",
   "execution_count": 1,
   "id": "57cab10a-c58c-459b-b504-16dc7ee1d0ac",
   "metadata": {},
   "outputs": [],
   "source": [
    "# Approach 1: Brute Force Approach (Using only yield)\n",
    "def flat_yield(nested_list):\n",
    "    for sublist in nested_list:\n",
    "        for item in sublist:\n",
    "            yield item"
   ]
  },
  {
   "cell_type": "code",
   "execution_count": 3,
   "id": "db59700b-0b30-49cd-b793-084565ed38f3",
   "metadata": {},
   "outputs": [
    {
     "name": "stdout",
     "output_type": "stream",
     "text": [
      "Using yield:\n",
      "1 2 3 4 "
     ]
    }
   ],
   "source": [
    "# Test\n",
    "nested = [[1, 2], [3, 4]]\n",
    "\n",
    "print(\"Using yield:\")\n",
    "for value in flat_yield(nested):\n",
    "    print(value, end=' ')"
   ]
  },
  {
   "cell_type": "markdown",
   "id": "9febed86-bc77-49f3-aa50-7adfe033688a",
   "metadata": {},
   "source": [
    "### Alternative Solution"
   ]
  },
  {
   "cell_type": "code",
   "execution_count": 4,
   "id": "c10bd808-db0c-40d2-bf3f-9d1315fb9f7f",
   "metadata": {},
   "outputs": [],
   "source": [
    "# Approach 2: Optimized Approach (Using yield from)\n",
    "def flat_yield_from(nested_list):\n",
    "    for sublist in nested_list:\n",
    "        yield from sublist"
   ]
  },
  {
   "cell_type": "code",
   "execution_count": 6,
   "id": "0efc92f5-0fbc-472e-9058-88ff763b4107",
   "metadata": {},
   "outputs": [
    {
     "name": "stdout",
     "output_type": "stream",
     "text": [
      "Using yield from:\n",
      "3 6 7 10 "
     ]
    }
   ],
   "source": [
    "# Test\n",
    "nested = [[3,6], [7, 10]]\n",
    "\n",
    "print(\"Using yield from:\")\n",
    "for value in flat_yield(nested):\n",
    "    print(value, end=' ')"
   ]
  },
  {
   "cell_type": "markdown",
   "id": "6166f4d1-dab5-4dbf-80b8-9915d45e9b95",
   "metadata": {},
   "source": [
    "### Another Approaches (We can also run recursion to flatten arbitraily deep lists using yield from):"
   ]
  },
  {
   "cell_type": "code",
   "execution_count": 10,
   "id": "4d0d013e-d458-4d25-8939-eac27ab44604",
   "metadata": {},
   "outputs": [
    {
     "name": "stdout",
     "output_type": "stream",
     "text": [
      "recursively flatten:\n",
      "12345"
     ]
    }
   ],
   "source": [
    "def recursive_flatten(lst):\n",
    "    for item in lst:\n",
    "        if isinstance(item, list):\n",
    "            yield from recursive_flatten(item)\n",
    "        else:\n",
    "            yield item\n",
    "\n",
    "nested = [1,[2,[3,4]],5]\n",
    "print('recursively flatten:')\n",
    "for i in recursive_flatten(nested):\n",
    "    print(i, end='')"
   ]
  },
  {
   "cell_type": "markdown",
   "id": "462318bf-672f-4468-9122-070cf70b5af5",
   "metadata": {},
   "source": [
    "## Complexity Analysis"
   ]
  },
  {
   "cell_type": "markdown",
   "id": "3ff61a2e-affa-44cc-b483-573f9dc9b166",
   "metadata": {},
   "source": [
    "Time Complexity: \n",
    "- Both `yield` and `yield from` approaches traverse all elements -> O(n)\n",
    "  \n",
    "Space Complexity: \n",
    "- Generator yields onje value at a time -> O(1) auxiliary space"
   ]
  },
  {
   "cell_type": "markdown",
   "id": "54ae9b22-a3fd-4d97-807c-9deb388d03b1",
   "metadata": {},
   "source": [
    "#### Thank You!!"
   ]
  }
 ],
 "metadata": {
  "kernelspec": {
   "display_name": "Python 3 (ipykernel)",
   "language": "python",
   "name": "python3"
  },
  "language_info": {
   "codemirror_mode": {
    "name": "ipython",
    "version": 3
   },
   "file_extension": ".py",
   "mimetype": "text/x-python",
   "name": "python",
   "nbconvert_exporter": "python",
   "pygments_lexer": "ipython3",
   "version": "3.8.10"
  }
 },
 "nbformat": 4,
 "nbformat_minor": 5
}
