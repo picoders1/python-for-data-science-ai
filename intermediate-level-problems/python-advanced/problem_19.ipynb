{
 "cells": [
  {
   "cell_type": "markdown",
   "id": "8a36d3b1-1a8d-478e-8060-6477472e6bd4",
   "metadata": {},
   "source": [
    "# **Problem Statement**  \n",
    "## **19. Implement a caching mechanism using decorators.**"
   ]
  },
  {
   "cell_type": "markdown",
   "id": "3250a3fd-568d-417b-9855-8c3ba7ba4aba",
   "metadata": {},
   "source": [
    "Design and implement a caching mechanism in Python using decorators. The decorator should store the result of a function call based on its input arguments and return the cached result when the same inputs are encountered again."
   ]
  },
  {
   "cell_type": "markdown",
   "id": "12b96244-784f-44f1-b72a-e69e054e8b67",
   "metadata": {},
   "source": [
    "### Identify Constraints & Example Inputs/Outputs\n",
    "\n",
    "Constraints:\n",
    "\n",
    "- Input arguments must be hashable (for dictionary keys).\n",
    "- Handle both positional and keyword arguments.\n",
    "- Should work for pure functions (no side effects).\n",
    "\n",
    "---\n",
    "Example Usage: \n",
    "\n",
    "```python\n",
    "@cache_decorator\n",
    "def slow_add(a, b):\n",
    "    time.sleep(2)\n",
    "    return a + b\n",
    "\n",
    "slow_add(2, 3)  # Takes time\n",
    "slow_add(2, 3)  # Returns instantly from cache\n"
   ]
  },
  {
   "cell_type": "markdown",
   "id": "b68e7cad-ea42-4bb3-a20e-a91cba6d7424",
   "metadata": {},
   "source": [
    "### Solution Approach"
   ]
  },
  {
   "cell_type": "markdown",
   "id": "144b599f-addb-4686-8425-1f6e6f862acd",
   "metadata": {},
   "source": [
    "Step1: Define a decorator cache_decorator.\n",
    "\n",
    "Step2: Inside the decorator, maintain a dictionary as a cache to store results.\n",
    "\n",
    "Step3: Use the function's arguments (positional + keyword) as a key for the cache.\n",
    "\n",
    "Step4: On function call:\n",
    "\n",
    "- If the arguments exist in the cache, return the cached result.\n",
    "- Otherwise, compute, store in cache, and return the result.\n",
    "\n",
    "Step5: Ensure the cache is maintained even after multiple calls."
   ]
  },
  {
   "cell_type": "markdown",
   "id": "be931aed-e6ac-4398-a9cc-cd43c98ed91b",
   "metadata": {},
   "source": [
    "### Solution Code"
   ]
  },
  {
   "cell_type": "code",
   "execution_count": 9,
   "id": "57cab10a-c58c-459b-b504-16dc7ee1d0ac",
   "metadata": {},
   "outputs": [],
   "source": [
    "# Approach1: Brute Force (Basic Caching with Positional Arguments Only):\n",
    "def cache_decorator(func):\n",
    "    cache = {}\n",
    "    def wrapper(*args):\n",
    "        if args in cache:\n",
    "            print(\"Returning from cache.\")\n",
    "            return cache[args]\n",
    "        result = func(*args)\n",
    "        cache[args] = result\n",
    "        return result\n",
    "    return wrapper"
   ]
  },
  {
   "cell_type": "code",
   "execution_count": 11,
   "id": "654844ec-668b-43fd-9314-c22b5d127564",
   "metadata": {},
   "outputs": [
    {
     "name": "stdout",
     "output_type": "stream",
     "text": [
      "10\n",
      "14\n"
     ]
    }
   ],
   "source": [
    "## Usage\n",
    "import time\n",
    "\n",
    "@cache_decorator\n",
    "def slow_add(a, b):\n",
    "    time.sleep(2)\n",
    "    return a + b\n",
    "\n",
    "print(slow_add(5, 5))  # Takes 2 seconds\n",
    "print(slow_add(7, 7))  # Returns instantly\n"
   ]
  },
  {
   "cell_type": "markdown",
   "id": "9febed86-bc77-49f3-aa50-7adfe033688a",
   "metadata": {},
   "source": [
    "### Alternative Approaches"
   ]
  },
  {
   "cell_type": "code",
   "execution_count": 12,
   "id": "c10bd808-db0c-40d2-bf3f-9d1315fb9f7f",
   "metadata": {},
   "outputs": [],
   "source": [
    "# Approach2: Optimized (Handles Positional + Keyword Arguments):\n",
    "from functools import wraps\n",
    "\n",
    "def Cache_Decorator(func):\n",
    "    cache = {}\n",
    "    @wraps(func)\n",
    "    def wrapper(*args, **kwargs):\n",
    "        key = (args, frozenset(kwargs.items()))\n",
    "        if key in cache:\n",
    "            print(\"Returning from cache.\")\n",
    "            return cache[key]\n",
    "        result = func(*args, **kwargs)\n",
    "        cache[key] = result\n",
    "        return result\n",
    "    return wrapper"
   ]
  },
  {
   "cell_type": "code",
   "execution_count": 15,
   "id": "741ebb6e-3da6-41cf-b527-a2a15552852a",
   "metadata": {},
   "outputs": [
    {
     "name": "stdout",
     "output_type": "stream",
     "text": [
      "12\n",
      "18\n"
     ]
    }
   ],
   "source": [
    "## Usage\n",
    "import time\n",
    "\n",
    "@Cache_Decorator\n",
    "def slow_add(a, b):\n",
    "    time.sleep(2)\n",
    "    return a + b\n",
    "\n",
    "print(slow_add(6, 6))  # Takes 2 seconds\n",
    "print(slow_add(9, 9))  # Returns instantly\n"
   ]
  },
  {
   "cell_type": "markdown",
   "id": "462318bf-672f-4468-9122-070cf70b5af5",
   "metadata": {},
   "source": [
    "## Complexity Analysis"
   ]
  },
  {
   "cell_type": "markdown",
   "id": "3ff61a2e-affa-44cc-b483-573f9dc9b166",
   "metadata": {},
   "source": [
    "Time Complexity: \n",
    "- Without cache: O(n), where n is time taken by the function logic.\n",
    "- With cache: O(1) after first call for same inputs.\n",
    "\n",
    "Space Complexity: \n",
    "- O(k), where k is the number of unique argument combinations stored in the cache. "
   ]
  },
  {
   "cell_type": "markdown",
   "id": "54ae9b22-a3fd-4d97-807c-9deb388d03b1",
   "metadata": {},
   "source": [
    "#### Thank You!!"
   ]
  }
 ],
 "metadata": {
  "kernelspec": {
   "display_name": "Python 3 (ipykernel)",
   "language": "python",
   "name": "python3"
  },
  "language_info": {
   "codemirror_mode": {
    "name": "ipython",
    "version": 3
   },
   "file_extension": ".py",
   "mimetype": "text/x-python",
   "name": "python",
   "nbconvert_exporter": "python",
   "pygments_lexer": "ipython3",
   "version": "3.8.10"
  }
 },
 "nbformat": 4,
 "nbformat_minor": 5
}
