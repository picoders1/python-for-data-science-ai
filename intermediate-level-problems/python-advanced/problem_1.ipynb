{
 "cells": [
  {
   "cell_type": "markdown",
   "id": "8a36d3b1-1a8d-478e-8060-6477472e6bd4",
   "metadata": {},
   "source": [
    "# **Problem Statement**  \n",
    "## **1. Implement a context manager using a class**"
   ]
  },
  {
   "cell_type": "markdown",
   "id": "97e8eaf4-c67c-4ef9-87dd-a1c242b88a5a",
   "metadata": {},
   "source": [
    "Here, I am required to create a custom context manager (using a class and `__enter__`, `__exit__` methods) that opens a file, writes a specific line to it, and ensures the file is closed properly—regardless of whether an exception occurs."
   ]
  },
  {
   "cell_type": "markdown",
   "id": "12b96244-784f-44f1-b72a-e69e054e8b67",
   "metadata": {},
   "source": [
    "### Identify Constraints & Example Inputs/Outputs\n",
    "\n",
    "Constraints:\n",
    "\n",
    "- Use Python's context management protocol (`__enter__`, `__exit__`).\n",
    "- Must work with `with` block syntax.\n",
    "\n",
    "---\n",
    "Example Usage: \n",
    "\n",
    "```python\n",
    "with FileManager(\"sample.txt\", \"w\") as f:\n",
    "    f.write(\"Hello, World!\")\n",
    "\n",
    "---"
   ]
  },
  {
   "cell_type": "markdown",
   "id": "b68e7cad-ea42-4bb3-a20e-a91cba6d7424",
   "metadata": {},
   "source": [
    "### Solution Approach"
   ]
  },
  {
   "cell_type": "markdown",
   "id": "144b599f-addb-4686-8425-1f6e6f862acd",
   "metadata": {},
   "source": [
    "Step1: Define a class called `FileManager`.\n",
    "\n",
    "Step2: Initialize it with a filename and mode (e.g., 'w', 'r').\n",
    "\n",
    "Step3: Implement the `__enter__` method:\n",
    "   - Open the file and return the file object.\n",
    "\n",
    "Step4: Implement the `__exit__` method:\n",
    "   - Close the file safely.\n",
    "   - Handle any exceptions and optionally suppress them.\n"
   ]
  },
  {
   "cell_type": "markdown",
   "id": "be931aed-e6ac-4398-a9cc-cd43c98ed91b",
   "metadata": {},
   "source": [
    "### Solution Code"
   ]
  },
  {
   "cell_type": "code",
   "execution_count": 6,
   "id": "57cab10a-c58c-459b-b504-16dc7ee1d0ac",
   "metadata": {},
   "outputs": [],
   "source": [
    "# Approach 1: Brute Force Approach (Basic Implementation)\n",
    "class FileManager:\n",
    "    def __init__(self, filename, mode):\n",
    "        self.filename = filename\n",
    "        self.mode = mode\n",
    "        self.file = None\n",
    "\n",
    "    def __enter__(self):\n",
    "        self.file = open(self.filename, self.mode)\n",
    "        return self.file\n",
    "\n",
    "    def __exit__(self, exc_type, exc_value, traceback):\n",
    "        if self.file:\n",
    "            self.file.close()\n",
    "        if exc_type is not None:\n",
    "            print(f\"An error occurred: {exc_value}\")\n",
    "        return False  # Don't suppress exceptions"
   ]
  },
  {
   "cell_type": "code",
   "execution_count": 7,
   "id": "db59700b-0b30-49cd-b793-084565ed38f3",
   "metadata": {},
   "outputs": [],
   "source": [
    "# Example\n",
    "with FileManager(\"sample.txt\", \"w\") as f:\n",
    "    f.write(\"This is a test line too.\\n\")"
   ]
  },
  {
   "cell_type": "markdown",
   "id": "9febed86-bc77-49f3-aa50-7adfe033688a",
   "metadata": {},
   "source": [
    "### Alternative Solution"
   ]
  },
  {
   "cell_type": "markdown",
   "id": "d677803d-5e63-441a-ae62-38225a4df2b5",
   "metadata": {},
   "source": [
    "- We can also use `contextlib` module for a decorator-based context manager, \n",
    "but since the problem asks for a class-based approach, this is the most appropriate."
   ]
  },
  {
   "cell_type": "markdown",
   "id": "462318bf-672f-4468-9122-070cf70b5af5",
   "metadata": {},
   "source": [
    "## Complexity Analysis"
   ]
  },
  {
   "cell_type": "markdown",
   "id": "3ff61a2e-affa-44cc-b483-573f9dc9b166",
   "metadata": {},
   "source": [
    "Time Complexity: O(1) -> for file open/close and write operations (constant time).\n",
    "\n",
    "Space Complexity: O(1) -> no extra data structures are used."
   ]
  },
  {
   "cell_type": "markdown",
   "id": "54ae9b22-a3fd-4d97-807c-9deb388d03b1",
   "metadata": {},
   "source": [
    "#### Thank You!!"
   ]
  }
 ],
 "metadata": {
  "kernelspec": {
   "display_name": "Python 3 (ipykernel)",
   "language": "python",
   "name": "python3"
  },
  "language_info": {
   "codemirror_mode": {
    "name": "ipython",
    "version": 3
   },
   "file_extension": ".py",
   "mimetype": "text/x-python",
   "name": "python",
   "nbconvert_exporter": "python",
   "pygments_lexer": "ipython3",
   "version": "3.8.10"
  }
 },
 "nbformat": 4,
 "nbformat_minor": 5
}
