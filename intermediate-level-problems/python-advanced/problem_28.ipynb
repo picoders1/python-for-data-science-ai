{
 "cells": [
  {
   "cell_type": "markdown",
   "id": "8a36d3b1-1a8d-478e-8060-6477472e6bd4",
   "metadata": {},
   "source": [
    "# **Problem Statement**  \n",
    "## **28. Implement a chain of responsibility pattern**"
   ]
  },
  {
   "cell_type": "markdown",
   "id": "3250a3fd-568d-417b-9855-8c3ba7ba4aba",
   "metadata": {},
   "source": [
    "- Implement the Chain of Responsibility pattern using Python.  \n",
    "- This pattern decouples the sender of a request from its receivers by giving multiple objects a chance to handle the request. Each handler decides either to process the request or pass it to the next handler in the chain."
   ]
  },
  {
   "cell_type": "markdown",
   "id": "12b96244-784f-44f1-b72a-e69e054e8b67",
   "metadata": {},
   "source": [
    "### Identify Constraints & Example Inputs/Outputs\n",
    "\n",
    "Constraints:\n",
    "\n",
    "- Each handler must decide if it will handle the request.\n",
    "- If not, it must pass the request to the next handler.\n",
    "\n",
    "---\n",
    "Example Usage: \n",
    "\n",
    "Input: A logging request with severity level \"ERROR\"\n",
    "\n",
    "Handlers: Debug -> Info -> Warning -> Error\n",
    "\n",
    "Output:\n",
    "\n",
    "ErrorHandler: Handling \"ERROR\""
   ]
  },
  {
   "cell_type": "markdown",
   "id": "b68e7cad-ea42-4bb3-a20e-a91cba6d7424",
   "metadata": {},
   "source": [
    "### Solution Approach"
   ]
  },
  {
   "cell_type": "markdown",
   "id": "144b599f-addb-4686-8425-1f6e6f862acd",
   "metadata": {},
   "source": [
    "Step1: Define a base handler class with:\n",
    "   - A method `set_next()` to define the next handler in the chain.\n",
    "   - A method `handle()` that calls the next handler if it can't handle the request.\n",
    "\n",
    "Step2: Create specific handler classes that inherit from the base and override the `handle()` method.\n",
    "\n",
    "Step3: Instantiate the handlers and chain them using `set_next()`.\n",
    "\n",
    "Step4: Send a request to the first handler in the chain."
   ]
  },
  {
   "cell_type": "markdown",
   "id": "be931aed-e6ac-4398-a9cc-cd43c98ed91b",
   "metadata": {},
   "source": [
    "### Solution Code"
   ]
  },
  {
   "cell_type": "code",
   "execution_count": 1,
   "id": "57cab10a-c58c-459b-b504-16dc7ee1d0ac",
   "metadata": {},
   "outputs": [
    {
     "name": "stdout",
     "output_type": "stream",
     "text": [
      "InfoHandler: Handling 'INFO'\n",
      "ErrorHandler: Handling 'ERROR'\n",
      "No handler found for TRACE\n"
     ]
    }
   ],
   "source": [
    "# Approach1: Brute Force Approach \n",
    "class Handler:\n",
    "    def __init__(self):\n",
    "        self.next_handler = None\n",
    "\n",
    "    def set_next(self, handler):\n",
    "        self.next_handler = handler\n",
    "        return handler\n",
    "\n",
    "    def handle(self, request):\n",
    "        if self.next_handler:\n",
    "            return self.next_handler.handle(request)\n",
    "        return f\"No handler found for {request}\"\n",
    "\n",
    "class DebugHandler(Handler):\n",
    "    def handle(self, request):\n",
    "        if request == \"DEBUG\":\n",
    "            return f\"DebugHandler: Handling '{request}'\"\n",
    "        return super().handle(request)\n",
    "\n",
    "class InfoHandler(Handler):\n",
    "    def handle(self, request):\n",
    "        if request == \"INFO\":\n",
    "            return f\"InfoHandler: Handling '{request}'\"\n",
    "        return super().handle(request)\n",
    "\n",
    "class ErrorHandler(Handler):\n",
    "    def handle(self, request):\n",
    "        if request == \"ERROR\":\n",
    "            return f\"ErrorHandler: Handling '{request}'\"\n",
    "        return super().handle(request)\n",
    "\n",
    "# Brute force chain\n",
    "debug = DebugHandler()\n",
    "info = InfoHandler()\n",
    "error = ErrorHandler()\n",
    "\n",
    "debug.set_next(info).set_next(error)\n",
    "\n",
    "print(debug.handle(\"INFO\"))\n",
    "print(debug.handle(\"ERROR\"))\n",
    "print(debug.handle(\"TRACE\"))"
   ]
  },
  {
   "cell_type": "markdown",
   "id": "9febed86-bc77-49f3-aa50-7adfe033688a",
   "metadata": {},
   "source": [
    "### Alternative Solution"
   ]
  },
  {
   "cell_type": "code",
   "execution_count": 2,
   "id": "c10bd808-db0c-40d2-bf3f-9d1315fb9f7f",
   "metadata": {},
   "outputs": [
    {
     "name": "stdout",
     "output_type": "stream",
     "text": [
      "DEBUGHandler: Handling 'DEBUG'\n",
      "ERRORHandler: Handling 'ERROR'\n",
      "No handler found for TRACE\n"
     ]
    }
   ],
   "source": [
    "# Approach2: Optimized Approach (Using dynamic handler registration (optimized and scalable))\n",
    "class BaseHandler:\n",
    "    def __init__(self, level):\n",
    "        self.level = level\n",
    "        self.next_handler = None\n",
    "\n",
    "    def set_next(self, handler):\n",
    "        self.next_handler = handler\n",
    "        return handler\n",
    "\n",
    "    def handle(self, request):\n",
    "        if request == self.level:\n",
    "            return f\"{self.level}Handler: Handling '{request}'\"\n",
    "        elif self.next_handler:\n",
    "            return self.next_handler.handle(request)\n",
    "        return f\"No handler found for {request}\"\n",
    "\n",
    "# Dynamically define chain\n",
    "handler_chain = BaseHandler(\"DEBUG\")\n",
    "handler_chain.set_next(BaseHandler(\"INFO\")).set_next(BaseHandler(\"ERROR\"))\n",
    "\n",
    "print(handler_chain.handle(\"DEBUG\"))\n",
    "print(handler_chain.handle(\"ERROR\"))\n",
    "print(handler_chain.handle(\"TRACE\"))"
   ]
  },
  {
   "cell_type": "code",
   "execution_count": 4,
   "id": "0efc92f5-0fbc-472e-9058-88ff763b4107",
   "metadata": {},
   "outputs": [
    {
     "name": "stdout",
     "output_type": "stream",
     "text": [
      "True\n"
     ]
    }
   ],
   "source": [
    "# Example\n",
    "\n",
    "x = MySingleton()\n",
    "y = MySingleton()\n",
    "print(x is y)  # True"
   ]
  },
  {
   "cell_type": "markdown",
   "id": "462318bf-672f-4468-9122-070cf70b5af5",
   "metadata": {},
   "source": [
    "## Complexity Analysis"
   ]
  },
  {
   "cell_type": "markdown",
   "id": "3ff61a2e-affa-44cc-b483-573f9dc9b166",
   "metadata": {},
   "source": [
    "Time Complexity: \n",
    "- Worst-case: O(n), where `n` is the number of handlers in the chain.\n",
    "\n",
    "Space Complexity: \n",
    "- O(n) for storing the chain of handlers."
   ]
  },
  {
   "cell_type": "markdown",
   "id": "54ae9b22-a3fd-4d97-807c-9deb388d03b1",
   "metadata": {},
   "source": [
    "#### Thank You!!"
   ]
  }
 ],
 "metadata": {
  "kernelspec": {
   "display_name": "Python 3 (ipykernel)",
   "language": "python",
   "name": "python3"
  },
  "language_info": {
   "codemirror_mode": {
    "name": "ipython",
    "version": 3
   },
   "file_extension": ".py",
   "mimetype": "text/x-python",
   "name": "python",
   "nbconvert_exporter": "python",
   "pygments_lexer": "ipython3",
   "version": "3.8.10"
  }
 },
 "nbformat": 4,
 "nbformat_minor": 5
}
