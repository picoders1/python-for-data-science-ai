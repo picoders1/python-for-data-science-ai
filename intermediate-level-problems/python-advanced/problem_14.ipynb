{
 "cells": [
  {
   "cell_type": "markdown",
   "id": "8a36d3b1-1a8d-478e-8060-6477472e6bd4",
   "metadata": {},
   "source": [
    "# **Problem Statement**  \n",
    "## **14. Implement a plugin system using dynamic imports.**"
   ]
  },
  {
   "cell_type": "markdown",
   "id": "3250a3fd-568d-417b-9855-8c3ba7ba4aba",
   "metadata": {},
   "source": [
    "- Design a Python plugin architecture where new functionality can be added as separate modules (plugins) and dynamically loaded at runtime. \n",
    "\n",
    "- This will allow extensibility without modifying the core application code."
   ]
  },
  {
   "cell_type": "markdown",
   "id": "12b96244-784f-44f1-b72a-e69e054e8b67",
   "metadata": {},
   "source": [
    "### Identify Constraints & Example Inputs/Outputs\n",
    "\n",
    "Constraints:\n",
    "\n",
    "- Each plugin must follow a defined interface (e.g., expose a run() function).\n",
    "\n",
    "- Plugin files should reside in a specific directory (e.g., plugins/).\n",
    "\n",
    "- Core application should be able to discover and execute all plugins.\n",
    "\n",
    "- Plugins may perform various tasks: print messages, perform calculations, etc.\n",
    "\n",
    
    "Example Usage: \n",
    "\n",
    "```python\n",
    "def run():\n",
    "    return \"Hello from plugin!\"\n",
    "\n",
    "Output:\n",
    "\n",
    "[\"Hello from plugin!\"]\n",
    "\n"
   ]
  },
  {
   "cell_type": "markdown",
   "id": "b68e7cad-ea42-4bb3-a20e-a91cba6d7424",
   "metadata": {},
   "source": [
    "### Solution Approach"
   ]
  },
  {
   "cell_type": "markdown",
   "id": "144b599f-addb-4686-8425-1f6e6f862acd",
   "metadata": {},
   "source": [
    "Step1: Define Plugin Interface: Set a convention where each plugin must implement a run() function.\n",
    "\n",
    "Step2: Directory Structure: Store plugins in a separate folder (e.g., plugins/).\n",
    "\n",
    "Step3: Dynamic Import: Use importlib to dynamically load Python modules from the plugin folder.\n",
    "\n",
    "Step4: Execution Logic: Iterate through all Python files in the plugins directory and execute their run() method.\n",
    "\n",
    "Step5: Error Handling: Ensure plugins that do not conform to the interface are skipped or raise warnings."
   ]
  },
  {
   "cell_type": "markdown",
   "id": "be931aed-e6ac-4398-a9cc-cd43c98ed91b",
   "metadata": {},
   "source": [
    "### Solution Code"
   ]
  },
  {
   "cell_type": "code",
   "execution_count": null,
   "id": "fa42e10e-6712-43fb-8379-3b8418ada7e3",
   "metadata": {},
   "outputs": [],
   "source": [
    "# Approach1: Brute Force Approach \n",
    "# Brute-force plugin loader without validations\n",
    "import os\n",
    "import importlib.util\n",
    "\n",
    "plugin_outputs = []\n",
    "\n",
    "plugin_folder = \"plugins\"\n",
    "\n",
    "for filename in os.listdir(plugin_folder):\n",
    "    if filename.endswith(\".py\"):\n",
    "        filepath = os.path.join(plugin_folder, filename)\n",
    "        module_name = filename[:-3]\n",
    "        \n",
    "        spec = importlib.util.spec_from_file_location(module_name, filepath)\n",
    "        module = importlib.util.module_from_spec(spec)\n",
    "        spec.loader.exec_module(module)\n",
    "        \n",
    "        if hasattr(module, \"run\"):\n",
    "            plugin_outputs.append(module.run())\n",
    "\n",
    "print(plugin_outputs)"
   ]
  },
  {
   "cell_type": "markdown",
   "id": "9febed86-bc77-49f3-aa50-7adfe033688a",
   "metadata": {},
   "source": [
    "### Alternative Solution"
   ]
  },
  {
   "cell_type": "code",
   "execution_count": null,
   "id": "1d487459-d372-4a6d-80fe-018f48a29f52",
   "metadata": {},
   "outputs": [],
   "source": [
    "# Approach2: Optimized Approach\n",
    "import os\n",
    "import importlib.util\n",
    "\n",
    "def load_plugins(folder_path):\n",
    "    plugins = []\n",
    "    for file in os.listdir(folder_path):\n",
    "        if file.endswith(\".py\"):\n",
    "            try:\n",
    "                module_path = os.path.join(folder_path, file)\n",
    "                module_name = file[:-3]\n",
    "                \n",
    "                spec = importlib.util.spec_from_file_location(module_name, module_path)\n",
    "                module = importlib.util.module_from_spec(spec)\n",
    "                spec.loader.exec_module(module)\n",
    "                \n",
    "                if hasattr(module, \"run\") and callable(module.run):\n",
    "                    plugins.append(module.run())\n",
    "                else:\n",
    "                    print(f\"⚠️ Skipping {file}: No 'run()' function found.\")\n",
    "            except Exception as e:\n",
    "                print(f\"❌ Error loading {file}: {e}\")\n",
    "    return plugins\n",
    "\n",
    "plugin_outputs = load_plugins(\"plugins\")\n",
    "print(plugin_outputs)"
   ]
  },
  {
   "cell_type": "markdown",
   "id": "462318bf-672f-4468-9122-070cf70b5af5",
   "metadata": {},
   "source": [
    "## Complexity Analysis"
   ]
  },
  {
   "cell_type": "markdown",
   "id": "3ff61a2e-affa-44cc-b483-573f9dc9b166",
   "metadata": {},
   "source": [
    "Time Complexity: \n",
    "\n",
    "- Scanning directory: O(n) where n is the number of plugin files.\n",
    "\n",
    "- Dynamic import per file: roughly O(1) per module assuming file size is constant.\n",
    "\n",
    "Space Complexity:\n",
    "\n",
    "- O(n) for storing plugin outputs in memory."
   ]
  },
  {
   "cell_type": "markdown",
   "id": "54ae9b22-a3fd-4d97-807c-9deb388d03b1",
   "metadata": {},
   "source": [
    "#### Thank You!!"
   ]
  },
  {
   "cell_type": "code",
   "execution_count": null,
   "id": "addd2561-698a-4450-bd44-51def148cc54",
   "metadata": {},
   "outputs": [],
   "source": []
  }
 ],
 "metadata": {
  "kernelspec": {
   "display_name": "Python 3 (ipykernel)",
   "language": "python",
   "name": "python3"
  },
  "language_info": {
   "codemirror_mode": {
    "name": "ipython",
    "version": 3
   },
   "file_extension": ".py",
   "mimetype": "text/x-python",
   "name": "python",
   "nbconvert_exporter": "python",
   "pygments_lexer": "ipython3",
   "version": "3.8.10"
}
 },
 "nbformat": 4,
 "nbformat_minor": 5
}
