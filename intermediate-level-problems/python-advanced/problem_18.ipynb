{
 "cells": [
  {
   "cell_type": "markdown",
   "id": "8a36d3b1-1a8d-478e-8060-6477472e6bd4",
   "metadata": {},
   "source": [
    "# **Problem Statement**  \n",
    "## **18. Use contextlib to create a context manager.**"
   ]
  },
  {
   "cell_type": "markdown",
   "id": "3250a3fd-568d-417b-9855-8c3ba7ba4aba",
   "metadata": {},
   "source": [
    "Implement a context manager using Python’s contextlib module to handle resource management tasks like opening and closing a file or acquiring and releasing a lock. The goal is to ensure that setup and teardown operations are handled cleanly, even in the presence of exceptions."
   ]
  },
  {
   "cell_type": "markdown",
   "id": "12b96244-784f-44f1-b72a-e69e054e8b67",
   "metadata": {},
   "source": [
    "### Identify Constraints & Example Inputs/Outputs\n",
    "\n",
    "Constraints:\n",
    "\n",
    "- Use contextlib.contextmanager decorator.\n",
    "- Must support both successful and exception-prone blocks.\n",
    "\n",
    "---\n",
    "Example Usage: \n",
    "\n",
    "```python\n",
    "with managed_file('example.txt') as f:\n",
    "    f.write('Hello, world!')\n",
    "\n",
    "```\n",
    "\n",
    "Expected:\n",
    "\n",
    "- File is properly opened and closed, even if an exception occurs inside the block.\n"
   ]
  },
  {
   "cell_type": "markdown",
   "id": "b68e7cad-ea42-4bb3-a20e-a91cba6d7424",
   "metadata": {},
   "source": [
    "### Solution Approach"
   ]
  },
  {
   "cell_type": "markdown",
   "id": "144b599f-addb-4686-8425-1f6e6f862acd",
   "metadata": {},
   "source": [
    "Step1: Use the contextlib.contextmanager decorator from Python's standard library.\n",
    "\n",
    "Step2: Define a generator function where:\n",
    "\n",
    "- We perform setup operations before the yield.\n",
    "- We perform cleanup operations after the yield.\n",
    "\n",
    "Step3: Wrap file operations (or similar resources) inside the context manager.\n",
    "\n",
    "Step4: Ensure cleanup runs regardless of whether the block exits normally or with an exception."
   ]
  },
  {
   "cell_type": "markdown",
   "id": "be931aed-e6ac-4398-a9cc-cd43c98ed91b",
   "metadata": {},
   "source": [
    "### Solution Code"
   ]
  },
  {
   "cell_type": "code",
   "execution_count": 1,
   "id": "57cab10a-c58c-459b-b504-16dc7ee1d0ac",
   "metadata": {},
   "outputs": [
    {
     "name": "stdout",
     "output_type": "stream",
     "text": [
      "sample.txt closed.\n"
     ]
    }
   ],
   "source": [
    "# Approach 1: Brute Force and Optimized Approach \n",
    "from contextlib import contextmanager\n",
    "\n",
    "@contextmanager\n",
    "def managed_file(filename, mode='w'):\n",
    "    f = open(filename, mode)\n",
    "    try:\n",
    "        yield f  # Control is transferred to the block inside `with`\n",
    "    finally:\n",
    "        f.close()\n",
    "        print(f\"{filename} closed.\")\n",
    "\n",
    "# Usage\n",
    "with managed_file('sample.txt') as f:\n",
    "    f.write(\"Context manager example.\")"
   ]
  },
  {
   "cell_type": "markdown",
   "id": "9febed86-bc77-49f3-aa50-7adfe033688a",
   "metadata": {},
   "source": [
    "### Alternative Approaches"
   ]
  },
  {
   "cell_type": "code",
   "execution_count": 3,
   "id": "c10bd808-db0c-40d2-bf3f-9d1315fb9f7f",
   "metadata": {},
   "outputs": [
    {
     "name": "stdout",
     "output_type": "stream",
     "text": [
      "File closed via class context manager.\n"
     ]
    }
   ],
   "source": [
    "# Approach 2: Use a custom class-based context manager by implementing __enter__() and __exit__() methods:\n",
    "class ManagedFile:\n",
    "    def __init__(self, filename, mode='w'):\n",
    "        self.file = open(filename, mode)\n",
    "\n",
    "    def __enter__(self):\n",
    "        return self.file\n",
    "\n",
    "    def __exit__(self, exc_type, exc_val, exc_tb):\n",
    "        self.file.close()\n",
    "        print(\"File closed via class context manager.\")\n",
    "\n",
    "# Usage\n",
    "with ManagedFile('sample.txt') as f:\n",
    "    f.write(\"Context manager example.\")"
   ]
  },
  {
   "cell_type": "markdown",
   "id": "462318bf-672f-4468-9122-070cf70b5af5",
   "metadata": {},
   "source": [
    "## Complexity Analysis"
   ]
  },
  {
   "cell_type": "markdown",
   "id": "3ff61a2e-affa-44cc-b483-573f9dc9b166",
   "metadata": {},
   "source": [
    "Time Complexity: O(1) -> File open/close operations are constant time.\n",
    "\n",
    "Space Complexity: O(1) -> Only a file object is held in memory."
   ]
  },
  {
   "cell_type": "markdown",
   "id": "54ae9b22-a3fd-4d97-807c-9deb388d03b1",
   "metadata": {},
   "source": [
    "#### Thank You!!"
   ]
  }
 ],
 "metadata": {
  "kernelspec": {
   "display_name": "Python 3 (ipykernel)",
   "language": "python",
   "name": "python3"
  },
  "language_info": {
   "codemirror_mode": {
    "name": "ipython",
    "version": 3
   },
   "file_extension": ".py",
   "mimetype": "text/x-python",
   "name": "python",
   "nbconvert_exporter": "python",
   "pygments_lexer": "ipython3",
   "version": "3.8.10"
  }
 },
 "nbformat": 4,
 "nbformat_minor": 5
}
