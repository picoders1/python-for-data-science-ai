{
 "cells": [
  {
   "cell_type": "markdown",
   "id": "8a36d3b1-1a8d-478e-8060-6477472e6bd4",
   "metadata": {},
   "source": [
    "# **Problem Statement**  \n",
    "## **13. Serialize and deserialize Python objects using pickle**"
   ]
  },
  {
   "cell_type": "markdown",
   "id": "3250a3fd-568d-417b-9855-8c3ba7ba4aba",
   "metadata": {},
   "source": [
    "Demonstrate how to serialize (save) and deserialize (load) Python objects using the pickle module."
   ]
  },
  {
   "cell_type": "markdown",
   "id": "12b96244-784f-44f1-b72a-e69e054e8b67",
   "metadata": {},
   "source": [
    "### Identify Constraints & Example Inputs/Outputs\n",
    "\n",
    "Constraints:\n",
    "\n",
    "- Only standard Python objects (dict, list, custom class instances) are supported.\n",
    "\n",
    "- Must use the pickle module from Python’s standard library.\n",
    "\n",
    "---\n",
    "Example Usage: \n",
    "\n",
    "```python\n",
    "Input: {\"name\": \"Alice\", \"age\": 30}\n",
    "Serialized to: binary file `data.pkl`\n",
    "Deserialized Output: {\"name\": \"Alice\", \"age\": 30}\n",
    "\n",
    "---"
   ]
  },
  {
   "cell_type": "markdown",
   "id": "b68e7cad-ea42-4bb3-a20e-a91cba6d7424",
   "metadata": {},
   "source": [
    "### Solution Approach"
   ]
  },
  {
   "cell_type": "markdown",
   "id": "144b599f-addb-4686-8425-1f6e6f862acd",
   "metadata": {},
   "source": [
    "What is Pickling?\n",
    "\n",
    "- Pickling is the process of converting a Python object into a byte stream.\n",
    "\n",
    "- Unpickling is the reverse process.\n",
    "\n",
    "Why Use It?\n",
    "\n",
    "- To save program state (e.g., ML model, user session).\n",
    "\n",
    "- For data transmission between Python programs.\n",
    "\n",
    "Key Functions:\n",
    "\n",
    "- pickle.dump(obj, file): Serializes obj to the file.\n",
    "\n",
    "- pickle.load(file): Deserializes from file to Python object.\n",
    "\n",
    "- pickle.dumps(obj): Serializes obj to a bytes object.\n",
    "\n",
    "- pickle.loads(bytes): Deserializes from bytes to object."
   ]
  },
  {
   "cell_type": "markdown",
   "id": "be931aed-e6ac-4398-a9cc-cd43c98ed91b",
   "metadata": {},
   "source": [
    "### Solution Code"
   ]
  },
  {
   "cell_type": "code",
   "execution_count": 2,
   "id": "57cab10a-c58c-459b-b504-16dc7ee1d0ac",
   "metadata": {},
   "outputs": [
    {
     "name": "stdout",
     "output_type": "stream",
     "text": [
      "Original Data: {'name': 'Alice', 'age': 30, 'hobbies': ['reading', 'cycling']}\n",
      "Loaded Data: {'name': 'Alice', 'age': 30, 'hobbies': ['reading', 'cycling']}\n"
     ]
    }
   ],
   "source": [
    "# Approach 1: Brute Force and Optimized Approach \n",
    "import pickle\n",
    "\n",
    "#sample object\n",
    "data = {\"name\": \"Alice\", \"age\": 30, \"hobbies\":[\"reading\", \"cycling\"]}\n",
    "\n",
    "#Serialize (wridte to file)\n",
    "with open(\"data.pkl\", \"wb\") as file:\n",
    "    pickle.dump(data, file)\n",
    "\n",
    "#Deserialize (read from file)\n",
    "with open(\"data.pkl\", \"rb\") as file:\n",
    "    loaded_data = pickle.load(file)\n",
    "\n",
    "print(\"Original Data:\", data)\n",
    "print(\"Loaded Data:\", loaded_data)"
   ]
  },
  {
   "cell_type": "markdown",
   "id": "462318bf-672f-4468-9122-070cf70b5af5",
   "metadata": {},
   "source": [
    "## Complexity Analysis"
   ]
  },
  {
   "cell_type": "markdown",
   "id": "3ff61a2e-affa-44cc-b483-573f9dc9b166",
   "metadata": {},
   "source": [
    "Time Complexity: \n",
    "\n",
    "- Serialization: O(n), where n is the size of the object (number of elements).\n",
    "\n",
    "- Deserialization: O(n)\n",
    "\n",
    "Space Complexity: \n",
    "\n",
    "- Depends on the size of the object being serialized. The byte stream takes space roughly proportional to the input object."
   ]
  },
  {
   "cell_type": "markdown",
   "id": "54ae9b22-a3fd-4d97-807c-9deb388d03b1",
   "metadata": {},
   "source": [
    "#### Thank You!!"
   ]
  }
 ],
 "metadata": {
  "kernelspec": {
   "display_name": "Python 3 (ipykernel)",
   "language": "python",
   "name": "python3"
  },
  "language_info": {
   "codemirror_mode": {
    "name": "ipython",
    "version": 3
   },
   "file_extension": ".py",
   "mimetype": "text/x-python",
   "name": "python",
   "nbconvert_exporter": "python",
   "pygments_lexer": "ipython3",
   "version": "3.8.10"
  }
 },
 "nbformat": 4,
 "nbformat_minor": 5
}
