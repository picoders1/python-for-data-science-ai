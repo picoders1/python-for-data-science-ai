{
 "cells": [
  {
   "cell_type": "markdown",
   "id": "8a36d3b1-1a8d-478e-8060-6477472e6bd4",
   "metadata": {},
   "source": [
    "# **Problem Statement**  \n",
    "## **25. Implement a custom descriptor for attribute access control**"
   ]
  },
  {
   "cell_type": "markdown",
   "id": "3250a3fd-568d-417b-9855-8c3ba7ba4aba",
   "metadata": {},
   "source": [
    "Create a custom descriptor in Python to control attribute access in a class.\n",
    "The descriptor should allow controlled read/write behavior (e.g., logging, validation, or read-only enforcement) for a specific attribute."
   ]
  },
  {
   "cell_type": "markdown",
   "id": "12b96244-784f-44f1-b72a-e69e054e8b67",
   "metadata": {},
   "source": [
    "### Identify Constraints & Example Inputs/Outputs\n",
    "\n",
    "Constraints:\n",
    "\n",
    "- Use Python's descriptor protocol methods: __get__, __set__, and __delete__.\n",
    "\n",
    "Demonstrate:\n",
    "- Read-only attributes.\n",
    "- Logged access.\n",
    "- Value validation.\n",
    "\n",
    "---\n",
    "Example Usage: \n",
    "\n",
    "```python\n",
    "user = User()\n",
    "user.age = 25\n",
    "print(user.age)\n",
    "user.age = -5  # Should raise an exception\n",
    "\n",
    "```\n",
    "\n",
    "##### Expected Output: \n",
    "\n",
    "Setting age to 25\n",
    "\n",
    "Accessing age: 25\n",
    "\n",
    "ValueError: Age must be a positive integer\n",
    "\n",
    "---"
   ]
  },
  {
   "cell_type": "markdown",
   "id": "b68e7cad-ea42-4bb3-a20e-a91cba6d7424",
   "metadata": {},
   "source": [
    "### Solution Approach"
   ]
  },
  {
   "cell_type": "markdown",
   "id": "144b599f-addb-4686-8425-1f6e6f862acd",
   "metadata": {},
   "source": [
    "What is a Descriptor?\n",
    "\n",
    "- A Python object that implements any of the descriptor methods: __get__, __set__, or __delete__.\n",
    "\n",
    "- Used to customize attribute access in a class.\n",
    "\n",
    "Why use descriptors?\n",
    "\n",
    "- Reusable way to add validation, logging, access control, etc., without repeating logic.\n",
    "\n",
    "Key Methods:\n",
    "\n",
    "- __get__(self, instance, owner) – Called when the attribute is accessed.\n",
    "\n",
    "- __set__(self, instance, value) – Called when a value is assigned.\n",
    "\n",
    "- __delete__(self, instance) – Called when the attribute is deleted."
   ]
  },
  {
   "cell_type": "markdown",
   "id": "be931aed-e6ac-4398-a9cc-cd43c98ed91b",
   "metadata": {},
   "source": [
    "### Solution Code"
   ]
  },
  {
   "cell_type": "code",
   "execution_count": 9,
   "id": "89d51f68-64a8-4ab7-a0f2-fb08ad12b38f",
   "metadata": {},
   "outputs": [
    {
     "name": "stdout",
     "output_type": "stream",
     "text": [
      "setting _age to 30\n",
      "Accessing _age\n",
      "30\n",
      "setting _age to 35\n",
      "Deleting _age\n"
     ]
    }
   ],
   "source": [
    "class LoggedAttribute:\n",
    "    def __init__(self, name):\n",
    "        self.name = '_' + name\n",
    "\n",
    "    def __get__(self, instance, owner):\n",
    "        print(f\"Accessing {self.name}\")\n",
    "        return getattr(instance, self.name)\n",
    "\n",
    "    def __set__(self, instance, value):\n",
    "        print(f\"setting {self.name} to {value}\")\n",
    "        setattr(instance, self.name, value)\n",
    "\n",
    "    def __delete__(self, instance):\n",
    "        print(f\"Deleting {self.name}\")\n",
    "        delattr(instance, self.name)\n",
    "\n",
    "class User:\n",
    "    age = LoggedAttribute(\"age\")\n",
    "\n",
    "    def __init__(self, age):\n",
    "        self.age = age\n",
    "\n",
    "u = User(30)\n",
    "print(u.age)\n",
    "u.age = 35\n",
    "del u.age"
   ]
  },
  {
   "cell_type": "markdown",
   "id": "9febed86-bc77-49f3-aa50-7adfe033688a",
   "metadata": {},
   "source": [
    "### Alternative Solution"
   ]
  },
  {
   "cell_type": "code",
   "execution_count": 12,
   "id": "c10bd808-db0c-40d2-bf3f-9d1315fb9f7f",
   "metadata": {},
   "outputs": [
    {
     "name": "stdout",
     "output_type": "stream",
     "text": [
      "setting _age to 22\n",
      "Accessing _age\n",
      "22\n",
      "setting _age to 25\n"
     ]
    }
   ],
   "source": [
    "# Approach2: Optimized Approach (Descriptor with validation logic)\n",
    "class PositiveInteger:\n",
    "    def __init__(self, name):\n",
    "        self.name = '_' + name\n",
    "\n",
    "    def __get__(self, instance, owner):\n",
    "        print(f\"Accessing {self.name}\")\n",
    "        return getattr(instance, self.name)\n",
    "\n",
    "    def __set__(self, instance, value):\n",
    "        if not isinstance(value, int) or value <= 0:\n",
    "            raise valueError(f\"{self.name[1:]} must be a positive integer\")\n",
    "        print(f\"setting {self.name} to {value}\")\n",
    "        setattr(instance, self.name, value)\n",
    "\n",
    "    def __delete__(self, instance):\n",
    "        raise AttributeError(\"cannot delete attribute\")\n",
    "\n",
    "class Employee:\n",
    "    age = PositiveInteger(\"age\")\n",
    "\n",
    "    def __init__(self, age):\n",
    "        self.age = age\n",
    "\n",
    "e = Employee(22)\n",
    "print(e.age)\n",
    "e.age = 25\n",
    "#del e.age"
   ]
  },
  {
   "cell_type": "markdown",
   "id": "462318bf-672f-4468-9122-070cf70b5af5",
   "metadata": {},
   "source": [
    "## Complexity Analysis"
   ]
  },
  {
   "cell_type": "markdown",
   "id": "3ff61a2e-affa-44cc-b483-573f9dc9b166",
   "metadata": {},
   "source": [
    "Time Complexity: \n",
    "- __get__ / __set__ are constant-time → O(1) per attribute access.\n",
    "\n",
    "Space Complexity: \n",
    "- Extra memory for the descriptor object per attribute → O(1) overhead.\n"
   ]
  },
  {
   "cell_type": "markdown",
   "id": "54ae9b22-a3fd-4d97-807c-9deb388d03b1",
   "metadata": {},
   "source": [
    "#### Thank You!!"
   ]
  }
 ],
 "metadata": {
  "kernelspec": {
   "display_name": "Python 3 (ipykernel)",
   "language": "python",
   "name": "python3"
  },
  "language_info": {
   "codemirror_mode": {
    "name": "ipython",
    "version": 3
   },
   "file_extension": ".py",
   "mimetype": "text/x-python",
   "name": "python",
   "nbconvert_exporter": "python",
   "pygments_lexer": "ipython3",
   "version": "3.8.10"
  }
 },
 "nbformat": 4,
 "nbformat_minor": 5
}
